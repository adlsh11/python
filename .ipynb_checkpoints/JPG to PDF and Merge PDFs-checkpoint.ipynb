{
 "cells": [
  {
   "cell_type": "markdown",
   "metadata": {},
   "source": [
    "# JPG to PDF Converter"
   ]
  },
  {
   "cell_type": "code",
   "execution_count": 2,
   "metadata": {
    "ExecuteTime": {
     "end_time": "2021-07-28T08:13:18.056745Z",
     "start_time": "2021-07-28T08:13:18.033832Z"
    }
   },
   "outputs": [],
   "source": [
    "from PIL import Image\n",
    "import PIL\n",
    "import os\n",
    "import glob"
   ]
  },
  {
   "cell_type": "code",
   "execution_count": 8,
   "metadata": {
    "ExecuteTime": {
     "end_time": "2021-07-28T08:10:12.951154Z",
     "start_time": "2021-07-28T08:10:11.619335Z"
    }
   },
   "outputs": [],
   "source": [
    "im = Image.open(r'C:\\Users\\luc57.DESKTOP-NB5DC80\\Downloads\\20210110_120536 (1).jpg')\n",
    "\n",
    "width, height = im.size\n",
    "newsize = (300, 300)\n",
    "im1 = im1.resize(newsize)\n",
    "# Shows the image in image viewer\n",
    "im1.show()\n",
    "\n",
    "#im1 = im.convert('RGB')\n",
    "#im1.save(r'C:\\Users\\luc57.DESKTOP-NB5DC80\\Downloads\\20210110_120536 (1).pdf')"
   ]
  },
  {
   "cell_type": "code",
   "execution_count": 2,
   "metadata": {
    "ExecuteTime": {
     "end_time": "2021-07-28T08:05:57.271193Z",
     "start_time": "2021-07-28T08:05:57.184579Z"
    }
   },
   "outputs": [],
   "source": [
    "im = Image.open(r'C:\\Users\\luc57.DESKTOP-NB5DC80\\Downloads\\Screenshot_20210728-100137_Stockbit.jpg')\n",
    "im1 = im.convert('RGB')\n",
    "im1.save(r'C:\\Users\\luc57.DESKTOP-NB5DC80\\Downloads\\Screenshot_20210728-100137_Stockbit.pdf')"
   ]
  },
  {
   "cell_type": "markdown",
   "metadata": {},
   "source": [
    "# Merge PDFs"
   ]
  },
  {
   "cell_type": "code",
   "execution_count": 3,
   "metadata": {
    "ExecuteTime": {
     "end_time": "2021-07-28T08:13:21.356018Z",
     "start_time": "2021-07-28T08:13:21.107934Z"
    }
   },
   "outputs": [
    {
     "name": "stderr",
     "output_type": "stream",
     "text": [
      "PdfReadWarning: Xref table not zero-indexed. ID numbers for objects will be corrected. [pdf.py:1736]\n"
     ]
    }
   ],
   "source": [
    "from PyPDF2 import PdfFileMerger\n",
    "os.chdir(r'C:\\Users\\luc57.DESKTOP-NB5DC80\\Downloads')\n",
    "pdfs = ['FPPS.pdf', 'KTP dan Bukti Kecukupan Dana.pdf']\n",
    "\n",
    "merger = PdfFileMerger()\n",
    "\n",
    "for pdf in pdfs:\n",
    "    merger.append(pdf)\n",
    "\n",
    "merger.write(\"Andree_Limardinata_Pooling_BUKA.pdf\")\n",
    "merger.close()"
   ]
  }
 ],
 "metadata": {
  "kernelspec": {
   "display_name": "Python 3",
   "language": "python",
   "name": "python3"
  },
  "language_info": {
   "codemirror_mode": {
    "name": "ipython",
    "version": 3
   },
   "file_extension": ".py",
   "mimetype": "text/x-python",
   "name": "python",
   "nbconvert_exporter": "python",
   "pygments_lexer": "ipython3",
   "version": "3.8.3"
  },
  "toc": {
   "base_numbering": 1,
   "nav_menu": {},
   "number_sections": true,
   "sideBar": true,
   "skip_h1_title": false,
   "title_cell": "Table of Contents",
   "title_sidebar": "Contents",
   "toc_cell": false,
   "toc_position": {},
   "toc_section_display": true,
   "toc_window_display": true
  }
 },
 "nbformat": 4,
 "nbformat_minor": 4
}
