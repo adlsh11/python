{
 "cells": [
  {
   "cell_type": "markdown",
   "metadata": {},
   "source": [
    "# Create a Sketch from Image"
   ]
  },
  {
   "cell_type": "code",
   "execution_count": 1,
   "metadata": {
    "ExecuteTime": {
     "end_time": "2021-06-17T08:46:52.918190Z",
     "start_time": "2021-06-17T08:46:46.175177Z"
    }
   },
   "outputs": [],
   "source": [
    "import numpy as np\n",
    "import imageio\n",
    "import cv2\n",
    "import scipy.ndimage"
   ]
  },
  {
   "cell_type": "code",
   "execution_count": 9,
   "metadata": {
    "ExecuteTime": {
     "end_time": "2021-06-17T08:51:14.224815Z",
     "start_time": "2021-06-17T08:51:14.215804Z"
    }
   },
   "outputs": [],
   "source": [
    "img = r'C:\\Users\\luc57.DESKTOP-NB5DC80\\Downloads\\WhatsApp Image 2021-06-15 at 11.42.19 AM.jpeg'"
   ]
  },
  {
   "cell_type": "code",
   "execution_count": 11,
   "metadata": {
    "ExecuteTime": {
     "end_time": "2021-06-17T08:51:30.228560Z",
     "start_time": "2021-06-17T08:51:30.220581Z"
    }
   },
   "outputs": [],
   "source": [
    "def grayscale(rgb):\n",
    "    return np.dot(rgb[...,:3],[0.299,0.587,0.114])\n",
    "\n",
    "def dodge(front,back):\n",
    "    result=front*255/(255-back)\n",
    "    result[result>255]=255\n",
    "    result[back==255]=255\n",
    "    return result.astype('uint8')"
   ]
  },
  {
   "cell_type": "code",
   "execution_count": 12,
   "metadata": {
    "ExecuteTime": {
     "end_time": "2021-06-17T08:51:31.092844Z",
     "start_time": "2021-06-17T08:51:30.921799Z"
    }
   },
   "outputs": [],
   "source": [
    "s = imageio.imread(img)\n",
    "g = grayscale(s)\n",
    "i = 255-g\n",
    "\n",
    "b = scipy.ndimage.filters.gaussian_filter(i, sigma=10)\n",
    "r = dodge(b,g)"
   ]
  },
  {
   "cell_type": "code",
   "execution_count": 32,
   "metadata": {
    "ExecuteTime": {
     "end_time": "2021-06-17T08:58:55.833371Z",
     "start_time": "2021-06-17T08:58:55.813426Z"
    }
   },
   "outputs": [
    {
     "data": {
      "text/plain": [
       "imageio.core.util.Array"
      ]
     },
     "execution_count": 32,
     "metadata": {},
     "output_type": "execute_result"
    }
   ],
   "source": [
    "type(r)"
   ]
  },
  {
   "cell_type": "code",
   "execution_count": 33,
   "metadata": {
    "ExecuteTime": {
     "end_time": "2021-06-17T08:59:59.737885Z",
     "start_time": "2021-06-17T08:59:59.418347Z"
    }
   },
   "outputs": [],
   "source": [
    "imageio.imsave('r.png', r) # uses the Image module (PIL)"
   ]
  }
 ],
 "metadata": {
  "kernelspec": {
   "display_name": "Python 3",
   "language": "python",
   "name": "python3"
  },
  "language_info": {
   "codemirror_mode": {
    "name": "ipython",
    "version": 3
   },
   "file_extension": ".py",
   "mimetype": "text/x-python",
   "name": "python",
   "nbconvert_exporter": "python",
   "pygments_lexer": "ipython3",
   "version": "3.8.3"
  },
  "toc": {
   "base_numbering": 1,
   "nav_menu": {},
   "number_sections": true,
   "sideBar": true,
   "skip_h1_title": false,
   "title_cell": "Table of Contents",
   "title_sidebar": "Contents",
   "toc_cell": false,
   "toc_position": {
    "height": "calc(100% - 180px)",
    "left": "10px",
    "top": "150px",
    "width": "299.2px"
   },
   "toc_section_display": true,
   "toc_window_display": true
  }
 },
 "nbformat": 4,
 "nbformat_minor": 4
}
