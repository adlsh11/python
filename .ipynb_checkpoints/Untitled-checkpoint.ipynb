{
 "cells": [
  {
   "cell_type": "code",
   "execution_count": 6,
   "metadata": {
    "ExecuteTime": {
     "end_time": "2021-05-10T06:52:39.160595Z",
     "start_time": "2021-05-10T06:52:39.155585Z"
    }
   },
   "outputs": [],
   "source": [
    "url='https://www.linkedin.com/jobs/search/?f_E=1%2C2%2C3&f_F=bd%2Canls%2Ccnsl%2Cit%2Cprdm&f_JT=F&f_PP=106967730&geoId=101282230&keywords=business%20analytics&location=Germany#'"
   ]
  },
  {
   "cell_type": "code",
   "execution_count": 7,
   "metadata": {
    "ExecuteTime": {
     "end_time": "2021-05-10T06:52:40.186309Z",
     "start_time": "2021-05-10T06:52:40.176336Z"
    }
   },
   "outputs": [],
   "source": [
    "import requests\n",
    "\n",
    "from bs4 import BeautifulSoup"
   ]
  },
  {
   "cell_type": "markdown",
   "metadata": {},
   "source": [
    "# HTTP request"
   ]
  },
  {
   "cell_type": "code",
   "execution_count": 8,
   "metadata": {
    "ExecuteTime": {
     "end_time": "2021-05-10T06:52:41.749803Z",
     "start_time": "2021-05-10T06:52:40.858919Z"
    }
   },
   "outputs": [],
   "source": [
    "webpage = requests.get(url, 'html.parser')"
   ]
  },
  {
   "cell_type": "markdown",
   "metadata": {},
   "source": [
    "## Turn website into a soup object"
   ]
  },
  {
   "cell_type": "code",
   "execution_count": 9,
   "metadata": {
    "ExecuteTime": {
     "end_time": "2021-05-10T06:52:44.622451Z",
     "start_time": "2021-05-10T06:52:44.581722Z"
    }
   },
   "outputs": [],
   "source": [
    "soup = BeautifulSoup(webpage.content);"
   ]
  },
  {
   "cell_type": "code",
   "execution_count": null,
   "metadata": {},
   "outputs": [],
   "source": []
  },
  {
   "cell_type": "code",
   "execution_count": null,
   "metadata": {},
   "outputs": [],
   "source": [
    "//1. Tags correspond to HTML tags\n",
    "Example Code:\n",
    "soup = BeautifulSoup('<div id=\"example\">An example div</div><p>An example p tag</p>');\n",
    "\n",
    "print(soup.div);\n",
    "--> <div id=\"example\">An example div</div>\n",
    "--> gets the first tag of that type on the page\n",
    "\n",
    "print(soup.div.name)\n",
    "print(soup.div.attrs)\n",
    "--> div\n",
    "--> {'id': 'example'}\n",
    "\n",
    "//2. Navigable Strings: Piece of text inside of HTML Tags\n",
    "print(soup.div.string)\n",
    "--> An example div"
   ]
  }
 ],
 "metadata": {
  "kernelspec": {
   "display_name": "Python 3",
   "language": "python",
   "name": "python3"
  },
  "language_info": {
   "codemirror_mode": {
    "name": "ipython",
    "version": 3
   },
   "file_extension": ".py",
   "mimetype": "text/x-python",
   "name": "python",
   "nbconvert_exporter": "python",
   "pygments_lexer": "ipython3",
   "version": "3.8.3"
  },
  "toc": {
   "base_numbering": 1,
   "nav_menu": {},
   "number_sections": true,
   "sideBar": true,
   "skip_h1_title": false,
   "title_cell": "Table of Contents",
   "title_sidebar": "Contents",
   "toc_cell": false,
   "toc_position": {},
   "toc_section_display": true,
   "toc_window_display": true
  }
 },
 "nbformat": 4,
 "nbformat_minor": 4
}
