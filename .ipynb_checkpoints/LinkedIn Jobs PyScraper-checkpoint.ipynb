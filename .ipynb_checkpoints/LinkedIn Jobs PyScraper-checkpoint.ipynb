{
 "cells": [
  {
   "cell_type": "code",
   "execution_count": 2,
   "metadata": {
    "ExecuteTime": {
     "end_time": "2022-06-25T09:24:47.986223Z",
     "start_time": "2022-06-25T09:24:47.975253Z"
    }
   },
   "outputs": [],
   "source": [
    "import pandas as pd\n",
    "from datetime import date\n",
    "current_date = date.today()"
   ]
  },
  {
   "cell_type": "code",
   "execution_count": 3,
   "metadata": {
    "ExecuteTime": {
     "end_time": "2022-06-25T09:26:00.901496Z",
     "start_time": "2022-06-25T09:24:47.987220Z"
    }
   },
   "outputs": [
    {
     "name": "stderr",
     "output_type": "stream",
     "text": [
      "INFO:linkedin_jobs_pyscraper.search.search_jobs:Running for search term: [0/4]\n",
      "INFO:linkedin_jobs_pyscraper.search.search_jobs:Searching jobs in page 1/20\n",
      "INFO:linkedin_jobs_pyscraper.search.search_jobs:Extracting Job Ids from the page\n",
      "INFO:linkedin_jobs_pyscraper.extract.extract_job_info:Extracting Job IDs...\n",
      "INFO:linkedin_jobs_pyscraper.search.search_jobs:Searching jobs in page 2/20\n",
      "INFO:linkedin_jobs_pyscraper.search.search_jobs:Extracting Job Ids from the page\n",
      "INFO:linkedin_jobs_pyscraper.extract.extract_job_info:Extracting Job IDs...\n",
      "INFO:linkedin_jobs_pyscraper.search.search_jobs:Searching jobs in page 3/20\n",
      "INFO:linkedin_jobs_pyscraper.search.search_jobs:Extracting Job Ids from the page\n",
      "INFO:linkedin_jobs_pyscraper.extract.extract_job_info:Extracting Job IDs...\n",
      "INFO:linkedin_jobs_pyscraper.search.search_jobs:Searching jobs in page 4/20\n",
      "INFO:linkedin_jobs_pyscraper.search.search_jobs:Extracting Job Ids from the page\n",
      "INFO:linkedin_jobs_pyscraper.extract.extract_job_info:Extracting Job IDs...\n",
      "INFO:linkedin_jobs_pyscraper.search.search_jobs:Searching jobs in page 5/20\n",
      "INFO:linkedin_jobs_pyscraper.search.search_jobs:Extracting Job Ids from the page\n",
      "INFO:linkedin_jobs_pyscraper.extract.extract_job_info:Extracting Job IDs...\n",
      "INFO:linkedin_jobs_pyscraper.search.search_jobs:Searching jobs in page 6/20\n",
      "INFO:linkedin_jobs_pyscraper.search.search_jobs:Extracting Job Ids from the page\n",
      "INFO:linkedin_jobs_pyscraper.extract.extract_job_info:Extracting Job IDs...\n",
      "INFO:linkedin_jobs_pyscraper.search.search_jobs:Searching jobs in page 7/20\n",
      "INFO:linkedin_jobs_pyscraper.search.search_jobs:Extracting Job Ids from the page\n",
      "INFO:linkedin_jobs_pyscraper.extract.extract_job_info:Extracting Job IDs...\n",
      "INFO:linkedin_jobs_pyscraper.search.search_jobs:Searching jobs in page 8/20\n",
      "INFO:linkedin_jobs_pyscraper.search.search_jobs:Extracting Job Ids from the page\n",
      "INFO:linkedin_jobs_pyscraper.extract.extract_job_info:Extracting Job IDs...\n",
      "INFO:linkedin_jobs_pyscraper.search.search_jobs:Searching jobs in page 9/20\n",
      "INFO:linkedin_jobs_pyscraper.search.search_jobs:Extracting Job Ids from the page\n",
      "INFO:linkedin_jobs_pyscraper.extract.extract_job_info:Extracting Job IDs...\n",
      "INFO:linkedin_jobs_pyscraper.search.search_jobs:Searching jobs in page 10/20\n",
      "INFO:linkedin_jobs_pyscraper.search.search_jobs:Extracting Job Ids from the page\n",
      "INFO:linkedin_jobs_pyscraper.extract.extract_job_info:Extracting Job IDs...\n",
      "INFO:linkedin_jobs_pyscraper.search.search_jobs:Searching jobs in page 11/20\n",
      "INFO:linkedin_jobs_pyscraper.search.search_jobs:Extracting Job Ids from the page\n",
      "INFO:linkedin_jobs_pyscraper.extract.extract_job_info:Extracting Job IDs...\n",
      "INFO:linkedin_jobs_pyscraper.search.search_jobs:Searching jobs in page 12/20\n",
      "INFO:linkedin_jobs_pyscraper.search.search_jobs:Extracting Job Ids from the page\n",
      "INFO:linkedin_jobs_pyscraper.extract.extract_job_info:Extracting Job IDs...\n",
      "INFO:linkedin_jobs_pyscraper.search.search_jobs:Searching jobs in page 13/20\n",
      "INFO:linkedin_jobs_pyscraper.search.search_jobs:Extracting Job Ids from the page\n",
      "INFO:linkedin_jobs_pyscraper.extract.extract_job_info:Extracting Job IDs...\n",
      "INFO:linkedin_jobs_pyscraper.search.search_jobs:Searching jobs in page 14/20\n",
      "INFO:linkedin_jobs_pyscraper.search.search_jobs:Extracting Job Ids from the page\n",
      "INFO:linkedin_jobs_pyscraper.extract.extract_job_info:Extracting Job IDs...\n",
      "INFO:linkedin_jobs_pyscraper.search.search_jobs:Searching jobs in page 15/20\n",
      "INFO:linkedin_jobs_pyscraper.search.search_jobs:Extracting Job Ids from the page\n",
      "INFO:linkedin_jobs_pyscraper.extract.extract_job_info:Extracting Job IDs...\n",
      "INFO:linkedin_jobs_pyscraper.search.search_jobs:Searching jobs in page 16/20\n",
      "INFO:linkedin_jobs_pyscraper.search.search_jobs:Extracting Job Ids from the page\n",
      "INFO:linkedin_jobs_pyscraper.extract.extract_job_info:Extracting Job IDs...\n",
      "INFO:linkedin_jobs_pyscraper.search.search_jobs:Searching jobs in page 17/20\n",
      "INFO:linkedin_jobs_pyscraper.search.search_jobs:Extracting Job Ids from the page\n",
      "INFO:linkedin_jobs_pyscraper.extract.extract_job_info:Extracting Job IDs...\n",
      "INFO:linkedin_jobs_pyscraper.search.search_jobs:Searching jobs in page 18/20\n",
      "INFO:linkedin_jobs_pyscraper.search.search_jobs:Extracting Job Ids from the page\n",
      "INFO:linkedin_jobs_pyscraper.extract.extract_job_info:Extracting Job IDs...\n",
      "INFO:linkedin_jobs_pyscraper.search.search_jobs:Searching jobs in page 19/20\n",
      "INFO:linkedin_jobs_pyscraper.search.search_jobs:Extracting Job Ids from the page\n",
      "INFO:linkedin_jobs_pyscraper.extract.extract_job_info:Extracting Job IDs...\n",
      "INFO:linkedin_jobs_pyscraper.search.search_jobs:Searching jobs in page 20/20\n",
      "INFO:linkedin_jobs_pyscraper.search.search_jobs:Extracting Job Ids from the page\n",
      "INFO:linkedin_jobs_pyscraper.extract.extract_job_info:Extracting Job IDs...\n",
      "INFO:linkedin_jobs_pyscraper.search.search_jobs:Running for search term: [1/4]\n",
      "INFO:linkedin_jobs_pyscraper.search.search_jobs:Searching jobs in page 1/20\n",
      "INFO:linkedin_jobs_pyscraper.search.search_jobs:Extracting Job Ids from the page\n",
      "INFO:linkedin_jobs_pyscraper.extract.extract_job_info:Extracting Job IDs...\n",
      "INFO:linkedin_jobs_pyscraper.search.search_jobs:Searching jobs in page 2/20\n",
      "INFO:linkedin_jobs_pyscraper.search.search_jobs:Extracting Job Ids from the page\n",
      "INFO:linkedin_jobs_pyscraper.extract.extract_job_info:Extracting Job IDs...\n",
      "INFO:linkedin_jobs_pyscraper.search.search_jobs:Searching jobs in page 3/20\n",
      "INFO:linkedin_jobs_pyscraper.search.search_jobs:Extracting Job Ids from the page\n",
      "INFO:linkedin_jobs_pyscraper.extract.extract_job_info:Extracting Job IDs...\n",
      "INFO:linkedin_jobs_pyscraper.search.search_jobs:Searching jobs in page 4/20\n",
      "INFO:linkedin_jobs_pyscraper.search.search_jobs:Extracting Job Ids from the page\n",
      "INFO:linkedin_jobs_pyscraper.extract.extract_job_info:Extracting Job IDs...\n",
      "INFO:linkedin_jobs_pyscraper.search.search_jobs:Searching jobs in page 5/20\n",
      "INFO:linkedin_jobs_pyscraper.search.search_jobs:Extracting Job Ids from the page\n",
      "INFO:linkedin_jobs_pyscraper.extract.extract_job_info:Extracting Job IDs...\n",
      "INFO:linkedin_jobs_pyscraper.search.search_jobs:Searching jobs in page 6/20\n",
      "INFO:linkedin_jobs_pyscraper.search.search_jobs:Extracting Job Ids from the page\n",
      "INFO:linkedin_jobs_pyscraper.extract.extract_job_info:Extracting Job IDs...\n",
      "INFO:linkedin_jobs_pyscraper.search.search_jobs:Searching jobs in page 7/20\n",
      "INFO:linkedin_jobs_pyscraper.search.search_jobs:Extracting Job Ids from the page\n",
      "INFO:linkedin_jobs_pyscraper.extract.extract_job_info:Extracting Job IDs...\n",
      "INFO:linkedin_jobs_pyscraper.search.search_jobs:Searching jobs in page 8/20\n",
      "INFO:linkedin_jobs_pyscraper.search.search_jobs:Extracting Job Ids from the page\n",
      "INFO:linkedin_jobs_pyscraper.extract.extract_job_info:Extracting Job IDs...\n",
      "INFO:linkedin_jobs_pyscraper.search.search_jobs:Searching jobs in page 9/20\n",
      "INFO:linkedin_jobs_pyscraper.search.search_jobs:Extracting Job Ids from the page\n",
      "INFO:linkedin_jobs_pyscraper.extract.extract_job_info:Extracting Job IDs...\n",
      "INFO:linkedin_jobs_pyscraper.search.search_jobs:Searching jobs in page 10/20\n",
      "INFO:linkedin_jobs_pyscraper.search.search_jobs:Extracting Job Ids from the page\n",
      "INFO:linkedin_jobs_pyscraper.extract.extract_job_info:Extracting Job IDs...\n",
      "INFO:linkedin_jobs_pyscraper.search.search_jobs:Searching jobs in page 11/20\n",
      "INFO:linkedin_jobs_pyscraper.search.search_jobs:Extracting Job Ids from the page\n",
      "INFO:linkedin_jobs_pyscraper.extract.extract_job_info:Extracting Job IDs...\n",
      "INFO:linkedin_jobs_pyscraper.search.search_jobs:Searching jobs in page 12/20\n",
      "INFO:linkedin_jobs_pyscraper.search.search_jobs:Extracting Job Ids from the page\n",
      "INFO:linkedin_jobs_pyscraper.extract.extract_job_info:Extracting Job IDs...\n",
      "INFO:linkedin_jobs_pyscraper.search.search_jobs:Searching jobs in page 13/20\n",
      "INFO:linkedin_jobs_pyscraper.search.search_jobs:Extracting Job Ids from the page\n",
      "INFO:linkedin_jobs_pyscraper.extract.extract_job_info:Extracting Job IDs...\n",
      "INFO:linkedin_jobs_pyscraper.search.search_jobs:Searching jobs in page 14/20\n",
      "INFO:linkedin_jobs_pyscraper.search.search_jobs:Extracting Job Ids from the page\n",
      "INFO:linkedin_jobs_pyscraper.extract.extract_job_info:Extracting Job IDs...\n",
      "INFO:linkedin_jobs_pyscraper.search.search_jobs:Searching jobs in page 15/20\n",
      "INFO:linkedin_jobs_pyscraper.search.search_jobs:Extracting Job Ids from the page\n"
     ]
    },
    {
     "name": "stderr",
     "output_type": "stream",
     "text": [
      "INFO:linkedin_jobs_pyscraper.extract.extract_job_info:Extracting Job IDs...\n",
      "INFO:linkedin_jobs_pyscraper.search.search_jobs:Searching jobs in page 16/20\n",
      "INFO:linkedin_jobs_pyscraper.search.search_jobs:Extracting Job Ids from the page\n",
      "INFO:linkedin_jobs_pyscraper.extract.extract_job_info:Extracting Job IDs...\n",
      "INFO:linkedin_jobs_pyscraper.search.search_jobs:Searching jobs in page 17/20\n",
      "INFO:linkedin_jobs_pyscraper.search.search_jobs:Extracting Job Ids from the page\n",
      "INFO:linkedin_jobs_pyscraper.extract.extract_job_info:Extracting Job IDs...\n",
      "INFO:linkedin_jobs_pyscraper.search.search_jobs:Searching jobs in page 18/20\n",
      "INFO:linkedin_jobs_pyscraper.search.search_jobs:Extracting Job Ids from the page\n",
      "INFO:linkedin_jobs_pyscraper.extract.extract_job_info:Extracting Job IDs...\n",
      "INFO:linkedin_jobs_pyscraper.search.search_jobs:Searching jobs in page 19/20\n",
      "INFO:linkedin_jobs_pyscraper.search.search_jobs:Extracting Job Ids from the page\n",
      "INFO:linkedin_jobs_pyscraper.extract.extract_job_info:Extracting Job IDs...\n",
      "INFO:linkedin_jobs_pyscraper.search.search_jobs:Searching jobs in page 20/20\n",
      "INFO:linkedin_jobs_pyscraper.search.search_jobs:Extracting Job Ids from the page\n",
      "INFO:linkedin_jobs_pyscraper.extract.extract_job_info:Extracting Job IDs...\n",
      "INFO:linkedin_jobs_pyscraper.search.search_jobs:Running for search term: [2/4]\n",
      "INFO:linkedin_jobs_pyscraper.search.search_jobs:Searching jobs in page 1/20\n",
      "INFO:linkedin_jobs_pyscraper.search.search_jobs:Extracting Job Ids from the page\n",
      "INFO:linkedin_jobs_pyscraper.extract.extract_job_info:Extracting Job IDs...\n",
      "INFO:linkedin_jobs_pyscraper.search.search_jobs:Searching jobs in page 2/20\n",
      "INFO:linkedin_jobs_pyscraper.search.search_jobs:Extracting Job Ids from the page\n",
      "INFO:linkedin_jobs_pyscraper.extract.extract_job_info:Extracting Job IDs...\n",
      "INFO:linkedin_jobs_pyscraper.search.search_jobs:Searching jobs in page 3/20\n",
      "INFO:linkedin_jobs_pyscraper.search.search_jobs:Extracting Job Ids from the page\n",
      "INFO:linkedin_jobs_pyscraper.extract.extract_job_info:Extracting Job IDs...\n",
      "INFO:linkedin_jobs_pyscraper.search.search_jobs:Searching jobs in page 4/20\n",
      "INFO:linkedin_jobs_pyscraper.search.search_jobs:Extracting Job Ids from the page\n",
      "INFO:linkedin_jobs_pyscraper.extract.extract_job_info:Extracting Job IDs...\n",
      "INFO:linkedin_jobs_pyscraper.search.search_jobs:Searching jobs in page 5/20\n",
      "INFO:linkedin_jobs_pyscraper.search.search_jobs:Extracting Job Ids from the page\n",
      "INFO:linkedin_jobs_pyscraper.extract.extract_job_info:Extracting Job IDs...\n",
      "INFO:linkedin_jobs_pyscraper.search.search_jobs:Searching jobs in page 6/20\n",
      "INFO:linkedin_jobs_pyscraper.search.search_jobs:Extracting Job Ids from the page\n",
      "INFO:linkedin_jobs_pyscraper.extract.extract_job_info:Extracting Job IDs...\n",
      "INFO:linkedin_jobs_pyscraper.search.search_jobs:Searching jobs in page 7/20\n",
      "INFO:linkedin_jobs_pyscraper.search.search_jobs:Extracting Job Ids from the page\n",
      "INFO:linkedin_jobs_pyscraper.extract.extract_job_info:Extracting Job IDs...\n",
      "INFO:linkedin_jobs_pyscraper.search.search_jobs:Searching jobs in page 8/20\n",
      "INFO:linkedin_jobs_pyscraper.search.search_jobs:Extracting Job Ids from the page\n",
      "INFO:linkedin_jobs_pyscraper.extract.extract_job_info:Extracting Job IDs...\n",
      "INFO:linkedin_jobs_pyscraper.search.search_jobs:Searching jobs in page 9/20\n",
      "INFO:linkedin_jobs_pyscraper.search.search_jobs:Extracting Job Ids from the page\n",
      "INFO:linkedin_jobs_pyscraper.extract.extract_job_info:Extracting Job IDs...\n",
      "INFO:linkedin_jobs_pyscraper.search.search_jobs:Searching jobs in page 10/20\n",
      "INFO:linkedin_jobs_pyscraper.search.search_jobs:Extracting Job Ids from the page\n",
      "INFO:linkedin_jobs_pyscraper.extract.extract_job_info:Extracting Job IDs...\n",
      "INFO:linkedin_jobs_pyscraper.search.search_jobs:Searching jobs in page 11/20\n",
      "INFO:linkedin_jobs_pyscraper.search.search_jobs:Extracting Job Ids from the page\n",
      "INFO:linkedin_jobs_pyscraper.extract.extract_job_info:Extracting Job IDs...\n",
      "INFO:linkedin_jobs_pyscraper.search.search_jobs:Searching jobs in page 12/20\n",
      "INFO:linkedin_jobs_pyscraper.search.search_jobs:Extracting Job Ids from the page\n",
      "INFO:linkedin_jobs_pyscraper.extract.extract_job_info:Extracting Job IDs...\n",
      "INFO:linkedin_jobs_pyscraper.search.search_jobs:Searching jobs in page 13/20\n",
      "INFO:linkedin_jobs_pyscraper.search.search_jobs:Extracting Job Ids from the page\n",
      "INFO:linkedin_jobs_pyscraper.extract.extract_job_info:Extracting Job IDs...\n",
      "INFO:linkedin_jobs_pyscraper.search.search_jobs:Searching jobs in page 14/20\n",
      "INFO:linkedin_jobs_pyscraper.search.search_jobs:Extracting Job Ids from the page\n",
      "INFO:linkedin_jobs_pyscraper.extract.extract_job_info:Extracting Job IDs...\n",
      "INFO:linkedin_jobs_pyscraper.search.search_jobs:Searching jobs in page 15/20\n",
      "INFO:linkedin_jobs_pyscraper.search.search_jobs:Extracting Job Ids from the page\n",
      "INFO:linkedin_jobs_pyscraper.extract.extract_job_info:Extracting Job IDs...\n",
      "INFO:linkedin_jobs_pyscraper.search.search_jobs:Searching jobs in page 16/20\n",
      "INFO:linkedin_jobs_pyscraper.search.search_jobs:Extracting Job Ids from the page\n",
      "INFO:linkedin_jobs_pyscraper.extract.extract_job_info:Extracting Job IDs...\n",
      "INFO:linkedin_jobs_pyscraper.search.search_jobs:Searching jobs in page 17/20\n",
      "INFO:linkedin_jobs_pyscraper.search.search_jobs:Extracting Job Ids from the page\n",
      "INFO:linkedin_jobs_pyscraper.extract.extract_job_info:Extracting Job IDs...\n",
      "INFO:linkedin_jobs_pyscraper.search.search_jobs:Searching jobs in page 18/20\n",
      "INFO:linkedin_jobs_pyscraper.search.search_jobs:Extracting Job Ids from the page\n",
      "INFO:linkedin_jobs_pyscraper.extract.extract_job_info:Extracting Job IDs...\n",
      "INFO:linkedin_jobs_pyscraper.search.search_jobs:Searching jobs in page 19/20\n",
      "INFO:linkedin_jobs_pyscraper.search.search_jobs:Extracting Job Ids from the page\n",
      "INFO:linkedin_jobs_pyscraper.extract.extract_job_info:Extracting Job IDs...\n",
      "INFO:linkedin_jobs_pyscraper.search.search_jobs:Searching jobs in page 20/20\n",
      "INFO:linkedin_jobs_pyscraper.search.search_jobs:Extracting Job Ids from the page\n",
      "INFO:linkedin_jobs_pyscraper.extract.extract_job_info:Extracting Job IDs...\n",
      "INFO:linkedin_jobs_pyscraper.search.search_jobs:Running for search term: [3/4]\n",
      "INFO:linkedin_jobs_pyscraper.search.search_jobs:Searching jobs in page 1/20\n",
      "INFO:linkedin_jobs_pyscraper.search.search_jobs:Extracting Job Ids from the page\n",
      "INFO:linkedin_jobs_pyscraper.extract.extract_job_info:Extracting Job IDs...\n",
      "INFO:linkedin_jobs_pyscraper.search.search_jobs:Searching jobs in page 2/20\n",
      "INFO:linkedin_jobs_pyscraper.search.search_jobs:Extracting Job Ids from the page\n",
      "INFO:linkedin_jobs_pyscraper.extract.extract_job_info:Extracting Job IDs...\n",
      "INFO:linkedin_jobs_pyscraper.search.search_jobs:Searching jobs in page 3/20\n",
      "INFO:linkedin_jobs_pyscraper.search.search_jobs:Extracting Job Ids from the page\n",
      "INFO:linkedin_jobs_pyscraper.extract.extract_job_info:Extracting Job IDs...\n",
      "INFO:linkedin_jobs_pyscraper.search.search_jobs:Searching jobs in page 4/20\n",
      "INFO:linkedin_jobs_pyscraper.search.search_jobs:Extracting Job Ids from the page\n",
      "INFO:linkedin_jobs_pyscraper.extract.extract_job_info:Extracting Job IDs...\n",
      "INFO:linkedin_jobs_pyscraper.search.search_jobs:Searching jobs in page 5/20\n",
      "INFO:linkedin_jobs_pyscraper.search.search_jobs:Extracting Job Ids from the page\n",
      "INFO:linkedin_jobs_pyscraper.extract.extract_job_info:Extracting Job IDs...\n",
      "INFO:linkedin_jobs_pyscraper.search.search_jobs:Searching jobs in page 6/20\n",
      "INFO:linkedin_jobs_pyscraper.search.search_jobs:Extracting Job Ids from the page\n",
      "INFO:linkedin_jobs_pyscraper.extract.extract_job_info:Extracting Job IDs...\n",
      "INFO:linkedin_jobs_pyscraper.search.search_jobs:Searching jobs in page 7/20\n",
      "INFO:linkedin_jobs_pyscraper.search.search_jobs:Extracting Job Ids from the page\n",
      "INFO:linkedin_jobs_pyscraper.extract.extract_job_info:Extracting Job IDs...\n",
      "INFO:linkedin_jobs_pyscraper.search.search_jobs:Searching jobs in page 8/20\n",
      "INFO:linkedin_jobs_pyscraper.search.search_jobs:Extracting Job Ids from the page\n",
      "INFO:linkedin_jobs_pyscraper.extract.extract_job_info:Extracting Job IDs...\n",
      "INFO:linkedin_jobs_pyscraper.search.search_jobs:Searching jobs in page 9/20\n",
      "INFO:linkedin_jobs_pyscraper.search.search_jobs:Extracting Job Ids from the page\n",
      "INFO:linkedin_jobs_pyscraper.extract.extract_job_info:Extracting Job IDs...\n",
      "INFO:linkedin_jobs_pyscraper.search.search_jobs:Searching jobs in page 10/20\n"
     ]
    },
    {
     "name": "stderr",
     "output_type": "stream",
     "text": [
      "INFO:linkedin_jobs_pyscraper.search.search_jobs:Extracting Job Ids from the page\n",
      "INFO:linkedin_jobs_pyscraper.extract.extract_job_info:Extracting Job IDs...\n",
      "INFO:linkedin_jobs_pyscraper.search.search_jobs:Searching jobs in page 11/20\n",
      "INFO:linkedin_jobs_pyscraper.search.search_jobs:Extracting Job Ids from the page\n",
      "INFO:linkedin_jobs_pyscraper.extract.extract_job_info:Extracting Job IDs...\n",
      "INFO:linkedin_jobs_pyscraper.search.search_jobs:Searching jobs in page 12/20\n",
      "INFO:linkedin_jobs_pyscraper.search.search_jobs:Extracting Job Ids from the page\n",
      "INFO:linkedin_jobs_pyscraper.extract.extract_job_info:Extracting Job IDs...\n",
      "INFO:linkedin_jobs_pyscraper.search.search_jobs:Searching jobs in page 13/20\n",
      "INFO:linkedin_jobs_pyscraper.search.search_jobs:Extracting Job Ids from the page\n",
      "INFO:linkedin_jobs_pyscraper.extract.extract_job_info:Extracting Job IDs...\n",
      "INFO:linkedin_jobs_pyscraper.search.search_jobs:Searching jobs in page 14/20\n",
      "INFO:linkedin_jobs_pyscraper.search.search_jobs:Extracting Job Ids from the page\n",
      "INFO:linkedin_jobs_pyscraper.extract.extract_job_info:Extracting Job IDs...\n",
      "INFO:linkedin_jobs_pyscraper.search.search_jobs:Searching jobs in page 15/20\n",
      "INFO:linkedin_jobs_pyscraper.search.search_jobs:Extracting Job Ids from the page\n",
      "INFO:linkedin_jobs_pyscraper.extract.extract_job_info:Extracting Job IDs...\n",
      "INFO:linkedin_jobs_pyscraper.search.search_jobs:Searching jobs in page 16/20\n",
      "INFO:linkedin_jobs_pyscraper.search.search_jobs:Extracting Job Ids from the page\n",
      "INFO:linkedin_jobs_pyscraper.extract.extract_job_info:Extracting Job IDs...\n",
      "INFO:linkedin_jobs_pyscraper.search.search_jobs:Searching jobs in page 17/20\n",
      "INFO:linkedin_jobs_pyscraper.search.search_jobs:Extracting Job Ids from the page\n",
      "INFO:linkedin_jobs_pyscraper.extract.extract_job_info:Extracting Job IDs...\n",
      "INFO:linkedin_jobs_pyscraper.search.search_jobs:Searching jobs in page 18/20\n",
      "INFO:linkedin_jobs_pyscraper.search.search_jobs:Extracting Job Ids from the page\n",
      "INFO:linkedin_jobs_pyscraper.extract.extract_job_info:Extracting Job IDs...\n",
      "INFO:linkedin_jobs_pyscraper.search.search_jobs:Searching jobs in page 19/20\n",
      "INFO:linkedin_jobs_pyscraper.search.search_jobs:Extracting Job Ids from the page\n",
      "INFO:linkedin_jobs_pyscraper.extract.extract_job_info:Extracting Job IDs...\n",
      "INFO:linkedin_jobs_pyscraper.search.search_jobs:Searching jobs in page 20/20\n",
      "INFO:linkedin_jobs_pyscraper.search.search_jobs:Extracting Job Ids from the page\n",
      "INFO:linkedin_jobs_pyscraper.extract.extract_job_info:Extracting Job IDs...\n"
     ]
    },
    {
     "ename": "IndexError",
     "evalue": "list index out of range",
     "output_type": "error",
     "traceback": [
      "\u001b[1;31m---------------------------------------------------------------------------\u001b[0m",
      "\u001b[1;31mIndexError\u001b[0m                                Traceback (most recent call last)",
      "\u001b[1;32m<ipython-input-3-f6a397692fc7>\u001b[0m in \u001b[0;36m<module>\u001b[1;34m\u001b[0m\n\u001b[0;32m     20\u001b[0m     )\n\u001b[0;32m     21\u001b[0m \u001b[0mscraper\u001b[0m \u001b[1;33m=\u001b[0m \u001b[0mLinkedInJobsPyScraper\u001b[0m\u001b[1;33m(\u001b[0m\u001b[0msearcher\u001b[0m\u001b[1;33m=\u001b[0m \u001b[0msearcher\u001b[0m\u001b[1;33m,\u001b[0m \u001b[0mfilters\u001b[0m\u001b[1;33m=\u001b[0m\u001b[0msearch_filter\u001b[0m\u001b[1;33m)\u001b[0m\u001b[1;33m\u001b[0m\u001b[1;33m\u001b[0m\u001b[0m\n\u001b[1;32m---> 22\u001b[1;33m \u001b[0mscraper\u001b[0m\u001b[1;33m.\u001b[0m\u001b[0mstart\u001b[0m\u001b[1;33m(\u001b[0m\u001b[1;33m)\u001b[0m\u001b[1;33m\u001b[0m\u001b[1;33m\u001b[0m\u001b[0m\n\u001b[0m",
      "\u001b[1;32m~\\AppData\\Roaming\\Python\\Python38\\site-packages\\linkedin_jobs_pyscraper\\linkedin_jobs_scraper.py\u001b[0m in \u001b[0;36mstart\u001b[1;34m(self)\u001b[0m\n\u001b[0;32m     24\u001b[0m         \"\"\"\n\u001b[0;32m     25\u001b[0m         \u001b[0msearch\u001b[0m \u001b[1;33m=\u001b[0m \u001b[0mhelpers\u001b[0m\u001b[1;33m.\u001b[0m\u001b[0mget_search_instance\u001b[0m\u001b[1;33m(\u001b[0m\u001b[0mself\u001b[0m\u001b[1;33m.\u001b[0m\u001b[0msearcher\u001b[0m\u001b[1;33m,\u001b[0m \u001b[0mself\u001b[0m\u001b[1;33m.\u001b[0m\u001b[0mfilters\u001b[0m\u001b[1;33m)\u001b[0m  \u001b[1;31m## create search instance\u001b[0m\u001b[1;33m\u001b[0m\u001b[1;33m\u001b[0m\u001b[0m\n\u001b[1;32m---> 26\u001b[1;33m         \u001b[0msearch\u001b[0m\u001b[1;33m.\u001b[0m\u001b[0msearch_jobs\u001b[0m\u001b[1;33m(\u001b[0m\u001b[1;33m)\u001b[0m \u001b[1;31m## search jobs\u001b[0m\u001b[1;33m\u001b[0m\u001b[1;33m\u001b[0m\u001b[0m\n\u001b[0m",
      "\u001b[1;32m~\\AppData\\Roaming\\Python\\Python38\\site-packages\\linkedin_jobs_pyscraper\\search\\search_jobs.py\u001b[0m in \u001b[0;36msearch_jobs\u001b[1;34m(self)\u001b[0m\n\u001b[0;32m     32\u001b[0m                     \u001b[0mself\u001b[0m\u001b[1;33m.\u001b[0m\u001b[0mfetch_job_info\u001b[0m\u001b[1;33m(\u001b[0m\u001b[1;33m)\u001b[0m \u001b[1;31m## fetch job detail data for that term\u001b[0m\u001b[1;33m\u001b[0m\u001b[1;33m\u001b[0m\u001b[0m\n\u001b[0;32m     33\u001b[0m \u001b[1;33m\u001b[0m\u001b[0m\n\u001b[1;32m---> 34\u001b[1;33m             \u001b[0mhelpers\u001b[0m\u001b[1;33m.\u001b[0m\u001b[0mwrite_to_file\u001b[0m\u001b[1;33m(\u001b[0m\u001b[0mself\u001b[0m\u001b[1;33m.\u001b[0m\u001b[0msearcher\u001b[0m\u001b[1;33m.\u001b[0m\u001b[0mscraped_jobs\u001b[0m\u001b[1;33m,\u001b[0m \u001b[0mself\u001b[0m\u001b[1;33m.\u001b[0m\u001b[0msearcher\u001b[0m\u001b[1;33m.\u001b[0m\u001b[0mbatch_num\u001b[0m\u001b[1;33m,\u001b[0m \u001b[0mself\u001b[0m\u001b[1;33m.\u001b[0m\u001b[0msearcher\u001b[0m\u001b[1;33m.\u001b[0m\u001b[0moutput_filepath\u001b[0m\u001b[1;33m)\u001b[0m\u001b[1;33m\u001b[0m\u001b[1;33m\u001b[0m\u001b[0m\n\u001b[0m\u001b[0;32m     35\u001b[0m \u001b[1;33m\u001b[0m\u001b[0m\n\u001b[0;32m     36\u001b[0m         \u001b[1;32mdef\u001b[0m \u001b[0msearch_jobs_ids\u001b[0m\u001b[1;33m(\u001b[0m\u001b[0mself\u001b[0m\u001b[1;33m,\u001b[0m \u001b[0msearch_term\u001b[0m\u001b[1;33m)\u001b[0m\u001b[1;33m:\u001b[0m\u001b[1;33m\u001b[0m\u001b[1;33m\u001b[0m\u001b[0m\n",
      "\u001b[1;32m~\\AppData\\Roaming\\Python\\Python38\\site-packages\\linkedin_jobs_pyscraper\\utils\\helpers.py\u001b[0m in \u001b[0;36mwrite_to_file\u001b[1;34m(data, batch_number, file_path)\u001b[0m\n\u001b[0;32m     33\u001b[0m     \u001b[0mfile_path\u001b[0m \u001b[1;33m-\u001b[0m\u001b[1;33m-\u001b[0m \u001b[0moutput\u001b[0m \u001b[0mfile\u001b[0m \u001b[0mpath\u001b[0m\u001b[1;33m\u001b[0m\u001b[1;33m\u001b[0m\u001b[0m\n\u001b[0;32m     34\u001b[0m     \"\"\"\n\u001b[1;32m---> 35\u001b[1;33m     \u001b[0mdf\u001b[0m \u001b[1;33m=\u001b[0m \u001b[0mpd\u001b[0m\u001b[1;33m.\u001b[0m\u001b[0mDataFrame\u001b[0m\u001b[1;33m(\u001b[0m\u001b[0mdata\u001b[0m\u001b[1;33m,\u001b[0m \u001b[0mcolumns\u001b[0m\u001b[1;33m=\u001b[0m\u001b[0mdata\u001b[0m\u001b[1;33m[\u001b[0m\u001b[1;36m0\u001b[0m\u001b[1;33m]\u001b[0m\u001b[1;33m.\u001b[0m\u001b[0mkeys\u001b[0m\u001b[1;33m(\u001b[0m\u001b[1;33m)\u001b[0m\u001b[1;33m)\u001b[0m\u001b[1;33m\u001b[0m\u001b[1;33m\u001b[0m\u001b[0m\n\u001b[0m\u001b[0;32m     36\u001b[0m     \u001b[1;32mif\u001b[0m \u001b[0mbatch_number\u001b[0m \u001b[1;33m>\u001b[0m \u001b[1;36m0\u001b[0m\u001b[1;33m:\u001b[0m\u001b[1;33m\u001b[0m\u001b[1;33m\u001b[0m\u001b[0m\n\u001b[0;32m     37\u001b[0m         \u001b[0mdf\u001b[0m\u001b[1;33m.\u001b[0m\u001b[0mto_csv\u001b[0m\u001b[1;33m(\u001b[0m\u001b[0mfile_path\u001b[0m\u001b[1;33m,\u001b[0m \u001b[0mmode\u001b[0m\u001b[1;33m=\u001b[0m\u001b[1;34m'a'\u001b[0m\u001b[1;33m,\u001b[0m \u001b[0mheader\u001b[0m\u001b[1;33m=\u001b[0m\u001b[1;32mFalse\u001b[0m\u001b[1;33m)\u001b[0m\u001b[1;33m\u001b[0m\u001b[1;33m\u001b[0m\u001b[0m\n",
      "\u001b[1;31mIndexError\u001b[0m: list index out of range"
     ]
    }
   ],
   "source": [
    "from linkedin_jobs_pyscraper.models.search.searcher import Searcher\n",
    "from linkedin_jobs_pyscraper.models.filters import filters\n",
    "from linkedin_jobs_pyscraper.linkedin_jobs_scraper import LinkedInJobsPyScraper\n",
    "\n",
    "## create searach query with configurations\n",
    "searcher = Searcher(\n",
    "    search_pages_per_search_term = 20,\n",
    "    search_terms = ['data scientist','business analytics', 'data analytics','business_intelligence'],\n",
    "    batch_size = 20,\n",
    "    sleep=3,\n",
    "    output_filepath = f'job_search_{current_date}_full_time.csv',\n",
    "    location = 'Jakarta'\n",
    "    )\n",
    "\n",
    "search_filter = filters.Filters(\n",
    "    experience= filters.ExperienceLevelFilters.ENTRY_LEVEL,\n",
    "    job_type= filters.TypeFilters.FULL_TIME,\n",
    "    relevance= filters.RelevanceFilters.RECENT,\n",
    "    time= filters.TimeFilters.MONTH\n",
    "    )\n",
    "scraper = LinkedInJobsPyScraper(searcher= searcher, filters=search_filter) \n",
    "scraper.start()"
   ]
  },
  {
   "cell_type": "code",
   "execution_count": 4,
   "metadata": {
    "ExecuteTime": {
     "end_time": "2022-06-25T09:47:09.451950Z",
     "start_time": "2022-06-25T09:47:09.370694Z"
    }
   },
   "outputs": [
    {
     "ename": "FileNotFoundError",
     "evalue": "[Errno 2] No such file or directory: 'job_search_2022-06-25_full_time.csv'",
     "output_type": "error",
     "traceback": [
      "\u001b[1;31m---------------------------------------------------------------------------\u001b[0m",
      "\u001b[1;31mFileNotFoundError\u001b[0m                         Traceback (most recent call last)",
      "\u001b[1;32m<ipython-input-4-1953dc756e7c>\u001b[0m in \u001b[0;36m<module>\u001b[1;34m\u001b[0m\n\u001b[1;32m----> 1\u001b[1;33m \u001b[0mfile\u001b[0m \u001b[1;33m=\u001b[0m \u001b[0mpd\u001b[0m\u001b[1;33m.\u001b[0m\u001b[0mread_csv\u001b[0m\u001b[1;33m(\u001b[0m\u001b[1;34mf'job_search_{current_date}_full_time.csv'\u001b[0m\u001b[1;33m,\u001b[0m\u001b[0mindex_col\u001b[0m\u001b[1;33m=\u001b[0m\u001b[1;36m0\u001b[0m\u001b[1;33m)\u001b[0m\u001b[1;33m\u001b[0m\u001b[1;33m\u001b[0m\u001b[0m\n\u001b[0m\u001b[0;32m      2\u001b[0m \u001b[0mfile\u001b[0m\u001b[1;33m\u001b[0m\u001b[1;33m\u001b[0m\u001b[0m\n",
      "\u001b[1;32m~\\AppData\\Roaming\\Python\\Python38\\site-packages\\pandas\\io\\parsers.py\u001b[0m in \u001b[0;36mread_csv\u001b[1;34m(filepath_or_buffer, sep, delimiter, header, names, index_col, usecols, squeeze, prefix, mangle_dupe_cols, dtype, engine, converters, true_values, false_values, skipinitialspace, skiprows, skipfooter, nrows, na_values, keep_default_na, na_filter, verbose, skip_blank_lines, parse_dates, infer_datetime_format, keep_date_col, date_parser, dayfirst, cache_dates, iterator, chunksize, compression, thousands, decimal, lineterminator, quotechar, quoting, doublequote, escapechar, comment, encoding, dialect, error_bad_lines, warn_bad_lines, delim_whitespace, low_memory, memory_map, float_precision)\u001b[0m\n\u001b[0;32m    686\u001b[0m     )\n\u001b[0;32m    687\u001b[0m \u001b[1;33m\u001b[0m\u001b[0m\n\u001b[1;32m--> 688\u001b[1;33m     \u001b[1;32mreturn\u001b[0m \u001b[0m_read\u001b[0m\u001b[1;33m(\u001b[0m\u001b[0mfilepath_or_buffer\u001b[0m\u001b[1;33m,\u001b[0m \u001b[0mkwds\u001b[0m\u001b[1;33m)\u001b[0m\u001b[1;33m\u001b[0m\u001b[1;33m\u001b[0m\u001b[0m\n\u001b[0m\u001b[0;32m    689\u001b[0m \u001b[1;33m\u001b[0m\u001b[0m\n\u001b[0;32m    690\u001b[0m \u001b[1;33m\u001b[0m\u001b[0m\n",
      "\u001b[1;32m~\\AppData\\Roaming\\Python\\Python38\\site-packages\\pandas\\io\\parsers.py\u001b[0m in \u001b[0;36m_read\u001b[1;34m(filepath_or_buffer, kwds)\u001b[0m\n\u001b[0;32m    452\u001b[0m \u001b[1;33m\u001b[0m\u001b[0m\n\u001b[0;32m    453\u001b[0m     \u001b[1;31m# Create the parser.\u001b[0m\u001b[1;33m\u001b[0m\u001b[1;33m\u001b[0m\u001b[1;33m\u001b[0m\u001b[0m\n\u001b[1;32m--> 454\u001b[1;33m     \u001b[0mparser\u001b[0m \u001b[1;33m=\u001b[0m \u001b[0mTextFileReader\u001b[0m\u001b[1;33m(\u001b[0m\u001b[0mfp_or_buf\u001b[0m\u001b[1;33m,\u001b[0m \u001b[1;33m**\u001b[0m\u001b[0mkwds\u001b[0m\u001b[1;33m)\u001b[0m\u001b[1;33m\u001b[0m\u001b[1;33m\u001b[0m\u001b[0m\n\u001b[0m\u001b[0;32m    455\u001b[0m \u001b[1;33m\u001b[0m\u001b[0m\n\u001b[0;32m    456\u001b[0m     \u001b[1;32mif\u001b[0m \u001b[0mchunksize\u001b[0m \u001b[1;32mor\u001b[0m \u001b[0miterator\u001b[0m\u001b[1;33m:\u001b[0m\u001b[1;33m\u001b[0m\u001b[1;33m\u001b[0m\u001b[0m\n",
      "\u001b[1;32m~\\AppData\\Roaming\\Python\\Python38\\site-packages\\pandas\\io\\parsers.py\u001b[0m in \u001b[0;36m__init__\u001b[1;34m(self, f, engine, **kwds)\u001b[0m\n\u001b[0;32m    946\u001b[0m             \u001b[0mself\u001b[0m\u001b[1;33m.\u001b[0m\u001b[0moptions\u001b[0m\u001b[1;33m[\u001b[0m\u001b[1;34m\"has_index_names\"\u001b[0m\u001b[1;33m]\u001b[0m \u001b[1;33m=\u001b[0m \u001b[0mkwds\u001b[0m\u001b[1;33m[\u001b[0m\u001b[1;34m\"has_index_names\"\u001b[0m\u001b[1;33m]\u001b[0m\u001b[1;33m\u001b[0m\u001b[1;33m\u001b[0m\u001b[0m\n\u001b[0;32m    947\u001b[0m \u001b[1;33m\u001b[0m\u001b[0m\n\u001b[1;32m--> 948\u001b[1;33m         \u001b[0mself\u001b[0m\u001b[1;33m.\u001b[0m\u001b[0m_make_engine\u001b[0m\u001b[1;33m(\u001b[0m\u001b[0mself\u001b[0m\u001b[1;33m.\u001b[0m\u001b[0mengine\u001b[0m\u001b[1;33m)\u001b[0m\u001b[1;33m\u001b[0m\u001b[1;33m\u001b[0m\u001b[0m\n\u001b[0m\u001b[0;32m    949\u001b[0m \u001b[1;33m\u001b[0m\u001b[0m\n\u001b[0;32m    950\u001b[0m     \u001b[1;32mdef\u001b[0m \u001b[0mclose\u001b[0m\u001b[1;33m(\u001b[0m\u001b[0mself\u001b[0m\u001b[1;33m)\u001b[0m\u001b[1;33m:\u001b[0m\u001b[1;33m\u001b[0m\u001b[1;33m\u001b[0m\u001b[0m\n",
      "\u001b[1;32m~\\AppData\\Roaming\\Python\\Python38\\site-packages\\pandas\\io\\parsers.py\u001b[0m in \u001b[0;36m_make_engine\u001b[1;34m(self, engine)\u001b[0m\n\u001b[0;32m   1178\u001b[0m     \u001b[1;32mdef\u001b[0m \u001b[0m_make_engine\u001b[0m\u001b[1;33m(\u001b[0m\u001b[0mself\u001b[0m\u001b[1;33m,\u001b[0m \u001b[0mengine\u001b[0m\u001b[1;33m=\u001b[0m\u001b[1;34m\"c\"\u001b[0m\u001b[1;33m)\u001b[0m\u001b[1;33m:\u001b[0m\u001b[1;33m\u001b[0m\u001b[1;33m\u001b[0m\u001b[0m\n\u001b[0;32m   1179\u001b[0m         \u001b[1;32mif\u001b[0m \u001b[0mengine\u001b[0m \u001b[1;33m==\u001b[0m \u001b[1;34m\"c\"\u001b[0m\u001b[1;33m:\u001b[0m\u001b[1;33m\u001b[0m\u001b[1;33m\u001b[0m\u001b[0m\n\u001b[1;32m-> 1180\u001b[1;33m             \u001b[0mself\u001b[0m\u001b[1;33m.\u001b[0m\u001b[0m_engine\u001b[0m \u001b[1;33m=\u001b[0m \u001b[0mCParserWrapper\u001b[0m\u001b[1;33m(\u001b[0m\u001b[0mself\u001b[0m\u001b[1;33m.\u001b[0m\u001b[0mf\u001b[0m\u001b[1;33m,\u001b[0m \u001b[1;33m**\u001b[0m\u001b[0mself\u001b[0m\u001b[1;33m.\u001b[0m\u001b[0moptions\u001b[0m\u001b[1;33m)\u001b[0m\u001b[1;33m\u001b[0m\u001b[1;33m\u001b[0m\u001b[0m\n\u001b[0m\u001b[0;32m   1181\u001b[0m         \u001b[1;32melse\u001b[0m\u001b[1;33m:\u001b[0m\u001b[1;33m\u001b[0m\u001b[1;33m\u001b[0m\u001b[0m\n\u001b[0;32m   1182\u001b[0m             \u001b[1;32mif\u001b[0m \u001b[0mengine\u001b[0m \u001b[1;33m==\u001b[0m \u001b[1;34m\"python\"\u001b[0m\u001b[1;33m:\u001b[0m\u001b[1;33m\u001b[0m\u001b[1;33m\u001b[0m\u001b[0m\n",
      "\u001b[1;32m~\\AppData\\Roaming\\Python\\Python38\\site-packages\\pandas\\io\\parsers.py\u001b[0m in \u001b[0;36m__init__\u001b[1;34m(self, src, **kwds)\u001b[0m\n\u001b[0;32m   2008\u001b[0m         \u001b[0mkwds\u001b[0m\u001b[1;33m[\u001b[0m\u001b[1;34m\"usecols\"\u001b[0m\u001b[1;33m]\u001b[0m \u001b[1;33m=\u001b[0m \u001b[0mself\u001b[0m\u001b[1;33m.\u001b[0m\u001b[0musecols\u001b[0m\u001b[1;33m\u001b[0m\u001b[1;33m\u001b[0m\u001b[0m\n\u001b[0;32m   2009\u001b[0m \u001b[1;33m\u001b[0m\u001b[0m\n\u001b[1;32m-> 2010\u001b[1;33m         \u001b[0mself\u001b[0m\u001b[1;33m.\u001b[0m\u001b[0m_reader\u001b[0m \u001b[1;33m=\u001b[0m \u001b[0mparsers\u001b[0m\u001b[1;33m.\u001b[0m\u001b[0mTextReader\u001b[0m\u001b[1;33m(\u001b[0m\u001b[0msrc\u001b[0m\u001b[1;33m,\u001b[0m \u001b[1;33m**\u001b[0m\u001b[0mkwds\u001b[0m\u001b[1;33m)\u001b[0m\u001b[1;33m\u001b[0m\u001b[1;33m\u001b[0m\u001b[0m\n\u001b[0m\u001b[0;32m   2011\u001b[0m         \u001b[0mself\u001b[0m\u001b[1;33m.\u001b[0m\u001b[0munnamed_cols\u001b[0m \u001b[1;33m=\u001b[0m \u001b[0mself\u001b[0m\u001b[1;33m.\u001b[0m\u001b[0m_reader\u001b[0m\u001b[1;33m.\u001b[0m\u001b[0munnamed_cols\u001b[0m\u001b[1;33m\u001b[0m\u001b[1;33m\u001b[0m\u001b[0m\n\u001b[0;32m   2012\u001b[0m \u001b[1;33m\u001b[0m\u001b[0m\n",
      "\u001b[1;32mpandas\\_libs\\parsers.pyx\u001b[0m in \u001b[0;36mpandas._libs.parsers.TextReader.__cinit__\u001b[1;34m()\u001b[0m\n",
      "\u001b[1;32mpandas\\_libs\\parsers.pyx\u001b[0m in \u001b[0;36mpandas._libs.parsers.TextReader._setup_parser_source\u001b[1;34m()\u001b[0m\n",
      "\u001b[1;31mFileNotFoundError\u001b[0m: [Errno 2] No such file or directory: 'job_search_2022-06-25_full_time.csv'"
     ]
    }
   ],
   "source": [
    "file = pd.read_csv(f'job_search_{current_date}_full_time.csv',index_col=0)\n",
    "file"
   ]
  },
  {
   "cell_type": "code",
   "execution_count": 5,
   "metadata": {
    "ExecuteTime": {
     "end_time": "2022-06-25T09:47:10.121301Z",
     "start_time": "2022-06-25T09:47:10.108316Z"
    }
   },
   "outputs": [
    {
     "ename": "NameError",
     "evalue": "name 'file' is not defined",
     "output_type": "error",
     "traceback": [
      "\u001b[1;31m---------------------------------------------------------------------------\u001b[0m",
      "\u001b[1;31mNameError\u001b[0m                                 Traceback (most recent call last)",
      "\u001b[1;32m<ipython-input-5-72d0f072e0c9>\u001b[0m in \u001b[0;36m<module>\u001b[1;34m\u001b[0m\n\u001b[1;32m----> 1\u001b[1;33m \u001b[0mfile\u001b[0m\u001b[1;33m[\u001b[0m\u001b[1;34m'description'\u001b[0m\u001b[1;33m]\u001b[0m\u001b[1;33m[\u001b[0m\u001b[1;36m0\u001b[0m\u001b[1;33m]\u001b[0m\u001b[1;33m\u001b[0m\u001b[1;33m\u001b[0m\u001b[0m\n\u001b[0m",
      "\u001b[1;31mNameError\u001b[0m: name 'file' is not defined"
     ]
    }
   ],
   "source": [
    "file['description'][0]"
   ]
  },
  {
   "cell_type": "markdown",
   "metadata": {},
   "source": [
    "  # Skills Required"
   ]
  },
  {
   "cell_type": "code",
   "execution_count": null,
   "metadata": {
    "ExecuteTime": {
     "end_time": "2022-06-25T09:26:00.905494Z",
     "start_time": "2022-06-25T09:24:47.988Z"
    }
   },
   "outputs": [],
   "source": [
    "import numpy as np\n",
    "file['skill_SQL']=np.where(file['description'].str.contains('SQL')==True,1,0)\n",
    "file['skill_SQL'].value_counts()"
   ]
  },
  {
   "cell_type": "code",
   "execution_count": null,
   "metadata": {
    "ExecuteTime": {
     "end_time": "2022-06-25T09:26:00.906482Z",
     "start_time": "2022-06-25T09:24:47.989Z"
    }
   },
   "outputs": [],
   "source": [
    "file['skill_Python']=np.where(file['description'].str.contains('Python')==True,1,0)\n",
    "file['skill_Python'].value_counts()"
   ]
  },
  {
   "cell_type": "code",
   "execution_count": null,
   "metadata": {
    "ExecuteTime": {
     "end_time": "2022-06-25T09:26:00.906482Z",
     "start_time": "2022-06-25T09:24:47.991Z"
    }
   },
   "outputs": [],
   "source": [
    "file['skill_Git']=np.where(file['description'].str.contains('Git')==True,1,0)\n",
    "file['skill_Git'].value_counts()"
   ]
  },
  {
   "cell_type": "code",
   "execution_count": null,
   "metadata": {
    "ExecuteTime": {
     "end_time": "2022-06-25T09:26:00.907480Z",
     "start_time": "2022-06-25T09:24:47.992Z"
    }
   },
   "outputs": [],
   "source": [
    "file['skill_AWS']=np.where(file['description'].str.contains('AWS')==True,1,0)\n",
    "file['skill_AWS'].value_counts()"
   ]
  },
  {
   "cell_type": "code",
   "execution_count": null,
   "metadata": {
    "ExecuteTime": {
     "end_time": "2022-06-25T09:26:00.908477Z",
     "start_time": "2022-06-25T09:24:47.994Z"
    }
   },
   "outputs": [],
   "source": [
    "file['skill_Tableau']=np.where(file['description'].str.contains('Tableau')==True,1,0)\n",
    "file['skill_Tableau'].value_counts()"
   ]
  },
  {
   "cell_type": "code",
   "execution_count": null,
   "metadata": {
    "ExecuteTime": {
     "end_time": "2022-06-25T09:26:00.909474Z",
     "start_time": "2022-06-25T09:24:47.995Z"
    }
   },
   "outputs": [],
   "source": [
    "file['skill_Docker']=np.where(file['description'].str.contains('Docker')==True,1,0)\n",
    "file['skill_Docker'].value_counts()"
   ]
  },
  {
   "cell_type": "code",
   "execution_count": null,
   "metadata": {
    "ExecuteTime": {
     "end_time": "2022-06-25T09:26:00.909474Z",
     "start_time": "2022-06-25T09:24:47.996Z"
    }
   },
   "outputs": [],
   "source": [
    "file['skill_Power BI']=np.where(file['description'].str.contains('Power BI')==True,1,0)\n",
    "file['skill_Power BI'].value_counts()"
   ]
  },
  {
   "cell_type": "code",
   "execution_count": null,
   "metadata": {
    "ExecuteTime": {
     "end_time": "2022-06-25T09:26:00.910472Z",
     "start_time": "2022-06-25T09:24:47.997Z"
    }
   },
   "outputs": [],
   "source": [
    "file['skill_R']=np.where(file['description'].str.contains('R')==True,1,0)\n",
    "file['skill_R'].value_counts()"
   ]
  },
  {
   "cell_type": "code",
   "execution_count": null,
   "metadata": {
    "ExecuteTime": {
     "end_time": "2022-06-25T09:26:00.911469Z",
     "start_time": "2022-06-25T09:24:47.998Z"
    }
   },
   "outputs": [],
   "source": [
    "file['skill_Redshift']=np.where(file['description'].str.contains('Redshift')==True,1,0)\n",
    "file['skill_Redshift'].value_counts()"
   ]
  },
  {
   "cell_type": "code",
   "execution_count": null,
   "metadata": {
    "ExecuteTime": {
     "end_time": "2022-06-25T09:26:00.911469Z",
     "start_time": "2022-06-25T09:24:47.999Z"
    }
   },
   "outputs": [],
   "source": [
    "file['skill_Snowflake']=np.where(file['description'].str.contains('Snowflake')==True,1,0)\n",
    "file['skill_Snowflake'].value_counts()"
   ]
  },
  {
   "cell_type": "code",
   "execution_count": null,
   "metadata": {
    "ExecuteTime": {
     "end_time": "2022-06-25T09:26:00.912466Z",
     "start_time": "2022-06-25T09:24:48.000Z"
    }
   },
   "outputs": [],
   "source": [
    "file['skill_Kafka']=np.where(file['description'].str.contains('Kafka')==True,1,0)\n",
    "file['skill_Kafka'].value_counts()"
   ]
  },
  {
   "cell_type": "code",
   "execution_count": null,
   "metadata": {
    "ExecuteTime": {
     "end_time": "2022-06-25T09:26:00.913464Z",
     "start_time": "2022-06-25T09:24:48.001Z"
    }
   },
   "outputs": [],
   "source": [
    "file['skill_Spark']=np.where(file['description'].str.contains('Spark')==True,1,0)\n",
    "file['skill_Spark'].value_counts()"
   ]
  },
  {
   "cell_type": "code",
   "execution_count": null,
   "metadata": {
    "ExecuteTime": {
     "end_time": "2022-06-25T09:26:00.913464Z",
     "start_time": "2022-06-25T09:24:48.002Z"
    }
   },
   "outputs": [],
   "source": [
    "file['skill_Tensorflow']=np.where(file['description'].str.contains('Tensorflow')==True,1,0)\n",
    "file['skill_Tensorflow'].value_counts()"
   ]
  },
  {
   "cell_type": "code",
   "execution_count": null,
   "metadata": {
    "ExecuteTime": {
     "end_time": "2022-06-25T09:26:00.914461Z",
     "start_time": "2022-06-25T09:24:48.003Z"
    }
   },
   "outputs": [],
   "source": [
    "file.head()"
   ]
  },
  {
   "cell_type": "markdown",
   "metadata": {},
   "source": [
    "The order is SQL - Python - Tableau - Power BI - Spark - AWS -Git - Docker -Redshift, Kafka - Snowflake"
   ]
  }
 ],
 "metadata": {
  "kernelspec": {
   "display_name": "Python 3",
   "language": "python",
   "name": "python3"
  },
  "language_info": {
   "codemirror_mode": {
    "name": "ipython",
    "version": 3
   },
   "file_extension": ".py",
   "mimetype": "text/x-python",
   "name": "python",
   "nbconvert_exporter": "python",
   "pygments_lexer": "ipython3",
   "version": "3.8.3"
  },
  "toc": {
   "base_numbering": 1,
   "nav_menu": {},
   "number_sections": true,
   "sideBar": true,
   "skip_h1_title": false,
   "title_cell": "Table of Contents",
   "title_sidebar": "Contents",
   "toc_cell": false,
   "toc_position": {
    "height": "calc(100% - 180px)",
    "left": "10px",
    "top": "150px",
    "width": "307.2px"
   },
   "toc_section_display": true,
   "toc_window_display": true
  }
 },
 "nbformat": 4,
 "nbformat_minor": 4
}
