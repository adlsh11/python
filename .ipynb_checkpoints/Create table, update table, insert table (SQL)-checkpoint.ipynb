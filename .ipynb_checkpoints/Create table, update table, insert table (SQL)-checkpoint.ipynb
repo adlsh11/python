{
 "cells": [
  {
   "cell_type": "markdown",
   "metadata": {},
   "source": [
    "# Create or replace function, create index, drop table"
   ]
  },
  {
   "cell_type": "code",
   "execution_count": null,
   "metadata": {},
   "outputs": [],
   "source": [
    "    CREATE or REPLACE FUNCTION schema.populate_table_name()\n",
    "        RETURNS boolean \n",
    "        LANGUAGE plpgsql\n",
    "        STRICT\n",
    "    AS $function$\n",
    "    begin\n",
    "    \n",
    "    CREATE TEMP TABLE merchants_table AS\n",
    "    ()\n",
    "    ;\n",
    "    \n",
    "    CREATE INDEX \"merchants_merchant_id_key\" ON merchants_table USING btree (merchant_id);\n",
    "    \n",
    "    insert into schema.table_name\n",
    "        select\n",
    "        *\n",
    "        from merchants_table mt\n",
    "        \n",
    "    drop table merchants_table;\n",
    "    drop table trx_table;\n",
    "    \n",
    "    return true;\n",
    "    end\n",
    "    $function$\n",
    "    ;"
   ]
  },
  {
   "cell_type": "code",
   "execution_count": null,
   "metadata": {},
   "outputs": [],
   "source": [
    "import os\n",
    "import psycopg2 as pg\n",
    "import pandas as pd\n",
    "import datarobot as dr\n",
    "from sqlalchemy import create_engine\n",
    "\n",
    "#read file with credentials\n",
    "path = '/Users/andreelimardinata/user_info.txt'\n",
    "user = open(path)\n",
    "user_info = user.read()\n",
    "\n",
    "#create connection with DWH\n",
    "conn = pg.connect(user_info)\n",
    "cur = conn.cursor()\n",
    "\n",
    "query1 = \"\"\"\"\"\"\n",
    "#run query\n",
    "query = pd.read_sql_query(query1,con=conn)\n",
    "cur.close()\n",
    "conn.close()\n",
    "\n",
    "os.system(\"python datarobot_prediction.py Input/temp.csv Output/result_temp.csv\")\n",
    "results = pd.read_csv('Output/result_temp.csv')\n",
    "\n",
    "test = create_engine(user_info)\n",
    "#ingest info to DWH\n",
    "df_final.to_sql(name = 'table', con=test, schema='schema_name', if_exists='append',\n",
    "               index=False, method='multi')"
   ]
  },
  {
   "cell_type": "markdown",
   "metadata": {},
   "source": [
    "## UPDATE table"
   ]
  },
  {
   "cell_type": "code",
   "execution_count": null,
   "metadata": {},
   "outputs": [],
   "source": [
    "query2 = \"\"\"\n",
    "UPDATE schema.table\n",
    "SET first_name = UPPER(first_name)\n",
    "where updated_at = (select max(updated_at) as updated_at from schema.table_name);\n",
    "\n",
    "update schema.table\n",
    "SET last_name = UPPER(last_name)\n",
    "where updated_at = (select max(updated_at) as updated_at from schema.table_name);\n",
    "\n",
    "UPDATE schema.table \n",
    "SET first_name = replace(first_name, 'ä','a')\n",
    "where updated_at = (select max(updated_at) as updated_at from schema.table_name);\n",
    "\n",
    "UPDATE schema.table\n",
    "SET first_name = INITCAP(first_name)\n",
    "where updated_at = (select max(updated_at) as updated_at from schema.table_name);\n",
    "\n",
    "UPDATE schema.table\n",
    "SET last_name = INITCAP(last_name)\n",
    "where updated_at = (select max(updated_at) as updated_at from schema.table_name);\n",
    "\"\"\"\n",
    "\n",
    "#run query\n",
    "cur.execute(query_2)\n",
    "conn.commit()\n",
    "cur.close()\n",
    "conn.close()"
   ]
  },
  {
   "cell_type": "markdown",
   "metadata": {},
   "source": [
    "# Insert local variable as variable to DWH"
   ]
  },
  {
   "cell_type": "code",
   "execution_count": null,
   "metadata": {},
   "outputs": [],
   "source": [
    "tenure = 12\n",
    "query_3 = pd.read_sql(\"\"\"SELECT {tenure} as period FROM table\"\"\")"
   ]
  }
 ],
 "metadata": {
  "kernelspec": {
   "display_name": "Python 3",
   "language": "python",
   "name": "python3"
  },
  "language_info": {
   "codemirror_mode": {
    "name": "ipython",
    "version": 3
   },
   "file_extension": ".py",
   "mimetype": "text/x-python",
   "name": "python",
   "nbconvert_exporter": "python",
   "pygments_lexer": "ipython3",
   "version": "3.8.3"
  },
  "toc": {
   "base_numbering": 1,
   "nav_menu": {},
   "number_sections": true,
   "sideBar": true,
   "skip_h1_title": false,
   "title_cell": "Table of Contents",
   "title_sidebar": "Contents",
   "toc_cell": false,
   "toc_position": {},
   "toc_section_display": true,
   "toc_window_display": true
  }
 },
 "nbformat": 4,
 "nbformat_minor": 4
}
