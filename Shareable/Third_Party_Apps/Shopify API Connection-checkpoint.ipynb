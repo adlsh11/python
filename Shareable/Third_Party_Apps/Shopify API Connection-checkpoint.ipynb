{
 "cells": [
  {
   "cell_type": "markdown",
   "metadata": {},
   "source": [
    "First create a new application in the Partners Dashboard, and retrieve your API Key and API Secret Key."
   ]
  },
  {
   "cell_type": "code",
   "execution_count": null,
   "metadata": {},
   "outputs": [],
   "source": [
    "shopify.Session.setup(api_key=API_KEY, secret=API_SECRET)"
   ]
  },
  {
   "cell_type": "code",
   "execution_count": null,
   "metadata": {},
   "outputs": [],
   "source": [
    "shop_url = \"SHOP_NAME.myshopify.com\"\n",
    "api_version = '2020-10'\n",
    "state = binascii.b2a_hex(os.urandom(15)).decode(\"utf-8\")\n",
    "redirect_uri = \"http://myapp.com/auth/shopify/callback\"\n",
    "scopes = ['read_products', 'read_orders']\n",
    "\n",
    "newSession = shopify.Session(shop_url, api_version)\n",
    "auth_url = newSession.create_permission_url(scopes, redirect_uri, state)\n",
    "# redirect to auth_url"
   ]
  },
  {
   "cell_type": "code",
   "execution_count": null,
   "metadata": {},
   "outputs": [],
   "source": [
    "session = shopify.Session(shop_url, api_version)\n",
    "access_token = session.request_token(request_params) # request_token will validate hmac and timing attacks\n",
    "# you should save the access token now for future use."
   ]
  },
  {
   "cell_type": "markdown",
   "metadata": {},
   "source": [
    "# Get a Specific Product"
   ]
  },
  {
   "cell_type": "code",
   "execution_count": null,
   "metadata": {},
   "outputs": [],
   "source": [
    "session = shopify.Session(shop_url, api_version, access_token)\n",
    "shopify.ShopifyResource.activate_session(session)\n",
    "\n",
    "shop = shopify.Shop.current() # Get the current shop\n",
    "product = shopify.Product.find(179761209) # Get a specific product\n",
    "\n",
    "# execute a graphQL call\n",
    "shopify.GraphQL().execute(\"{ shop { name id } }\")"
   ]
  },
  {
   "cell_type": "markdown",
   "metadata": {},
   "source": [
    "# Shopify Reports"
   ]
  },
  {
   "cell_type": "markdown",
   "metadata": {},
   "source": [
    "You can use the Report resource to publish reports to the Reports page in the Shopify admin. For example, a shirt fulfillment app could publish a report that compares the sales of shirts by marketing campaign. The reports are based on queries written in ShopifyQL.\n",
    "\n",
    "Reports are scoped to the app that created them. When an app creates a report, other apps can't view, modify, or delete that report. Also, apps can't access reports that were created from the Shopify admin."
   ]
  },
  {
   "cell_type": "markdown",
   "metadata": {},
   "source": [
    "Retrieve a single report <br>\n",
    "GET /admin/api/2021-04/reports/517154478.json"
   ]
  },
  {
   "cell_type": "markdown",
   "metadata": {},
   "source": [
    "GET /admin/api/2021-04/reports.json"
   ]
  },
  {
   "cell_type": "markdown",
   "metadata": {},
   "source": [
    "## Clear Session"
   ]
  },
  {
   "cell_type": "code",
   "execution_count": null,
   "metadata": {},
   "outputs": [],
   "source": [
    "shopify.ShopifyResource.clear_session()"
   ]
  }
 ],
 "metadata": {
  "kernelspec": {
   "display_name": "Python 3",
   "language": "python",
   "name": "python3"
  },
  "language_info": {
   "codemirror_mode": {
    "name": "ipython",
    "version": 3
   },
   "file_extension": ".py",
   "mimetype": "text/x-python",
   "name": "python",
   "nbconvert_exporter": "python",
   "pygments_lexer": "ipython3",
   "version": "3.8.3"
  },
  "toc": {
   "base_numbering": 1,
   "nav_menu": {},
   "number_sections": true,
   "sideBar": true,
   "skip_h1_title": false,
   "title_cell": "Table of Contents",
   "title_sidebar": "Contents",
   "toc_cell": false,
   "toc_position": {},
   "toc_section_display": true,
   "toc_window_display": true
  }
 },
 "nbformat": 4,
 "nbformat_minor": 4
}
