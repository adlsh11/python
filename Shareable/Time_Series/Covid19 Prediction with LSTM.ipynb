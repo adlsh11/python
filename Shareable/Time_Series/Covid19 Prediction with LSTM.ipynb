{
 "cells": [
  {
   "cell_type": "code",
   "execution_count": 1,
   "metadata": {
    "ExecuteTime": {
     "end_time": "2021-05-08T12:39:12.005767Z",
     "start_time": "2021-05-08T12:39:11.468527Z"
    }
   },
   "outputs": [],
   "source": [
    "import pandas as pd\n",
    "import numpy as np\n",
    "import matplotlib.pyplot as plt\n",
    "country = \"US\"\n",
    "#country = 'India'"
   ]
  },
  {
   "cell_type": "code",
   "execution_count": 12,
   "metadata": {
    "ExecuteTime": {
     "end_time": "2021-05-08T12:44:52.413401Z",
     "start_time": "2021-05-08T12:44:52.331361Z"
    }
   },
   "outputs": [],
   "source": [
    "from jupyterthemes import jtplot\n",
    "jtplot.style()"
   ]
  },
  {
   "cell_type": "code",
   "execution_count": 13,
   "metadata": {
    "ExecuteTime": {
     "end_time": "2021-05-08T12:44:53.533192Z",
     "start_time": "2021-05-08T12:44:52.858448Z"
    }
   },
   "outputs": [
    {
     "name": "stdout",
     "output_type": "stream",
     "text": [
      "Total days in the dataset 472\n"
     ]
    },
    {
     "data": {
      "image/png": "[encoded data removed]",
      "text/plain": [
       "<Figure size 720x360 with 1 Axes>"
      ]
     },
     "metadata": {},
     "output_type": "display_data"
    }
   ],
   "source": [
    "#Total COVID confirmed cases\n",
    "df_confirmed = pd.read_csv(\"https://raw.githubusercontent.com/CSSEGISandData/COVID-19/master/csse_covid_19_data/csse_covid_19_time_series/time_series_covid19_confirmed_global.csv\")\n",
    "#df_confirmed.to_csv('global.csv')\n",
    "df_confirmed_country = df_confirmed[df_confirmed[\"Country/Region\"] == country]\n",
    "df_confirmed_country = pd.DataFrame(df_confirmed_country[df_confirmed_country.columns[4:]].sum(),columns=[\"confirmed\"])\n",
    "df_confirmed_country.index = pd.to_datetime(df_confirmed_country.index,format='%m/%d/%y')\n",
    "\n",
    "df_confirmed_country.plot(figsize=(10,5),title=\"COVID confirmed cases\")\n",
    "\n",
    "df_confirmed_country.tail(10)\n",
    "\n",
    "print(\"Total days in the dataset\", len(df_confirmed_country))\n"
   ]
  },
  {
   "cell_type": "markdown",
   "metadata": {},
   "source": [
    "# Define train and test set"
   ]
  },
  {
   "cell_type": "code",
   "execution_count": 14,
   "metadata": {
    "ExecuteTime": {
     "end_time": "2021-05-08T12:44:53.548111Z",
     "start_time": "2021-05-08T12:44:53.534149Z"
    }
   },
   "outputs": [],
   "source": [
    "#Use data until 14 days before as training\n",
    "x = len(df_confirmed_country)-14\n",
    "\n",
    "train=df_confirmed_country.iloc[:x]\n",
    "test = df_confirmed_country.iloc[x:]"
   ]
  },
  {
   "cell_type": "markdown",
   "metadata": {},
   "source": [
    "# Scale or Normalize Data"
   ]
  },
  {
   "cell_type": "code",
   "execution_count": 15,
   "metadata": {
    "ExecuteTime": {
     "end_time": "2021-05-08T12:44:53.656800Z",
     "start_time": "2021-05-08T12:44:53.644672Z"
    }
   },
   "outputs": [],
   "source": [
    "##scale or normalize data as the data is too skewed\n",
    "from sklearn.preprocessing import MinMaxScaler\n",
    "scaler = MinMaxScaler()\n",
    "scaler.fit(train) \n",
    "\n",
    "train_scaled = scaler.transform(train)\n",
    "test_scaled = scaler.transform(test)"
   ]
  },
  {
   "cell_type": "markdown",
   "metadata": {},
   "source": [
    "# Generate train and test using Time Series Generator"
   ]
  },
  {
   "cell_type": "code",
   "execution_count": 16,
   "metadata": {
    "ExecuteTime": {
     "end_time": "2021-05-08T12:44:54.126974Z",
     "start_time": "2021-05-08T12:44:54.121023Z"
    }
   },
   "outputs": [
    {
     "name": "stdout",
     "output_type": "stream",
     "text": [
      "Total number of samples in the original training data =  458\n",
      "Total number of samples in the generated data =  451\n",
      "Total number of samples in the original training data =  14\n",
      "Total number of samples in the generated data =  7\n"
     ]
    }
   ],
   "source": [
    "## Use TimeSeriestrain_generator to generate data in sequences.\n",
    "#Alternatively we can create our own sequences. \n",
    "from keras.preprocessing.sequence import TimeseriesGenerator\n",
    "\n",
    "#Sequence size has an impact on prediction, especially since COVID is unpredictable!\n",
    "seq_size = 7  ## number of steps (lookback)\n",
    "n_features = 1 ## number of features. This dataset is univariate so it is 1\n",
    "train_generator = TimeseriesGenerator(train_scaled, train_scaled, length = seq_size, batch_size=1)\n",
    "print(\"Total number of samples in the original training data = \", len(train)) # 271\n",
    "print(\"Total number of samples in the generated data = \", len(train_generator)) # 264 with seq_size=7\n",
    "\n",
    "#Check data shape from generator\n",
    "x,y = train_generator[10]  #Check train_generator\n",
    "#Takes 7 days as x and 8th day as y (for seq_size=7)\n",
    "\n",
    "#Also generate test data\n",
    "test_generator = TimeseriesGenerator(test_scaled, test_scaled, length=seq_size, batch_size=1)\n",
    "print(\"Total number of samples in the original training data = \", len(test)) # 14 as we're using last 14 days for test\n",
    "print(\"Total number of samples in the generated data = \", len(test_generator)) # 7\n",
    "#Check data shape from generator\n",
    "x,y = test_generator[0]"
   ]
  },
  {
   "cell_type": "markdown",
   "metadata": {},
   "source": [
    "# Define Model"
   ]
  },
  {
   "cell_type": "code",
   "execution_count": 17,
   "metadata": {
    "ExecuteTime": {
     "end_time": "2021-05-08T12:44:54.856393Z",
     "start_time": "2021-05-08T12:44:54.717876Z"
    }
   },
   "outputs": [
    {
     "name": "stdout",
     "output_type": "stream",
     "text": [
      "Model: \"sequential_1\"\n",
      "_________________________________________________________________\n",
      "Layer (type)                 Output Shape              Param #   \n",
      "=================================================================\n",
      "lstm_2 (LSTM)                (None, 7, 150)            91200     \n",
      "_________________________________________________________________\n",
      "lstm_3 (LSTM)                (None, 64)                55040     \n",
      "_________________________________________________________________\n",
      "dense_2 (Dense)              (None, 64)                4160      \n",
      "_________________________________________________________________\n",
      "dense_3 (Dense)              (None, 1)                 65        \n",
      "=================================================================\n",
      "Total params: 150,465\n",
      "Trainable params: 150,465\n",
      "Non-trainable params: 0\n",
      "_________________________________________________________________\n",
      "Train...\n"
     ]
    }
   ],
   "source": [
    "from keras.models import Sequential\n",
    "from keras.layers import Dense, LSTM, Dropout, Activation\n",
    "\n",
    "#Define Model \n",
    "model = Sequential()\n",
    "model.add(LSTM(150, activation='relu', return_sequences=True, input_shape=(seq_size, n_features)))\n",
    "model.add(LSTM(64, activation='relu'))\n",
    "model.add(Dense(64))\n",
    "model.add(Dense(1))\n",
    "model.compile(optimizer='adam', loss='mean_squared_error')\n",
    "\n",
    "model.summary()\n",
    "print('Train...')\n",
    "##########################"
   ]
  },
  {
   "cell_type": "markdown",
   "metadata": {},
   "source": [
    "# Fit Model"
   ]
  },
  {
   "cell_type": "code",
   "execution_count": 18,
   "metadata": {
    "ExecuteTime": {
     "end_time": "2021-05-08T12:45:01.012730Z",
     "start_time": "2021-05-08T12:44:55.301447Z"
    }
   },
   "outputs": [
    {
     "name": "stdout",
     "output_type": "stream",
     "text": [
      "Epoch 1/50\n",
      "10/10 [==============================] - 0s 29ms/step - loss: 0.2052 - val_loss: 0.6727\n",
      "Epoch 2/50\n",
      "10/10 [==============================] - 0s 6ms/step - loss: 0.0115 - val_loss: 0.4115\n",
      "Epoch 3/50\n",
      "10/10 [==============================] - 0s 5ms/step - loss: 0.0524 - val_loss: 0.2043\n",
      "Epoch 4/50\n",
      "10/10 [==============================] - 0s 5ms/step - loss: 0.0134 - val_loss: 0.0148\n",
      "Epoch 5/50\n",
      "10/10 [==============================] - 0s 5ms/step - loss: 0.0038 - val_loss: 0.0057\n",
      "Epoch 6/50\n",
      "10/10 [==============================] - 0s 5ms/step - loss: 0.0027 - val_loss: 0.0014\n",
      "Epoch 7/50\n",
      "10/10 [==============================] - 0s 5ms/step - loss: 0.0025 - val_loss: 0.0302\n",
      "Epoch 8/50\n",
      "10/10 [==============================] - 0s 5ms/step - loss: 0.0154 - val_loss: 0.1054\n",
      "Epoch 9/50\n",
      "10/10 [==============================] - 0s 5ms/step - loss: 0.0068 - val_loss: 2.1607e-04\n",
      "Epoch 10/50\n",
      "10/10 [==============================] - 0s 5ms/step - loss: 0.0060 - val_loss: 0.0195\n",
      "Epoch 11/50\n",
      "10/10 [==============================] - 0s 5ms/step - loss: 0.0054 - val_loss: 5.4911e-04\n",
      "Epoch 12/50\n",
      "10/10 [==============================] - 0s 5ms/step - loss: 0.0013 - val_loss: 0.0027\n",
      "Epoch 13/50\n",
      "10/10 [==============================] - 0s 5ms/step - loss: 0.0015 - val_loss: 7.5626e-04\n",
      "Epoch 14/50\n",
      "10/10 [==============================] - 0s 5ms/step - loss: 0.0010 - val_loss: 7.5896e-05\n",
      "Epoch 15/50\n",
      "10/10 [==============================] - 0s 6ms/step - loss: 6.3070e-04 - val_loss: 4.9581e-04\n",
      "Epoch 16/50\n",
      "10/10 [==============================] - 0s 5ms/step - loss: 2.2211e-04 - val_loss: 1.6867e-04\n",
      "Epoch 17/50\n",
      "10/10 [==============================] - 0s 5ms/step - loss: 2.1828e-04 - val_loss: 0.0030\n",
      "Epoch 18/50\n",
      "10/10 [==============================] - 0s 6ms/step - loss: 5.0061e-04 - val_loss: 0.0015\n",
      "Epoch 19/50\n",
      "10/10 [==============================] - 0s 5ms/step - loss: 4.0081e-04 - val_loss: 6.6449e-04\n",
      "Epoch 20/50\n",
      "10/10 [==============================] - 0s 5ms/step - loss: 9.6318e-05 - val_loss: 5.4904e-04\n",
      "Epoch 21/50\n",
      "10/10 [==============================] - 0s 5ms/step - loss: 1.6317e-04 - val_loss: 6.4859e-05\n",
      "Epoch 22/50\n",
      "10/10 [==============================] - 0s 5ms/step - loss: 1.3553e-04 - val_loss: 1.1081e-04\n",
      "Epoch 23/50\n",
      "10/10 [==============================] - 0s 6ms/step - loss: 1.1290e-04 - val_loss: 1.4348e-04\n",
      "Epoch 24/50\n",
      "10/10 [==============================] - 0s 5ms/step - loss: 4.1760e-05 - val_loss: 4.9658e-06\n",
      "Epoch 25/50\n",
      "10/10 [==============================] - 0s 5ms/step - loss: 7.7165e-05 - val_loss: 1.4833e-06\n",
      "Epoch 26/50\n",
      "10/10 [==============================] - 0s 6ms/step - loss: 5.9219e-05 - val_loss: 2.0044e-04\n",
      "Epoch 27/50\n",
      "10/10 [==============================] - 0s 5ms/step - loss: 8.5714e-05 - val_loss: 9.6859e-06\n",
      "Epoch 28/50\n",
      "10/10 [==============================] - 0s 5ms/step - loss: 5.4534e-05 - val_loss: 3.9203e-05\n",
      "Epoch 29/50\n",
      "10/10 [==============================] - 0s 5ms/step - loss: 1.1852e-04 - val_loss: 2.2936e-05\n",
      "Epoch 30/50\n",
      "10/10 [==============================] - 0s 5ms/step - loss: 1.3519e-04 - val_loss: 9.6539e-06\n",
      "Epoch 31/50\n",
      "10/10 [==============================] - 0s 5ms/step - loss: 5.7660e-05 - val_loss: 1.6236e-04\n",
      "Epoch 32/50\n",
      "10/10 [==============================] - 0s 5ms/step - loss: 1.0800e-04 - val_loss: 1.8510e-07\n",
      "Epoch 33/50\n",
      "10/10 [==============================] - 0s 5ms/step - loss: 9.3345e-05 - val_loss: 2.0177e-04\n",
      "Epoch 34/50\n",
      "10/10 [==============================] - 0s 5ms/step - loss: 6.1595e-05 - val_loss: 5.1408e-04\n",
      "Epoch 35/50\n",
      "10/10 [==============================] - 0s 5ms/step - loss: 1.1480e-04 - val_loss: 6.5076e-04\n",
      "Epoch 36/50\n",
      "10/10 [==============================] - 0s 6ms/step - loss: 2.1084e-04 - val_loss: 9.3166e-04\n",
      "Epoch 37/50\n",
      "10/10 [==============================] - 0s 5ms/step - loss: 3.6909e-04 - val_loss: 8.6576e-04\n",
      "Epoch 38/50\n",
      "10/10 [==============================] - 0s 6ms/step - loss: 4.9587e-04 - val_loss: 3.6046e-04\n",
      "Epoch 39/50\n",
      "10/10 [==============================] - 0s 5ms/step - loss: 1.8963e-04 - val_loss: 0.0016\n",
      "Epoch 40/50\n",
      "10/10 [==============================] - 0s 6ms/step - loss: 1.0040e-04 - val_loss: 0.0016\n",
      "Epoch 41/50\n",
      "10/10 [==============================] - 0s 5ms/step - loss: 2.5832e-04 - val_loss: 4.0028e-04\n",
      "Epoch 42/50\n",
      "10/10 [==============================] - 0s 6ms/step - loss: 3.2574e-04 - val_loss: 4.2097e-05\n",
      "Epoch 43/50\n",
      "10/10 [==============================] - 0s 6ms/step - loss: 6.4441e-05 - val_loss: 4.1568e-04\n",
      "Epoch 44/50\n",
      "10/10 [==============================] - 0s 5ms/step - loss: 9.1032e-05 - val_loss: 0.0018\n",
      "Epoch 45/50\n",
      "10/10 [==============================] - 0s 6ms/step - loss: 3.4786e-04 - val_loss: 0.0052\n",
      "Epoch 46/50\n",
      "10/10 [==============================] - 0s 5ms/step - loss: 0.0016 - val_loss: 0.0025\n",
      "Epoch 47/50\n",
      "10/10 [==============================] - 0s 6ms/step - loss: 0.0020 - val_loss: 1.5903e-06\n",
      "Epoch 48/50\n",
      "10/10 [==============================] - 0s 5ms/step - loss: 0.0013 - val_loss: 0.0029\n",
      "Epoch 49/50\n",
      "10/10 [==============================] - 0s 5ms/step - loss: 0.0022 - val_loss: 9.8349e-04\n",
      "Epoch 50/50\n",
      "10/10 [==============================] - 0s 5ms/step - loss: 5.6585e-04 - val_loss: 0.0017\n"
     ]
    },
    {
     "data": {
      "image/png": "[encoded data removed]",
      "text/plain": [
       "<Figure size 460.8x403.2 with 1 Axes>"
      ]
     },
     "metadata": {},
     "output_type": "display_data"
    }
   ],
   "source": [
    "history = model.fit_generator(train_generator, \n",
    "                              validation_data=test_generator, \n",
    "                              epochs=50, steps_per_epoch=10)\n",
    "\n",
    "\n",
    "#plot the training and validation accuracy and loss at each epoch\n",
    "loss = history.history['loss']\n",
    "val_loss = history.history['val_loss']\n",
    "epochs = range(1, len(loss) + 1)\n",
    "plt.plot(epochs, loss, 'y', label='Training loss')\n",
    "plt.plot(epochs, val_loss, 'r', label='Validation loss')\n",
    "plt.title('Training and validation loss')\n",
    "plt.xlabel('Epochs')\n",
    "plt.ylabel('Loss')\n",
    "plt.legend()\n",
    "plt.show()"
   ]
  },
  {
   "cell_type": "markdown",
   "metadata": {},
   "source": [
    "# Forecast"
   ]
  },
  {
   "cell_type": "code",
   "execution_count": 19,
   "metadata": {
    "ExecuteTime": {
     "end_time": "2021-05-08T12:45:01.876621Z",
     "start_time": "2021-05-08T12:45:01.013756Z"
    }
   },
   "outputs": [],
   "source": [
    "#forecast\n",
    "prediction = [] #Empty list to populate later with predictions\n",
    "\n",
    "current_batch = train_scaled[-seq_size:] #Final data points in train \n",
    "current_batch = current_batch.reshape(1, seq_size, n_features) #Reshape\n",
    "\n",
    "## Predict future, beyond test dates\n",
    "future = 7 #Days\n",
    "for i in range(len(test) + future):\n",
    "    current_pred = model.predict(current_batch)[0]\n",
    "    prediction.append(current_pred)\n",
    "    current_batch = np.append(current_batch[:,1:,:],[[current_pred]],axis=1)\n",
    "\n",
    "### Inverse transform to before scaling so we get actual numbers\n",
    "rescaled_prediction = scaler.inverse_transform(prediction)\n",
    "\n",
    "time_series_array = test.index  #Get dates for test data"
   ]
  },
  {
   "cell_type": "code",
   "execution_count": 20,
   "metadata": {
    "ExecuteTime": {
     "end_time": "2021-05-08T12:45:01.892579Z",
     "start_time": "2021-05-08T12:45:01.877592Z"
    }
   },
   "outputs": [],
   "source": [
    "#Add new dates for the forecast period\n",
    "for k in range(0, future):\n",
    "    time_series_array = time_series_array.append(time_series_array[-1:] + pd.DateOffset(1))"
   ]
  },
  {
   "cell_type": "code",
   "execution_count": 21,
   "metadata": {
    "ExecuteTime": {
     "end_time": "2021-05-08T12:45:01.908168Z",
     "start_time": "2021-05-08T12:45:01.894550Z"
    }
   },
   "outputs": [],
   "source": [
    "#Create a dataframe to capture the forecast data\n",
    "df_forecast = pd.DataFrame(columns=[\"actual_confirmed\",\"predicted\"], index=time_series_array)\n",
    "\n",
    "df_forecast.loc[:,\"predicted\"] = rescaled_prediction[:,0]\n",
    "df_forecast.loc[:,\"actual_confirmed\"] = test[\"confirmed\"]"
   ]
  },
  {
   "cell_type": "markdown",
   "metadata": {},
   "source": [
    "## Forecast Plot"
   ]
  },
  {
   "cell_type": "code",
   "execution_count": 22,
   "metadata": {
    "ExecuteTime": {
     "end_time": "2021-05-08T12:45:02.048968Z",
     "start_time": "2021-05-08T12:45:01.909165Z"
    }
   },
   "outputs": [
    {
     "data": {
      "text/plain": [
       "<matplotlib.axes._subplots.AxesSubplot at 0x1dffff41e80>"
      ]
     },
     "execution_count": 22,
     "metadata": {},
     "output_type": "execute_result"
    },
    {
     "data": {
      "image/png": "[encoded data removed]",
      "text/plain": [
       "<Figure size 460.8x403.2 with 1 Axes>"
      ]
     },
     "metadata": {},
     "output_type": "display_data"
    }
   ],
   "source": [
    "#Plot\n",
    "df_forecast.plot(title=\"Predictions for next 7 days\")"
   ]
  }
 ],
 "metadata": {
  "kernelspec": {
   "display_name": "Python 3",
   "language": "python",
   "name": "python3"
  },
  "language_info": {
   "codemirror_mode": {
    "name": "ipython",
    "version": 3
   },
   "file_extension": ".py",
   "mimetype": "text/x-python",
   "name": "python",
   "nbconvert_exporter": "python",
   "pygments_lexer": "ipython3",
   "version": "3.8.3"
  },
  "toc": {
   "base_numbering": 1,
   "nav_menu": {},
   "number_sections": true,
   "sideBar": true,
   "skip_h1_title": false,
   "title_cell": "Table of Contents",
   "title_sidebar": "Contents",
   "toc_cell": false,
   "toc_position": {},
   "toc_section_display": true,
   "toc_window_display": true
  }
 },
 "nbformat": 4,
 "nbformat_minor": 4
}
