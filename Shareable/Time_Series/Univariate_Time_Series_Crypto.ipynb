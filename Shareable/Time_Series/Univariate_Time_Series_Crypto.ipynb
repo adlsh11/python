{
 "cells": [
  {
   "cell_type": "markdown",
   "metadata": {},
   "source": [
    "# JUST TO PREDICT THE NEXT DAY"
   ]
  },
  {
   "cell_type": "code",
   "execution_count": 1,
   "metadata": {
    "ExecuteTime": {
     "end_time": "2021-05-08T17:43:25.494864Z",
     "start_time": "2021-05-08T17:43:22.858205Z"
    }
   },
   "outputs": [],
   "source": [
    "import numpy as np\n",
    "import matplotlib.pyplot as plt\n",
    "import pandas as pd\n",
    "import pandas_datareader as web\n",
    "import datetime as dt\n",
    "\n",
    "from sklearn.preprocessing import MinMaxScaler\n",
    "from tensorflow.keras.layers import Dense, Dropout, LSTM\n",
    "from tensorflow.keras.models import Sequential"
   ]
  },
  {
   "cell_type": "code",
   "execution_count": 24,
   "metadata": {
    "ExecuteTime": {
     "end_time": "2021-05-08T18:04:08.864536Z",
     "start_time": "2021-05-08T18:04:08.774041Z"
    }
   },
   "outputs": [],
   "source": [
    "from jupyterthemes import jtplot\n",
    "jtplot.style()"
   ]
  },
  {
   "cell_type": "markdown",
   "metadata": {},
   "source": [
    "https://www.youtube.com/watch?v=GFSiL6zEZF0 <br>\n",
    "if you have problem with numpy, downgrade to np version 1.19.5\n",
    "#pip install numpy ==1.19.5"
   ]
  },
  {
   "cell_type": "markdown",
   "metadata": {},
   "source": [
    "# Determine Currency, Get the Data"
   ]
  },
  {
   "cell_type": "code",
   "execution_count": 2,
   "metadata": {
    "ExecuteTime": {
     "end_time": "2021-05-08T17:43:37.509353Z",
     "start_time": "2021-05-08T17:43:37.493396Z"
    }
   },
   "outputs": [],
   "source": [
    "crypto_currency = 'XRP'\n",
    "against_currency = 'USD'"
   ]
  },
  {
   "cell_type": "code",
   "execution_count": 4,
   "metadata": {
    "ExecuteTime": {
     "end_time": "2021-05-08T17:44:04.557912Z",
     "start_time": "2021-05-08T17:44:04.542953Z"
    }
   },
   "outputs": [],
   "source": [
    "start = dt.datetime(2016,1,1)\n",
    "end = dt.datetime.now()"
   ]
  },
  {
   "cell_type": "code",
   "execution_count": 5,
   "metadata": {
    "ExecuteTime": {
     "end_time": "2021-05-08T17:44:43.361112Z",
     "start_time": "2021-05-08T17:44:42.678830Z"
    }
   },
   "outputs": [],
   "source": [
    "data = web.DataReader(f'{crypto_currency}-{against_currency}','yahoo',start,end)"
   ]
  },
  {
   "cell_type": "markdown",
   "metadata": {},
   "source": [
    "# Feature Scaling"
   ]
  },
  {
   "cell_type": "code",
   "execution_count": 7,
   "metadata": {
    "ExecuteTime": {
     "end_time": "2021-05-08T17:46:02.333325Z",
     "start_time": "2021-05-08T17:46:02.326344Z"
    }
   },
   "outputs": [],
   "source": [
    "#Prepare Data\n",
    "scaler = MinMaxScaler(feature_range=(0,1))\n",
    "scaled_data = scaler.fit_transform(data['Close'].values.reshape(-1,1))"
   ]
  },
  {
   "cell_type": "code",
   "execution_count": 10,
   "metadata": {
    "ExecuteTime": {
     "end_time": "2021-05-08T17:47:17.544189Z",
     "start_time": "2021-05-08T17:47:17.532221Z"
    }
   },
   "outputs": [],
   "source": [
    "prediction_days = 60 "
   ]
  },
  {
   "cell_type": "markdown",
   "metadata": {},
   "source": [
    "# Determine x_train and y_train"
   ]
  },
  {
   "cell_type": "code",
   "execution_count": 12,
   "metadata": {
    "ExecuteTime": {
     "end_time": "2021-05-08T17:50:16.204346Z",
     "start_time": "2021-05-08T17:50:16.191413Z"
    }
   },
   "outputs": [],
   "source": [
    "x_train, y_train = [], []\n",
    "for x in range(prediction_days, len(scaled_data)):\n",
    "    x_train.append(scaled_data[x-prediction_days:x, 0]) #0 in the first iteration, then 1, 2,3 \n",
    "    y_train.append(scaled_data[x,0]) # the day after the last day of x\n",
    "x_train, y_train = np.array(x_train), np.array(y_train)\n",
    "x_train = np.reshape(x_train, (x_train.shape[0],x_train.shape[1],1)) #1 is how many column"
   ]
  },
  {
   "cell_type": "markdown",
   "metadata": {},
   "source": [
    "# Create NN model"
   ]
  },
  {
   "cell_type": "code",
   "execution_count": 14,
   "metadata": {
    "ExecuteTime": {
     "end_time": "2021-05-08T17:56:39.095133Z",
     "start_time": "2021-05-08T17:55:41.475233Z"
    },
    "scrolled": true
   },
   "outputs": [
    {
     "name": "stdout",
     "output_type": "stream",
     "text": [
      "Epoch 1/25\n",
      "60/60 [==============================] - 2s 34ms/step - loss: 0.0039\n",
      "Epoch 2/25\n",
      "60/60 [==============================] - 2s 34ms/step - loss: 0.0022\n",
      "Epoch 3/25\n",
      "60/60 [==============================] - 2s 36ms/step - loss: 0.0017\n",
      "Epoch 4/25\n",
      "60/60 [==============================] - 2s 33ms/step - loss: 0.0014\n",
      "Epoch 5/25\n",
      "60/60 [==============================] - 2s 33ms/step - loss: 0.0012\n",
      "Epoch 6/25\n",
      "60/60 [==============================] - 2s 33ms/step - loss: 0.0012\n",
      "Epoch 7/25\n",
      "60/60 [==============================] - 2s 33ms/step - loss: 0.0010\n",
      "Epoch 8/25\n",
      "60/60 [==============================] - 2s 33ms/step - loss: 0.0011\n",
      "Epoch 9/25\n",
      "60/60 [==============================] - 2s 35ms/step - loss: 0.0011\n",
      "Epoch 10/25\n",
      "60/60 [==============================] - 2s 35ms/step - loss: 7.5321e-04\n",
      "Epoch 11/25\n",
      "60/60 [==============================] - 2s 34ms/step - loss: 7.2477e-04\n",
      "Epoch 12/25\n",
      "60/60 [==============================] - 2s 34ms/step - loss: 6.5057e-04\n",
      "Epoch 13/25\n",
      "60/60 [==============================] - 2s 35ms/step - loss: 7.4898e-04\n",
      "Epoch 14/25\n",
      "60/60 [==============================] - 2s 34ms/step - loss: 5.8582e-04\n",
      "Epoch 15/25\n",
      "60/60 [==============================] - 2s 33ms/step - loss: 7.7297e-04\n",
      "Epoch 16/25\n",
      "60/60 [==============================] - 2s 34ms/step - loss: 7.3876e-04\n",
      "Epoch 17/25\n",
      "60/60 [==============================] - 2s 34ms/step - loss: 6.9359e-04\n",
      "Epoch 18/25\n",
      "60/60 [==============================] - 2s 34ms/step - loss: 7.5115e-04\n",
      "Epoch 19/25\n",
      "60/60 [==============================] - 2s 34ms/step - loss: 6.5300e-04\n",
      "Epoch 20/25\n",
      "60/60 [==============================] - 2s 35ms/step - loss: 5.5592e-04\n",
      "Epoch 21/25\n",
      "60/60 [==============================] - 2s 35ms/step - loss: 6.3287e-04\n",
      "Epoch 22/25\n",
      "60/60 [==============================] - 2s 34ms/step - loss: 7.1109e-04\n",
      "Epoch 23/25\n",
      "60/60 [==============================] - 2s 34ms/step - loss: 6.7051e-04\n",
      "Epoch 24/25\n",
      "60/60 [==============================] - 2s 36ms/step - loss: 7.3241e-04\n",
      "Epoch 25/25\n",
      "60/60 [==============================] - 2s 34ms/step - loss: 5.3000e-04\n"
     ]
    },
    {
     "data": {
      "text/plain": [
       "<tensorflow.python.keras.callbacks.History at 0x19cc4cbeb80>"
      ]
     },
     "execution_count": 14,
     "metadata": {},
     "output_type": "execute_result"
    }
   ],
   "source": [
    "#Create a Neural Network\n",
    "model = Sequential()\n",
    "model.add(LSTM(units=50, return_sequences=True, input_shape=(x_train.shape[1],1)))\n",
    "model.add(Dropout(0.2))\n",
    "model.add(LSTM(units=50, return_sequences=True))\n",
    "model.add(Dropout(0.2))\n",
    "model.add(LSTM(units=50))\n",
    "model.add(Dropout(0.2))\n",
    "model.add(Dense(units=1))\n",
    "\n",
    "model.compile(optimizer='adam',loss='mean_squared_error')\n",
    "model.fit(x_train, y_train, epochs=25, batch_size=32)"
   ]
  },
  {
   "cell_type": "markdown",
   "metadata": {},
   "source": [
    "# Test the Model"
   ]
  },
  {
   "cell_type": "code",
   "execution_count": 15,
   "metadata": {
    "ExecuteTime": {
     "end_time": "2021-05-08T17:57:25.747669Z",
     "start_time": "2021-05-08T17:57:25.109717Z"
    }
   },
   "outputs": [],
   "source": [
    "#testing the model\n",
    "test_start = dt.datetime(2020,1,1)\n",
    "test_end = dt.datetime.now()\n",
    "\n",
    "test_data = web.DataReader(f'{crypto_currency}-{against_currency}', 'yahoo', test_start, test_end)\n",
    "actual_prices = test_data['Close'].values"
   ]
  },
  {
   "cell_type": "code",
   "execution_count": 16,
   "metadata": {
    "ExecuteTime": {
     "end_time": "2021-05-08T17:58:00.892070Z",
     "start_time": "2021-05-08T17:58:00.874120Z"
    }
   },
   "outputs": [],
   "source": [
    "total_dataset = pd.concat((data['Close'], test_data['Close']),axis=0)"
   ]
  },
  {
   "cell_type": "code",
   "execution_count": 18,
   "metadata": {
    "ExecuteTime": {
     "end_time": "2021-05-08T17:59:15.708577Z",
     "start_time": "2021-05-08T17:59:15.693646Z"
    }
   },
   "outputs": [],
   "source": [
    "model_inputs = total_dataset[len(total_dataset) - len(test_data) - prediction_days:].values\n",
    "#all the values minus test data minus 60 days for the predictions,\n",
    "#we get these values as inputs since we want to predict values after that."
   ]
  },
  {
   "cell_type": "code",
   "execution_count": 19,
   "metadata": {
    "ExecuteTime": {
     "end_time": "2021-05-08T17:59:51.553488Z",
     "start_time": "2021-05-08T17:59:51.547504Z"
    }
   },
   "outputs": [],
   "source": [
    "model_inputs = model_inputs.reshape(-1,1)\n",
    "model_inputs = scaler.fit_transform(model_inputs)"
   ]
  },
  {
   "cell_type": "code",
   "execution_count": 21,
   "metadata": {
    "ExecuteTime": {
     "end_time": "2021-05-08T18:01:39.075803Z",
     "start_time": "2021-05-08T18:01:39.059858Z"
    }
   },
   "outputs": [],
   "source": [
    "x_test = []\n",
    "for x in range(prediction_days, len(model_inputs)):\n",
    "    x_test.append(model_inputs[x-prediction_days:x,0])\n",
    "    \n",
    "x_test = np.array(x_test)\n",
    "x_test = np.reshape(x_test, (x_test.shape[0],x_test.shape[1],1))"
   ]
  },
  {
   "cell_type": "code",
   "execution_count": 22,
   "metadata": {
    "ExecuteTime": {
     "end_time": "2021-05-08T18:02:20.392123Z",
     "start_time": "2021-05-08T18:02:19.368047Z"
    }
   },
   "outputs": [
    {
     "data": {
      "text/plain": [
       "array([[ 1.4795916 ],\n",
       "       [ 1.2094656 ],\n",
       "       [ 0.8330322 ],\n",
       "       [ 0.49131894],\n",
       "       [ 0.22498968],\n",
       "       [ 0.03996821],\n",
       "       [-0.06518004],\n",
       "       [-0.09864302],\n",
       "       [-0.07390666],\n",
       "       [-0.00990393],\n",
       "       [ 0.07219058],\n",
       "       [ 0.15109815],\n",
       "       [ 0.21128479],\n",
       "       [ 0.24497703],\n",
       "       [ 0.25623092],\n",
       "       [ 0.25121826],\n",
       "       [ 0.2364759 ],\n",
       "       [ 0.21978797],\n",
       "       [ 0.20656852],\n",
       "       [ 0.19808175],\n",
       "       [ 0.19424604],\n",
       "       [ 0.19497143],\n",
       "       [ 0.19907911],\n",
       "       [ 0.20380749],\n",
       "       [ 0.20745364],\n",
       "       [ 0.20927836],\n",
       "       [ 0.21089315],\n",
       "       [ 0.21288821],\n",
       "       [ 0.21612957],\n",
       "       [ 0.21982852],\n",
       "       [ 0.2242299 ],\n",
       "       [ 0.22811174],\n",
       "       [ 0.23106062],\n",
       "       [ 0.23409289],\n",
       "       [ 0.23766138],\n",
       "       [ 0.24295329],\n",
       "       [ 0.2506579 ],\n",
       "       [ 0.2600198 ],\n",
       "       [ 0.26877323],\n",
       "       [ 0.2750191 ],\n",
       "       [ 0.27884078],\n",
       "       [ 0.27933016],\n",
       "       [ 0.27791774],\n",
       "       [ 0.27908048],\n",
       "       [ 0.28641662],\n",
       "       [ 0.2995322 ],\n",
       "       [ 0.3109233 ],\n",
       "       [ 0.31572714],\n",
       "       [ 0.31263652],\n",
       "       [ 0.30557433],\n",
       "       [ 0.29491502],\n",
       "       [ 0.28236103],\n",
       "       [ 0.27079365],\n",
       "       [ 0.26228583],\n",
       "       [ 0.25851732],\n",
       "       [ 0.25747728],\n",
       "       [ 0.2555719 ],\n",
       "       [ 0.24917705],\n",
       "       [ 0.24012753],\n",
       "       [ 0.23075591],\n",
       "       [ 0.22229595],\n",
       "       [ 0.21552813],\n",
       "       [ 0.21228197],\n",
       "       [ 0.21195817],\n",
       "       [ 0.21360537],\n",
       "       [ 0.21687195],\n",
       "       [ 0.22144756],\n",
       "       [ 0.22542265],\n",
       "       [ 0.22390375],\n",
       "       [ 0.21743229],\n",
       "       [ 0.2087958 ],\n",
       "       [ 0.19994228],\n",
       "       [ 0.18380511],\n",
       "       [ 0.16456676],\n",
       "       [ 0.14514427],\n",
       "       [ 0.1294161 ],\n",
       "       [ 0.11773573],\n",
       "       [ 0.11075401],\n",
       "       [ 0.10801569],\n",
       "       [ 0.11123513],\n",
       "       [ 0.1181133 ],\n",
       "       [ 0.12631536],\n",
       "       [ 0.13286686],\n",
       "       [ 0.13746154],\n",
       "       [ 0.14069793],\n",
       "       [ 0.14272697],\n",
       "       [ 0.1453742 ],\n",
       "       [ 0.14892441],\n",
       "       [ 0.15274754],\n",
       "       [ 0.1546148 ],\n",
       "       [ 0.15519221],\n",
       "       [ 0.1553356 ],\n",
       "       [ 0.15553199],\n",
       "       [ 0.15632081],\n",
       "       [ 0.15773319],\n",
       "       [ 0.15973684],\n",
       "       [ 0.16164538],\n",
       "       [ 0.16510324],\n",
       "       [ 0.16941948],\n",
       "       [ 0.17475379],\n",
       "       [ 0.17994367],\n",
       "       [ 0.18265764],\n",
       "       [ 0.1826034 ],\n",
       "       [ 0.1807521 ],\n",
       "       [ 0.17781425],\n",
       "       [ 0.17432007],\n",
       "       [ 0.17044531],\n",
       "       [ 0.16788822],\n",
       "       [ 0.16772823],\n",
       "       [ 0.16913588],\n",
       "       [ 0.170294  ],\n",
       "       [ 0.17066811],\n",
       "       [ 0.17075396],\n",
       "       [ 0.1712743 ],\n",
       "       [ 0.17253019],\n",
       "       [ 0.17443842],\n",
       "       [ 0.17678975],\n",
       "       [ 0.17927332],\n",
       "       [ 0.18373162],\n",
       "       [ 0.19128247],\n",
       "       [ 0.19862783],\n",
       "       [ 0.20473197],\n",
       "       [ 0.20954503],\n",
       "       [ 0.21226944],\n",
       "       [ 0.21285146],\n",
       "       [ 0.21147363],\n",
       "       [ 0.2087261 ],\n",
       "       [ 0.20596485],\n",
       "       [ 0.2040422 ],\n",
       "       [ 0.20281133],\n",
       "       [ 0.1997222 ],\n",
       "       [ 0.19431408],\n",
       "       [ 0.18820253],\n",
       "       [ 0.18329787],\n",
       "       [ 0.18062802],\n",
       "       [ 0.17964242],\n",
       "       [ 0.17993838],\n",
       "       [ 0.18116479],\n",
       "       [ 0.18333042],\n",
       "       [ 0.18579574],\n",
       "       [ 0.187692  ],\n",
       "       [ 0.187885  ],\n",
       "       [ 0.18709394],\n",
       "       [ 0.18573296],\n",
       "       [ 0.18379535],\n",
       "       [ 0.18189092],\n",
       "       [ 0.17998841],\n",
       "       [ 0.1787832 ],\n",
       "       [ 0.17879865],\n",
       "       [ 0.17957541],\n",
       "       [ 0.18168114],\n",
       "       [ 0.1842815 ],\n",
       "       [ 0.18762624],\n",
       "       [ 0.19025342],\n",
       "       [ 0.19170667],\n",
       "       [ 0.19218788],\n",
       "       [ 0.19186762],\n",
       "       [ 0.19093083],\n",
       "       [ 0.18974625],\n",
       "       [ 0.18866931],\n",
       "       [ 0.18767153],\n",
       "       [ 0.18694842],\n",
       "       [ 0.184926  ],\n",
       "       [ 0.18217425],\n",
       "       [ 0.17930587],\n",
       "       [ 0.17668332],\n",
       "       [ 0.17483124],\n",
       "       [ 0.1736854 ],\n",
       "       [ 0.17342736],\n",
       "       [ 0.17358623],\n",
       "       [ 0.17334528],\n",
       "       [ 0.17280552],\n",
       "       [ 0.17178933],\n",
       "       [ 0.17095444],\n",
       "       [ 0.17048581],\n",
       "       [ 0.16982459],\n",
       "       [ 0.16882364],\n",
       "       [ 0.16753542],\n",
       "       [ 0.16546786],\n",
       "       [ 0.16301788],\n",
       "       [ 0.16073759],\n",
       "       [ 0.15874976],\n",
       "       [ 0.15737087],\n",
       "       [ 0.15672651],\n",
       "       [ 0.1566147 ],\n",
       "       [ 0.15704826],\n",
       "       [ 0.15772088],\n",
       "       [ 0.15986255],\n",
       "       [ 0.16276747],\n",
       "       [ 0.1682028 ],\n",
       "       [ 0.17523605],\n",
       "       [ 0.18175161],\n",
       "       [ 0.18679501],\n",
       "       [ 0.18982852],\n",
       "       [ 0.19064736],\n",
       "       [ 0.18974032],\n",
       "       [ 0.18762206],\n",
       "       [ 0.18462472],\n",
       "       [ 0.18145233],\n",
       "       [ 0.17937559],\n",
       "       [ 0.17869884],\n",
       "       [ 0.17867303],\n",
       "       [ 0.1793807 ],\n",
       "       [ 0.18114235],\n",
       "       [ 0.18412645],\n",
       "       [ 0.18725398],\n",
       "       [ 0.19108078],\n",
       "       [ 0.19528191],\n",
       "       [ 0.20029362],\n",
       "       [ 0.20632087],\n",
       "       [ 0.21413778],\n",
       "       [ 0.22276625],\n",
       "       [ 0.23256645],\n",
       "       [ 0.24634533],\n",
       "       [ 0.26191428],\n",
       "       [ 0.27934095],\n",
       "       [ 0.2946402 ],\n",
       "       [ 0.30562812],\n",
       "       [ 0.31151968],\n",
       "       [ 0.3115247 ],\n",
       "       [ 0.30698633],\n",
       "       [ 0.29939795],\n",
       "       [ 0.2918017 ],\n",
       "       [ 0.2845867 ],\n",
       "       [ 0.27866352],\n",
       "       [ 0.27641296],\n",
       "       [ 0.27815828],\n",
       "       [ 0.28256285],\n",
       "       [ 0.28846756],\n",
       "       [ 0.29596582],\n",
       "       [ 0.30210334],\n",
       "       [ 0.3037477 ],\n",
       "       [ 0.30136186],\n",
       "       [ 0.29488793],\n",
       "       [ 0.28706548],\n",
       "       [ 0.27986425],\n",
       "       [ 0.27505493],\n",
       "       [ 0.27150142],\n",
       "       [ 0.26885498],\n",
       "       [ 0.26532146],\n",
       "       [ 0.26208013],\n",
       "       [ 0.2601708 ],\n",
       "       [ 0.26094472],\n",
       "       [ 0.26380703],\n",
       "       [ 0.26955545],\n",
       "       [ 0.2742832 ],\n",
       "       [ 0.27238753],\n",
       "       [ 0.26560357],\n",
       "       [ 0.25429142],\n",
       "       [ 0.24161401],\n",
       "       [ 0.2305928 ],\n",
       "       [ 0.22223148],\n",
       "       [ 0.2174174 ],\n",
       "       [ 0.21652308],\n",
       "       [ 0.2186759 ],\n",
       "       [ 0.22313744],\n",
       "       [ 0.22775036],\n",
       "       [ 0.23188563],\n",
       "       [ 0.23469897],\n",
       "       [ 0.2365155 ],\n",
       "       [ 0.23809339],\n",
       "       [ 0.23934102],\n",
       "       [ 0.24029128],\n",
       "       [ 0.24024776],\n",
       "       [ 0.23732057],\n",
       "       [ 0.23226632],\n",
       "       [ 0.22498947],\n",
       "       [ 0.21843517],\n",
       "       [ 0.2152446 ],\n",
       "       [ 0.21574515],\n",
       "       [ 0.2190604 ],\n",
       "       [ 0.22359306],\n",
       "       [ 0.2281369 ],\n",
       "       [ 0.23169553],\n",
       "       [ 0.23330723],\n",
       "       [ 0.2324857 ],\n",
       "       [ 0.22977494],\n",
       "       [ 0.22818226],\n",
       "       [ 0.22883052],\n",
       "       [ 0.23065919],\n",
       "       [ 0.2331903 ],\n",
       "       [ 0.23613225],\n",
       "       [ 0.23930281],\n",
       "       [ 0.2424076 ],\n",
       "       [ 0.24416234],\n",
       "       [ 0.24386656],\n",
       "       [ 0.24118935],\n",
       "       [ 0.23708896],\n",
       "       [ 0.23291877],\n",
       "       [ 0.23009193],\n",
       "       [ 0.2286692 ],\n",
       "       [ 0.229499  ],\n",
       "       [ 0.232823  ],\n",
       "       [ 0.23737404],\n",
       "       [ 0.24208325],\n",
       "       [ 0.24559149],\n",
       "       [ 0.2467945 ],\n",
       "       [ 0.24643414],\n",
       "       [ 0.2442837 ],\n",
       "       [ 0.24053994],\n",
       "       [ 0.23573098],\n",
       "       [ 0.23095104],\n",
       "       [ 0.22709012],\n",
       "       [ 0.22403048],\n",
       "       [ 0.2224041 ],\n",
       "       [ 0.22198267],\n",
       "       [ 0.22347394],\n",
       "       [ 0.22810493],\n",
       "       [ 0.23366898],\n",
       "       [ 0.23912536],\n",
       "       [ 0.2431179 ],\n",
       "       [ 0.24559541],\n",
       "       [ 0.24699913],\n",
       "       [ 0.24741018],\n",
       "       [ 0.24845591],\n",
       "       [ 0.25075364],\n",
       "       [ 0.25402167],\n",
       "       [ 0.2596633 ],\n",
       "       [ 0.26911306],\n",
       "       [ 0.27946535],\n",
       "       [ 0.28960514],\n",
       "       [ 0.3014456 ],\n",
       "       [ 0.33266866],\n",
       "       [ 0.37770826],\n",
       "       [ 0.45261014],\n",
       "       [ 0.5586614 ],\n",
       "       [ 0.66089106],\n",
       "       [ 0.71262807],\n",
       "       [ 0.71336913],\n",
       "       [ 0.6913493 ],\n",
       "       [ 0.6604183 ],\n",
       "       [ 0.6411815 ],\n",
       "       [ 0.628687  ],\n",
       "       [ 0.624379  ],\n",
       "       [ 0.627065  ],\n",
       "       [ 0.6212996 ],\n",
       "       [ 0.6115655 ],\n",
       "       [ 0.6078159 ],\n",
       "       [ 0.6096341 ],\n",
       "       [ 0.6064379 ],\n",
       "       [ 0.6016855 ],\n",
       "       [ 0.595563  ],\n",
       "       [ 0.5849796 ],\n",
       "       [ 0.5654482 ],\n",
       "       [ 0.542295  ],\n",
       "       [ 0.5191163 ],\n",
       "       [ 0.49577722],\n",
       "       [ 0.49112493],\n",
       "       [ 0.5070393 ],\n",
       "       [ 0.5374081 ],\n",
       "       [ 0.5710816 ],\n",
       "       [ 0.5948828 ],\n",
       "       [ 0.59787995],\n",
       "       [ 0.57204866],\n",
       "       [ 0.49987543],\n",
       "       [ 0.41516262],\n",
       "       [ 0.33813274],\n",
       "       [ 0.2778492 ],\n",
       "       [ 0.23742194],\n",
       "       [ 0.21242936],\n",
       "       [ 0.19687785],\n",
       "       [ 0.18719472],\n",
       "       [ 0.18306068],\n",
       "       [ 0.18584457],\n",
       "       [ 0.19190277],\n",
       "       [ 0.19905797],\n",
       "       [ 0.20697477],\n",
       "       [ 0.21313944],\n",
       "       [ 0.21972777],\n",
       "       [ 0.23677877],\n",
       "       [ 0.26239425],\n",
       "       [ 0.29092482],\n",
       "       [ 0.31492764],\n",
       "       [ 0.3261138 ],\n",
       "       [ 0.32486796],\n",
       "       [ 0.31712353],\n",
       "       [ 0.30609772],\n",
       "       [ 0.29294363],\n",
       "       [ 0.28017098],\n",
       "       [ 0.26958624],\n",
       "       [ 0.26340437],\n",
       "       [ 0.26314354],\n",
       "       [ 0.2680028 ],\n",
       "       [ 0.27195534],\n",
       "       [ 0.27348503],\n",
       "       [ 0.27257174],\n",
       "       [ 0.27027795],\n",
       "       [ 0.26698637],\n",
       "       [ 0.26342246],\n",
       "       [ 0.25799102],\n",
       "       [ 0.25207373],\n",
       "       [ 0.2502894 ],\n",
       "       [ 0.27518788],\n",
       "       [ 0.3324603 ],\n",
       "       [ 0.38922602],\n",
       "       [ 0.42669162],\n",
       "       [ 0.443621  ],\n",
       "       [ 0.45183232],\n",
       "       [ 0.4566207 ],\n",
       "       [ 0.45789117],\n",
       "       [ 0.45297366],\n",
       "       [ 0.4481037 ],\n",
       "       [ 0.44934252],\n",
       "       [ 0.4613721 ],\n",
       "       [ 0.48421636],\n",
       "       [ 0.525569  ],\n",
       "       [ 0.58016145],\n",
       "       [ 0.62801296],\n",
       "       [ 0.64961797],\n",
       "       [ 0.63963443],\n",
       "       [ 0.610909  ],\n",
       "       [ 0.5762482 ],\n",
       "       [ 0.55117536],\n",
       "       [ 0.53213364],\n",
       "       [ 0.5241026 ],\n",
       "       [ 0.53012824],\n",
       "       [ 0.5301381 ],\n",
       "       [ 0.5205267 ],\n",
       "       [ 0.49895585],\n",
       "       [ 0.47071934],\n",
       "       [ 0.44466925],\n",
       "       [ 0.42260244],\n",
       "       [ 0.41157117],\n",
       "       [ 0.41027814],\n",
       "       [ 0.4178294 ],\n",
       "       [ 0.43614477],\n",
       "       [ 0.45582426],\n",
       "       [ 0.4721328 ],\n",
       "       [ 0.48269978],\n",
       "       [ 0.48812932],\n",
       "       [ 0.49127355],\n",
       "       [ 0.4894322 ],\n",
       "       [ 0.48195165],\n",
       "       [ 0.4695294 ],\n",
       "       [ 0.45847496],\n",
       "       [ 0.44889182],\n",
       "       [ 0.44103244],\n",
       "       [ 0.43942574],\n",
       "       [ 0.4453574 ],\n",
       "       [ 0.45637444],\n",
       "       [ 0.468564  ],\n",
       "       [ 0.48776335],\n",
       "       [ 0.5097769 ],\n",
       "       [ 0.5343792 ],\n",
       "       [ 0.5581617 ],\n",
       "       [ 0.56529385],\n",
       "       [ 0.56028634],\n",
       "       [ 0.55684674],\n",
       "       [ 0.5557466 ],\n",
       "       [ 0.55659264],\n",
       "       [ 0.561318  ],\n",
       "       [ 0.56837326],\n",
       "       [ 0.5767881 ],\n",
       "       [ 0.5855602 ],\n",
       "       [ 0.59938216],\n",
       "       [ 0.6114195 ],\n",
       "       [ 0.62824035],\n",
       "       [ 0.6981721 ],\n",
       "       [ 0.8481329 ],\n",
       "       [ 0.9975555 ],\n",
       "       [ 1.1236975 ],\n",
       "       [ 1.1904225 ],\n",
       "       [ 1.2805142 ],\n",
       "       [ 1.3775843 ],\n",
       "       [ 1.477773  ],\n",
       "       [ 1.6451514 ],\n",
       "       [ 1.8347393 ],\n",
       "       [ 1.9376869 ],\n",
       "       [ 1.8567607 ],\n",
       "       [ 1.6777176 ],\n",
       "       [ 1.4641247 ],\n",
       "       [ 1.2728906 ],\n",
       "       [ 1.1602572 ],\n",
       "       [ 1.1144532 ],\n",
       "       [ 1.0974618 ],\n",
       "       [ 1.1036097 ],\n",
       "       [ 1.1006863 ],\n",
       "       [ 1.0850146 ],\n",
       "       [ 1.1390904 ],\n",
       "       [ 1.2602649 ],\n",
       "       [ 1.3902206 ],\n",
       "       [ 1.4885651 ],\n",
       "       [ 1.5815339 ],\n",
       "       [ 1.6624851 ],\n",
       "       [ 1.6777896 ],\n",
       "       [ 1.6302984 ],\n",
       "       [ 1.5102558 ],\n",
       "       [ 1.432484  ],\n",
       "       [ 1.4130185 ],\n",
       "       [ 1.4370236 ]], dtype=float32)"
      ]
     },
     "execution_count": 22,
     "metadata": {},
     "output_type": "execute_result"
    }
   ],
   "source": [
    "prediction_prices = model.predict(x_test)\n",
    "prediction_prices = scaler.inverse_transform(prediction_prices)\n",
    "prediction_prices"
   ]
  },
  {
   "cell_type": "markdown",
   "metadata": {},
   "source": [
    "# Plot Prediction vs Actual"
   ]
  },
  {
   "cell_type": "code",
   "execution_count": 28,
   "metadata": {
    "ExecuteTime": {
     "end_time": "2021-05-08T18:04:39.434190Z",
     "start_time": "2021-05-08T18:04:39.307411Z"
    }
   },
   "outputs": [
    {
     "data": {
      "image/png": "[encoded data removed]",
      "text/plain": [
       "<Figure size 460.8x403.2 with 1 Axes>"
      ]
     },
     "metadata": {},
     "output_type": "display_data"
    }
   ],
   "source": [
    "plt.plot(actual_prices, color='gold',label='Actual Prices')\n",
    "plt.plot(prediction_prices, color='turquoise',label='Prediction Prices')\n",
    "plt.title(f'{crypto_currency} price prediction')\n",
    "plt.xlabel('Time')\n",
    "plt.ylabel('Price')\n",
    "plt.legend(loc='upper left')\n",
    "plt.show()"
   ]
  },
  {
   "cell_type": "markdown",
   "metadata": {},
   "source": [
    "The model looks at 60 days and then predicted just 1 day after. \n",
    "The model then looks at another 60 days and then predicted the day after.\n",
    "That's why the model looks good."
   ]
  },
  {
   "cell_type": "markdown",
   "metadata": {},
   "source": [
    "# Predict the next day"
   ]
  },
  {
   "cell_type": "code",
   "execution_count": 29,
   "metadata": {
    "ExecuteTime": {
     "end_time": "2021-05-08T18:08:40.217142Z",
     "start_time": "2021-05-08T18:08:40.212156Z"
    }
   },
   "outputs": [],
   "source": [
    "real_data = [model_inputs[len(model_inputs)+1-prediction_days:len(model_inputs) +1, 0]]\n",
    "real_data = np.array(real_data)\n",
    "real_data = np.reshape(real_data, (real_data.shape[0], real_data.shape[1],1))"
   ]
  },
  {
   "cell_type": "code",
   "execution_count": 31,
   "metadata": {
    "ExecuteTime": {
     "end_time": "2021-05-08T18:09:30.059273Z",
     "start_time": "2021-05-08T18:09:29.144664Z"
    }
   },
   "outputs": [
    {
     "name": "stdout",
     "output_type": "stream",
     "text": [
      "WARNING:tensorflow:Model was constructed with shape (None, 60, 1) for input Tensor(\"lstm_3_input:0\", shape=(None, 60, 1), dtype=float32), but it was called on an input with incompatible shape (None, 59, 1).\n"
     ]
    },
    {
     "data": {
      "text/plain": [
       "array([[1.4797609]], dtype=float32)"
      ]
     },
     "execution_count": 31,
     "metadata": {},
     "output_type": "execute_result"
    }
   ],
   "source": [
    "prediction = model.predict(real_data)\n",
    "prediction = scaler.inverse_transform(prediction)\n",
    "prediction"
   ]
  },
  {
   "cell_type": "markdown",
   "metadata": {},
   "source": [
    "# We can target the 90th day instead of the 61st day."
   ]
  },
  {
   "cell_type": "code",
   "execution_count": 34,
   "metadata": {
    "ExecuteTime": {
     "end_time": "2021-05-08T18:15:56.384063Z",
     "start_time": "2021-05-08T18:15:02.802214Z"
    }
   },
   "outputs": [
    {
     "name": "stdout",
     "output_type": "stream",
     "text": [
      "Epoch 1/25\n",
      "58/58 [==============================] - 2s 34ms/step - loss: 0.0099\n",
      "Epoch 2/25\n",
      "58/58 [==============================] - 2s 32ms/step - loss: 0.0089\n",
      "Epoch 3/25\n",
      "58/58 [==============================] - 2s 34ms/step - loss: 0.0085\n",
      "Epoch 4/25\n",
      "58/58 [==============================] - 2s 32ms/step - loss: 0.0084\n",
      "Epoch 5/25\n",
      "58/58 [==============================] - 2s 32ms/step - loss: 0.0085\n",
      "Epoch 6/25\n",
      "58/58 [==============================] - 2s 31ms/step - loss: 0.0085\n",
      "Epoch 7/25\n",
      "58/58 [==============================] - 2s 31ms/step - loss: 0.0085\n",
      "Epoch 8/25\n",
      "58/58 [==============================] - 2s 32ms/step - loss: 0.0085\n",
      "Epoch 9/25\n",
      "58/58 [==============================] - 2s 31ms/step - loss: 0.0083\n",
      "Epoch 10/25\n",
      "58/58 [==============================] - 2s 32ms/step - loss: 0.0084\n",
      "Epoch 11/25\n",
      "58/58 [==============================] - 2s 31ms/step - loss: 0.0083\n",
      "Epoch 12/25\n",
      "58/58 [==============================] - 2s 31ms/step - loss: 0.0084\n",
      "Epoch 13/25\n",
      "58/58 [==============================] - 2s 31ms/step - loss: 0.0084\n",
      "Epoch 14/25\n",
      "58/58 [==============================] - 2s 31ms/step - loss: 0.0083\n",
      "Epoch 15/25\n",
      "58/58 [==============================] - 2s 31ms/step - loss: 0.0083\n",
      "Epoch 16/25\n",
      "58/58 [==============================] - 2s 32ms/step - loss: 0.0083\n",
      "Epoch 17/25\n",
      "58/58 [==============================] - 2s 32ms/step - loss: 0.0083\n",
      "Epoch 18/25\n",
      "58/58 [==============================] - 2s 32ms/step - loss: 0.0083\n",
      "Epoch 19/25\n",
      "58/58 [==============================] - 2s 31ms/step - loss: 0.0083\n",
      "Epoch 20/25\n",
      "58/58 [==============================] - 2s 32ms/step - loss: 0.0082\n",
      "Epoch 21/25\n",
      "58/58 [==============================] - 2s 32ms/step - loss: 0.0084\n",
      "Epoch 22/25\n",
      "58/58 [==============================] - 2s 32ms/step - loss: 0.0083\n",
      "Epoch 23/25\n",
      "58/58 [==============================] - 2s 32ms/step - loss: 0.0082\n",
      "Epoch 24/25\n",
      "58/58 [==============================] - 2s 32ms/step - loss: 0.0082\n",
      "Epoch 25/25\n",
      "58/58 [==============================] - 2s 32ms/step - loss: 0.0083\n"
     ]
    },
    {
     "data": {
      "image/png": "[encoded data removed]",
      "text/plain": [
       "<Figure size 460.8x403.2 with 1 Axes>"
      ]
     },
     "metadata": {},
     "output_type": "display_data"
    }
   ],
   "source": [
    "future_day = 60\n",
    "\n",
    "x_train, y_train = [], []\n",
    "for x in range(prediction_days, len(scaled_data)-future_day):\n",
    "    x_train.append(scaled_data[x-prediction_days:x, 0]) #0 in the first iteration, then 1, 2,3 \n",
    "    y_train.append(scaled_data[x+future_day,0]) # the day after the last day of x\n",
    "x_train, y_train = np.array(x_train), np.array(y_train)\n",
    "x_train = np.reshape(x_train, (x_train.shape[0],x_train.shape[1],1)) #1 is how many column\n",
    "\n",
    "#Create a Neural Network\n",
    "model = Sequential()\n",
    "model.add(LSTM(units=50, return_sequences=True, input_shape=(x_train.shape[1],1)))\n",
    "model.add(Dropout(0.2))\n",
    "model.add(LSTM(units=50, return_sequences=True))\n",
    "model.add(Dropout(0.2))\n",
    "model.add(LSTM(units=50))\n",
    "model.add(Dropout(0.2))\n",
    "model.add(Dense(units=1))\n",
    "\n",
    "model.compile(optimizer='adam',loss='mean_squared_error')\n",
    "model.fit(x_train, y_train, epochs=25, batch_size=32)\n",
    "\n",
    "#testing the model\n",
    "test_start = dt.datetime(2020,1,1)\n",
    "test_end = dt.datetime.now()\n",
    "\n",
    "test_data = web.DataReader(f'{crypto_currency}-{against_currency}', 'yahoo', test_start, test_end)\n",
    "actual_prices = test_data['Close'].values\n",
    "\n",
    "total_dataset = pd.concat((data['Close'], test_data['Close']),axis=0)\n",
    "\n",
    "model_inputs = total_dataset[len(total_dataset) - len(test_data) - prediction_days:].values\n",
    "#all the values minus test data minus 60 days for the predictions,\n",
    "#we get these values as inputs since we want to predict values after that.\n",
    "\n",
    "model_inputs = model_inputs.reshape(-1,1)\n",
    "model_inputs = scaler.fit_transform(model_inputs)\n",
    "\n",
    "x_test = []\n",
    "for x in range(prediction_days, len(model_inputs)):\n",
    "    x_test.append(model_inputs[x-prediction_days:x,0])\n",
    "    \n",
    "x_test = np.array(x_test)\n",
    "x_test = np.reshape(x_test, (x_test.shape[0],x_test.shape[1],1))\n",
    "\n",
    "prediction_prices = model.predict(x_test)\n",
    "prediction_prices = scaler.inverse_transform(prediction_prices)\n",
    "prediction_prices\n",
    "\n",
    "plt.plot(actual_prices, color='gold',label='Actual Prices')\n",
    "plt.plot(prediction_prices, color='palevioletred',label='Prediction Prices')\n",
    "plt.title(f'{crypto_currency} price prediction')\n",
    "plt.xlabel('Time')\n",
    "plt.ylabel('Price')\n",
    "plt.legend(loc='upper left')\n",
    "plt.show()"
   ]
  }
 ],
 "metadata": {
  "kernelspec": {
   "display_name": "Python 3",
   "language": "python",
   "name": "python3"
  },
  "language_info": {
   "codemirror_mode": {
    "name": "ipython",
    "version": 3
   },
   "file_extension": ".py",
   "mimetype": "text/x-python",
   "name": "python",
   "nbconvert_exporter": "python",
   "pygments_lexer": "ipython3",
   "version": "3.8.3"
  },
  "toc": {
   "base_numbering": 1,
   "nav_menu": {},
   "number_sections": true,
   "sideBar": true,
   "skip_h1_title": false,
   "title_cell": "Table of Contents",
   "title_sidebar": "Contents",
   "toc_cell": false,
   "toc_position": {},
   "toc_section_display": true,
   "toc_window_display": true
  }
 },
 "nbformat": 4,
 "nbformat_minor": 4
}
