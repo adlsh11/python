{
 "cells": [
  {
   "cell_type": "markdown",
   "metadata": {},
   "source": [
    "Output is cleared due to confidentiality of the information."
   ]
  },
  {
   "cell_type": "markdown",
   "metadata": {},
   "source": [
    "## Import Libraries"
   ]
  },
  {
   "cell_type": "code",
   "execution_count": null,
   "metadata": {
    "ExecuteTime": {
     "end_time": "2020-11-18T12:24:39.239444Z",
     "start_time": "2020-11-18T12:24:39.227451Z"
    }
   },
   "outputs": [],
   "source": [
    "# Import Necessary Libraries\n",
    "import numpy as np\n",
    "import pandas as pd \n",
    "import matplotlib.pyplot as plt \n",
    "import seaborn as sns\n",
    "import pandas_profiling\n",
    "import plotly.offline as po\n",
    "import plotly.graph_objs as go\n",
    "%matplotlib inline"
   ]
  },
  {
   "cell_type": "code",
   "execution_count": null,
   "metadata": {
    "ExecuteTime": {
     "end_time": "2020-11-18T12:24:39.255467Z",
     "start_time": "2020-11-18T12:24:39.239444Z"
    }
   },
   "outputs": [],
   "source": [
    "from jupyterthemes import jtplot\n",
    "jtplot.style()"
   ]
  },
  {
   "cell_type": "markdown",
   "metadata": {},
   "source": [
    "## Explore Data"
   ]
  },
  {
   "cell_type": "code",
   "execution_count": null,
   "metadata": {
    "ExecuteTime": {
     "end_time": "2020-11-18T12:24:55.103718Z",
     "start_time": "2020-11-18T12:24:39.327467Z"
    }
   },
   "outputs": [],
   "source": [
    "#Perform Exploratory Data Analysis in just one line of code\n",
    "pandas_profiling.ProfileReport(pd.read_excel(r'C:\\Users\\luc57.DESKTOP-NB5DC80\\AE\\excel\\cust_data(gender).xlsx',index_col=0))"
   ]
  },
  {
   "cell_type": "code",
   "execution_count": null,
   "metadata": {
    "ExecuteTime": {
     "end_time": "2020-11-18T12:26:02.577222Z",
     "start_time": "2020-11-18T12:26:02.134039Z"
    }
   },
   "outputs": [],
   "source": [
    "#Import Customer Churn Dataset\n",
    "churn_dataset = pd.read_excel(r'C:\\Users\\luc57.DESKTOP-NB5DC80\\AE\\excel\\cust_data(gender).xlsx',index_col=0)"
   ]
  },
  {
   "cell_type": "code",
   "execution_count": null,
   "metadata": {
    "ExecuteTime": {
     "end_time": "2020-11-18T12:26:02.687300Z",
     "start_time": "2020-11-18T12:26:02.679269Z"
    }
   },
   "outputs": [],
   "source": [
    "# Number of Columns and Rows in the Dataset\n",
    "churn_dataset.shape"
   ]
  },
  {
   "cell_type": "code",
   "execution_count": null,
   "metadata": {
    "ExecuteTime": {
     "end_time": "2020-11-18T12:26:03.214394Z",
     "start_time": "2020-11-18T12:26:03.190389Z"
    }
   },
   "outputs": [],
   "source": [
    "churn_dataset.head()"
   ]
  },
  {
   "cell_type": "markdown",
   "metadata": {},
   "source": [
    "## Data Wrangling"
   ]
  },
  {
   "cell_type": "code",
   "execution_count": null,
   "metadata": {
    "ExecuteTime": {
     "end_time": "2020-11-18T12:26:04.524160Z",
     "start_time": "2020-11-18T12:26:04.516192Z"
    }
   },
   "outputs": [],
   "source": [
    "churn_dataset = churn_dataset.loc[churn_dataset['category']!='New Purchase']\n",
    "len(churn_dataset)"
   ]
  },
  {
   "cell_type": "code",
   "execution_count": null,
   "metadata": {
    "ExecuteTime": {
     "end_time": "2020-11-18T12:26:05.116446Z",
     "start_time": "2020-11-18T12:26:05.100446Z"
    }
   },
   "outputs": [],
   "source": [
    "churn_dataset.rename(columns={'category':'Churn'},inplace=True)"
   ]
  },
  {
   "cell_type": "code",
   "execution_count": null,
   "metadata": {
    "ExecuteTime": {
     "end_time": "2020-11-18T12:26:05.597606Z",
     "start_time": "2020-11-18T12:26:05.577606Z"
    }
   },
   "outputs": [],
   "source": [
    "# Convert String values (Churned and Survived) of Churn column to 1 and 0\n",
    "churn_dataset.loc[churn_dataset.Churn=='Churned','Churn'] = 1 \n",
    "churn_dataset.loc[churn_dataset.Churn=='Survived','Churn'] = 0 "
   ]
  },
  {
   "cell_type": "code",
   "execution_count": null,
   "metadata": {
    "ExecuteTime": {
     "end_time": "2020-11-18T12:26:06.236747Z",
     "start_time": "2020-11-18T12:26:06.219196Z"
    }
   },
   "outputs": [],
   "source": [
    "# Convert String values (Male and Female) of gender column to 1 and 0\n",
    "churn_dataset.loc[churn_dataset.gender=='Male','gender'] = 1 \n",
    "churn_dataset.loc[churn_dataset.gender=='Female','gender'] = 0 "
   ]
  },
  {
   "cell_type": "code",
   "execution_count": null,
   "metadata": {
    "ExecuteTime": {
     "end_time": "2020-11-18T12:26:06.455602Z",
     "start_time": "2020-11-18T12:26:06.443598Z"
    }
   },
   "outputs": [],
   "source": [
    "#drop columns not useful for churn prediction\n",
    "churn_dataset.drop(columns=['postal_code','earliest_transaction_date',\n",
    "                           'last_transaction_date'],inplace=True)"
   ]
  },
  {
   "cell_type": "code",
   "execution_count": null,
   "metadata": {
    "ExecuteTime": {
     "end_time": "2020-11-18T12:26:07.202237Z",
     "start_time": "2020-11-18T12:26:07.190267Z"
    }
   },
   "outputs": [],
   "source": [
    "churn_dataset.columns"
   ]
  },
  {
   "cell_type": "code",
   "execution_count": null,
   "metadata": {
    "ExecuteTime": {
     "end_time": "2020-11-18T12:26:08.895308Z",
     "start_time": "2020-11-18T12:26:08.871289Z"
    }
   },
   "outputs": [],
   "source": [
    "churn_dataset.head()"
   ]
  },
  {
   "cell_type": "code",
   "execution_count": null,
   "metadata": {
    "ExecuteTime": {
     "end_time": "2020-11-18T12:26:09.423317Z",
     "start_time": "2020-11-18T12:26:09.407318Z"
    }
   },
   "outputs": [],
   "source": [
    "churn_dataset.isnull().sum()"
   ]
  },
  {
   "cell_type": "code",
   "execution_count": null,
   "metadata": {
    "ExecuteTime": {
     "end_time": "2020-11-18T12:26:09.871645Z",
     "start_time": "2020-11-18T12:26:09.859645Z"
    }
   },
   "outputs": [],
   "source": [
    "churn_dataset.order_count.unique()"
   ]
  },
  {
   "cell_type": "code",
   "execution_count": null,
   "metadata": {
    "ExecuteTime": {
     "end_time": "2020-11-18T12:26:10.686344Z",
     "start_time": "2020-11-18T12:26:10.415909Z"
    }
   },
   "outputs": [],
   "source": [
    "churn_dataset[['order_count','purchase_quantity','discount_code_used']].hist()"
   ]
  },
  {
   "cell_type": "code",
   "execution_count": null,
   "metadata": {
    "ExecuteTime": {
     "end_time": "2020-11-18T12:26:10.971797Z",
     "start_time": "2020-11-18T12:26:10.959797Z"
    }
   },
   "outputs": [],
   "source": [
    "churn_dataset.referrer_channel.value_counts()[:10]"
   ]
  },
  {
   "cell_type": "code",
   "execution_count": null,
   "metadata": {
    "ExecuteTime": {
     "end_time": "2020-11-18T12:26:11.732330Z",
     "start_time": "2020-11-18T12:26:11.708327Z"
    }
   },
   "outputs": [],
   "source": [
    "#if referrer channel not in top 10, replace with others\n",
    "top_10_referrer_channel = churn_dataset.referrer_channel.value_counts()[:10].index.tolist()\n",
    "churn_dataset.loc[~churn_dataset['referrer_channel'].isin(top_10_referrer_channel), 'referrer_channel']='Others'"
   ]
  },
  {
   "cell_type": "code",
   "execution_count": null,
   "metadata": {
    "ExecuteTime": {
     "end_time": "2020-11-18T12:26:18.043735Z",
     "start_time": "2020-11-18T12:26:18.035726Z"
    }
   },
   "outputs": [],
   "source": [
    "top_10_cities = churn_dataset.city.value_counts()[:10].index.tolist()\n",
    "churn_dataset.loc[~churn_dataset['city'].isin(top_10_cities), 'city']='Others'"
   ]
  },
  {
   "cell_type": "code",
   "execution_count": null,
   "metadata": {
    "ExecuteTime": {
     "end_time": "2020-11-18T12:26:19.322430Z",
     "start_time": "2020-11-18T12:26:19.298433Z"
    }
   },
   "outputs": [],
   "source": [
    "churn_dataset.country.value_counts()"
   ]
  },
  {
   "cell_type": "code",
   "execution_count": null,
   "metadata": {
    "ExecuteTime": {
     "end_time": "2020-11-18T12:27:06.439309Z",
     "start_time": "2020-11-18T12:27:06.419275Z"
    }
   },
   "outputs": [],
   "source": [
    "top_9_countries = churn_dataset.country.value_counts()[:9].index.tolist()\n",
    "churn_dataset.loc[~churn_dataset['country'].isin(top_9_countries), 'country']='Others'"
   ]
  },
  {
   "cell_type": "code",
   "execution_count": null,
   "metadata": {
    "ExecuteTime": {
     "end_time": "2020-11-18T12:27:06.862634Z",
     "start_time": "2020-11-18T12:27:06.850635Z"
    }
   },
   "outputs": [],
   "source": [
    "churn_dataset.country.value_counts()"
   ]
  },
  {
   "cell_type": "code",
   "execution_count": null,
   "metadata": {
    "ExecuteTime": {
     "end_time": "2020-11-18T12:27:10.217836Z",
     "start_time": "2020-11-18T12:27:10.197839Z"
    },
    "scrolled": true
   },
   "outputs": [],
   "source": [
    "churn_dataset.dtypes"
   ]
  },
  {
   "cell_type": "code",
   "execution_count": null,
   "metadata": {
    "ExecuteTime": {
     "end_time": "2020-11-18T12:27:10.578902Z",
     "start_time": "2020-11-18T12:27:10.570903Z"
    }
   },
   "outputs": [],
   "source": [
    "churn_dataset['Churn'].value_counts()"
   ]
  },
  {
   "cell_type": "code",
   "execution_count": null,
   "metadata": {
    "ExecuteTime": {
     "end_time": "2020-11-18T12:27:10.942243Z",
     "start_time": "2020-11-18T12:27:10.926213Z"
    }
   },
   "outputs": [],
   "source": [
    "churn_dataset['gender'] = churn_dataset['gender'].astype(int)\n",
    "churn_dataset['Churn'] = churn_dataset['Churn'].astype(int)\n",
    "churn_dataset.dtypes"
   ]
  },
  {
   "cell_type": "code",
   "execution_count": null,
   "metadata": {
    "ExecuteTime": {
     "end_time": "2020-11-18T12:27:11.334139Z",
     "start_time": "2020-11-18T12:27:11.314139Z"
    }
   },
   "outputs": [],
   "source": [
    "churn_dataset[\"Churn\"].value_counts().values"
   ]
  },
  {
   "cell_type": "code",
   "execution_count": null,
   "metadata": {
    "ExecuteTime": {
     "end_time": "2020-11-18T12:27:11.558142Z",
     "start_time": "2020-11-18T12:27:11.538143Z"
    }
   },
   "outputs": [],
   "source": [
    "# Visualize Total Customer Churn\n",
    "plot_by_churn_labels = churn_dataset[\"Churn\"].value_counts().keys().tolist()\n",
    "plot_by_churn_values = churn_dataset[\"Churn\"].value_counts().values.tolist()"
   ]
  },
  {
   "cell_type": "code",
   "execution_count": null,
   "metadata": {
    "ExecuteTime": {
     "end_time": "2020-11-18T12:27:11.714143Z",
     "start_time": "2020-11-18T12:27:11.694140Z"
    }
   },
   "outputs": [],
   "source": [
    "print(plot_by_churn_labels)\n",
    "print(plot_by_churn_values)"
   ]
  },
  {
   "cell_type": "code",
   "execution_count": null,
   "metadata": {
    "ExecuteTime": {
     "end_time": "2020-11-18T12:27:11.882105Z",
     "start_time": "2020-11-18T12:27:11.866139Z"
    }
   },
   "outputs": [],
   "source": [
    "churn_dataset.Churn.value_counts(normalize=True) #if we leave out the new purchase, 87% churn"
   ]
  },
  {
   "cell_type": "code",
   "execution_count": null,
   "metadata": {
    "ExecuteTime": {
     "end_time": "2020-11-18T12:27:12.074106Z",
     "start_time": "2020-11-18T12:27:12.054106Z"
    }
   },
   "outputs": [],
   "source": [
    "churn_dataset"
   ]
  },
  {
   "cell_type": "markdown",
   "metadata": {},
   "source": [
    "# Exploratory Data Analysis"
   ]
  },
  {
   "cell_type": "code",
   "execution_count": null,
   "metadata": {
    "ExecuteTime": {
     "end_time": "2020-11-18T12:27:19.399438Z",
     "start_time": "2020-11-18T12:27:19.355437Z"
    },
    "scrolled": true
   },
   "outputs": [],
   "source": [
    "plot_data= [\n",
    "    go.Pie(labels = plot_by_churn_labels,\n",
    "           values = plot_by_churn_values,\n",
    "           marker = dict(colors =  [ 'Teal' ,'Grey'],\n",
    "                         line = dict(color = \"white\",\n",
    "                                     width =  1.5)),\n",
    "           rotation = 90,\n",
    "           hoverinfo = \"label+value+text\",\n",
    "           hole = .6)\n",
    "]\n",
    "plot_layout = go.Layout(dict(title = \"Customer Churn\",\n",
    "                   plot_bgcolor  = \"rgb(243,243,243)\",\n",
    "                   paper_bgcolor = \"rgb(243,243,243)\",))\n",
    "\n",
    "\n",
    "fig = go.Figure(data=plot_data, layout=plot_layout)\n",
    "po.iplot(fig)"
   ]
  },
  {
   "cell_type": "code",
   "execution_count": null,
   "metadata": {
    "ExecuteTime": {
     "end_time": "2020-11-18T12:27:19.431437Z",
     "start_time": "2020-11-18T12:27:19.399438Z"
    }
   },
   "outputs": [],
   "source": [
    "# Visualize Churn Rate by Gender\n",
    "plot_by_gender = churn_dataset.groupby('gender').Churn.mean().reset_index()\n",
    "plot_data = [\n",
    "    go.Bar(\n",
    "        x=['Female','Male'],\n",
    "        #x=plot_by_gender['gender'],\n",
    "        y=plot_by_gender['Churn'],\n",
    "        width = [0.3, 0.3],\n",
    "        marker=dict(\n",
    "        color=['orange', 'green'])\n",
    "    )\n",
    "]\n",
    "plot_layout = go.Layout(\n",
    "        xaxis={\"type\": \"category\"},\n",
    "        yaxis={\"title\": \"Churn Rate\"},\n",
    "        title='Churn Rate by Gender',\n",
    "        plot_bgcolor  = 'rgb(243,243,243)',\n",
    "        paper_bgcolor  = 'rgb(243,243,243)',\n",
    "    )\n",
    "fig = go.Figure(data=plot_data, layout=plot_layout)\n",
    "po.iplot(fig)\n"
   ]
  },
  {
   "cell_type": "code",
   "execution_count": null,
   "metadata": {
    "ExecuteTime": {
     "end_time": "2020-11-18T12:27:19.463436Z",
     "start_time": "2020-11-18T12:27:19.431437Z"
    }
   },
   "outputs": [],
   "source": [
    "# Visualize Churn Rate by Referrer Channel\n",
    "plot_by_techsupport = churn_dataset.groupby('referrer_channel').Churn.mean().reset_index()\n",
    "plot_data = [\n",
    "    go.Bar(\n",
    "        x=plot_by_techsupport['referrer_channel'],\n",
    "        y=plot_by_techsupport['Churn'],\n",
    "        width = [0.3, 0.3, 0.3],\n",
    "        marker=dict(\n",
    "        color=['orange', 'green', 'teal','aquamarine','purple','blanchedalmond',\n",
    "               'darkgreen','cornflowerblue','indigo','lightcyan','sandybrown'])\n",
    "    )\n",
    "]\n",
    "plot_layout = go.Layout(\n",
    "        xaxis={\"type\": \"category\"},\n",
    "        yaxis={\"title\": \"Churn Rate\"},\n",
    "        title='Churn Rate by Referrer Channel',\n",
    "        plot_bgcolor  = 'rgb(243,243,243)',\n",
    "        paper_bgcolor  = 'rgb(243,243,243)',\n",
    "    )\n",
    "fig = go.Figure(data=plot_data, layout=plot_layout)\n",
    "po.iplot(fig)"
   ]
  },
  {
   "cell_type": "code",
   "execution_count": null,
   "metadata": {
    "ExecuteTime": {
     "end_time": "2020-11-18T12:27:19.495438Z",
     "start_time": "2020-11-18T12:27:19.463436Z"
    }
   },
   "outputs": [],
   "source": [
    "# Visualize Churn Rate by Last Purchase in Days\n",
    "plot_by_internet_service = churn_dataset.groupby('last_purchase_in_days').Churn.mean().reset_index()\n",
    "plot_data = [\n",
    "    go.Bar(\n",
    "        x=plot_by_internet_service['last_purchase_in_days'],\n",
    "        y=plot_by_internet_service['Churn'],\n",
    "        width = [0.3, 0.3, 0.3],\n",
    "        marker=dict(\n",
    "        color=['orange', 'green', 'teal'])\n",
    "    )\n",
    "]\n",
    "plot_layout = go.Layout(\n",
    "        xaxis={\"type\": \"category\"},\n",
    "        yaxis={\"title\": \"Churn Rate\"},\n",
    "        title='Churn Rate by Last Purchase in Days',\n",
    "        plot_bgcolor  = 'rgb(243,243,243)',\n",
    "        paper_bgcolor  = 'rgb(243,243,243)',\n",
    "    )\n",
    "fig = go.Figure(data=plot_data, layout=plot_layout)\n",
    "po.iplot(fig)\n"
   ]
  },
  {
   "cell_type": "code",
   "execution_count": null,
   "metadata": {
    "ExecuteTime": {
     "end_time": "2020-11-18T12:27:19.527442Z",
     "start_time": "2020-11-18T12:27:19.495438Z"
    }
   },
   "outputs": [],
   "source": [
    "# Visualize Churn Rate by Order Count\n",
    "plot_by_order_count = churn_dataset.groupby('order_count').Churn.mean().reset_index()\n",
    "plot_data = [\n",
    "    go.Bar(\n",
    "        x=plot_by_order_count['order_count'],\n",
    "        y=plot_by_order_count['Churn'],\n",
    "        width = [0.3, 0.3,0.3,0.3],\n",
    "        marker=dict(\n",
    "        color=['orange', 'green','teal','magenta'])\n",
    "    )\n",
    "]\n",
    "plot_layout = go.Layout(\n",
    "        xaxis={\"type\": \"category\"},\n",
    "        yaxis={\"title\": \"Churn Rate\"},\n",
    "        title='Churn Rate by Order Count',\n",
    "        plot_bgcolor  = 'rgb(243,243,243)',\n",
    "        paper_bgcolor  = 'rgb(243,243,243)',\n",
    "    )\n",
    "fig = go.Figure(data=plot_data, layout=plot_layout)\n",
    "po.iplot(fig)\n"
   ]
  },
  {
   "cell_type": "code",
   "execution_count": null,
   "metadata": {
    "ExecuteTime": {
     "end_time": "2020-11-18T12:27:19.559450Z",
     "start_time": "2020-11-18T12:27:19.527442Z"
    }
   },
   "outputs": [],
   "source": [
    "# Visualize Churn Rate by purchase_quantity Duration\n",
    "plot_by_purchase_quantity = churn_dataset.groupby('purchase_quantity').Churn.mean().reset_index()\n",
    "plot_data = [\n",
    "    go.Bar(\n",
    "        x=plot_by_purchase_quantity['purchase_quantity'],\n",
    "        y=plot_by_purchase_quantity['Churn'],\n",
    "        width = [0.3, 0.3,0.3],\n",
    "        marker=dict(\n",
    "        color=['orange', 'green','teal'])\n",
    "    )\n",
    "]\n",
    "plot_layout = go.Layout(\n",
    "        xaxis={\"type\": \"category\"},\n",
    "        yaxis={\"title\": \"Churn Rate\"},\n",
    "        title='Churn Rate by purchase_quantity Duration',\n",
    "        plot_bgcolor  = 'rgb(243,243,243)',\n",
    "        paper_bgcolor  = 'rgb(243,243,243)',\n",
    "    )\n",
    "fig = go.Figure(data=plot_data, layout=plot_layout)\n",
    "po.iplot(fig)\n"
   ]
  },
  {
   "cell_type": "code",
   "execution_count": null,
   "metadata": {
    "ExecuteTime": {
     "end_time": "2020-11-18T12:27:19.591438Z",
     "start_time": "2020-11-18T12:27:19.559450Z"
    }
   },
   "outputs": [],
   "source": [
    "# Visualize Relation between Number of Discount Code Used\n",
    "plot_by_discount_code_used = churn_dataset.groupby('discount_code_used').Churn.mean().reset_index()\n",
    "plot_data = [\n",
    "    go.Scatter(\n",
    "        x=plot_by_discount_code_used['discount_code_used'],\n",
    "        y=plot_by_discount_code_used['Churn'],\n",
    "        mode='markers',\n",
    "        name='Low',\n",
    "        marker= dict(size= 5,\n",
    "            line= dict(width=0.8),\n",
    "            color= 'green'\n",
    "           ),\n",
    "    )\n",
    "]\n",
    "plot_layout = go.Layout(\n",
    "        yaxis= {'title': \"Churn Rate\"},\n",
    "        xaxis= {'title': \"discount_code_used\"},\n",
    "        title='Relation between discount_code_used & Churn Rate',\n",
    "        plot_bgcolor  = \"rgb(243,243,243)\",\n",
    "        paper_bgcolor  = \"rgb(243,243,243)\",\n",
    "    )\n",
    "fig = go.Figure(data=plot_data, layout=plot_layout)\n",
    "po.iplot(fig)\n"
   ]
  },
  {
   "cell_type": "code",
   "execution_count": null,
   "metadata": {
    "ExecuteTime": {
     "end_time": "2020-11-18T12:27:19.623437Z",
     "start_time": "2020-11-18T12:27:19.591438Z"
    }
   },
   "outputs": [],
   "source": [
    "# Visualize Relation between AOV and Churn\n",
    "plot_by_average_order_value = churn_dataset.groupby('average_order_value').Churn.mean().reset_index()\n",
    "plot_data = [\n",
    "    go.Scatter(\n",
    "        x=plot_by_average_order_value['average_order_value'],\n",
    "        y=plot_by_average_order_value['Churn'],\n",
    "        mode='markers',\n",
    "        name='Low',\n",
    "        marker= dict(size= 5,\n",
    "            line= dict(width=0.8),\n",
    "            color= 'green'\n",
    "           ),\n",
    "    )\n",
    "]\n",
    "plot_layout = go.Layout(\n",
    "        yaxis= {'title': \"Churn Rate\"},\n",
    "        xaxis= {'title': \"average_order_value\"},\n",
    "        title='Relation between average_order_value & Churn Rate',\n",
    "        plot_bgcolor  = \"rgb(243,243,243)\",\n",
    "        paper_bgcolor  = \"rgb(243,243,243)\",\n",
    "    )\n",
    "fig = go.Figure(data=plot_data, layout=plot_layout)\n",
    "po.iplot(fig)\n"
   ]
  },
  {
   "cell_type": "code",
   "execution_count": null,
   "metadata": {
    "ExecuteTime": {
     "end_time": "2020-11-18T12:27:19.671436Z",
     "start_time": "2020-11-18T12:27:19.623437Z"
    }
   },
   "outputs": [],
   "source": [
    "# Visualize Relation between AOV and Churn\n",
    "plot_by_net_sales = churn_dataset.groupby('net_sales').Churn.mean().reset_index()\n",
    "plot_data = [\n",
    "    go.Scatter(\n",
    "        x=plot_by_net_sales['net_sales'],\n",
    "        y=plot_by_net_sales['Churn'],\n",
    "        mode='markers',\n",
    "        name='Low',\n",
    "        marker= dict(size= 5,\n",
    "            line= dict(width=0.8),\n",
    "            color= 'green'\n",
    "           ),\n",
    "    )\n",
    "]\n",
    "plot_layout = go.Layout(\n",
    "        yaxis= {'title': \"Churn Rate\"},\n",
    "        xaxis= {'title': \"net_sales\"},\n",
    "        title='Relation between net_sales & Churn Rate',\n",
    "        plot_bgcolor  = \"rgb(243,243,243)\",\n",
    "        paper_bgcolor  = \"rgb(243,243,243)\",\n",
    "    )\n",
    "fig = go.Figure(data=plot_data, layout=plot_layout)\n",
    "po.iplot(fig)\n"
   ]
  },
  {
   "cell_type": "markdown",
   "metadata": {},
   "source": [
    "The customers who spend over 200€ in net sales are less likely to churn."
   ]
  },
  {
   "cell_type": "markdown",
   "metadata": {},
   "source": [
    "# Machine Learning on Churn Dataset"
   ]
  },
  {
   "cell_type": "markdown",
   "metadata": {},
   "source": [
    "## Import libraries"
   ]
  },
  {
   "cell_type": "code",
   "execution_count": null,
   "metadata": {
    "ExecuteTime": {
     "end_time": "2020-11-18T12:27:19.703480Z",
     "start_time": "2020-11-18T12:27:19.687435Z"
    }
   },
   "outputs": [],
   "source": [
    "# Machine Learning classification model libraries\n",
    "from sklearn.linear_model import LogisticRegression\n",
    "from sklearn.neighbors import KNeighborsClassifier\n",
    "from sklearn.svm import SVC\n",
    "from sklearn.tree import DecisionTreeClassifier\n",
    "from sklearn.ensemble import RandomForestClassifier\n",
    "from sklearn import metrics"
   ]
  },
  {
   "cell_type": "code",
   "execution_count": null,
   "metadata": {
    "ExecuteTime": {
     "end_time": "2020-11-18T12:27:19.719466Z",
     "start_time": "2020-11-18T12:27:19.703480Z"
    }
   },
   "outputs": [],
   "source": [
    "churn_dataset.dtypes"
   ]
  },
  {
   "cell_type": "code",
   "execution_count": null,
   "metadata": {
    "ExecuteTime": {
     "end_time": "2020-11-18T12:27:19.735434Z",
     "start_time": "2020-11-18T12:27:19.719466Z"
    }
   },
   "outputs": [],
   "source": [
    "#Perform One Hot Encoding using get_dummies method\n",
    "churn_dataset = pd.get_dummies(churn_dataset, columns = ['referrer_channel','country','city'],\n",
    "                              drop_first=True)"
   ]
  },
  {
   "cell_type": "code",
   "execution_count": null,
   "metadata": {
    "ExecuteTime": {
     "end_time": "2020-11-18T12:27:19.751484Z",
     "start_time": "2020-11-18T12:27:19.735434Z"
    }
   },
   "outputs": [],
   "source": [
    "print(len(churn_dataset.columns))"
   ]
  },
  {
   "cell_type": "code",
   "execution_count": null,
   "metadata": {
    "ExecuteTime": {
     "end_time": "2020-11-18T12:27:19.767475Z",
     "start_time": "2020-11-18T12:27:19.751484Z"
    }
   },
   "outputs": [],
   "source": [
    "#Perform Feature Scaling and One Hot Encoding\n",
    "from sklearn.preprocessing import StandardScaler\n",
    "\n",
    "#Perform Feature Scaling on numerical columns with large range in order to bring them on same scale\n",
    "standardScaler = StandardScaler()\n",
    "columns_for_ft_scaling = ['last_purchase_in_days','order_count','discount_code_used',\n",
    "                          'average_order_value','net_sales']\n",
    "\n",
    "#Apply the feature scaling operation on dataset using fit_transform() method\n",
    "churn_dataset[columns_for_ft_scaling] = standardScaler.fit_transform(churn_dataset[columns_for_ft_scaling])\n"
   ]
  },
  {
   "cell_type": "code",
   "execution_count": null,
   "metadata": {
    "ExecuteTime": {
     "end_time": "2020-11-18T12:27:19.799471Z",
     "start_time": "2020-11-18T12:27:19.767475Z"
    }
   },
   "outputs": [],
   "source": [
    "# See subset of values\n",
    "churn_dataset.head(5)"
   ]
  },
  {
   "cell_type": "code",
   "execution_count": null,
   "metadata": {
    "ExecuteTime": {
     "end_time": "2020-11-18T12:27:19.815467Z",
     "start_time": "2020-11-18T12:27:19.799471Z"
    }
   },
   "outputs": [],
   "source": [
    "#Number of columns increased and have suffixes attached, as a result of get_dummies method.\n",
    "churn_dataset.columns"
   ]
  },
  {
   "cell_type": "markdown",
   "metadata": {},
   "source": [
    "## Create features"
   ]
  },
  {
   "cell_type": "markdown",
   "metadata": {},
   "source": [
    "As the column churn is made based on last purchase in days, we need to drop it. Otherwise, feature importance will show it as the most predictive feature."
   ]
  },
  {
   "cell_type": "code",
   "execution_count": null,
   "metadata": {
    "ExecuteTime": {
     "end_time": "2020-11-18T12:27:19.939435Z",
     "start_time": "2020-11-18T12:27:19.931435Z"
    }
   },
   "outputs": [],
   "source": [
    "#Create Feature variable X and Target variable y\n",
    "y = churn_dataset['Churn']\n",
    "X = churn_dataset.drop(['Churn','customer_name','last_purchase_in_days'], axis = 1)"
   ]
  },
  {
   "cell_type": "markdown",
   "metadata": {},
   "source": [
    "## Split data into training and test set"
   ]
  },
  {
   "cell_type": "code",
   "execution_count": null,
   "metadata": {
    "ExecuteTime": {
     "end_time": "2020-11-18T12:27:20.091436Z",
     "start_time": "2020-11-18T12:27:20.079435Z"
    }
   },
   "outputs": [],
   "source": [
    "#Split the data into training set (80%) and test set (20%)\n",
    "from sklearn.model_selection import train_test_split\n",
    "X_train, X_test, y_train, y_test = train_test_split(X, y, test_size = 0.20, random_state = 77)"
   ]
  },
  {
   "cell_type": "markdown",
   "metadata": {},
   "source": [
    "# Logistic Regression Model"
   ]
  },
  {
   "cell_type": "code",
   "execution_count": null,
   "metadata": {
    "ExecuteTime": {
     "end_time": "2020-11-18T12:27:20.231464Z",
     "start_time": "2020-11-18T12:27:20.187470Z"
    }
   },
   "outputs": [],
   "source": [
    "#Fit the logistic Regression Model\n",
    "logmodel = LogisticRegression(random_state=77)\n",
    "logmodel.fit(X_train,y_train)\n",
    "\n",
    "#Predict the value for new, unseen data\n",
    "pred = logmodel.predict(X_test)\n",
    "\n",
    "# Find Accuracy using accuracy_score method\n",
    "logmodel_accuracy = round(metrics.recall_score(y_test, pred) * 100, 2)\n",
    "print(logmodel_accuracy)"
   ]
  },
  {
   "cell_type": "code",
   "execution_count": null,
   "metadata": {
    "ExecuteTime": {
     "end_time": "2020-11-18T12:27:20.247434Z",
     "start_time": "2020-11-18T12:27:20.231464Z"
    }
   },
   "outputs": [],
   "source": [
    "#Generate confusion matrix\n",
    "from sklearn.metrics import confusion_matrix\n",
    "conf_mat_logmodel = confusion_matrix(y_test,pred)\n",
    "conf_mat_logmodel"
   ]
  },
  {
   "cell_type": "markdown",
   "metadata": {},
   "source": [
    "# SVM Model"
   ]
  },
  {
   "cell_type": "code",
   "execution_count": null,
   "metadata": {
    "ExecuteTime": {
     "end_time": "2020-11-18T12:27:20.579435Z",
     "start_time": "2020-11-18T12:27:20.319435Z"
    }
   },
   "outputs": [],
   "source": [
    "#Fit the Support Vector Machine Model\n",
    "svcmodel = SVC(kernel='linear', random_state=77, probability=True)\n",
    "svcmodel.fit(X_train,y_train)\n",
    "\n",
    "#Predict the value for new, unseen data\n",
    "svc_pred = svcmodel.predict(X_test)\n",
    "\n",
    "# Find Accuracy using accuracy_score method\n",
    "svc_accuracy = round(metrics.recall_score(y_test, svc_pred) * 100, 2)\n",
    "print(svc_accuracy)"
   ]
  },
  {
   "cell_type": "code",
   "execution_count": null,
   "metadata": {
    "ExecuteTime": {
     "end_time": "2020-11-18T12:27:20.595472Z",
     "start_time": "2020-11-18T12:27:20.579435Z"
    }
   },
   "outputs": [],
   "source": [
    "#Generate confusion matrix\n",
    "from sklearn.metrics import confusion_matrix\n",
    "conf_mat_logmodel = confusion_matrix(y_test,pred)\n",
    "conf_mat_logmodel"
   ]
  },
  {
   "cell_type": "markdown",
   "metadata": {},
   "source": [
    "# KNN Model"
   ]
  },
  {
   "cell_type": "code",
   "execution_count": null,
   "metadata": {
    "ExecuteTime": {
     "end_time": "2020-11-18T12:27:20.659439Z",
     "start_time": "2020-11-18T12:27:20.595472Z"
    }
   },
   "outputs": [],
   "source": [
    "#Fit the K-Nearest Neighbor Model\n",
    "from sklearn.neighbors import KNeighborsClassifier\n",
    "knnmodel = KNeighborsClassifier(n_neighbors=5, metric='minkowski', p=2) #p=2 represents Euclidean distance, p=1 represents Manhattan Distance\n",
    "knnmodel.fit(X_train, y_train) \n",
    "  \n",
    "#Predict the value for new, unseen data\n",
    "knn_pred = knnmodel.predict(X_test)\n",
    "\n",
    "# Find Accuracy using accuracy_score method\n",
    "knn_accuracy = round(metrics.recall_score(y_test, knn_pred) * 100, 2)\n",
    "print(knn_accuracy)"
   ]
  },
  {
   "cell_type": "code",
   "execution_count": null,
   "metadata": {
    "ExecuteTime": {
     "end_time": "2020-11-18T12:27:20.675469Z",
     "start_time": "2020-11-18T12:27:20.659439Z"
    }
   },
   "outputs": [],
   "source": [
    "#Generate confusion matrix\n",
    "from sklearn.metrics import confusion_matrix\n",
    "conf_mat_logmodel = confusion_matrix(y_test,pred)\n",
    "conf_mat_logmodel"
   ]
  },
  {
   "cell_type": "markdown",
   "metadata": {},
   "source": [
    "# Decision Tree"
   ]
  },
  {
   "cell_type": "code",
   "execution_count": null,
   "metadata": {
    "ExecuteTime": {
     "end_time": "2020-11-18T12:27:20.707466Z",
     "start_time": "2020-11-18T12:27:20.679436Z"
    }
   },
   "outputs": [],
   "source": [
    "#Fit the Decision Tree Classification Model\n",
    "from sklearn.tree import DecisionTreeClassifier\n",
    "dtmodel = DecisionTreeClassifier(criterion = \"gini\", random_state = 50)\n",
    "dtmodel.fit(X_train, y_train) \n",
    "  \n",
    "#Predict the value for new, unseen data\n",
    "dt_pred = dtmodel.predict(X_test)\n",
    "\n",
    "# Find Accuracy using accuracy_score method\n",
    "dt_accuracy = round(metrics.recall_score(y_test, dt_pred) * 100, 2)\n",
    "print(dt_accuracy)"
   ]
  },
  {
   "cell_type": "code",
   "execution_count": null,
   "metadata": {
    "ExecuteTime": {
     "end_time": "2020-11-18T12:27:20.723472Z",
     "start_time": "2020-11-18T12:27:20.707466Z"
    }
   },
   "outputs": [],
   "source": [
    "#Generate confusion matrix\n",
    "from sklearn.metrics import confusion_matrix\n",
    "conf_mat_logmodel = confusion_matrix(y_test,pred)\n",
    "conf_mat_logmodel"
   ]
  },
  {
   "cell_type": "markdown",
   "metadata": {},
   "source": [
    "# Random Forest"
   ]
  },
  {
   "cell_type": "code",
   "execution_count": null,
   "metadata": {
    "ExecuteTime": {
     "end_time": "2020-11-18T12:27:20.975474Z",
     "start_time": "2020-11-18T12:27:20.783474Z"
    }
   },
   "outputs": [],
   "source": [
    "#Fit the Random Forest Classification Model\n",
    "from sklearn.ensemble import RandomForestClassifier\n",
    "rfmodel = RandomForestClassifier(n_estimators = 100, criterion = 'entropy', random_state = 0)\n",
    "rfmodel.fit(X_train, y_train) \n",
    "  \n",
    "#Predict the value for new, unseen data\n",
    "rf_pred = rfmodel.predict(X_test)\n",
    "\n",
    "# Find Accuracy using accuracy_score method\n",
    "rf_accuracy = round(metrics.recall_score(y_test, rf_pred) * 100, 2)\n",
    "print(rf_accuracy)"
   ]
  },
  {
   "cell_type": "code",
   "execution_count": null,
   "metadata": {
    "ExecuteTime": {
     "end_time": "2020-11-18T12:27:20.991474Z",
     "start_time": "2020-11-18T12:27:20.975474Z"
    }
   },
   "outputs": [],
   "source": [
    "#Generate confusion matrix\n",
    "from sklearn.metrics import confusion_matrix\n",
    "conf_mat_logmodel = confusion_matrix(y_test,pred)\n",
    "conf_mat_logmodel"
   ]
  },
  {
   "cell_type": "markdown",
   "metadata": {},
   "source": [
    "# Compare Model Accuracy"
   ]
  },
  {
   "cell_type": "code",
   "execution_count": null,
   "metadata": {
    "ExecuteTime": {
     "end_time": "2020-11-18T12:27:21.007477Z",
     "start_time": "2020-11-18T12:27:20.991474Z"
    }
   },
   "outputs": [],
   "source": [
    "# Compare Several models according to their Accuracies\n",
    "Model_Comparison = pd.DataFrame({\n",
    "    'Model': ['Logistic Regression', 'Support Vector Machine', 'K-Nearest Neighbor', \n",
    "              'Decision Tree', 'Random Forest'],\n",
    "    'Score': [logmodel_accuracy, svc_accuracy, knn_accuracy, \n",
    "              dt_accuracy, rf_accuracy]})\n",
    "Model_Comparison_df = Model_Comparison.sort_values(by='Score', ascending=False)\n",
    "Model_Comparison_df = Model_Comparison_df.set_index('Score')\n",
    "Model_Comparison_df.reset_index()"
   ]
  },
  {
   "cell_type": "markdown",
   "metadata": {},
   "source": [
    "# Predict Probability of Churn"
   ]
  },
  {
   "cell_type": "code",
   "execution_count": null,
   "metadata": {
    "ExecuteTime": {
     "end_time": "2020-11-18T12:27:21.055473Z",
     "start_time": "2020-11-18T12:27:21.007477Z"
    }
   },
   "outputs": [],
   "source": [
    "# Predict the probability of Churn of each customer\n",
    "churn_dataset['Probability_of_Churn'] = rfmodel.predict_proba(churn_dataset[X_test.columns])[:,1]\n",
    "\n",
    "# Create a Dataframe showcasing probability of Churn of each customer\n",
    "churn_dataset[['customer_name','Probability_of_Churn']].head()"
   ]
  },
  {
   "cell_type": "code",
   "execution_count": null,
   "metadata": {
    "ExecuteTime": {
     "end_time": "2020-11-18T12:27:21.103479Z",
     "start_time": "2020-11-18T12:27:21.055473Z"
    },
    "scrolled": true
   },
   "outputs": [],
   "source": [
    "churn_dataset[:50]"
   ]
  },
  {
   "cell_type": "markdown",
   "metadata": {},
   "source": [
    "# RFECV"
   ]
  },
  {
   "cell_type": "markdown",
   "metadata": {},
   "source": [
    "## Logistic Regression"
   ]
  },
  {
   "cell_type": "code",
   "execution_count": null,
   "metadata": {
    "ExecuteTime": {
     "end_time": "2020-11-18T12:27:21.263437Z",
     "start_time": "2020-11-18T12:27:21.255473Z"
    }
   },
   "outputs": [],
   "source": [
    "#Create Feature variable X and Target variable y\n",
    "y = churn_dataset['Churn']\n",
    "X = churn_dataset.drop(['Churn','customer_name','last_purchase_in_days','Probability_of_Churn'], axis = 1)"
   ]
  },
  {
   "cell_type": "code",
   "execution_count": null,
   "metadata": {
    "ExecuteTime": {
     "end_time": "2020-11-18T12:27:21.279435Z",
     "start_time": "2020-11-18T12:27:21.263437Z"
    }
   },
   "outputs": [],
   "source": [
    "from sklearn.linear_model import LogisticRegression\n",
    "log_reg = LogisticRegression()"
   ]
  },
  {
   "cell_type": "code",
   "execution_count": null,
   "metadata": {
    "ExecuteTime": {
     "end_time": "2020-11-18T12:27:28.354233Z",
     "start_time": "2020-11-18T12:27:21.279435Z"
    }
   },
   "outputs": [],
   "source": [
    "log_reg_rfecv = RFECV(estimator=log_reg, step=1, cv=10, \n",
    "                      scoring='f1')\n",
    "log_reg_rfecv = log_reg_rfecv.fit(X, y)\n",
    "print('Optimal number of features :', log_reg_rfecv.n_features_)\n",
    "print('Best features :', X.columns[log_reg_rfecv.support_])"
   ]
  },
  {
   "cell_type": "code",
   "execution_count": null,
   "metadata": {
    "ExecuteTime": {
     "end_time": "2020-11-18T12:27:28.370232Z",
     "start_time": "2020-11-18T12:27:28.354233Z"
    }
   },
   "outputs": [],
   "source": [
    "log_reg_rfecv.grid_scores_"
   ]
  },
  {
   "cell_type": "code",
   "execution_count": null,
   "metadata": {
    "ExecuteTime": {
     "end_time": "2020-11-18T12:27:28.386232Z",
     "start_time": "2020-11-18T12:27:28.370232Z"
    }
   },
   "outputs": [],
   "source": [
    "pd.DataFrame(X.columns[log_reg_rfecv.support_])"
   ]
  },
  {
   "cell_type": "code",
   "execution_count": null,
   "metadata": {
    "ExecuteTime": {
     "end_time": "2020-11-18T12:27:28.530232Z",
     "start_time": "2020-11-18T12:27:28.386232Z"
    }
   },
   "outputs": [],
   "source": [
    "plt.figure()\n",
    "plt.xlabel(\"Number of features selected\")\n",
    "plt.ylabel(\"Cross validation score of number of selected features\")\n",
    "plt.plot(range(1, len(log_reg_rfecv.grid_scores_) + 1), log_reg_rfecv.grid_scores_)\n",
    "plt.show()"
   ]
  },
  {
   "cell_type": "code",
   "execution_count": null,
   "metadata": {
    "ExecuteTime": {
     "end_time": "2020-11-18T12:27:28.546233Z",
     "start_time": "2020-11-18T12:27:28.530232Z"
    }
   },
   "outputs": [],
   "source": [
    "print(np.where(log_reg_rfecv.support_ == False)[0])\n",
    "#X.drop(X.columns[np.where(rfecv.support_ == False)[0]], axis=1, inplace=True)\n",
    "X.drop(X.columns[np.where(log_reg_rfecv.support_ == False)[0]], axis=1, inplace=True)"
   ]
  },
  {
   "cell_type": "markdown",
   "metadata": {},
   "source": [
    "### Evaluate Model Performance"
   ]
  },
  {
   "cell_type": "code",
   "execution_count": null,
   "metadata": {
    "ExecuteTime": {
     "end_time": "2020-11-18T12:27:28.562234Z",
     "start_time": "2020-11-18T12:27:28.546233Z"
    }
   },
   "outputs": [],
   "source": [
    "X_train, X_test, y_train, y_test = train_test_split(X, y, \n",
    "                                                    test_size=0.20, \n",
    "                                                    random_state=8)"
   ]
  },
  {
   "cell_type": "code",
   "execution_count": null,
   "metadata": {
    "ExecuteTime": {
     "end_time": "2020-11-18T12:27:28.578233Z",
     "start_time": "2020-11-18T12:27:28.562234Z"
    }
   },
   "outputs": [],
   "source": [
    "X_train.shape"
   ]
  },
  {
   "cell_type": "code",
   "execution_count": null,
   "metadata": {
    "ExecuteTime": {
     "end_time": "2020-11-18T12:27:31.890236Z",
     "start_time": "2020-11-18T12:27:28.578233Z"
    }
   },
   "outputs": [],
   "source": [
    "log_reg_rfecv_model = log_reg_rfecv.fit(X_train, y_train)"
   ]
  },
  {
   "cell_type": "markdown",
   "metadata": {},
   "source": [
    "### Confusion Matrix"
   ]
  },
  {
   "cell_type": "code",
   "execution_count": null,
   "metadata": {
    "ExecuteTime": {
     "end_time": "2020-11-18T12:27:31.906263Z",
     "start_time": "2020-11-18T12:27:31.890236Z"
    }
   },
   "outputs": [],
   "source": [
    "from sklearn import metrics\n",
    "y_pred = log_reg_rfecv_model.predict(X_test)\n",
    "cm = metrics.confusion_matrix(y_test, y_pred)\n",
    "print(cm)"
   ]
  },
  {
   "cell_type": "code",
   "execution_count": null,
   "metadata": {
    "ExecuteTime": {
     "end_time": "2020-11-18T12:27:32.046263Z",
     "start_time": "2020-11-18T12:27:31.906263Z"
    }
   },
   "outputs": [],
   "source": [
    "plt.figure(figsize=(9,9))\n",
    "sns.heatmap(cm, annot=True, fmt=\".3f\", linewidths=.5, square = True, cmap = 'Blues_r');\n",
    "plt.ylabel('Actual label');\n",
    "plt.xlabel('Predicted label');\n",
    "plt.title('Confusion Matrix');"
   ]
  },
  {
   "cell_type": "markdown",
   "metadata": {},
   "source": [
    "### Precision, Recall, F-Score, Support"
   ]
  },
  {
   "cell_type": "code",
   "execution_count": null,
   "metadata": {
    "ExecuteTime": {
     "end_time": "2020-11-18T12:27:32.062263Z",
     "start_time": "2020-11-18T12:27:32.046263Z"
    }
   },
   "outputs": [],
   "source": [
    "from sklearn.metrics import classification_report\n",
    "print(classification_report(y_test, y_pred))"
   ]
  },
  {
   "cell_type": "markdown",
   "metadata": {},
   "source": [
    "### ROC Curve"
   ]
  },
  {
   "cell_type": "code",
   "execution_count": null,
   "metadata": {
    "ExecuteTime": {
     "end_time": "2020-11-18T12:27:32.234271Z",
     "start_time": "2020-11-18T12:27:32.062263Z"
    }
   },
   "outputs": [],
   "source": [
    "from sklearn.metrics import roc_auc_score\n",
    "from sklearn.metrics import roc_curve\n",
    "logit_roc_auc = roc_auc_score(y_test, log_reg_rfecv_model.predict(X_test))\n",
    "fpr, tpr, thresholds = roc_curve(y_test, log_reg_rfecv_model.predict_proba(X_test)[:,1])\n",
    "plt.figure()\n",
    "plt.plot(fpr, tpr, label='Logistic Regression (area = %0.2f)' % logit_roc_auc)\n",
    "plt.plot([0, 1], [0, 1],'r--')\n",
    "plt.xlim([0.0, 1.0])\n",
    "plt.ylim([0.0, 1.05])\n",
    "plt.xlabel('False Positive Rate')\n",
    "plt.ylabel('True Positive Rate')\n",
    "plt.title('Receiver operating characteristic')\n",
    "plt.legend(loc=\"lower right\")\n",
    "plt.savefig('Log_ROC_RFECV')\n",
    "plt.show()"
   ]
  },
  {
   "cell_type": "markdown",
   "metadata": {},
   "source": [
    "## SVC"
   ]
  },
  {
   "cell_type": "code",
   "execution_count": null,
   "metadata": {
    "ExecuteTime": {
     "end_time": "2020-11-18T12:27:32.250268Z",
     "start_time": "2020-11-18T12:27:32.234271Z"
    }
   },
   "outputs": [],
   "source": [
    "#Create Feature variable X and Target variable y\n",
    "y = churn_dataset['Churn']\n",
    "X = churn_dataset.drop(['Churn','customer_name','last_purchase_in_days','Probability_of_Churn'], axis = 1)"
   ]
  },
  {
   "cell_type": "code",
   "execution_count": null,
   "metadata": {
    "ExecuteTime": {
     "end_time": "2020-11-18T12:27:32.266272Z",
     "start_time": "2020-11-18T12:27:32.250268Z"
    }
   },
   "outputs": [],
   "source": [
    "from sklearn.svm import SVC\n",
    "svc = SVC(kernel=\"linear\")"
   ]
  },
  {
   "cell_type": "code",
   "execution_count": null,
   "metadata": {
    "ExecuteTime": {
     "end_time": "2020-11-18T12:27:45.022858Z",
     "start_time": "2020-11-18T12:27:32.266272Z"
    }
   },
   "outputs": [],
   "source": [
    "svc_rfecv = RFECV(estimator=svc, step=1, cv=StratifiedKFold(10), scoring='f1')\n",
    "svc_rfecv.fit(X, y) \n",
    "print('Optimal number of features :', svc_rfecv.n_features_)\n",
    "print('Best features :', X.columns[svc_rfecv.support_])"
   ]
  },
  {
   "cell_type": "code",
   "execution_count": null,
   "metadata": {
    "ExecuteTime": {
     "end_time": "2020-11-18T12:27:45.038860Z",
     "start_time": "2020-11-18T12:27:45.022858Z"
    }
   },
   "outputs": [],
   "source": [
    "svc_rfecv.grid_scores_"
   ]
  },
  {
   "cell_type": "code",
   "execution_count": null,
   "metadata": {
    "ExecuteTime": {
     "end_time": "2020-11-18T12:27:45.194893Z",
     "start_time": "2020-11-18T12:27:45.038860Z"
    }
   },
   "outputs": [],
   "source": [
    "plt.figure(figsize=(16, 9))\n",
    "plt.title('SVC - RFECV', fontsize=18, fontweight='bold', pad=20)\n",
    "plt.xlabel('Number of features selected', fontsize=14, labelpad=20)\n",
    "plt.ylabel('% Correct Classification', fontsize=14, labelpad=20)\n",
    "plt.plot(range(1, len(svc_rfecv.grid_scores_) + 1), svc_rfecv.grid_scores_, color='#303F9F', linewidth=3)\n",
    "plt.show()"
   ]
  },
  {
   "cell_type": "code",
   "execution_count": null,
   "metadata": {
    "ExecuteTime": {
     "end_time": "2020-11-18T12:27:45.210898Z",
     "start_time": "2020-11-18T12:27:45.194893Z"
    }
   },
   "outputs": [],
   "source": [
    "print(np.where(svc_rfecv.support_ == False)[0])\n",
    "#X.drop(X.columns[np.where(rfecv.support_ == False)[0]], axis=1, inplace=True)\n",
    "X.drop(X.columns[np.where(svc_rfecv.support_ == False)[0]], axis=1, inplace=True)\n",
    "#drop the less contributioning variables"
   ]
  },
  {
   "cell_type": "markdown",
   "metadata": {},
   "source": [
    "### Evaluate Model Performance"
   ]
  },
  {
   "cell_type": "code",
   "execution_count": null,
   "metadata": {
    "ExecuteTime": {
     "end_time": "2020-11-18T12:27:45.226892Z",
     "start_time": "2020-11-18T12:27:45.210898Z"
    }
   },
   "outputs": [],
   "source": [
    "X_train, X_test, y_train, y_test = train_test_split(X, y, \n",
    "                                                    test_size=0.20, \n",
    "                                                    random_state=8)"
   ]
  },
  {
   "cell_type": "code",
   "execution_count": null,
   "metadata": {
    "ExecuteTime": {
     "end_time": "2020-11-18T12:27:45.242892Z",
     "start_time": "2020-11-18T12:27:45.226892Z"
    }
   },
   "outputs": [],
   "source": [
    "X_train.shape"
   ]
  },
  {
   "cell_type": "code",
   "execution_count": null,
   "metadata": {
    "ExecuteTime": {
     "end_time": "2020-11-18T12:27:49.438069Z",
     "start_time": "2020-11-18T12:27:45.242892Z"
    }
   },
   "outputs": [],
   "source": [
    "svc_rfecv_model = svc_rfecv.fit(X_train, y_train)"
   ]
  },
  {
   "cell_type": "markdown",
   "metadata": {},
   "source": [
    "### Confusion Matrix"
   ]
  },
  {
   "cell_type": "code",
   "execution_count": null,
   "metadata": {
    "ExecuteTime": {
     "end_time": "2020-11-18T12:27:49.453922Z",
     "start_time": "2020-11-18T12:27:49.438069Z"
    }
   },
   "outputs": [],
   "source": [
    "from sklearn import metrics\n",
    "y_pred = svc_rfecv_model.predict(X_test)\n",
    "cm = metrics.confusion_matrix(y_test, y_pred)\n",
    "print(cm)"
   ]
  },
  {
   "cell_type": "code",
   "execution_count": null,
   "metadata": {
    "ExecuteTime": {
     "end_time": "2020-11-18T12:27:49.593882Z",
     "start_time": "2020-11-18T12:27:49.453922Z"
    }
   },
   "outputs": [],
   "source": [
    "plt.figure(figsize=(9,9))\n",
    "sns.heatmap(cm, annot=True, fmt=\".3f\", linewidths=.5, square = True, cmap = 'Blues_r');\n",
    "plt.ylabel('Actual label');\n",
    "plt.xlabel('Predicted label');\n",
    "plt.title('Confusion Matrix');"
   ]
  },
  {
   "cell_type": "markdown",
   "metadata": {},
   "source": [
    "### Precision, Recall, F-Score, Support"
   ]
  },
  {
   "cell_type": "code",
   "execution_count": null,
   "metadata": {
    "ExecuteTime": {
     "end_time": "2020-11-18T12:27:49.609920Z",
     "start_time": "2020-11-18T12:27:49.593882Z"
    }
   },
   "outputs": [],
   "source": [
    "from sklearn.metrics import classification_report\n",
    "print(classification_report(y_test, y_pred))"
   ]
  },
  {
   "cell_type": "markdown",
   "metadata": {},
   "source": [
    "SVC does not support ROC Curve."
   ]
  },
  {
   "cell_type": "markdown",
   "metadata": {},
   "source": [
    "## Decision Tree"
   ]
  },
  {
   "cell_type": "code",
   "execution_count": null,
   "metadata": {
    "ExecuteTime": {
     "end_time": "2020-11-18T12:27:49.625916Z",
     "start_time": "2020-11-18T12:27:49.609920Z"
    }
   },
   "outputs": [],
   "source": [
    "#Create Feature variable X and Target variable y\n",
    "y = churn_dataset['Churn']\n",
    "X = churn_dataset.drop(['Churn','customer_name','last_purchase_in_days','Probability_of_Churn'], axis = 1)"
   ]
  },
  {
   "cell_type": "code",
   "execution_count": null,
   "metadata": {
    "ExecuteTime": {
     "end_time": "2020-11-18T12:27:49.641917Z",
     "start_time": "2020-11-18T12:27:49.625916Z"
    }
   },
   "outputs": [],
   "source": [
    "from sklearn.model_selection import StratifiedKFold\n",
    "from sklearn.feature_selection import RFECV\n",
    "from sklearn.ensemble import RandomForestClassifier"
   ]
  },
  {
   "cell_type": "code",
   "execution_count": null,
   "metadata": {
    "ExecuteTime": {
     "end_time": "2020-11-18T12:27:50.606164Z",
     "start_time": "2020-11-18T12:27:49.641917Z"
    }
   },
   "outputs": [],
   "source": [
    "from sklearn.tree import DecisionTreeClassifier\n",
    "dt_rfecv = RFECV(DecisionTreeClassifier(), cv=10, scoring='f1')\n",
    "dt_rfecv = dt_rfecv.fit(X, y)\n",
    "print('Optimal number of features :', dt_rfecv.n_features_)\n",
    "print('Best features :', X.columns[dt_rfecv.support_])"
   ]
  },
  {
   "cell_type": "code",
   "execution_count": null,
   "metadata": {
    "ExecuteTime": {
     "end_time": "2020-11-18T12:27:50.622159Z",
     "start_time": "2020-11-18T12:27:50.606164Z"
    }
   },
   "outputs": [],
   "source": [
    "dt_rfecv.grid_scores_"
   ]
  },
  {
   "cell_type": "code",
   "execution_count": null,
   "metadata": {
    "ExecuteTime": {
     "end_time": "2020-11-18T12:27:50.782166Z",
     "start_time": "2020-11-18T12:27:50.622159Z"
    }
   },
   "outputs": [],
   "source": [
    "plt.figure(figsize=(16, 9))\n",
    "plt.title('Decision Tree - RFECV', fontsize=18, fontweight='bold', pad=20)\n",
    "plt.xlabel('Number of features selected', fontsize=14, labelpad=20)\n",
    "plt.ylabel('% Correct Classification', fontsize=14, labelpad=20)\n",
    "plt.plot(range(1, len(dt_rfecv.grid_scores_) + 1), dt_rfecv.grid_scores_, color='#303F9F', linewidth=3)\n",
    "plt.show()"
   ]
  },
  {
   "cell_type": "code",
   "execution_count": null,
   "metadata": {
    "ExecuteTime": {
     "end_time": "2020-11-18T12:27:50.798134Z",
     "start_time": "2020-11-18T12:27:50.782166Z"
    }
   },
   "outputs": [],
   "source": [
    "print(np.where(dt_rfecv.support_ == False)[0])\n",
    "#X.drop(X.columns[np.where(rfecv.support_ == False)[0]], axis=1, inplace=True)\n",
    "X.drop(X.columns[np.where(dt_rfecv.support_ == False)[0]], axis=1, inplace=True)"
   ]
  },
  {
   "cell_type": "code",
   "execution_count": null,
   "metadata": {
    "ExecuteTime": {
     "end_time": "2020-11-18T12:27:50.814133Z",
     "start_time": "2020-11-18T12:27:50.798134Z"
    }
   },
   "outputs": [],
   "source": [
    "dt_rfecv.estimator_.feature_importances_"
   ]
  },
  {
   "cell_type": "code",
   "execution_count": null,
   "metadata": {
    "ExecuteTime": {
     "end_time": "2020-11-18T12:27:50.934134Z",
     "start_time": "2020-11-18T12:27:50.814133Z"
    }
   },
   "outputs": [],
   "source": [
    "dset = pd.DataFrame()\n",
    "dset['attr'] = X.columns\n",
    "dset['importance'] = dt_rfecv.estimator_.feature_importances_\n",
    "dset = dset.sort_values(by='importance', ascending=False)\n",
    "\n",
    "plt.figure(figsize=(16, 10))\n",
    "plt.barh(y=dset['attr'], width=dset['importance'], color='#1976D2')\n",
    "plt.title('Decision Tree - RFECV - Feature importances', fontsize=20, fontweight='bold', pad=20)\n",
    "plt.xlabel('Importance', fontsize=14, labelpad=20)\n",
    "plt.show()"
   ]
  },
  {
   "cell_type": "markdown",
   "metadata": {},
   "source": [
    "### Evaluate Model Performance"
   ]
  },
  {
   "cell_type": "code",
   "execution_count": null,
   "metadata": {
    "ExecuteTime": {
     "end_time": "2020-11-18T12:27:50.950132Z",
     "start_time": "2020-11-18T12:27:50.934134Z"
    }
   },
   "outputs": [],
   "source": [
    "X_train, X_test, y_train, y_test = train_test_split(X, y, \n",
    "                                                    test_size=0.20, \n",
    "                                                    random_state=8)"
   ]
  },
  {
   "cell_type": "code",
   "execution_count": null,
   "metadata": {
    "ExecuteTime": {
     "end_time": "2020-11-18T12:27:50.966131Z",
     "start_time": "2020-11-18T12:27:50.950132Z"
    }
   },
   "outputs": [],
   "source": [
    "X_train.shape"
   ]
  },
  {
   "cell_type": "code",
   "execution_count": null,
   "metadata": {
    "ExecuteTime": {
     "end_time": "2020-11-18T12:27:51.042164Z",
     "start_time": "2020-11-18T12:27:50.966131Z"
    }
   },
   "outputs": [],
   "source": [
    "dt_rfecv_model = dt_rfecv.fit(X_train, y_train)"
   ]
  },
  {
   "cell_type": "markdown",
   "metadata": {},
   "source": [
    "### Confusion Matrix"
   ]
  },
  {
   "cell_type": "code",
   "execution_count": null,
   "metadata": {
    "ExecuteTime": {
     "end_time": "2020-11-18T12:27:51.058164Z",
     "start_time": "2020-11-18T12:27:51.042164Z"
    }
   },
   "outputs": [],
   "source": [
    "from sklearn import metrics\n",
    "y_pred = dt_rfecv_model.predict(X_test)\n",
    "cm = metrics.confusion_matrix(y_test, y_pred)\n",
    "print(cm)"
   ]
  },
  {
   "cell_type": "code",
   "execution_count": null,
   "metadata": {
    "ExecuteTime": {
     "end_time": "2020-11-18T12:27:51.218132Z",
     "start_time": "2020-11-18T12:27:51.058164Z"
    }
   },
   "outputs": [],
   "source": [
    "plt.figure(figsize=(9,9))\n",
    "sns.heatmap(cm, annot=True, fmt=\".3f\", linewidths=.5, square = True, cmap = 'Blues_r');\n",
    "plt.ylabel('Actual label');\n",
    "plt.xlabel('Predicted label');\n",
    "plt.title('Confusion Matrix');"
   ]
  },
  {
   "cell_type": "markdown",
   "metadata": {},
   "source": [
    "### Precision, Recall, F-Score and Support"
   ]
  },
  {
   "cell_type": "code",
   "execution_count": null,
   "metadata": {
    "ExecuteTime": {
     "end_time": "2020-11-18T12:27:51.234140Z",
     "start_time": "2020-11-18T12:27:51.218132Z"
    }
   },
   "outputs": [],
   "source": [
    "from sklearn.metrics import classification_report\n",
    "print(classification_report(y_test, y_pred))"
   ]
  },
  {
   "cell_type": "markdown",
   "metadata": {},
   "source": [
    "### ROC Curve"
   ]
  },
  {
   "cell_type": "code",
   "execution_count": null,
   "metadata": {
    "ExecuteTime": {
     "end_time": "2020-11-18T12:27:51.434162Z",
     "start_time": "2020-11-18T12:27:51.234140Z"
    },
    "scrolled": false
   },
   "outputs": [],
   "source": [
    "from sklearn.metrics import roc_auc_score\n",
    "from sklearn.metrics import roc_curve\n",
    "logit_roc_auc = roc_auc_score(y_test, dt_rfecv_model.predict(X_test))\n",
    "fpr, tpr, thresholds = roc_curve(y_test, dt_rfecv_model.predict_proba(X_test)[:,1])\n",
    "plt.figure()\n",
    "plt.plot(fpr, tpr, label='Decision Tree Classifier (area = %0.2f)' % logit_roc_auc)\n",
    "plt.plot([0, 1], [0, 1],'r--')\n",
    "plt.xlim([0.0, 1.0])\n",
    "plt.ylim([0.0, 1.05])\n",
    "plt.xlabel('False Positive Rate')\n",
    "plt.ylabel('True Positive Rate')\n",
    "plt.title('Receiver operating characteristic')\n",
    "plt.legend(loc=\"lower right\")\n",
    "plt.savefig('Log_ROC_DT_RFE')\n",
    "plt.show()"
   ]
  },
  {
   "cell_type": "markdown",
   "metadata": {},
   "source": [
    "## Gradient Boosting Classifier"
   ]
  },
  {
   "cell_type": "code",
   "execution_count": null,
   "metadata": {
    "ExecuteTime": {
     "end_time": "2020-11-18T12:27:51.450169Z",
     "start_time": "2020-11-18T12:27:51.434162Z"
    }
   },
   "outputs": [],
   "source": [
    "#Create Feature variable X and Target variable y\n",
    "y = churn_dataset['Churn']\n",
    "X = churn_dataset.drop(['Churn','customer_name','last_purchase_in_days','Probability_of_Churn'], axis = 1)"
   ]
  },
  {
   "cell_type": "code",
   "execution_count": null,
   "metadata": {
    "ExecuteTime": {
     "end_time": "2020-11-18T12:27:51.466159Z",
     "start_time": "2020-11-18T12:27:51.450169Z"
    }
   },
   "outputs": [],
   "source": [
    "from sklearn.ensemble import GradientBoostingClassifier\n",
    "gbc = GradientBoostingClassifier(random_state=101)"
   ]
  },
  {
   "cell_type": "code",
   "execution_count": null,
   "metadata": {
    "ExecuteTime": {
     "end_time": "2020-11-18T12:28:39.316384Z",
     "start_time": "2020-11-18T12:27:51.466159Z"
    }
   },
   "outputs": [],
   "source": [
    "gb_rfecv = RFECV(estimator=gbc, step=1, cv=StratifiedKFold(10), scoring='f1')\n",
    "gb_rfecv.fit(X, y) \n",
    "print('Optimal number of features :', gb_rfecv.n_features_)\n",
    "print('Best features :', X.columns[gb_rfecv.support_])"
   ]
  },
  {
   "cell_type": "code",
   "execution_count": null,
   "metadata": {
    "ExecuteTime": {
     "end_time": "2020-11-18T12:28:39.328390Z",
     "start_time": "2020-11-18T12:28:39.316384Z"
    }
   },
   "outputs": [],
   "source": [
    "gb_rfecv.grid_scores_"
   ]
  },
  {
   "cell_type": "code",
   "execution_count": null,
   "metadata": {
    "ExecuteTime": {
     "end_time": "2020-11-18T12:28:39.476387Z",
     "start_time": "2020-11-18T12:28:39.328390Z"
    }
   },
   "outputs": [],
   "source": [
    "plt.figure(figsize=(16, 9))\n",
    "plt.title('Gradient Boost - RFECV', fontsize=18, fontweight='bold', pad=20)\n",
    "plt.xlabel('Number of features selected', fontsize=14, labelpad=20)\n",
    "plt.ylabel('% Correct Classification', fontsize=14, labelpad=20)\n",
    "plt.plot(range(1, len(gb_rfecv.grid_scores_) + 1), gb_rfecv.grid_scores_, color='#303F9F', linewidth=3)\n",
    "plt.show()"
   ]
  },
  {
   "cell_type": "code",
   "execution_count": null,
   "metadata": {
    "ExecuteTime": {
     "end_time": "2020-11-18T12:28:39.492385Z",
     "start_time": "2020-11-18T12:28:39.476387Z"
    }
   },
   "outputs": [],
   "source": [
    "print(np.where(gb_rfecv.support_ == False)[0])\n",
    "#X.drop(X.columns[np.where(rfecv.support_ == False)[0]], axis=1, inplace=True)\n",
    "X.drop(X.columns[np.where(gb_rfecv.support_ == False)[0]], axis=1, inplace=True)"
   ]
  },
  {
   "cell_type": "code",
   "execution_count": null,
   "metadata": {
    "ExecuteTime": {
     "end_time": "2020-11-18T12:28:39.508385Z",
     "start_time": "2020-11-18T12:28:39.492385Z"
    }
   },
   "outputs": [],
   "source": [
    "gb_rfecv.estimator_.feature_importances_"
   ]
  },
  {
   "cell_type": "markdown",
   "metadata": {},
   "source": [
    "### Evaluate Model Performance"
   ]
  },
  {
   "cell_type": "code",
   "execution_count": null,
   "metadata": {
    "ExecuteTime": {
     "end_time": "2020-11-18T12:28:39.524388Z",
     "start_time": "2020-11-18T12:28:39.508385Z"
    }
   },
   "outputs": [],
   "source": [
    "X_train, X_test, y_train, y_test = train_test_split(X, y, \n",
    "                                                    test_size=0.20, \n",
    "                                                    random_state=8)"
   ]
  },
  {
   "cell_type": "code",
   "execution_count": null,
   "metadata": {
    "ExecuteTime": {
     "end_time": "2020-11-18T12:28:39.540389Z",
     "start_time": "2020-11-18T12:28:39.524388Z"
    }
   },
   "outputs": [],
   "source": [
    "X_train.shape"
   ]
  },
  {
   "cell_type": "code",
   "execution_count": null,
   "metadata": {
    "ExecuteTime": {
     "end_time": "2020-11-18T12:28:55.862968Z",
     "start_time": "2020-11-18T12:28:39.544353Z"
    }
   },
   "outputs": [],
   "source": [
    "gb_rfecv_model = gb_rfecv.fit(X_train, y_train)"
   ]
  },
  {
   "cell_type": "markdown",
   "metadata": {},
   "source": [
    "### Confusion Matrix"
   ]
  },
  {
   "cell_type": "code",
   "execution_count": null,
   "metadata": {
    "ExecuteTime": {
     "end_time": "2020-11-18T12:28:55.878434Z",
     "start_time": "2020-11-18T12:28:55.862968Z"
    }
   },
   "outputs": [],
   "source": [
    "from sklearn import metrics\n",
    "y_pred = gb_rfecv_model.predict(X_test)\n",
    "cm = metrics.confusion_matrix(y_test, y_pred)\n",
    "print(cm)"
   ]
  },
  {
   "cell_type": "code",
   "execution_count": null,
   "metadata": {
    "ExecuteTime": {
     "end_time": "2020-11-18T12:28:56.022996Z",
     "start_time": "2020-11-18T12:28:55.878659Z"
    }
   },
   "outputs": [],
   "source": [
    "plt.figure(figsize=(9,9))\n",
    "sns.heatmap(cm, annot=True, fmt=\".3f\", linewidths=.5, square = True, cmap = 'Blues_r');\n",
    "plt.ylabel('Actual label');\n",
    "plt.xlabel('Predicted label');\n",
    "plt.title('Confusion Matrix');"
   ]
  },
  {
   "cell_type": "markdown",
   "metadata": {},
   "source": [
    "### Precision, Recall, F-Score and Support"
   ]
  },
  {
   "cell_type": "code",
   "execution_count": null,
   "metadata": {
    "ExecuteTime": {
     "end_time": "2020-11-18T12:28:56.039030Z",
     "start_time": "2020-11-18T12:28:56.022996Z"
    }
   },
   "outputs": [],
   "source": [
    "from sklearn.metrics import classification_report\n",
    "print(classification_report(y_test, y_pred))"
   ]
  },
  {
   "cell_type": "markdown",
   "metadata": {},
   "source": [
    "### ROC Curve"
   ]
  },
  {
   "cell_type": "code",
   "execution_count": null,
   "metadata": {
    "ExecuteTime": {
     "end_time": "2020-11-18T12:28:56.215029Z",
     "start_time": "2020-11-18T12:28:56.039030Z"
    },
    "scrolled": true
   },
   "outputs": [],
   "source": [
    "from sklearn.metrics import roc_auc_score\n",
    "from sklearn.metrics import roc_curve\n",
    "logit_roc_auc = roc_auc_score(y_test, gb_rfecv_model.predict(X_test))\n",
    "fpr, tpr, thresholds = roc_curve(y_test, gb_rfecv_model.predict_proba(X_test)[:,1])\n",
    "plt.figure()\n",
    "plt.plot(fpr, tpr, label='Graident Boosting Classifier (area = %0.2f)' % logit_roc_auc)\n",
    "plt.plot([0, 1], [0, 1],'r--')\n",
    "plt.xlim([0.0, 1.0])\n",
    "plt.ylim([0.0, 1.05])\n",
    "plt.xlabel('False Positive Rate')\n",
    "plt.ylabel('True Positive Rate')\n",
    "plt.title('Receiver operating characteristic')\n",
    "plt.legend(loc=\"lower right\")\n",
    "plt.savefig('Log_ROC_GB_RFE')\n",
    "plt.show()"
   ]
  },
  {
   "cell_type": "markdown",
   "metadata": {},
   "source": [
    "## XGBoost"
   ]
  },
  {
   "cell_type": "code",
   "execution_count": null,
   "metadata": {
    "ExecuteTime": {
     "end_time": "2020-11-18T12:28:56.231028Z",
     "start_time": "2020-11-18T12:28:56.215029Z"
    }
   },
   "outputs": [],
   "source": [
    "churn_dataset.columns"
   ]
  },
  {
   "cell_type": "code",
   "execution_count": null,
   "metadata": {
    "ExecuteTime": {
     "end_time": "2020-11-18T12:28:56.246996Z",
     "start_time": "2020-11-18T12:28:56.231028Z"
    }
   },
   "outputs": [],
   "source": [
    "#Create Feature variable X and Target variable y\n",
    "y = churn_dataset['Churn']\n",
    "X = churn_dataset.drop(['Churn','customer_name','last_purchase_in_days','Probability_of_Churn'], axis = 1)"
   ]
  },
  {
   "cell_type": "code",
   "execution_count": null,
   "metadata": {
    "ExecuteTime": {
     "end_time": "2020-11-18T12:28:56.263024Z",
     "start_time": "2020-11-18T12:28:56.246996Z"
    }
   },
   "outputs": [],
   "source": [
    "#Split the data into training set (80%) and test set (20%)\n",
    "from sklearn.model_selection import train_test_split\n",
    "X_train, X_test, y_train, y_test = train_test_split(X, y, test_size = 0.20, random_state = 77)"
   ]
  },
  {
   "cell_type": "code",
   "execution_count": null,
   "metadata": {
    "ExecuteTime": {
     "end_time": "2020-11-18T12:28:56.279036Z",
     "start_time": "2020-11-18T12:28:56.263024Z"
    }
   },
   "outputs": [],
   "source": [
    "from xgboost.sklearn import XGBClassifier\n",
    "xgb = XGBClassifier(verbosity=2,\n",
    "                    learning_rate = 0.01,\n",
    "                      max_depth=5, #increasing the number does not improve anything #start from 3 increase scale_pos_weight=1, #1\n",
    "                      min_child_weight=0, #0 to inf\n",
    "                      gamma=0, #(0,1,5)learning_rate=0.1,  #optimal #0.01 to 0.1\n",
    "                      colsample_bytree = 0.8, #0.3 to 0.8 if many columns, if few 0.8 to 1\n",
    "                      subsample = 0.8, #0.8 to 1\n",
    "                      scale_pos_weight = 1, \n",
    "                      reg_alpha = 1, #0.5 (1e-5, 1e-2, 0.1, 1)\n",
    "                      reg_lambda= 0.1, \n",
    "                      objective='binary:logistic', \n",
    "                      n_estimators=1000 \n",
    "                    ) "
   ]
  },
  {
   "cell_type": "code",
   "execution_count": null,
   "metadata": {
    "ExecuteTime": {
     "end_time": "2020-11-18T12:29:02.730998Z",
     "start_time": "2020-11-18T12:28:56.279036Z"
    }
   },
   "outputs": [],
   "source": [
    "from sklearn.model_selection import GridSearchCV\n",
    "\n",
    "param_test1 = {\n",
    " 'max_depth':range(3,10,2),\n",
    " 'min_child_weight':range(1,6,2)\n",
    "}\n",
    "gsearch1 = GridSearchCV(estimator = XGBClassifier(learning_rate =0.1, n_estimators=140, max_depth=5,\n",
    "                                                  min_child_weight=1, gamma=0, subsample=0.8, \n",
    "                                                  colsample_bytree=0.8,\n",
    "                                                  objective= 'binary:logistic', scale_pos_weight=1, \n",
    "                                                  seed=27), \n",
    "                        param_grid = param_test1, scoring='f1',iid=False, cv=5)\n",
    "gsearch1.fit(X,y)\n",
    "gsearch1.cv_results_, gsearch1.best_params_, gsearch1.best_score_"
   ]
  },
  {
   "cell_type": "code",
   "execution_count": null,
   "metadata": {
    "ExecuteTime": {
     "end_time": "2020-11-18T12:29:09.383613Z",
     "start_time": "2020-11-18T12:29:02.730998Z"
    }
   },
   "outputs": [],
   "source": [
    "param_test2 = {\n",
    " 'max_depth':[8,9,10],\n",
    " 'min_child_weight':[0,1,2]\n",
    "}\n",
    "\n",
    "gsearch2 = GridSearchCV(estimator = XGBClassifier(learning_rate =0.1, n_estimators=140, max_depth=9,\n",
    "                                                  min_child_weight=1, gamma=0, subsample=0.8, \n",
    "                                                  colsample_bytree=0.8,\n",
    "                                                  objective= 'binary:logistic', scale_pos_weight=1, \n",
    "                                                  seed=27), \n",
    "                        param_grid = param_test2, scoring='f1',iid=False, cv=5)\n",
    "gsearch2.fit(X,y)\n",
    "gsearch2.cv_results_, gsearch2.best_params_, gsearch2.best_score_"
   ]
  },
  {
   "cell_type": "code",
   "execution_count": null,
   "metadata": {
    "ExecuteTime": {
     "end_time": "2020-11-18T12:29:33.921373Z",
     "start_time": "2020-11-18T12:29:09.383613Z"
    }
   },
   "outputs": [],
   "source": [
    "param_test2b = {'max_depth':[1,2,4,6,8],\n",
    " 'min_child_weight':[0,1,2,3,4,5,6,7,8,9,10]\n",
    "}\n",
    "\n",
    "gsearch2b = GridSearchCV(estimator = XGBClassifier(learning_rate =0.1, n_estimators=140, max_depth=8,\n",
    "                                                  min_child_weight=0, gamma=0, subsample=0.8, \n",
    "                                                  colsample_bytree=0.8,\n",
    "                                                  objective= 'binary:logistic', scale_pos_weight=1, \n",
    "                                                  seed=27), \n",
    "                        param_grid = param_test2b, scoring='f1',iid=False, cv=5)\n",
    "gsearch2b.fit(X,y)\n",
    "gsearch2b.cv_results_, gsearch2b.best_params_, gsearch2b.best_score_"
   ]
  },
  {
   "cell_type": "code",
   "execution_count": null,
   "metadata": {
    "ExecuteTime": {
     "end_time": "2020-11-18T12:29:38.035451Z",
     "start_time": "2020-11-18T12:29:33.921373Z"
    },
    "scrolled": true
   },
   "outputs": [],
   "source": [
    "param_test3 = {\n",
    " 'gamma':[i/10.0 for i in range(0,5)]\n",
    "}\n",
    "\n",
    "gsearch3 = GridSearchCV(estimator = XGBClassifier(learning_rate =0.1, n_estimators=140, max_depth=8,\n",
    "                                                  min_child_weight=0, gamma=0, subsample=0.8, \n",
    "                                                  colsample_bytree=0.8,\n",
    "                                                  objective= 'binary:logistic', scale_pos_weight=1, \n",
    "                                                  seed=27), \n",
    "                        param_grid = param_test3, scoring='f1',iid=False, cv=5)\n",
    "gsearch3.fit(X,y)\n",
    "gsearch3.cv_results_, gsearch3.best_params_, gsearch3.best_score_"
   ]
  },
  {
   "cell_type": "code",
   "execution_count": null,
   "metadata": {
    "ExecuteTime": {
     "end_time": "2020-11-18T12:29:45.339455Z",
     "start_time": "2020-11-18T12:29:38.035451Z"
    }
   },
   "outputs": [],
   "source": [
    "param_test3b = {\n",
    " 'gamma':[i/10.0 for i in range(0,10)]\n",
    "}\n",
    "\n",
    "gsearch3b = GridSearchCV(estimator = XGBClassifier(learning_rate =0.1, n_estimators=140, max_depth=8,\n",
    "                                                  min_child_weight=0, gamma=0, subsample=0.8, \n",
    "                                                  colsample_bytree=0.8,\n",
    "                                                  objective= 'binary:logistic', scale_pos_weight=1, \n",
    "                                                  seed=27), \n",
    "                        param_grid = param_test3b, scoring='f1',iid=False, cv=5)\n",
    "gsearch3b.fit(X,y)\n",
    "gsearch3b.cv_results_, gsearch3b.best_params_, gsearch3b.best_score_"
   ]
  },
  {
   "cell_type": "code",
   "execution_count": null,
   "metadata": {
    "ExecuteTime": {
     "end_time": "2020-11-18T12:29:53.187215Z",
     "start_time": "2020-11-18T12:29:45.339455Z"
    }
   },
   "outputs": [],
   "source": [
    "param_test3c = {\n",
    " 'gamma':[i for i in range(0,10)]\n",
    "}\n",
    "\n",
    "gsearch3c = GridSearchCV(estimator = XGBClassifier(learning_rate =0.1, n_estimators=140, max_depth=8,\n",
    "                                                  min_child_weight=0, gamma=0, subsample=0.8, \n",
    "                                                  colsample_bytree=0.8,\n",
    "                                                  objective= 'binary:logistic', scale_pos_weight=1, \n",
    "                                                  seed=27), \n",
    "                        param_grid = param_test3c, scoring='f1',iid=False, cv=5)\n",
    "gsearch3c.fit(X,y)\n",
    "gsearch3c.cv_results_, gsearch3c.best_params_, gsearch3c.best_score_"
   ]
  },
  {
   "cell_type": "code",
   "execution_count": null,
   "metadata": {
    "ExecuteTime": {
     "end_time": "2020-11-18T12:30:02.410471Z",
     "start_time": "2020-11-18T12:29:53.187215Z"
    }
   },
   "outputs": [],
   "source": [
    "param_test3d = {\n",
    " 'gamma':[i for i in range(0,100,10)]\n",
    "}\n",
    "\n",
    "gsearch3d = GridSearchCV(estimator = XGBClassifier(learning_rate =0.1, n_estimators=140, max_depth=14,\n",
    "                                                  min_child_weight=0, gamma=0, subsample=0.8, \n",
    "                                                  colsample_bytree=0.8,\n",
    "                                                  objective= 'binary:logistic', scale_pos_weight=1, \n",
    "                                                  seed=27), \n",
    "                        param_grid = param_test3d, scoring='f1',iid=False, cv=5)\n",
    "gsearch3d.fit(X,y)\n",
    "gsearch3d.cv_results_, gsearch3d.best_params_, gsearch3d.best_score_"
   ]
  },
  {
   "cell_type": "code",
   "execution_count": null,
   "metadata": {
    "ExecuteTime": {
     "end_time": "2020-11-18T12:30:13.863778Z",
     "start_time": "2020-11-18T12:30:02.410471Z"
    }
   },
   "outputs": [],
   "source": [
    "param_test4 = {\n",
    " 'subsample':[i/10.0 for i in range(6,10)], #test values of 0.6 to 0.9\n",
    " 'colsample_bytree':[i/10.0 for i in range(6,10)] #test values of 0.6 to 0.9\n",
    "}\n",
    "\n",
    "gsearch4 = GridSearchCV(estimator = XGBClassifier(learning_rate =0.1, n_estimators=140, max_depth=8,\n",
    "                                                  min_child_weight=0, gamma=0, subsample=0.8, \n",
    "                                                  colsample_bytree=0.8,\n",
    "                                                  objective= 'binary:logistic', scale_pos_weight=1, \n",
    "                                                  seed=27), \n",
    "                        param_grid = param_test4, scoring='f1',iid=False, cv=5)\n",
    "gsearch4.fit(X,y)\n",
    "gsearch4.cv_results_, gsearch4.best_params_, gsearch4.best_score_"
   ]
  },
  {
   "cell_type": "code",
   "execution_count": null,
   "metadata": {
    "ExecuteTime": {
     "end_time": "2020-11-18T12:30:31.689165Z",
     "start_time": "2020-11-18T12:30:13.863778Z"
    }
   },
   "outputs": [],
   "source": [
    "param_test4b = {\n",
    " 'subsample':[i/100.0 for i in range(50,75,5)],\n",
    " 'colsample_bytree':[i/100.0 for i in range(50,75,5)]\n",
    "}\n",
    "\n",
    "gsearch4b = GridSearchCV(estimator = XGBClassifier(learning_rate =0.1, n_estimators=140, max_depth=8,\n",
    "                                                  min_child_weight=0, gamma=0, subsample=0.8, \n",
    "                                                  colsample_bytree=0.8,\n",
    "                                                  objective= 'binary:logistic', scale_pos_weight=1, \n",
    "                                                  seed=27), \n",
    "                        param_grid = param_test4b, scoring='f1',iid=False, cv=5)\n",
    "gsearch4b.fit(X,y)\n",
    "gsearch4b.cv_results_, gsearch4b.best_params_, gsearch4b.best_score_"
   ]
  },
  {
   "cell_type": "code",
   "execution_count": null,
   "metadata": {
    "ExecuteTime": {
     "end_time": "2020-11-18T12:31:32.912068Z",
     "start_time": "2020-11-18T12:30:31.689165Z"
    }
   },
   "outputs": [],
   "source": [
    "param_test4c = {'subsample':[i/100.0 for i in range(40,100,5)],\n",
    " 'colsample_bytree':[i/100.0 for i in range(40,80,5)]\n",
    "}\n",
    "\n",
    "gsearch4c = GridSearchCV(estimator = XGBClassifier(learning_rate =0.1, n_estimators=140, max_depth=8,\n",
    "                                                  min_child_weight=0, gamma=0, subsample=0.8, \n",
    "                                                  colsample_bytree=0.5,\n",
    "                                                  objective= 'binary:logistic', scale_pos_weight=1, \n",
    "                                                  seed=27), \n",
    "                        param_grid = param_test4c, scoring='f1',iid=False, cv=5)\n",
    "gsearch4c.fit(X,y)\n",
    "gsearch4c.cv_results_, gsearch4c.best_params_, gsearch4c.best_score_"
   ]
  },
  {
   "cell_type": "code",
   "execution_count": null,
   "metadata": {
    "ExecuteTime": {
     "end_time": "2020-11-18T12:31:44.772711Z",
     "start_time": "2020-11-18T12:31:32.912068Z"
    }
   },
   "outputs": [],
   "source": [
    "param_test4d = {\n",
    " 'colsample_bytree':[i/100.0 for i in range(0,100,5)]\n",
    "}\n",
    "\n",
    "gsearch4d = GridSearchCV(estimator = XGBClassifier(learning_rate =0.1, n_estimators=140, max_depth=8,\n",
    "                                                  min_child_weight=0, gamma=0, subsample=0.65, \n",
    "                                                  colsample_bytree=0.4,\n",
    "                                                  objective= 'binary:logistic', scale_pos_weight=1, \n",
    "                                                  seed=27), \n",
    "                        param_grid = param_test4d, scoring='f1',iid=False, cv=5)\n",
    "gsearch4d.fit(X,y)\n",
    "gsearch4d.cv_results_, gsearch4d.best_params_, gsearch4d.best_score_"
   ]
  },
  {
   "cell_type": "code",
   "execution_count": null,
   "metadata": {
    "ExecuteTime": {
     "end_time": "2020-11-18T12:31:46.396713Z",
     "start_time": "2020-11-18T12:31:44.772711Z"
    }
   },
   "outputs": [],
   "source": [
    "param_test5 = {\n",
    " 'reg_alpha':[1e-5, 1e-2, 0.1, 1, 100]\n",
    "}\n",
    "\n",
    "gsearch5 = GridSearchCV(estimator = XGBClassifier(learning_rate =0.1, n_estimators=140, max_depth=8,\n",
    "                                                  min_child_weight=0, gamma=0, subsample=0.65, \n",
    "                                                  colsample_bytree=0,\n",
    "                                                  objective= 'binary:logistic', scale_pos_weight=1, \n",
    "                                                  seed=27), \n",
    "                        param_grid = param_test5, scoring='f1',iid=False, cv=5)\n",
    "gsearch5.fit(X,y)\n",
    "gsearch5.cv_results_, gsearch5.best_params_, gsearch5.best_score_"
   ]
  },
  {
   "cell_type": "code",
   "execution_count": null,
   "metadata": {
    "ExecuteTime": {
     "end_time": "2020-11-18T12:31:48.948714Z",
     "start_time": "2020-11-18T12:31:46.396713Z"
    }
   },
   "outputs": [],
   "source": [
    "param_test5b = {\n",
    " 'reg_alpha':[1e-5, 1e-4, 1e-3, 1e-2, 10,0.05,5e-3,5e-2]\n",
    "}\n",
    "\n",
    "gsearch5b = GridSearchCV(estimator = XGBClassifier(learning_rate =0.1, n_estimators=140, max_depth=8,\n",
    "                                                  min_child_weight=0, gamma=0, subsample=0.65, \n",
    "                                                  colsample_bytree=0,\n",
    "                                                  objective= 'binary:logistic', scale_pos_weight=1, \n",
    "                                                  seed=27), \n",
    "                        param_grid = param_test5b, scoring='f1',iid=False, cv=5)\n",
    "gsearch5b.fit(X,y)\n",
    "gsearch5b.cv_results_, gsearch5b.best_params_, gsearch5b.best_score_"
   ]
  },
  {
   "cell_type": "code",
   "execution_count": null,
   "metadata": {
    "ExecuteTime": {
     "end_time": "2020-11-18T12:31:50.908714Z",
     "start_time": "2020-11-18T12:31:48.948714Z"
    }
   },
   "outputs": [],
   "source": [
    "param_test5c = {\n",
    " 'reg_alpha':[1e-5, 1e-6,1e-7,1e-8,1e-9,1e-10]\n",
    "}\n",
    "\n",
    "gsearch5c = GridSearchCV(estimator = XGBClassifier(learning_rate =0.1, n_estimators=140, max_depth=8,\n",
    "                                                  min_child_weight=0, gamma=0, subsample=0.65, \n",
    "                                                  colsample_bytree=0,\n",
    "                                                  objective= 'binary:logistic', scale_pos_weight=1, \n",
    "                                                  seed=27), \n",
    "                        param_grid = param_test5c, scoring='f1',iid=False, cv=5)\n",
    "gsearch5c.fit(X,y)\n",
    "gsearch5c.cv_results_, gsearch5c.best_params_, gsearch5c.best_score_"
   ]
  },
  {
   "cell_type": "code",
   "execution_count": null,
   "metadata": {
    "ExecuteTime": {
     "end_time": "2020-11-18T12:31:52.940715Z",
     "start_time": "2020-11-18T12:31:50.908714Z"
    },
    "scrolled": true
   },
   "outputs": [],
   "source": [
    "param_test6 = {\n",
    " 'reg_lambda':[1e-5,0.001, 0.1, 0, 0.3,0.8]\n",
    "}\n",
    "\n",
    "gsearch6 = GridSearchCV(estimator = XGBClassifier(learning_rate =0.1, n_estimators=140, max_depth=8,\n",
    "                                                  min_child_weight=0, gamma=0, subsample=0.65, \n",
    "                                                  colsample_bytree=0, reg_alpha=1e-5,\n",
    "                                                  objective= 'binary:logistic', scale_pos_weight=1, \n",
    "                                                  seed=27), \n",
    "                        param_grid = param_test6, scoring='f1',iid=False, cv=5)\n",
    "gsearch6.fit(X,y)\n",
    "gsearch6.cv_results_, gsearch6.best_params_, gsearch6.best_score_"
   ]
  },
  {
   "cell_type": "markdown",
   "metadata": {},
   "source": [
    "Reg lambda performs worse."
   ]
  },
  {
   "cell_type": "code",
   "execution_count": null,
   "metadata": {
    "ExecuteTime": {
     "end_time": "2020-11-18T12:31:55.140986Z",
     "start_time": "2020-11-18T12:31:52.940715Z"
    },
    "scrolled": true
   },
   "outputs": [],
   "source": [
    "param_test7 = {\n",
    " 'learning_rate':[0,1e-2,1e-3,1e-4,1e-5,1e-6,1e-7]\n",
    "}\n",
    "\n",
    "gsearch7 = GridSearchCV(estimator = XGBClassifier(learning_rate =0.1, n_estimators=140, max_depth=8,\n",
    "                                                  min_child_weight=0, gamma=0, subsample=0.65, \n",
    "                                                  colsample_bytree=0, reg_alpha=1e-5,\n",
    "                                                  objective= 'binary:logistic', scale_pos_weight=1, \n",
    "                                                  seed=27), \n",
    "                        param_grid = param_test7, scoring='f1',iid=False, cv=5)\n",
    "gsearch7.fit(X,y)\n",
    "gsearch7.cv_results_, gsearch7.best_params_, gsearch7.best_score_"
   ]
  },
  {
   "cell_type": "markdown",
   "metadata": {},
   "source": [
    "### Final XGB Model"
   ]
  },
  {
   "cell_type": "code",
   "execution_count": null,
   "metadata": {
    "ExecuteTime": {
     "end_time": "2020-11-18T12:31:55.156986Z",
     "start_time": "2020-11-18T12:31:55.140986Z"
    }
   },
   "outputs": [],
   "source": [
    "xgb = XGBClassifier(learning_rate =0.1, n_estimators=140, max_depth=8,\n",
    "                                                  min_child_weight=0, gamma=0, subsample=0.65, \n",
    "                                                  colsample_bytree=0, reg_alpha=1e-5,\n",
    "                                                  objective= 'binary:logistic', scale_pos_weight=1, \n",
    "                                                  seed=27)"
   ]
  },
  {
   "cell_type": "markdown",
   "metadata": {},
   "source": [
    "### Feature Importance"
   ]
  },
  {
   "cell_type": "code",
   "execution_count": null,
   "metadata": {
    "ExecuteTime": {
     "end_time": "2020-11-18T12:32:08.091781Z",
     "start_time": "2020-11-18T12:31:55.156986Z"
    }
   },
   "outputs": [],
   "source": [
    "from sklearn.model_selection import StratifiedKFold\n",
    "from sklearn.feature_selection import RFECV\n",
    "\n",
    "xgb_rfecv = RFECV(estimator=xgb, step=1, cv=StratifiedKFold(10), scoring='f1',n_jobs=-1) \n",
    "# step means how many features are removed at each iteration\n",
    "xgb_rfecv.fit(X, y) \n",
    "print('Optimal number of features :', xgb_rfecv.n_features_)\n",
    "print('Best features :', X.columns[xgb_rfecv.support_])"
   ]
  },
  {
   "cell_type": "code",
   "execution_count": null,
   "metadata": {
    "ExecuteTime": {
     "end_time": "2020-11-18T12:32:08.107781Z",
     "start_time": "2020-11-18T12:32:08.091781Z"
    }
   },
   "outputs": [],
   "source": [
    "xgb_rfecv.grid_scores_"
   ]
  },
  {
   "cell_type": "code",
   "execution_count": null,
   "metadata": {
    "ExecuteTime": {
     "end_time": "2020-11-18T12:32:08.295816Z",
     "start_time": "2020-11-18T12:32:08.107781Z"
    }
   },
   "outputs": [],
   "source": [
    "plt.figure(figsize=(16, 9))\n",
    "plt.title('XG Boost - RFECV', fontsize=18, fontweight='bold', pad=20)\n",
    "plt.xlabel('Number of features selected', fontsize=14, labelpad=20)\n",
    "plt.ylabel('% Correct Classification', fontsize=14, labelpad=20)\n",
    "plt.plot(range(1, len(xgb_rfecv.grid_scores_) + 1), xgb_rfecv.grid_scores_, color='#303F9F', linewidth=3)\n",
    "plt.show()"
   ]
  },
  {
   "cell_type": "code",
   "execution_count": null,
   "metadata": {
    "ExecuteTime": {
     "end_time": "2020-11-18T12:32:08.311815Z",
     "start_time": "2020-11-18T12:32:08.295816Z"
    }
   },
   "outputs": [],
   "source": [
    "print(np.where(xgb_rfecv.support_ == False)[0])\n",
    "#X.drop(X.columns[np.where(rfecv.support_ == False)[0]], axis=1, inplace=True)\n",
    "X.drop(X.columns[np.where(xgb_rfecv.support_ == False)[0]], axis=1, inplace=True)"
   ]
  },
  {
   "cell_type": "code",
   "execution_count": null,
   "metadata": {
    "ExecuteTime": {
     "end_time": "2020-11-18T12:32:08.343817Z",
     "start_time": "2020-11-18T12:32:08.311815Z"
    }
   },
   "outputs": [],
   "source": [
    "xgb_rfecv.estimator_.feature_importances_"
   ]
  },
  {
   "cell_type": "code",
   "execution_count": null,
   "metadata": {
    "ExecuteTime": {
     "end_time": "2020-11-18T12:32:08.515782Z",
     "start_time": "2020-11-18T12:32:08.343817Z"
    }
   },
   "outputs": [],
   "source": [
    "dset = pd.DataFrame()\n",
    "dset['attr'] = X.columns\n",
    "dset['importance'] = xgb_rfecv.estimator_.feature_importances_\n",
    "dset = dset.sort_values(by='importance', ascending=False)\n",
    "\n",
    "plt.figure(figsize=(16, 10))\n",
    "plt.barh(y=dset['attr'], width=dset['importance'], color='#1976D2')\n",
    "plt.title('XG Boost - RFECV - Feature importances', fontsize=20, fontweight='bold', pad=20)\n",
    "plt.xlabel('Importance', fontsize=14, labelpad=20)\n",
    "plt.show()"
   ]
  },
  {
   "cell_type": "markdown",
   "metadata": {},
   "source": [
    "### Evaluate Model Performance"
   ]
  },
  {
   "cell_type": "code",
   "execution_count": null,
   "metadata": {
    "ExecuteTime": {
     "end_time": "2020-11-18T12:32:08.531782Z",
     "start_time": "2020-11-18T12:32:08.515782Z"
    }
   },
   "outputs": [],
   "source": [
    "X_train, X_test, y_train, y_test = train_test_split(X, y, \n",
    "                                                    test_size=0.20, \n",
    "                                                    random_state=8)"
   ]
  },
  {
   "cell_type": "code",
   "execution_count": null,
   "metadata": {
    "ExecuteTime": {
     "end_time": "2020-11-18T12:32:08.547781Z",
     "start_time": "2020-11-18T12:32:08.531782Z"
    }
   },
   "outputs": [],
   "source": [
    "X_train.shape"
   ]
  },
  {
   "cell_type": "code",
   "execution_count": null,
   "metadata": {
    "ExecuteTime": {
     "end_time": "2020-11-18T12:32:08.563782Z",
     "start_time": "2020-11-18T12:32:08.547781Z"
    }
   },
   "outputs": [],
   "source": [
    "X_test.shape"
   ]
  },
  {
   "cell_type": "markdown",
   "metadata": {},
   "source": [
    "Fit model on only 6 features"
   ]
  },
  {
   "cell_type": "code",
   "execution_count": null,
   "metadata": {
    "ExecuteTime": {
     "end_time": "2020-11-18T12:32:11.359923Z",
     "start_time": "2020-11-18T12:32:08.563782Z"
    }
   },
   "outputs": [],
   "source": [
    "xgb_rfecv_model = xgb_rfecv.fit(X_train, y_train)"
   ]
  },
  {
   "cell_type": "markdown",
   "metadata": {},
   "source": [
    "### Confusion Matrix"
   ]
  },
  {
   "cell_type": "code",
   "execution_count": null,
   "metadata": {
    "ExecuteTime": {
     "end_time": "2020-11-18T12:32:11.375924Z",
     "start_time": "2020-11-18T12:32:11.359923Z"
    }
   },
   "outputs": [],
   "source": [
    "from sklearn import metrics\n",
    "y_pred = xgb_rfecv_model.predict(X_test)\n",
    "cm = metrics.confusion_matrix(y_test, y_pred)\n",
    "print(cm)"
   ]
  },
  {
   "cell_type": "code",
   "execution_count": null,
   "metadata": {
    "ExecuteTime": {
     "end_time": "2020-11-18T12:32:11.559925Z",
     "start_time": "2020-11-18T12:32:11.375924Z"
    }
   },
   "outputs": [],
   "source": [
    "plt.figure(figsize=(9,9))\n",
    "sns.heatmap(cm, annot=True, fmt=\".3f\", linewidths=.5, square = True, cmap = 'Blues_r');\n",
    "plt.ylabel('Actual label');\n",
    "plt.xlabel('Predicted label');\n",
    "plt.title('Confusion Matrix');"
   ]
  },
  {
   "cell_type": "markdown",
   "metadata": {},
   "source": [
    "### Precision, Recall, F-Score, Support"
   ]
  },
  {
   "cell_type": "code",
   "execution_count": null,
   "metadata": {
    "ExecuteTime": {
     "end_time": "2020-11-18T12:32:11.575925Z",
     "start_time": "2020-11-18T12:32:11.559925Z"
    }
   },
   "outputs": [],
   "source": [
    "from sklearn.metrics import classification_report\n",
    "classification_report=classification_report(y_test, y_pred)\n",
    "print(classification_report)\n",
    "#pd.DataFrame(classification_report)"
   ]
  },
  {
   "cell_type": "markdown",
   "metadata": {},
   "source": [
    "### ROC Curve"
   ]
  },
  {
   "cell_type": "code",
   "execution_count": null,
   "metadata": {
    "ExecuteTime": {
     "end_time": "2020-11-18T12:32:11.807956Z",
     "start_time": "2020-11-18T12:32:11.575925Z"
    }
   },
   "outputs": [],
   "source": [
    "from sklearn.metrics import roc_auc_score\n",
    "from sklearn.metrics import roc_curve\n",
    "logit_roc_auc = roc_auc_score(y_test, xgb_rfecv_model.predict(X_test))\n",
    "fpr, tpr, thresholds = roc_curve(y_test, xgb_rfecv.predict_proba(X_test)[:,1])\n",
    "plt.figure()\n",
    "plt.plot(fpr, tpr, label='XGBoost (area = %0.2f)' % logit_roc_auc)\n",
    "plt.plot([0, 1], [0, 1],'r--')\n",
    "plt.xlim([0.0, 1.0])\n",
    "plt.ylim([0.0, 1.05])\n",
    "plt.xlabel('False Positive Rate')\n",
    "plt.ylabel('True Positive Rate')\n",
    "plt.title('Receiver operating characteristic')\n",
    "plt.legend(loc=\"lower right\")\n",
    "plt.savefig('Log_ROC_XGB_RFE')\n",
    "plt.show()"
   ]
  },
  {
   "cell_type": "markdown",
   "metadata": {},
   "source": [
    "## Random Forest Classifier"
   ]
  },
  {
   "cell_type": "code",
   "execution_count": null,
   "metadata": {
    "ExecuteTime": {
     "end_time": "2020-11-18T12:32:11.823957Z",
     "start_time": "2020-11-18T12:32:11.807956Z"
    }
   },
   "outputs": [],
   "source": [
    "#Create Feature variable X and Target variable y\n",
    "y = churn_dataset['Churn']\n",
    "X = churn_dataset.drop(['Churn','customer_name','last_purchase_in_days','Probability_of_Churn'], axis = 1)"
   ]
  },
  {
   "cell_type": "code",
   "execution_count": null,
   "metadata": {
    "ExecuteTime": {
     "end_time": "2020-11-18T12:33:08.332863Z",
     "start_time": "2020-11-18T12:32:11.823957Z"
    }
   },
   "outputs": [],
   "source": [
    "rf_rfecv = RFECV(RandomForestClassifier(), cv=10, scoring='f1')\n",
    "rf_rfecv = rf_rfecv.fit(X, y)\n",
    "print('Optimal number of features :', rf_rfecv.n_features_)\n",
    "print('Best features :', X.columns[rf_rfecv.support_])"
   ]
  },
  {
   "cell_type": "code",
   "execution_count": null,
   "metadata": {
    "ExecuteTime": {
     "end_time": "2020-11-18T12:33:08.348848Z",
     "start_time": "2020-11-18T12:33:08.332863Z"
    }
   },
   "outputs": [],
   "source": [
    "rf_rfecv.grid_scores_"
   ]
  },
  {
   "cell_type": "code",
   "execution_count": null,
   "metadata": {
    "ExecuteTime": {
     "end_time": "2020-11-18T12:33:08.556856Z",
     "start_time": "2020-11-18T12:33:08.348848Z"
    }
   },
   "outputs": [],
   "source": [
    "plt.figure(figsize=(16, 9))\n",
    "plt.title('Decision Tree - RFECV', fontsize=18, fontweight='bold', pad=20)\n",
    "plt.xlabel('Number of features selected', fontsize=14, labelpad=20)\n",
    "plt.ylabel('% Correct Classification', fontsize=14, labelpad=20)\n",
    "plt.plot(range(1, len(rf_rfecv.grid_scores_) + 1), rf_rfecv.grid_scores_, color='#303F9F', linewidth=3)\n",
    "plt.show()"
   ]
  },
  {
   "cell_type": "code",
   "execution_count": null,
   "metadata": {
    "ExecuteTime": {
     "end_time": "2020-11-18T12:33:08.572856Z",
     "start_time": "2020-11-18T12:33:08.556856Z"
    }
   },
   "outputs": [],
   "source": [
    "print(np.where(rf_rfecv.support_ == False)[0])\n",
    "#X.drop(X.columns[np.where(rfecv.support_ == False)[0]], axis=1, inplace=True)\n",
    "X.drop(X.columns[np.where(rf_rfecv.support_ == False)[0]], axis=1, inplace=True)"
   ]
  },
  {
   "cell_type": "code",
   "execution_count": null,
   "metadata": {
    "ExecuteTime": {
     "end_time": "2020-11-18T12:33:08.588820Z",
     "start_time": "2020-11-18T12:33:08.572856Z"
    }
   },
   "outputs": [],
   "source": [
    "rf_rfecv.estimator_.feature_importances_"
   ]
  },
  {
   "cell_type": "markdown",
   "metadata": {},
   "source": [
    "### Evaluate Model Performance"
   ]
  },
  {
   "cell_type": "code",
   "execution_count": null,
   "metadata": {
    "ExecuteTime": {
     "end_time": "2020-11-18T12:33:08.604822Z",
     "start_time": "2020-11-18T12:33:08.588820Z"
    }
   },
   "outputs": [],
   "source": [
    "X_train, X_test, y_train, y_test = train_test_split(X, y, \n",
    "                                                    test_size=0.20, \n",
    "                                                    random_state=8)"
   ]
  },
  {
   "cell_type": "code",
   "execution_count": null,
   "metadata": {
    "ExecuteTime": {
     "end_time": "2020-11-18T12:33:08.620851Z",
     "start_time": "2020-11-18T12:33:08.604822Z"
    }
   },
   "outputs": [],
   "source": [
    "X_train.shape"
   ]
  },
  {
   "cell_type": "code",
   "execution_count": null,
   "metadata": {
    "ExecuteTime": {
     "end_time": "2020-11-18T12:33:08.652857Z",
     "start_time": "2020-11-18T12:33:08.620851Z"
    }
   },
   "outputs": [],
   "source": [
    "rf_rfecv_model = rf_rfecv.fit(X_train, y_train)"
   ]
  },
  {
   "cell_type": "markdown",
   "metadata": {},
   "source": [
    "### Confusion Matrix"
   ]
  },
  {
   "cell_type": "code",
   "execution_count": null,
   "metadata": {
    "ExecuteTime": {
     "end_time": "2020-11-18T12:33:08.652857Z",
     "start_time": "2020-11-18T12:27:27.177Z"
    }
   },
   "outputs": [],
   "source": [
    "from sklearn import metrics\n",
    "y_pred = rf_rfecv_model.predict(X_test)\n",
    "cm = metrics.confusion_matrix(y_test, y_pred)\n",
    "print(cm)"
   ]
  },
  {
   "cell_type": "code",
   "execution_count": null,
   "metadata": {
    "ExecuteTime": {
     "end_time": "2020-11-18T12:33:08.652857Z",
     "start_time": "2020-11-18T12:27:27.182Z"
    }
   },
   "outputs": [],
   "source": [
    "plt.figure(figsize=(9,9))\n",
    "sns.heatmap(cm, annot=True, fmt=\".3f\", linewidths=.5, square = True, cmap = 'Blues_r');\n",
    "plt.ylabel('Actual label');\n",
    "plt.xlabel('Predicted label');\n",
    "plt.title('Confusion Matrix');"
   ]
  },
  {
   "cell_type": "markdown",
   "metadata": {},
   "source": [
    "### Precision, Recall, F-Score and Support"
   ]
  },
  {
   "cell_type": "code",
   "execution_count": null,
   "metadata": {
    "ExecuteTime": {
     "end_time": "2020-11-18T12:33:08.656853Z",
     "start_time": "2020-11-18T12:27:27.541Z"
    }
   },
   "outputs": [],
   "source": [
    "from sklearn.metrics import classification_report\n",
    "print(classification_report(y_test, y_pred))"
   ]
  },
  {
   "cell_type": "markdown",
   "metadata": {},
   "source": [
    "### ROC Curve"
   ]
  },
  {
   "cell_type": "code",
   "execution_count": null,
   "metadata": {
    "ExecuteTime": {
     "end_time": "2020-11-18T12:33:08.656853Z",
     "start_time": "2020-11-18T12:27:27.930Z"
    },
    "scrolled": true
   },
   "outputs": [],
   "source": [
    "from sklearn.metrics import roc_auc_score\n",
    "from sklearn.metrics import roc_curve\n",
    "logit_roc_auc = roc_auc_score(y_test, rf_rfecv_model.predict(X_test))\n",
    "fpr, tpr, thresholds = roc_curve(y_test, rf_rfecv_model.predict_proba(X_test)[:,1])\n",
    "plt.figure()\n",
    "plt.plot(fpr, tpr, label='Random Forest Classifier (area = %0.2f)' % logit_roc_auc)\n",
    "plt.plot([0, 1], [0, 1],'r--')\n",
    "plt.xlim([0.0, 1.0])\n",
    "plt.ylim([0.0, 1.05])\n",
    "plt.xlabel('False Positive Rate')\n",
    "plt.ylabel('True Positive Rate')\n",
    "plt.title('Receiver operating characteristic')\n",
    "plt.legend(loc=\"lower right\")\n",
    "plt.savefig('Log_ROC_RF_RFE')\n",
    "plt.show()"
   ]
  }
 ],
 "metadata": {
  "kernelspec": {
   "display_name": "Python 3",
   "language": "python",
   "name": "python3"
  },
  "language_info": {
   "codemirror_mode": {
    "name": "ipython",
    "version": 3
   },
   "file_extension": ".py",
   "mimetype": "text/x-python",
   "name": "python",
   "nbconvert_exporter": "python",
   "pygments_lexer": "ipython3",
   "version": "3.8.3"
  },
  "toc": {
   "base_numbering": 1,
   "nav_menu": {},
   "number_sections": true,
   "sideBar": true,
   "skip_h1_title": false,
   "title_cell": "Table of Contents",
   "title_sidebar": "Contents",
   "toc_cell": false,
   "toc_position": {
    "height": "calc(100% - 180px)",
    "left": "10px",
    "top": "150px",
    "width": "299.2px"
   },
   "toc_section_display": true,
   "toc_window_display": true
  }
 },
 "nbformat": 4,
 "nbformat_minor": 4
}
