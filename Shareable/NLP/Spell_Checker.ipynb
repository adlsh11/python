{
 "cells": [
  {
   "cell_type": "markdown",
   "metadata": {
    "toc": true
   },
   "source": [
    "<h1>Table of Contents<span class=\"tocSkip\"></span></h1>\n",
    "<div class=\"toc\"><ul class=\"toc-item\"><li><span><a href=\"#Spell-Check\" data-toc-modified-id=\"Spell-Check-1\"><span class=\"toc-item-num\">1&nbsp;&nbsp;</span>Spell Check</a></span><ul class=\"toc-item\"><li><span><a href=\"#TextBlob\" data-toc-modified-id=\"TextBlob-1.1\"><span class=\"toc-item-num\">1.1&nbsp;&nbsp;</span>TextBlob</a></span></li><li><span><a href=\"#PySpellChecker\" data-toc-modified-id=\"PySpellChecker-1.2\"><span class=\"toc-item-num\">1.2&nbsp;&nbsp;</span>PySpellChecker</a></span></li><li><span><a href=\"#Spacy-Contextual-SpellCheck\" data-toc-modified-id=\"Spacy-Contextual-SpellCheck-1.3\"><span class=\"toc-item-num\">1.3&nbsp;&nbsp;</span>Spacy Contextual SpellCheck</a></span></li></ul></li></ul></div>"
   ]
  },
  {
   "cell_type": "markdown",
   "metadata": {},
   "source": [
    "# Spell Check"
   ]
  },
  {
   "cell_type": "code",
   "execution_count": null,
   "metadata": {},
   "outputs": [],
   "source": [
    "import pandas as pd\n",
    "import os\n",
    "import io"
   ]
  },
  {
   "cell_type": "code",
   "execution_count": null,
   "metadata": {
    "scrolled": true
   },
   "outputs": [],
   "source": [
    "os.chdir(r'C:\\Users\\User\\Sept')\n",
    "CCtranslate = pd.read_csv('CCtranslate.csv',index_col=0)"
   ]
  },
  {
   "cell_type": "code",
   "execution_count": null,
   "metadata": {
    "scrolled": true
   },
   "outputs": [],
   "source": [
    "CCtranslate.columns"
   ]
  },
  {
   "cell_type": "code",
   "execution_count": null,
   "metadata": {
    "scrolled": true
   },
   "outputs": [],
   "source": [
    "CCtranslate.isna().sum()"
   ]
  },
  {
   "cell_type": "markdown",
   "metadata": {},
   "source": [
    "## TextBlob"
   ]
  },
  {
   "cell_type": "code",
   "execution_count": null,
   "metadata": {},
   "outputs": [],
   "source": [
    "from textblob import TextBlob\n",
    "\n",
    "def TBSpellCorrector(sentence):\n",
    "    return TextBlob(sentence).correct().string\n",
    "\n",
    "CCtranslate['comments_tr3']=CCtranslate['comments_translated'].apply(TBSpellCorrector)"
   ]
  },
  {
   "cell_type": "code",
   "execution_count": null,
   "metadata": {},
   "outputs": [],
   "source": [
    "CCrevised = CCtranslate\n",
    "CCrevised.to_csv('CCrevised.csv')"
   ]
  },
  {
   "cell_type": "markdown",
   "metadata": {},
   "source": [
    "## PySpellChecker"
   ]
  },
  {
   "cell_type": "code",
   "execution_count": null,
   "metadata": {},
   "outputs": [],
   "source": [
    "#pip install pyspellchecker\n",
    "from spellchecker import SpellChecker\n",
    "spell = SpellChecker()\n",
    "\n",
    "def PySpellCheckerCorrector(text):\n",
    "    return spell.correction(text)\n",
    "\n",
    "CCtranslate['comments_tr']=CCtranslate['comments_translated'].apply(PySpellCheckerCorrector)"
   ]
  },
  {
   "cell_type": "code",
   "execution_count": null,
   "metadata": {},
   "outputs": [],
   "source": [
    "CCrevised = CCtranslate\n",
    "CCrevised.to_csv('CCrevised.csv')"
   ]
  },
  {
   "cell_type": "code",
   "execution_count": null,
   "metadata": {},
   "outputs": [],
   "source": [
    "os.chdir(r'C:\\Users\\User\\Sept')\n",
    "CCrevised = pd.read_csv('CCrevised.csv')"
   ]
  },
  {
   "cell_type": "markdown",
   "metadata": {},
   "source": [
    "## Spacy Contextual SpellCheck"
   ]
  },
  {
   "cell_type": "code",
   "execution_count": null,
   "metadata": {},
   "outputs": [],
   "source": [
    "import spacy\n",
    "import contextualSpellCheck\n",
    "\n",
    "nlp = spacy.load('en_core_web_sm')\n",
    "contextualSpellCheck.add_to_pipe(nlp)\n",
    "def ContextSC(text):\n",
    "    doc = nlp(text)\n",
    "    return doc._.outcome_spellCheck\n",
    "\n",
    "CCrevised['comments_tr2']=CCrevised['comments_translated'].apply(ContextSC)"
   ]
  },
  {
   "cell_type": "code",
   "execution_count": null,
   "metadata": {},
   "outputs": [],
   "source": [
    "CCrevised.to_csv('CCrevised.csv')"
   ]
  },
  {
   "cell_type": "code",
   "execution_count": null,
   "metadata": {},
   "outputs": [],
   "source": [
    "CCrevised[['comments','comments_translated','comments_tr','comments_tr2','comments_tr3']]"
   ]
  },
  {
   "cell_type": "code",
   "execution_count": null,
   "metadata": {},
   "outputs": [],
   "source": [
    "CCrevised.to_csv('CCrevised.csv')"
   ]
  }
 ],
 "metadata": {
  "kernelspec": {
   "display_name": "Python 3",
   "language": "python",
   "name": "python3"
  },
  "language_info": {
   "codemirror_mode": {
    "name": "ipython",
    "version": 3
   },
   "file_extension": ".py",
   "mimetype": "text/x-python",
   "name": "python",
   "nbconvert_exporter": "python",
   "pygments_lexer": "ipython3",
   "version": "3.8.3"
  },
  "toc": {
   "base_numbering": 1,
   "nav_menu": {},
   "number_sections": true,
   "sideBar": true,
   "skip_h1_title": false,
   "title_cell": "Table of Contents",
   "title_sidebar": "Contents",
   "toc_cell": true,
   "toc_position": {
    "height": "445px",
    "left": "167px",
    "top": "450px",
    "width": "273.188px"
   },
   "toc_section_display": true,
   "toc_window_display": true
  }
 },
 "nbformat": 4,
 "nbformat_minor": 4
}
