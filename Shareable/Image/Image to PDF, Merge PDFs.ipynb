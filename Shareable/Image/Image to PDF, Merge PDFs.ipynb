{
 "cells": [
  {
   "cell_type": "code",
   "execution_count": 6,
   "metadata": {
    "ExecuteTime": {
     "end_time": "2020-12-11T13:12:40.906239Z",
     "start_time": "2020-12-11T13:12:40.898244Z"
    }
   },
   "outputs": [],
   "source": [
    "file_path=r'C:\\Users\\luc57.DESKTOP-NB5DC80\\Side Projects\\Image to PDF'"
   ]
  },
  {
   "cell_type": "code",
   "execution_count": 14,
   "metadata": {
    "ExecuteTime": {
     "end_time": "2020-12-11T13:21:50.890394Z",
     "start_time": "2020-12-11T13:21:48.745991Z"
    }
   },
   "outputs": [],
   "source": [
    "from PIL import Image\n",
    "\n",
    "image1 = Image.open(r'C:\\Users\\luc57.DESKTOP-NB5DC80\\Side Projects\\Image to PDF\\1.jpg')\n",
    "im1 = image1.convert('RGB').rotate(180)\n",
    "im1.save(r'C:\\Users\\luc57.DESKTOP-NB5DC80\\Side Projects\\Image to PDF\\1.pdf')\n",
    "\n",
    "image1 = Image.open(r'C:\\Users\\luc57.DESKTOP-NB5DC80\\Side Projects\\Image to PDF\\2.jpg')\n",
    "im1 = image1.convert('RGB').rotate(180)\n",
    "im1.save(r'C:\\Users\\luc57.DESKTOP-NB5DC80\\Side Projects\\Image to PDF\\2.pdf')\n",
    "\n",
    "image1 = Image.open(r'C:\\Users\\luc57.DESKTOP-NB5DC80\\Side Projects\\Image to PDF\\3.jpg')\n",
    "im1 = image1.convert('RGB').rotate(90)\n",
    "im1.save(r'C:\\Users\\luc57.DESKTOP-NB5DC80\\Side Projects\\Image to PDF\\3.pdf')\n",
    "\n",
    "image1 = Image.open(r'C:\\Users\\luc57.DESKTOP-NB5DC80\\Side Projects\\Image to PDF\\4.jpg')\n",
    "im1 = image1.convert('RGB').rotate(90)\n",
    "im1.save(r'C:\\Users\\luc57.DESKTOP-NB5DC80\\Side Projects\\Image to PDF\\4.pdf')"
   ]
  },
  {
   "cell_type": "code",
   "execution_count": 18,
   "metadata": {
    "ExecuteTime": {
     "end_time": "2020-12-11T13:23:28.526196Z",
     "start_time": "2020-12-11T13:23:28.490669Z"
    }
   },
   "outputs": [],
   "source": [
    "from PyPDF2 import PdfFileMerger\n",
    "os.chdir(r'C:\\Users\\luc57.DESKTOP-NB5DC80\\Side Projects\\Image to PDF')\n",
    "pdfs = ['1.pdf', '2.pdf', '3.pdf', '4.pdf']\n",
    "\n",
    "merger = PdfFileMerger()\n",
    "\n",
    "for pdf in pdfs:\n",
    "    merger.append(pdf)\n",
    "\n",
    "merger.write(\"KeyBCA_documents_Andree_Limardinata.pdf\")\n",
    "merger.close()"
   ]
  },
  {
   "cell_type": "code",
   "execution_count": 8,
   "metadata": {
    "ExecuteTime": {
     "end_time": "2020-12-11T13:40:39.731150Z",
     "start_time": "2020-12-11T13:40:39.706398Z"
    }
   },
   "outputs": [
    {
     "ename": "FileNotFoundError",
     "evalue": "[Errno 2] No such file or directory: 'C'",
     "output_type": "error",
     "traceback": [
      "\u001b[1;31m---------------------------------------------------------------------------\u001b[0m",
      "\u001b[1;31mFileNotFoundError\u001b[0m                         Traceback (most recent call last)",
      "\u001b[1;32m<ipython-input-8-28e69e47d4a2>\u001b[0m in \u001b[0;36m<module>\u001b[1;34m\u001b[0m\n\u001b[0;32m      8\u001b[0m \u001b[1;33m\u001b[0m\u001b[0m\n\u001b[0;32m      9\u001b[0m \u001b[1;32mfor\u001b[0m \u001b[0mpdf\u001b[0m \u001b[1;32min\u001b[0m \u001b[0mpath\u001b[0m\u001b[1;33m:\u001b[0m\u001b[1;33m\u001b[0m\u001b[1;33m\u001b[0m\u001b[0m\n\u001b[1;32m---> 10\u001b[1;33m     \u001b[0mreader\u001b[0m \u001b[1;33m=\u001b[0m \u001b[0mPyPDF2\u001b[0m\u001b[1;33m.\u001b[0m\u001b[0mPdfFileReader\u001b[0m\u001b[1;33m(\u001b[0m\u001b[0mpdf\u001b[0m\u001b[1;33m)\u001b[0m\u001b[1;33m\u001b[0m\u001b[1;33m\u001b[0m\u001b[0m\n\u001b[0m\u001b[0;32m     11\u001b[0m     \u001b[1;32mfor\u001b[0m \u001b[0mi\u001b[0m \u001b[1;32min\u001b[0m \u001b[0mrange\u001b[0m\u001b[1;33m(\u001b[0m\u001b[0mreader\u001b[0m\u001b[1;33m.\u001b[0m\u001b[0mnumPages\u001b[0m\u001b[1;33m)\u001b[0m\u001b[1;33m:\u001b[0m\u001b[1;33m\u001b[0m\u001b[1;33m\u001b[0m\u001b[0m\n\u001b[0;32m     12\u001b[0m         \u001b[0mpage\u001b[0m \u001b[1;33m=\u001b[0m \u001b[0mreader\u001b[0m\u001b[1;33m.\u001b[0m\u001b[0mgetPage\u001b[0m\u001b[1;33m(\u001b[0m\u001b[0mi\u001b[0m\u001b[1;33m)\u001b[0m\u001b[1;33m\u001b[0m\u001b[1;33m\u001b[0m\u001b[0m\n",
      "\u001b[1;32mC:\\ProgramData\\Anaconda3\\lib\\site-packages\\PyPDF2\\pdf.py\u001b[0m in \u001b[0;36m__init__\u001b[1;34m(self, stream, strict, warndest, overwriteWarnings)\u001b[0m\n\u001b[0;32m   1079\u001b[0m             \u001b[0mwarnings\u001b[0m\u001b[1;33m.\u001b[0m\u001b[0mwarn\u001b[0m\u001b[1;33m(\u001b[0m\u001b[1;34m\"PdfFileReader stream/file object is not in binary mode. It may not be read correctly.\"\u001b[0m\u001b[1;33m,\u001b[0m \u001b[0mutils\u001b[0m\u001b[1;33m.\u001b[0m\u001b[0mPdfReadWarning\u001b[0m\u001b[1;33m)\u001b[0m\u001b[1;33m\u001b[0m\u001b[1;33m\u001b[0m\u001b[0m\n\u001b[0;32m   1080\u001b[0m         \u001b[1;32mif\u001b[0m \u001b[0misString\u001b[0m\u001b[1;33m(\u001b[0m\u001b[0mstream\u001b[0m\u001b[1;33m)\u001b[0m\u001b[1;33m:\u001b[0m\u001b[1;33m\u001b[0m\u001b[1;33m\u001b[0m\u001b[0m\n\u001b[1;32m-> 1081\u001b[1;33m             \u001b[0mfileobj\u001b[0m \u001b[1;33m=\u001b[0m \u001b[0mopen\u001b[0m\u001b[1;33m(\u001b[0m\u001b[0mstream\u001b[0m\u001b[1;33m,\u001b[0m \u001b[1;34m'rb'\u001b[0m\u001b[1;33m)\u001b[0m\u001b[1;33m\u001b[0m\u001b[1;33m\u001b[0m\u001b[0m\n\u001b[0m\u001b[0;32m   1082\u001b[0m             \u001b[0mstream\u001b[0m \u001b[1;33m=\u001b[0m \u001b[0mBytesIO\u001b[0m\u001b[1;33m(\u001b[0m\u001b[0mb_\u001b[0m\u001b[1;33m(\u001b[0m\u001b[0mfileobj\u001b[0m\u001b[1;33m.\u001b[0m\u001b[0mread\u001b[0m\u001b[1;33m(\u001b[0m\u001b[1;33m)\u001b[0m\u001b[1;33m)\u001b[0m\u001b[1;33m)\u001b[0m\u001b[1;33m\u001b[0m\u001b[1;33m\u001b[0m\u001b[0m\n\u001b[0;32m   1083\u001b[0m             \u001b[0mfileobj\u001b[0m\u001b[1;33m.\u001b[0m\u001b[0mclose\u001b[0m\u001b[1;33m(\u001b[0m\u001b[1;33m)\u001b[0m\u001b[1;33m\u001b[0m\u001b[1;33m\u001b[0m\u001b[0m\n",
      "\u001b[1;31mFileNotFoundError\u001b[0m: [Errno 2] No such file or directory: 'C'"
     ]
    }
   ],
   "source": [
    "import PyPDF2\n",
    "\n",
    "path = r'C:\\Users\\luc57.DESKTOP-NB5DC80\\Side Projects\\Image to PDF\\KeyBCA_documents_Andree_Limardinata.pdf'\n",
    "#path2 = r'C:\\Users\\luc57.DESKTOP-NB5DC80\\Side Projects\\Image to PDF\\KeyBCA_documents_Andree_Limardinata2.pdf'\n",
    "#pdfs = [path, path2]\n",
    "\n",
    "writer = PyPDF2.PdfFileWriter()\n",
    "\n",
    "for pdf in pdfs:\n",
    "    reader = PyPDF2.PdfFileReader(pdf)\n",
    "    for i in range(reader.numPages):\n",
    "        page = reader.getPage(i)\n",
    "        page.compressContentStreams()\n",
    "        writer.addPage(page)\n",
    "\n",
    "with open('test_out2.pdf', 'wb') as f:\n",
    "    writer.write(f)"
   ]
  },
  {
   "cell_type": "code",
   "execution_count": 9,
   "metadata": {
    "ExecuteTime": {
     "end_time": "2020-12-11T13:41:12.573501Z",
     "start_time": "2020-12-11T13:41:12.549232Z"
    }
   },
   "outputs": [
    {
     "ename": "FileNotFoundError",
     "evalue": "[Errno 2] No such file or directory: 'C'",
     "output_type": "error",
     "traceback": [
      "\u001b[1;31m---------------------------------------------------------------------------\u001b[0m",
      "\u001b[1;31mFileNotFoundError\u001b[0m                         Traceback (most recent call last)",
      "\u001b[1;32m<ipython-input-9-5cef2838bfc4>\u001b[0m in \u001b[0;36m<module>\u001b[1;34m\u001b[0m\n\u001b[1;32m----> 1\u001b[1;33m \u001b[0mreader\u001b[0m \u001b[1;33m=\u001b[0m \u001b[0mPyPDF2\u001b[0m\u001b[1;33m.\u001b[0m\u001b[0mPdfFileReader\u001b[0m\u001b[1;33m(\u001b[0m\u001b[0mpdf\u001b[0m\u001b[1;33m)\u001b[0m\u001b[1;33m\u001b[0m\u001b[1;33m\u001b[0m\u001b[0m\n\u001b[0m\u001b[0;32m      2\u001b[0m \u001b[0mpage\u001b[0m \u001b[1;33m=\u001b[0m \u001b[0mreader\u001b[0m\u001b[1;33m.\u001b[0m\u001b[0mgetPage\u001b[0m\u001b[1;33m(\u001b[0m\u001b[0mi\u001b[0m\u001b[1;33m)\u001b[0m\u001b[1;33m\u001b[0m\u001b[1;33m\u001b[0m\u001b[0m\n\u001b[0;32m      3\u001b[0m \u001b[0mpage\u001b[0m\u001b[1;33m.\u001b[0m\u001b[0mcompressContentStreams\u001b[0m\u001b[1;33m(\u001b[0m\u001b[1;33m)\u001b[0m\u001b[1;33m\u001b[0m\u001b[1;33m\u001b[0m\u001b[0m\n\u001b[0;32m      4\u001b[0m \u001b[0mwriter\u001b[0m\u001b[1;33m.\u001b[0m\u001b[0maddPage\u001b[0m\u001b[1;33m(\u001b[0m\u001b[0mpage\u001b[0m\u001b[1;33m)\u001b[0m\u001b[1;33m\u001b[0m\u001b[1;33m\u001b[0m\u001b[0m\n\u001b[0;32m      5\u001b[0m \u001b[1;33m\u001b[0m\u001b[0m\n",
      "\u001b[1;32mC:\\ProgramData\\Anaconda3\\lib\\site-packages\\PyPDF2\\pdf.py\u001b[0m in \u001b[0;36m__init__\u001b[1;34m(self, stream, strict, warndest, overwriteWarnings)\u001b[0m\n\u001b[0;32m   1079\u001b[0m             \u001b[0mwarnings\u001b[0m\u001b[1;33m.\u001b[0m\u001b[0mwarn\u001b[0m\u001b[1;33m(\u001b[0m\u001b[1;34m\"PdfFileReader stream/file object is not in binary mode. It may not be read correctly.\"\u001b[0m\u001b[1;33m,\u001b[0m \u001b[0mutils\u001b[0m\u001b[1;33m.\u001b[0m\u001b[0mPdfReadWarning\u001b[0m\u001b[1;33m)\u001b[0m\u001b[1;33m\u001b[0m\u001b[1;33m\u001b[0m\u001b[0m\n\u001b[0;32m   1080\u001b[0m         \u001b[1;32mif\u001b[0m \u001b[0misString\u001b[0m\u001b[1;33m(\u001b[0m\u001b[0mstream\u001b[0m\u001b[1;33m)\u001b[0m\u001b[1;33m:\u001b[0m\u001b[1;33m\u001b[0m\u001b[1;33m\u001b[0m\u001b[0m\n\u001b[1;32m-> 1081\u001b[1;33m             \u001b[0mfileobj\u001b[0m \u001b[1;33m=\u001b[0m \u001b[0mopen\u001b[0m\u001b[1;33m(\u001b[0m\u001b[0mstream\u001b[0m\u001b[1;33m,\u001b[0m \u001b[1;34m'rb'\u001b[0m\u001b[1;33m)\u001b[0m\u001b[1;33m\u001b[0m\u001b[1;33m\u001b[0m\u001b[0m\n\u001b[0m\u001b[0;32m   1082\u001b[0m             \u001b[0mstream\u001b[0m \u001b[1;33m=\u001b[0m \u001b[0mBytesIO\u001b[0m\u001b[1;33m(\u001b[0m\u001b[0mb_\u001b[0m\u001b[1;33m(\u001b[0m\u001b[0mfileobj\u001b[0m\u001b[1;33m.\u001b[0m\u001b[0mread\u001b[0m\u001b[1;33m(\u001b[0m\u001b[1;33m)\u001b[0m\u001b[1;33m)\u001b[0m\u001b[1;33m)\u001b[0m\u001b[1;33m\u001b[0m\u001b[1;33m\u001b[0m\u001b[0m\n\u001b[0;32m   1083\u001b[0m             \u001b[0mfileobj\u001b[0m\u001b[1;33m.\u001b[0m\u001b[0mclose\u001b[0m\u001b[1;33m(\u001b[0m\u001b[1;33m)\u001b[0m\u001b[1;33m\u001b[0m\u001b[1;33m\u001b[0m\u001b[0m\n",
      "\u001b[1;31mFileNotFoundError\u001b[0m: [Errno 2] No such file or directory: 'C'"
     ]
    }
   ],
   "source": [
    "reader = PyPDF2.PdfFileReader(pdf)\n",
    "page = reader.getPage(i)\n",
    "page.compressContentStreams()\n",
    "writer.addPage(page)\n",
    "\n",
    "with open('test_out2.pdf', 'wb') as f:\n",
    "    writer.write(f)"
   ]
  },
  {
   "cell_type": "code",
   "execution_count": 12,
   "metadata": {
    "ExecuteTime": {
     "end_time": "2021-04-18T19:48:34.109673Z",
     "start_time": "2021-04-18T19:48:30.706679Z"
    }
   },
   "outputs": [
    {
     "name": "stdout",
     "output_type": "stream",
     "text": [
      "What should I call the file?print_tomorrow\n"
     ]
    }
   ],
   "source": [
    "#Requires the “PyPDF2” and “OS” modules to be imported\n",
    "import os, PyPDF2\n",
    "\n",
    "#Ask user where the PDFs are\n",
    "#userpdflocation=input('where are the pdf?')\n",
    "\n",
    "#Sets the scripts working directory to the location of the PDFs\n",
    "#os.chdir(userpdflocation)\n",
    "os.chdir(r'C:\\Users\\luc57.DESKTOP-NB5DC80\\Desktop\\Print')\n",
    "#Ask user for the name to save the file as\n",
    "userfilename=input('What should I call the file?')\n",
    "\n",
    "#Get all the PDF filenames\n",
    "pdf2merge = []\n",
    "for filename in os.listdir('.'):\n",
    "    if filename.endswith('.pdf'):\n",
    "        pdf2merge.append(filename)\n",
    "pdfWriter = PyPDF2.PdfFileWriter()\n",
    "\n",
    "#loop through all PDFs\n",
    "for filename in pdf2merge:\n",
    "#rb for read binary\n",
    "    pdfFileObj = open(filename,'rb')\n",
    "    pdfReader = PyPDF2.PdfFileReader(pdfFileObj,strict='False')\n",
    "#Opening each page of the PDF\n",
    "for pageNum in range(pdfReader.numPages):\n",
    "    pageObj = pdfReader.getPage(pageNum)\n",
    "    pdfWriter.addPage(pageObj)\n",
    "#save PDF to file, wb for write binary\n",
    "pdfOutput = open(userfilename+'.pdf', 'wb')\n",
    "#Outputting the PDF\n",
    "pdfWriter.write(pdfOutput)\n",
    "#Closing the PDF writer\n",
    "pdfOutput.close()"
   ]
  },
  {
   "cell_type": "markdown",
   "metadata": {},
   "source": [
    "# Move to the designated folder"
   ]
  },
  {
   "cell_type": "code",
   "execution_count": 2,
   "metadata": {
    "ExecuteTime": {
     "end_time": "2021-04-18T19:55:35.219690Z",
     "start_time": "2021-04-18T19:55:34.819508Z"
    }
   },
   "outputs": [],
   "source": [
    "import os \n",
    "os.chdir(r'C:\\Users\\luc57.DESKTOP-NB5DC80\\Desktop\\Print\\formular')\n",
    "from glob import glob\n",
    "from PyPDF2 import PdfFileMerger\n",
    "\n",
    "\n",
    "\n",
    "def pdf_merge():\n",
    "    ''' Merges all the pdf files in current directory '''\n",
    "    merger = PdfFileMerger()\n",
    "    allpdfs = [a for a in glob(\"*.pdf\")]\n",
    "    [merger.append(pdf) for pdf in allpdfs]\n",
    "    with open(\"Merged_formular_pdfs.pdf\", \"wb\") as new_file:\n",
    "        merger.write(new_file)\n",
    "\n",
    "\n",
    "if __name__ == \"__main__\":\n",
    "    pdf_merge()"
   ]
  }
 ],
 "metadata": {
  "kernelspec": {
   "display_name": "Python 3",
   "language": "python",
   "name": "python3"
  },
  "language_info": {
   "codemirror_mode": {
    "name": "ipython",
    "version": 3
   },
   "file_extension": ".py",
   "mimetype": "text/x-python",
   "name": "python",
   "nbconvert_exporter": "python",
   "pygments_lexer": "ipython3",
   "version": "3.8.3"
  },
  "toc": {
   "base_numbering": 1,
   "nav_menu": {},
   "number_sections": true,
   "sideBar": true,
   "skip_h1_title": false,
   "title_cell": "Table of Contents",
   "title_sidebar": "Contents",
   "toc_cell": false,
   "toc_position": {},
   "toc_section_display": true,
   "toc_window_display": true
  }
 },
 "nbformat": 4,
 "nbformat_minor": 4
}
