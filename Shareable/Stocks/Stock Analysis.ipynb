{
 "cells": [
  {
   "cell_type": "code",
   "execution_count": 1,
   "metadata": {
    "ExecuteTime": {
     "end_time": "2020-12-08T10:08:05.529757Z",
     "start_time": "2020-12-08T10:08:04.578620Z"
    }
   },
   "outputs": [],
   "source": [
    "import os\n",
    "import pandas as pd"
   ]
  },
  {
   "cell_type": "code",
   "execution_count": 2,
   "metadata": {
    "ExecuteTime": {
     "end_time": "2020-12-08T10:08:05.769512Z",
     "start_time": "2020-12-08T10:08:05.529757Z"
    }
   },
   "outputs": [],
   "source": [
    "import re\n",
    "import json\n",
    "import csv\n",
    "from io import StringIO\n",
    "from bs4 import BeautifulSoup\n",
    "import requests\n",
    "\n",
    "url_stats ='https://finance.yahoo.com/quote/{}/key-statistics?p={}'\n",
    "url_profile ='https://finance.yahoo.com/quote/{}/profile?p={}'\n",
    "url_financials ='https://finance.yahoo.com/quote/{}/financials?p={}'"
   ]
  },
  {
   "cell_type": "code",
   "execution_count": 3,
   "metadata": {
    "ExecuteTime": {
     "end_time": "2020-12-08T10:08:11.988214Z",
     "start_time": "2020-12-08T10:08:05.769512Z"
    }
   },
   "outputs": [
    {
     "name": "stdout",
     "output_type": "stream",
     "text": [
      "NIKL.JK\n"
     ]
    }
   ],
   "source": [
    "stock = input()\n",
    "response = requests.get(url_financials.format(stock, stock))\n",
    "\n",
    "soup= BeautifulSoup(response.text, 'html.parser')"
   ]
  },
  {
   "cell_type": "code",
   "execution_count": 4,
   "metadata": {
    "ExecuteTime": {
     "end_time": "2020-12-08T10:08:14.188375Z",
     "start_time": "2020-12-08T10:08:14.164375Z"
    }
   },
   "outputs": [],
   "source": [
    "pattern = re.compile(r'\\s--\\sData\\s--\\s')\n",
    "script_data = soup.find('script', text=pattern).contents[0]"
   ]
  },
  {
   "cell_type": "code",
   "execution_count": 5,
   "metadata": {
    "ExecuteTime": {
     "end_time": "2020-12-08T10:08:14.669012Z",
     "start_time": "2020-12-08T10:08:14.644979Z"
    }
   },
   "outputs": [
    {
     "data": {
      "text/plain": [
       "'\\n(function (root) {\\n/* -- Data -- */\\nroot.App || (root.App = {});\\nroot.App.now = 1607422091143;\\nroot.App.main = {\"context\":{\"dispatcher\":{\"stores\":{\"PageStore\":{\"currentPageName\":\"quote\",\"currentEvent\":{\"eventName\":\"NEW_PAGE_SUCCESS\"},\"currentRenderTargetId\":\"default\",\"pagesConfigRaw\":{\"base\":{\"quote\":{\"layout\":{\"bundleName\":\"yahoodotcom-layout.TwoColumnLayout\",\"name\":\"TwoColumnLayout\",\"config\":{\"enableHeaderCollapse\":true,\"additionalBodyWrapperClasses\":\"Bgc($layoutBgColor)!\",\"contentWrapperClas'"
      ]
     },
     "execution_count": 5,
     "metadata": {},
     "output_type": "execute_result"
    }
   ],
   "source": [
    "# beginning\n",
    "script_data[:500]"
   ]
  },
  {
   "cell_type": "code",
   "execution_count": 6,
   "metadata": {
    "ExecuteTime": {
     "end_time": "2020-12-08T10:08:15.232543Z",
     "start_time": "2020-12-08T10:08:15.224544Z"
    }
   },
   "outputs": [
    {
     "data": {
      "text/plain": [
       "'\":{\"strings\":1},\"tdv2-applet-search-input\":{\"strings\":1},\"tdv2-applet-sponsored-moments\":{\"strings\":1},\"tdv2-applet-stream\":{\"strings\":1},\"tdv2-applet-stream-hero\":{\"strings\":1},\"tdv2-applet-swisschamp\":{\"strings\":1},\"tdv2-applet-uh\":{\"strings\":1},\"tdv2-applet-userintent\":{\"strings\":1},\"tdv2-applet-video-lightbox\":{\"strings\":1},\"tdv2-applet-video-modal\":{\"strings\":1},\"tdv2-wafer-header\":{\"strings\":1},\"yahoodotcom-layout\":{\"strings\":1}}},\"options\":{\"defaultBundle\":\"td-app-finance\"}}}};\\n}(this));\\n'"
      ]
     },
     "execution_count": 6,
     "metadata": {},
     "output_type": "execute_result"
    }
   ],
   "source": [
    "# the end\n",
    "script_data[-500:]"
   ]
  },
  {
   "cell_type": "code",
   "execution_count": 7,
   "metadata": {
    "ExecuteTime": {
     "end_time": "2020-12-08T10:08:15.576543Z",
     "start_time": "2020-12-08T10:08:15.560574Z"
    }
   },
   "outputs": [],
   "source": [
    "# find the starting position of the json string\n",
    "start = script_data.find(\"context\")-2\n",
    "\n",
    "# slice the json string\n",
    "json_data = json.loads(script_data[start:-12])"
   ]
  },
  {
   "cell_type": "markdown",
   "metadata": {},
   "source": [
    "# Financial statements\n",
    "Now that you have the data, you can explore the dictionary to discover what's inside. This dataset contains both Annual and Quarterly financial statements, as you can see from the dictionary paths listed below."
   ]
  },
  {
   "cell_type": "code",
   "execution_count": 8,
   "metadata": {
    "ExecuteTime": {
     "end_time": "2020-12-08T10:08:16.040573Z",
     "start_time": "2020-12-08T10:08:16.024573Z"
    }
   },
   "outputs": [
    {
     "data": {
      "text/plain": [
       "dict_keys(['dispatcher', 'options', 'plugins'])"
      ]
     },
     "execution_count": 8,
     "metadata": {},
     "output_type": "execute_result"
    }
   ],
   "source": [
    "json_data['context'].keys()"
   ]
  },
  {
   "cell_type": "code",
   "execution_count": 9,
   "metadata": {
    "ExecuteTime": {
     "end_time": "2020-12-08T10:08:16.296538Z",
     "start_time": "2020-12-08T10:08:16.280543Z"
    }
   },
   "outputs": [
    {
     "data": {
      "text/plain": [
       "dict_keys(['financialsTemplate', 'cashflowStatementHistory', 'balanceSheetHistoryQuarterly', 'earnings', 'price', 'incomeStatementHistoryQuarterly', 'incomeStatementHistory', 'balanceSheetHistory', 'cashflowStatementHistoryQuarterly', 'quoteType', 'summaryDetail', 'symbol', 'pageViews'])"
      ]
     },
     "execution_count": 9,
     "metadata": {},
     "output_type": "execute_result"
    }
   ],
   "source": [
    "json_data['context']['dispatcher']['stores']['QuoteSummaryStore'].keys()"
   ]
  },
  {
   "cell_type": "code",
   "execution_count": 10,
   "metadata": {
    "ExecuteTime": {
     "end_time": "2020-12-08T10:08:16.448538Z",
     "start_time": "2020-12-08T10:08:16.432681Z"
    }
   },
   "outputs": [],
   "source": [
    "# income statement\n",
    "annual_is = json_data['context']['dispatcher']['stores']['QuoteSummaryStore']['incomeStatementHistory']['incomeStatementHistory']\n",
    "quarterly_is = json_data['context']['dispatcher']['stores']['QuoteSummaryStore']['incomeStatementHistoryQuarterly']['incomeStatementHistory']\n",
    "\n",
    "# cash flow statement\n",
    "annual_cf = json_data['context']['dispatcher']['stores']['QuoteSummaryStore']['cashflowStatementHistory']['cashflowStatements']\n",
    "quarterly_cf = json_data['context']['dispatcher']['stores']['QuoteSummaryStore']['cashflowStatementHistoryQuarterly']['cashflowStatements']\n",
    "\n",
    "# balance sheet\n",
    "annual_bs = json_data['context']['dispatcher']['stores']['QuoteSummaryStore']['balanceSheetHistory']['balanceSheetStatements']\n",
    "quarterly_bs = json_data['context']['dispatcher']['stores']['QuoteSummaryStore']['balanceSheetHistoryQuarterly']['balanceSheetStatements']"
   ]
  },
  {
   "cell_type": "markdown",
   "metadata": {},
   "source": [
    "## Income Statements"
   ]
  },
  {
   "cell_type": "code",
   "execution_count": 11,
   "metadata": {
    "ExecuteTime": {
     "end_time": "2020-12-08T10:08:16.760570Z",
     "start_time": "2020-12-08T10:08:16.744568Z"
    }
   },
   "outputs": [
    {
     "name": "stdout",
     "output_type": "stream",
     "text": [
      "{'researchDevelopment': {}, 'effectOfAccountingCharges': {}, 'incomeBeforeTax': {'raw': 3896699, 'fmt': '3.9M', 'longFmt': '3,896,699'}, 'minorityInterest': {}, 'netIncome': {'raw': 2680666, 'fmt': '2.68M', 'longFmt': '2,680,666'}, 'sellingGeneralAdministrative': {'raw': 7158819, 'fmt': '7.16M', 'longFmt': '7,158,819'}, 'grossProfit': {'raw': 10467156, 'fmt': '10.47M', 'longFmt': '10,467,156'}, 'ebit': {'raw': 4410410, 'fmt': '4.41M', 'longFmt': '4,410,410'}, 'endDate': {'raw': 1577750400, 'fmt': '2019-12-31'}, 'operatingIncome': {'raw': 4410410, 'fmt': '4.41M', 'longFmt': '4,410,410'}, 'otherOperatingExpenses': {'raw': -1102073, 'fmt': '-1.1M', 'longFmt': '-1,102,073'}, 'interestExpense': {'raw': -1766713, 'fmt': '-1.77M', 'longFmt': '-1,766,713'}, 'extraordinaryItems': {}, 'nonRecurring': {}, 'otherItems': {}, 'incomeTaxExpense': {'raw': 1216033, 'fmt': '1.22M', 'longFmt': '1,216,033'}, 'totalRevenue': {'raw': 163085289, 'fmt': '163.09M', 'longFmt': '163,085,289'}, 'totalOperatingExpenses': {'raw': 158674879, 'fmt': '158.67M', 'longFmt': '158,674,879'}, 'costOfRevenue': {'raw': 152618133, 'fmt': '152.62M', 'longFmt': '152,618,133'}, 'totalOtherIncomeExpenseNet': {'raw': -513711, 'fmt': '-513.71k', 'longFmt': '-513,711'}, 'maxAge': 1, 'discontinuedOperations': {}, 'netIncomeFromContinuingOps': {'raw': 2680666, 'fmt': '2.68M', 'longFmt': '2,680,666'}, 'netIncomeApplicableToCommonShares': {'raw': 2680666, 'fmt': '2.68M', 'longFmt': '2,680,666'}}\n"
     ]
    }
   ],
   "source": [
    "# example of income statmement accounts\n",
    "print(annual_is[0])"
   ]
  },
  {
   "cell_type": "markdown",
   "metadata": {},
   "source": [
    "0 --> 2019\n",
    "1 --> 2018\n",
    "2 --> 2017\n",
    "3 --> 2016"
   ]
  },
  {
   "cell_type": "code",
   "execution_count": 12,
   "metadata": {
    "ExecuteTime": {
     "end_time": "2020-12-08T10:08:17.072570Z",
     "start_time": "2020-12-08T10:08:17.048732Z"
    }
   },
   "outputs": [
    {
     "data": {
      "text/plain": [
       "{'raw': 2030937, 'fmt': '2.03M', 'longFmt': '2,030,937'}"
      ]
     },
     "execution_count": 12,
     "metadata": {},
     "output_type": "execute_result"
    }
   ],
   "source": [
    "# there's a variety of  number formats provided\n",
    "annual_is[3]['operatingIncome']"
   ]
  },
  {
   "cell_type": "code",
   "execution_count": 13,
   "metadata": {
    "ExecuteTime": {
     "end_time": "2020-12-08T10:08:17.224571Z",
     "start_time": "2020-12-08T10:08:17.208537Z"
    }
   },
   "outputs": [],
   "source": [
    "annual_income_stmts = []\n",
    "\n",
    "# consolidate annual\n",
    "for s in annual_is:\n",
    "    statement = {}\n",
    "    for key, val in s.items():\n",
    "        try:\n",
    "            statement[key] = val['raw']\n",
    "        except TypeError:\n",
    "            continue\n",
    "        except KeyError:\n",
    "            continue\n",
    "    annual_income_stmts.append(statement)\n",
    "    \n",
    "quarterly_income_stmts = []\n",
    "\n",
    "# quarterly\n",
    "for s in quarterly_is:\n",
    "    statement = {}\n",
    "    for key, val in s.items():\n",
    "        try:\n",
    "            statement[key] = val['raw']\n",
    "        except TypeError:\n",
    "            continue\n",
    "        except KeyError:\n",
    "            continue\n",
    "    quarterly_income_stmts.append(statement)"
   ]
  },
  {
   "cell_type": "code",
   "execution_count": 15,
   "metadata": {
    "ExecuteTime": {
     "end_time": "2020-12-08T10:08:27.735195Z",
     "start_time": "2020-12-08T10:08:27.727188Z"
    }
   },
   "outputs": [
    {
     "data": {
      "text/plain": [
       "{'incomeBeforeTax': 3896699,\n",
       " 'netIncome': 2680666,\n",
       " 'sellingGeneralAdministrative': 7158819,\n",
       " 'grossProfit': 10467156,\n",
       " 'ebit': 4410410,\n",
       " 'endDate': 1577750400,\n",
       " 'operatingIncome': 4410410,\n",
       " 'otherOperatingExpenses': -1102073,\n",
       " 'interestExpense': -1766713,\n",
       " 'incomeTaxExpense': 1216033,\n",
       " 'totalRevenue': 163085289,\n",
       " 'totalOperatingExpenses': 158674879,\n",
       " 'costOfRevenue': 152618133,\n",
       " 'totalOtherIncomeExpenseNet': -513711,\n",
       " 'netIncomeFromContinuingOps': 2680666,\n",
       " 'netIncomeApplicableToCommonShares': 2680666}"
      ]
     },
     "execution_count": 15,
     "metadata": {},
     "output_type": "execute_result"
    }
   ],
   "source": [
    "annual_income_stmts[0]"
   ]
  },
  {
   "cell_type": "markdown",
   "metadata": {},
   "source": [
    "### IS Annual"
   ]
  },
  {
   "cell_type": "code",
   "execution_count": 17,
   "metadata": {
    "ExecuteTime": {
     "end_time": "2020-12-08T10:08:38.732496Z",
     "start_time": "2020-12-08T10:08:38.700492Z"
    }
   },
   "outputs": [
    {
     "data": {
      "text/html": [
       "<div>\n",
       "<style scoped>\n",
       "    .dataframe tbody tr th:only-of-type {\n",
       "        vertical-align: middle;\n",
       "    }\n",
       "\n",
       "    .dataframe tbody tr th {\n",
       "        vertical-align: top;\n",
       "    }\n",
       "\n",
       "    .dataframe thead th {\n",
       "        text-align: right;\n",
       "    }\n",
       "</style>\n",
       "<table border=\"1\" class=\"dataframe\">\n",
       "  <thead>\n",
       "    <tr style=\"text-align: right;\">\n",
       "      <th></th>\n",
       "      <th>incomeBeforeTax</th>\n",
       "      <th>netIncome</th>\n",
       "      <th>sellingGeneralAdministrative</th>\n",
       "      <th>grossProfit</th>\n",
       "      <th>ebit</th>\n",
       "      <th>endDate</th>\n",
       "      <th>operatingIncome</th>\n",
       "      <th>otherOperatingExpenses</th>\n",
       "      <th>interestExpense</th>\n",
       "      <th>incomeTaxExpense</th>\n",
       "      <th>totalRevenue</th>\n",
       "      <th>totalOperatingExpenses</th>\n",
       "      <th>costOfRevenue</th>\n",
       "      <th>totalOtherIncomeExpenseNet</th>\n",
       "      <th>netIncomeFromContinuingOps</th>\n",
       "      <th>netIncomeApplicableToCommonShares</th>\n",
       "      <th>year</th>\n",
       "    </tr>\n",
       "  </thead>\n",
       "  <tbody>\n",
       "    <tr>\n",
       "      <th>0</th>\n",
       "      <td>3896699</td>\n",
       "      <td>2680666</td>\n",
       "      <td>7158819</td>\n",
       "      <td>10467156</td>\n",
       "      <td>4410410</td>\n",
       "      <td>1577750400</td>\n",
       "      <td>4410410</td>\n",
       "      <td>-1102073</td>\n",
       "      <td>-1766713</td>\n",
       "      <td>1216033</td>\n",
       "      <td>163085289</td>\n",
       "      <td>158674879</td>\n",
       "      <td>152618133</td>\n",
       "      <td>-513711</td>\n",
       "      <td>2680666</td>\n",
       "      <td>2680666</td>\n",
       "      <td>2019</td>\n",
       "    </tr>\n",
       "    <tr>\n",
       "      <th>1</th>\n",
       "      <td>-1755985</td>\n",
       "      <td>-1537262</td>\n",
       "      <td>6589075</td>\n",
       "      <td>8318952</td>\n",
       "      <td>2065617</td>\n",
       "      <td>1546214400</td>\n",
       "      <td>2065617</td>\n",
       "      <td>-335740</td>\n",
       "      <td>-1791221</td>\n",
       "      <td>-218723</td>\n",
       "      <td>163135351</td>\n",
       "      <td>161069734</td>\n",
       "      <td>154816399</td>\n",
       "      <td>-3821602</td>\n",
       "      <td>-1537262</td>\n",
       "      <td>-1537262</td>\n",
       "      <td>2018</td>\n",
       "    </tr>\n",
       "    <tr>\n",
       "      <th>2</th>\n",
       "      <td>1441114</td>\n",
       "      <td>1359171</td>\n",
       "      <td>7913875</td>\n",
       "      <td>10118853</td>\n",
       "      <td>2550473</td>\n",
       "      <td>1514678400</td>\n",
       "      <td>2550473</td>\n",
       "      <td>-345495</td>\n",
       "      <td>-1792316</td>\n",
       "      <td>81943</td>\n",
       "      <td>151792945</td>\n",
       "      <td>149242472</td>\n",
       "      <td>141674092</td>\n",
       "      <td>-1109359</td>\n",
       "      <td>1359171</td>\n",
       "      <td>1359171</td>\n",
       "      <td>2017</td>\n",
       "    </tr>\n",
       "    <tr>\n",
       "      <th>3</th>\n",
       "      <td>2438754</td>\n",
       "      <td>2519314</td>\n",
       "      <td>9239397</td>\n",
       "      <td>10863659</td>\n",
       "      <td>2030937</td>\n",
       "      <td>1483142400</td>\n",
       "      <td>2030937</td>\n",
       "      <td>-406675</td>\n",
       "      <td>-581553</td>\n",
       "      <td>-80560</td>\n",
       "      <td>131664283</td>\n",
       "      <td>129633346</td>\n",
       "      <td>120800624</td>\n",
       "      <td>407817</td>\n",
       "      <td>2519314</td>\n",
       "      <td>2519314</td>\n",
       "      <td>2016</td>\n",
       "    </tr>\n",
       "  </tbody>\n",
       "</table>\n",
       "</div>"
      ],
      "text/plain": [
       "   incomeBeforeTax  netIncome  sellingGeneralAdministrative  grossProfit  \\\n",
       "0          3896699    2680666                       7158819     10467156   \n",
       "1         -1755985   -1537262                       6589075      8318952   \n",
       "2          1441114    1359171                       7913875     10118853   \n",
       "3          2438754    2519314                       9239397     10863659   \n",
       "\n",
       "      ebit     endDate  operatingIncome  otherOperatingExpenses  \\\n",
       "0  4410410  1577750400          4410410                -1102073   \n",
       "1  2065617  1546214400          2065617                 -335740   \n",
       "2  2550473  1514678400          2550473                 -345495   \n",
       "3  2030937  1483142400          2030937                 -406675   \n",
       "\n",
       "   interestExpense  incomeTaxExpense  totalRevenue  totalOperatingExpenses  \\\n",
       "0         -1766713           1216033     163085289               158674879   \n",
       "1         -1791221           -218723     163135351               161069734   \n",
       "2         -1792316             81943     151792945               149242472   \n",
       "3          -581553            -80560     131664283               129633346   \n",
       "\n",
       "   costOfRevenue  totalOtherIncomeExpenseNet  netIncomeFromContinuingOps  \\\n",
       "0      152618133                     -513711                     2680666   \n",
       "1      154816399                    -3821602                    -1537262   \n",
       "2      141674092                    -1109359                     1359171   \n",
       "3      120800624                      407817                     2519314   \n",
       "\n",
       "   netIncomeApplicableToCommonShares  year  \n",
       "0                            2680666  2019  \n",
       "1                           -1537262  2018  \n",
       "2                            1359171  2017  \n",
       "3                            2519314  2016  "
      ]
     },
     "execution_count": 17,
     "metadata": {},
     "output_type": "execute_result"
    }
   ],
   "source": [
    "annual_income_statement=pd.DataFrame(annual_income_stmts)\n",
    "year=['2019','2018','2017','2016']\n",
    "year=pd.DataFrame(year)\n",
    "annual_income_statement['year']=year\n",
    "annual_income_statement"
   ]
  },
  {
   "cell_type": "markdown",
   "metadata": {},
   "source": [
    "### IS Quarterly"
   ]
  },
  {
   "cell_type": "code",
   "execution_count": 18,
   "metadata": {
    "ExecuteTime": {
     "end_time": "2020-12-08T10:08:39.865235Z",
     "start_time": "2020-12-08T10:08:39.841236Z"
    }
   },
   "outputs": [
    {
     "data": {
      "text/html": [
       "<div>\n",
       "<style scoped>\n",
       "    .dataframe tbody tr th:only-of-type {\n",
       "        vertical-align: middle;\n",
       "    }\n",
       "\n",
       "    .dataframe tbody tr th {\n",
       "        vertical-align: top;\n",
       "    }\n",
       "\n",
       "    .dataframe thead th {\n",
       "        text-align: right;\n",
       "    }\n",
       "</style>\n",
       "<table border=\"1\" class=\"dataframe\">\n",
       "  <thead>\n",
       "    <tr style=\"text-align: right;\">\n",
       "      <th></th>\n",
       "      <th>incomeBeforeTax</th>\n",
       "      <th>netIncome</th>\n",
       "      <th>sellingGeneralAdministrative</th>\n",
       "      <th>grossProfit</th>\n",
       "      <th>ebit</th>\n",
       "      <th>endDate</th>\n",
       "      <th>operatingIncome</th>\n",
       "      <th>otherOperatingExpenses</th>\n",
       "      <th>interestExpense</th>\n",
       "      <th>incomeTaxExpense</th>\n",
       "      <th>totalRevenue</th>\n",
       "      <th>totalOperatingExpenses</th>\n",
       "      <th>costOfRevenue</th>\n",
       "      <th>totalOtherIncomeExpenseNet</th>\n",
       "      <th>netIncomeFromContinuingOps</th>\n",
       "      <th>netIncomeApplicableToCommonShares</th>\n",
       "      <th>quarter</th>\n",
       "    </tr>\n",
       "  </thead>\n",
       "  <tbody>\n",
       "    <tr>\n",
       "      <th>0</th>\n",
       "      <td>-1538997</td>\n",
       "      <td>-1344288</td>\n",
       "      <td>2083696</td>\n",
       "      <td>2222086</td>\n",
       "      <td>339041</td>\n",
       "      <td>1601424000</td>\n",
       "      <td>339041</td>\n",
       "      <td>-200651</td>\n",
       "      <td>-136015</td>\n",
       "      <td>-194709</td>\n",
       "      <td>36289993</td>\n",
       "      <td>35950952</td>\n",
       "      <td>34067907</td>\n",
       "      <td>-1878038</td>\n",
       "      <td>-1344288</td>\n",
       "      <td>-1344288</td>\n",
       "      <td>Q3 2020</td>\n",
       "    </tr>\n",
       "    <tr>\n",
       "      <th>1</th>\n",
       "      <td>10624469</td>\n",
       "      <td>10430897</td>\n",
       "      <td>1075234</td>\n",
       "      <td>2038578</td>\n",
       "      <td>1146349</td>\n",
       "      <td>1593475200</td>\n",
       "      <td>1146349</td>\n",
       "      <td>-183005</td>\n",
       "      <td>-235136</td>\n",
       "      <td>193572</td>\n",
       "      <td>31719035</td>\n",
       "      <td>30572686</td>\n",
       "      <td>29680457</td>\n",
       "      <td>9478120</td>\n",
       "      <td>10430897</td>\n",
       "      <td>10430897</td>\n",
       "      <td>Q2 2020</td>\n",
       "    </tr>\n",
       "    <tr>\n",
       "      <th>2</th>\n",
       "      <td>-10319966</td>\n",
       "      <td>-10140844</td>\n",
       "      <td>2491092</td>\n",
       "      <td>1498988</td>\n",
       "      <td>-776620</td>\n",
       "      <td>1585612800</td>\n",
       "      <td>-776620</td>\n",
       "      <td>-215484</td>\n",
       "      <td>-326152</td>\n",
       "      <td>-179122</td>\n",
       "      <td>38018411</td>\n",
       "      <td>38795031</td>\n",
       "      <td>36519423</td>\n",
       "      <td>-9543346</td>\n",
       "      <td>-10140844</td>\n",
       "      <td>-10140844</td>\n",
       "      <td>Q1 2020</td>\n",
       "    </tr>\n",
       "    <tr>\n",
       "      <th>3</th>\n",
       "      <td>1146718</td>\n",
       "      <td>840195</td>\n",
       "      <td>1984946</td>\n",
       "      <td>2022934</td>\n",
       "      <td>280082</td>\n",
       "      <td>1577750400</td>\n",
       "      <td>280082</td>\n",
       "      <td>-242094</td>\n",
       "      <td>-353727</td>\n",
       "      <td>306523</td>\n",
       "      <td>39290888</td>\n",
       "      <td>39010806</td>\n",
       "      <td>37267954</td>\n",
       "      <td>866636</td>\n",
       "      <td>840195</td>\n",
       "      <td>840195</td>\n",
       "      <td>Q4 2019</td>\n",
       "    </tr>\n",
       "  </tbody>\n",
       "</table>\n",
       "</div>"
      ],
      "text/plain": [
       "   incomeBeforeTax  netIncome  sellingGeneralAdministrative  grossProfit  \\\n",
       "0         -1538997   -1344288                       2083696      2222086   \n",
       "1         10624469   10430897                       1075234      2038578   \n",
       "2        -10319966  -10140844                       2491092      1498988   \n",
       "3          1146718     840195                       1984946      2022934   \n",
       "\n",
       "      ebit     endDate  operatingIncome  otherOperatingExpenses  \\\n",
       "0   339041  1601424000           339041                 -200651   \n",
       "1  1146349  1593475200          1146349                 -183005   \n",
       "2  -776620  1585612800          -776620                 -215484   \n",
       "3   280082  1577750400           280082                 -242094   \n",
       "\n",
       "   interestExpense  incomeTaxExpense  totalRevenue  totalOperatingExpenses  \\\n",
       "0          -136015           -194709      36289993                35950952   \n",
       "1          -235136            193572      31719035                30572686   \n",
       "2          -326152           -179122      38018411                38795031   \n",
       "3          -353727            306523      39290888                39010806   \n",
       "\n",
       "   costOfRevenue  totalOtherIncomeExpenseNet  netIncomeFromContinuingOps  \\\n",
       "0       34067907                    -1878038                    -1344288   \n",
       "1       29680457                     9478120                    10430897   \n",
       "2       36519423                    -9543346                   -10140844   \n",
       "3       37267954                      866636                      840195   \n",
       "\n",
       "   netIncomeApplicableToCommonShares  quarter  \n",
       "0                           -1344288  Q3 2020  \n",
       "1                           10430897  Q2 2020  \n",
       "2                          -10140844  Q1 2020  \n",
       "3                             840195  Q4 2019  "
      ]
     },
     "execution_count": 18,
     "metadata": {},
     "output_type": "execute_result"
    }
   ],
   "source": [
    "quarterly_income_statement=pd.DataFrame(quarterly_income_stmts)\n",
    "quarter=['Q3 2020','Q2 2020','Q1 2020','Q4 2019','Q3 2019']\n",
    "quarter=pd.DataFrame(quarter)\n",
    "quarterly_income_statement['quarter']=quarter\n",
    "quarterly_income_statement"
   ]
  },
  {
   "cell_type": "markdown",
   "metadata": {},
   "source": [
    "This model can be applied to all other financial statements, as you can see from the examples below."
   ]
  },
  {
   "cell_type": "markdown",
   "metadata": {},
   "source": [
    "## Balance Sheets"
   ]
  },
  {
   "cell_type": "code",
   "execution_count": 19,
   "metadata": {
    "ExecuteTime": {
     "end_time": "2020-12-08T10:08:41.188975Z",
     "start_time": "2020-12-08T10:08:41.180969Z"
    }
   },
   "outputs": [],
   "source": [
    "annual_bs_stmts = []\n",
    "quarterly_bs_stmts = []\n",
    "\n",
    "# annual\n",
    "for s in annual_bs:\n",
    "    statement = {}\n",
    "    for key, val in s.items():\n",
    "        try:\n",
    "            statement[key] = val['raw']\n",
    "        except TypeError:\n",
    "            continue\n",
    "        except KeyError:\n",
    "            continue\n",
    "    annual_bs_stmts.append(statement)\n",
    "    \n",
    "# quarterly\n",
    "for s in quarterly_bs:\n",
    "    statement = {}\n",
    "    for key, val in s.items():\n",
    "        try:\n",
    "            statement[key] = val['raw']\n",
    "        except TypeError:\n",
    "            continue\n",
    "        except KeyError:\n",
    "            continue\n",
    "    quarterly_bs_stmts.append(statement)"
   ]
  },
  {
   "cell_type": "code",
   "execution_count": 20,
   "metadata": {
    "ExecuteTime": {
     "end_time": "2020-12-08T10:08:41.573912Z",
     "start_time": "2020-12-08T10:08:41.549914Z"
    }
   },
   "outputs": [
    {
     "data": {
      "text/plain": [
       "{'capitalSurplus': 11413745,\n",
       " 'totalLiab': 106049817,\n",
       " 'totalStockholderEquity': 45639161,\n",
       " 'otherCurrentLiab': 1207361,\n",
       " 'totalAssets': 151688978,\n",
       " 'endDate': 1577750400,\n",
       " 'commonStock': 26844149,\n",
       " 'otherCurrentAssets': 3011193,\n",
       " 'retainedEarnings': -4586514,\n",
       " 'otherLiab': 2610374,\n",
       " 'treasuryStock': 11967781,\n",
       " 'otherAssets': 4710169,\n",
       " 'cash': 28392647,\n",
       " 'totalCurrentLiabilities': 103439443,\n",
       " 'otherStockholderEquity': 11967781,\n",
       " 'propertyPlantEquipment': 29162421,\n",
       " 'totalCurrentAssets': 117688728,\n",
       " 'longTermInvestments': 127660,\n",
       " 'netTangibleAssets': 45639161,\n",
       " 'netReceivables': 56328338,\n",
       " 'inventory': 29956550,\n",
       " 'accountsPayable': 26311173}"
      ]
     },
     "execution_count": 20,
     "metadata": {},
     "output_type": "execute_result"
    }
   ],
   "source": [
    "annual_bs_stmts[0]"
   ]
  },
  {
   "cell_type": "markdown",
   "metadata": {},
   "source": [
    "### BS Annual"
   ]
  },
  {
   "cell_type": "code",
   "execution_count": 21,
   "metadata": {
    "ExecuteTime": {
     "end_time": "2020-12-08T10:08:42.350167Z",
     "start_time": "2020-12-08T10:08:42.318166Z"
    }
   },
   "outputs": [
    {
     "data": {
      "text/html": [
       "<div>\n",
       "<style scoped>\n",
       "    .dataframe tbody tr th:only-of-type {\n",
       "        vertical-align: middle;\n",
       "    }\n",
       "\n",
       "    .dataframe tbody tr th {\n",
       "        vertical-align: top;\n",
       "    }\n",
       "\n",
       "    .dataframe thead th {\n",
       "        text-align: right;\n",
       "    }\n",
       "</style>\n",
       "<table border=\"1\" class=\"dataframe\">\n",
       "  <thead>\n",
       "    <tr style=\"text-align: right;\">\n",
       "      <th></th>\n",
       "      <th>capitalSurplus</th>\n",
       "      <th>totalLiab</th>\n",
       "      <th>totalStockholderEquity</th>\n",
       "      <th>otherCurrentLiab</th>\n",
       "      <th>totalAssets</th>\n",
       "      <th>endDate</th>\n",
       "      <th>commonStock</th>\n",
       "      <th>otherCurrentAssets</th>\n",
       "      <th>retainedEarnings</th>\n",
       "      <th>otherLiab</th>\n",
       "      <th>...</th>\n",
       "      <th>otherStockholderEquity</th>\n",
       "      <th>propertyPlantEquipment</th>\n",
       "      <th>totalCurrentAssets</th>\n",
       "      <th>longTermInvestments</th>\n",
       "      <th>netTangibleAssets</th>\n",
       "      <th>netReceivables</th>\n",
       "      <th>inventory</th>\n",
       "      <th>accountsPayable</th>\n",
       "      <th>deferredLongTermAssetCharges</th>\n",
       "      <th>year</th>\n",
       "    </tr>\n",
       "  </thead>\n",
       "  <tbody>\n",
       "    <tr>\n",
       "      <th>0</th>\n",
       "      <td>11413745</td>\n",
       "      <td>106049817</td>\n",
       "      <td>45639161</td>\n",
       "      <td>1207361</td>\n",
       "      <td>151688978</td>\n",
       "      <td>1577750400</td>\n",
       "      <td>26844149</td>\n",
       "      <td>3011193</td>\n",
       "      <td>-4586514</td>\n",
       "      <td>2610374</td>\n",
       "      <td>...</td>\n",
       "      <td>11967781</td>\n",
       "      <td>29162421</td>\n",
       "      <td>117688728</td>\n",
       "      <td>127660</td>\n",
       "      <td>45639161</td>\n",
       "      <td>56328338</td>\n",
       "      <td>29956550</td>\n",
       "      <td>26311173</td>\n",
       "      <td>NaN</td>\n",
       "      <td>2019</td>\n",
       "    </tr>\n",
       "    <tr>\n",
       "      <th>1</th>\n",
       "      <td>11413745</td>\n",
       "      <td>104723676</td>\n",
       "      <td>43053536</td>\n",
       "      <td>937936</td>\n",
       "      <td>147777212</td>\n",
       "      <td>1546214400</td>\n",
       "      <td>26844149</td>\n",
       "      <td>4387156</td>\n",
       "      <td>-7172139</td>\n",
       "      <td>2164786</td>\n",
       "      <td>...</td>\n",
       "      <td>11967781</td>\n",
       "      <td>30270929</td>\n",
       "      <td>112805625</td>\n",
       "      <td>127660</td>\n",
       "      <td>43053536</td>\n",
       "      <td>57009414</td>\n",
       "      <td>40305442</td>\n",
       "      <td>31575798</td>\n",
       "      <td>1072351.0</td>\n",
       "      <td>2018</td>\n",
       "    </tr>\n",
       "    <tr>\n",
       "      <th>2</th>\n",
       "      <td>11413745</td>\n",
       "      <td>84476044</td>\n",
       "      <td>41646797</td>\n",
       "      <td>1049060</td>\n",
       "      <td>126122841</td>\n",
       "      <td>1514678400</td>\n",
       "      <td>26844149</td>\n",
       "      <td>381931</td>\n",
       "      <td>-6201215</td>\n",
       "      <td>4457658</td>\n",
       "      <td>...</td>\n",
       "      <td>9590118</td>\n",
       "      <td>25517665</td>\n",
       "      <td>94640013</td>\n",
       "      <td>127660</td>\n",
       "      <td>41646797</td>\n",
       "      <td>49701955</td>\n",
       "      <td>30047808</td>\n",
       "      <td>24259470</td>\n",
       "      <td>1042407.0</td>\n",
       "      <td>2017</td>\n",
       "    </tr>\n",
       "    <tr>\n",
       "      <th>3</th>\n",
       "      <td>11413745</td>\n",
       "      <td>79660396</td>\n",
       "      <td>40007396</td>\n",
       "      <td>1357239</td>\n",
       "      <td>119667792</td>\n",
       "      <td>1483142400</td>\n",
       "      <td>26844149</td>\n",
       "      <td>582754</td>\n",
       "      <td>-7840616</td>\n",
       "      <td>4671743</td>\n",
       "      <td>...</td>\n",
       "      <td>9590118</td>\n",
       "      <td>25962279</td>\n",
       "      <td>87751429</td>\n",
       "      <td>127660</td>\n",
       "      <td>40007396</td>\n",
       "      <td>38226737</td>\n",
       "      <td>27771729</td>\n",
       "      <td>24759010</td>\n",
       "      <td>1139994.0</td>\n",
       "      <td>2016</td>\n",
       "    </tr>\n",
       "  </tbody>\n",
       "</table>\n",
       "<p>4 rows × 24 columns</p>\n",
       "</div>"
      ],
      "text/plain": [
       "   capitalSurplus  totalLiab  totalStockholderEquity  otherCurrentLiab  \\\n",
       "0        11413745  106049817                45639161           1207361   \n",
       "1        11413745  104723676                43053536            937936   \n",
       "2        11413745   84476044                41646797           1049060   \n",
       "3        11413745   79660396                40007396           1357239   \n",
       "\n",
       "   totalAssets     endDate  commonStock  otherCurrentAssets  retainedEarnings  \\\n",
       "0    151688978  1577750400     26844149             3011193          -4586514   \n",
       "1    147777212  1546214400     26844149             4387156          -7172139   \n",
       "2    126122841  1514678400     26844149              381931          -6201215   \n",
       "3    119667792  1483142400     26844149              582754          -7840616   \n",
       "\n",
       "   otherLiab  ...  otherStockholderEquity  propertyPlantEquipment  \\\n",
       "0    2610374  ...                11967781                29162421   \n",
       "1    2164786  ...                11967781                30270929   \n",
       "2    4457658  ...                 9590118                25517665   \n",
       "3    4671743  ...                 9590118                25962279   \n",
       "\n",
       "   totalCurrentAssets  longTermInvestments  netTangibleAssets  netReceivables  \\\n",
       "0           117688728               127660           45639161        56328338   \n",
       "1           112805625               127660           43053536        57009414   \n",
       "2            94640013               127660           41646797        49701955   \n",
       "3            87751429               127660           40007396        38226737   \n",
       "\n",
       "   inventory  accountsPayable  deferredLongTermAssetCharges  year  \n",
       "0   29956550         26311173                           NaN  2019  \n",
       "1   40305442         31575798                     1072351.0  2018  \n",
       "2   30047808         24259470                     1042407.0  2017  \n",
       "3   27771729         24759010                     1139994.0  2016  \n",
       "\n",
       "[4 rows x 24 columns]"
      ]
     },
     "execution_count": 21,
     "metadata": {},
     "output_type": "execute_result"
    }
   ],
   "source": [
    "annual_bs_statement=pd.DataFrame(annual_bs_stmts)\n",
    "year=['2019','2018','2017','2016']\n",
    "year=pd.DataFrame(year)\n",
    "annual_bs_statement['year']=year\n",
    "annual_bs_statement"
   ]
  },
  {
   "cell_type": "markdown",
   "metadata": {},
   "source": [
    "### BS Quarterly"
   ]
  },
  {
   "cell_type": "code",
   "execution_count": 22,
   "metadata": {
    "ExecuteTime": {
     "end_time": "2020-12-08T10:08:43.058457Z",
     "start_time": "2020-12-08T10:08:43.034420Z"
    }
   },
   "outputs": [
    {
     "data": {
      "text/html": [
       "<div>\n",
       "<style scoped>\n",
       "    .dataframe tbody tr th:only-of-type {\n",
       "        vertical-align: middle;\n",
       "    }\n",
       "\n",
       "    .dataframe tbody tr th {\n",
       "        vertical-align: top;\n",
       "    }\n",
       "\n",
       "    .dataframe thead th {\n",
       "        text-align: right;\n",
       "    }\n",
       "</style>\n",
       "<table border=\"1\" class=\"dataframe\">\n",
       "  <thead>\n",
       "    <tr style=\"text-align: right;\">\n",
       "      <th></th>\n",
       "      <th>capitalSurplus</th>\n",
       "      <th>totalLiab</th>\n",
       "      <th>totalStockholderEquity</th>\n",
       "      <th>otherCurrentLiab</th>\n",
       "      <th>totalAssets</th>\n",
       "      <th>endDate</th>\n",
       "      <th>commonStock</th>\n",
       "      <th>otherCurrentAssets</th>\n",
       "      <th>retainedEarnings</th>\n",
       "      <th>otherLiab</th>\n",
       "      <th>...</th>\n",
       "      <th>deferredLongTermAssetCharges</th>\n",
       "      <th>otherStockholderEquity</th>\n",
       "      <th>propertyPlantEquipment</th>\n",
       "      <th>totalCurrentAssets</th>\n",
       "      <th>longTermInvestments</th>\n",
       "      <th>netTangibleAssets</th>\n",
       "      <th>netReceivables</th>\n",
       "      <th>inventory</th>\n",
       "      <th>accountsPayable</th>\n",
       "      <th>quarter</th>\n",
       "    </tr>\n",
       "  </thead>\n",
       "  <tbody>\n",
       "    <tr>\n",
       "      <th>0</th>\n",
       "      <td>11413745</td>\n",
       "      <td>79640950</td>\n",
       "      <td>44546461</td>\n",
       "      <td>1148516</td>\n",
       "      <td>124187411</td>\n",
       "      <td>1601424000</td>\n",
       "      <td>26844149</td>\n",
       "      <td>4120313</td>\n",
       "      <td>-5679214</td>\n",
       "      <td>2055580</td>\n",
       "      <td>...</td>\n",
       "      <td>58010.0</td>\n",
       "      <td>11967781</td>\n",
       "      <td>28279144</td>\n",
       "      <td>94298586</td>\n",
       "      <td>127660</td>\n",
       "      <td>44546461</td>\n",
       "      <td>52053576</td>\n",
       "      <td>23336623</td>\n",
       "      <td>16137436</td>\n",
       "      <td>Q3 2020</td>\n",
       "    </tr>\n",
       "    <tr>\n",
       "      <th>1</th>\n",
       "      <td>11413745</td>\n",
       "      <td>91328109</td>\n",
       "      <td>45878240</td>\n",
       "      <td>1158905</td>\n",
       "      <td>137206349</td>\n",
       "      <td>1593475200</td>\n",
       "      <td>26844149</td>\n",
       "      <td>4352716</td>\n",
       "      <td>-4347435</td>\n",
       "      <td>2305007</td>\n",
       "      <td>...</td>\n",
       "      <td>937.0</td>\n",
       "      <td>11967781</td>\n",
       "      <td>28693967</td>\n",
       "      <td>106947732</td>\n",
       "      <td>127660</td>\n",
       "      <td>45878240</td>\n",
       "      <td>49112602</td>\n",
       "      <td>30172764</td>\n",
       "      <td>23572318</td>\n",
       "      <td>Q2 2020</td>\n",
       "    </tr>\n",
       "    <tr>\n",
       "      <th>2</th>\n",
       "      <td>11413745</td>\n",
       "      <td>107257698</td>\n",
       "      <td>35360807</td>\n",
       "      <td>1136349</td>\n",
       "      <td>142618505</td>\n",
       "      <td>1585612800</td>\n",
       "      <td>26844149</td>\n",
       "      <td>3451125</td>\n",
       "      <td>-14864868</td>\n",
       "      <td>2188097</td>\n",
       "      <td>...</td>\n",
       "      <td>89887.0</td>\n",
       "      <td>11967781</td>\n",
       "      <td>29250821</td>\n",
       "      <td>107820473</td>\n",
       "      <td>127660</td>\n",
       "      <td>35360807</td>\n",
       "      <td>47598434</td>\n",
       "      <td>26012326</td>\n",
       "      <td>24665046</td>\n",
       "      <td>Q1 2020</td>\n",
       "    </tr>\n",
       "    <tr>\n",
       "      <th>3</th>\n",
       "      <td>11413745</td>\n",
       "      <td>106049817</td>\n",
       "      <td>45639161</td>\n",
       "      <td>1207361</td>\n",
       "      <td>151688978</td>\n",
       "      <td>1577750400</td>\n",
       "      <td>26844149</td>\n",
       "      <td>3011193</td>\n",
       "      <td>-4586514</td>\n",
       "      <td>2610374</td>\n",
       "      <td>...</td>\n",
       "      <td>NaN</td>\n",
       "      <td>11967781</td>\n",
       "      <td>29162421</td>\n",
       "      <td>117688728</td>\n",
       "      <td>127660</td>\n",
       "      <td>45639161</td>\n",
       "      <td>56328338</td>\n",
       "      <td>29956550</td>\n",
       "      <td>26311173</td>\n",
       "      <td>Q4 2019</td>\n",
       "    </tr>\n",
       "  </tbody>\n",
       "</table>\n",
       "<p>4 rows × 24 columns</p>\n",
       "</div>"
      ],
      "text/plain": [
       "   capitalSurplus  totalLiab  totalStockholderEquity  otherCurrentLiab  \\\n",
       "0        11413745   79640950                44546461           1148516   \n",
       "1        11413745   91328109                45878240           1158905   \n",
       "2        11413745  107257698                35360807           1136349   \n",
       "3        11413745  106049817                45639161           1207361   \n",
       "\n",
       "   totalAssets     endDate  commonStock  otherCurrentAssets  retainedEarnings  \\\n",
       "0    124187411  1601424000     26844149             4120313          -5679214   \n",
       "1    137206349  1593475200     26844149             4352716          -4347435   \n",
       "2    142618505  1585612800     26844149             3451125         -14864868   \n",
       "3    151688978  1577750400     26844149             3011193          -4586514   \n",
       "\n",
       "   otherLiab  ...  deferredLongTermAssetCharges  otherStockholderEquity  \\\n",
       "0    2055580  ...                       58010.0                11967781   \n",
       "1    2305007  ...                         937.0                11967781   \n",
       "2    2188097  ...                       89887.0                11967781   \n",
       "3    2610374  ...                           NaN                11967781   \n",
       "\n",
       "   propertyPlantEquipment  totalCurrentAssets  longTermInvestments  \\\n",
       "0                28279144            94298586               127660   \n",
       "1                28693967           106947732               127660   \n",
       "2                29250821           107820473               127660   \n",
       "3                29162421           117688728               127660   \n",
       "\n",
       "   netTangibleAssets  netReceivables  inventory  accountsPayable  quarter  \n",
       "0           44546461        52053576   23336623         16137436  Q3 2020  \n",
       "1           45878240        49112602   30172764         23572318  Q2 2020  \n",
       "2           35360807        47598434   26012326         24665046  Q1 2020  \n",
       "3           45639161        56328338   29956550         26311173  Q4 2019  \n",
       "\n",
       "[4 rows x 24 columns]"
      ]
     },
     "execution_count": 22,
     "metadata": {},
     "output_type": "execute_result"
    }
   ],
   "source": [
    "quarterly_bs_statement=pd.DataFrame(quarterly_bs_stmts)\n",
    "quarter=['Q3 2020','Q2 2020','Q1 2020','Q4 2019','Q3 2019']\n",
    "quarter=pd.DataFrame(quarter)\n",
    "quarterly_bs_statement['quarter']=quarter\n",
    "quarterly_bs_statement"
   ]
  },
  {
   "cell_type": "markdown",
   "metadata": {},
   "source": [
    "## Cash Flow Statements"
   ]
  },
  {
   "cell_type": "code",
   "execution_count": 23,
   "metadata": {
    "ExecuteTime": {
     "end_time": "2020-12-08T10:08:43.846680Z",
     "start_time": "2020-12-08T10:08:43.822642Z"
    }
   },
   "outputs": [],
   "source": [
    "annual_cf_stmts = []\n",
    "quarterly_cf_stmts = []\n",
    "\n",
    "# annual\n",
    "for s in annual_cf:\n",
    "    statement = {}\n",
    "    for key, val in s.items():\n",
    "        try:\n",
    "            statement[key] = val['raw']\n",
    "        except TypeError:\n",
    "            continue\n",
    "        except KeyError:\n",
    "            continue\n",
    "    annual_cf_stmts.append(statement)\n",
    "    \n",
    "# quarterly\n",
    "for s in quarterly_cf:\n",
    "    statement = {}\n",
    "    for key, val in s.items():\n",
    "        try:\n",
    "            statement[key] = val['raw']\n",
    "        except TypeError:\n",
    "            continue\n",
    "        except KeyError:\n",
    "            continue\n",
    "    quarterly_cf_stmts.append(statement)"
   ]
  },
  {
   "cell_type": "code",
   "execution_count": 24,
   "metadata": {
    "ExecuteTime": {
     "end_time": "2020-12-08T10:08:44.174648Z",
     "start_time": "2020-12-08T10:08:44.150648Z"
    }
   },
   "outputs": [
    {
     "data": {
      "text/plain": [
       "{'changeToLiabilities': 0,\n",
       " 'totalCashflowsFromInvestingActivities': -1623186,\n",
       " 'netBorrowings': 8404505,\n",
       " 'totalCashFromFinancingActivities': 8404505,\n",
       " 'netIncome': 2680666,\n",
       " 'changeInCash': 17289034,\n",
       " 'endDate': 1577750400,\n",
       " 'effectOfExchangeRate': 329756,\n",
       " 'totalCashFromOperatingActivities': 10177959,\n",
       " 'depreciation': 2441492,\n",
       " 'changeToNetincome': 5055801,\n",
       " 'capitalExpenditures': -1640462}"
      ]
     },
     "execution_count": 24,
     "metadata": {},
     "output_type": "execute_result"
    }
   ],
   "source": [
    "annual_cf_stmts[0]"
   ]
  },
  {
   "cell_type": "markdown",
   "metadata": {},
   "source": [
    "### CF Annual"
   ]
  },
  {
   "cell_type": "code",
   "execution_count": 25,
   "metadata": {
    "ExecuteTime": {
     "end_time": "2020-12-08T10:08:44.927080Z",
     "start_time": "2020-12-08T10:08:44.895049Z"
    }
   },
   "outputs": [
    {
     "data": {
      "text/html": [
       "<div>\n",
       "<style scoped>\n",
       "    .dataframe tbody tr th:only-of-type {\n",
       "        vertical-align: middle;\n",
       "    }\n",
       "\n",
       "    .dataframe tbody tr th {\n",
       "        vertical-align: top;\n",
       "    }\n",
       "\n",
       "    .dataframe thead th {\n",
       "        text-align: right;\n",
       "    }\n",
       "</style>\n",
       "<table border=\"1\" class=\"dataframe\">\n",
       "  <thead>\n",
       "    <tr style=\"text-align: right;\">\n",
       "      <th></th>\n",
       "      <th>changeToLiabilities</th>\n",
       "      <th>totalCashflowsFromInvestingActivities</th>\n",
       "      <th>netBorrowings</th>\n",
       "      <th>totalCashFromFinancingActivities</th>\n",
       "      <th>netIncome</th>\n",
       "      <th>changeInCash</th>\n",
       "      <th>endDate</th>\n",
       "      <th>effectOfExchangeRate</th>\n",
       "      <th>totalCashFromOperatingActivities</th>\n",
       "      <th>depreciation</th>\n",
       "      <th>changeToNetincome</th>\n",
       "      <th>capitalExpenditures</th>\n",
       "      <th>year</th>\n",
       "    </tr>\n",
       "  </thead>\n",
       "  <tbody>\n",
       "    <tr>\n",
       "      <th>0</th>\n",
       "      <td>0</td>\n",
       "      <td>-1623186</td>\n",
       "      <td>8404505</td>\n",
       "      <td>8404505</td>\n",
       "      <td>2680666</td>\n",
       "      <td>17289034</td>\n",
       "      <td>1577750400</td>\n",
       "      <td>329756</td>\n",
       "      <td>10177959</td>\n",
       "      <td>2441492</td>\n",
       "      <td>5055801</td>\n",
       "      <td>-1640462</td>\n",
       "      <td>2019</td>\n",
       "    </tr>\n",
       "    <tr>\n",
       "      <th>1</th>\n",
       "      <td>0</td>\n",
       "      <td>-4733120</td>\n",
       "      <td>12704899</td>\n",
       "      <td>12704899</td>\n",
       "      <td>-1537262</td>\n",
       "      <td>-3399235</td>\n",
       "      <td>1546214400</td>\n",
       "      <td>-488615</td>\n",
       "      <td>-10882399</td>\n",
       "      <td>2196502</td>\n",
       "      <td>-11541639</td>\n",
       "      <td>-4733120</td>\n",
       "      <td>2018</td>\n",
       "    </tr>\n",
       "    <tr>\n",
       "      <th>2</th>\n",
       "      <td>0</td>\n",
       "      <td>-1742324</td>\n",
       "      <td>6430268</td>\n",
       "      <td>6430268</td>\n",
       "      <td>1359171</td>\n",
       "      <td>-6610771</td>\n",
       "      <td>1514678400</td>\n",
       "      <td>-55988</td>\n",
       "      <td>-11242727</td>\n",
       "      <td>2343569</td>\n",
       "      <td>-14945467</td>\n",
       "      <td>-1754586</td>\n",
       "      <td>2017</td>\n",
       "    </tr>\n",
       "    <tr>\n",
       "      <th>3</th>\n",
       "      <td>0</td>\n",
       "      <td>-358469</td>\n",
       "      <td>-954563</td>\n",
       "      <td>-954563</td>\n",
       "      <td>2519314</td>\n",
       "      <td>12535291</td>\n",
       "      <td>1483142400</td>\n",
       "      <td>-55988</td>\n",
       "      <td>13848323</td>\n",
       "      <td>2937429</td>\n",
       "      <td>8391580</td>\n",
       "      <td>-358469</td>\n",
       "      <td>2016</td>\n",
       "    </tr>\n",
       "  </tbody>\n",
       "</table>\n",
       "</div>"
      ],
      "text/plain": [
       "   changeToLiabilities  totalCashflowsFromInvestingActivities  netBorrowings  \\\n",
       "0                    0                               -1623186        8404505   \n",
       "1                    0                               -4733120       12704899   \n",
       "2                    0                               -1742324        6430268   \n",
       "3                    0                                -358469        -954563   \n",
       "\n",
       "   totalCashFromFinancingActivities  netIncome  changeInCash     endDate  \\\n",
       "0                           8404505    2680666      17289034  1577750400   \n",
       "1                          12704899   -1537262      -3399235  1546214400   \n",
       "2                           6430268    1359171      -6610771  1514678400   \n",
       "3                           -954563    2519314      12535291  1483142400   \n",
       "\n",
       "   effectOfExchangeRate  totalCashFromOperatingActivities  depreciation  \\\n",
       "0                329756                          10177959       2441492   \n",
       "1               -488615                         -10882399       2196502   \n",
       "2                -55988                         -11242727       2343569   \n",
       "3                -55988                          13848323       2937429   \n",
       "\n",
       "   changeToNetincome  capitalExpenditures  year  \n",
       "0            5055801             -1640462  2019  \n",
       "1          -11541639             -4733120  2018  \n",
       "2          -14945467             -1754586  2017  \n",
       "3            8391580              -358469  2016  "
      ]
     },
     "execution_count": 25,
     "metadata": {},
     "output_type": "execute_result"
    }
   ],
   "source": [
    "annual_cf_statement=pd.DataFrame(annual_cf_stmts)\n",
    "year=['2019','2018','2017','2016']\n",
    "year=pd.DataFrame(year)\n",
    "annual_cf_statement['year']=year\n",
    "annual_cf_statement"
   ]
  },
  {
   "cell_type": "markdown",
   "metadata": {},
   "source": [
    "### CF Quarterly"
   ]
  },
  {
   "cell_type": "code",
   "execution_count": 26,
   "metadata": {
    "ExecuteTime": {
     "end_time": "2020-12-08T10:08:46.093207Z",
     "start_time": "2020-12-08T10:08:46.069201Z"
    }
   },
   "outputs": [
    {
     "data": {
      "text/html": [
       "<div>\n",
       "<style scoped>\n",
       "    .dataframe tbody tr th:only-of-type {\n",
       "        vertical-align: middle;\n",
       "    }\n",
       "\n",
       "    .dataframe tbody tr th {\n",
       "        vertical-align: top;\n",
       "    }\n",
       "\n",
       "    .dataframe thead th {\n",
       "        text-align: right;\n",
       "    }\n",
       "</style>\n",
       "<table border=\"1\" class=\"dataframe\">\n",
       "  <thead>\n",
       "    <tr style=\"text-align: right;\">\n",
       "      <th></th>\n",
       "      <th>changeToLiabilities</th>\n",
       "      <th>totalCashflowsFromInvestingActivities</th>\n",
       "      <th>netBorrowings</th>\n",
       "      <th>totalCashFromFinancingActivities</th>\n",
       "      <th>netIncome</th>\n",
       "      <th>changeInCash</th>\n",
       "      <th>endDate</th>\n",
       "      <th>effectOfExchangeRate</th>\n",
       "      <th>totalCashFromOperatingActivities</th>\n",
       "      <th>depreciation</th>\n",
       "      <th>changeToNetincome</th>\n",
       "      <th>capitalExpenditures</th>\n",
       "      <th>quarter</th>\n",
       "    </tr>\n",
       "  </thead>\n",
       "  <tbody>\n",
       "    <tr>\n",
       "      <th>0</th>\n",
       "      <td>0</td>\n",
       "      <td>-87535</td>\n",
       "      <td>-5013586</td>\n",
       "      <td>-5013586</td>\n",
       "      <td>-1344288</td>\n",
       "      <td>-8521576</td>\n",
       "      <td>1601424000</td>\n",
       "      <td>-775594</td>\n",
       "      <td>-2644861</td>\n",
       "      <td>602961</td>\n",
       "      <td>-1903534</td>\n",
       "      <td>-87535</td>\n",
       "      <td>Q3 2020</td>\n",
       "    </tr>\n",
       "    <tr>\n",
       "      <th>1</th>\n",
       "      <td>0</td>\n",
       "      <td>-50069</td>\n",
       "      <td>-15851874</td>\n",
       "      <td>-15851874</td>\n",
       "      <td>10430897</td>\n",
       "      <td>-7448938</td>\n",
       "      <td>1593475200</td>\n",
       "      <td>3017131</td>\n",
       "      <td>5435874</td>\n",
       "      <td>604313</td>\n",
       "      <td>-5599336</td>\n",
       "      <td>-50069</td>\n",
       "      <td>Q2 2020</td>\n",
       "    </tr>\n",
       "    <tr>\n",
       "      <th>2</th>\n",
       "      <td>0</td>\n",
       "      <td>-32434</td>\n",
       "      <td>2986038</td>\n",
       "      <td>2986038</td>\n",
       "      <td>-10140844</td>\n",
       "      <td>2365941</td>\n",
       "      <td>1585612800</td>\n",
       "      <td>-2135401</td>\n",
       "      <td>1547738</td>\n",
       "      <td>610445</td>\n",
       "      <td>11078137</td>\n",
       "      <td>-32434</td>\n",
       "      <td>Q1 2020</td>\n",
       "    </tr>\n",
       "    <tr>\n",
       "      <th>3</th>\n",
       "      <td>0</td>\n",
       "      <td>-931832</td>\n",
       "      <td>13508499</td>\n",
       "      <td>13508499</td>\n",
       "      <td>840195</td>\n",
       "      <td>17519028</td>\n",
       "      <td>1577750400</td>\n",
       "      <td>1339532</td>\n",
       "      <td>3602829</td>\n",
       "      <td>613541</td>\n",
       "      <td>2149093</td>\n",
       "      <td>-928861</td>\n",
       "      <td>Q4 2019</td>\n",
       "    </tr>\n",
       "  </tbody>\n",
       "</table>\n",
       "</div>"
      ],
      "text/plain": [
       "   changeToLiabilities  totalCashflowsFromInvestingActivities  netBorrowings  \\\n",
       "0                    0                                 -87535       -5013586   \n",
       "1                    0                                 -50069      -15851874   \n",
       "2                    0                                 -32434        2986038   \n",
       "3                    0                                -931832       13508499   \n",
       "\n",
       "   totalCashFromFinancingActivities  netIncome  changeInCash     endDate  \\\n",
       "0                          -5013586   -1344288      -8521576  1601424000   \n",
       "1                         -15851874   10430897      -7448938  1593475200   \n",
       "2                           2986038  -10140844       2365941  1585612800   \n",
       "3                          13508499     840195      17519028  1577750400   \n",
       "\n",
       "   effectOfExchangeRate  totalCashFromOperatingActivities  depreciation  \\\n",
       "0               -775594                          -2644861        602961   \n",
       "1               3017131                           5435874        604313   \n",
       "2              -2135401                           1547738        610445   \n",
       "3               1339532                           3602829        613541   \n",
       "\n",
       "   changeToNetincome  capitalExpenditures  quarter  \n",
       "0           -1903534               -87535  Q3 2020  \n",
       "1           -5599336               -50069  Q2 2020  \n",
       "2           11078137               -32434  Q1 2020  \n",
       "3            2149093              -928861  Q4 2019  "
      ]
     },
     "execution_count": 26,
     "metadata": {},
     "output_type": "execute_result"
    }
   ],
   "source": [
    "quarterly_cf_statement=pd.DataFrame(quarterly_cf_stmts)\n",
    "quarter=['Q3 2020','Q2 2020','Q1 2020','Q4 2019','Q3 2019']\n",
    "quarter=pd.DataFrame(quarter)\n",
    "quarterly_cf_statement['quarter']=quarter\n",
    "quarterly_cf_statement"
   ]
  },
  {
   "cell_type": "markdown",
   "metadata": {},
   "source": [
    "## Profile Data"
   ]
  },
  {
   "cell_type": "code",
   "execution_count": 27,
   "metadata": {
    "ExecuteTime": {
     "end_time": "2020-12-08T10:08:48.541821Z",
     "start_time": "2020-12-08T10:08:47.714934Z"
    }
   },
   "outputs": [],
   "source": [
    "response = requests.get(url_profile.format(stock, stock))\n",
    "soup = BeautifulSoup(response.text, 'html.parser')\n",
    "pattern = re.compile(r'\\s--\\sData\\s--\\s')\n",
    "script_data = soup.find('script', text=pattern).contents[0]\n",
    "start = script_data.find(\"context\")-2\n",
    "json_data = json.loads(script_data[start:-12])"
   ]
  },
  {
   "cell_type": "code",
   "execution_count": 28,
   "metadata": {
    "ExecuteTime": {
     "end_time": "2020-12-08T10:08:54.070581Z",
     "start_time": "2020-12-08T10:08:54.054550Z"
    }
   },
   "outputs": [
    {
     "data": {
      "text/plain": [
       "dict_keys(['financialsTemplate', 'price', 'secFilings', 'quoteType', 'calendarEvents', 'summaryDetail', 'symbol', 'assetProfile', 'pageViews'])"
      ]
     },
     "execution_count": 28,
     "metadata": {},
     "output_type": "execute_result"
    }
   ],
   "source": [
    "json_data['context']['dispatcher']['stores']['QuoteSummaryStore'].keys()"
   ]
  },
  {
   "cell_type": "code",
   "execution_count": 29,
   "metadata": {
    "ExecuteTime": {
     "end_time": "2020-12-08T10:08:54.534549Z",
     "start_time": "2020-12-08T10:08:54.526584Z"
    }
   },
   "outputs": [
    {
     "data": {
      "text/plain": [
       "dict_keys(['zip', 'sector', 'fullTimeEmployees', 'longBusinessSummary', 'city', 'phone', 'country', 'companyOfficers', 'website', 'maxAge', 'address1', 'fax', 'industry', 'address2'])"
      ]
     },
     "execution_count": 29,
     "metadata": {},
     "output_type": "execute_result"
    }
   ],
   "source": [
    "json_data['context']['dispatcher']['stores']['QuoteSummaryStore']['assetProfile'].keys()"
   ]
  },
  {
   "cell_type": "code",
   "execution_count": 30,
   "metadata": {
    "ExecuteTime": {
     "end_time": "2020-12-08T10:08:54.958548Z",
     "start_time": "2020-12-08T10:08:54.950583Z"
    }
   },
   "outputs": [
    {
     "data": {
      "text/plain": [
       "[{'maxAge': 1,\n",
       "  'name': 'Mr. -  Jetrinaldi',\n",
       "  'age': 51,\n",
       "  'title': 'Pres Director',\n",
       "  'yearBorn': 1968,\n",
       "  'exercisedValue': {'raw': 0, 'fmt': None, 'longFmt': '0'},\n",
       "  'unexercisedValue': {'raw': 0, 'fmt': None, 'longFmt': '0'}},\n",
       " {'maxAge': 1,\n",
       "  'name': 'Mr. Kazumi  Okamoto',\n",
       "  'title': 'Operation Director & VP Director',\n",
       "  'exercisedValue': {'raw': 0, 'fmt': None, 'longFmt': '0'},\n",
       "  'unexercisedValue': {'raw': 0, 'fmt': None, 'longFmt': '0'}},\n",
       " {'maxAge': 1,\n",
       "  'name': 'Mr. Alfa  Enersi',\n",
       "  'age': 49,\n",
       "  'title': 'Fin. Director & Director',\n",
       "  'yearBorn': 1970,\n",
       "  'exercisedValue': {'raw': 0, 'fmt': None, 'longFmt': '0'},\n",
       "  'unexercisedValue': {'raw': 0, 'fmt': None, 'longFmt': '0'}}]"
      ]
     },
     "execution_count": 30,
     "metadata": {},
     "output_type": "execute_result"
    }
   ],
   "source": [
    "# data for company officers (just the first 3 are listed for brevity )\n",
    "json_data['context']['dispatcher']['stores']['QuoteSummaryStore']['assetProfile']['companyOfficers'][:3]"
   ]
  },
  {
   "cell_type": "code",
   "execution_count": 31,
   "metadata": {
    "ExecuteTime": {
     "end_time": "2020-12-08T10:08:55.582395Z",
     "start_time": "2020-12-08T10:08:55.574386Z"
    }
   },
   "outputs": [
    {
     "data": {
      "text/plain": [
       "'PT Pelat Timah Nusantara Tbk operates as a tinplate manufacturer in Indonesia and internationally. It offers tinplate products in the form of coils, and sheets and scrolls. The company provides tinplate for consumer products, such as food and beverages, canned milk, battery, paints, and chemicals industries. PT Pelat Timah Nusantara Tbk was founded in 1982 and is headquartered in Jakarta, Indonesia.'"
      ]
     },
     "execution_count": 31,
     "metadata": {},
     "output_type": "execute_result"
    }
   ],
   "source": [
    "# business description\n",
    "json_data['context']['dispatcher']['stores']['QuoteSummaryStore']['assetProfile']['longBusinessSummary']"
   ]
  },
  {
   "cell_type": "code",
   "execution_count": 32,
   "metadata": {
    "ExecuteTime": {
     "end_time": "2020-12-08T10:08:56.038309Z",
     "start_time": "2020-12-08T10:08:56.014308Z"
    }
   },
   "outputs": [
    {
     "data": {
      "text/plain": [
       "{'previousClose': {'raw': 1355, 'fmt': '1,355.00'},\n",
       " 'regularMarketOpen': {'raw': 1420, 'fmt': '1,420.00'},\n",
       " 'twoHundredDayAverage': {'raw': 722.4857, 'fmt': '722.49'},\n",
       " 'trailingAnnualDividendYield': {},\n",
       " 'payoutRatio': {'raw': 0, 'fmt': '0.00%'},\n",
       " 'volume24Hr': {},\n",
       " 'regularMarketDayHigh': {'raw': 1690, 'fmt': '1,690.00'},\n",
       " 'navPrice': {},\n",
       " 'averageDailyVolume10Day': {'raw': 10528050,\n",
       "  'fmt': '10.53M',\n",
       "  'longFmt': '10,528,050'},\n",
       " 'totalAssets': {},\n",
       " 'regularMarketPreviousClose': {'raw': 1355, 'fmt': '1,355.00'},\n",
       " 'fiftyDayAverage': {'raw': 877.35297, 'fmt': '877.35'},\n",
       " 'trailingAnnualDividendRate': {},\n",
       " 'open': {'raw': 1420, 'fmt': '1,420.00'},\n",
       " 'toCurrency': None,\n",
       " 'averageVolume10days': {'raw': 10528050,\n",
       "  'fmt': '10.53M',\n",
       "  'longFmt': '10,528,050'},\n",
       " 'expireDate': {},\n",
       " 'yield': {},\n",
       " 'algorithm': None,\n",
       " 'dividendRate': {},\n",
       " 'exDividendDate': {'raw': 1398816000, 'fmt': '2014-04-30'},\n",
       " 'beta': {'raw': 1.116118, 'fmt': '1.12'},\n",
       " 'circulatingSupply': {},\n",
       " 'startDate': {},\n",
       " 'regularMarketDayLow': {'raw': 1420, 'fmt': '1,420.00'},\n",
       " 'priceHint': {'raw': 2, 'fmt': '2', 'longFmt': '2'},\n",
       " 'currency': 'IDR',\n",
       " 'regularMarketVolume': {'raw': 43702400,\n",
       "  'fmt': '43.7M',\n",
       "  'longFmt': '43,702,400'},\n",
       " 'lastMarket': None,\n",
       " 'maxSupply': {},\n",
       " 'openInterest': {},\n",
       " 'marketCap': {'raw': 4349181034496,\n",
       "  'fmt': '4.35T',\n",
       "  'longFmt': '4,349,181,034,496'},\n",
       " 'volumeAllCurrencies': {},\n",
       " 'strikePrice': {},\n",
       " 'averageVolume': {'raw': 7860378, 'fmt': '7.86M', 'longFmt': '7,860,378'},\n",
       " 'priceToSalesTrailing12Months': {'raw': 29928.648, 'fmt': '29,928.65'},\n",
       " 'dayLow': {'raw': 1420, 'fmt': '1,420.00'},\n",
       " 'ask': {'raw': 0, 'fmt': '0.00'},\n",
       " 'ytdReturn': {},\n",
       " 'askSize': {'raw': 0, 'fmt': None, 'longFmt': '0'},\n",
       " 'volume': {'raw': 43702400, 'fmt': '43.7M', 'longFmt': '43,702,400'},\n",
       " 'fiftyTwoWeekHigh': {'raw': 1690, 'fmt': '1,690.00'},\n",
       " 'forwardPE': {},\n",
       " 'maxAge': 1,\n",
       " 'fromCurrency': None,\n",
       " 'fiveYearAvgDividendYield': {},\n",
       " 'fiftyTwoWeekLow': {'raw': 240, 'fmt': '240.00'},\n",
       " 'bid': {'raw': 1690, 'fmt': '1,690.00'},\n",
       " 'tradeable': False,\n",
       " 'dividendYield': {},\n",
       " 'bidSize': {'raw': 0, 'fmt': None, 'longFmt': '0'},\n",
       " 'dayHigh': {'raw': 1690, 'fmt': '1,690.00'}}"
      ]
     },
     "execution_count": 32,
     "metadata": {},
     "output_type": "execute_result"
    }
   ],
   "source": [
    "# lot of other data is available\n",
    "json_data['context']['dispatcher']['stores']['QuoteSummaryStore']['summaryDetail']"
   ]
  },
  {
   "cell_type": "code",
   "execution_count": 33,
   "metadata": {
    "ExecuteTime": {
     "end_time": "2020-12-08T10:08:56.646485Z",
     "start_time": "2020-12-08T10:08:56.598518Z"
    }
   },
   "outputs": [],
   "source": [
    "stock_data=pd.DataFrame(json_data['context']['dispatcher']['stores']['QuoteSummaryStore']['summaryDetail']).reset_index()\n",
    "stock_data=stock_data.loc[stock_data['index']=='fmt']\n",
    "stock_data.dropna(axis=1,inplace=True)\n",
    "stock_data.drop(columns=['index','priceHint','currency','maxAge','tradeable'],inplace=True)"
   ]
  },
  {
   "cell_type": "markdown",
   "metadata": {},
   "source": [
    "# Statistics"
   ]
  },
  {
   "cell_type": "code",
   "execution_count": 34,
   "metadata": {
    "ExecuteTime": {
     "end_time": "2020-12-08T10:08:58.288574Z",
     "start_time": "2020-12-08T10:08:57.262515Z"
    }
   },
   "outputs": [],
   "source": [
    "response = requests.get(url_stats.format(stock, stock))\n",
    "soup = BeautifulSoup(response.text, 'html.parser')\n",
    "pattern = re.compile(r'\\s--\\sData\\s--\\s')\n",
    "script_data = soup.find('script', text=pattern).contents[0]\n",
    "start = script_data.find(\"context\")-2\n",
    "json_data = json.loads(script_data[start:-12])"
   ]
  },
  {
   "cell_type": "code",
   "execution_count": 35,
   "metadata": {
    "ExecuteTime": {
     "end_time": "2020-12-08T10:08:58.304552Z",
     "start_time": "2020-12-08T10:08:58.288574Z"
    }
   },
   "outputs": [
    {
     "data": {
      "text/plain": [
       "{'annualHoldingsTurnover': {},\n",
       " 'enterpriseToRevenue': {'raw': 23528.918, 'fmt': '23,528.92'},\n",
       " 'beta3Year': {},\n",
       " 'profitMargins': {'raw': -0.00147, 'fmt': '-0.15%'},\n",
       " 'enterpriseToEbitda': {'raw': 999728.4, 'fmt': '999,728.38'},\n",
       " '52WeekChange': {'raw': 1.9807692, 'fmt': '198.08%'},\n",
       " 'morningStarRiskRating': {},\n",
       " 'forwardEps': {},\n",
       " 'revenueQuarterlyGrowth': {},\n",
       " 'sharesOutstanding': {'raw': 2523350016,\n",
       "  'fmt': '2.52B',\n",
       "  'longFmt': '2,523,350,016'},\n",
       " 'fundInceptionDate': {},\n",
       " 'annualReportExpenseRatio': {},\n",
       " 'totalAssets': {},\n",
       " 'bookValue': {'raw': 0.018, 'fmt': '0.02'},\n",
       " 'sharesShort': {},\n",
       " 'sharesPercentSharesOut': {},\n",
       " 'fundFamily': None,\n",
       " 'lastFiscalYearEnd': {'raw': 1577750400, 'fmt': '2019-12-31'},\n",
       " 'heldPercentInstitutions': {'raw': 0, 'fmt': '0.00%'},\n",
       " 'netIncomeToCommon': {'raw': -214040,\n",
       "  'fmt': '-214.04k',\n",
       "  'longFmt': '-214,040'},\n",
       " 'trailingEps': {'raw': 0, 'fmt': '-0.00'},\n",
       " 'lastDividendValue': {'raw': 0.48, 'fmt': '0.48'},\n",
       " 'SandP52WeekChange': {'raw': 0.17859101, 'fmt': '17.86%'},\n",
       " 'priceToBook': {'raw': 93888.89, 'fmt': '93,888.89'},\n",
       " 'heldPercentInsiders': {'raw': 0.85417, 'fmt': '85.42%'},\n",
       " 'nextFiscalYearEnd': {'raw': 1640908800, 'fmt': '2021-12-31'},\n",
       " 'yield': {},\n",
       " 'mostRecentQuarter': {'raw': 1601424000, 'fmt': '2020-09-30'},\n",
       " 'shortRatio': {},\n",
       " 'sharesShortPreviousMonthDate': {},\n",
       " 'floatShares': {'raw': 628112282, 'fmt': '628.11M', 'longFmt': '628,112,282'},\n",
       " 'beta': {'raw': 1.116118, 'fmt': '1.12'},\n",
       " 'enterpriseValue': {'raw': 3419182989312,\n",
       "  'fmt': '3.42T',\n",
       "  'longFmt': '3,419,182,989,312'},\n",
       " 'priceHint': {'raw': 2, 'fmt': '2', 'longFmt': '2'},\n",
       " 'threeYearAverageReturn': {},\n",
       " 'lastSplitDate': {},\n",
       " 'lastSplitFactor': None,\n",
       " 'legalType': None,\n",
       " 'lastDividendDate': {'raw': 1398816000, 'fmt': '2014-04-30'},\n",
       " 'morningStarOverallRating': {},\n",
       " 'earningsQuarterlyGrowth': {},\n",
       " 'priceToSalesTrailing12Months': {},\n",
       " 'dateShortInterest': {},\n",
       " 'pegRatio': {},\n",
       " 'ytdReturn': {},\n",
       " 'forwardPE': {},\n",
       " 'maxAge': 1,\n",
       " 'lastCapGain': {},\n",
       " 'shortPercentOfFloat': {},\n",
       " 'sharesShortPriorMonth': {},\n",
       " 'impliedSharesOutstanding': {},\n",
       " 'category': None,\n",
       " 'fiveYearAverageReturn': {}}"
      ]
     },
     "execution_count": 35,
     "metadata": {},
     "output_type": "execute_result"
    }
   ],
   "source": [
    "json_data['context']['dispatcher']['stores']['QuoteSummaryStore']['defaultKeyStatistics']"
   ]
  },
  {
   "cell_type": "code",
   "execution_count": 36,
   "metadata": {
    "ExecuteTime": {
     "end_time": "2020-12-08T10:08:58.320552Z",
     "start_time": "2020-12-08T10:08:58.304552Z"
    }
   },
   "outputs": [],
   "source": [
    "Stats=pd.DataFrame(json_data['context']['dispatcher']['stores']['QuoteSummaryStore']['defaultKeyStatistics']).reset_index()\n",
    "Stats=Stats.loc[Stats['index']=='fmt']\n",
    "Stats.dropna(axis=1,inplace=True)\n",
    "Stats.drop(columns=['index','priceHint','maxAge'],inplace=True)"
   ]
  },
  {
   "cell_type": "markdown",
   "metadata": {},
   "source": [
    "# Historical Stock Data"
   ]
  },
  {
   "cell_type": "code",
   "execution_count": 37,
   "metadata": {
    "ExecuteTime": {
     "end_time": "2020-12-08T10:09:30.880291Z",
     "start_time": "2020-12-08T10:09:27.601294Z"
    }
   },
   "outputs": [
    {
     "name": "stdout",
     "output_type": "stream",
     "text": [
      "NIKL.JK\n"
     ]
    }
   ],
   "source": [
    "stock=input()"
   ]
  },
  {
   "cell_type": "code",
   "execution_count": 38,
   "metadata": {
    "ExecuteTime": {
     "end_time": "2020-12-08T10:09:32.248359Z",
     "start_time": "2020-12-08T10:09:32.240358Z"
    }
   },
   "outputs": [],
   "source": [
    "stock_url = 'https://query1.finance.yahoo.com/v7/finance/download/NIKL.JK?period1=1568483641&period2=1600106041&interval=1d&events=history'"
   ]
  },
  {
   "cell_type": "code",
   "execution_count": 39,
   "metadata": {
    "ExecuteTime": {
     "end_time": "2020-12-08T10:09:32.992558Z",
     "start_time": "2020-12-08T10:09:32.768115Z"
    }
   },
   "outputs": [],
   "source": [
    "response = requests.get(stock_url)"
   ]
  },
  {
   "cell_type": "code",
   "execution_count": 40,
   "metadata": {
    "ExecuteTime": {
     "end_time": "2020-12-08T10:09:33.497888Z",
     "start_time": "2020-12-08T10:09:33.481885Z"
    }
   },
   "outputs": [
    {
     "name": "stdout",
     "output_type": "stream",
     "text": [
      "['Date', 'Open', 'High', 'Low', 'Close', 'Adj Close', 'Volume']\n",
      "['2019-09-16', '1305.000000', '1305.000000', '1250.000000', '1255.000000', '1255.000000', '1098300']\n",
      "['2019-09-17', '1255.000000', '1275.000000', '1250.000000', '1265.000000', '1265.000000', '330100']\n",
      "['2019-09-18', '1275.000000', '1280.000000', '1260.000000', '1260.000000', '1260.000000', '337800']\n",
      "['2019-09-19', '1260.000000', '1280.000000', '1250.000000', '1250.000000', '1250.000000', '587000']\n"
     ]
    }
   ],
   "source": [
    "# extract the csv data\n",
    "file = StringIO(response.text)\n",
    "reader = csv.reader(file)\n",
    "data = list(reader)\n",
    "\n",
    "# show the first 5 records\n",
    "for row in data[:5]:\n",
    "    print(row)"
   ]
  },
  {
   "cell_type": "code",
   "execution_count": 41,
   "metadata": {
    "ExecuteTime": {
     "end_time": "2020-12-08T10:09:34.846376Z",
     "start_time": "2020-12-08T10:09:34.822940Z"
    }
   },
   "outputs": [],
   "source": [
    "stock_url = 'https://query1.finance.yahoo.com/v7/finance/download/{}?'\n",
    "\n",
    "params = {\n",
    "    'period1':'1568483641',\n",
    "    'period2':'1600106041',\n",
    "    'interval':'1d',\n",
    "    'events':'history'\n",
    "}"
   ]
  },
  {
   "cell_type": "markdown",
   "metadata": {},
   "source": [
    "By inspecting the request headers and parameters online, it's possible to see how this can be simplified further... by using the range parameter instead of the periods."
   ]
  },
  {
   "cell_type": "code",
   "execution_count": 42,
   "metadata": {
    "ExecuteTime": {
     "end_time": "2020-12-08T10:09:35.930415Z",
     "start_time": "2020-12-08T10:09:35.915362Z"
    }
   },
   "outputs": [],
   "source": [
    "params = {\n",
    "    'range': '5y',\n",
    "    'interval':'1d',\n",
    "    'events':'history'\n",
    "}"
   ]
  },
  {
   "cell_type": "code",
   "execution_count": 43,
   "metadata": {
    "ExecuteTime": {
     "end_time": "2020-12-08T10:09:36.520507Z",
     "start_time": "2020-12-08T10:09:36.274379Z"
    }
   },
   "outputs": [],
   "source": [
    "response = requests.get(stock_url.format(stock), params=params)"
   ]
  },
  {
   "cell_type": "code",
   "execution_count": 44,
   "metadata": {
    "ExecuteTime": {
     "end_time": "2020-12-08T10:09:38.426120Z",
     "start_time": "2020-12-08T10:09:38.410123Z"
    }
   },
   "outputs": [
    {
     "name": "stdout",
     "output_type": "stream",
     "text": [
      "['Date', 'Open', 'High', 'Low', 'Close', 'Adj Close', 'Volume']\n",
      "['2015-12-08', '50.000000', '50.000000', '50.000000', '50.000000', '50.000000', '11200']\n",
      "['2015-12-09', '50.000000', '50.000000', '50.000000', '50.000000', '50.000000', '0']\n",
      "['2015-12-10', '50.000000', '50.000000', '50.000000', '50.000000', '50.000000', '1500']\n",
      "['2015-12-11', '50.000000', '50.000000', '50.000000', '50.000000', '50.000000', '200']\n",
      "['2015-12-14', '50.000000', '50.000000', '50.000000', '50.000000', '50.000000', '0']\n",
      "['2015-12-15', '50.000000', '50.000000', '50.000000', '50.000000', '50.000000', '0']\n",
      "['2015-12-16', '50.000000', '50.000000', '50.000000', '50.000000', '50.000000', '0']\n",
      "['2015-12-17', '50.000000', '50.000000', '50.000000', '50.000000', '50.000000', '200']\n",
      "['2015-12-18', '50.000000', '50.000000', '50.000000', '50.000000', '50.000000', '0']\n",
      "['2015-12-21', '50.000000', '50.000000', '50.000000', '50.000000', '50.000000', '100']\n",
      "['2015-12-22', '50.000000', '50.000000', '50.000000', '50.000000', '50.000000', '39600']\n",
      "['2015-12-23', '50.000000', '50.000000', '50.000000', '50.000000', '50.000000', '33100']\n",
      "['2015-12-28', '50.000000', '50.000000', '50.000000', '50.000000', '50.000000', '400']\n",
      "['2015-12-29', '50.000000', '50.000000', '50.000000', '50.000000', '50.000000', '150700']\n",
      "['2015-12-30', '50.000000', '50.000000', '50.000000', '50.000000', '50.000000', '300']\n",
      "['2016-01-04', '50.000000', '50.000000', '50.000000', '50.000000', '50.000000', '200']\n",
      "['2016-01-05', '50.000000', '50.000000', '50.000000', '50.000000', '50.000000', '29400']\n",
      "['2016-01-06', '50.000000', '50.000000', '50.000000', '50.000000', '50.000000', '2000']\n",
      "['2016-01-07', '50.000000', '50.000000', '50.000000', '50.000000', '50.000000', '24900']\n",
      "['2016-01-08', '50.000000', '50.000000', '50.000000', '50.000000', '50.000000', '0']\n",
      "['2016-01-11', '50.000000', '50.000000', '50.000000', '50.000000', '50.000000', '100']\n",
      "['2016-01-12', '50.000000', '50.000000', '50.000000', '50.000000', '50.000000', '200']\n",
      "['2016-01-13', '50.000000', '50.000000', '50.000000', '50.000000', '50.000000', '5200']\n",
      "['2016-01-14', '50.000000', '50.000000', '50.000000', '50.000000', '50.000000', '500']\n",
      "['2016-01-15', '50.000000', '50.000000', '50.000000', '50.000000', '50.000000', '0']\n",
      "['2016-01-18', '50.000000', '50.000000', '50.000000', '50.000000', '50.000000', '110300']\n",
      "['2016-01-19', '50.000000', '50.000000', '50.000000', '50.000000', '50.000000', '5000']\n",
      "['2016-01-20', '50.000000', '50.000000', '50.000000', '50.000000', '50.000000', '6500']\n",
      "['2016-01-21', '50.000000', '50.000000', '50.000000', '50.000000', '50.000000', '1100']\n",
      "['2016-01-22', '50.000000', '50.000000', '50.000000', '50.000000', '50.000000', '0']\n",
      "['2016-01-25', '50.000000', '50.000000', '50.000000', '50.000000', '50.000000', '3900']\n",
      "['2016-01-26', '50.000000', '50.000000', '50.000000', '50.000000', '50.000000', '7100']\n",
      "['2016-01-27', '50.000000', '50.000000', '50.000000', '50.000000', '50.000000', '324900']\n",
      "['2016-01-28', '50.000000', '50.000000', '50.000000', '50.000000', '50.000000', '25600']\n",
      "['2016-01-29', '50.000000', '50.000000', '50.000000', '50.000000', '50.000000', '63500']\n",
      "['2016-02-01', '50.000000', '50.000000', '50.000000', '50.000000', '50.000000', '2100']\n",
      "['2016-02-02', '50.000000', '50.000000', '50.000000', '50.000000', '50.000000', '171500']\n",
      "['2016-02-03', '50.000000', '50.000000', '50.000000', '50.000000', '50.000000', '1600']\n",
      "['2016-02-04', '50.000000', '50.000000', '50.000000', '50.000000', '50.000000', '600']\n",
      "['2016-02-05', '50.000000', '50.000000', '50.000000', '50.000000', '50.000000', '42600']\n",
      "['2016-02-09', '50.000000', '50.000000', '50.000000', '50.000000', '50.000000', '106900']\n",
      "['2016-02-10', '50.000000', '50.000000', '50.000000', '50.000000', '50.000000', '303900']\n",
      "['2016-02-11', '50.000000', '50.000000', '50.000000', '50.000000', '50.000000', '16400']\n",
      "['2016-02-12', '50.000000', '50.000000', '50.000000', '50.000000', '50.000000', '1000']\n",
      "['2016-02-15', '50.000000', '50.000000', '50.000000', '50.000000', '50.000000', '4000']\n",
      "['2016-02-16', '50.000000', '50.000000', '50.000000', '50.000000', '50.000000', '0']\n",
      "['2016-02-17', '50.000000', '50.000000', '50.000000', '50.000000', '50.000000', '200']\n",
      "['2016-02-18', '50.000000', '50.000000', '50.000000', '50.000000', '50.000000', '10000']\n",
      "['2016-02-19', '50.000000', '50.000000', '50.000000', '50.000000', '50.000000', '0']\n",
      "['2016-02-22', '50.000000', '50.000000', '50.000000', '50.000000', '50.000000', '32400']\n",
      "['2016-02-23', '50.000000', '50.000000', '50.000000', '50.000000', '50.000000', '20700']\n",
      "['2016-02-24', '50.000000', '50.000000', '50.000000', '50.000000', '50.000000', '0']\n",
      "['2016-02-25', '50.000000', '50.000000', '50.000000', '50.000000', '50.000000', '27100']\n",
      "['2016-02-26', '50.000000', '50.000000', '50.000000', '50.000000', '50.000000', '200']\n",
      "['2016-02-29', '50.000000', '55.000000', '50.000000', '52.000000', '52.000000', '1091900']\n",
      "['2016-03-01', '52.000000', '70.000000', '52.000000', '70.000000', '70.000000', '14460000']\n",
      "['2016-03-02', '72.000000', '94.000000', '67.000000', '87.000000', '87.000000', '7791100']\n",
      "['2016-03-03', '87.000000', '92.000000', '80.000000', '82.000000', '82.000000', '1292600']\n",
      "['2016-03-04', '82.000000', '84.000000', '78.000000', '82.000000', '82.000000', '667400']\n",
      "['2016-03-07', '79.000000', '90.000000', '75.000000', '83.000000', '83.000000', '1165800']\n",
      "['2016-03-08', '83.000000', '89.000000', '80.000000', '84.000000', '84.000000', '1500100']\n",
      "['2016-03-10', '83.000000', '87.000000', '83.000000', '86.000000', '86.000000', '530200']\n",
      "['2016-03-11', '86.000000', '86.000000', '86.000000', '86.000000', '86.000000', '0']\n",
      "['2016-03-14', '86.000000', '86.000000', '86.000000', '86.000000', '86.000000', '0']\n",
      "['2016-03-15', '84.000000', '84.000000', '81.000000', '82.000000', '82.000000', '89600']\n",
      "['2016-03-16', '82.000000', '88.000000', '80.000000', '85.000000', '85.000000', '472600']\n",
      "['2016-03-17', '89.000000', '105.000000', '85.000000', '93.000000', '93.000000', '6122100']\n",
      "['2016-03-18', '95.000000', '100.000000', '90.000000', '93.000000', '93.000000', '1246000']\n",
      "['2016-03-21', '93.000000', '97.000000', '91.000000', '94.000000', '94.000000', '785600']\n",
      "['2016-03-22', '93.000000', '97.000000', '92.000000', '97.000000', '97.000000', '1566300']\n",
      "['2016-03-23', '97.000000', '103.000000', '95.000000', '96.000000', '96.000000', '30292200']\n",
      "['2016-03-24', '97.000000', '101.000000', '92.000000', '95.000000', '95.000000', '2011300']\n",
      "['2016-03-28', '97.000000', '97.000000', '86.000000', '91.000000', '91.000000', '1604500']\n",
      "['2016-03-29', '95.000000', '95.000000', '84.000000', '84.000000', '84.000000', '624500']\n",
      "['2016-03-30', '89.000000', '89.000000', '78.000000', '80.000000', '80.000000', '1949800']\n",
      "['2016-03-31', '83.000000', '83.000000', '78.000000', '81.000000', '81.000000', '198600']\n",
      "['2016-04-01', '81.000000', '81.000000', '74.000000', '78.000000', '78.000000', '208400']\n",
      "['2016-04-04', '78.000000', '81.000000', '77.000000', '78.000000', '78.000000', '399700']\n",
      "['2016-04-05', '80.000000', '82.000000', '78.000000', '79.000000', '79.000000', '140900']\n",
      "['2016-04-06', '79.000000', '84.000000', '79.000000', '81.000000', '81.000000', '185500']\n",
      "['2016-04-07', '85.000000', '90.000000', '83.000000', '83.000000', '83.000000', '1427700']\n",
      "['2016-04-08', '85.000000', '89.000000', '83.000000', '84.000000', '84.000000', '704700']\n",
      "['2016-04-11', '84.000000', '84.000000', '84.000000', '84.000000', '84.000000', '0']\n",
      "['2016-04-12', '104.000000', '130.000000', '99.000000', '124.000000', '124.000000', '51377800']\n",
      "['2016-04-13', '124.000000', '124.000000', '124.000000', '124.000000', '124.000000', '0']\n",
      "['2016-04-14', '124.000000', '124.000000', '124.000000', '124.000000', '124.000000', '0']\n",
      "['2016-04-15', '124.000000', '124.000000', '124.000000', '124.000000', '124.000000', '0']\n",
      "['2016-04-18', '124.000000', '124.000000', '124.000000', '124.000000', '124.000000', '0']\n",
      "['2016-04-19', '124.000000', '124.000000', '124.000000', '124.000000', '124.000000', '0']\n",
      "['2016-04-20', '124.000000', '124.000000', '124.000000', '124.000000', '124.000000', '0']\n",
      "['2016-04-21', '124.000000', '124.000000', '124.000000', '124.000000', '124.000000', '0']\n",
      "['2016-04-22', '124.000000', '124.000000', '124.000000', '124.000000', '124.000000', '0']\n",
      "['2016-04-25', '124.000000', '124.000000', '124.000000', '124.000000', '124.000000', '0']\n",
      "['2016-04-26', '213.000000', '247.000000', '213.000000', '240.000000', '240.000000', '38310900']\n",
      "['2016-04-27', '264.000000', '264.000000', '242.000000', '245.000000', '245.000000', '25173700']\n",
      "['2016-04-28', '245.000000', '255.000000', '221.000000', '221.000000', '221.000000', '13952800']\n",
      "['2016-04-29', '221.000000', '250.000000', '201.000000', '236.000000', '236.000000', '28106200']\n",
      "['2016-05-02', '236.000000', '244.000000', '216.000000', '226.000000', '226.000000', '7612800']\n",
      "['2016-05-03', '228.000000', '236.000000', '222.000000', '222.000000', '222.000000', '20096900']\n"
     ]
    }
   ],
   "source": [
    "# extract the csv data\n",
    "file = StringIO(response.text)\n",
    "reader = csv.reader(file)\n",
    "data = list(reader)\n",
    "\n",
    "# show the first 5 records\n",
    "for row in data[:100]:\n",
    "    print(row)\n",
    "    \n",
    "   "
   ]
  },
  {
   "cell_type": "code",
   "execution_count": 45,
   "metadata": {
    "ExecuteTime": {
     "end_time": "2020-12-08T10:09:42.635352Z",
     "start_time": "2020-12-08T10:09:42.595308Z"
    }
   },
   "outputs": [
    {
     "data": {
      "text/html": [
       "<div>\n",
       "<style scoped>\n",
       "    .dataframe tbody tr th:only-of-type {\n",
       "        vertical-align: middle;\n",
       "    }\n",
       "\n",
       "    .dataframe tbody tr th {\n",
       "        vertical-align: top;\n",
       "    }\n",
       "\n",
       "    .dataframe thead th {\n",
       "        text-align: right;\n",
       "    }\n",
       "</style>\n",
       "<table border=\"1\" class=\"dataframe\">\n",
       "  <thead>\n",
       "    <tr style=\"text-align: right;\">\n",
       "      <th></th>\n",
       "      <th>Date</th>\n",
       "      <th>Open</th>\n",
       "      <th>High</th>\n",
       "      <th>Low</th>\n",
       "      <th>Close</th>\n",
       "      <th>Adj Close</th>\n",
       "      <th>Volume</th>\n",
       "    </tr>\n",
       "  </thead>\n",
       "  <tbody>\n",
       "    <tr>\n",
       "      <th>1</th>\n",
       "      <td>2015-12-08</td>\n",
       "      <td>50.000000</td>\n",
       "      <td>50.000000</td>\n",
       "      <td>50.000000</td>\n",
       "      <td>50.000000</td>\n",
       "      <td>50.000000</td>\n",
       "      <td>11200</td>\n",
       "    </tr>\n",
       "    <tr>\n",
       "      <th>2</th>\n",
       "      <td>2015-12-09</td>\n",
       "      <td>50.000000</td>\n",
       "      <td>50.000000</td>\n",
       "      <td>50.000000</td>\n",
       "      <td>50.000000</td>\n",
       "      <td>50.000000</td>\n",
       "      <td>0</td>\n",
       "    </tr>\n",
       "    <tr>\n",
       "      <th>3</th>\n",
       "      <td>2015-12-10</td>\n",
       "      <td>50.000000</td>\n",
       "      <td>50.000000</td>\n",
       "      <td>50.000000</td>\n",
       "      <td>50.000000</td>\n",
       "      <td>50.000000</td>\n",
       "      <td>1500</td>\n",
       "    </tr>\n",
       "    <tr>\n",
       "      <th>4</th>\n",
       "      <td>2015-12-11</td>\n",
       "      <td>50.000000</td>\n",
       "      <td>50.000000</td>\n",
       "      <td>50.000000</td>\n",
       "      <td>50.000000</td>\n",
       "      <td>50.000000</td>\n",
       "      <td>200</td>\n",
       "    </tr>\n",
       "    <tr>\n",
       "      <th>5</th>\n",
       "      <td>2015-12-14</td>\n",
       "      <td>50.000000</td>\n",
       "      <td>50.000000</td>\n",
       "      <td>50.000000</td>\n",
       "      <td>50.000000</td>\n",
       "      <td>50.000000</td>\n",
       "      <td>0</td>\n",
       "    </tr>\n",
       "    <tr>\n",
       "      <th>...</th>\n",
       "      <td>...</td>\n",
       "      <td>...</td>\n",
       "      <td>...</td>\n",
       "      <td>...</td>\n",
       "      <td>...</td>\n",
       "      <td>...</td>\n",
       "      <td>...</td>\n",
       "    </tr>\n",
       "    <tr>\n",
       "      <th>1259</th>\n",
       "      <td>2020-12-02</td>\n",
       "      <td>1020.000000</td>\n",
       "      <td>1080.000000</td>\n",
       "      <td>1015.000000</td>\n",
       "      <td>1070.000000</td>\n",
       "      <td>1070.000000</td>\n",
       "      <td>13896100</td>\n",
       "    </tr>\n",
       "    <tr>\n",
       "      <th>1260</th>\n",
       "      <td>2020-12-03</td>\n",
       "      <td>1070.000000</td>\n",
       "      <td>1140.000000</td>\n",
       "      <td>1060.000000</td>\n",
       "      <td>1095.000000</td>\n",
       "      <td>1095.000000</td>\n",
       "      <td>18923600</td>\n",
       "    </tr>\n",
       "    <tr>\n",
       "      <th>1261</th>\n",
       "      <td>2020-12-04</td>\n",
       "      <td>1105.000000</td>\n",
       "      <td>1115.000000</td>\n",
       "      <td>1075.000000</td>\n",
       "      <td>1085.000000</td>\n",
       "      <td>1085.000000</td>\n",
       "      <td>7304500</td>\n",
       "    </tr>\n",
       "    <tr>\n",
       "      <th>1262</th>\n",
       "      <td>2020-12-07</td>\n",
       "      <td>1100.000000</td>\n",
       "      <td>1355.000000</td>\n",
       "      <td>1100.000000</td>\n",
       "      <td>1355.000000</td>\n",
       "      <td>1355.000000</td>\n",
       "      <td>39473900</td>\n",
       "    </tr>\n",
       "    <tr>\n",
       "      <th>1263</th>\n",
       "      <td>2020-12-08</td>\n",
       "      <td>1420.000000</td>\n",
       "      <td>1690.000000</td>\n",
       "      <td>1420.000000</td>\n",
       "      <td>1690.000000</td>\n",
       "      <td>1690.000000</td>\n",
       "      <td>43702400</td>\n",
       "    </tr>\n",
       "  </tbody>\n",
       "</table>\n",
       "<p>1263 rows × 7 columns</p>\n",
       "</div>"
      ],
      "text/plain": [
       "0           Date         Open         High          Low        Close  \\\n",
       "1     2015-12-08    50.000000    50.000000    50.000000    50.000000   \n",
       "2     2015-12-09    50.000000    50.000000    50.000000    50.000000   \n",
       "3     2015-12-10    50.000000    50.000000    50.000000    50.000000   \n",
       "4     2015-12-11    50.000000    50.000000    50.000000    50.000000   \n",
       "5     2015-12-14    50.000000    50.000000    50.000000    50.000000   \n",
       "...          ...          ...          ...          ...          ...   \n",
       "1259  2020-12-02  1020.000000  1080.000000  1015.000000  1070.000000   \n",
       "1260  2020-12-03  1070.000000  1140.000000  1060.000000  1095.000000   \n",
       "1261  2020-12-04  1105.000000  1115.000000  1075.000000  1085.000000   \n",
       "1262  2020-12-07  1100.000000  1355.000000  1100.000000  1355.000000   \n",
       "1263  2020-12-08  1420.000000  1690.000000  1420.000000  1690.000000   \n",
       "\n",
       "0       Adj Close    Volume  \n",
       "1       50.000000     11200  \n",
       "2       50.000000         0  \n",
       "3       50.000000      1500  \n",
       "4       50.000000       200  \n",
       "5       50.000000         0  \n",
       "...           ...       ...  \n",
       "1259  1070.000000  13896100  \n",
       "1260  1095.000000  18923600  \n",
       "1261  1085.000000   7304500  \n",
       "1262  1355.000000  39473900  \n",
       "1263  1690.000000  43702400  \n",
       "\n",
       "[1263 rows x 7 columns]"
      ]
     },
     "execution_count": 45,
     "metadata": {},
     "output_type": "execute_result"
    }
   ],
   "source": [
    "price_history=pd.DataFrame(data)\n",
    "new_header = price_history.iloc[0] #grab the first row for the header\n",
    "price_history = price_history[1:] #take the data less the header row\n",
    "price_history.columns = new_header #set the header row as the price_history header\n",
    "price_history"
   ]
  },
  {
   "cell_type": "markdown",
   "metadata": {},
   "source": [
    "# Compile to 1 Excel Sheet"
   ]
  },
  {
   "cell_type": "code",
   "execution_count": 46,
   "metadata": {
    "ExecuteTime": {
     "end_time": "2020-12-08T10:09:44.636240Z",
     "start_time": "2020-12-08T10:09:44.612235Z"
    }
   },
   "outputs": [
    {
     "data": {
      "text/html": [
       "<div>\n",
       "<style scoped>\n",
       "    .dataframe tbody tr th:only-of-type {\n",
       "        vertical-align: middle;\n",
       "    }\n",
       "\n",
       "    .dataframe tbody tr th {\n",
       "        vertical-align: top;\n",
       "    }\n",
       "\n",
       "    .dataframe thead th {\n",
       "        text-align: right;\n",
       "    }\n",
       "</style>\n",
       "<table border=\"1\" class=\"dataframe\">\n",
       "  <thead>\n",
       "    <tr style=\"text-align: right;\">\n",
       "      <th></th>\n",
       "      <th>indicator</th>\n",
       "      <th>last</th>\n",
       "    </tr>\n",
       "  </thead>\n",
       "  <tbody>\n",
       "    <tr>\n",
       "      <th>0</th>\n",
       "      <td>previousClose</td>\n",
       "      <td>1,355.00</td>\n",
       "    </tr>\n",
       "    <tr>\n",
       "      <th>1</th>\n",
       "      <td>regularMarketOpen</td>\n",
       "      <td>1,420.00</td>\n",
       "    </tr>\n",
       "    <tr>\n",
       "      <th>2</th>\n",
       "      <td>twoHundredDayAverage</td>\n",
       "      <td>722.49</td>\n",
       "    </tr>\n",
       "    <tr>\n",
       "      <th>3</th>\n",
       "      <td>payoutRatio</td>\n",
       "      <td>0.00%</td>\n",
       "    </tr>\n",
       "    <tr>\n",
       "      <th>4</th>\n",
       "      <td>regularMarketDayHigh</td>\n",
       "      <td>1,690.00</td>\n",
       "    </tr>\n",
       "    <tr>\n",
       "      <th>5</th>\n",
       "      <td>averageDailyVolume10Day</td>\n",
       "      <td>10.53M</td>\n",
       "    </tr>\n",
       "    <tr>\n",
       "      <th>6</th>\n",
       "      <td>regularMarketPreviousClose</td>\n",
       "      <td>1,355.00</td>\n",
       "    </tr>\n",
       "    <tr>\n",
       "      <th>7</th>\n",
       "      <td>fiftyDayAverage</td>\n",
       "      <td>877.35</td>\n",
       "    </tr>\n",
       "    <tr>\n",
       "      <th>8</th>\n",
       "      <td>open</td>\n",
       "      <td>1,420.00</td>\n",
       "    </tr>\n",
       "    <tr>\n",
       "      <th>9</th>\n",
       "      <td>averageVolume10days</td>\n",
       "      <td>10.53M</td>\n",
       "    </tr>\n",
       "    <tr>\n",
       "      <th>10</th>\n",
       "      <td>exDividendDate</td>\n",
       "      <td>2014-04-30</td>\n",
       "    </tr>\n",
       "    <tr>\n",
       "      <th>11</th>\n",
       "      <td>beta</td>\n",
       "      <td>1.12</td>\n",
       "    </tr>\n",
       "    <tr>\n",
       "      <th>12</th>\n",
       "      <td>regularMarketDayLow</td>\n",
       "      <td>1,420.00</td>\n",
       "    </tr>\n",
       "    <tr>\n",
       "      <th>13</th>\n",
       "      <td>regularMarketVolume</td>\n",
       "      <td>43.7M</td>\n",
       "    </tr>\n",
       "    <tr>\n",
       "      <th>14</th>\n",
       "      <td>marketCap</td>\n",
       "      <td>4.35T</td>\n",
       "    </tr>\n",
       "    <tr>\n",
       "      <th>15</th>\n",
       "      <td>averageVolume</td>\n",
       "      <td>7.86M</td>\n",
       "    </tr>\n",
       "    <tr>\n",
       "      <th>16</th>\n",
       "      <td>priceToSalesTrailing12Months</td>\n",
       "      <td>29,928.65</td>\n",
       "    </tr>\n",
       "    <tr>\n",
       "      <th>17</th>\n",
       "      <td>dayLow</td>\n",
       "      <td>1,420.00</td>\n",
       "    </tr>\n",
       "    <tr>\n",
       "      <th>18</th>\n",
       "      <td>ask</td>\n",
       "      <td>0.00</td>\n",
       "    </tr>\n",
       "    <tr>\n",
       "      <th>19</th>\n",
       "      <td>volume</td>\n",
       "      <td>43.7M</td>\n",
       "    </tr>\n",
       "    <tr>\n",
       "      <th>20</th>\n",
       "      <td>fiftyTwoWeekHigh</td>\n",
       "      <td>1,690.00</td>\n",
       "    </tr>\n",
       "    <tr>\n",
       "      <th>21</th>\n",
       "      <td>fiftyTwoWeekLow</td>\n",
       "      <td>240.00</td>\n",
       "    </tr>\n",
       "    <tr>\n",
       "      <th>22</th>\n",
       "      <td>bid</td>\n",
       "      <td>1,690.00</td>\n",
       "    </tr>\n",
       "    <tr>\n",
       "      <th>23</th>\n",
       "      <td>dayHigh</td>\n",
       "      <td>1,690.00</td>\n",
       "    </tr>\n",
       "  </tbody>\n",
       "</table>\n",
       "</div>"
      ],
      "text/plain": [
       "                       indicator        last\n",
       "0                  previousClose    1,355.00\n",
       "1              regularMarketOpen    1,420.00\n",
       "2           twoHundredDayAverage      722.49\n",
       "3                    payoutRatio       0.00%\n",
       "4           regularMarketDayHigh    1,690.00\n",
       "5        averageDailyVolume10Day      10.53M\n",
       "6     regularMarketPreviousClose    1,355.00\n",
       "7                fiftyDayAverage      877.35\n",
       "8                           open    1,420.00\n",
       "9            averageVolume10days      10.53M\n",
       "10                exDividendDate  2014-04-30\n",
       "11                          beta        1.12\n",
       "12           regularMarketDayLow    1,420.00\n",
       "13           regularMarketVolume       43.7M\n",
       "14                     marketCap       4.35T\n",
       "15                 averageVolume       7.86M\n",
       "16  priceToSalesTrailing12Months   29,928.65\n",
       "17                        dayLow    1,420.00\n",
       "18                           ask        0.00\n",
       "19                        volume       43.7M\n",
       "20              fiftyTwoWeekHigh    1,690.00\n",
       "21               fiftyTwoWeekLow      240.00\n",
       "22                           bid    1,690.00\n",
       "23                       dayHigh    1,690.00"
      ]
     },
     "execution_count": 46,
     "metadata": {},
     "output_type": "execute_result"
    }
   ],
   "source": [
    "stock_data=stock_data.T.reset_index()\n",
    "stock_data.columns=['indicator','last']\n",
    "stock_data"
   ]
  },
  {
   "cell_type": "code",
   "execution_count": 47,
   "metadata": {
    "ExecuteTime": {
     "end_time": "2020-12-08T10:09:45.107313Z",
     "start_time": "2020-12-08T10:09:45.083590Z"
    }
   },
   "outputs": [
    {
     "data": {
      "text/html": [
       "<div>\n",
       "<style scoped>\n",
       "    .dataframe tbody tr th:only-of-type {\n",
       "        vertical-align: middle;\n",
       "    }\n",
       "\n",
       "    .dataframe tbody tr th {\n",
       "        vertical-align: top;\n",
       "    }\n",
       "\n",
       "    .dataframe thead th {\n",
       "        text-align: right;\n",
       "    }\n",
       "</style>\n",
       "<table border=\"1\" class=\"dataframe\">\n",
       "  <thead>\n",
       "    <tr style=\"text-align: right;\">\n",
       "      <th></th>\n",
       "      <th>indicator</th>\n",
       "      <th>last</th>\n",
       "    </tr>\n",
       "  </thead>\n",
       "  <tbody>\n",
       "    <tr>\n",
       "      <th>0</th>\n",
       "      <td>enterpriseToRevenue</td>\n",
       "      <td>23,528.92</td>\n",
       "    </tr>\n",
       "    <tr>\n",
       "      <th>1</th>\n",
       "      <td>profitMargins</td>\n",
       "      <td>-0.15%</td>\n",
       "    </tr>\n",
       "    <tr>\n",
       "      <th>2</th>\n",
       "      <td>enterpriseToEbitda</td>\n",
       "      <td>999,728.38</td>\n",
       "    </tr>\n",
       "    <tr>\n",
       "      <th>3</th>\n",
       "      <td>52WeekChange</td>\n",
       "      <td>198.08%</td>\n",
       "    </tr>\n",
       "    <tr>\n",
       "      <th>4</th>\n",
       "      <td>sharesOutstanding</td>\n",
       "      <td>2.52B</td>\n",
       "    </tr>\n",
       "    <tr>\n",
       "      <th>5</th>\n",
       "      <td>bookValue</td>\n",
       "      <td>0.02</td>\n",
       "    </tr>\n",
       "    <tr>\n",
       "      <th>6</th>\n",
       "      <td>lastFiscalYearEnd</td>\n",
       "      <td>2019-12-31</td>\n",
       "    </tr>\n",
       "    <tr>\n",
       "      <th>7</th>\n",
       "      <td>heldPercentInstitutions</td>\n",
       "      <td>0.00%</td>\n",
       "    </tr>\n",
       "    <tr>\n",
       "      <th>8</th>\n",
       "      <td>netIncomeToCommon</td>\n",
       "      <td>-214.04k</td>\n",
       "    </tr>\n",
       "    <tr>\n",
       "      <th>9</th>\n",
       "      <td>trailingEps</td>\n",
       "      <td>-0.00</td>\n",
       "    </tr>\n",
       "    <tr>\n",
       "      <th>10</th>\n",
       "      <td>lastDividendValue</td>\n",
       "      <td>0.48</td>\n",
       "    </tr>\n",
       "    <tr>\n",
       "      <th>11</th>\n",
       "      <td>SandP52WeekChange</td>\n",
       "      <td>17.86%</td>\n",
       "    </tr>\n",
       "    <tr>\n",
       "      <th>12</th>\n",
       "      <td>priceToBook</td>\n",
       "      <td>93,888.89</td>\n",
       "    </tr>\n",
       "    <tr>\n",
       "      <th>13</th>\n",
       "      <td>heldPercentInsiders</td>\n",
       "      <td>85.42%</td>\n",
       "    </tr>\n",
       "    <tr>\n",
       "      <th>14</th>\n",
       "      <td>nextFiscalYearEnd</td>\n",
       "      <td>2021-12-31</td>\n",
       "    </tr>\n",
       "    <tr>\n",
       "      <th>15</th>\n",
       "      <td>mostRecentQuarter</td>\n",
       "      <td>2020-09-30</td>\n",
       "    </tr>\n",
       "    <tr>\n",
       "      <th>16</th>\n",
       "      <td>floatShares</td>\n",
       "      <td>628.11M</td>\n",
       "    </tr>\n",
       "    <tr>\n",
       "      <th>17</th>\n",
       "      <td>beta</td>\n",
       "      <td>1.12</td>\n",
       "    </tr>\n",
       "    <tr>\n",
       "      <th>18</th>\n",
       "      <td>enterpriseValue</td>\n",
       "      <td>3.42T</td>\n",
       "    </tr>\n",
       "    <tr>\n",
       "      <th>19</th>\n",
       "      <td>lastDividendDate</td>\n",
       "      <td>2014-04-30</td>\n",
       "    </tr>\n",
       "  </tbody>\n",
       "</table>\n",
       "</div>"
      ],
      "text/plain": [
       "                  indicator        last\n",
       "0       enterpriseToRevenue   23,528.92\n",
       "1             profitMargins      -0.15%\n",
       "2        enterpriseToEbitda  999,728.38\n",
       "3              52WeekChange     198.08%\n",
       "4         sharesOutstanding       2.52B\n",
       "5                 bookValue        0.02\n",
       "6         lastFiscalYearEnd  2019-12-31\n",
       "7   heldPercentInstitutions       0.00%\n",
       "8         netIncomeToCommon    -214.04k\n",
       "9               trailingEps       -0.00\n",
       "10        lastDividendValue        0.48\n",
       "11        SandP52WeekChange      17.86%\n",
       "12              priceToBook   93,888.89\n",
       "13      heldPercentInsiders      85.42%\n",
       "14        nextFiscalYearEnd  2021-12-31\n",
       "15        mostRecentQuarter  2020-09-30\n",
       "16              floatShares     628.11M\n",
       "17                     beta        1.12\n",
       "18          enterpriseValue       3.42T\n",
       "19         lastDividendDate  2014-04-30"
      ]
     },
     "execution_count": 47,
     "metadata": {},
     "output_type": "execute_result"
    }
   ],
   "source": [
    "Stats=Stats.T.reset_index()\n",
    "Stats.columns=['indicator','last']\n",
    "Stats"
   ]
  },
  {
   "cell_type": "code",
   "execution_count": 48,
   "metadata": {
    "ExecuteTime": {
     "end_time": "2020-12-08T10:09:46.584040Z",
     "start_time": "2020-12-08T10:09:46.408038Z"
    }
   },
   "outputs": [],
   "source": [
    "#change columns to numeric\n",
    "cols = ['Open','High','Low','Close','Adj Close','Volume']\n",
    "price_history[cols] = price_history[cols].apply(pd.to_numeric, errors='coerce', axis=1)"
   ]
  },
  {
   "cell_type": "code",
   "execution_count": 50,
   "metadata": {
    "ExecuteTime": {
     "end_time": "2020-12-08T10:10:16.731075Z",
     "start_time": "2020-12-08T10:10:16.723075Z"
    }
   },
   "outputs": [],
   "source": [
    "# function\n",
    "def dfs_tabs(df_list, sheet_list, file_name):\n",
    "    writer = pd.ExcelWriter(file_name,engine='xlsxwriter')   \n",
    "    for dataframe, sheet in zip(df_list, sheet_list):\n",
    "        dataframe.to_excel(writer, sheet_name=sheet, startrow=0 , startcol=0)   \n",
    "    writer.save()\n",
    "\n",
    "# list of dataframes and sheet names\n",
    "dfs = [annual_income_statement,annual_bs_statement,annual_cf_statement,\n",
    "       quarterly_income_statement,quarterly_bs_statement, quarterly_bs_statement,\n",
    "       stock_data,Stats, price_history]\n",
    "sheets = ['IS-Annual','BS-Annual','CF-Annual','IS-Quarterly','BS-Quarterly','CF-Quarterly',\n",
    "          'Stock Data','Stats','Stock Price History']    "
   ]
  },
  {
   "cell_type": "code",
   "execution_count": null,
   "metadata": {
    "ExecuteTime": {
     "end_time": "2020-12-08T10:10:13.935933Z",
     "start_time": "2020-12-08T10:10:07.645Z"
    }
   },
   "outputs": [],
   "source": [
    "stock=input()"
   ]
  },
  {
   "cell_type": "code",
   "execution_count": 51,
   "metadata": {
    "ExecuteTime": {
     "end_time": "2020-12-08T10:10:28.925748Z",
     "start_time": "2020-12-08T10:10:28.693535Z"
    }
   },
   "outputs": [],
   "source": [
    "# run function\n",
    "dfs_tabs(dfs, sheets, 'NIKL Stock Analysis.xlsx')"
   ]
  }
 ],
 "metadata": {
  "kernelspec": {
   "display_name": "Python 3",
   "language": "python",
   "name": "python3"
  },
  "language_info": {
   "codemirror_mode": {
    "name": "ipython",
    "version": 3
   },
   "file_extension": ".py",
   "mimetype": "text/x-python",
   "name": "python",
   "nbconvert_exporter": "python",
   "pygments_lexer": "ipython3",
   "version": "3.8.3"
  },
  "toc": {
   "base_numbering": 1,
   "nav_menu": {},
   "number_sections": true,
   "sideBar": true,
   "skip_h1_title": false,
   "title_cell": "Table of Contents",
   "title_sidebar": "Contents",
   "toc_cell": false,
   "toc_position": {
    "height": "calc(100% - 180px)",
    "left": "10px",
    "top": "150px",
    "width": "299.2px"
   },
   "toc_section_display": true,
   "toc_window_display": true
  }
 },
 "nbformat": 4,
 "nbformat_minor": 4
}
