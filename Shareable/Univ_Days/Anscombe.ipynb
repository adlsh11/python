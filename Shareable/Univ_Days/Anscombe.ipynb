{
 "cells": [
  {
   "cell_type": "markdown",
   "metadata": {},
   "source": [
    "# Francis Anscombe's Quartett - Why visualization is important\n",
    "\n",
    "https://en.wikipedia.org/wiki/Anscombe%27s_quartet\n",
    "\n",
    "* conda install seaborn"
   ]
  },
  {
   "cell_type": "code",
   "execution_count": null,
   "metadata": {},
   "outputs": [],
   "source": [
    "import seaborn as sns"
   ]
  },
  {
   "cell_type": "code",
   "execution_count": null,
   "metadata": {},
   "outputs": [],
   "source": [
    "# Load the example dataset for Anscombe's quartet\n",
    "df = sns.load_dataset(\"anscombe\")\n",
    "df"
   ]
  },
  {
   "cell_type": "code",
   "execution_count": null,
   "metadata": {
    "scrolled": true
   },
   "outputs": [],
   "source": [
    "set1=df[df[\"dataset\"]==\"I\"]\n",
    "set2=df[df[\"dataset\"]==\"II\"]\n",
    "set3=df[df[\"dataset\"]==\"III\"]\n",
    "set4=df[df[\"dataset\"]==\"IV\"]\n",
    "set2"
   ]
  },
  {
   "cell_type": "code",
   "execution_count": null,
   "metadata": {},
   "outputs": [],
   "source": [
    "print(\"Mean set1: {}\".format(set1[\"x\"].mean()))\n",
    "print(\"Mean set2: {}\".format(set2[\"x\"].mean()))\n",
    "print(\"Mean set3: {}\".format(set3[\"x\"].mean()))\n",
    "print(\"Mean set4: {}\".format(set4[\"x\"].mean()))\n",
    "\n",
    "      "
   ]
  },
  {
   "cell_type": "code",
   "execution_count": null,
   "metadata": {},
   "outputs": [],
   "source": [
    "print(\"Variance set1: {}\".format(set1[\"x\"].var()))\n",
    "print(\"Variance set2: {}\".format(set2[\"x\"].var()))\n",
    "print(\"Variance set3: {}\".format(set3[\"x\"].var()))\n",
    "print(\"Variance set4: {}\".format(set4[\"x\"].var()))"
   ]
  },
  {
   "cell_type": "code",
   "execution_count": null,
   "metadata": {},
   "outputs": [],
   "source": [
    "print(\"Correlation set1: {}\".format(set1[[\"x\",\"y\"]].corr()))\n",
    "print(\"Correlation set2: {}\".format(set2[[\"x\",\"y\"]].corr()))\n",
    "print(\"Correlation set3: {}\".format(set3[[\"x\",\"y\"]].corr()))\n",
    "print(\"Correlation set4: {}\".format(set4[[\"x\",\"y\"]].corr()))"
   ]
  },
  {
   "cell_type": "code",
   "execution_count": null,
   "metadata": {},
   "outputs": [],
   "source": [
    "print(\"Covariance set1: {}\".format(set1[[\"x\",\"y\"]].cov()))\n",
    "print(\"Covariance set2: {}\".format(set2[[\"x\",\"y\"]].cov()))\n",
    "print(\"Covariance set3: {}\".format(set3[[\"x\",\"y\"]].cov()))\n",
    "print(\"Covariance set4: {}\".format(set4[[\"x\",\"y\"]].cov()))"
   ]
  },
  {
   "cell_type": "code",
   "execution_count": null,
   "metadata": {},
   "outputs": [],
   "source": [
    "# Show the results of a linear regression within each dataset\n",
    "sns.set(style=\"ticks\")\n",
    "sns.lmplot(x=\"x\", y=\"y\", col=\"dataset\", hue=\"dataset\", data=df,\n",
    "           col_wrap=2, ci=None, palette=\"muted\", height=4,\n",
    "           scatter_kws={\"s\": 50, \"alpha\": 1})"
   ]
  },
  {
   "cell_type": "code",
   "execution_count": null,
   "metadata": {},
   "outputs": [],
   "source": []
  }
 ],
 "metadata": {
  "kernelspec": {
   "display_name": "Python 3",
   "language": "python",
   "name": "python3"
  },
  "language_info": {
   "codemirror_mode": {
    "name": "ipython",
    "version": 3
   },
   "file_extension": ".py",
   "mimetype": "text/x-python",
   "name": "python",
   "nbconvert_exporter": "python",
   "pygments_lexer": "ipython3",
   "version": "3.6.10"
  }
 },
 "nbformat": 4,
 "nbformat_minor": 4
}
