{
 "cells": [
  {
   "cell_type": "markdown",
   "metadata": {
    "toc": true
   },
   "source": [
    "<h1>Table of Contents<span class=\"tocSkip\"></span></h1>\n",
    "<div class=\"toc\"><ul class=\"toc-item\"></ul></div>"
   ]
  },
  {
   "cell_type": "code",
   "execution_count": null,
   "metadata": {},
   "outputs": [],
   "source": [
    "from igramscraper.instagram import Instagram\n",
    "from time import sleep\n",
    "import pandas as pd\n",
    "import requests\n",
    "instagram = Instagram()\n",
    "canyon18 = instagram.get_account('canyon')\n",
    "canyon18.media = instagram.get_medias(\"canyon\", 75)\n",
    "c18 = [cm.__dict__ for cm in canyon18.media]\n",
    "df18 = pd.DataFrame(c18)\n",
    "df18['link']\n",
    "\n",
    "comments_df=pd.DataFrame(columns = [\"link\",\"post_id\", \"comment\"])\n",
    "x1=75;\n",
    "def get_media_id(url):\n",
    "    req = requests.get('https://api.instagram.com/oembed/?url={}'.format(url))\n",
    "    media_id = req.json()['media_id']\n",
    "    return media_id\n",
    "\n",
    "def get_posts(link):\n",
    "    id=get_media_id(link)\n",
    "    comment0 = instagram.get_media_comments_by_id(id, 1000)\n",
    "    cdf=pd.DataFrame(columns = [\"link\",\"post_id\", \"comment\"])\n",
    "    for comment in comment0['comments']:\n",
    "        cdf=cdf.append({\"link\":link,\"post_id\":id,\"comment\":comment.text},ignore_index = True)\n",
    "    return cdf;    \n",
    "   \n",
    "       \n",
    "for index, row in df18.iterrows():\n",
    "    comments_df=comments_df.append(get_posts(row[\"link\"]), ignore_index = True)\n",
    "    sleep(2)\n",
    "\n",
    "comments_df"
   ]
  },
  {
   "cell_type": "code",
   "execution_count": null,
   "metadata": {},
   "outputs": [],
   "source": [
    "comments_df.to_excel('50P1000comments.xlsx')"
   ]
  },
  {
   "cell_type": "code",
   "execution_count": null,
   "metadata": {},
   "outputs": [],
   "source": [
    "#filterdfcopy.loc[filterdfcopy['date'] > '2020-08-07']"
   ]
  }
 ],
 "metadata": {
  "kernelspec": {
   "display_name": "Python 3",
   "language": "python",
   "name": "python3"
  },
  "language_info": {
   "codemirror_mode": {
    "name": "ipython",
    "version": 3
   },
   "file_extension": ".py",
   "mimetype": "text/x-python",
   "name": "python",
   "nbconvert_exporter": "python",
   "pygments_lexer": "ipython3",
   "version": "3.6.10"
  },
  "toc": {
   "base_numbering": 1,
   "nav_menu": {},
   "number_sections": true,
   "sideBar": true,
   "skip_h1_title": false,
   "title_cell": "Table of Contents",
   "title_sidebar": "Contents",
   "toc_cell": true,
   "toc_position": {},
   "toc_section_display": true,
   "toc_window_display": true
  }
 },
 "nbformat": 4,
 "nbformat_minor": 4
}
