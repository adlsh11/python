{
 "cells": [
  {
   "cell_type": "markdown",
   "metadata": {},
   "source": [
    "# Download images from Google Images\n",
    "\n",
    "Note - Doesn't work with the infinity scroll feature"
   ]
  },
  {
   "cell_type": "code",
   "execution_count": null,
   "metadata": {},
   "outputs": [],
   "source": [
    "# conda install beautifulsoup4\n",
    "# pip install requests\n",
    "import requests\n",
    "from bs4 import BeautifulSoup"
   ]
  },
  {
   "cell_type": "code",
   "execution_count": null,
   "metadata": {},
   "outputs": [],
   "source": [
    "# Download all images - Helper method\n",
    "def downloadImage(url, file_name):\n",
    "    # open in binary mode\n",
    "    with open(file_name, \"wb\") as file:\n",
    "        # get request\n",
    "        response = requests.get(url)\n",
    "        # write to file\n",
    "        file.write(response.content)"
   ]
  },
  {
   "cell_type": "code",
   "execution_count": null,
   "metadata": {},
   "outputs": [],
   "source": [
    "url2=\"https://www.google.de/search?q=horses&source=lnms&tbm=isch&sa=X&ved=2ahUKEwiAncKf8bTnAhVLYVAKHbgyBpkQ_AUoAXoECBAQAw&biw=1920&bih=947\"\n",
    "req=requests.get(url2)\n",
    "s1=BeautifulSoup(req.text,\"html\")\n",
    "\n",
    "my_images = s1.findAll(\"img\")\n",
    "i=100;\n",
    "for e in my_images:\n",
    "    if e.has_attr(\"src\"):\n",
    "        image=e[\"src\"]\n",
    "        if \"http\" in image:\n",
    "            downloadImage(image,str(i)+\".jpg\")\n",
    "            i=i+1;\n",
    "            "
   ]
  }
 ],
 "metadata": {
  "kernelspec": {
   "display_name": "Python 3",
   "language": "python",
   "name": "python3"
  },
  "language_info": {
   "codemirror_mode": {
    "name": "ipython",
    "version": 3
   },
   "file_extension": ".py",
   "mimetype": "text/x-python",
   "name": "python",
   "nbconvert_exporter": "python",
   "pygments_lexer": "ipython3",
   "version": "3.6.10"
  }
 },
 "nbformat": 4,
 "nbformat_minor": 4
}
