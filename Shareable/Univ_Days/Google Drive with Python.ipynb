{
 "cells": [
  {
   "cell_type": "code",
   "execution_count": 6,
   "metadata": {},
   "outputs": [
    {
     "ename": "SyntaxError",
     "evalue": "invalid syntax (<ipython-input-6-87f62dfd176a>, line 1)",
     "output_type": "error",
     "traceback": [
      "\u001b[1;36m  File \u001b[1;32m\"<ipython-input-6-87f62dfd176a>\"\u001b[1;36m, line \u001b[1;32m1\u001b[0m\n\u001b[1;33m    pip install git+https://github.com/googledrive/PyDrive.git#egg=PyDrive\u001b[0m\n\u001b[1;37m              ^\u001b[0m\n\u001b[1;31mSyntaxError\u001b[0m\u001b[1;31m:\u001b[0m invalid syntax\n"
     ]
    }
   ],
   "source": [
    "pip install git+https://github.com/googledrive/PyDrive.git#egg=PyDrive\n",
    "from pydrive.auth import GoogleAuth\n",
    "from pydrive.drive import GoogleDrive\n",
    "\n",
    "gauth = GoogleAuth()\n",
    "gauth.LocalWebserverAuth() # client_secrets.json need to be in the same directory as the script\n",
    "drive = GoogleDrive(gauth)"
   ]
  },
  {
   "cell_type": "code",
   "execution_count": null,
   "metadata": {},
   "outputs": [],
   "source": [
    "\n",
    "\n",
    "# View all folders and file in your Google Drive\n",
    "fileList = drive.ListFile({'q': \"'root' in parents and trashed=false\"}).GetList()\n",
    "for file in fileList:\n",
    "  print('Title: %s, ID: %s' % (file['title'], file['id']))\n",
    "  # Get the folder ID that you want\n",
    "  if(file['title'] == \"To Share\"):\n",
    "      fileID = file['id']\n",
    "\n",
    "\n",
    "# Initialize GoogleDriveFile instance with file id.\n",
    "file1 = drive.CreateFile({\"mimeType\": \"text/csv\", \"parents\": [{\"kind\": \"drive#fileLink\", \"id\": fileID}]})\n",
    "file1.SetContentFile(\"small_file.csv\")\n",
    "file1.Upload() # Upload the file.\n",
    "print('Created file %s with mimeType %s' % (file1['title'], file1['mimeType']))\n",
    "\n",
    "\n",
    "\"\"\"\n",
    "file_list = drive.ListFile({'q': \"'<folder ID>' in parents and trashed=false\"}).GetList()\n",
    "\"\"\"\n",
    "fileList = drive.ListFile({'q': \"'2mavWSQhVfr7GnX2JHa45Qd43bTaYCHXE' in parents and trashed=false\"}).GetList()\n",
    "for file in fileList:\n",
    "  print('Title: %s, ID: %s' % (file['title'], file['id']))\n",
    "   # Get the folder ID that you want\n",
    "  if(file['title'] == \"picture\"):\n",
    "      fileID = file['id']\n",
    "\n",
    "\n",
    "# Initialize GoogleDriveFile instance with file id.\n",
    "file2 = drive.CreateFile({'id': fileID})\n",
    "file2.Trash()  # Move file to trash.\n",
    "file2.UnTrash()  # Move file out of trash.\n",
    "file2.Delete()  # Permanently delete the file.\n"
   ]
  }
 ],
 "metadata": {
  "kernelspec": {
   "display_name": "Python 3",
   "language": "python",
   "name": "python3"
  },
  "language_info": {
   "codemirror_mode": {
    "name": "ipython",
    "version": 3
   },
   "file_extension": ".py",
   "mimetype": "text/x-python",
   "name": "python",
   "nbconvert_exporter": "python",
   "pygments_lexer": "ipython3",
   "version": "3.6.10"
  }
 },
 "nbformat": 4,
 "nbformat_minor": 4
}
