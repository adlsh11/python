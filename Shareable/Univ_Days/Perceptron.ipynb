{
 "cells": [
  {
   "cell_type": "markdown",
   "metadata": {},
   "source": [
    "# The Perceptron (Part 1)\n",
    "\n",
    "Explore the the set of problems a single neuron / perceptron can do"
   ]
  },
  {
   "cell_type": "code",
   "execution_count": null,
   "metadata": {},
   "outputs": [],
   "source": [
    "import numpy as np"
   ]
  },
  {
   "cell_type": "code",
   "execution_count": null,
   "metadata": {},
   "outputs": [],
   "source": [
    "def HeavisideFunction(param):\n",
    "    return 1 if (param>0) else 0\n",
    "\n",
    "# We use this comments later\n",
    "# retrun x\n",
    "# return 1/(1 + np.exp(-x))"
   ]
  },
  {
   "cell_type": "code",
   "execution_count": null,
   "metadata": {},
   "outputs": [],
   "source": [
    "def perceptron(x, w, b):\n",
    "    return HeavisideFunction(np.dot(w, x) + b)"
   ]
  },
  {
   "cell_type": "markdown",
   "metadata": {},
   "source": [
    "## Define a perceptron that negates its input\n",
    "\n",
    "![images/not_perceptron.jpg](images/not_perceptron.jpg)"
   ]
  },
  {
   "cell_type": "code",
   "execution_count": null,
   "metadata": {},
   "outputs": [],
   "source": [
    "def NOT(x):\n",
    "    return perceptron(x, w=-1, b=0.5)"
   ]
  },
  {
   "cell_type": "code",
   "execution_count": null,
   "metadata": {},
   "outputs": [],
   "source": [
    "print(\"0 -> NOT: \"+str(NOT(0)))\n",
    "print(\"1 -> NOT: \"+str(NOT(1)))"
   ]
  },
  {
   "cell_type": "markdown",
   "metadata": {},
   "source": [
    "## Define a perceptron that simulates the AND - Function\n",
    "\n",
    "![images/and_perceptron.jpg](images/and_perceptron.jpg)"
   ]
  },
  {
   "cell_type": "code",
   "execution_count": null,
   "metadata": {},
   "outputs": [],
   "source": [
    "def AND(x):\n",
    "    w = np.array([1, 1]).reshape(1,2)\n",
    "    b = -1.5\n",
    "    return perceptron(x, w, b)"
   ]
  },
  {
   "cell_type": "code",
   "execution_count": null,
   "metadata": {},
   "outputs": [],
   "source": [
    "print(\"00 -> AND: \"+str(AND(np.array([0, 0]).reshape(2,1))))\n",
    "print(\"01 -> AND: \"+str(AND(np.array([0, 1]).reshape(2,1))))\n",
    "print(\"10 -> AND: \"+str(AND(np.array([1, 0]).reshape(2,1))))\n",
    "print(\"11 -> AND: \"+str(AND(np.array([1, 1]).reshape(2,1))))"
   ]
  },
  {
   "cell_type": "markdown",
   "metadata": {},
   "source": [
    "# The Perceptron (Part 2)"
   ]
  },
  {
   "cell_type": "markdown",
   "metadata": {},
   "source": [
    "## Define a perceptron that simulates the not exclusive OR - Function\n",
    "\n",
    "![images/or_perceptron.jpg](images/or_perceptron.jpg)"
   ]
  },
  {
   "cell_type": "code",
   "execution_count": null,
   "metadata": {},
   "outputs": [],
   "source": [
    "def OR(x):\n",
    "    w = np.array([1, 1]).reshape(1,2)\n",
    "    b = -0.5\n",
    "    return perceptron(x, w, b)"
   ]
  },
  {
   "cell_type": "code",
   "execution_count": null,
   "metadata": {
    "scrolled": true
   },
   "outputs": [],
   "source": [
    "print(\"00 -> AND: \"+str(OR(np.array([0, 0]).reshape(2,1))))\n",
    "print(\"01 -> AND: \"+str(OR(np.array([0, 1]).reshape(2,1))))\n",
    "print(\"10 -> AND: \"+str(OR(np.array([1, 0]).reshape(2,1))))\n",
    "print(\"11 -> AND: \"+str(OR(np.array([1, 1]).reshape(2,1))))"
   ]
  },
  {
   "cell_type": "markdown",
   "metadata": {},
   "source": [
    "## Define a perceptron that simulates the XOR - Function\n",
    "\n",
    "![images/xor_perceptron.jpg](images/xor_perceptron.jpg)\n",
    "\n",
    "![images/xor2.jpg](images/xor2.jpg)"
   ]
  },
  {
   "cell_type": "code",
   "execution_count": null,
   "metadata": {},
   "outputs": [],
   "source": [
    "def XOR(x):\n",
    "    y1 = AND(x)\n",
    "    y2 = NOT(y1)\n",
    "    y3 = OR(x)\n",
    "    new_x = np.array([y2, y3]).reshape(2,1)\n",
    "    output = AND(new_x)\n",
    "    return output\n"
   ]
  },
  {
   "cell_type": "code",
   "execution_count": null,
   "metadata": {},
   "outputs": [],
   "source": [
    "print(\"00 -> XOR: \"+str(XOR(np.array([0, 0]).reshape(2,1))))\n",
    "print(\"01 -> XOR: \"+str(XOR(np.array([0, 1]).reshape(2,1))))\n",
    "print(\"10 -> XOR: \"+str(XOR(np.array([1, 0]).reshape(2,1))))\n",
    "print(\"11 -> XOR: \"+str(XOR(np.array([1, 1]).reshape(2,1))))"
   ]
  },
  {
   "cell_type": "markdown",
   "metadata": {},
   "source": [
    "# The Perceptron (Part 3)"
   ]
  },
  {
   "cell_type": "markdown",
   "metadata": {},
   "source": [
    "## A Simple Perceptron Learning Algorithm"
   ]
  },
  {
   "cell_type": "code",
   "execution_count": null,
   "metadata": {},
   "outputs": [],
   "source": [
    "import numpy as np\n",
    "import matplotlib.pyplot as plt\n",
    "from random import choice, random\n",
    "%matplotlib inline "
   ]
  },
  {
   "cell_type": "code",
   "execution_count": null,
   "metadata": {},
   "outputs": [],
   "source": [
    "# Define the training data and labels (expected outcome)\n",
    "training_data = [\n",
    "    (np.array([0,0,0]).reshape(3,1), 0),\n",
    "    (np.array([0,0,1]).reshape(3,1), 0),\n",
    "    (np.array([0,1,1]).reshape(3,1), 1),\n",
    "    (np.array([1,0,1]).reshape(3,1), 1),\n",
    "    (np.array([1,1,0]).reshape(3,1), 1),\n",
    "    (np.array([1,1,1]).reshape(3,1), 1),\n",
    "]"
   ]
  },
  {
   "cell_type": "code",
   "execution_count": null,
   "metadata": {},
   "outputs": [],
   "source": [
    "training_data"
   ]
  },
  {
   "cell_type": "code",
   "execution_count": null,
   "metadata": {},
   "outputs": [],
   "source": [
    "# Initialize the algorithm\n",
    "w = np.array(np.random.rand(1,3))\n",
    "errors = []\n",
    "n = 100\n",
    "b = random()"
   ]
  },
  {
   "cell_type": "code",
   "execution_count": null,
   "metadata": {},
   "outputs": [],
   "source": [
    "# The learning algorithm\n",
    "for i in range(n):\n",
    "    x, expected = choice(training_data)\n",
    "    result = perceptron(x,w,b)\n",
    "    error = expected - result\n",
    "    errors.append(error)\n",
    "    w += error * x.T\n",
    "    b += error "
   ]
  },
  {
   "cell_type": "code",
   "execution_count": null,
   "metadata": {},
   "outputs": [],
   "source": [
    "print(\"Weights:\")\n",
    "print(w)\n",
    "print(\"Bias:\")\n",
    "print(b)"
   ]
  },
  {
   "cell_type": "code",
   "execution_count": null,
   "metadata": {},
   "outputs": [],
   "source": [
    "# Plot the learning curve\n",
    "plt.plot(errors)"
   ]
  },
  {
   "cell_type": "code",
   "execution_count": null,
   "metadata": {},
   "outputs": [],
   "source": [
    "print(\"Expected: \"+ str(0) )\n",
    "result = perceptron(np.array([0,0,0]).reshape(3,1),w,b)\n",
    "print(\"Predicted: \"+ str(result) )"
   ]
  },
  {
   "cell_type": "code",
   "execution_count": null,
   "metadata": {
    "scrolled": true
   },
   "outputs": [],
   "source": [
    "print(\"Expected: \"+ \"1\" )\n",
    "result = perceptron(np.array([1,1,1]).reshape(3,1),w,b)\n",
    "print(\"Predicted: \"+ str(result) )"
   ]
  },
  {
   "cell_type": "markdown",
   "metadata": {},
   "source": [
    "# The Perceptron (Part 4)"
   ]
  },
  {
   "cell_type": "markdown",
   "metadata": {},
   "source": [
    "## Linear versus non linear activation function for XOR\n",
    "\n",
    "Execute the following cells until Test prints and change the test cases afterwards to see which activation function is capable of distiguishing the XOR cases."
   ]
  },
  {
   "cell_type": "code",
   "execution_count": null,
   "metadata": {},
   "outputs": [],
   "source": [
    "#Define a linear activation function \n",
    "def activationFunction(x):\n",
    "     return 1 if (x>0) else 0\n",
    "\n",
    "    \n",
    "\n",
    "# We use this comments later\n",
    "# Test Case A:  return 1 if (x>=0) else 0\n",
    "# Test Case B:  retrun x\n",
    "# Test Case C:  return 1/(1 + np.exp(-x))\n",
    "\n",
    "def perceptron2(x, w, b):\n",
    "    return activationFunction(np.dot(w, x) + b)"
   ]
  },
  {
   "cell_type": "code",
   "execution_count": null,
   "metadata": {},
   "outputs": [],
   "source": [
    "def NOT2(x):\n",
    "    return perceptron2(x, w=-1, b=0.5)"
   ]
  },
  {
   "cell_type": "code",
   "execution_count": null,
   "metadata": {},
   "outputs": [],
   "source": [
    "def AND2(x):\n",
    "    w = np.array([1, 1]).reshape(1,2)\n",
    "    b = -1.5\n",
    "    return perceptron2(x, w, b)"
   ]
  },
  {
   "cell_type": "code",
   "execution_count": null,
   "metadata": {},
   "outputs": [],
   "source": [
    "def OR2(x):\n",
    "    w = np.array([1, 1]).reshape(1,2)\n",
    "    b = -0.5\n",
    "    return perceptron2(x, w, b)"
   ]
  },
  {
   "cell_type": "code",
   "execution_count": null,
   "metadata": {},
   "outputs": [],
   "source": [
    "def XOR2(x):\n",
    "    y1 = AND2(x)\n",
    "    y2 = NOT2(y1)\n",
    "    y3 = OR2(x)\n",
    "    new_x = np.array([y2, y3]).reshape(2,1)\n",
    "    output = AND2(new_x)\n",
    "    return output"
   ]
  },
  {
   "cell_type": "code",
   "execution_count": null,
   "metadata": {},
   "outputs": [],
   "source": [
    "print(\"Test\")\n",
    "print(\"00 -> XOR: \"+str(XOR2(np.array([0, 0]).reshape(2,1))))\n",
    "print(\"01 -> XOR: \"+str(XOR2(np.array([0, 1]).reshape(2,1))))\n",
    "print(\"10 -> XOR: \"+str(XOR2(np.array([1, 0]).reshape(2,1))))\n",
    "print(\"11 -> XOR: \"+str(XOR2(np.array([1, 1]).reshape(2,1))))"
   ]
  },
  {
   "cell_type": "markdown",
   "metadata": {},
   "source": [
    "# The Perceptron Learning Algorithm (Part 5)"
   ]
  },
  {
   "cell_type": "markdown",
   "metadata": {},
   "source": [
    "## Linear versus non linear activation function - Learning the OR Function"
   ]
  },
  {
   "cell_type": "code",
   "execution_count": null,
   "metadata": {},
   "outputs": [],
   "source": [
    "import numpy as np\n",
    "from random import choice, random"
   ]
  },
  {
   "cell_type": "code",
   "execution_count": null,
   "metadata": {},
   "outputs": [],
   "source": [
    "#Define a linear activation function \n",
    "def linearFunction(x):\n",
    "    return x\n",
    "\n",
    "def perceptronLinear(x, w, b):\n",
    "    return linearFunction(np.dot(w, x) + b)"
   ]
  },
  {
   "cell_type": "code",
   "execution_count": null,
   "metadata": {},
   "outputs": [],
   "source": [
    "training_data = [\n",
    "    (np.array([0,0]).reshape(2,1), 0),\n",
    "    (np.array([0,1]).reshape(2,1), 1),\n",
    "    (np.array([1,0]).reshape(2,1), 1),\n",
    "    (np.array([1,1]).reshape(2,1), 1)\n",
    "]"
   ]
  },
  {
   "cell_type": "code",
   "execution_count": null,
   "metadata": {},
   "outputs": [],
   "source": [
    "# Initialize the algorithm\n",
    "w = np.array(np.random.rand(1,2))\n",
    "errors = []\n",
    "n = 100\n",
    "b = random()"
   ]
  },
  {
   "cell_type": "code",
   "execution_count": null,
   "metadata": {},
   "outputs": [],
   "source": [
    "# The learning algorithm\n",
    "for i in range(n):\n",
    "    x, expected = choice(training_data)\n",
    "    result = perceptronLinear(x,w,b)\n",
    "    error = expected - result\n",
    "    w += error * x.T\n",
    "    b += error "
   ]
  },
  {
   "cell_type": "code",
   "execution_count": null,
   "metadata": {},
   "outputs": [],
   "source": [
    "print(perceptronLinear(np.array([0,0]),w,b))\n",
    "print(perceptronLinear(np.array([0,1]),w,b))\n",
    "print(perceptronLinear(np.array([1,0]),w,b))\n",
    "print(perceptronLinear(np.array([1,1]),w,b))"
   ]
  },
  {
   "cell_type": "code",
   "execution_count": null,
   "metadata": {},
   "outputs": [],
   "source": [
    "#Define a non linear activation function \n",
    "def notLinearFunction(x):\n",
    "    return 1 if (x>=0) else 0\n",
    "\n",
    "# Sigmoid function - non linear\n",
    "# return 1/(1 + np.exp(-x))\n",
    "\n",
    "def perceptronNotLinear(x, w, b):\n",
    "    return notLinearFunction(np.dot(w, x) + b)"
   ]
  },
  {
   "cell_type": "code",
   "execution_count": null,
   "metadata": {},
   "outputs": [],
   "source": [
    "training_data = [\n",
    "    (np.array([0,0]).reshape(2,1), 0),\n",
    "    (np.array([0,1]).reshape(2,1), 1),\n",
    "    (np.array([1,0]).reshape(2,1), 1),\n",
    "    (np.array([1,1]).reshape(2,1), 1)\n",
    "]"
   ]
  },
  {
   "cell_type": "code",
   "execution_count": null,
   "metadata": {},
   "outputs": [],
   "source": [
    "# Initialize the algorithm\n",
    "w = np.array(np.random.rand(1,2))\n",
    "errors = []\n",
    "n = 100\n",
    "b = random()"
   ]
  },
  {
   "cell_type": "code",
   "execution_count": null,
   "metadata": {},
   "outputs": [],
   "source": [
    "# The learning algorithm\n",
    "for i in range(n):\n",
    "    x, expected = choice(training_data)\n",
    "    result = perceptronNotLinear(x,w,b)\n",
    "    error = expected - result\n",
    "    w += error * x.T\n",
    "    b += error "
   ]
  },
  {
   "cell_type": "code",
   "execution_count": null,
   "metadata": {},
   "outputs": [],
   "source": [
    "print(perceptronNotLinear(np.array([0,0]),w,b))\n",
    "print(perceptronNotLinear(np.array([0,1]),w,b))\n",
    "print(perceptronNotLinear(np.array([1,0]),w,b))\n",
    "print(perceptronNotLinear(np.array([1,1]),w,b))"
   ]
  }
 ],
 "metadata": {
  "kernelspec": {
   "display_name": "Python 3",
   "language": "python",
   "name": "python3"
  },
  "language_info": {
   "codemirror_mode": {
    "name": "ipython",
    "version": 3
   },
   "file_extension": ".py",
   "mimetype": "text/x-python",
   "name": "python",
   "nbconvert_exporter": "python",
   "pygments_lexer": "ipython3",
   "version": "3.7.6"
  }
 },
 "nbformat": 4,
 "nbformat_minor": 4
}
