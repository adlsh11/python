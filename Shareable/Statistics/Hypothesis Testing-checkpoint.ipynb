{
 "cells": [
  {
   "cell_type": "markdown",
   "metadata": {},
   "source": [
    "H0: Temperature does not affect covid-19 outbreak. <br>\n",
    "H1: Temperature affects covid-19 outbreak."
   ]
  },
  {
   "cell_type": "code",
   "execution_count": 1,
   "metadata": {
    "ExecuteTime": {
     "end_time": "2021-05-25T20:05:17.229134Z",
     "start_time": "2021-05-25T20:05:16.713340Z"
    }
   },
   "outputs": [],
   "source": [
    "import pandas as pd\n",
    "import numpy as np"
   ]
  },
  {
   "cell_type": "markdown",
   "metadata": {
    "ExecuteTime": {
     "end_time": "2021-05-25T19:50:27.041266Z",
     "start_time": "2021-05-25T19:50:24.368095Z"
    }
   },
   "source": [
    "url = 'https://raw.githubusercontent.com/CSSEGISandData/COVID-19/master/csse_covid_19_data/csse_covid_19_daily_reports/01-25-2021.csv'\n",
    "df = pd.read_csv(url, index_col=0)"
   ]
  },
  {
   "cell_type": "code",
   "execution_count": 2,
   "metadata": {
    "ExecuteTime": {
     "end_time": "2021-05-25T20:05:17.253120Z",
     "start_time": "2021-05-25T20:05:17.229134Z"
    }
   },
   "outputs": [],
   "source": [
    "corona = pd.read_csv(r'C:\\Users\\luc57.DESKTOP-NB5DC80\\Downloads\\Corona_Updated.csv')"
   ]
  },
  {
   "cell_type": "code",
   "execution_count": 3,
   "metadata": {
    "ExecuteTime": {
     "end_time": "2021-05-25T20:05:17.301124Z",
     "start_time": "2021-05-25T20:05:17.253120Z"
    }
   },
   "outputs": [
    {
     "name": "stdout",
     "output_type": "stream",
     "text": [
      "<class 'pandas.core.frame.DataFrame'>\n",
      "RangeIndex: 206 entries, 0 to 205\n",
      "Data columns (total 12 columns):\n",
      " #   Column          Non-Null Count  Dtype  \n",
      "---  ------          --------------  -----  \n",
      " 0   Province/State  99 non-null     object \n",
      " 1   Country/Region  206 non-null    object \n",
      " 2   Last Update     206 non-null    object \n",
      " 3   Confirmed       206 non-null    int64  \n",
      " 4   Deaths          206 non-null    int64  \n",
      " 5   Recovered       206 non-null    int64  \n",
      " 6   Latitude        206 non-null    float64\n",
      " 7   Longitude       206 non-null    float64\n",
      " 8   Temperature     206 non-null    float64\n",
      " 9   Humidity        206 non-null    int64  \n",
      " 10  Temp_Cat        206 non-null    int64  \n",
      " 11  Humid_Cat       206 non-null    int64  \n",
      "dtypes: float64(3), int64(6), object(3)\n",
      "memory usage: 19.4+ KB\n"
     ]
    }
   ],
   "source": [
    "corona.info()"
   ]
  },
  {
   "cell_type": "code",
   "execution_count": 4,
   "metadata": {
    "ExecuteTime": {
     "end_time": "2021-05-25T20:05:17.325102Z",
     "start_time": "2021-05-25T20:05:17.301124Z"
    }
   },
   "outputs": [],
   "source": [
    "corona['Temp_Cat']= corona['Temperature'].apply(lambda x: 0 if x<24 else 1)\n",
    "corona_temp = corona[['Confirmed', 'Temp_Cat']]"
   ]
  },
  {
   "cell_type": "code",
   "execution_count": 5,
   "metadata": {
    "ExecuteTime": {
     "end_time": "2021-05-25T20:05:17.367053Z",
     "start_time": "2021-05-25T20:05:17.326731Z"
    }
   },
   "outputs": [
    {
     "data": {
      "text/html": [
       "<div>\n",
       "<style scoped>\n",
       "    .dataframe tbody tr th:only-of-type {\n",
       "        vertical-align: middle;\n",
       "    }\n",
       "\n",
       "    .dataframe tbody tr th {\n",
       "        vertical-align: top;\n",
       "    }\n",
       "\n",
       "    .dataframe thead th {\n",
       "        text-align: right;\n",
       "    }\n",
       "</style>\n",
       "<table border=\"1\" class=\"dataframe\">\n",
       "  <thead>\n",
       "    <tr style=\"text-align: right;\">\n",
       "      <th></th>\n",
       "      <th>Confirmed</th>\n",
       "      <th>Temp_Cat</th>\n",
       "    </tr>\n",
       "  </thead>\n",
       "  <tbody>\n",
       "    <tr>\n",
       "      <th>0</th>\n",
       "      <td>67760</td>\n",
       "      <td>0</td>\n",
       "    </tr>\n",
       "    <tr>\n",
       "      <th>1</th>\n",
       "      <td>10149</td>\n",
       "      <td>0</td>\n",
       "    </tr>\n",
       "    <tr>\n",
       "      <th>2</th>\n",
       "      <td>8042</td>\n",
       "      <td>0</td>\n",
       "    </tr>\n",
       "    <tr>\n",
       "      <th>3</th>\n",
       "      <td>7513</td>\n",
       "      <td>0</td>\n",
       "    </tr>\n",
       "    <tr>\n",
       "      <th>4</th>\n",
       "      <td>1784</td>\n",
       "      <td>0</td>\n",
       "    </tr>\n",
       "  </tbody>\n",
       "</table>\n",
       "</div>"
      ],
      "text/plain": [
       "   Confirmed  Temp_Cat\n",
       "0      67760         0\n",
       "1      10149         0\n",
       "2       8042         0\n",
       "3       7513         0\n",
       "4       1784         0"
      ]
     },
     "execution_count": 5,
     "metadata": {},
     "output_type": "execute_result"
    }
   ],
   "source": [
    "corona_temp.head()"
   ]
  },
  {
   "cell_type": "code",
   "execution_count": 6,
   "metadata": {
    "ExecuteTime": {
     "end_time": "2021-05-25T20:05:17.375008Z",
     "start_time": "2021-05-25T20:05:17.367053Z"
    }
   },
   "outputs": [],
   "source": [
    "def TwoSamplesZTest(X1,X2, sigma1, sigma2, N1, N2):\n",
    "    from numpy import sqrt, abs, round\n",
    "    from scipy.stats import norm\n",
    "    ovr_sigma = sqrt(sigma1**2/N1 + sigma2**2/N2)\n",
    "    z = (X1-X2)/ovr_sigma\n",
    "    pvalue = 2*(1 - norm.cdf(abs(z)))\n",
    "    return z, pvalue\n",
    "\n",
    "#define the two samples z-test"
   ]
  },
  {
   "cell_type": "code",
   "execution_count": 7,
   "metadata": {
    "ExecuteTime": {
     "end_time": "2021-05-25T20:05:17.415088Z",
     "start_time": "2021-05-25T20:05:17.375008Z"
    }
   },
   "outputs": [],
   "source": [
    "d1 = corona_temp[(corona_temp['Temp_Cat']==1)]['Confirmed']\n",
    "d2 = corona_temp[(corona_temp['Temp_Cat']==0)]['Confirmed']"
   ]
  },
  {
   "cell_type": "code",
   "execution_count": 8,
   "metadata": {
    "ExecuteTime": {
     "end_time": "2021-05-25T20:05:17.432136Z",
     "start_time": "2021-05-25T20:05:17.416112Z"
    }
   },
   "outputs": [],
   "source": [
    "m1, m2 = d1.mean(), d2.mean()\n",
    "sd1, sd2 = d1.std(), d2.std()\n",
    "n1, n2 = d1.shape[0], d2.shape[0]\n",
    "#get the mean, standard deviation and sample sizes"
   ]
  },
  {
   "cell_type": "code",
   "execution_count": 9,
   "metadata": {
    "ExecuteTime": {
     "end_time": "2021-05-25T20:05:17.448114Z",
     "start_time": "2021-05-25T20:05:17.432136Z"
    }
   },
   "outputs": [
    {
     "name": "stdout",
     "output_type": "stream",
     "text": [
      "Mean 1: 26.548387096774192\n",
      "Mean 2: 672.9085714285715\n",
      "Stdev 1: 45.93969867095882\n",
      "Stdev 2: 5228.628797929274\n",
      "sample size 1: 31\n",
      "sample size 2: 175\n"
     ]
    }
   ],
   "source": [
    "print('Mean 1:', m1)\n",
    "print('Mean 2:', m2)\n",
    "print('Stdev 1:', sd1)\n",
    "print('Stdev 2:', sd2)\n",
    "print('sample size 1:', n1)\n",
    "print('sample size 2:', n2)"
   ]
  },
  {
   "cell_type": "code",
   "execution_count": 10,
   "metadata": {
    "ExecuteTime": {
     "end_time": "2021-05-25T20:05:18.360775Z",
     "start_time": "2021-05-25T20:05:17.448114Z"
    }
   },
   "outputs": [
    {
     "name": "stdout",
     "output_type": "stream",
     "text": [
      "P-value of the two samples z-test:  0.1021\n",
      "Hypothesis Status:  Do not reject Null Hypothesis: Not Significant\n"
     ]
    }
   ],
   "source": [
    "z, p = TwoSamplesZTest(m1, m2, sd1, sd2, n1, n2) # obtain the z score and p-value\n",
    "z_score = np.round(z,4)\n",
    "p_val = np.round(p,4)\n",
    "\n",
    "if(p_val<0.05): \n",
    "    Hypothesis_Status = 'Reject Null Hypothesis : Significant'\n",
    "else: \n",
    "    Hypothesis_Status = 'Do not reject Null Hypothesis: Not Significant'\n",
    "\n",
    "print('P-value of the two samples z-test: ', p_val)\n",
    "print('Hypothesis Status: ', Hypothesis_Status)"
   ]
  },
  {
   "cell_type": "markdown",
   "metadata": {},
   "source": [
    "Alternative hypothesis is rejected. We do not have enough evidence to reject that temperature does not affect covid-19 outbreak."
   ]
  }
 ],
 "metadata": {
  "kernelspec": {
   "display_name": "Python 3",
   "language": "python",
   "name": "python3"
  },
  "language_info": {
   "codemirror_mode": {
    "name": "ipython",
    "version": 3
   },
   "file_extension": ".py",
   "mimetype": "text/x-python",
   "name": "python",
   "nbconvert_exporter": "python",
   "pygments_lexer": "ipython3",
   "version": "3.8.3"
  },
  "toc": {
   "base_numbering": 1,
   "nav_menu": {},
   "number_sections": true,
   "sideBar": true,
   "skip_h1_title": false,
   "title_cell": "Table of Contents",
   "title_sidebar": "Contents",
   "toc_cell": false,
   "toc_position": {},
   "toc_section_display": true,
   "toc_window_display": true
  }
 },
 "nbformat": 4,
 "nbformat_minor": 4
}
