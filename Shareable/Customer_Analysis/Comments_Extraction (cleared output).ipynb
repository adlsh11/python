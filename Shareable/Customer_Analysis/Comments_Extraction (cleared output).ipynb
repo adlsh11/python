{
 "cells": [
  {
   "cell_type": "markdown",
   "metadata": {
    "toc": true
   },
   "source": [
    "<h1>Table of Contents<span class=\"tocSkip\"></span></h1>\n",
    "<div class=\"toc\"><ul class=\"toc-item\"><li><span><a href=\"#Import-Libraries\" data-toc-modified-id=\"Import-Libraries-1\"><span class=\"toc-item-num\">1&nbsp;&nbsp;</span>Import Libraries</a></span></li><li><span><a href=\"#CCN-World-Classification\" data-toc-modified-id=\"CCN-World-Classification-2\"><span class=\"toc-item-num\">2&nbsp;&nbsp;</span>CCN World Classification</a></span></li><li><span><a href=\"#Comments-Extraction\" data-toc-modified-id=\"Comments-Extraction-3\"><span class=\"toc-item-num\">3&nbsp;&nbsp;</span>Comments Extraction</a></span><ul class=\"toc-item\"><li><span><a href=\"#GRV\" data-toc-modified-id=\"GRV-3.1\"><span class=\"toc-item-num\">3.1&nbsp;&nbsp;</span>GRV</a></span></li></ul></li></ul></div>"
   ]
  },
  {
   "cell_type": "markdown",
   "metadata": {
    "colab_type": "text",
    "id": "yCSsmhc0tuBr"
   },
   "source": [
    "## Import Libraries"
   ]
  },
  {
   "cell_type": "code",
   "execution_count": 1,
   "metadata": {
    "colab": {},
    "colab_type": "code",
    "id": "_VeOy0u9b9x7"
   },
   "outputs": [],
   "source": [
    "import sys\n",
    "import os\n",
    "from datetime import datetime"
   ]
  },
  {
   "cell_type": "code",
   "execution_count": 2,
   "metadata": {
    "colab": {},
    "colab_type": "code",
    "id": "XRWzfoXHb9x-",
    "scrolled": true
   },
   "outputs": [],
   "source": [
    "import pandas as pd\n",
    "import matplotlib.pyplot as plt\n",
    "import numpy as np\n",
    "pd.set_option('display.max_rows', 10)\n",
    "pd.set_option('display.max_columns', 500)\n",
    "pd.set_option('display.max_colwidth', None)"
   ]
  },
  {
   "cell_type": "code",
   "execution_count": 3,
   "metadata": {
    "colab": {},
    "colab_type": "code",
    "id": "uP7KTkD8b9yB",
    "scrolled": true
   },
   "outputs": [],
   "source": [
    "#!pip install igramscraper\n",
    "from igramscraper.instagram import Instagram\n",
    "from random import randint\n",
    "from time import sleep\n",
    "import requests\n",
    "instagram = Instagram()"
   ]
  },
  {
   "cell_type": "code",
   "execution_count": 4,
   "metadata": {
    "colab": {},
    "colab_type": "code",
    "id": "DoD_diHa6o7s"
   },
   "outputs": [],
   "source": [
    "import io\n",
    "import re\n",
    "import logging\n",
    "import warnings\n",
    "warnings.filterwarnings('ignore')  "
   ]
  },
  {
   "cell_type": "code",
   "execution_count": 5,
   "metadata": {},
   "outputs": [],
   "source": [
    "os.chdir(r'C:\\Users\\User\\Sept')"
   ]
  },
  {
   "cell_type": "code",
   "execution_count": 74,
   "metadata": {},
   "outputs": [],
   "source": [
    "after2017 = pd.read_excel('after2017.xlsx',index_col=0)"
   ]
  },
  {
   "cell_type": "markdown",
   "metadata": {},
   "source": [
    "## CCN World Classification"
   ]
  },
  {
   "cell_type": "code",
   "execution_count": 75,
   "metadata": {},
   "outputs": [],
   "source": [
    "after2017['world'] = np.where(after2017['family_type'].isin(['']),\n",
    "                           'GRV', \n",
    "                           'ADFAFY')"
   ]
  },
  {
   "cell_type": "code",
   "execution_count": 76,
   "metadata": {},
   "outputs": [
    {
     "name": "stdout",
     "output_type": "stream",
     "text": [
      "187\n",
      "113\n",
      "233\n",
      "23\n"
     ]
    }
   ],
   "source": [
    "print(len(after2017.loc[after2017['world']=='GRV']))"
   ]
  },
  {
   "cell_type": "code",
   "execution_count": 78,
   "metadata": {},
   "outputs": [
    {
     "data": {
      "text/html": [
       "<div>\n",
       "<style scoped>\n",
       "    .dataframe tbody tr th:only-of-type {\n",
       "        vertical-align: middle;\n",
       "    }\n",
       "\n",
       "    .dataframe tbody tr th {\n",
       "        vertical-align: top;\n",
       "    }\n",
       "\n",
       "    .dataframe thead th {\n",
       "        text-align: right;\n",
       "    }\n",
       "</style>\n",
       "<table border=\"1\" class=\"dataframe\">\n",
       "  <thead>\n",
       "    <tr style=\"text-align: right;\">\n",
       "      <th></th>\n",
       "      <th>date</th>\n",
       "      <th>year</th>\n",
       "      <th>month</th>\n",
       "      <th>week_of_the_year</th>\n",
       "      <th>week_of_the_month</th>\n",
       "      <th>day</th>\n",
       "      <th>day_of_the_week</th>\n",
       "      <th>time</th>\n",
       "      <th>time_category</th>\n",
       "      <th>caption</th>\n",
       "      <th>caption_length</th>\n",
       "      <th>likes_count</th>\n",
       "      <th>comments_count</th>\n",
       "      <th>interactions_count</th>\n",
       "      <th>decile_rank</th>\n",
       "      <th>video_view_count</th>\n",
       "      <th>is_video</th>\n",
       "      <th>world</th>\n",
       "      <th>family_type</th>\n",
       "      <th>link</th>\n",
       "    </tr>\n",
       "  </thead>\n",
       "  <tbody>\n",
       "    <tr>\n",
       "      <th>0</th>\n",
       "      <td>2020-09-27 19:20:48 Sunday</td>\n",
       "      <td>2020</td>\n",
       "      <td>9</td>\n",
       "      <td>39</td>\n",
       "      <td>4</td>\n",
       "      <td>27</td>\n",
       "      <td>Sun</td>\n",
       "      <td>19:20:48</td>\n",
       "      <td>Evening</td>\n",
       "      <td>Come rain or shine, nothing stops us from wanting to get out on the new Sender CFR, although we’re not sure how much of that squeaky clean white paint we’d be able to see by the end of a day of downhill shredding.\\n•\\nAfter 3 years in design we learnt that one of the key features for a winning downhill bike would be to offer outstanding adjustability so that the riders can tailor it to their style, and to the array of downhill courses they’ll race throughout the season. So, that’s why on the new Sender CFR there is 10mm of chainstay adjustment, and +/- 8mm of reach adjustment, whether you want your setup to feel more short and playful for jumpier courses, or longer and more planted for those rock sections, then the Senders set up can adapt to them all.\\n•\\n#MyCanyon #CLLCTV #CanyonSender #DownhillMTB\\n•\\n@maddogboris</td>\n",
       "      <td>822</td>\n",
       "      <td>19793</td>\n",
       "      <td>40</td>\n",
       "      <td>19833</td>\n",
       "      <td>8</td>\n",
       "      <td>0</td>\n",
       "      <td>0</td>\n",
       "      <td>Gravity</td>\n",
       "      <td>Sender</td>\n",
       "      <td>https://www.instagram.com/p/CFpe11YlnMp</td>\n",
       "    </tr>\n",
       "  </tbody>\n",
       "</table>\n",
       "</div>"
      ],
      "text/plain": [
       "                         date  year  month  week_of_the_year  \\\n",
       "0  2020-09-27 19:20:48 Sunday  2020      9                39   \n",
       "\n",
       "   week_of_the_month  day day_of_the_week      time time_category  \\\n",
       "0                  4   27             Sun  19:20:48       Evening   \n",
       "\n",
       "                                                                                                                                                                                                                                                                                                                                                                                                                                                                                                                                                                                                                                                                                                                                                                                                                                                        caption  \\\n",
       "0  Come rain or shine, nothing stops us from wanting to get out on the new Sender CFR, although we’re not sure how much of that squeaky clean white paint we’d be able to see by the end of a day of downhill shredding.\\n•\\nAfter 3 years in design we learnt that one of the key features for a winning downhill bike would be to offer outstanding adjustability so that the riders can tailor it to their style, and to the array of downhill courses they’ll race throughout the season. So, that’s why on the new Sender CFR there is 10mm of chainstay adjustment, and +/- 8mm of reach adjustment, whether you want your setup to feel more short and playful for jumpier courses, or longer and more planted for those rock sections, then the Senders set up can adapt to them all.\\n•\\n#MyCanyon #CLLCTV #CanyonSender #DownhillMTB\\n•\\n@maddogboris   \n",
       "\n",
       "   caption_length  likes_count  comments_count  interactions_count  \\\n",
       "0             822        19793              40               19833   \n",
       "\n",
       "   decile_rank  video_view_count  is_video    world family_type  \\\n",
       "0            8                 0         0  Gravity      Sender   \n",
       "\n",
       "                                      link  \n",
       "0  https://www.instagram.com/p/CFpe11YlnMp  "
      ]
     },
     "execution_count": 78,
     "metadata": {},
     "output_type": "execute_result"
    }
   ],
   "source": [
    "after2017 = after2017[['date','year','month','week_of_the_year','week_of_the_month',\n",
    "                             'day','day_of_the_week','time','time_category',\n",
    "                             'caption','caption_length','likes_count','comments_count','interactions_count',\n",
    "                             'decile_rank','video_view_count','is_video',\n",
    "                             'world','family_type','link']]\n",
    "after2017.head(1)"
   ]
  },
  {
   "cell_type": "code",
   "execution_count": 79,
   "metadata": {},
   "outputs": [],
   "source": [
    "after2017.to_excel('after2017.xlsx')"
   ]
  },
  {
   "cell_type": "code",
   "execution_count": 80,
   "metadata": {},
   "outputs": [],
   "source": [
    "GRV2017=after2017.loc[after2017['world']=='GRV']"
   ]
  },
  {
   "cell_type": "code",
   "execution_count": 111,
   "metadata": {},
   "outputs": [],
   "source": [
    "GRV2017.to_excel('GRV2017.xlsx')"
   ]
  },
  {
   "cell_type": "markdown",
   "metadata": {
    "colab_type": "text",
    "id": "uNEht4CFb92l"
   },
   "source": [
    "Let us convert the instagram links to media IDs."
   ]
  },
  {
   "cell_type": "code",
   "execution_count": 81,
   "metadata": {
    "colab": {},
    "colab_type": "code",
    "id": "CTIAVhxqb92l",
    "scrolled": true
   },
   "outputs": [],
   "source": [
    "def get_media_id(url):\n",
    "    req = requests.get('https://api.instagram.com/oembed/?url={}'.format(url))\n",
    "    media_id = req.json()['media_id'][:19]\n",
    "    return media_id"
   ]
  },
  {
   "cell_type": "markdown",
   "metadata": {
    "colab_type": "text",
    "id": "r64Te5gKS5Jj"
   },
   "source": [
    "## Comments Extraction"
   ]
  },
  {
   "cell_type": "markdown",
   "metadata": {
    "colab_type": "text",
    "id": "3IMXxmeIdPCy"
   },
   "source": [
    "### GRV"
   ]
  },
  {
   "cell_type": "markdown",
   "metadata": {
    "colab_type": "text",
    "id": "gwZH7zibuK37"
   },
   "source": [
    "First, let us filter only the posts that may contain contents of GRV bikes."
   ]
  },
  {
   "cell_type": "code",
   "execution_count": 82,
   "metadata": {
    "colab": {
     "base_uri": "https://localhost:8080/",
     "height": 1000
    },
    "colab_type": "code",
    "id": "SWPPu72Cb92m",
    "outputId": "c95ea946-e277-4485-be9a-d3e9fce5d2fe",
    "scrolled": true
   },
   "outputs": [
    {
     "data": {
      "text/html": [
       "<div>\n",
       "<style scoped>\n",
       "    .dataframe tbody tr th:only-of-type {\n",
       "        vertical-align: middle;\n",
       "    }\n",
       "\n",
       "    .dataframe tbody tr th {\n",
       "        vertical-align: top;\n",
       "    }\n",
       "\n",
       "    .dataframe thead th {\n",
       "        text-align: right;\n",
       "    }\n",
       "</style>\n",
       "<table border=\"1\" class=\"dataframe\">\n",
       "  <thead>\n",
       "    <tr style=\"text-align: right;\">\n",
       "      <th></th>\n",
       "      <th>Media_ID</th>\n",
       "      <th>Post Number</th>\n",
       "    </tr>\n",
       "  </thead>\n",
       "  <tbody>\n",
       "    <tr>\n",
       "      <th>0</th>\n",
       "      <td>2407591116654670633</td>\n",
       "      <td>1</td>\n",
       "    </tr>\n",
       "    <tr>\n",
       "      <th>1</th>\n",
       "      <td>2288731916357414098</td>\n",
       "      <td>2</td>\n",
       "    </tr>\n",
       "    <tr>\n",
       "      <th>2</th>\n",
       "      <td>2311920827309103109</td>\n",
       "      <td>3</td>\n",
       "    </tr>\n",
       "    <tr>\n",
       "      <th>3</th>\n",
       "      <td>2256876888386708441</td>\n",
       "      <td>4</td>\n",
       "    </tr>\n",
       "    <tr>\n",
       "      <th>4</th>\n",
       "      <td>2263376507769772597</td>\n",
       "      <td>5</td>\n",
       "    </tr>\n",
       "    <tr>\n",
       "      <th>...</th>\n",
       "      <td>...</td>\n",
       "      <td>...</td>\n",
       "    </tr>\n",
       "    <tr>\n",
       "      <th>182</th>\n",
       "      <td>2192375520741944931</td>\n",
       "      <td>183</td>\n",
       "    </tr>\n",
       "    <tr>\n",
       "      <th>183</th>\n",
       "      <td>2110435825708161650</td>\n",
       "      <td>184</td>\n",
       "    </tr>\n",
       "    <tr>\n",
       "      <th>184</th>\n",
       "      <td>1911817338991391196</td>\n",
       "      <td>185</td>\n",
       "    </tr>\n",
       "    <tr>\n",
       "      <th>185</th>\n",
       "      <td>1679908805554351564</td>\n",
       "      <td>186</td>\n",
       "    </tr>\n",
       "    <tr>\n",
       "      <th>186</th>\n",
       "      <td>1673389700231883733</td>\n",
       "      <td>187</td>\n",
       "    </tr>\n",
       "  </tbody>\n",
       "</table>\n",
       "<p>187 rows × 2 columns</p>\n",
       "</div>"
      ],
      "text/plain": [
       "                Media_ID Post Number\n",
       "0    2407591116654670633           1\n",
       "1    2288731916357414098           2\n",
       "2    2311920827309103109           3\n",
       "3    2256876888386708441           4\n",
       "4    2263376507769772597           5\n",
       "..                   ...         ...\n",
       "182  2192375520741944931         183\n",
       "183  2110435825708161650         184\n",
       "184  1911817338991391196         185\n",
       "185  1679908805554351564         186\n",
       "186  1673389700231883733         187\n",
       "\n",
       "[187 rows x 2 columns]"
      ]
     },
     "execution_count": 82,
     "metadata": {},
     "output_type": "execute_result"
    }
   ],
   "source": [
    "list=[]\n",
    "i=0\n",
    "for a in GRV2017['link']:\n",
    "    dict={}\n",
    "    dict[\"Media_ID\"]=get_media_id(a)\n",
    "    dict['Post Number'] = (str(i+1))\n",
    "    i=i+1\n",
    "    list.append(dict)\n",
    "pd.DataFrame(list)"
   ]
  },
  {
   "cell_type": "code",
   "execution_count": 85,
   "metadata": {},
   "outputs": [
    {
     "data": {
      "text/plain": [
       "[{'Media_ID': '2407591116654670633', 'Post Number': '1'},\n",
       " {'Media_ID': '2288731916357414098', 'Post Number': '2'},\n",
       " {'Media_ID': '2311920827309103109', 'Post Number': '3'},\n",
       " {'Media_ID': '2256876888386708441', 'Post Number': '4'},\n",
       " {'Media_ID': '2263376507769772597', 'Post Number': '5'},\n",
       " {'Media_ID': '2243811830798841632', 'Post Number': '6'},\n",
       " {'Media_ID': '2382951904743669972', 'Post Number': '7'},\n",
       " {'Media_ID': '2385852870216244255', 'Post Number': '8'},\n",
       " {'Media_ID': '2387302296587667917', 'Post Number': '9'},\n",
       " {'Media_ID': '2387934525420558352', 'Post Number': '10'},\n",
       " {'Media_ID': '2381503464662723319', 'Post Number': '11'},\n",
       " {'Media_ID': '2374256152014035551', 'Post Number': '12'},\n",
       " {'Media_ID': '2374982857460598553', 'Post Number': '13'},\n",
       " {'Media_ID': '2375703690277617500', 'Post Number': '14'},\n",
       " {'Media_ID': '2377154355008937805', 'Post Number': '15'},\n",
       " {'Media_ID': '2379325974552964966', 'Post Number': '16'},\n",
       " {'Media_ID': '2401073013460483918', 'Post Number': '17'},\n",
       " {'Media_ID': '2403971780664637613', 'Post Number': '18'},\n",
       " {'Media_ID': '2392372316829355607', 'Post Number': '19'},\n",
       " {'Media_ID': '2393819932200952230', 'Post Number': '20'},\n",
       " {'Media_ID': '2332214673234408280', 'Post Number': '21'},\n",
       " {'Media_ID': '2326417876016578187', 'Post Number': '22'},\n",
       " {'Media_ID': '2055395784727890523', 'Post Number': '23'},\n",
       " {'Media_ID': '2102358868957189577', 'Post Number': '24'},\n",
       " {'Media_ID': '1966198527960982749', 'Post Number': '25'},\n",
       " {'Media_ID': '1987159258575161759', 'Post Number': '26'},\n",
       " {'Media_ID': '2159737580513839810', 'Post Number': '27'},\n",
       " {'Media_ID': '2182959234081491495', 'Post Number': '28'},\n",
       " {'Media_ID': '2160463653971114171', 'Post Number': '29'},\n",
       " {'Media_ID': '2161184192633221017', 'Post Number': '30'},\n",
       " {'Media_ID': '2163331536627533928', 'Post Number': '31'},\n",
       " {'Media_ID': '2208312798106536960', 'Post Number': '32'},\n",
       " {'Media_ID': '2121987019932853732', 'Post Number': '33'},\n",
       " {'Media_ID': '2125613128666690373', 'Post Number': '34'},\n",
       " {'Media_ID': '2107536970943505183', 'Post Number': '35'},\n",
       " {'Media_ID': '2113882740335783538', 'Post Number': '36'},\n",
       " {'Media_ID': '2129240319237488858', 'Post Number': '37'},\n",
       " {'Media_ID': '2131480331949456229', 'Post Number': '38'},\n",
       " {'Media_ID': '2140887404563010547', 'Post Number': '39'},\n",
       " {'Media_ID': '1763237030782706506', 'Post Number': '40'},\n",
       " {'Media_ID': '1768299216349601415', 'Post Number': '41'},\n",
       " {'Media_ID': '1753807366943158182', 'Post Number': '42'},\n",
       " {'Media_ID': '1798679490442627201', 'Post Number': '43'},\n",
       " {'Media_ID': '1801617808927138608', 'Post Number': '44'},\n",
       " {'Media_ID': '1896499720258306643', 'Post Number': '45'},\n",
       " {'Media_ID': '1908170046388053468', 'Post Number': '46'},\n",
       " {'Media_ID': '1903031274466142951', 'Post Number': '47'},\n",
       " {'Media_ID': '1898725674315683787', 'Post Number': '48'},\n",
       " {'Media_ID': '1836371729587361372', 'Post Number': '49'},\n",
       " {'Media_ID': '1819860468968133278', 'Post Number': '50'},\n",
       " {'Media_ID': '1859561322700379988', 'Post Number': '51'},\n",
       " {'Media_ID': '1449409987176441106', 'Post Number': '52'},\n",
       " {'Media_ID': '1429753014151746445', 'Post Number': '53'},\n",
       " {'Media_ID': '1426235491443713944', 'Post Number': '54'},\n",
       " {'Media_ID': '1424709397783553732', 'Post Number': '55'},\n",
       " {'Media_ID': '1503927654100636950', 'Post Number': '56'},\n",
       " {'Media_ID': '1503087911758559698', 'Post Number': '57'},\n",
       " {'Media_ID': '1502830903398578096', 'Post Number': '58'},\n",
       " {'Media_ID': '1502407106828703050', 'Post Number': '59'},\n",
       " {'Media_ID': '1472434528983148834', 'Post Number': '60'},\n",
       " {'Media_ID': '1629140960340337287', 'Post Number': '61'},\n",
       " {'Media_ID': '1672669427144738929', 'Post Number': '62'},\n",
       " {'Media_ID': '1589275668692020811', 'Post Number': '63'},\n",
       " {'Media_ID': '1580579762056696876', 'Post Number': '64'},\n",
       " {'Media_ID': '1623344337077115076', 'Post Number': '65'},\n",
       " {'Media_ID': '1603773967261177073', 'Post Number': '66'},\n",
       " {'Media_ID': '2272802221573195059', 'Post Number': '67'},\n",
       " {'Media_ID': '2277136383876605543', 'Post Number': '68'},\n",
       " {'Media_ID': '2267020596142919521', 'Post Number': '69'},\n",
       " {'Media_ID': '2309025577926161485', 'Post Number': '70'},\n",
       " {'Media_ID': '2318441033686711195', 'Post Number': '71'},\n",
       " {'Media_ID': '2238018045544357536', 'Post Number': '72'},\n",
       " {'Media_ID': '2241637576284276271', 'Post Number': '73'},\n",
       " {'Media_ID': '2320559229591355949', 'Post Number': '74'},\n",
       " {'Media_ID': '2385035793297463066', 'Post Number': '75'},\n",
       " {'Media_ID': '2389389715764110020', 'Post Number': '76'},\n",
       " {'Media_ID': '2380046485910180488', 'Post Number': '77'},\n",
       " {'Media_ID': '2390197215669104732', 'Post Number': '78'},\n",
       " {'Media_ID': '2406145124990873173', 'Post Number': '79'},\n",
       " {'Media_ID': '2391646102887918104', 'Post Number': '80'},\n",
       " {'Media_ID': '2340912373823790688', 'Post Number': '81'},\n",
       " {'Media_ID': '2341637986872332200', 'Post Number': '82'},\n",
       " {'Media_ID': '2344556738492420878', 'Post Number': '83'},\n",
       " {'Media_ID': '2328591031187499662', 'Post Number': '84'},\n",
       " {'Media_ID': '2329320217187278039', 'Post Number': '85'},\n",
       " {'Media_ID': '2362658401535071533', 'Post Number': '86'},\n",
       " {'Media_ID': '2368366661416176025', 'Post Number': '87'},\n",
       " {'Media_ID': '2354687389077932615', 'Post Number': '88'},\n",
       " {'Media_ID': '2357582963662029392', 'Post Number': '89'},\n",
       " {'Media_ID': '1974833740132282348', 'Post Number': '90'},\n",
       " {'Media_ID': '1966890189284602156', 'Post Number': '91'},\n",
       " {'Media_ID': '1949466066744887187', 'Post Number': '92'},\n",
       " {'Media_ID': '2181521955974614671', 'Post Number': '93'},\n",
       " {'Media_ID': '2164840104103035597', 'Post Number': '94'},\n",
       " {'Media_ID': '2183655066430785319', 'Post Number': '95'},\n",
       " {'Media_ID': '2205413573060285880', 'Post Number': '96'},\n",
       " {'Media_ID': '2189453057137767073', 'Post Number': '97'},\n",
       " {'Media_ID': '2150980070801779539', 'Post Number': '98'},\n",
       " {'Media_ID': '2150289996376326953', 'Post Number': '99'},\n",
       " {'Media_ID': '2133560876812716557', 'Post Number': '100'},\n",
       " {'Media_ID': '1745117272942166673', 'Post Number': '101'},\n",
       " {'Media_ID': '1699475506075557962', 'Post Number': '102'},\n",
       " {'Media_ID': '1725499042183490652', 'Post Number': '103'},\n",
       " {'Media_ID': '1910425967910729120', 'Post Number': '104'},\n",
       " {'Media_ID': '1805211668328662800', 'Post Number': '105'},\n",
       " {'Media_ID': '1940744903143418286', 'Post Number': '106'},\n",
       " {'Media_ID': '1913238341923412470', 'Post Number': '107'},\n",
       " {'Media_ID': '1467523366436760719', 'Post Number': '108'},\n",
       " {'Media_ID': '1680632841997506726', 'Post Number': '109'},\n",
       " {'Media_ID': '1670484666561149167', 'Post Number': '110'},\n",
       " {'Media_ID': '1667585209335061307', 'Post Number': '111'},\n",
       " {'Media_ID': '1571152514916467390', 'Post Number': '112'},\n",
       " {'Media_ID': '2290174641397134487', 'Post Number': '113'},\n",
       " {'Media_ID': '2277857167335209301', 'Post Number': '114'},\n",
       " {'Media_ID': '2314824048713214583', 'Post Number': '115'},\n",
       " {'Media_ID': '2298872952316681035', 'Post Number': '116'},\n",
       " {'Media_ID': '2305402635346694394', 'Post Number': '117'},\n",
       " {'Media_ID': '2227172146362585259', 'Post Number': '118'},\n",
       " {'Media_ID': '2229340306066944548', 'Post Number': '119'},\n",
       " {'Media_ID': '2222026408741698204', 'Post Number': '120'},\n",
       " {'Media_ID': '2236563758729520785', 'Post Number': '121'},\n",
       " {'Media_ID': '2240187744205997029', 'Post Number': '122'},\n",
       " {'Media_ID': '2242390569254170401', 'Post Number': '123'},\n",
       " {'Media_ID': '2249610619639988767', 'Post Number': '124'},\n",
       " {'Media_ID': '2382228073125018606', 'Post Number': '125'},\n",
       " {'Media_ID': '2376428701376464162', 'Post Number': '126'},\n",
       " {'Media_ID': '2372078785502022180', 'Post Number': '127'},\n",
       " {'Media_ID': '2394543096866370290', 'Post Number': '128'},\n",
       " {'Media_ID': '2335119717625589912', 'Post Number': '129'},\n",
       " {'Media_ID': '2100954284342839520', 'Post Number': '130'},\n",
       " {'Media_ID': '2087678198929866088', 'Post Number': '131'},\n",
       " {'Media_ID': '2089303964335581768', 'Post Number': '132'},\n",
       " {'Media_ID': '1964542905318193755', 'Post Number': '133'},\n",
       " {'Media_ID': '1958784568636328999', 'Post Number': '134'},\n",
       " {'Media_ID': '1959498031372046013', 'Post Number': '135'},\n",
       " {'Media_ID': '1961074356125750277', 'Post Number': '136'},\n",
       " {'Media_ID': '1963302311480554431', 'Post Number': '137'},\n",
       " {'Media_ID': '1992948909546199518', 'Post Number': '138'},\n",
       " {'Media_ID': '1994953996867007922', 'Post Number': '139'},\n",
       " {'Media_ID': '2176439294713360680', 'Post Number': '140'},\n",
       " {'Media_ID': '2158233068376638006', 'Post Number': '141'},\n",
       " {'Media_ID': '2166296818413406262', 'Post Number': '142'},\n",
       " {'Media_ID': '2185859532844378211', 'Post Number': '143'},\n",
       " {'Media_ID': '2106820506267655481', 'Post Number': '144'},\n",
       " {'Media_ID': '2204689018310225530', 'Post Number': '145'},\n",
       " {'Media_ID': '2210487117314083586', 'Post Number': '146'},\n",
       " {'Media_ID': '2197454395075369327', 'Post Number': '147'},\n",
       " {'Media_ID': '2112602959376700509', 'Post Number': '148'},\n",
       " {'Media_ID': '2130810738612626663', 'Post Number': '149'},\n",
       " {'Media_ID': '2148126790572643307', 'Post Number': '150'},\n",
       " {'Media_ID': '2148673302134290230', 'Post Number': '151'},\n",
       " {'Media_ID': '1469667324361190881', 'Post Number': '152'},\n",
       " {'Media_ID': '1460965489966559837', 'Post Number': '153'},\n",
       " {'Media_ID': '1568926019967983967', 'Post Number': '154'},\n",
       " {'Media_ID': '1471040147566875581', 'Post Number': '155'},\n",
       " {'Media_ID': '1492260385129833458', 'Post Number': '156'},\n",
       " {'Media_ID': '2292357495979815691', 'Post Number': '157'},\n",
       " {'Media_ID': '2294531683041688683', 'Post Number': '158'},\n",
       " {'Media_ID': '2296705309962776425', 'Post Number': '159'},\n",
       " {'Media_ID': '2304677195732578476', 'Post Number': '160'},\n",
       " {'Media_ID': '2265538390622779759', 'Post Number': '161'},\n",
       " {'Media_ID': '2395996582996887933', 'Post Number': '162'},\n",
       " {'Media_ID': '2039260518723648864', 'Post Number': '163'},\n",
       " {'Media_ID': '2169191271390033368', 'Post Number': '164'},\n",
       " {'Media_ID': '2200340209572738663', 'Post Number': '165'},\n",
       " {'Media_ID': '2199585721341591313', 'Post Number': '166'},\n",
       " {'Media_ID': '2113307228367044400', 'Post Number': '167'},\n",
       " {'Media_ID': '1755980971072423500', 'Post Number': '168'},\n",
       " {'Media_ID': '1804534650578430757', 'Post Number': '169'},\n",
       " {'Media_ID': '1892176228247336941', 'Post Number': '170'},\n",
       " {'Media_ID': '1847205179428842306', 'Post Number': '171'},\n",
       " {'Media_ID': '1456656644616020589', 'Post Number': '172'},\n",
       " {'Media_ID': '2316272620386299488', 'Post Number': '173'},\n",
       " {'Media_ID': '2228606540381960203', 'Post Number': '174'},\n",
       " {'Media_ID': '2218475663773847164', 'Post Number': '175'},\n",
       " {'Media_ID': '2397449166244910636', 'Post Number': '176'},\n",
       " {'Media_ID': '2336568205941007472', 'Post Number': '177'},\n",
       " {'Media_ID': '2345992002930678592', 'Post Number': '178'},\n",
       " {'Media_ID': '2327865817244146318', 'Post Number': '179'},\n",
       " {'Media_ID': '2366283186462677883', 'Post Number': '180'},\n",
       " {'Media_ID': '2369175011045341955', 'Post Number': '181'},\n",
       " {'Media_ID': '2190933286905613285', 'Post Number': '182'},\n",
       " {'Media_ID': '2192375520741944931', 'Post Number': '183'},\n",
       " {'Media_ID': '2110435825708161650', 'Post Number': '184'},\n",
       " {'Media_ID': '1911817338991391196', 'Post Number': '185'},\n",
       " {'Media_ID': '1679908805554351564', 'Post Number': '186'},\n",
       " {'Media_ID': '1673389700231883733', 'Post Number': '187'}]"
      ]
     },
     "execution_count": 85,
     "metadata": {},
     "output_type": "execute_result"
    }
   ],
   "source": [
    "list[:187]"
   ]
  },
  {
   "cell_type": "code",
   "execution_count": 198,
   "metadata": {},
   "outputs": [
    {
     "data": {
      "text/html": [
       "<div>\n",
       "<style scoped>\n",
       "    .dataframe tbody tr th:only-of-type {\n",
       "        vertical-align: middle;\n",
       "    }\n",
       "\n",
       "    .dataframe tbody tr th {\n",
       "        vertical-align: top;\n",
       "    }\n",
       "\n",
       "    .dataframe thead th {\n",
       "        text-align: right;\n",
       "    }\n",
       "</style>\n",
       "<table border=\"1\" class=\"dataframe\">\n",
       "  <thead>\n",
       "    <tr style=\"text-align: right;\">\n",
       "      <th></th>\n",
       "      <th>Media_ID</th>\n",
       "    </tr>\n",
       "  </thead>\n",
       "  <tbody>\n",
       "    <tr>\n",
       "      <th>0</th>\n",
       "      <td>2407591116654670633</td>\n",
       "    </tr>\n",
       "    <tr>\n",
       "      <th>1</th>\n",
       "      <td>2288731916357414098</td>\n",
       "    </tr>\n",
       "    <tr>\n",
       "      <th>2</th>\n",
       "      <td>2311920827309103109</td>\n",
       "    </tr>\n",
       "    <tr>\n",
       "      <th>3</th>\n",
       "      <td>2256876888386708441</td>\n",
       "    </tr>\n",
       "    <tr>\n",
       "      <th>4</th>\n",
       "      <td>2263376507769772597</td>\n",
       "    </tr>\n",
       "    <tr>\n",
       "      <th>...</th>\n",
       "      <td>...</td>\n",
       "    </tr>\n",
       "    <tr>\n",
       "      <th>182</th>\n",
       "      <td>2192375520741944931</td>\n",
       "    </tr>\n",
       "    <tr>\n",
       "      <th>183</th>\n",
       "      <td>2110435825708161650</td>\n",
       "    </tr>\n",
       "    <tr>\n",
       "      <th>184</th>\n",
       "      <td>1911817338991391196</td>\n",
       "    </tr>\n",
       "    <tr>\n",
       "      <th>185</th>\n",
       "      <td>1679908805554351564</td>\n",
       "    </tr>\n",
       "    <tr>\n",
       "      <th>186</th>\n",
       "      <td>1673389700231883733</td>\n",
       "    </tr>\n",
       "  </tbody>\n",
       "</table>\n",
       "<p>187 rows × 1 columns</p>\n",
       "</div>"
      ],
      "text/plain": [
       "                Media_ID\n",
       "0    2407591116654670633\n",
       "1    2288731916357414098\n",
       "2    2311920827309103109\n",
       "3    2256876888386708441\n",
       "4    2263376507769772597\n",
       "..                   ...\n",
       "182  2192375520741944931\n",
       "183  2110435825708161650\n",
       "184  1911817338991391196\n",
       "185  1679908805554351564\n",
       "186  1673389700231883733\n",
       "\n",
       "[187 rows x 1 columns]"
      ]
     },
     "execution_count": 198,
     "metadata": {},
     "output_type": "execute_result"
    }
   ],
   "source": [
    "lista=[]\n",
    "i=0\n",
    "for a in GRV2017['link']:\n",
    "    dict={}\n",
    "    dict[\"Media_ID\"]=get_media_id(a)\n",
    "    i=i+1\n",
    "    lista.append(dict)\n",
    "pd.DataFrame(lista)"
   ]
  },
  {
   "cell_type": "code",
   "execution_count": 199,
   "metadata": {},
   "outputs": [
    {
     "data": {
      "text/plain": [
       "[{'Media_ID': '2407591116654670633'},\n",
       " {'Media_ID': '2288731916357414098'},\n",
       " {'Media_ID': '2311920827309103109'},\n",
       " {'Media_ID': '2256876888386708441'},\n",
       " {'Media_ID': '2263376507769772597'},\n",
       " {'Media_ID': '2243811830798841632'},\n",
       " {'Media_ID': '2382951904743669972'},\n",
       " {'Media_ID': '2385852870216244255'},\n",
       " {'Media_ID': '2387302296587667917'},\n",
       " {'Media_ID': '2387934525420558352'},\n",
       " {'Media_ID': '2381503464662723319'},\n",
       " {'Media_ID': '2374256152014035551'},\n",
       " {'Media_ID': '2374982857460598553'},\n",
       " {'Media_ID': '2375703690277617500'},\n",
       " {'Media_ID': '2377154355008937805'},\n",
       " {'Media_ID': '2379325974552964966'},\n",
       " {'Media_ID': '2401073013460483918'},\n",
       " {'Media_ID': '2403971780664637613'},\n",
       " {'Media_ID': '2392372316829355607'},\n",
       " {'Media_ID': '2393819932200952230'},\n",
       " {'Media_ID': '2332214673234408280'},\n",
       " {'Media_ID': '2326417876016578187'},\n",
       " {'Media_ID': '2055395784727890523'},\n",
       " {'Media_ID': '2102358868957189577'},\n",
       " {'Media_ID': '1966198527960982749'},\n",
       " {'Media_ID': '1987159258575161759'},\n",
       " {'Media_ID': '2159737580513839810'},\n",
       " {'Media_ID': '2182959234081491495'},\n",
       " {'Media_ID': '2160463653971114171'},\n",
       " {'Media_ID': '2161184192633221017'},\n",
       " {'Media_ID': '2163331536627533928'},\n",
       " {'Media_ID': '2208312798106536960'},\n",
       " {'Media_ID': '2121987019932853732'},\n",
       " {'Media_ID': '2125613128666690373'},\n",
       " {'Media_ID': '2107536970943505183'},\n",
       " {'Media_ID': '2113882740335783538'},\n",
       " {'Media_ID': '2129240319237488858'},\n",
       " {'Media_ID': '2131480331949456229'},\n",
       " {'Media_ID': '2140887404563010547'},\n",
       " {'Media_ID': '1763237030782706506'},\n",
       " {'Media_ID': '1768299216349601415'},\n",
       " {'Media_ID': '1753807366943158182'},\n",
       " {'Media_ID': '1798679490442627201'},\n",
       " {'Media_ID': '1801617808927138608'},\n",
       " {'Media_ID': '1896499720258306643'},\n",
       " {'Media_ID': '1908170046388053468'},\n",
       " {'Media_ID': '1903031274466142951'},\n",
       " {'Media_ID': '1898725674315683787'},\n",
       " {'Media_ID': '1836371729587361372'},\n",
       " {'Media_ID': '1819860468968133278'},\n",
       " {'Media_ID': '1859561322700379988'},\n",
       " {'Media_ID': '1449409987176441106'},\n",
       " {'Media_ID': '1429753014151746445'},\n",
       " {'Media_ID': '1426235491443713944'},\n",
       " {'Media_ID': '1424709397783553732'},\n",
       " {'Media_ID': '1503927654100636950'},\n",
       " {'Media_ID': '1503087911758559698'},\n",
       " {'Media_ID': '1502830903398578096'},\n",
       " {'Media_ID': '1502407106828703050'},\n",
       " {'Media_ID': '1472434528983148834'},\n",
       " {'Media_ID': '1629140960340337287'},\n",
       " {'Media_ID': '1672669427144738929'},\n",
       " {'Media_ID': '1589275668692020811'},\n",
       " {'Media_ID': '1580579762056696876'},\n",
       " {'Media_ID': '1623344337077115076'},\n",
       " {'Media_ID': '1603773967261177073'},\n",
       " {'Media_ID': '2272802221573195059'},\n",
       " {'Media_ID': '2277136383876605543'},\n",
       " {'Media_ID': '2267020596142919521'},\n",
       " {'Media_ID': '2309025577926161485'},\n",
       " {'Media_ID': '2318441033686711195'},\n",
       " {'Media_ID': '2238018045544357536'},\n",
       " {'Media_ID': '2241637576284276271'},\n",
       " {'Media_ID': '2320559229591355949'},\n",
       " {'Media_ID': '2385035793297463066'},\n",
       " {'Media_ID': '2389389715764110020'},\n",
       " {'Media_ID': '2380046485910180488'},\n",
       " {'Media_ID': '2390197215669104732'},\n",
       " {'Media_ID': '2406145124990873173'},\n",
       " {'Media_ID': '2391646102887918104'},\n",
       " {'Media_ID': '2340912373823790688'},\n",
       " {'Media_ID': '2341637986872332200'},\n",
       " {'Media_ID': '2344556738492420878'},\n",
       " {'Media_ID': '2328591031187499662'},\n",
       " {'Media_ID': '2329320217187278039'},\n",
       " {'Media_ID': '2362658401535071533'},\n",
       " {'Media_ID': '2368366661416176025'},\n",
       " {'Media_ID': '2354687389077932615'},\n",
       " {'Media_ID': '2357582963662029392'},\n",
       " {'Media_ID': '1974833740132282348'},\n",
       " {'Media_ID': '1966890189284602156'},\n",
       " {'Media_ID': '1949466066744887187'},\n",
       " {'Media_ID': '2181521955974614671'},\n",
       " {'Media_ID': '2164840104103035597'},\n",
       " {'Media_ID': '2183655066430785319'},\n",
       " {'Media_ID': '2205413573060285880'},\n",
       " {'Media_ID': '2189453057137767073'},\n",
       " {'Media_ID': '2150980070801779539'},\n",
       " {'Media_ID': '2150289996376326953'},\n",
       " {'Media_ID': '2133560876812716557'},\n",
       " {'Media_ID': '1745117272942166673'},\n",
       " {'Media_ID': '1699475506075557962'},\n",
       " {'Media_ID': '1725499042183490652'},\n",
       " {'Media_ID': '1910425967910729120'},\n",
       " {'Media_ID': '1805211668328662800'},\n",
       " {'Media_ID': '1940744903143418286'},\n",
       " {'Media_ID': '1913238341923412470'},\n",
       " {'Media_ID': '1467523366436760719'},\n",
       " {'Media_ID': '1680632841997506726'},\n",
       " {'Media_ID': '1670484666561149167'},\n",
       " {'Media_ID': '1667585209335061307'},\n",
       " {'Media_ID': '1571152514916467390'},\n",
       " {'Media_ID': '2290174641397134487'},\n",
       " {'Media_ID': '2277857167335209301'},\n",
       " {'Media_ID': '2314824048713214583'},\n",
       " {'Media_ID': '2298872952316681035'},\n",
       " {'Media_ID': '2305402635346694394'},\n",
       " {'Media_ID': '2227172146362585259'},\n",
       " {'Media_ID': '2229340306066944548'},\n",
       " {'Media_ID': '2222026408741698204'},\n",
       " {'Media_ID': '2236563758729520785'},\n",
       " {'Media_ID': '2240187744205997029'},\n",
       " {'Media_ID': '2242390569254170401'},\n",
       " {'Media_ID': '2249610619639988767'},\n",
       " {'Media_ID': '2382228073125018606'},\n",
       " {'Media_ID': '2376428701376464162'},\n",
       " {'Media_ID': '2372078785502022180'},\n",
       " {'Media_ID': '2394543096866370290'},\n",
       " {'Media_ID': '2335119717625589912'},\n",
       " {'Media_ID': '2100954284342839520'},\n",
       " {'Media_ID': '2087678198929866088'},\n",
       " {'Media_ID': '2089303964335581768'},\n",
       " {'Media_ID': '1964542905318193755'},\n",
       " {'Media_ID': '1958784568636328999'},\n",
       " {'Media_ID': '1959498031372046013'},\n",
       " {'Media_ID': '1961074356125750277'},\n",
       " {'Media_ID': '1963302311480554431'},\n",
       " {'Media_ID': '1992948909546199518'},\n",
       " {'Media_ID': '1994953996867007922'},\n",
       " {'Media_ID': '2176439294713360680'},\n",
       " {'Media_ID': '2158233068376638006'},\n",
       " {'Media_ID': '2166296818413406262'},\n",
       " {'Media_ID': '2185859532844378211'},\n",
       " {'Media_ID': '2106820506267655481'},\n",
       " {'Media_ID': '2204689018310225530'},\n",
       " {'Media_ID': '2210487117314083586'},\n",
       " {'Media_ID': '2197454395075369327'},\n",
       " {'Media_ID': '2112602959376700509'},\n",
       " {'Media_ID': '2130810738612626663'},\n",
       " {'Media_ID': '2148126790572643307'},\n",
       " {'Media_ID': '2148673302134290230'},\n",
       " {'Media_ID': '1469667324361190881'},\n",
       " {'Media_ID': '1460965489966559837'},\n",
       " {'Media_ID': '1568926019967983967'},\n",
       " {'Media_ID': '1471040147566875581'},\n",
       " {'Media_ID': '1492260385129833458'},\n",
       " {'Media_ID': '2292357495979815691'},\n",
       " {'Media_ID': '2294531683041688683'},\n",
       " {'Media_ID': '2296705309962776425'},\n",
       " {'Media_ID': '2304677195732578476'},\n",
       " {'Media_ID': '2265538390622779759'},\n",
       " {'Media_ID': '2395996582996887933'},\n",
       " {'Media_ID': '2039260518723648864'},\n",
       " {'Media_ID': '2169191271390033368'},\n",
       " {'Media_ID': '2200340209572738663'},\n",
       " {'Media_ID': '2199585721341591313'},\n",
       " {'Media_ID': '2113307228367044400'},\n",
       " {'Media_ID': '1755980971072423500'},\n",
       " {'Media_ID': '1804534650578430757'},\n",
       " {'Media_ID': '1892176228247336941'},\n",
       " {'Media_ID': '1847205179428842306'},\n",
       " {'Media_ID': '1456656644616020589'},\n",
       " {'Media_ID': '2316272620386299488'},\n",
       " {'Media_ID': '2228606540381960203'},\n",
       " {'Media_ID': '2218475663773847164'},\n",
       " {'Media_ID': '2397449166244910636'},\n",
       " {'Media_ID': '2336568205941007472'},\n",
       " {'Media_ID': '2345992002930678592'},\n",
       " {'Media_ID': '2327865817244146318'},\n",
       " {'Media_ID': '2366283186462677883'},\n",
       " {'Media_ID': '2369175011045341955'},\n",
       " {'Media_ID': '2190933286905613285'},\n",
       " {'Media_ID': '2192375520741944931'},\n",
       " {'Media_ID': '2110435825708161650'},\n",
       " {'Media_ID': '1911817338991391196'},\n",
       " {'Media_ID': '1679908805554351564'},\n",
       " {'Media_ID': '1673389700231883733'}]"
      ]
     },
     "execution_count": 199,
     "metadata": {},
     "output_type": "execute_result"
    }
   ],
   "source": [
    "lista"
   ]
  },
  {
   "cell_type": "code",
   "execution_count": 200,
   "metadata": {
    "colab": {},
    "colab_type": "code",
    "id": "Cj3slqtlb94x"
   },
   "outputs": [],
   "source": [
    "commentGRV1 = instagram.get_media_comments_by_id(2241,500)\n",
    "sleep(2)\n",
    "commentGRV2 = instagram.get_media_comments_by_id(1021,500)\n",
    "sleep(2)\n",
    "commentGRV3 = instagram.get_media_comments_by_id(2311,500)\n",
    "sleep(2)\n",
    "commentGRV4 = instagram.get_media_comments_by_id(2256,500)\n",
    "sleep(2)\n",
    "commentGRV5 = instagram.get_media_comments_by_id(2263,500)\n",
    "sleep(2)\n",
    "commentGRV6 = instagram.get_media_comments_by_id(2243,500)\n",
    "sleep(2)\n",
    "commentGRV7 = instagram.get_media_comments_by_id(2382,500)\n",
    "sleep(2)\n",
    "commentGRV8 = instagram.get_media_comments_by_id(2385,500)\n",
    "sleep(2)\n",
    "commentGRV9 = instagram.get_media_comments_by_id(2387,500)\n",
    "sleep(2)\n",
    "commentGRV10 = instagram.get_media_comments_by_id(2321,500)\n",
    "#break"
   ]
  },
  {
   "cell_type": "code",
   "execution_count": 220,
   "metadata": {},
   "outputs": [],
   "source": [
    "commentGRV185 = instagram.get_media_comments_by_id(1911817338991391196,500)\n",
    "sleep(2)\n",
    "commentGRV186 = instagram.get_media_comments_by_id(1679908805554351564,500)\n",
    "sleep(2)\n",
    "commentGRV187 = instagram.get_media_comments_by_id(1673389700231883733,500)\n",
    "sleep(2)"
   ]
  },
  {
   "cell_type": "code",
   "execution_count": 222,
   "metadata": {},
   "outputs": [],
   "source": [
    "os.chdir(r'C:\\Users\\User\\Sept')\n",
    "GRV2017 = pd.read_excel('GRV2017.xlsx')"
   ]
  },
  {
   "cell_type": "code",
   "execution_count": 223,
   "metadata": {
    "colab": {
     "base_uri": "https://localhost:8080/",
     "height": 34
    },
    "colab_type": "code",
    "id": "L_DYwHmib948",
    "outputId": "8efdfb47-045b-45e7-fb43-d0fb26e1c392"
   },
   "outputs": [],
   "source": [
    "os.chdir(r'C:\\Users\\User\\Sept\\GRV')\n",
    "\n",
    "for i,_ in enumerate(GRV2017['link'], 1):\n",
    "    GRVpi = pd.DataFrame( [{'comments':comment.text} for comment in locals()[f\"commentGRV{i}\"]['comments'] ] )\n",
    "    GRVpi['date']=GRV2017['date'][i-1]\n",
    "    GRVpi['post_year']=GRV2017['year'][i-1]\n",
    "    GRVpi['post_month']=GRV2017['month'][i-1]\n",
    "    GRVpi['post_week_of_the_year']=GRV2017['week_of_the_year'][i-1]\n",
    "    GRVpi['post_week_of_the_month']=GRV2017['week_of_the_month'][i-1]\n",
    "    GRVpi['post_day']=GRV2017['day'][i-1]\n",
    "    GRVpi['post_day_of_the_week']=GRV2017['day_of_the_week'][i-1]\n",
    "    GRVpi['post_time']=GRV2017['time'][i-1]\n",
    "    GRVpi['post_time_category']=GRV2017['time_category'][i-1]\n",
    "    GRVpi['post_caption']=GRV2017['caption'][i-1]\n",
    "    GRVpi['post_caption_length']=GRV2017['caption_length'][i-1]\n",
    "    GRVpi['post_likes_count']=GRV2017['likes_count'][i-1]\n",
    "    GRVpi['post_interactions_count']=GRV2017['interactions_count'][i-1]\n",
    "    GRVpi['post_decile_rank']=GRV2017['decile_rank'][i-1]\n",
    "    GRVpi['post_video_view_count']=GRV2017['video_view_count'][i-1]\n",
    "    GRVpi['post_is_video']=GRV2017['is_video'][i-1]\n",
    "    GRVpi['world']=GRV2017['world'][i-1]\n",
    "    GRVpi['family_type']=GRV2017['family_type'][i-1]\n",
    "    GRVpi['link']=GRV2017['link'][i-1]\n",
    "    GRVpi.to_excel(f'GRVp{i}.xlsx')\n",
    "    if i>= 187: break"
   ]
  },
  {
   "cell_type": "markdown",
   "metadata": {
    "colab_type": "text",
    "id": "sRT7xpaXb928"
   },
   "source": [
    "Concatenate the separate excel files into one dataframe"
   ]
  },
  {
   "cell_type": "code",
   "execution_count": 224,
   "metadata": {
    "colab": {
     "base_uri": "https://localhost:8080/",
     "height": 34
    },
    "colab_type": "code",
    "id": "on-6F-C1b928",
    "outputId": "0bd073dc-6ca0-460e-9385-e8083112831d"
   },
   "outputs": [],
   "source": [
    "os.chdir(r'C:\\Users\\User\\Sept\\GRV')\n",
    "GRVfiles = os.listdir()"
   ]
  },
  {
   "cell_type": "code",
   "execution_count": 225,
   "metadata": {
    "colab": {
     "base_uri": "https://localhost:8080/",
     "height": 187
    },
    "colab_type": "code",
    "id": "rVysOQS-b929",
    "outputId": "414576a9-7030-4fc0-c16a-16ec9c6509fb"
   },
   "outputs": [
    {
     "data": {
      "text/plain": [
       "['Gravityp1.xlsx',\n",
       " 'Gravityp10.xlsx',\n",
       " 'Gravityp100.xlsx',\n",
       " 'Gravityp101.xlsx',\n",
       " 'Gravityp102.xlsx',\n",
       " 'Gravityp103.xlsx',\n",
       " 'Gravityp104.xlsx',\n",
       " 'Gravityp105.xlsx',\n",
       " 'Gravityp106.xlsx',\n",
       " 'Gravityp107.xlsx']"
      ]
     },
     "execution_count": 225,
     "metadata": {},
     "output_type": "execute_result"
    }
   ],
   "source": [
    "GRV_xlsx = [f for f in GRVfiles if f[-4:] == 'xlsx']\n",
    "GRV_xlsx[:10]"
   ]
  },
  {
   "cell_type": "code",
   "execution_count": 226,
   "metadata": {
    "colab": {
     "base_uri": "https://localhost:8080/",
     "height": 34
    },
    "colab_type": "code",
    "id": "opbuh5mcb93A",
    "outputId": "06da657d-a9a5-4705-e912-095311176e0f"
   },
   "outputs": [],
   "source": [
    "joined_GRV = pd.DataFrame()\n",
    "for f in GRV_xlsx:\n",
    "    GRVdata = pd.read_excel(f, 'Sheet1')\n",
    "    joined_GRV = joined_GRV.append(GRVdata)"
   ]
  },
  {
   "cell_type": "code",
   "execution_count": 227,
   "metadata": {
    "colab": {
     "base_uri": "https://localhost:8080/",
     "height": 34
    },
    "colab_type": "code",
    "id": "GZ7oppA3b93B",
    "outputId": "ad0870f4-4ee2-4bef-ac47-2a5d78dd8ec9"
   },
   "outputs": [
    {
     "data": {
      "text/plain": [
       "11357"
      ]
     },
     "execution_count": 227,
     "metadata": {},
     "output_type": "execute_result"
    }
   ],
   "source": [
    "len(joined_GRV)"
   ]
  },
  {
   "cell_type": "markdown",
   "metadata": {},
   "source": [
    "There are 11357 GRV comments since 2017."
   ]
  },
  {
   "cell_type": "code",
   "execution_count": 228,
   "metadata": {
    "colab": {
     "base_uri": "https://localhost:8080/",
     "height": 34
    },
    "colab_type": "code",
    "id": "FPRv6b04b93D",
    "outputId": "6127770e-a1c5-4d47-c315-9c6443958546",
    "scrolled": false
   },
   "outputs": [],
   "source": [
    "os.chdir(r'C:\\Users\\User\\Sept')\n",
    "joined_GRV.to_excel('joined_GRV.xlsx',index=False)"
   ]
  },
  {
   "cell_type": "code",
   "execution_count": 229,
   "metadata": {
    "colab": {
     "base_uri": "https://localhost:8080/",
     "height": 570
    },
    "colab_type": "code",
    "id": "VKgu-DIVb93E",
    "outputId": "b5b8a1eb-e250-4d6f-8264-056fdff48715"
   },
   "outputs": [
    {
     "data": {
      "text/html": [
       "<div>\n",
       "<style scoped>\n",
       "    .dataframe tbody tr th:only-of-type {\n",
       "        vertical-align: middle;\n",
       "    }\n",
       "\n",
       "    .dataframe tbody tr th {\n",
       "        vertical-align: top;\n",
       "    }\n",
       "\n",
       "    .dataframe thead th {\n",
       "        text-align: right;\n",
       "    }\n",
       "</style>\n",
       "<table border=\"1\" class=\"dataframe\">\n",
       "  <thead>\n",
       "    <tr style=\"text-align: right;\">\n",
       "      <th></th>\n",
       "      <th>comments</th>\n",
       "      <th>date</th>\n",
       "      <th>post_year</th>\n",
       "      <th>post_month</th>\n",
       "      <th>post_week_of_the_year</th>\n",
       "      <th>post_week_of_the_month</th>\n",
       "      <th>post_day</th>\n",
       "      <th>post_day_of_the_week</th>\n",
       "      <th>post_time</th>\n",
       "      <th>post_time_category</th>\n",
       "      <th>post_caption</th>\n",
       "      <th>post_caption_length</th>\n",
       "      <th>post_likes_count</th>\n",
       "      <th>post_interactions_count</th>\n",
       "      <th>post_decile_rank</th>\n",
       "      <th>post_video_view_count</th>\n",
       "      <th>post_is_video</th>\n",
       "      <th>world</th>\n",
       "      <th>family_type</th>\n",
       "      <th>link</th>\n",
       "    </tr>\n",
       "    <tr>\n",
       "      <th>Unnamed: 0</th>\n",
       "      <th></th>\n",
       "      <th></th>\n",
       "      <th></th>\n",
       "      <th></th>\n",
       "      <th></th>\n",
       "      <th></th>\n",
       "      <th></th>\n",
       "      <th></th>\n",
       "      <th></th>\n",
       "      <th></th>\n",
       "      <th></th>\n",
       "      <th></th>\n",
       "      <th></th>\n",
       "      <th></th>\n",
       "      <th></th>\n",
       "      <th></th>\n",
       "      <th></th>\n",
       "      <th></th>\n",
       "      <th></th>\n",
       "      <th></th>\n",
       "    </tr>\n",
       "  </thead>\n",
       "  <tbody>\n",
       "    <tr>\n",
       "      <th>0</th>\n",
       "      <td>Dreambike😍😍</td>\n",
       "      <td>2020-09-27 19:20:48 Sunday</td>\n",
       "      <td>2020</td>\n",
       "      <td>9</td>\n",
       "      <td>39</td>\n",
       "      <td>4</td>\n",
       "      <td>27</td>\n",
       "      <td>Sun</td>\n",
       "      <td>19:20:48</td>\n",
       "      <td>Evening</td>\n",
       "      <td>Come rain or shine, nothing stops us from wanting to get out on the new Sender CFR, although we’re not sure how much of that squeaky clean white paint we’d be able to see by the end of a day of downhill shredding.\\n•\\nAfter 3 years in design we learnt that one of the key features for a winning downhill bike would be to offer outstanding adjustability so that the riders can tailor it to their style, and to the array of downhill courses they’ll race throughout the season. So, that’s why on the new Sender CFR there is 10mm of chainstay adjustment, and +/- 8mm of reach adjustment, whether you want your setup to feel more short and playful for jumpier courses, or longer and more planted for those rock sections, then the Senders set up can adapt to them all.\\n•\\n#MyCanyon #CLLCTV #CanyonSender #DownhillMTB\\n•\\n@maddogboris</td>\n",
       "      <td>822</td>\n",
       "      <td>19793</td>\n",
       "      <td>19833</td>\n",
       "      <td>8</td>\n",
       "      <td>0</td>\n",
       "      <td>0</td>\n",
       "      <td>Gravity</td>\n",
       "      <td>Sender</td>\n",
       "      <td>https://www.instagram.com/p/CFpe11YlnMp</td>\n",
       "    </tr>\n",
       "    <tr>\n",
       "      <th>1</th>\n",
       "      <td>😍😍😍🤙🔥🤙</td>\n",
       "      <td>2020-09-27 19:20:48 Sunday</td>\n",
       "      <td>2020</td>\n",
       "      <td>9</td>\n",
       "      <td>39</td>\n",
       "      <td>4</td>\n",
       "      <td>27</td>\n",
       "      <td>Sun</td>\n",
       "      <td>19:20:48</td>\n",
       "      <td>Evening</td>\n",
       "      <td>Come rain or shine, nothing stops us from wanting to get out on the new Sender CFR, although we’re not sure how much of that squeaky clean white paint we’d be able to see by the end of a day of downhill shredding.\\n•\\nAfter 3 years in design we learnt that one of the key features for a winning downhill bike would be to offer outstanding adjustability so that the riders can tailor it to their style, and to the array of downhill courses they’ll race throughout the season. So, that’s why on the new Sender CFR there is 10mm of chainstay adjustment, and +/- 8mm of reach adjustment, whether you want your setup to feel more short and playful for jumpier courses, or longer and more planted for those rock sections, then the Senders set up can adapt to them all.\\n•\\n#MyCanyon #CLLCTV #CanyonSender #DownhillMTB\\n•\\n@maddogboris</td>\n",
       "      <td>822</td>\n",
       "      <td>19793</td>\n",
       "      <td>19833</td>\n",
       "      <td>8</td>\n",
       "      <td>0</td>\n",
       "      <td>0</td>\n",
       "      <td>Gravity</td>\n",
       "      <td>Sender</td>\n",
       "      <td>https://www.instagram.com/p/CFpe11YlnMp</td>\n",
       "    </tr>\n",
       "  </tbody>\n",
       "</table>\n",
       "</div>"
      ],
      "text/plain": [
       "               comments                        date  post_year  post_month  \\\n",
       "Unnamed: 0                                                                   \n",
       "0           Dreambike😍😍  2020-09-27 19:20:48 Sunday       2020           9   \n",
       "1                😍😍😍🤙🔥🤙  2020-09-27 19:20:48 Sunday       2020           9   \n",
       "\n",
       "            post_week_of_the_year  post_week_of_the_month  post_day  \\\n",
       "Unnamed: 0                                                            \n",
       "0                              39                       4        27   \n",
       "1                              39                       4        27   \n",
       "\n",
       "           post_day_of_the_week post_time post_time_category  \\\n",
       "Unnamed: 0                                                     \n",
       "0                           Sun  19:20:48            Evening   \n",
       "1                           Sun  19:20:48            Evening   \n",
       "\n",
       "                                                                                                                                                                                                                                                                                                                                                                                                                                                                                                                                                                                                                                                                                                                                                                                                                                                            post_caption  \\\n",
       "Unnamed: 0                                                                                                                                                                                                                                                                                                                                                                                                                                                                                                                                                                                                                                                                                                                                                                                                                                                                 \n",
       "0           Come rain or shine, nothing stops us from wanting to get out on the new Sender CFR, although we’re not sure how much of that squeaky clean white paint we’d be able to see by the end of a day of downhill shredding.\\n•\\nAfter 3 years in design we learnt that one of the key features for a winning downhill bike would be to offer outstanding adjustability so that the riders can tailor it to their style, and to the array of downhill courses they’ll race throughout the season. So, that’s why on the new Sender CFR there is 10mm of chainstay adjustment, and +/- 8mm of reach adjustment, whether you want your setup to feel more short and playful for jumpier courses, or longer and more planted for those rock sections, then the Senders set up can adapt to them all.\\n•\\n#MyCanyon #CLLCTV #CanyonSender #DownhillMTB\\n•\\n@maddogboris   \n",
       "1           Come rain or shine, nothing stops us from wanting to get out on the new Sender CFR, although we’re not sure how much of that squeaky clean white paint we’d be able to see by the end of a day of downhill shredding.\\n•\\nAfter 3 years in design we learnt that one of the key features for a winning downhill bike would be to offer outstanding adjustability so that the riders can tailor it to their style, and to the array of downhill courses they’ll race throughout the season. So, that’s why on the new Sender CFR there is 10mm of chainstay adjustment, and +/- 8mm of reach adjustment, whether you want your setup to feel more short and playful for jumpier courses, or longer and more planted for those rock sections, then the Senders set up can adapt to them all.\\n•\\n#MyCanyon #CLLCTV #CanyonSender #DownhillMTB\\n•\\n@maddogboris   \n",
       "\n",
       "            post_caption_length  post_likes_count  post_interactions_count  \\\n",
       "Unnamed: 0                                                                   \n",
       "0                           822             19793                    19833   \n",
       "1                           822             19793                    19833   \n",
       "\n",
       "            post_decile_rank  post_video_view_count  post_is_video    world  \\\n",
       "Unnamed: 0                                                                    \n",
       "0                          8                      0              0  Gravity   \n",
       "1                          8                      0              0  Gravity   \n",
       "\n",
       "           family_type                                     link  \n",
       "Unnamed: 0                                                       \n",
       "0               Sender  https://www.instagram.com/p/CFpe11YlnMp  \n",
       "1               Sender  https://www.instagram.com/p/CFpe11YlnMp  "
      ]
     },
     "execution_count": 229,
     "metadata": {},
     "output_type": "execute_result"
    }
   ],
   "source": [
    "joined_GRV= pd.read_excel('joined_GRV.xlsx',index_col=0)\n",
    "joined_GRV.head(2)"
   ]
  },
  {
   "cell_type": "code",
   "execution_count": 231,
   "metadata": {},
   "outputs": [
    {
     "data": {
      "text/plain": [
       "31293"
      ]
     },
     "execution_count": 231,
     "metadata": {},
     "output_type": "execute_result"
    }
   ],
   "source": [
    "len(CCNcomments)"
   ]
  },
  {
   "cell_type": "code",
   "execution_count": 232,
   "metadata": {},
   "outputs": [],
   "source": [
    "CCNcomments.to_csv('CCNcomments.csv')"
   ]
  }
 ],
 "metadata": {
  "colab": {
   "collapsed_sections": [],
   "name": "Comments Extraction & Family Substitute",
   "provenance": [],
   "toc_visible": true
  },
  "kernelspec": {
   "display_name": "Python 3",
   "language": "python",
   "name": "python3"
  },
  "language_info": {
   "codemirror_mode": {
    "name": "ipython",
    "version": 3
   },
   "file_extension": ".py",
   "mimetype": "text/x-python",
   "name": "python",
   "nbconvert_exporter": "python",
   "pygments_lexer": "ipython3",
   "version": "3.8.3"
  },
  "toc": {
   "base_numbering": 1,
   "nav_menu": {},
   "number_sections": true,
   "sideBar": true,
   "skip_h1_title": false,
   "title_cell": "Table of Contents",
   "title_sidebar": "Contents",
   "toc_cell": true,
   "toc_position": {
    "height": "calc(100% - 180px)",
    "left": "10px",
    "top": "150px",
    "width": "265.182px"
   },
   "toc_section_display": true,
   "toc_window_display": true
  }
 },
 "nbformat": 4,
 "nbformat_minor": 1
}
