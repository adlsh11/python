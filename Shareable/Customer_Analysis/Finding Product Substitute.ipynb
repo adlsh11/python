{
 "cells": [
  {
   "cell_type": "markdown",
   "metadata": {
    "colab_type": "text",
    "id": "yCSsmhc0tuBr"
   },
   "source": [
    "## Import Libraries"
   ]
  },
  {
   "cell_type": "code",
   "execution_count": 2,
   "metadata": {
    "colab": {},
    "colab_type": "code",
    "id": "_VeOy0u9b9x7"
   },
   "outputs": [],
   "source": [
    "import sys\n",
    "import os"
   ]
  },
  {
   "cell_type": "code",
   "execution_count": 3,
   "metadata": {
    "colab": {},
    "colab_type": "code",
    "id": "XRWzfoXHb9x-",
    "scrolled": true
   },
   "outputs": [],
   "source": [
    "import pandas as pd\n",
    "import matplotlib.pyplot as plt\n",
    "import numpy as np\n",
    "pd.set_option('display.max_rows', 10)\n",
    "pd.set_option('display.max_columns', 40)\n",
    "pd.set_option('display.max_colwidth', None)"
   ]
  },
  {
   "cell_type": "code",
   "execution_count": 4,
   "metadata": {},
   "outputs": [],
   "source": [
    "os.chdir(r'C:\\Users\\User\\Sept')\n",
    "df = pd.read_excel('CCsentiment.xlsx')"
   ]
  },
  {
   "cell_type": "code",
   "execution_count": 5,
   "metadata": {
    "colab": {},
    "colab_type": "code",
    "id": "8MW_0tZIq0hK"
   },
   "outputs": [],
   "source": [
    "startdate1718 = datetime.strptime('2017-09-01', \"%Y-%m-%d\").date()\n",
    "enddate1718 = datetime.strptime('2018-08-31', \"%Y-%m-%d\").date()\n",
    "\n",
    "startdate1819 = datetime.strptime('2018-09-01', \"%Y-%m-%d\").date()\n",
    "enddate1819 = datetime.strptime('2019-08-31', \"%Y-%m-%d\").date()\n",
    "\n",
    "startdate1920 = datetime.strptime('2019-09-01', \"%Y-%m-%d\").date()\n",
    "enddate1920 = datetime.strptime('2020-08-31', \"%Y-%m-%d\").date()"
   ]
  },
  {
   "cell_type": "code",
   "execution_count": 6,
   "metadata": {},
   "outputs": [],
   "source": [
    "from datetime import datetime\n",
    "\n",
    "def conv_datetime(date):\n",
    "    return datetime.strptime(date, '%Y-%m-%d %H:%M:%S %A')"
   ]
  },
  {
   "cell_type": "code",
   "execution_count": 10,
   "metadata": {},
   "outputs": [],
   "source": [
    "df['date']= df['date'].apply(conv_datetime)"
   ]
  },
  {
   "cell_type": "code",
   "execution_count": 11,
   "metadata": {},
   "outputs": [
    {
     "data": {
      "text/plain": [
       "0       2020-09-27 19:20:48\n",
       "1       2020-09-27 19:20:48\n",
       "2       2020-09-27 19:20:48\n",
       "3       2020-09-27 19:20:48\n",
       "4       2020-09-27 19:20:48\n",
       "                ...        \n",
       "21193   2020-08-08 19:29:17\n",
       "21194   2020-06-13 19:35:36\n",
       "21195   2019-06-20 16:04:03\n",
       "21196   2019-10-16 19:58:22\n",
       "21197   2017-11-05 18:15:03\n",
       "Name: date, Length: 21198, dtype: datetime64[ns]"
      ]
     },
     "execution_count": 11,
     "metadata": {},
     "output_type": "execute_result"
    }
   ],
   "source": [
    "df['date']"
   ]
  },
  {
   "cell_type": "code",
   "execution_count": 12,
   "metadata": {},
   "outputs": [],
   "source": [
    "df['date'] = df['date'].dt.date"
   ]
  },
  {
   "cell_type": "code",
   "execution_count": 13,
   "metadata": {
    "scrolled": true
   },
   "outputs": [
    {
     "data": {
      "text/plain": [
       "datetime.date"
      ]
     },
     "execution_count": 13,
     "metadata": {},
     "output_type": "execute_result"
    }
   ],
   "source": [
    "type(df['date'][0])"
   ]
  },
  {
   "cell_type": "code",
   "execution_count": 14,
   "metadata": {},
   "outputs": [],
   "source": [
    "#greater than the start date and smaller than the end date\n",
    "mask1718 = (df['date'] > startdate1718) & (df['date'] <= enddate1718)\n",
    "mask1819 = (df['date'] > startdate1819) & (df['date'] <= enddate1819)\n",
    "mask1920 = (df['date'] > startdate1920) & (df['date'] <= enddate1920)"
   ]
  },
  {
   "cell_type": "code",
   "execution_count": 15,
   "metadata": {},
   "outputs": [
    {
     "name": "stdout",
     "output_type": "stream",
     "text": [
      "3079\n",
      "2989\n",
      "13118\n"
     ]
    }
   ],
   "source": [
    "df1718 = df.loc[mask1718]\n",
    "print(len(df1718))\n",
    "df1819 = df.loc[mask1819]\n",
    "print(len(df1819))\n",
    "df1920 = df.loc[mask1920]\n",
    "print(len(df1920))"
   ]
  },
  {
   "cell_type": "markdown",
   "metadata": {
    "colab_type": "text",
    "id": "C6uv0FYKb93F"
   },
   "source": [
    "#### GRV SDR"
   ]
  },
  {
   "cell_type": "code",
   "execution_count": 16,
   "metadata": {
    "colab": {},
    "colab_type": "code",
    "id": "l-j7J5L9fksS",
    "scrolled": true
   },
   "outputs": [],
   "source": [
    "SDRcomments = df.loc[df['family_type']=='SDR']"
   ]
  },
  {
   "cell_type": "code",
   "execution_count": 17,
   "metadata": {},
   "outputs": [
    {
     "data": {
      "text/plain": [
       "1950"
      ]
     },
     "execution_count": 17,
     "metadata": {},
     "output_type": "execute_result"
    }
   ],
   "source": [
    "len(SDRcomments)"
   ]
  },
  {
   "cell_type": "code",
   "execution_count": 18,
   "metadata": {
    "colab": {},
    "colab_type": "code",
    "id": "PpguRNGTfksU"
   },
   "outputs": [],
   "source": [
    "selection = [''\n",
    "            ]"
   ]
  },
  {
   "cell_type": "code",
   "execution_count": 19,
   "metadata": {},
   "outputs": [],
   "source": [
    "selection1 = [x.lower() for x in selection]"
   ]
  },
  {
   "cell_type": "code",
   "execution_count": 20,
   "metadata": {},
   "outputs": [],
   "source": [
    "SDRcomments = SDRcomments[SDRcomments.comments_tr.str.contains('|'.join(selection1))]"
   ]
  },
  {
   "cell_type": "code",
   "execution_count": 21,
   "metadata": {},
   "outputs": [
    {
     "data": {
      "text/plain": [
       "57"
      ]
     },
     "execution_count": 21,
     "metadata": {},
     "output_type": "execute_result"
    }
   ],
   "source": [
    "len(SDRcomments)"
   ]
  },
  {
   "cell_type": "code",
   "execution_count": 22,
   "metadata": {
    "colab": {
     "base_uri": "https://localhost:8080/",
     "height": 68
    },
    "colab_type": "code",
    "id": "W0HdoX5Rfksa",
    "outputId": "744ff895-966a-4cc6-b9e1-34e6f1b3f721"
   },
   "outputs": [
    {
     "name": "stdout",
     "output_type": "stream",
     "text": [
      "8\n",
      "7\n",
      "34\n"
     ]
    }
   ],
   "source": [
    "SDRcomments1718=SDRcomments.loc[mask1718]\n",
    "print(len(SDRcomments1718))\n",
    "SDRcomments1819=SDRcomments.loc[mask1819]\n",
    "print(len(SDRcomments1819))\n",
    "SDRcomments1920=SDRcomments.loc[mask1920]\n",
    "print(len(SDRcomments1920))"
   ]
  },
  {
   "cell_type": "code",
   "execution_count": 23,
   "metadata": {
    "colab": {},
    "colab_type": "code",
    "id": "-3pE9i3Mfa7a"
   },
   "outputs": [],
   "source": [
    "os.chdir(r'C:\\Users\\User\\Sept\\dfwithcomments\\GRV')\n",
    "SDRcomments1718\n",
    "df2 = SDRcomments1718.comments_tr.str.split(expand=True).stack()\n",
    "df2 = df2[df2.isin(selection1)].value_counts()\n",
    "SDRsub1718 = pd.DataFrame(df2)\n",
    "SDRsub1718['SDR_Num_Comments']=SDRsub1718[0]\n",
    "del SDRsub1718[0]\n",
    "SDRsub1718.to_csv('SDRsub1718.csv')\n",
    "\n",
    "SDRcomments1819\n",
    "df2 = SDRcomments1819.comments_tr.str.split(expand=True).stack()\n",
    "df2 = df2[df2.isin(selection1)].value_counts()\n",
    "SDRsub1819 = pd.DataFrame(df2)\n",
    "SDRsub1819['SDR_Num_Comments']=SDRsub1819[0]\n",
    "del SDRsub1819[0]\n",
    "SDRsub1819.to_csv('SDRsub1819.csv')\n",
    "\n",
    "SDRcomments1920\n",
    "df2 = SDRcomments1920.comments_tr.str.split(expand=True).stack()\n",
    "df2 = df2[df2.isin(selection1)].value_counts()\n",
    "SDRsub1920 = pd.DataFrame(df2)\n",
    "SDRsub1920['SDR_Num_Comments']=SDRsub1920[0]\n",
    "del SDRsub1920[0]\n",
    "SDRsub1920.to_csv('SDRsub1920.csv')"
   ]
  },
  {
   "cell_type": "code",
   "execution_count": 24,
   "metadata": {
    "colab": {
     "base_uri": "https://localhost:8080/",
     "height": 235
    },
    "colab_type": "code",
    "id": "yP7RFEHhfa7c",
    "outputId": "4b974166-6d31-40fe-b486-20a760b7366a"
   },
   "outputs": [
    {
     "data": {
      "text/html": [
       "<div>\n",
       "<style scoped>\n",
       "    .dataframe tbody tr th:only-of-type {\n",
       "        vertical-align: middle;\n",
       "    }\n",
       "\n",
       "    .dataframe tbody tr th {\n",
       "        vertical-align: top;\n",
       "    }\n",
       "\n",
       "    .dataframe thead th {\n",
       "        text-align: right;\n",
       "    }\n",
       "</style>\n",
       "<table border=\"1\" class=\"dataframe\">\n",
       "  <thead>\n",
       "    <tr style=\"text-align: right;\">\n",
       "      <th></th>\n",
       "      <th>Sender_Num_Comments</th>\n",
       "    </tr>\n",
       "  </thead>\n",
       "  <tbody>\n",
       "    <tr>\n",
       "      <th>strive</th>\n",
       "      <td>5</td>\n",
       "    </tr>\n",
       "    <tr>\n",
       "      <th>torque</th>\n",
       "      <td>2</td>\n",
       "    </tr>\n",
       "    <tr>\n",
       "      <th>spectral</th>\n",
       "      <td>1</td>\n",
       "    </tr>\n",
       "  </tbody>\n",
       "</table>\n",
       "</div>"
      ],
      "text/plain": [
       "          Sender_Num_Comments\n",
       "strive                      5\n",
       "torque                      2\n",
       "spectral                    1"
      ]
     },
     "execution_count": 24,
     "metadata": {},
     "output_type": "execute_result"
    }
   ],
   "source": [
    "SDRsub1718"
   ]
  },
  {
   "cell_type": "code",
   "execution_count": 25,
   "metadata": {
    "colab": {
     "base_uri": "https://localhost:8080/",
     "height": 297
    },
    "colab_type": "code",
    "id": "3f7q49BQ7woY",
    "outputId": "d74bca91-e711-45e5-cadd-14d484445ad4"
   },
   "outputs": [
    {
     "data": {
      "text/html": [
       "<div>\n",
       "<style scoped>\n",
       "    .dataframe tbody tr th:only-of-type {\n",
       "        vertical-align: middle;\n",
       "    }\n",
       "\n",
       "    .dataframe tbody tr th {\n",
       "        vertical-align: top;\n",
       "    }\n",
       "\n",
       "    .dataframe thead th {\n",
       "        text-align: right;\n",
       "    }\n",
       "</style>\n",
       "<table border=\"1\" class=\"dataframe\">\n",
       "  <thead>\n",
       "    <tr style=\"text-align: right;\">\n",
       "      <th></th>\n",
       "      <th>Sender_Num_Comments</th>\n",
       "    </tr>\n",
       "  </thead>\n",
       "  <tbody>\n",
       "    <tr>\n",
       "      <th>torque</th>\n",
       "      <td>4</td>\n",
       "    </tr>\n",
       "    <tr>\n",
       "      <th>spectral</th>\n",
       "      <td>1</td>\n",
       "    </tr>\n",
       "    <tr>\n",
       "      <th>stitched</th>\n",
       "      <td>1</td>\n",
       "    </tr>\n",
       "    <tr>\n",
       "      <th>grail</th>\n",
       "      <td>1</td>\n",
       "    </tr>\n",
       "  </tbody>\n",
       "</table>\n",
       "</div>"
      ],
      "text/plain": [
       "          Sender_Num_Comments\n",
       "torque                      4\n",
       "spectral                    1\n",
       "stitched                    1\n",
       "grail                       1"
      ]
     },
     "execution_count": 25,
     "metadata": {},
     "output_type": "execute_result"
    }
   ],
   "source": [
    "SDRsub1819"
   ]
  },
  {
   "cell_type": "code",
   "execution_count": 26,
   "metadata": {
    "colab": {
     "base_uri": "https://localhost:8080/",
     "height": 266
    },
    "colab_type": "code",
    "id": "jwQ_6EvK7zZ6",
    "outputId": "9a14492c-7459-49f2-a859-d67a4e87fdaa"
   },
   "outputs": [
    {
     "data": {
      "text/html": [
       "<div>\n",
       "<style scoped>\n",
       "    .dataframe tbody tr th:only-of-type {\n",
       "        vertical-align: middle;\n",
       "    }\n",
       "\n",
       "    .dataframe tbody tr th {\n",
       "        vertical-align: top;\n",
       "    }\n",
       "\n",
       "    .dataframe thead th {\n",
       "        text-align: right;\n",
       "    }\n",
       "</style>\n",
       "<table border=\"1\" class=\"dataframe\">\n",
       "  <thead>\n",
       "    <tr style=\"text-align: right;\">\n",
       "      <th></th>\n",
       "      <th>Sender_Num_Comments</th>\n",
       "    </tr>\n",
       "  </thead>\n",
       "  <tbody>\n",
       "    <tr>\n",
       "      <th>torque</th>\n",
       "      <td>11</td>\n",
       "    </tr>\n",
       "    <tr>\n",
       "      <th>aeroad</th>\n",
       "      <td>5</td>\n",
       "    </tr>\n",
       "    <tr>\n",
       "      <th>strive</th>\n",
       "      <td>4</td>\n",
       "    </tr>\n",
       "    <tr>\n",
       "      <th>spectral</th>\n",
       "      <td>4</td>\n",
       "    </tr>\n",
       "    <tr>\n",
       "      <th>neuron</th>\n",
       "      <td>2</td>\n",
       "    </tr>\n",
       "    <tr>\n",
       "      <th>lux</th>\n",
       "      <td>1</td>\n",
       "    </tr>\n",
       "    <tr>\n",
       "      <th>roadlite</th>\n",
       "      <td>1</td>\n",
       "    </tr>\n",
       "    <tr>\n",
       "      <th>stitched</th>\n",
       "      <td>1</td>\n",
       "    </tr>\n",
       "    <tr>\n",
       "      <th>grail</th>\n",
       "      <td>1</td>\n",
       "    </tr>\n",
       "  </tbody>\n",
       "</table>\n",
       "</div>"
      ],
      "text/plain": [
       "          Sender_Num_Comments\n",
       "torque                     11\n",
       "aeroad                      5\n",
       "strive                      4\n",
       "spectral                    4\n",
       "neuron                      2\n",
       "lux                         1\n",
       "roadlite                    1\n",
       "stitched                    1\n",
       "grail                       1"
      ]
     },
     "execution_count": 26,
     "metadata": {},
     "output_type": "execute_result"
    }
   ],
   "source": [
    "SDRsub1920"
   ]
  },
  {
   "cell_type": "code",
   "execution_count": 27,
   "metadata": {},
   "outputs": [],
   "source": [
    "os.chdir(r'C:\\Users\\User\\Sept\\dfwithcomments\\GRV')\n",
    "SDRsub1718 = pd.read_csv('SDRsub1718.csv')\n",
    "SDRsub1819 = pd.read_csv('SDRsub1819.csv')\n",
    "SDRsub1920 = pd.read_csv('SDRsub1920.csv')"
   ]
  },
  {
   "cell_type": "code",
   "execution_count": 28,
   "metadata": {},
   "outputs": [
    {
     "data": {
      "text/html": [
       "<div>\n",
       "<style scoped>\n",
       "    .dataframe tbody tr th:only-of-type {\n",
       "        vertical-align: middle;\n",
       "    }\n",
       "\n",
       "    .dataframe tbody tr th {\n",
       "        vertical-align: top;\n",
       "    }\n",
       "\n",
       "    .dataframe thead th {\n",
       "        text-align: right;\n",
       "    }\n",
       "</style>\n",
       "<table border=\"1\" class=\"dataframe\">\n",
       "  <thead>\n",
       "    <tr style=\"text-align: right;\">\n",
       "      <th></th>\n",
       "      <th>Subs_1718</th>\n",
       "      <th>Count_1718</th>\n",
       "      <th>Subs_1819</th>\n",
       "      <th>Count_1819</th>\n",
       "      <th>Subs_1920</th>\n",
       "      <th>Count_1920</th>\n",
       "    </tr>\n",
       "  </thead>\n",
       "  <tbody>\n",
       "    <tr>\n",
       "      <th>0</th>\n",
       "      <td>strive</td>\n",
       "      <td>5.0</td>\n",
       "      <td>torque</td>\n",
       "      <td>4.0</td>\n",
       "      <td>torque</td>\n",
       "      <td>11</td>\n",
       "    </tr>\n",
       "    <tr>\n",
       "      <th>1</th>\n",
       "      <td>torque</td>\n",
       "      <td>2.0</td>\n",
       "      <td>spectral</td>\n",
       "      <td>1.0</td>\n",
       "      <td>aeroad</td>\n",
       "      <td>5</td>\n",
       "    </tr>\n",
       "    <tr>\n",
       "      <th>2</th>\n",
       "      <td>spectral</td>\n",
       "      <td>1.0</td>\n",
       "      <td>stitched</td>\n",
       "      <td>1.0</td>\n",
       "      <td>strive</td>\n",
       "      <td>4</td>\n",
       "    </tr>\n",
       "    <tr>\n",
       "      <th>3</th>\n",
       "      <td>NaN</td>\n",
       "      <td>NaN</td>\n",
       "      <td>grail</td>\n",
       "      <td>1.0</td>\n",
       "      <td>spectral</td>\n",
       "      <td>4</td>\n",
       "    </tr>\n",
       "    <tr>\n",
       "      <th>4</th>\n",
       "      <td>NaN</td>\n",
       "      <td>NaN</td>\n",
       "      <td>NaN</td>\n",
       "      <td>NaN</td>\n",
       "      <td>neuron</td>\n",
       "      <td>2</td>\n",
       "    </tr>\n",
       "    <tr>\n",
       "      <th>5</th>\n",
       "      <td>NaN</td>\n",
       "      <td>NaN</td>\n",
       "      <td>NaN</td>\n",
       "      <td>NaN</td>\n",
       "      <td>lux</td>\n",
       "      <td>1</td>\n",
       "    </tr>\n",
       "    <tr>\n",
       "      <th>6</th>\n",
       "      <td>NaN</td>\n",
       "      <td>NaN</td>\n",
       "      <td>NaN</td>\n",
       "      <td>NaN</td>\n",
       "      <td>roadlite</td>\n",
       "      <td>1</td>\n",
       "    </tr>\n",
       "    <tr>\n",
       "      <th>7</th>\n",
       "      <td>NaN</td>\n",
       "      <td>NaN</td>\n",
       "      <td>NaN</td>\n",
       "      <td>NaN</td>\n",
       "      <td>stitched</td>\n",
       "      <td>1</td>\n",
       "    </tr>\n",
       "    <tr>\n",
       "      <th>8</th>\n",
       "      <td>NaN</td>\n",
       "      <td>NaN</td>\n",
       "      <td>NaN</td>\n",
       "      <td>NaN</td>\n",
       "      <td>grail</td>\n",
       "      <td>1</td>\n",
       "    </tr>\n",
       "  </tbody>\n",
       "</table>\n",
       "</div>"
      ],
      "text/plain": [
       "  Subs_1718  Count_1718 Subs_1819  Count_1819 Subs_1920  Count_1920\n",
       "0    strive         5.0    torque         4.0    torque          11\n",
       "1    torque         2.0  spectral         1.0    aeroad           5\n",
       "2  spectral         1.0  stitched         1.0    strive           4\n",
       "3       NaN         NaN     grail         1.0  spectral           4\n",
       "4       NaN         NaN       NaN         NaN    neuron           2\n",
       "5       NaN         NaN       NaN         NaN       lux           1\n",
       "6       NaN         NaN       NaN         NaN  roadlite           1\n",
       "7       NaN         NaN       NaN         NaN  stitched           1\n",
       "8       NaN         NaN       NaN         NaN     grail           1"
      ]
     },
     "execution_count": 28,
     "metadata": {},
     "output_type": "execute_result"
    }
   ],
   "source": [
    "SDRsub= pd.concat([SDRsub1718,SDRsub1819,SDRsub1920],axis=1)\n",
    "SDRsub.columns = ['Subs_1718', 'Count_1718','Subs_1819','Count_1819', 'Subs_1920', 'Count_1920']\n",
    "#SDRsub.dropna(inplace=True)\n",
    "SDRsub"
   ]
  },
  {
   "cell_type": "code",
   "execution_count": 29,
   "metadata": {},
   "outputs": [
    {
     "data": {
      "text/html": [
       "<div>\n",
       "<style scoped>\n",
       "    .dataframe tbody tr th:only-of-type {\n",
       "        vertical-align: middle;\n",
       "    }\n",
       "\n",
       "    .dataframe tbody tr th {\n",
       "        vertical-align: top;\n",
       "    }\n",
       "\n",
       "    .dataframe thead th {\n",
       "        text-align: right;\n",
       "    }\n",
       "</style>\n",
       "<table border=\"1\" class=\"dataframe\">\n",
       "  <thead>\n",
       "    <tr style=\"text-align: right;\">\n",
       "      <th></th>\n",
       "      <th>Subs_1720</th>\n",
       "      <th>Count_1720</th>\n",
       "    </tr>\n",
       "  </thead>\n",
       "  <tbody>\n",
       "    <tr>\n",
       "      <th>8</th>\n",
       "      <td>torque</td>\n",
       "      <td>17.0</td>\n",
       "    </tr>\n",
       "    <tr>\n",
       "      <th>7</th>\n",
       "      <td>strive</td>\n",
       "      <td>9.0</td>\n",
       "    </tr>\n",
       "    <tr>\n",
       "      <th>5</th>\n",
       "      <td>spectral</td>\n",
       "      <td>6.0</td>\n",
       "    </tr>\n",
       "    <tr>\n",
       "      <th>0</th>\n",
       "      <td>aeroad</td>\n",
       "      <td>5.0</td>\n",
       "    </tr>\n",
       "    <tr>\n",
       "      <th>1</th>\n",
       "      <td>grail</td>\n",
       "      <td>2.0</td>\n",
       "    </tr>\n",
       "    <tr>\n",
       "      <th>3</th>\n",
       "      <td>neuron</td>\n",
       "      <td>2.0</td>\n",
       "    </tr>\n",
       "    <tr>\n",
       "      <th>6</th>\n",
       "      <td>stitched</td>\n",
       "      <td>2.0</td>\n",
       "    </tr>\n",
       "    <tr>\n",
       "      <th>2</th>\n",
       "      <td>lux</td>\n",
       "      <td>1.0</td>\n",
       "    </tr>\n",
       "    <tr>\n",
       "      <th>4</th>\n",
       "      <td>roadlite</td>\n",
       "      <td>1.0</td>\n",
       "    </tr>\n",
       "  </tbody>\n",
       "</table>\n",
       "</div>"
      ],
      "text/plain": [
       "  Subs_1720  Count_1720\n",
       "8    torque        17.0\n",
       "7    strive         9.0\n",
       "5  spectral         6.0\n",
       "0    aeroad         5.0\n",
       "1     grail         2.0\n",
       "3    neuron         2.0\n",
       "6  stitched         2.0\n",
       "2       lux         1.0\n",
       "4  roadlite         1.0"
      ]
     },
     "execution_count": 29,
     "metadata": {},
     "output_type": "execute_result"
    }
   ],
   "source": [
    "SDRsub1720 = (pd.wide_to_long(SDRsub.reset_index(),\n",
    "                    i='index', \n",
    "                    stubnames=['Subs','Count'], \n",
    "                    sep='_', \n",
    "                    j='d').groupby('Subs')['Count'].sum().rename_axis('Subs_1720')\n",
    "                    .reset_index(name='Count_1720'))\n",
    "SDRsub1720 = SDRsub1720.sort_values('Count_1720',ascending=False)\n",
    "SDRsub1720"
   ]
  },
  {
   "cell_type": "code",
   "execution_count": 30,
   "metadata": {},
   "outputs": [
    {
     "data": {
      "image/png": "[encoded data removed]",
      "text/plain": [
       "<Figure size 432x288 with 1 Axes>"
      ]
     },
     "metadata": {},
     "output_type": "display_data"
    }
   ],
   "source": [
    "import matplotlib.pyplot as plt\n",
    "import seaborn as sns\n",
    "sns.set(style=\"whitegrid\")\n",
    "tips = sns.load_dataset(\"tips\")\n",
    "ax = sns.barplot(x=\"Subs_1720\", y=\"Count_1720\", data=SDRsub1720).set_title('SDR Substitutes')\n",
    "plt.xticks(rotation=70)\n",
    "plt.savefig('SDR Substitutes.png')"
   ]
  }
 ],
 "metadata": {
  "colab": {
   "collapsed_sections": [],
   "name": "Comments Extraction & Family Substitute",
   "provenance": [],
   "toc_visible": true
  },
  "kernelspec": {
   "display_name": "Python 3",
   "language": "python",
   "name": "python3"
  },
  "language_info": {
   "codemirror_mode": {
    "name": "ipython",
    "version": 3
   },
   "file_extension": ".py",
   "mimetype": "text/x-python",
   "name": "python",
   "nbconvert_exporter": "python",
   "pygments_lexer": "ipython3",
   "version": "3.8.3"
  },
  "toc": {
   "base_numbering": 1,
   "nav_menu": {},
   "number_sections": true,
   "sideBar": true,
   "skip_h1_title": false,
   "title_cell": "Table of Contents",
   "title_sidebar": "Contents",
   "toc_cell": true,
   "toc_position": {
    "height": "calc(100% - 180px)",
    "left": "10px",
    "top": "150px",
    "width": "265.188px"
   },
   "toc_section_display": true,
   "toc_window_display": true
  }
 },
 "nbformat": 4,
 "nbformat_minor": 1
}
