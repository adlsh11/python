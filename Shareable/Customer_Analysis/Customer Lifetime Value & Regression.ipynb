{
 "cells": [
  {
   "cell_type": "markdown",
   "metadata": {},
   "source": [
    "Output is cleared due to confidentiality of the information."
   ]
  },
  {
   "cell_type": "markdown",
   "metadata": {},
   "source": [
    "# Import Data"
   ]
  },
  {
   "cell_type": "code",
   "execution_count": null,
   "metadata": {
    "ExecuteTime": {
     "end_time": "2020-11-17T15:46:29.488755Z",
     "start_time": "2020-11-17T15:46:29.477821Z"
    }
   },
   "outputs": [],
   "source": [
    "import pandas as pd\n",
    "import numpy as np\n",
    "import matplotlib.pyplot as plt\n",
    "import seaborn as sns"
   ]
  },
  {
   "cell_type": "code",
   "execution_count": null,
   "metadata": {
    "ExecuteTime": {
     "end_time": "2020-11-17T16:06:49.142490Z",
     "start_time": "2020-11-17T16:06:49.126529Z"
    }
   },
   "outputs": [],
   "source": [
    "from jupyterthemes import jtplot\n",
    "jtplot.style()"
   ]
  },
  {
   "cell_type": "code",
   "execution_count": null,
   "metadata": {
    "ExecuteTime": {
     "end_time": "2020-11-17T15:46:29.917746Z",
     "start_time": "2020-11-17T15:46:29.491747Z"
    }
   },
   "outputs": [],
   "source": [
    "CLV_data = pd.read_excel(r'C:\\Users\\luc57.DESKTOP-NB5DC80\\AE\\excel\\cust_data.xlsx',index_col=0)"
   ]
  },
  {
   "cell_type": "code",
   "execution_count": null,
   "metadata": {
    "ExecuteTime": {
     "end_time": "2020-11-17T15:46:29.932982Z",
     "start_time": "2020-11-17T15:46:29.919745Z"
    }
   },
   "outputs": [],
   "source": [
    "CLV_data.columns"
   ]
  },
  {
   "cell_type": "markdown",
   "metadata": {},
   "source": [
    "# Calculate CLV"
   ]
  },
  {
   "cell_type": "code",
   "execution_count": null,
   "metadata": {
    "ExecuteTime": {
     "end_time": "2020-11-17T15:46:29.948409Z",
     "start_time": "2020-11-17T15:46:29.934944Z"
    }
   },
   "outputs": [],
   "source": [
    "churn_rate = 0.6448564158487823"
   ]
  },
  {
   "cell_type": "code",
   "execution_count": null,
   "metadata": {
    "ExecuteTime": {
     "end_time": "2020-11-17T15:46:29.964408Z",
     "start_time": "2020-11-17T15:46:29.949375Z"
    }
   },
   "outputs": [],
   "source": [
    "CLV_data['CLV']=(CLV_data['average_order_value']* CLV_data['order_count']) / churn_rate#Customer Lifetime Value\n",
    "CLV_data['cust_lifetime_value']=CLV_data['CLV']*CLV_data['net_sales']"
   ]
  },
  {
   "cell_type": "code",
   "execution_count": null,
   "metadata": {
    "ExecuteTime": {
     "end_time": "2020-11-17T15:46:29.980414Z",
     "start_time": "2020-11-17T15:46:29.965371Z"
    }
   },
   "outputs": [],
   "source": [
    "CLV_data[['customer_name','CLV','average_order_value']].sort_values(by='CLV',ascending=False)"
   ]
  },
  {
   "cell_type": "code",
   "execution_count": null,
   "metadata": {
    "ExecuteTime": {
     "end_time": "2020-11-17T15:46:29.996372Z",
     "start_time": "2020-11-17T15:46:29.981412Z"
    }
   },
   "outputs": [],
   "source": [
    "CLV_data.average_order_value.value_counts() "
   ]
  },
  {
   "cell_type": "code",
   "execution_count": null,
   "metadata": {
    "ExecuteTime": {
     "end_time": "2020-11-17T15:46:30.011668Z",
     "start_time": "2020-11-17T15:46:29.999364Z"
    }
   },
   "outputs": [],
   "source": [
    "CLV_data1 = CLV_data.loc[CLV_data['average_order_value']>0]\n",
    "print('Number of customers with average order value greater than 0: ',len(CLV_data1))\n",
    "print('Number of customers: ',len(CLV_data))"
   ]
  },
  {
   "cell_type": "code",
   "execution_count": null,
   "metadata": {
    "ExecuteTime": {
     "end_time": "2020-11-17T15:46:30.027857Z",
     "start_time": "2020-11-17T15:46:30.013636Z"
    }
   },
   "outputs": [],
   "source": [
    "CLV_data1.columns"
   ]
  },
  {
   "cell_type": "markdown",
   "metadata": {},
   "source": [
    "# Sales by Month"
   ]
  },
  {
   "cell_type": "code",
   "execution_count": null,
   "metadata": {
    "ExecuteTime": {
     "end_time": "2020-11-17T15:46:32.369641Z",
     "start_time": "2020-11-17T15:46:30.028524Z"
    }
   },
   "outputs": [],
   "source": [
    "concatdf = pd.read_excel(r'C:\\Users\\luc57.DESKTOP-NB5DC80\\AE\\excel\\concatdf.xlsx',index_col=0)"
   ]
  },
  {
   "cell_type": "code",
   "execution_count": null,
   "metadata": {
    "ExecuteTime": {
     "end_time": "2020-11-17T15:46:32.384633Z",
     "start_time": "2020-11-17T15:46:32.370640Z"
    }
   },
   "outputs": [],
   "source": [
    "concatdf1 = concatdf.loc[concatdf['average_order_value']>0]\n",
    "print(len(concatdf1))\n",
    "print(len(concatdf))"
   ]
  },
  {
   "cell_type": "code",
   "execution_count": null,
   "metadata": {
    "ExecuteTime": {
     "end_time": "2020-11-17T15:46:32.416533Z",
     "start_time": "2020-11-17T15:46:32.385601Z"
    }
   },
   "outputs": [],
   "source": [
    "sales=concatdf1.pivot_table(index=['customer_name'],columns=['month'],\n",
    "                           values='net_sales',aggfunc='sum',fill_value=0).reset_index()\n",
    "sales"
   ]
  },
  {
   "cell_type": "code",
   "execution_count": null,
   "metadata": {
    "ExecuteTime": {
     "end_time": "2020-11-17T15:46:32.448463Z",
     "start_time": "2020-11-17T15:46:32.417518Z"
    }
   },
   "outputs": [],
   "source": [
    "sales['CLV']=sales.iloc[:,2:].sum(axis=1)\n",
    "sales"
   ]
  },
  {
   "cell_type": "code",
   "execution_count": null,
   "metadata": {
    "ExecuteTime": {
     "end_time": "2020-11-17T15:46:32.464426Z",
     "start_time": "2020-11-17T15:46:32.449429Z"
    }
   },
   "outputs": [],
   "source": [
    "sales.columns"
   ]
  },
  {
   "cell_type": "markdown",
   "metadata": {},
   "source": [
    "# Selecting Feature"
   ]
  },
  {
   "cell_type": "code",
   "execution_count": null,
   "metadata": {
    "ExecuteTime": {
     "end_time": "2020-11-17T16:01:54.177277Z",
     "start_time": "2020-11-17T16:01:54.161115Z"
    }
   },
   "outputs": [],
   "source": [
    "X=sales[[10,9,8,7,6,5]] #last 6 months\n",
    "y=sales[['CLV']]"
   ]
  },
  {
   "cell_type": "markdown",
   "metadata": {},
   "source": [
    "# Split Data"
   ]
  },
  {
   "cell_type": "code",
   "execution_count": null,
   "metadata": {
    "ExecuteTime": {
     "end_time": "2020-11-17T15:46:32.495543Z",
     "start_time": "2020-11-17T15:46:32.480603Z"
    }
   },
   "outputs": [],
   "source": [
    "#split training set and test set\n",
    "from sklearn.model_selection import train_test_split\n",
    "X_train, X_test, y_train, y_test = train_test_split(X, y,random_state=0)"
   ]
  },
  {
   "cell_type": "code",
   "execution_count": null,
   "metadata": {
    "ExecuteTime": {
     "end_time": "2020-11-17T15:49:30.252848Z",
     "start_time": "2020-11-17T15:49:30.248887Z"
    }
   },
   "outputs": [],
   "source": [
    "X.shape"
   ]
  },
  {
   "cell_type": "code",
   "execution_count": null,
   "metadata": {
    "ExecuteTime": {
     "end_time": "2020-11-17T15:49:33.259448Z",
     "start_time": "2020-11-17T15:49:33.247481Z"
    }
   },
   "outputs": [],
   "source": [
    "y.shape"
   ]
  },
  {
   "cell_type": "markdown",
   "metadata": {},
   "source": [
    "# Regression Models"
   ]
  },
  {
   "cell_type": "markdown",
   "metadata": {},
   "source": [
    "## Linear Regression"
   ]
  },
  {
   "cell_type": "code",
   "execution_count": null,
   "metadata": {
    "ExecuteTime": {
     "end_time": "2020-11-17T15:46:32.511469Z",
     "start_time": "2020-11-17T15:46:32.496509Z"
    }
   },
   "outputs": [],
   "source": [
    "# import model\n",
    "from sklearn.linear_model import LinearRegression# instantiate\n",
    "linreg = LinearRegression()# fit the model to the training data (learn the coefficients)\n",
    "linreg.fit(X_train, y_train)# make predictions on the testing set\n",
    "y_pred = linreg.predict(X_test)# print the intercept and coefficients\n",
    "print(linreg.intercept_)\n",
    "print(linreg.coef_)"
   ]
  },
  {
   "cell_type": "code",
   "execution_count": null,
   "metadata": {
    "ExecuteTime": {
     "end_time": "2020-11-17T15:46:32.527426Z",
     "start_time": "2020-11-17T15:46:32.512466Z"
    }
   },
   "outputs": [],
   "source": [
    "from sklearn import metrics# compute the R Square for model\n",
    "print(\"R-Square:\",metrics.r2_score(y_test, y_pred))"
   ]
  },
  {
   "cell_type": "code",
   "execution_count": null,
   "metadata": {
    "ExecuteTime": {
     "end_time": "2020-11-17T15:46:32.543400Z",
     "start_time": "2020-11-17T15:46:32.528424Z"
    }
   },
   "outputs": [],
   "source": [
    "# calculate MAE using scikit-learn\n",
    "print(\"MAE:\",metrics.mean_absolute_error(y_test,y_pred))#calculate mean squared error\n",
    "print(\"MSE\",metrics.mean_squared_error(y_test, y_pred))\n",
    "# compute the RMSE of our predictions\n",
    "print(\"RMSE:\",np.sqrt(metrics.mean_squared_error(y_test, y_pred)))"
   ]
  },
  {
   "cell_type": "markdown",
   "metadata": {},
   "source": [
    "## Support Vector Regression"
   ]
  },
  {
   "cell_type": "code",
   "execution_count": null,
   "metadata": {
    "ExecuteTime": {
     "end_time": "2020-11-17T15:55:03.211981Z",
     "start_time": "2020-11-17T15:55:03.088563Z"
    }
   },
   "outputs": [],
   "source": [
    "# import model\n",
    "from sklearn.svm import SVR\n",
    "svr = SVR()\n",
    "y = y.values[:,0]\n",
    "X_train, X_test, y_train, y_test = train_test_split(X, y,random_state=0)\n",
    "svr.fit(X_train,y_train)\n",
    "print('Accuracy of support vector regression on test set: {:.2f}'.format(svr.score(X_test, y_test)))\n",
    "print(svr.intercept_)"
   ]
  },
  {
   "cell_type": "markdown",
   "metadata": {},
   "source": [
    "## Polynomial Regression"
   ]
  },
  {
   "cell_type": "code",
   "execution_count": null,
   "metadata": {
    "ExecuteTime": {
     "end_time": "2020-11-17T16:06:33.816596Z",
     "start_time": "2020-11-17T16:06:33.803620Z"
    }
   },
   "outputs": [],
   "source": [
    "import operator\n",
    "from sklearn.metrics import mean_squared_error, r2_score\n",
    "from sklearn.linear_model import LinearRegression"
   ]
  },
  {
   "cell_type": "code",
   "execution_count": null,
   "metadata": {
    "ExecuteTime": {
     "end_time": "2020-11-17T16:06:34.396028Z",
     "start_time": "2020-11-17T16:06:34.377078Z"
    }
   },
   "outputs": [],
   "source": [
    "X=sales[[10,9,8,7,6,5]] #last 6 months\n",
    "y=sales[['CLV']]"
   ]
  },
  {
   "cell_type": "code",
   "execution_count": null,
   "metadata": {
    "ExecuteTime": {
     "end_time": "2020-11-17T16:06:34.908745Z",
     "start_time": "2020-11-17T16:06:34.885773Z"
    }
   },
   "outputs": [],
   "source": [
    "from sklearn.preprocessing import PolynomialFeatures\n",
    "# transforming the data to include another axis\n",
    "\n",
    "polynomial_features= PolynomialFeatures(degree=2)\n",
    "x_poly = polynomial_features.fit_transform(X)\n",
    "\n",
    "model = LinearRegression()\n",
    "model.fit(x_poly, y)\n",
    "y_poly_pred = model.predict(x_poly)"
   ]
  },
  {
   "cell_type": "code",
   "execution_count": null,
   "metadata": {
    "ExecuteTime": {
     "end_time": "2020-11-17T16:06:35.474135Z",
     "start_time": "2020-11-17T16:06:35.458211Z"
    }
   },
   "outputs": [],
   "source": [
    "rmse = np.sqrt(mean_squared_error(y,y_poly_pred))\n",
    "r2 = r2_score(y,y_poly_pred)\n",
    "print('RMSE of Polynomial Regression: ',rmse)\n",
    "print('R-squared of Polynomial Regression: ',r2)"
   ]
  },
  {
   "cell_type": "code",
   "execution_count": null,
   "metadata": {
    "ExecuteTime": {
     "end_time": "2020-11-17T16:07:06.339235Z",
     "start_time": "2020-11-17T16:07:06.329262Z"
    }
   },
   "outputs": [],
   "source": [
    "X.shape"
   ]
  },
  {
   "cell_type": "code",
   "execution_count": null,
   "metadata": {
    "ExecuteTime": {
     "end_time": "2020-11-17T16:06:36.036516Z",
     "start_time": "2020-11-17T16:06:36.032523Z"
    }
   },
   "outputs": [],
   "source": [
    "y.shape"
   ]
  },
  {
   "cell_type": "markdown",
   "metadata": {},
   "source": [
    "CLTV can figure out the most profitable customers, but how you are going to make a profit from them, it depends on your strategy. Generally, CLTV models are confused and misused. Obsession with CLTV may create blinders. Companies only focus on finding the best customer group and focusing on them and repeat the business, but it’s also important to give attention to other customers."
   ]
  }
 ],
 "metadata": {
  "kernelspec": {
   "display_name": "Python 3",
   "language": "python",
   "name": "python3"
  },
  "language_info": {
   "codemirror_mode": {
    "name": "ipython",
    "version": 3
   },
   "file_extension": ".py",
   "mimetype": "text/x-python",
   "name": "python",
   "nbconvert_exporter": "python",
   "pygments_lexer": "ipython3",
   "version": "3.8.3"
  },
  "toc": {
   "base_numbering": 1,
   "nav_menu": {},
   "number_sections": true,
   "sideBar": true,
   "skip_h1_title": false,
   "title_cell": "Table of Contents",
   "title_sidebar": "Contents",
   "toc_cell": false,
   "toc_position": {},
   "toc_section_display": true,
   "toc_window_display": true
  }
 },
 "nbformat": 4,
 "nbformat_minor": 4
}
