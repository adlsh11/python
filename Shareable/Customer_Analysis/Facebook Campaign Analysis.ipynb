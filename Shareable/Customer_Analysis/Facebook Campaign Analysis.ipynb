{
 "cells": [
  {
   "cell_type": "markdown",
   "metadata": {},
   "source": [
    "Output is cleared due to the confidentiality of the information."
   ]
  },
  {
   "cell_type": "markdown",
   "metadata": {},
   "source": [
    "# Customer with Discounted Purchase Analysis"
   ]
  },
  {
   "cell_type": "markdown",
   "metadata": {},
   "source": [
    "## Import Data"
   ]
  },
  {
   "cell_type": "code",
   "execution_count": null,
   "metadata": {
    "ExecuteTime": {
     "end_time": "2020-10-28T16:10:40.016286Z",
     "start_time": "2020-10-28T16:10:32.188698Z"
    }
   },
   "outputs": [],
   "source": [
    "import pandas as pd\n",
    "import matplotlib.pyplot as plt\n",
    "import numpy as np \n",
    "df = pd.read_excel(r'C:\\Users\\luc57.DESKTOP-NB5DC80\\Downloads\\A&E\\Sales One Year Data (Edit 1).xlsx',sheet_name='Sales One Year Data (2)')"
   ]
  },
  {
   "cell_type": "code",
   "execution_count": null,
   "metadata": {
    "ExecuteTime": {
     "end_time": "2020-10-28T16:10:40.077777Z",
     "start_time": "2020-10-28T16:10:40.017784Z"
    }
   },
   "outputs": [],
   "source": [
    "df.describe()"
   ]
  },
  {
   "cell_type": "code",
   "execution_count": null,
   "metadata": {
    "ExecuteTime": {
     "end_time": "2020-10-28T16:10:43.826885Z",
     "start_time": "2020-10-28T16:10:43.820901Z"
    }
   },
   "outputs": [],
   "source": [
    "#number of rows\n",
    "len(df)"
   ]
  },
  {
   "cell_type": "code",
   "execution_count": null,
   "metadata": {
    "ExecuteTime": {
     "end_time": "2020-10-28T16:10:53.784795Z",
     "start_time": "2020-10-28T16:10:53.775818Z"
    }
   },
   "outputs": [],
   "source": [
    "#number of columns \n",
    "len(df.columns)"
   ]
  },
  {
   "cell_type": "code",
   "execution_count": null,
   "metadata": {
    "ExecuteTime": {
     "end_time": "2020-10-28T16:11:07.784069Z",
     "start_time": "2020-10-28T16:11:07.777086Z"
    }
   },
   "outputs": [],
   "source": [
    "#name of columns\n",
    "df.columns"
   ]
  },
  {
   "cell_type": "code",
   "execution_count": null,
   "metadata": {
    "ExecuteTime": {
     "end_time": "2020-10-28T16:11:41.404290Z",
     "start_time": "2020-10-28T16:11:41.372949Z"
    }
   },
   "outputs": [],
   "source": [
    "#number of NA in each column\n",
    "df.isna().sum()"
   ]
  },
  {
   "cell_type": "markdown",
   "metadata": {},
   "source": [
    "## Campaign Exploration"
   ]
  },
  {
   "cell_type": "code",
   "execution_count": null,
   "metadata": {
    "ExecuteTime": {
     "end_time": "2020-10-28T16:13:44.127080Z",
     "start_time": "2020-10-28T16:13:44.110156Z"
    }
   },
   "outputs": [],
   "source": [
    "df[['utm_campaign_content','utm_campaign_medium','utm_campaign_name','utm_campaign_source','utm_campaign_term']]"
   ]
  },
  {
   "cell_type": "code",
   "execution_count": null,
   "metadata": {
    "ExecuteTime": {
     "end_time": "2020-10-28T16:14:11.054107Z",
     "start_time": "2020-10-28T16:14:11.035218Z"
    }
   },
   "outputs": [],
   "source": [
    "df['utm_campaign_content'].unique()"
   ]
  },
  {
   "cell_type": "code",
   "execution_count": null,
   "metadata": {
    "ExecuteTime": {
     "end_time": "2020-10-28T16:14:25.895121Z",
     "start_time": "2020-10-28T16:14:25.882155Z"
    }
   },
   "outputs": [],
   "source": [
    "df['utm_campaign_medium'].unique()"
   ]
  },
  {
   "cell_type": "code",
   "execution_count": null,
   "metadata": {
    "ExecuteTime": {
     "end_time": "2020-10-28T16:14:34.655477Z",
     "start_time": "2020-10-28T16:14:34.647530Z"
    }
   },
   "outputs": [],
   "source": [
    "df['utm_campaign_name'].unique()"
   ]
  },
  {
   "cell_type": "code",
   "execution_count": null,
   "metadata": {
    "ExecuteTime": {
     "end_time": "2020-10-28T16:14:48.050197Z",
     "start_time": "2020-10-28T16:14:48.040256Z"
    }
   },
   "outputs": [],
   "source": [
    "df['utm_campaign_source'].unique()"
   ]
  },
  {
   "cell_type": "code",
   "execution_count": null,
   "metadata": {
    "ExecuteTime": {
     "end_time": "2020-10-28T16:14:58.311263Z",
     "start_time": "2020-10-28T16:14:58.292567Z"
    }
   },
   "outputs": [],
   "source": [
    "df['utm_campaign_term'].unique()"
   ]
  },
  {
   "cell_type": "code",
   "execution_count": null,
   "metadata": {
    "ExecuteTime": {
     "end_time": "2020-10-28T16:16:48.352912Z",
     "start_time": "2020-10-28T16:16:48.339947Z"
    }
   },
   "outputs": [],
   "source": [
    "#total number of unique emails\n",
    "len(df['customer_email'].unique())"
   ]
  },
  {
   "cell_type": "markdown",
   "metadata": {},
   "source": [
    "## Filter only customers who have received discounts before"
   ]
  },
  {
   "cell_type": "code",
   "execution_count": null,
   "metadata": {
    "ExecuteTime": {
     "end_time": "2020-10-28T16:18:11.740810Z",
     "start_time": "2020-10-28T16:18:11.731866Z"
    }
   },
   "outputs": [],
   "source": [
    "#total number of transactions which have received discounts\n",
    "subdf = df.loc[df['discounts']!=0]\n",
    "len(subdf) "
   ]
  },
  {
   "cell_type": "code",
   "execution_count": null,
   "metadata": {
    "ExecuteTime": {
     "end_time": "2020-10-28T16:19:09.574923Z",
     "start_time": "2020-10-28T16:19:09.558965Z"
    }
   },
   "outputs": [],
   "source": [
    "#total number of unique customers who purchased with discounts\n",
    "len(subdf['customer_email'].unique())"
   ]
  },
  {
   "cell_type": "code",
   "execution_count": null,
   "metadata": {
    "ExecuteTime": {
     "end_time": "2020-10-28T16:22:06.661529Z",
     "start_time": "2020-10-28T16:22:06.640588Z"
    }
   },
   "outputs": [],
   "source": [
    "#number of purchase by each person with this email\n",
    "subdf.groupby('customer_email').order_id.nunique()"
   ]
  },
  {
   "cell_type": "code",
   "execution_count": null,
   "metadata": {
    "ExecuteTime": {
     "end_time": "2020-10-28T16:24:52.198876Z",
     "start_time": "2020-10-28T16:24:52.184946Z"
    }
   },
   "outputs": [],
   "source": [
    "Transactions = pd.DataFrame(subdf.groupby('customer_email').order_id.nunique())\n",
    "Transactions.to_csv(r'C:\\Users\\luc57.DESKTOP-NB5DC80\\Downloads\\A&E\\Transactions.csv')\n",
    "Transactions = pd.read_csv(r'C:\\Users\\luc57.DESKTOP-NB5DC80\\Downloads\\A&E\\Transactions.csv')\n",
    "Transactions.columns = ['customer_email','count_of_purchase']"
   ]
  },
  {
   "cell_type": "code",
   "execution_count": null,
   "metadata": {
    "ExecuteTime": {
     "end_time": "2020-10-28T16:26:04.252549Z",
     "start_time": "2020-10-28T16:26:04.235595Z"
    }
   },
   "outputs": [],
   "source": [
    "Transactions.sort_values(by='count_of_purchase',ascending=False)"
   ]
  },
  {
   "cell_type": "code",
   "execution_count": null,
   "metadata": {
    "ExecuteTime": {
     "end_time": "2020-10-28T16:27:39.353920Z",
     "start_time": "2020-10-28T16:27:39.224543Z"
    }
   },
   "outputs": [],
   "source": [
    "Transactions.plot(kind='hist')\n",
    "plt.title('Histogram of Customers using Discounts, based on Purchase Count')"
   ]
  },
  {
   "cell_type": "code",
   "execution_count": null,
   "metadata": {
    "ExecuteTime": {
     "end_time": "2020-10-28T16:30:30.114706Z",
     "start_time": "2020-10-28T16:30:30.094792Z"
    }
   },
   "outputs": [],
   "source": [
    "print(len(Transactions.loc[Transactions['count_of_purchase']==1]))\n",
    "print(round(len(Transactions.loc[Transactions['count_of_purchase']==1])/len(Transactions)*100,2),'%')"
   ]
  },
  {
   "cell_type": "code",
   "execution_count": null,
   "metadata": {
    "ExecuteTime": {
     "end_time": "2020-10-28T16:30:49.126221Z",
     "start_time": "2020-10-28T16:30:49.120240Z"
    }
   },
   "outputs": [],
   "source": [
    "print(len(Transactions.loc[Transactions['count_of_purchase']==2]))\n",
    "print(round(len(Transactions.loc[Transactions['count_of_purchase']==2])/len(Transactions)*100,2),'%')"
   ]
  },
  {
   "cell_type": "code",
   "execution_count": null,
   "metadata": {
    "ExecuteTime": {
     "end_time": "2020-10-28T16:31:11.895991Z",
     "start_time": "2020-10-28T16:31:11.879037Z"
    }
   },
   "outputs": [],
   "source": [
    "print(len(Transactions.loc[Transactions['count_of_purchase']==3]))\n",
    "print(round(len(Transactions.loc[Transactions['count_of_purchase']==3])/len(Transactions)*100,2),'%')"
   ]
  },
  {
   "cell_type": "code",
   "execution_count": null,
   "metadata": {
    "ExecuteTime": {
     "end_time": "2020-10-28T16:31:12.067054Z",
     "start_time": "2020-10-28T16:31:12.055086Z"
    }
   },
   "outputs": [],
   "source": [
    "print(len(Transactions.loc[Transactions['count_of_purchase']==4]))\n",
    "print(round(len(Transactions.loc[Transactions['count_of_purchase']==4])/len(Transactions)*100,2),'%')"
   ]
  },
  {
   "cell_type": "code",
   "execution_count": null,
   "metadata": {
    "ExecuteTime": {
     "end_time": "2020-10-28T16:31:19.879320Z",
     "start_time": "2020-10-28T16:31:19.866388Z"
    }
   },
   "outputs": [],
   "source": [
    "print(len(Transactions.loc[Transactions['count_of_purchase']==5]))\n",
    "print(round(len(Transactions.loc[Transactions['count_of_purchase']==5])/len(Transactions)*100,2),'%')"
   ]
  },
  {
   "cell_type": "markdown",
   "metadata": {},
   "source": [
    "### Effectiveness of Campaign"
   ]
  },
  {
   "cell_type": "code",
   "execution_count": null,
   "metadata": {
    "ExecuteTime": {
     "end_time": "2020-10-28T16:33:09.376838Z",
     "start_time": "2020-10-28T16:33:09.363873Z"
    }
   },
   "outputs": [],
   "source": [
    "subdf.columns"
   ]
  },
  {
   "cell_type": "code",
   "execution_count": null,
   "metadata": {
    "ExecuteTime": {
     "end_time": "2020-10-28T17:09:22.532839Z",
     "start_time": "2020-10-28T17:09:22.526832Z"
    }
   },
   "outputs": [],
   "source": [
    "subdf2=subdf[['hour','customer_email','customer_type','utm_campaign_content','utm_campaign_medium','utm_campaign_name','utm_campaign_source','utm_campaign_term',\n",
    "              'order_id','product_price','variant_title','shipping_city','net_sales','ordered_item_quantity','returns']]"
   ]
  },
  {
   "cell_type": "code",
   "execution_count": null,
   "metadata": {
    "ExecuteTime": {
     "end_time": "2020-10-28T17:09:24.438578Z",
     "start_time": "2020-10-28T17:09:24.416638Z"
    }
   },
   "outputs": [],
   "source": [
    "subdf2.head(2)"
   ]
  },
  {
   "cell_type": "code",
   "execution_count": null,
   "metadata": {
    "ExecuteTime": {
     "end_time": "2020-10-28T17:09:29.114892Z",
     "start_time": "2020-10-28T17:09:29.103888Z"
    }
   },
   "outputs": [],
   "source": [
    "subdf2.returns.value_counts()"
   ]
  },
  {
   "cell_type": "code",
   "execution_count": null,
   "metadata": {
    "ExecuteTime": {
     "end_time": "2020-10-28T17:09:31.337774Z",
     "start_time": "2020-10-28T17:09:31.327801Z"
    }
   },
   "outputs": [],
   "source": [
    "# The return column is not needed\n",
    "del subdf2['returns']"
   ]
  },
  {
   "cell_type": "code",
   "execution_count": null,
   "metadata": {
    "ExecuteTime": {
     "end_time": "2020-10-28T17:09:33.366662Z",
     "start_time": "2020-10-28T17:09:33.354733Z"
    }
   },
   "outputs": [],
   "source": [
    "subdf2['utm_campaign_content'].value_counts()"
   ]
  },
  {
   "cell_type": "markdown",
   "metadata": {},
   "source": [
    "#### Campaign: LJ"
   ]
  },
  {
   "cell_type": "code",
   "execution_count": null,
   "metadata": {
    "ExecuteTime": {
     "end_time": "2020-10-28T17:10:02.918546Z",
     "start_time": "2020-10-28T17:10:02.911552Z"
    }
   },
   "outputs": [],
   "source": [
    "dfLJ=subdf2.loc[subdf2['utm_campaign_content']=='LauraJoelle']\n",
    "len(dfLJ)"
   ]
  },
  {
   "cell_type": "code",
   "execution_count": null,
   "metadata": {
    "ExecuteTime": {
     "end_time": "2020-10-28T17:10:46.414861Z",
     "start_time": "2020-10-28T17:10:46.397928Z"
    }
   },
   "outputs": [],
   "source": [
    "dfLJ.loc[dfLJ.customer_type=='returning']"
   ]
  },
  {
   "cell_type": "code",
   "execution_count": null,
   "metadata": {
    "ExecuteTime": {
     "end_time": "2020-10-28T16:59:36.457173Z",
     "start_time": "2020-10-28T16:59:36.447198Z"
    }
   },
   "outputs": [],
   "source": [
    "dfLJ=subdf2.loc[subdf2['utm_campaign_content']=='LJ']\n",
    "dfLJ.groupby('customer_email').order_id.nunique()"
   ]
  },
  {
   "cell_type": "code",
   "execution_count": null,
   "metadata": {
    "ExecuteTime": {
     "end_time": "2020-10-28T16:59:38.622207Z",
     "start_time": "2020-10-28T16:59:38.611237Z"
    }
   },
   "outputs": [],
   "source": [
    "dfLJgroupby = pd.DataFrame(dfLJ.groupby('customer_email').order_id.nunique())\n",
    "print('Number of customers purchasing using LJ\\'s coupon:',len(dfLJgroupby))\n",
    "#number of non-returning customers\n",
    "print('Number of non-returning customers:',len(dfLJgroupby.loc[dfLJgroupby.order_id!=1]))"
   ]
  },
  {
   "cell_type": "code",
   "execution_count": null,
   "metadata": {
    "ExecuteTime": {
     "end_time": "2020-10-28T17:00:22.643194Z",
     "start_time": "2020-10-28T17:00:22.621284Z"
    }
   },
   "outputs": [],
   "source": [
    "dfLJgroupby.sort_values(by='order_id',ascending=False)"
   ]
  },
  {
   "cell_type": "code",
   "execution_count": null,
   "metadata": {
    "ExecuteTime": {
     "end_time": "2020-10-28T17:01:04.836212Z",
     "start_time": "2020-10-28T17:01:04.823216Z"
    }
   },
   "outputs": [],
   "source": [
    "dfLJgroupby['order_id'].value_counts()"
   ]
  },
  {
   "cell_type": "markdown",
   "metadata": {},
   "source": [
    "#### Campaign: 'Dynamic_Feed - Winter'"
   ]
  },
  {
   "cell_type": "code",
   "execution_count": null,
   "metadata": {
    "ExecuteTime": {
     "end_time": "2020-10-28T17:11:14.756741Z",
     "start_time": "2020-10-28T17:11:14.736846Z"
    }
   },
   "outputs": [],
   "source": [
    "dfDFW=subdf2.loc[subdf2['utm_campaign_content']=='Dynamic_Feed - Winter']\n",
    "dfDFW.groupby('customer_email').order_id.nunique()"
   ]
  },
  {
   "cell_type": "code",
   "execution_count": null,
   "metadata": {
    "ExecuteTime": {
     "end_time": "2020-10-28T17:11:15.175794Z",
     "start_time": "2020-10-28T17:11:15.160838Z"
    },
    "scrolled": false
   },
   "outputs": [],
   "source": [
    "dfDFWgroupby = pd.DataFrame(dfDFW.groupby('customer_email').order_id.nunique())\n",
    "print('Number of customers purchasing using Dynamic Feed Winter\\'s coupon:',len(dfDFWgroupby))\n",
    "#number of non-returning customers\n",
    "print('Number of non-returning customers:',len(dfDFWgroupby.loc[dfDFWgroupby.order_id!=1]))"
   ]
  },
  {
   "cell_type": "code",
   "execution_count": null,
   "metadata": {
    "ExecuteTime": {
     "end_time": "2020-10-28T17:11:15.802533Z",
     "start_time": "2020-10-28T17:11:15.794564Z"
    }
   },
   "outputs": [],
   "source": [
    "dfDFW.loc[dfDFW.customer_type=='returning']"
   ]
  },
  {
   "cell_type": "markdown",
   "metadata": {},
   "source": [
    "#### Campaign: 'FP'"
   ]
  },
  {
   "cell_type": "code",
   "execution_count": null,
   "metadata": {
    "ExecuteTime": {
     "end_time": "2020-10-28T17:11:31.753529Z",
     "start_time": "2020-10-28T17:11:31.743556Z"
    }
   },
   "outputs": [],
   "source": [
    "dfFP=subdf2.loc[subdf2['utm_campaign_content']=='fp']\n",
    "dfFP.groupby('customer_email').order_id.nunique()"
   ]
  },
  {
   "cell_type": "code",
   "execution_count": null,
   "metadata": {
    "ExecuteTime": {
     "end_time": "2020-10-28T17:11:32.644466Z",
     "start_time": "2020-10-28T17:11:32.622524Z"
    },
    "scrolled": true
   },
   "outputs": [],
   "source": [
    "dfFPgroupby = pd.DataFrame(dfFP.groupby('customer_email').order_id.nunique())\n",
    "print('Number of customers purchasing using FP\\'s coupon:',len(dfFPgroupby))\n",
    "#number of non-returning customers\n",
    "print('Number of non-returning customers:',len(dfFPgroupby.loc[dfFPgroupby.order_id!=1]))"
   ]
  },
  {
   "cell_type": "code",
   "execution_count": null,
   "metadata": {
    "ExecuteTime": {
     "end_time": "2020-10-28T17:11:33.293497Z",
     "start_time": "2020-10-28T17:11:33.282526Z"
    }
   },
   "outputs": [],
   "source": [
    "dfFP.loc[dfFP.customer_type=='returning']"
   ]
  },
  {
   "cell_type": "markdown",
   "metadata": {},
   "source": [
    "#### Campaign: Dynamic_Feed - Black Friday"
   ]
  },
  {
   "cell_type": "code",
   "execution_count": null,
   "metadata": {
    "ExecuteTime": {
     "end_time": "2020-10-28T17:11:54.355434Z",
     "start_time": "2020-10-28T17:11:54.336521Z"
    }
   },
   "outputs": [],
   "source": [
    "dfDFBF=subdf2.loc[subdf2['utm_campaign_content']=='Dynamic_Feed - Black Friday']\n",
    "dfDFBF.groupby('customer_email').order_id.nunique()"
   ]
  },
  {
   "cell_type": "code",
   "execution_count": null,
   "metadata": {
    "ExecuteTime": {
     "end_time": "2020-10-28T17:11:54.839431Z",
     "start_time": "2020-10-28T17:11:54.821515Z"
    },
    "scrolled": true
   },
   "outputs": [],
   "source": [
    "dfDFBFgroupby = pd.DataFrame(dfDFBF.groupby('customer_email').order_id.nunique())\n",
    "print('Number of customers purchasing using Dynamic Feed - Black Friday\\'s coupon:',len(dfDFBFgroupby))\n",
    "#number of non-returning customers\n",
    "print('Number of non-returning customers:',len(dfDFBFgroupby.loc[dfDFBFgroupby.order_id!=1]))"
   ]
  },
  {
   "cell_type": "code",
   "execution_count": null,
   "metadata": {
    "ExecuteTime": {
     "end_time": "2020-10-28T17:11:55.150066Z",
     "start_time": "2020-10-28T17:11:55.139097Z"
    }
   },
   "outputs": [],
   "source": [
    "dfDFBF.loc[dfDFBF.customer_type=='returning']"
   ]
  },
  {
   "cell_type": "markdown",
   "metadata": {},
   "source": [
    "#### Campaign: Dynamic_Feed - Clean"
   ]
  },
  {
   "cell_type": "code",
   "execution_count": null,
   "metadata": {
    "ExecuteTime": {
     "end_time": "2020-10-28T17:12:08.460897Z",
     "start_time": "2020-10-28T17:12:08.440951Z"
    }
   },
   "outputs": [],
   "source": [
    "dfDFC=subdf2.loc[subdf2['utm_campaign_content']=='Dynamic_Feed - Clean']\n",
    "dfDFC.groupby('customer_email').order_id.nunique()"
   ]
  },
  {
   "cell_type": "code",
   "execution_count": null,
   "metadata": {
    "ExecuteTime": {
     "end_time": "2020-10-28T17:12:08.879822Z",
     "start_time": "2020-10-28T17:12:08.859875Z"
    }
   },
   "outputs": [],
   "source": [
    "dfDFCgroupby = pd.DataFrame(dfDFC.groupby('customer_email').order_id.nunique())\n",
    "print('Number of customers purchasing using Dynamic Feed - Clean\\'s coupon:',len(dfDFCgroupby))\n",
    "#number of non-returning customers\n",
    "print('Number of non-returning customers:',len(dfDFCgroupby.loc[dfDFCgroupby.order_id!=1]))"
   ]
  },
  {
   "cell_type": "code",
   "execution_count": null,
   "metadata": {
    "ExecuteTime": {
     "end_time": "2020-10-28T17:12:09.206513Z",
     "start_time": "2020-10-28T17:12:09.187595Z"
    }
   },
   "outputs": [],
   "source": [
    "dfDFC.loc[dfDFC.customer_type=='returning']"
   ]
  },
  {
   "cell_type": "markdown",
   "metadata": {},
   "source": [
    "#### Campaign: Sales_white_jar"
   ]
  },
  {
   "cell_type": "code",
   "execution_count": null,
   "metadata": {
    "ExecuteTime": {
     "end_time": "2020-10-28T17:12:48.717562Z",
     "start_time": "2020-10-28T17:12:48.705564Z"
    }
   },
   "outputs": [],
   "source": [
    "dfSWJ=subdf2.loc[subdf2['utm_campaign_content']=='Sales_white_jar']\n",
    "dfSWJ.groupby('customer_email').order_id.nunique()"
   ]
  },
  {
   "cell_type": "code",
   "execution_count": null,
   "metadata": {
    "ExecuteTime": {
     "end_time": "2020-10-28T17:12:49.182351Z",
     "start_time": "2020-10-28T17:12:49.170388Z"
    },
    "scrolled": true
   },
   "outputs": [],
   "source": [
    "dfSWJgroupby = pd.DataFrame(dfSWJ.groupby('customer_email').order_id.nunique())\n",
    "print('Number of customers purchasing using Sales white jar\\'s coupon:',len(dfSWJgroupby))\n",
    "#number of non-returning customers\n",
    "print('Number of non-returning customers:',len(dfSWJgroupby.loc[dfSWJgroupby.order_id!=1]))"
   ]
  },
  {
   "cell_type": "code",
   "execution_count": null,
   "metadata": {
    "ExecuteTime": {
     "end_time": "2020-10-28T17:12:49.634655Z",
     "start_time": "2020-10-28T17:12:49.610720Z"
    }
   },
   "outputs": [],
   "source": [
    "dfSWJ.loc[dfSWJ.customer_type=='returning']"
   ]
  },
  {
   "cell_type": "markdown",
   "metadata": {},
   "source": [
    "#### Customer Emails with Purchase greater than 1"
   ]
  },
  {
   "cell_type": "code",
   "execution_count": null,
   "metadata": {
    "ExecuteTime": {
     "end_time": "2020-10-28T17:06:13.583200Z",
     "start_time": "2020-10-28T17:06:13.571242Z"
    },
    "scrolled": true
   },
   "outputs": [],
   "source": [
    "subdf2.customer_email.value_counts()"
   ]
  },
  {
   "cell_type": "markdown",
   "metadata": {},
   "source": [
    "## Returning Customers"
   ]
  },
  {
   "cell_type": "code",
   "execution_count": null,
   "metadata": {
    "ExecuteTime": {
     "end_time": "2020-10-28T17:15:20.827666Z",
     "start_time": "2020-10-28T17:15:20.816696Z"
    }
   },
   "outputs": [],
   "source": [
    "#number of returning customers that purchased using discounts before\n",
    "returning = subdf2.loc[subdf2['customer_type']=='Returning']\n",
    "len(returning)"
   ]
  },
  {
   "cell_type": "code",
   "execution_count": null,
   "metadata": {
    "ExecuteTime": {
     "end_time": "2020-10-28T17:16:29.498723Z",
     "start_time": "2020-10-28T17:16:29.481768Z"
    }
   },
   "outputs": [],
   "source": [
    "#number of returning customers that purchased using discounts before\n",
    "print(len(df.loc[df['customer_type']=='Returning']))"
   ]
  },
  {
   "cell_type": "code",
   "execution_count": null,
   "metadata": {
    "ExecuteTime": {
     "end_time": "2020-10-28T17:27:33.252536Z",
     "start_time": "2020-10-28T17:27:33.231621Z"
    }
   },
   "outputs": [],
   "source": [
    "pd.DataFrame(returning['utm_campaign_content'].dropna())"
   ]
  },
  {
   "cell_type": "code",
   "execution_count": null,
   "metadata": {
    "ExecuteTime": {
     "end_time": "2020-10-28T17:29:18.275134Z",
     "start_time": "2020-10-28T17:29:18.252196Z"
    }
   },
   "outputs": [],
   "source": [
    "df['utm_campaign_content'].value_counts()"
   ]
  },
  {
   "cell_type": "code",
   "execution_count": null,
   "metadata": {
    "ExecuteTime": {
     "end_time": "2020-10-28T17:29:58.173129Z",
     "start_time": "2020-10-28T17:29:58.168145Z"
    }
   },
   "outputs": [],
   "source": [
    "returning['utm_campaign_content'].value_counts()"
   ]
  }
 ],
 "metadata": {
  "kernelspec": {
   "display_name": "Python 3",
   "language": "python",
   "name": "python3"
  },
  "language_info": {
   "codemirror_mode": {
    "name": "ipython",
    "version": 3
   },
   "file_extension": ".py",
   "mimetype": "text/x-python",
   "name": "python",
   "nbconvert_exporter": "python",
   "pygments_lexer": "ipython3",
   "version": "3.8.3"
  },
  "toc": {
   "base_numbering": 1,
   "nav_menu": {},
   "number_sections": true,
   "sideBar": true,
   "skip_h1_title": false,
   "title_cell": "Table of Contents",
   "title_sidebar": "Contents",
   "toc_cell": false,
   "toc_position": {},
   "toc_section_display": true,
   "toc_window_display": false
  }
 },
 "nbformat": 4,
 "nbformat_minor": 4
}
