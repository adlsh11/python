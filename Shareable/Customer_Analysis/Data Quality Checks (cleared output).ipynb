{
 "cells": [
  {
   "cell_type": "markdown",
   "metadata": {},
   "source": [
    "Output is cleared due to confidentiality of the information."
   ]
  },
  {
   "cell_type": "markdown",
   "metadata": {},
   "source": [
    "# Data Quality Checks"
   ]
  },
  {
   "cell_type": "markdown",
   "metadata": {},
   "source": [
    "Completeness – a percentage of data that includes one or more values. It’s important that critical data (such as customer names, phone numbers, email addresses, etc.) be completed first since completeness doesn’t impact non-critical data that much.  Incomplete data is as dangerous as inaccurate data. Gaps in data collection lead to a partial view of the overall picture to be displayed. Without a complete picture of how operations are running, uninformed actions will occur. It’s important to understand the complete set of requirements that constitute a comprehensive set of data to determine whether or not the requirements are being fulfilled.\n",
    "\n",
    "Granularity and Uniqueness: The level of detail at which data is collected is important, because confusion and inaccurate decisions can otherwise occur. Aggregated, summarized and manipulated collections of data could offer a different meaning than the data implied at a lower level. An appropriate level of granularity must be defined to provide sufficient uniqueness and distinctive properties to become visible. This is a requirement for operations to function effectively.\n",
    "\n",
    "Timeliness – How much of an impact does date and time have on the data? This could be previous sales, product launches or any information that is relied on over a period of time to be accurate. Data collected too soon or too late could misrepresent a situation and drive inaccurate decisions.\n",
    "\n",
    "Validity – Does the data conform to the respective standards set for it?  Requirements governing data set the boundaries of this characteristic. For example, on surveys, items such as gender, ethnicity, and nationality are typically limited to a set of options and open answers are not permitted. Any answers other than these would not be considered valid or legitimate based on the survey’s requirement. This is the case for most data and must be carefully considered when determining its quality. The people in each department in an organization understand what data is valid or not to them, so the requirements must be leveraged when evaluating data quality.\n",
    "\n",
    "Accuracy – How well does the data reflect the real-world person or thing that is identified by it?  It cannot have any erroneous elements and must convey the correct message without being misleading. \n",
    "\n",
    "Consistency – How well does the data align with a preconceived pattern? Birth dates share a common consistency issue, since in the U.S., the standard is MM/DD/YYYY, whereas in Europe and other areas, the usage of DD/MM/YYYY is standard."
   ]
  },
  {
   "cell_type": "markdown",
   "metadata": {},
   "source": [
    "## Determine path"
   ]
  },
  {
   "cell_type": "code",
   "execution_count": null,
   "metadata": {
    "ExecuteTime": {
     "end_time": "2020-11-02T16:05:33.110619Z",
     "start_time": "2020-11-02T16:05:33.096657Z"
    }
   },
   "outputs": [],
   "source": [
    "path_ipynb = r'C:\\Users\\luc57.DESKTOP-NB5DC80\\AE\\ipynb\\\\'\n",
    "path_excel = r'C:\\Users\\luc57.DESKTOP-NB5DC80\\AE\\excel\\\\'"
   ]
  },
  {
   "cell_type": "markdown",
   "metadata": {},
   "source": [
    "## Import required libraries"
   ]
  },
  {
   "cell_type": "code",
   "execution_count": null,
   "metadata": {
    "ExecuteTime": {
     "end_time": "2020-11-02T16:05:33.157328Z",
     "start_time": "2020-11-02T16:05:33.139322Z"
    }
   },
   "outputs": [],
   "source": [
    "import pandas as pd\n",
    "import matplotlib.pyplot as plt\n",
    "import seaborn as sns\n",
    "import numpy as np\n",
    "import os"
   ]
  },
  {
   "cell_type": "markdown",
   "metadata": {},
   "source": [
    "## Read the dataframe"
   ]
  },
  {
   "cell_type": "code",
   "execution_count": null,
   "metadata": {
    "ExecuteTime": {
     "end_time": "2020-11-02T16:05:33.189188Z",
     "start_time": "2020-11-02T16:05:33.178216Z"
    }
   },
   "outputs": [],
   "source": [
    "#change the current path\n",
    "#os.chdir()"
   ]
  },
  {
   "cell_type": "code",
   "execution_count": null,
   "metadata": {
    "ExecuteTime": {
     "end_time": "2020-11-02T16:05:33.205145Z",
     "start_time": "2020-11-02T16:05:33.190202Z"
    }
   },
   "outputs": [],
   "source": [
    "#list every file in the current directory\n",
    "os.listdir()"
   ]
  },
  {
   "cell_type": "code",
   "execution_count": null,
   "metadata": {
    "ExecuteTime": {
     "end_time": "2020-11-02T16:05:33.253017Z",
     "start_time": "2020-11-02T16:05:33.206154Z"
    }
   },
   "outputs": [],
   "source": [
    "df = pd.read_csv(path_excel+'discounts_2019-09-01_2020-11-01.csv')\n",
    "df.head(2)"
   ]
  },
  {
   "cell_type": "markdown",
   "metadata": {},
   "source": [
    "## Data types"
   ]
  },
  {
   "cell_type": "code",
   "execution_count": null,
   "metadata": {
    "ExecuteTime": {
     "end_time": "2020-11-02T16:05:33.267977Z",
     "start_time": "2020-11-02T16:05:33.254065Z"
    }
   },
   "outputs": [],
   "source": [
    "df.dtypes"
   ]
  },
  {
   "cell_type": "code",
   "execution_count": null,
   "metadata": {
    "ExecuteTime": {
     "end_time": "2020-11-02T16:05:33.283934Z",
     "start_time": "2020-11-02T16:05:33.269973Z"
    }
   },
   "outputs": [],
   "source": [
    "df['total_returns'].value_counts()\n",
    "# total returns is in Euro"
   ]
  },
  {
   "cell_type": "markdown",
   "metadata": {},
   "source": [
    "Variables _hour_, _day_, _month_,_quarter_,_year_,_day_of_the_week all have wrong datatypes._"
   ]
  },
  {
   "cell_type": "markdown",
   "metadata": {},
   "source": [
    "Except for the variables above, the others seem fine."
   ]
  },
  {
   "cell_type": "markdown",
   "metadata": {},
   "source": [
    "## Convert Datatypes"
   ]
  },
  {
   "cell_type": "markdown",
   "metadata": {},
   "source": [
    "### Convert Datetime Properties"
   ]
  },
  {
   "cell_type": "code",
   "execution_count": null,
   "metadata": {
    "ExecuteTime": {
     "end_time": "2020-11-02T16:05:33.408336Z",
     "start_time": "2020-11-02T16:05:33.392369Z"
    },
    "scrolled": false
   },
   "outputs": [],
   "source": [
    "df[['hour','hour_of_day','month','month_of_year','quarter','year','day_of_week']]"
   ]
  },
  {
   "cell_type": "code",
   "execution_count": null,
   "metadata": {
    "ExecuteTime": {
     "end_time": "2020-11-02T16:05:33.424253Z",
     "start_time": "2020-11-02T16:05:33.409293Z"
    }
   },
   "outputs": [],
   "source": [
    "#correct the hour variable\n",
    "from datetime import datetime\n",
    "df['hour'] = pd.to_datetime(df['hour'])\n",
    "df['hour']"
   ]
  },
  {
   "cell_type": "code",
   "execution_count": null,
   "metadata": {
    "ExecuteTime": {
     "end_time": "2020-11-02T16:05:33.440210Z",
     "start_time": "2020-11-02T16:05:33.425251Z"
    }
   },
   "outputs": [],
   "source": [
    "#get the date and time correctly\n",
    "df['date']=df['hour']\n",
    "df['date']"
   ]
  },
  {
   "cell_type": "code",
   "execution_count": null,
   "metadata": {
    "ExecuteTime": {
     "end_time": "2020-11-02T16:05:33.486088Z",
     "start_time": "2020-11-02T16:05:33.441208Z"
    }
   },
   "outputs": [],
   "source": [
    "#remove the date from hour \n",
    "df['hour'] = df['hour'].apply(lambda x: x.strftime('%H:%M:%S'))\n",
    "df['hour']"
   ]
  },
  {
   "cell_type": "markdown",
   "metadata": {},
   "source": []
  },
  {
   "cell_type": "markdown",
   "metadata": {},
   "source": [
    "## Value Distribution"
   ]
  },
  {
   "cell_type": "code",
   "execution_count": null,
   "metadata": {
    "ExecuteTime": {
     "end_time": "2020-11-02T16:05:33.533959Z",
     "start_time": "2020-11-02T16:05:33.488091Z"
    },
    "scrolled": true
   },
   "outputs": [],
   "source": [
    "df.describe()"
   ]
  },
  {
   "cell_type": "markdown",
   "metadata": {},
   "source": [
    "Columns _marketing_event_target_,_marketing_event_type, and _automatic_discount_title_ seem to contain so many null values. "
   ]
  },
  {
   "cell_type": "markdown",
   "metadata": {},
   "source": [
    "## Missing data?"
   ]
  },
  {
   "cell_type": "code",
   "execution_count": null,
   "metadata": {
    "ExecuteTime": {
     "end_time": "2020-11-02T16:05:33.594828Z",
     "start_time": "2020-11-02T16:05:33.573884Z"
    },
    "scrolled": false
   },
   "outputs": [],
   "source": [
    "df.isnull().sum()"
   ]
  },
  {
   "cell_type": "markdown",
   "metadata": {},
   "source": [
    "There are 4535 rows. Variables _marketing_event_target_ and _marketing_event_type_ and _automatic_discount_title_ should be deleted."
   ]
  },
  {
   "cell_type": "markdown",
   "metadata": {},
   "source": [
    "## Duplicate rows?"
   ]
  },
  {
   "cell_type": "code",
   "execution_count": null,
   "metadata": {
    "ExecuteTime": {
     "end_time": "2020-11-02T16:05:33.687550Z",
     "start_time": "2020-11-02T16:05:33.667603Z"
    }
   },
   "outputs": [],
   "source": [
    "# Select duplicate rows except first occurrence based on all columns\n",
    "duplicateRowsDF = df[df.duplicated()]\n",
    "print(\"Duplicate Rows except first occurrence based on all columns are :\")\n",
    "print(duplicateRowsDF)"
   ]
  },
  {
   "cell_type": "markdown",
   "metadata": {},
   "source": [
    "## Drop useless columns"
   ]
  },
  {
   "cell_type": "code",
   "execution_count": null,
   "metadata": {
    "ExecuteTime": {
     "end_time": "2020-11-02T16:05:33.735422Z",
     "start_time": "2020-11-02T16:05:33.720461Z"
    }
   },
   "outputs": [],
   "source": [
    "df = df.drop(columns=['product_vendor','shipping_title','total_shipping_script_discount','total_returns',\n",
    "                      'marketing_event_target','marketing_event_type','automatic_discount_title','total_line_item_script_discount'])"
   ]
  },
  {
   "cell_type": "markdown",
   "metadata": {},
   "source": [
    "## Check other columns that also have many missing data"
   ]
  },
  {
   "cell_type": "code",
   "execution_count": null,
   "metadata": {
    "ExecuteTime": {
     "end_time": "2020-11-02T16:05:33.781299Z",
     "start_time": "2020-11-02T16:05:33.767368Z"
    },
    "scrolled": true
   },
   "outputs": [],
   "source": [
    "df[['email','product_title','variant_title','total_gross_sales','total_net_sales']]"
   ]
  },
  {
   "cell_type": "code",
   "execution_count": null,
   "metadata": {
    "ExecuteTime": {
     "end_time": "2020-11-02T16:05:33.797256Z",
     "start_time": "2020-11-02T16:05:33.782298Z"
    }
   },
   "outputs": [],
   "source": [
    "df['product_title'].value_counts()"
   ]
  },
  {
   "cell_type": "code",
   "execution_count": null,
   "metadata": {
    "ExecuteTime": {
     "end_time": "2020-11-02T16:05:33.813214Z",
     "start_time": "2020-11-02T16:05:33.799251Z"
    }
   },
   "outputs": [],
   "source": [
    "df['variant_title'].value_counts()"
   ]
  },
  {
   "cell_type": "markdown",
   "metadata": {},
   "source": [
    "# Check only done transactions"
   ]
  },
  {
   "cell_type": "code",
   "execution_count": null,
   "metadata": {
    "ExecuteTime": {
     "end_time": "2020-11-02T16:05:33.844131Z",
     "start_time": "2020-11-02T16:05:33.823187Z"
    }
   },
   "outputs": [],
   "source": [
    "done_transactions = df.loc[df['total_gross_sales']!=0]\n",
    "len(done_transactions)"
   ]
  },
  {
   "cell_type": "code",
   "execution_count": null,
   "metadata": {
    "ExecuteTime": {
     "end_time": "2020-11-02T16:05:33.875079Z",
     "start_time": "2020-11-02T16:05:33.845129Z"
    }
   },
   "outputs": [],
   "source": [
    "done_transactions.tail(5)"
   ]
  },
  {
   "cell_type": "code",
   "execution_count": null,
   "metadata": {
    "ExecuteTime": {
     "end_time": "2020-11-02T16:05:33.891005Z",
     "start_time": "2020-11-02T16:05:33.877045Z"
    }
   },
   "outputs": [],
   "source": [
    "done_transactions.isna().sum()"
   ]
  },
  {
   "cell_type": "code",
   "execution_count": null,
   "metadata": {
    "ExecuteTime": {
     "end_time": "2020-11-02T16:05:33.906963Z",
     "start_time": "2020-11-02T16:05:33.892002Z"
    }
   },
   "outputs": [],
   "source": [
    "done_transactions['email'] = done_transactions['email'].replace(np.nan, 'user preference')\n",
    "done_transactions['email'].isna().sum()"
   ]
  },
  {
   "cell_type": "code",
   "execution_count": null,
   "metadata": {
    "ExecuteTime": {
     "end_time": "2020-11-02T16:05:33.921923Z",
     "start_time": "2020-11-02T16:05:33.907961Z"
    }
   },
   "outputs": [],
   "source": [
    "done_transactions['email'].value_counts()"
   ]
  },
  {
   "cell_type": "markdown",
   "metadata": {},
   "source": [
    "By now, the only column containing null value should be _product_variant_."
   ]
  },
  {
   "cell_type": "code",
   "execution_count": null,
   "metadata": {
    "ExecuteTime": {
     "end_time": "2020-11-02T16:05:33.937881Z",
     "start_time": "2020-11-02T16:05:33.922921Z"
    }
   },
   "outputs": [],
   "source": [
    "done_transactions.isna().sum()"
   ]
  },
  {
   "cell_type": "markdown",
   "metadata": {},
   "source": [
    "Let us check what is wrong with those transactions."
   ]
  },
  {
   "cell_type": "code",
   "execution_count": null,
   "metadata": {
    "ExecuteTime": {
     "end_time": "2020-11-02T16:05:33.967800Z",
     "start_time": "2020-11-02T16:05:33.938877Z"
    },
    "scrolled": false
   },
   "outputs": [],
   "source": [
    "done_transactions[done_transactions.isna().any(axis=1)]"
   ]
  },
  {
   "cell_type": "markdown",
   "metadata": {},
   "source": [
    "220 rows of done transactions do not have variant titles to them, but at least they have product names, so we can keep them."
   ]
  },
  {
   "cell_type": "markdown",
   "metadata": {},
   "source": [
    "## Check the value_counts of each column"
   ]
  },
  {
   "cell_type": "code",
   "execution_count": null,
   "metadata": {
    "ExecuteTime": {
     "end_time": "2020-11-02T16:05:34.078504Z",
     "start_time": "2020-11-02T16:05:34.021657Z"
    },
    "scrolled": false
   },
   "outputs": [],
   "source": [
    "for column in done_transactions.columns:\n",
    "     print(\"\\n\" + column)\n",
    "     print(done_transactions[column].value_counts())"
   ]
  },
  {
   "cell_type": "code",
   "execution_count": null,
   "metadata": {
    "ExecuteTime": {
     "end_time": "2020-11-02T16:05:34.094461Z",
     "start_time": "2020-11-02T16:05:34.079501Z"
    }
   },
   "outputs": [],
   "source": [
    "del done_transactions['discount_applied'] #there is only one value to all the rows"
   ]
  },
  {
   "cell_type": "markdown",
   "metadata": {},
   "source": [
    "## Select only numeric columns"
   ]
  },
  {
   "cell_type": "code",
   "execution_count": null,
   "metadata": {
    "ExecuteTime": {
     "end_time": "2020-11-02T16:05:34.125395Z",
     "start_time": "2020-11-02T16:05:34.095464Z"
    },
    "scrolled": true
   },
   "outputs": [],
   "source": [
    "done_transactions.select_dtypes([np.number])"
   ]
  },
  {
   "cell_type": "code",
   "execution_count": null,
   "metadata": {
    "ExecuteTime": {
     "end_time": "2020-11-02T16:05:36.044293Z",
     "start_time": "2020-11-02T16:05:34.126376Z"
    },
    "scrolled": false
   },
   "outputs": [],
   "source": [
    "# listing dataframes types\n",
    "list(set(done_transactions.dtypes.tolist()))\n",
    "# include only float and integer\n",
    "done_transactions_num = done_transactions.select_dtypes(include = ['float64', 'int64'])\n",
    "# display what has been selected\n",
    "done_transactions_num.head()\n",
    "# plot\n",
    "done_transactions_num.hist(figsize=(16, 20), bins=50, xlabelsize=8, ylabelsize=8);"
   ]
  },
  {
   "cell_type": "markdown",
   "metadata": {},
   "source": [
    "It seems that the column _total_shippping_price, total_shipping_discount, and total_quantity_ only have one value."
   ]
  },
  {
   "cell_type": "code",
   "execution_count": null,
   "metadata": {
    "ExecuteTime": {
     "end_time": "2020-11-02T16:05:36.059243Z",
     "start_time": "2020-11-02T16:05:36.045249Z"
    }
   },
   "outputs": [],
   "source": [
    "print(done_transactions['total_shipping_price'].value_counts())\n",
    "print(done_transactions['total_shipping_discount'].value_counts())\n",
    "print(done_transactions['total_quantity'].value_counts())"
   ]
  },
  {
   "cell_type": "code",
   "execution_count": null,
   "metadata": {
    "ExecuteTime": {
     "end_time": "2020-11-02T16:05:36.075168Z",
     "start_time": "2020-11-02T16:05:36.060209Z"
    }
   },
   "outputs": [],
   "source": [
    "#drop the two columns as they don't provide unique information\n",
    "done_transactions.drop(columns=['total_shipping_price','total_shipping_discount'],inplace=True)"
   ]
  },
  {
   "cell_type": "markdown",
   "metadata": {},
   "source": [
    "## Column _name_ equals column  _discountcode_ ?"
   ]
  },
  {
   "cell_type": "code",
   "execution_count": null,
   "metadata": {
    "ExecuteTime": {
     "end_time": "2020-11-02T16:05:36.090128Z",
     "start_time": "2020-11-02T16:05:36.076166Z"
    }
   },
   "outputs": [],
   "source": [
    "done_transactions['name']==done_transactions['discount_code']"
   ]
  },
  {
   "cell_type": "code",
   "execution_count": null,
   "metadata": {
    "ExecuteTime": {
     "end_time": "2020-11-02T16:05:36.106086Z",
     "start_time": "2020-11-02T16:05:36.091125Z"
    }
   },
   "outputs": [],
   "source": [
    "done_transactions[['name', 'discount_code']].assign(NE=done_transactions.name != done_transactions.discount_code)"
   ]
  },
  {
   "cell_type": "code",
   "execution_count": null,
   "metadata": {
    "ExecuteTime": {
     "end_time": "2020-11-02T16:05:36.122043Z",
     "start_time": "2020-11-02T16:05:36.107083Z"
    }
   },
   "outputs": [],
   "source": [
    "done_transactions['NE']=done_transactions['name']==done_transactions['discount_code']"
   ]
  },
  {
   "cell_type": "code",
   "execution_count": null,
   "metadata": {
    "ExecuteTime": {
     "end_time": "2020-11-02T16:05:36.138000Z",
     "start_time": "2020-11-02T16:05:36.123043Z"
    }
   },
   "outputs": [],
   "source": [
    "done_transactions.loc[done_transactions['NE']=='False']"
   ]
  },
  {
   "cell_type": "markdown",
   "metadata": {},
   "source": [
    "All rows have identical value. The column _name_ can be deleted."
   ]
  },
  {
   "cell_type": "code",
   "execution_count": null,
   "metadata": {
    "ExecuteTime": {
     "end_time": "2020-11-02T16:05:36.153958Z",
     "start_time": "2020-11-02T16:05:36.138998Z"
    }
   },
   "outputs": [],
   "source": [
    "done_transactions.drop(columns=['NE','name'],inplace=True)"
   ]
  },
  {
   "cell_type": "code",
   "execution_count": null,
   "metadata": {
    "ExecuteTime": {
     "end_time": "2020-11-02T16:05:36.185872Z",
     "start_time": "2020-11-02T16:05:36.154975Z"
    },
    "scrolled": false
   },
   "outputs": [],
   "source": [
    "done_transactions"
   ]
  },
  {
   "cell_type": "markdown",
   "metadata": {},
   "source": [
    "## Exclude tests"
   ]
  },
  {
   "cell_type": "code",
   "execution_count": null,
   "metadata": {
    "ExecuteTime": {
     "end_time": "2020-11-02T16:05:36.201830Z",
     "start_time": "2020-11-02T16:05:36.186870Z"
    }
   },
   "outputs": [],
   "source": [
    "print('Number of real transactions= ',len(done_transactions.loc[done_transactions['email']!='test']))\n",
    "done_transactions = done_transactions.loc[done_transactions['email']!='test']"
   ]
  },
  {
   "cell_type": "code",
   "execution_count": null,
   "metadata": {
    "ExecuteTime": {
     "end_time": "2020-11-02T16:05:36.233753Z",
     "start_time": "2020-11-02T16:05:36.203825Z"
    }
   },
   "outputs": [],
   "source": [
    "done_transactions"
   ]
  },
  {
   "cell_type": "code",
   "execution_count": null,
   "metadata": {
    "ExecuteTime": {
     "end_time": "2020-11-02T16:05:36.249702Z",
     "start_time": "2020-11-02T16:05:36.234741Z"
    }
   },
   "outputs": [],
   "source": [
    "done_transactions.columns"
   ]
  },
  {
   "cell_type": "code",
   "execution_count": null,
   "metadata": {
    "ExecuteTime": {
     "end_time": "2020-11-02T16:05:36.265659Z",
     "start_time": "2020-11-02T16:05:36.250700Z"
    },
    "scrolled": false
   },
   "outputs": [],
   "source": [
    "suspicious_of_testing=['customer_name','discount_code','email','orders']\n",
    "for column in suspicious_of_testing:\n",
    "    print(column)\n",
    "    print(done_transactions[column].value_counts())\n",
    "    print('')"
   ]
  },
  {
   "cell_type": "code",
   "execution_count": null,
   "metadata": {
    "ExecuteTime": {
     "end_time": "2020-11-02T16:05:36.297574Z",
     "start_time": "2020-11-02T16:05:36.266656Z"
    }
   },
   "outputs": [],
   "source": [
    "done_transactions[done_transactions['discount_code'].str.match('test')]"
   ]
  },
  {
   "cell_type": "code",
   "execution_count": null,
   "metadata": {
    "ExecuteTime": {
     "end_time": "2020-11-02T16:05:36.313532Z",
     "start_time": "2020-11-02T16:05:36.298604Z"
    }
   },
   "outputs": [],
   "source": [
    "done_transactions = done_transactions.drop([2750,4004], axis=0)"
   ]
  },
  {
   "cell_type": "code",
   "execution_count": null,
   "metadata": {
    "ExecuteTime": {
     "end_time": "2020-11-02T16:05:36.329521Z",
     "start_time": "2020-11-02T16:05:36.314561Z"
    }
   },
   "outputs": [],
   "source": [
    "done_transactions = done_transactions[~done_transactions.discount_code.str.contains(\"TEST\")]\n",
    "len(done_transactions)"
   ]
  },
  {
   "cell_type": "markdown",
   "metadata": {},
   "source": [
    "## Why are there rows with sales but orders equal 0?"
   ]
  },
  {
   "cell_type": "code",
   "execution_count": null,
   "metadata": {
    "ExecuteTime": {
     "end_time": "2020-11-02T16:05:36.376364Z",
     "start_time": "2020-11-02T16:05:36.330486Z"
    }
   },
   "outputs": [],
   "source": [
    "done_transactions.loc[done_transactions['orders']==0]"
   ]
  },
  {
   "cell_type": "markdown",
   "metadata": {},
   "source": [
    "## Deselect rows which _total_quantity_return_ equals -1"
   ]
  },
  {
   "cell_type": "code",
   "execution_count": null,
   "metadata": {
    "ExecuteTime": {
     "end_time": "2020-11-02T16:05:36.392321Z",
     "start_time": "2020-11-02T16:05:36.377361Z"
    }
   },
   "outputs": [],
   "source": [
    "done_transactions = done_transactions.loc[~done_transactions['total_quantity_returns']==-1]\n",
    "len(done_transactions)"
   ]
  },
  {
   "cell_type": "code",
   "execution_count": null,
   "metadata": {
    "ExecuteTime": {
     "end_time": "2020-11-02T16:05:36.407281Z",
     "start_time": "2020-11-02T16:05:36.393345Z"
    }
   },
   "outputs": [],
   "source": [
    "done_transactions = done_transactions.drop(columns='total_quantity_returns',axis=1)\n",
    "len(done_transactions.columns)"
   ]
  },
  {
   "cell_type": "markdown",
   "metadata": {},
   "source": [
    "## Fix the column Variant Title"
   ]
  },
  {
   "cell_type": "code",
   "execution_count": null,
   "metadata": {
    "ExecuteTime": {
     "end_time": "2020-11-02T16:05:36.438198Z",
     "start_time": "2020-11-02T16:05:36.408278Z"
    }
   },
   "outputs": [],
   "source": [
    "done_transactions.loc[(done_transactions['product_title']=='Day Cream')]"
   ]
  },
  {
   "cell_type": "code",
   "execution_count": null,
   "metadata": {
    "ExecuteTime": {
     "end_time": "2020-11-02T16:05:36.468150Z",
     "start_time": "2020-11-02T16:05:36.439196Z"
    }
   },
   "outputs": [],
   "source": [
    "done_transactions.loc[done_transactions['variant_title']=='20ml']"
   ]
  },
  {
   "cell_type": "code",
   "execution_count": null,
   "metadata": {
    "ExecuteTime": {
     "end_time": "2020-11-02T16:05:39.121340Z",
     "start_time": "2020-11-02T16:05:38.094085Z"
    }
   },
   "outputs": [],
   "source": [
    "done_transactions.to_excel(path_excel+'done_transactions.xlsx')"
   ]
  },
  {
   "cell_type": "code",
   "execution_count": null,
   "metadata": {
    "ExecuteTime": {
     "end_time": "2020-11-02T16:05:39.137324Z",
     "start_time": "2020-11-02T16:05:39.122373Z"
    }
   },
   "outputs": [],
   "source": [
    "done_transactions[['discount_code','orders','total_quantity']]"
   ]
  }
 ],
 "metadata": {
  "kernelspec": {
   "display_name": "Python 3",
   "language": "python",
   "name": "python3"
  },
  "language_info": {
   "codemirror_mode": {
    "name": "ipython",
    "version": 3
   },
   "file_extension": ".py",
   "mimetype": "text/x-python",
   "name": "python",
   "nbconvert_exporter": "python",
   "pygments_lexer": "ipython3",
   "version": "3.8.3"
  },
  "toc": {
   "base_numbering": 1,
   "nav_menu": {},
   "number_sections": true,
   "sideBar": true,
   "skip_h1_title": false,
   "title_cell": "Table of Contents",
   "title_sidebar": "Contents",
   "toc_cell": false,
   "toc_position": {
    "height": "calc(100% - 180px)",
    "left": "10px",
    "top": "150px",
    "width": "279.273px"
   },
   "toc_section_display": true,
   "toc_window_display": true
  }
 },
 "nbformat": 4,
 "nbformat_minor": 4
}
