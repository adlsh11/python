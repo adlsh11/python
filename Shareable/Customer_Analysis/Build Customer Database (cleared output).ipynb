{
 "cells": [
  {
   "cell_type": "markdown",
   "metadata": {},
   "source": [
    "Output is cleared due to confidentiality of the information."
   ]
  },
  {
   "cell_type": "code",
   "execution_count": null,
   "metadata": {
    "ExecuteTime": {
     "end_time": "2020-11-30T10:58:14.873790Z",
     "start_time": "2020-11-30T10:58:14.868835Z"
    }
   },
   "outputs": [],
   "source": [
    "import pandas as pd\n",
    "import numpy as np\n",
    "import matplotlib.pyplot as plt\n",
    "import seaborn as sns\n",
    "import os"
   ]
  },
  {
   "cell_type": "code",
   "execution_count": null,
   "metadata": {
    "ExecuteTime": {
     "end_time": "2020-11-30T10:58:14.889779Z",
     "start_time": "2020-11-30T10:58:14.877805Z"
    }
   },
   "outputs": [],
   "source": [
    "from jupyterthemes import jtplot\n",
    "jtplot.style()"
   ]
  },
  {
   "cell_type": "code",
   "execution_count": null,
   "metadata": {
    "ExecuteTime": {
     "end_time": "2020-11-30T10:58:22.661054Z",
     "start_time": "2020-11-30T10:58:14.890781Z"
    }
   },
   "outputs": [],
   "source": [
    "import pandas as pd\n",
    "import numpy as np\n",
    "from googleapiclient.discovery import build\n",
    "from google_auth_oauthlib.flow import InstalledAppFlow,Flow\n",
    "from google.auth.transport.requests import Request\n",
    "import os\n",
    "import pickle\n",
    "\n",
    "os.chdir(r'C:\\Users\\luc57.DESKTOP-NB5DC80\\AE\\ipynb')\n",
    "SCOPES = ['https://www.googleapis.com/auth/spreadsheets']\n",
    "\n",
    "# here enter the id of your google sheet\n",
    "SAMPLE_SPREADSHEET_ID_input = ''\n",
    "SAMPLE_RANGE_NAME = 'A1:ZZ30000'\n",
    "\n",
    "def main():\n",
    "    global values_input, service\n",
    "    creds = None\n",
    "    if os.path.exists('token.pickle'):\n",
    "        with open('token.pickle', 'rb') as token:\n",
    "            creds = pickle.load(token)\n",
    "    if not creds or not creds.valid:\n",
    "        if creds and creds.expired and creds.refresh_token:\n",
    "            creds.refresh(Request())\n",
    "        else:\n",
    "            flow = InstalledAppFlow.from_client_secrets_file(\n",
    "                'credentials.json', SCOPES) # here enter the name of your downloaded JSON file\n",
    "            creds = flow.run_local_server(port=0)\n",
    "        with open('token.pickle', 'wb') as token:\n",
    "            pickle.dump(creds, token)\n",
    "\n",
    "    service = build('sheets', 'v4', credentials=creds)\n",
    "\n",
    "    # Call the Sheets API\n",
    "    sheet = service.spreadsheets()\n",
    "    result_input = sheet.values().get(spreadsheetId=SAMPLE_SPREADSHEET_ID_input,\n",
    "                                range=SAMPLE_RANGE_NAME).execute()\n",
    "    values_input = result_input.get('values', [])\n",
    "\n",
    "    if not values_input and not values_expansion:\n",
    "        print('No data found.')\n",
    "\n",
    "main()\n",
    "\n",
    "concatdf=pd.DataFrame(values_input[1:], columns=values_input[0])\n",
    "#file must be a google sheets, not a normal xlsx uploaded to gdrive"
   ]
  },
  {
   "cell_type": "code",
   "execution_count": null,
   "metadata": {
    "ExecuteTime": {
     "end_time": "2020-11-30T10:58:43.269995Z",
     "start_time": "2020-11-30T10:58:40.607942Z"
    }
   },
   "outputs": [],
   "source": [
    "concatdf = pd.read_excel(r'C:\\Users\\luc57.DESKTOP-NB5DC80\\AE\\ipynb\\concatdf.xlsx',index_col=0)"
   ]
  },
  {
   "cell_type": "code",
   "execution_count": null,
   "metadata": {
    "ExecuteTime": {
     "end_time": "2020-11-30T10:58:43.285955Z",
     "start_time": "2020-11-30T10:58:43.270995Z"
    }
   },
   "outputs": [],
   "source": [
    "concatdf.dtypes"
   ]
  },
  {
   "cell_type": "markdown",
   "metadata": {},
   "source": [
    "# Data Wrangling"
   ]
  },
  {
   "cell_type": "code",
   "execution_count": null,
   "metadata": {
    "ExecuteTime": {
     "end_time": "2020-11-30T10:58:48.295700Z",
     "start_time": "2020-11-30T10:58:48.281733Z"
    }
   },
   "outputs": [],
   "source": [
    "concatdf.day.nunique()"
   ]
  },
  {
   "cell_type": "code",
   "execution_count": null,
   "metadata": {
    "ExecuteTime": {
     "end_time": "2020-11-30T10:58:48.310655Z",
     "start_time": "2020-11-30T10:58:48.297690Z"
    }
   },
   "outputs": [],
   "source": [
    "#convert column day to datetime\n",
    "concatdf['day']=pd.to_datetime(concatdf['day'])\n",
    "concatdf['day'].nunique()"
   ]
  },
  {
   "cell_type": "code",
   "execution_count": null,
   "metadata": {
    "ExecuteTime": {
     "end_time": "2020-11-30T10:58:48.326613Z",
     "start_time": "2020-11-30T10:58:48.311654Z"
    }
   },
   "outputs": [],
   "source": [
    "concatdf.month"
   ]
  },
  {
   "cell_type": "code",
   "execution_count": null,
   "metadata": {
    "ExecuteTime": {
     "end_time": "2020-11-30T10:58:48.420362Z",
     "start_time": "2020-11-30T10:58:48.327610Z"
    }
   },
   "outputs": [],
   "source": [
    "from datetime import datetime\n",
    "#correct the month variable\n",
    "concatdf['month'] = concatdf['day'].dt.month\n",
    "concatdf['month'] = concatdf['month'].astype(str)\n",
    "\n",
    "def month_name(month_number):\n",
    "    datetime_object = datetime.strptime(month_number, \"%m\")\n",
    "    return datetime_object.strftime(\"%B\")\n",
    "\n",
    "concatdf['month']=concatdf['month'].apply(month_name)\n",
    "concatdf['month']"
   ]
  },
  {
   "cell_type": "code",
   "execution_count": null,
   "metadata": {
    "ExecuteTime": {
     "end_time": "2020-11-30T10:58:49.020789Z",
     "start_time": "2020-11-30T10:58:48.422357Z"
    }
   },
   "outputs": [],
   "source": [
    "cols = ['orders','product_price','gross_sales','discounts','net_sales',\n",
    "        'taxes','total_sales','average_order_value',\n",
    "        'units_per_transaction','net_quantity',\n",
    "        'ordered_item_quantity']\n",
    "concatdf[cols] = concatdf[cols].apply(pd.to_numeric, errors='coerce', axis=1)"
   ]
  },
  {
   "cell_type": "code",
   "execution_count": null,
   "metadata": {
    "ExecuteTime": {
     "end_time": "2020-11-30T10:59:06.443839Z",
     "start_time": "2020-11-30T10:59:06.411890Z"
    },
    "scrolled": true
   },
   "outputs": [],
   "source": [
    "concatdf.drop(columns=[''],inplace=True)"
   ]
  },
  {
   "cell_type": "code",
   "execution_count": null,
   "metadata": {
    "ExecuteTime": {
     "end_time": "2020-11-30T10:59:06.445839Z",
     "start_time": "2020-11-30T10:59:06.413Z"
    }
   },
   "outputs": [],
   "source": [
    "concatdf.dtypes"
   ]
  },
  {
   "cell_type": "code",
   "execution_count": null,
   "metadata": {
    "ExecuteTime": {
     "end_time": "2020-11-30T10:59:06.446797Z",
     "start_time": "2020-11-30T10:59:06.417Z"
    }
   },
   "outputs": [],
   "source": [
    "concatdf.product_variant"
   ]
  },
  {
   "cell_type": "markdown",
   "metadata": {},
   "source": [
    "# Determine Last Transactions"
   ]
  },
  {
   "cell_type": "code",
   "execution_count": null,
   "metadata": {
    "ExecuteTime": {
     "end_time": "2020-11-30T10:59:08.744658Z",
     "start_time": "2020-11-30T10:59:06.544523Z"
    }
   },
   "outputs": [],
   "source": [
    "s = concatdf.groupby(\"customer_name\")[\"day\"].transform(\"max\")\n",
    "grouped_data=concatdf[concatdf[\"day\"].eq(s)].groupby(\"customer_name\").agg(lambda d: \", \".join(d.unique()))\n",
    "grouped_data"
   ]
  },
  {
   "cell_type": "code",
   "execution_count": null,
   "metadata": {
    "ExecuteTime": {
     "end_time": "2020-11-30T10:59:08.760597Z",
     "start_time": "2020-11-30T10:59:08.746635Z"
    }
   },
   "outputs": [],
   "source": [
    "grouped_data[['product_variant','discount_code','channel']]"
   ]
  },
  {
   "cell_type": "code",
   "execution_count": null,
   "metadata": {
    "ExecuteTime": {
     "end_time": "2020-11-30T10:59:08.792511Z",
     "start_time": "2020-11-30T10:59:08.761594Z"
    }
   },
   "outputs": [],
   "source": [
    "#get total net sales\n",
    "net_sales=concatdf.groupby('customer_name')['net_sales'].sum().reset_index()\n",
    "\n",
    "#get earliest transaction date\n",
    "earliest_trans=concatdf.groupby('customer_name')['day'].min().reset_index()\n",
    "#get last transaction date\n",
    "last_trans=concatdf.groupby('customer_name')['day'].max().reset_index()\n",
    "\n",
    "#rename column name\n",
    "earliest_trans.columns=['customer_name','earliest_transaction_date']\n",
    "last_trans.columns=['customer_name','last_transaction_date'] \n",
    "\n",
    "#convert the column to a datetime variable\n",
    "last_trans['last_transaction_date']=pd.to_datetime(last_trans['last_transaction_date'])\n",
    "earliest_trans['earliest_transaction_date']=pd.to_datetime(earliest_trans['earliest_transaction_date'])"
   ]
  },
  {
   "cell_type": "code",
   "execution_count": null,
   "metadata": {
    "ExecuteTime": {
     "end_time": "2020-11-30T10:59:08.808468Z",
     "start_time": "2020-11-30T10:59:08.793509Z"
    }
   },
   "outputs": [],
   "source": [
    "earliest_trans.sort_values(by='earliest_transaction_date')"
   ]
  },
  {
   "cell_type": "code",
   "execution_count": null,
   "metadata": {
    "ExecuteTime": {
     "end_time": "2020-11-30T10:59:08.840383Z",
     "start_time": "2020-11-30T10:59:08.809466Z"
    }
   },
   "outputs": [],
   "source": [
    "import datetime as dt\n",
    "today=pd.to_datetime(dt.date.today())\n",
    "#create new column to determine last purchase date\n",
    "last_trans['last_purchase_in_days']=today-last_trans['last_transaction_date']\n",
    "last_trans['last_purchase_in_days']=last_trans['last_purchase_in_days'].apply(lambda x: x.days)"
   ]
  },
  {
   "cell_type": "code",
   "execution_count": null,
   "metadata": {
    "ExecuteTime": {
     "end_time": "2020-11-30T10:59:08.856341Z",
     "start_time": "2020-11-30T10:59:08.841381Z"
    }
   },
   "outputs": [],
   "source": [
    "#get the product variants purchased on the last day and discount code used\n",
    "product_variants=pd.DataFrame(grouped_data.product_variant.tolist(),columns=['product_variants'])\n",
    "discount_codes=pd.DataFrame(grouped_data.discount_code.tolist(),columns=['discount_codes'])\n",
    "channels=pd.DataFrame(grouped_data.channel.tolist(),columns=['channels'])"
   ]
  },
  {
   "cell_type": "code",
   "execution_count": null,
   "metadata": {
    "ExecuteTime": {
     "end_time": "2020-11-30T10:59:09.108666Z",
     "start_time": "2020-11-30T10:59:08.857352Z"
    }
   },
   "outputs": [],
   "source": [
    "order_count=concatdf.groupby(['customer_name'])['order_name'].agg(pd.Series.nunique).to_frame()\n",
    "last_trans = pd.merge(last_trans, order_count,on='customer_name',how='left')\n",
    "last_trans.rename(columns={'order_name':'order_count'},inplace=True)"
   ]
  },
  {
   "cell_type": "code",
   "execution_count": null,
   "metadata": {
    "ExecuteTime": {
     "end_time": "2020-11-30T10:59:09.124624Z",
     "start_time": "2020-11-30T10:59:09.109664Z"
    }
   },
   "outputs": [],
   "source": [
    "last_trans['product_variants']=product_variants\n",
    "last_trans['discount_codes']=discount_codes\n",
    "last_trans['channels']=channels"
   ]
  },
  {
   "cell_type": "code",
   "execution_count": null,
   "metadata": {
    "ExecuteTime": {
     "end_time": "2020-11-30T10:59:09.156573Z",
     "start_time": "2020-11-30T10:59:09.127615Z"
    },
    "scrolled": true
   },
   "outputs": [],
   "source": [
    "last_trans"
   ]
  },
  {
   "cell_type": "code",
   "execution_count": null,
   "metadata": {
    "ExecuteTime": {
     "end_time": "2020-11-30T10:59:09.172531Z",
     "start_time": "2020-11-30T10:59:09.157575Z"
    }
   },
   "outputs": [],
   "source": [
    "last_trans.product_variants.value_counts()"
   ]
  },
  {
   "cell_type": "markdown",
   "metadata": {},
   "source": [
    "# Determine churners"
   ]
  },
  {
   "cell_type": "code",
   "execution_count": null,
   "metadata": {
    "ExecuteTime": {
     "end_time": "2020-11-30T10:59:09.188482Z",
     "start_time": "2020-11-30T10:59:09.173526Z"
    }
   },
   "outputs": [],
   "source": [
    "last_trans['Churn']=None"
   ]
  },
  {
   "cell_type": "code",
   "execution_count": null,
   "metadata": {
    "ExecuteTime": {
     "end_time": "2020-11-30T10:59:09.219401Z",
     "start_time": "2020-11-30T10:59:09.191505Z"
    }
   },
   "outputs": [],
   "source": [
    "#Churn\n",
    "last_trans['Churn']=np.where((last_trans['product_variants'].str.contains('50ml')) &\n",
    "                             (last_trans['last_purchase_in_days']>150), 'Churned',\n",
    "                              last_trans['Churn']\n",
    "                            )\n",
    "\n",
    "last_trans['Churn']=np.where((last_trans['product_variants'].str.contains('30ml')) &\n",
    "                             (last_trans['last_purchase_in_days']>90), 'Churned',\n",
    "                              last_trans['Churn']\n",
    "                            )\n",
    "\n",
    "#Survived\n",
    "last_trans['Churn']=np.where((last_trans['product_variants'].str.contains('50ml')) &\n",
    "                             (last_trans['last_purchase_in_days']<=150) &\n",
    "                             (last_trans['order_count'] >1), 'Survived',\n",
    "                              last_trans['Churn']\n",
    "                            )\n",
    "                             \n",
    "last_trans['Churn']=np.where((last_trans['product_variants'].str.contains('30ml')) &\n",
    "                             (last_trans['last_purchase_in_days']<=90) &\n",
    "                             (last_trans['order_count'] >1), 'Survived',\n",
    "                              last_trans['Churn']\n",
    "                            )\n",
    "\n",
    "# Too Early to Identify\n",
    "last_trans['Churn']=np.where((last_trans['product_variants'].str.contains('30ml')) &\n",
    "                             (last_trans['last_purchase_in_days']<=90) &\n",
    "                             (last_trans['order_count'] ==1), 'Too Early to Identify',\n",
    "                              last_trans['Churn']\n",
    "                            )\n",
    "\n",
    "last_trans['Churn']=np.where((last_trans['product_variants'].str.contains('50ml')) &\n",
    "                             (last_trans['last_purchase_in_days']<=150) &\n",
    "                             (last_trans['order_count'] ==1), 'Too Early to Identify',\n",
    "                              last_trans['Churn']\n",
    "                            )"
   ]
  },
  {
   "cell_type": "code",
   "execution_count": null,
   "metadata": {
    "ExecuteTime": {
     "end_time": "2020-11-30T10:59:09.235360Z",
     "start_time": "2020-11-30T10:59:09.221395Z"
    }
   },
   "outputs": [],
   "source": [
    "last_trans['Churn'].value_counts()"
   ]
  },
  {
   "cell_type": "code",
   "execution_count": null,
   "metadata": {
    "ExecuteTime": {
     "end_time": "2020-11-30T10:59:09.267269Z",
     "start_time": "2020-11-30T10:59:09.236368Z"
    }
   },
   "outputs": [],
   "source": [
    "last_trans"
   ]
  },
  {
   "cell_type": "code",
   "execution_count": null,
   "metadata": {
    "ExecuteTime": {
     "end_time": "2020-11-30T10:59:09.299184Z",
     "start_time": "2020-11-30T10:59:09.269237Z"
    },
    "scrolled": true
   },
   "outputs": [],
   "source": [
    "date_trans = pd.merge(last_trans, earliest_trans, on='customer_name',how='left')\n",
    "date_trans"
   ]
  },
  {
   "cell_type": "markdown",
   "metadata": {},
   "source": [
    "# Create DF to Include All Disc. Codes and Product Variants"
   ]
  },
  {
   "cell_type": "code",
   "execution_count": null,
   "metadata": {
    "ExecuteTime": {
     "end_time": "2020-11-30T10:59:09.315141Z",
     "start_time": "2020-11-30T10:59:09.300190Z"
    }
   },
   "outputs": [],
   "source": [
    "concatdf.columns"
   ]
  },
  {
   "cell_type": "code",
   "execution_count": null,
   "metadata": {
    "ExecuteTime": {
     "end_time": "2020-11-30T10:59:09.331104Z",
     "start_time": "2020-11-30T10:59:09.317109Z"
    }
   },
   "outputs": [],
   "source": [
    "product_variant_and_discount_code=concatdf[['customer_name','day','product_variant','discount_code','channel']]"
   ]
  },
  {
   "cell_type": "code",
   "execution_count": null,
   "metadata": {
    "ExecuteTime": {
     "end_time": "2020-11-30T10:59:09.347074Z",
     "start_time": "2020-11-30T10:59:09.332104Z"
    }
   },
   "outputs": [],
   "source": [
    "product_variant_and_discount_code"
   ]
  },
  {
   "cell_type": "code",
   "execution_count": null,
   "metadata": {
    "ExecuteTime": {
     "end_time": "2020-11-30T10:59:09.410447Z",
     "start_time": "2020-11-30T10:59:09.348026Z"
    }
   },
   "outputs": [],
   "source": [
    "product_variant_and_discount_code['cc'] = (product_variant_and_discount_code.groupby('customer_name').\\\n",
    "                                           cumcount() + 1).astype(str)\n",
    "product_variant_and_discount_code = product_variant_and_discount_code.pivot( \\\n",
    "    index=['customer_name'], columns='cc', values=['day','product_variant','discount_code','channel'])\n",
    "product_variant_and_discount_code.columns = ['_'.join(col) for col in product_variant_and_discount_code.columns]"
   ]
  },
  {
   "cell_type": "code",
   "execution_count": null,
   "metadata": {
    "ExecuteTime": {
     "end_time": "2020-11-30T10:59:09.442396Z",
     "start_time": "2020-11-30T10:59:09.413440Z"
    }
   },
   "outputs": [],
   "source": [
    "product_variant_and_discount_code"
   ]
  },
  {
   "cell_type": "code",
   "execution_count": null,
   "metadata": {
    "ExecuteTime": {
     "end_time": "2020-11-30T10:59:11.243814Z",
     "start_time": "2020-11-30T10:59:09.443358Z"
    }
   },
   "outputs": [],
   "source": [
    "product_variant_and_discount_code.to_excel('customer_data_one_line.xlsx')"
   ]
  },
  {
   "cell_type": "markdown",
   "metadata": {},
   "source": [
    "# Create customer_df"
   ]
  },
  {
   "cell_type": "code",
   "execution_count": null,
   "metadata": {
    "ExecuteTime": {
     "end_time": "2020-11-30T10:59:12.780663Z",
     "start_time": "2020-11-30T10:59:11.245539Z"
    }
   },
   "outputs": [],
   "source": [
    "shipping_city=concatdf.groupby(['customer_name'])['shipping_city'].agg(pd.Series.mode).to_frame()\n",
    "shipping_country=concatdf.groupby(['customer_name'])['shipping_country'].agg(pd.Series.mode).to_frame()\n",
    "shipping_postal_code=concatdf.groupby(['customer_name'])['shipping_postal_code'].agg(\n",
    "    pd.Series.mode).to_frame()\n",
    "channel_unique=concatdf.groupby(['customer_name'])['channel'].agg(\n",
    "    pd.Series.nunique).to_frame()\n",
    "average_order_value=concatdf.groupby(['customer_name'])['average_order_value'].agg(\n",
    "    pd.Series.mean).to_frame()\n",
    "product_variant_unique=concatdf.groupby(['customer_name'])['product_variant'].agg(\n",
    "    pd.Series.nunique).to_frame()\n",
    "quantity_count=concatdf.groupby(['customer_name'])['product_id'].agg(\n",
    "    pd.Series.count).to_frame()\n",
    "disc_code_unique=concatdf.groupby(['customer_name'])['discount_code'].agg(\n",
    "    pd.Series.nunique).to_frame()\n",
    "net_sales= concatdf.groupby('customer_name')['net_sales'].sum()"
   ]
  },
  {
   "cell_type": "code",
   "execution_count": null,
   "metadata": {
    "ExecuteTime": {
     "end_time": "2020-11-30T10:59:12.810812Z",
     "start_time": "2020-11-30T10:59:12.781859Z"
    }
   },
   "outputs": [],
   "source": [
    "customer_df = pd.concat([shipping_city,shipping_country,shipping_postal_code,\n",
    "                         product_variant_unique,channel_unique,\n",
    "                         order_count,quantity_count,disc_code_unique,\n",
    "                        average_order_value,net_sales],axis=1)\n",
    "customer_df"
   ]
  },
  {
   "cell_type": "code",
   "execution_count": null,
   "metadata": {
    "ExecuteTime": {
     "end_time": "2020-11-30T10:59:12.826775Z",
     "start_time": "2020-11-30T10:59:12.812782Z"
    }
   },
   "outputs": [],
   "source": [
    "customer_df.rename(columns={'order_name': 'order_quantity',\n",
    "                           'product_id':'purchase_quantity',\n",
    "                            'channel':'number_of_channels',\n",
    "                            'product_variant':'number_of_product_variants',\n",
    "                           'discount_code':'number_of_discount_codes'},inplace=True)"
   ]
  },
  {
   "cell_type": "markdown",
   "metadata": {},
   "source": [
    "# Merge date_trans with customer_df"
   ]
  },
  {
   "cell_type": "code",
   "execution_count": null,
   "metadata": {
    "ExecuteTime": {
     "end_time": "2020-11-30T10:59:12.841740Z",
     "start_time": "2020-11-30T10:59:12.827739Z"
    }
   },
   "outputs": [],
   "source": [
    "customer_df = pd.merge(customer_df, date_trans, on='customer_name',how='left')"
   ]
  },
  {
   "cell_type": "code",
   "execution_count": null,
   "metadata": {
    "ExecuteTime": {
     "end_time": "2020-11-30T10:59:12.873650Z",
     "start_time": "2020-11-30T10:59:12.842699Z"
    },
    "scrolled": true
   },
   "outputs": [],
   "source": [
    "customer_df"
   ]
  },
  {
   "cell_type": "code",
   "execution_count": null,
   "metadata": {
    "ExecuteTime": {
     "end_time": "2020-11-30T10:59:12.889575Z",
     "start_time": "2020-11-30T10:59:12.875611Z"
    }
   },
   "outputs": [],
   "source": [
    "customer_df.drop(columns=['discount_codes','channels','product_variants','order_quantity'],inplace=True)\n",
    "#these columns are dropped because they only contain information from the last day of transactions"
   ]
  },
  {
   "cell_type": "markdown",
   "metadata": {},
   "source": [
    "# Merge with order_name, disc_code, channel, product_variant"
   ]
  },
  {
   "cell_type": "code",
   "execution_count": null,
   "metadata": {
    "ExecuteTime": {
     "end_time": "2020-11-30T10:59:13.283552Z",
     "start_time": "2020-11-30T10:59:12.890571Z"
    }
   },
   "outputs": [],
   "source": [
    "#concatenate the following variables to later store them in customer_df\n",
    "filter_column = concatdf.groupby(by='customer_name', sort=False).agg( ','.join)\n",
    "filter_column = filter_column[['order_name','discount_code','channel','product_variant']]"
   ]
  },
  {
   "cell_type": "code",
   "execution_count": null,
   "metadata": {
    "ExecuteTime": {
     "end_time": "2020-11-30T10:59:13.315466Z",
     "start_time": "2020-11-30T10:59:13.285515Z"
    }
   },
   "outputs": [],
   "source": [
    "customer_df = pd.merge(customer_df, filter_column, on='customer_name',how='left')\n",
    "customer_df"
   ]
  },
  {
   "cell_type": "code",
   "execution_count": null,
   "metadata": {
    "ExecuteTime": {
     "end_time": "2020-11-30T10:59:13.363339Z",
     "start_time": "2020-11-30T10:59:13.316432Z"
    }
   },
   "outputs": [],
   "source": [
    "for column in customer_df.columns:\n",
    "     print(\"\\n\" + column)\n",
    "     print(customer_df[column].value_counts())"
   ]
  },
  {
   "cell_type": "code",
   "execution_count": null,
   "metadata": {
    "ExecuteTime": {
     "end_time": "2020-11-30T10:59:13.379300Z",
     "start_time": "2020-11-30T10:59:13.364304Z"
    }
   },
   "outputs": [],
   "source": [
    "customer_df.Churn.value_counts()"
   ]
  },
  {
   "cell_type": "code",
   "execution_count": null,
   "metadata": {
    "ExecuteTime": {
     "end_time": "2020-11-30T10:59:13.395253Z",
     "start_time": "2020-11-30T10:59:13.380261Z"
    }
   },
   "outputs": [],
   "source": [
    "print('Churn Rate: ',1983/(1983+513+245))"
   ]
  },
  {
   "cell_type": "code",
   "execution_count": null,
   "metadata": {
    "ExecuteTime": {
     "end_time": "2020-11-30T10:59:13.427172Z",
     "start_time": "2020-11-30T10:59:13.396218Z"
    }
   },
   "outputs": [],
   "source": [
    "customer_df.loc[customer_df['customer_name']=='ANDREA LOEFFL']"
   ]
  },
  {
   "cell_type": "code",
   "execution_count": null,
   "metadata": {
    "ExecuteTime": {
     "end_time": "2020-11-30T10:59:13.443129Z",
     "start_time": "2020-11-30T10:59:13.428133Z"
    }
   },
   "outputs": [],
   "source": [
    "customer_df.product_variant"
   ]
  },
  {
   "cell_type": "code",
   "execution_count": null,
   "metadata": {
    "ExecuteTime": {
     "end_time": "2020-11-30T10:59:13.459087Z",
     "start_time": "2020-11-30T10:59:13.444090Z"
    }
   },
   "outputs": [],
   "source": [
    "customer_df.columns"
   ]
  },
  {
   "cell_type": "code",
   "execution_count": null,
   "metadata": {
    "ExecuteTime": {
     "end_time": "2020-11-30T10:59:13.475044Z",
     "start_time": "2020-11-30T10:59:13.460048Z"
    }
   },
   "outputs": [],
   "source": [
    "customer_df.iloc[5]"
   ]
  },
  {
   "cell_type": "markdown",
   "metadata": {},
   "source": [
    "As order name, discount code, channel and product variant may contain duplicate values, we join them."
   ]
  },
  {
   "cell_type": "markdown",
   "metadata": {},
   "source": [
    "## Join duplicate values in the string"
   ]
  },
  {
   "cell_type": "code",
   "execution_count": null,
   "metadata": {
    "ExecuteTime": {
     "end_time": "2020-11-30T10:59:13.491000Z",
     "start_time": "2020-11-30T10:59:13.476005Z"
    }
   },
   "outputs": [],
   "source": [
    "customer_df['channel_2']=customer_df['channel'].apply(lambda x: ', '.join(dict.fromkeys(y for y in x.split(',')).keys()))"
   ]
  },
  {
   "cell_type": "code",
   "execution_count": null,
   "metadata": {
    "ExecuteTime": {
     "end_time": "2020-11-30T10:59:13.506955Z",
     "start_time": "2020-11-30T10:59:13.491962Z"
    }
   },
   "outputs": [],
   "source": [
    "customer_df[['channel','channel_2']][:20]"
   ]
  },
  {
   "cell_type": "markdown",
   "metadata": {},
   "source": [
    "The result looks good, so we can apply the same concept to the other variables mentioned above."
   ]
  },
  {
   "cell_type": "code",
   "execution_count": null,
   "metadata": {
    "ExecuteTime": {
     "end_time": "2020-11-30T10:59:13.538870Z",
     "start_time": "2020-11-30T10:59:13.507920Z"
    },
    "scrolled": true
   },
   "outputs": [],
   "source": [
    "customer_df['order_name']=customer_df['order_name'].apply(lambda x: ', '.join(dict.fromkeys(y for y in x.split(',')).keys()))\n",
    "customer_df['discount_code']=customer_df['discount_code'].apply(lambda x: ', '.join(dict.fromkeys(y for y in x.split(',')).keys()))\n",
    "customer_df['product_variant']=customer_df['product_variant'].apply(lambda x: ', '.join(dict.fromkeys(y for y in x.split(',')).keys()))\n",
    "customer_df['channel']=customer_df['channel_2']\n",
    "customer_df.drop(columns=['channel_2'],inplace=True)\n",
    "customer_df[['customer_name','order_name','discount_code','product_variant','channel']]"
   ]
  },
  {
   "cell_type": "markdown",
   "metadata": {},
   "source": [
    "# Define customer group according to by the numbers segmentation"
   ]
  },
  {
   "cell_type": "code",
   "execution_count": null,
   "metadata": {
    "ExecuteTime": {
     "end_time": "2020-11-30T10:59:13.554827Z",
     "start_time": "2020-11-30T10:59:13.539834Z"
    }
   },
   "outputs": [],
   "source": [
    "customer_df[['customer_name','last_purchase_in_days','order_count']]"
   ]
  },
  {
   "cell_type": "markdown",
   "metadata": {
    "ExecuteTime": {
     "end_time": "2020-11-24T14:36:56.515336Z",
     "start_time": "2020-11-24T14:36:45.807Z"
    }
   },
   "source": [
    "best: >=4 orders, <=30 days ago\n",
    "recent: 1 order, <=30 days ago\n",
    "loyal: >=4 orders, 1-6 months ago\n",
    "\n",
    "promising: 2-3 orders, 30 to 180 days \n",
    "\n",
    "defecting: 1 order, 1-6 months ago 30 to 180 days\n",
    "at risk : 180 to 360 ago \n",
    "dormant: >360 days ago\n"
   ]
  },
  {
   "cell_type": "markdown",
   "metadata": {},
   "source": [
    "# Combine with By the Numbers segments"
   ]
  },
  {
   "cell_type": "code",
   "execution_count": null,
   "metadata": {
    "ExecuteTime": {
     "end_time": "2020-11-30T10:59:13.602698Z",
     "start_time": "2020-11-30T10:59:13.556792Z"
    }
   },
   "outputs": [],
   "source": [
    "at_risk = pd.read_csv(r'C:\\Users\\luc57.DESKTOP-NB5DC80\\AE\\ipynb\\By_the_numbers\\at_risk_customers.csv')\n",
    "best = pd.read_csv(r'C:\\Users\\luc57.DESKTOP-NB5DC80\\AE\\ipynb\\By_the_numbers\\best_customers.csv')\n",
    "defecting = pd.read_csv(r'C:\\Users\\luc57.DESKTOP-NB5DC80\\AE\\ipynb\\By_the_numbers\\defecting_customers.csv')\n",
    "dormant = pd.read_csv(r'C:\\Users\\luc57.DESKTOP-NB5DC80\\AE\\ipynb\\By_the_numbers\\dormant_customers.csv')\n",
    "loyal = pd.read_csv(r'C:\\Users\\luc57.DESKTOP-NB5DC80\\AE\\ipynb\\By_the_numbers\\loyal_customers.csv')\n",
    "promising = pd.read_csv(r'C:\\Users\\luc57.DESKTOP-NB5DC80\\AE\\ipynb\\By_the_numbers\\promising_customers.csv')\n",
    "recent = pd.read_csv(r'C:\\Users\\luc57.DESKTOP-NB5DC80\\AE\\ipynb\\By_the_numbers\\recent_customers.csv')"
   ]
  },
  {
   "cell_type": "code",
   "execution_count": null,
   "metadata": {
    "ExecuteTime": {
     "end_time": "2020-11-30T10:59:13.634615Z",
     "start_time": "2020-11-30T10:59:13.603664Z"
    }
   },
   "outputs": [],
   "source": [
    "at_risk.head()"
   ]
  },
  {
   "cell_type": "code",
   "execution_count": null,
   "metadata": {
    "ExecuteTime": {
     "end_time": "2020-11-30T10:59:13.664532Z",
     "start_time": "2020-11-30T10:59:13.635579Z"
    }
   },
   "outputs": [],
   "source": [
    "#create the variable customer_name\n",
    "at_risk['customer_name']=at_risk['first_name']+str(' ')+at_risk['last_name']\n",
    "best['customer_name']=best['first_name']+str(' ')+best['last_name']\n",
    "defecting['customer_name']=defecting['first_name']+str(' ')+defecting['last_name']\n",
    "dormant['customer_name']=dormant['first_name']+str(' ')+dormant['last_name']\n",
    "loyal['customer_name']=loyal['first_name']+str(' ')+loyal['last_name']\n",
    "promising['customer_name']=promising['first_name']+str(' ')+promising['last_name']\n",
    "recent['customer_name']=recent['first_name']+str(' ')+recent['last_name']"
   ]
  },
  {
   "cell_type": "code",
   "execution_count": null,
   "metadata": {
    "ExecuteTime": {
     "end_time": "2020-11-30T10:59:13.680502Z",
     "start_time": "2020-11-30T10:59:13.666496Z"
    }
   },
   "outputs": [],
   "source": [
    "#convert the string to upper cases\n",
    "at_risk['customer_name']=at_risk['customer_name'].str.upper()\n",
    "best['customer_name']=best['customer_name'].str.upper()\n",
    "defecting['customer_name']=defecting['customer_name'].str.upper()\n",
    "dormant['customer_name']=dormant['customer_name'].str.upper()\n",
    "loyal['customer_name']=loyal['customer_name'].str.upper()\n",
    "promising['customer_name']=promising['customer_name'].str.upper()\n",
    "recent['customer_name']=recent['customer_name'].str.upper()"
   ]
  },
  {
   "cell_type": "markdown",
   "metadata": {
    "ExecuteTime": {
     "end_time": "2020-11-24T10:36:06.060152Z",
     "start_time": "2020-11-24T10:36:06.052155Z"
    }
   },
   "source": [
    "We only need the customer_group and verified_email, then merge on customer_name."
   ]
  },
  {
   "cell_type": "code",
   "execution_count": null,
   "metadata": {
    "ExecuteTime": {
     "end_time": "2020-11-30T10:59:13.696454Z",
     "start_time": "2020-11-30T10:59:13.681456Z"
    }
   },
   "outputs": [],
   "source": [
    "at_risk = at_risk[['customer_name','customer_group','verified_email']]\n",
    "best = best[['customer_name','customer_group','verified_email']]\n",
    "defecting = defecting[['customer_name','customer_group','verified_email']]\n",
    "dormant = dormant[['customer_name','customer_group','verified_email']]\n",
    "loyal = loyal[['customer_name','customer_group','verified_email']]\n",
    "promising = promising[['customer_name','customer_group','verified_email']]\n",
    "recent = recent[['customer_name','customer_group','verified_email']]"
   ]
  },
  {
   "cell_type": "code",
   "execution_count": null,
   "metadata": {
    "ExecuteTime": {
     "end_time": "2020-11-30T10:59:13.712412Z",
     "start_time": "2020-11-30T10:59:13.697413Z"
    }
   },
   "outputs": [],
   "source": [
    "at_risk['customer_name']=at_risk['customer_name'].astype(str)\n",
    "best['customer_name'] = best['customer_name'].astype(str)\n",
    "defecting['customer_name'] = defecting['customer_name'].astype(str)\n",
    "dormant['customer_name'] = dormant['customer_name'].astype(str)\n",
    "loyal['customer_name'] = loyal['customer_name'].astype(str)\n",
    "promising['customer_name'] = promising['customer_name'].astype(str)\n",
    "recent['customer_name'] = recent['customer_name'].astype(str)\n",
    "recent.dtypes"
   ]
  },
  {
   "cell_type": "markdown",
   "metadata": {},
   "source": [
    "## Concatenate the different customer groups"
   ]
  },
  {
   "cell_type": "code",
   "execution_count": null,
   "metadata": {
    "ExecuteTime": {
     "end_time": "2020-11-30T10:59:13.728365Z",
     "start_time": "2020-11-30T10:59:13.713376Z"
    }
   },
   "outputs": [],
   "source": [
    "customer_groups = pd.concat([at_risk, best, defecting, dormant, loyal, promising, recent])\n",
    "print(len(customer_groups))"
   ]
  },
  {
   "cell_type": "code",
   "execution_count": null,
   "metadata": {
    "ExecuteTime": {
     "end_time": "2020-11-30T10:59:13.744320Z",
     "start_time": "2020-11-30T10:59:13.729328Z"
    }
   },
   "outputs": [],
   "source": [
    "customer_groups"
   ]
  },
  {
   "cell_type": "code",
   "execution_count": null,
   "metadata": {
    "ExecuteTime": {
     "end_time": "2020-11-30T10:59:13.776246Z",
     "start_time": "2020-11-30T10:59:13.745285Z"
    }
   },
   "outputs": [],
   "source": [
    "customer_groups = customer_groups.groupby(by='customer_name', sort=False).agg( ','.join)\n",
    "#customer_groups.columns = customer_groups.columns.droplevel(0)\n",
    "customer_groups.reset_index()"
   ]
  },
  {
   "cell_type": "markdown",
   "metadata": {},
   "source": [
    "## Merge customer_df and customer_groups"
   ]
  },
  {
   "cell_type": "code",
   "execution_count": null,
   "metadata": {
    "ExecuteTime": {
     "end_time": "2020-11-30T10:59:13.792196Z",
     "start_time": "2020-11-30T10:59:13.778199Z"
    }
   },
   "outputs": [],
   "source": [
    "customer_df = pd.merge(customer_df, customer_groups, on='customer_name', how='left')\n",
    "print(len(customer_df.columns))\n",
    "print(len(customer_df))"
   ]
  },
  {
   "cell_type": "code",
   "execution_count": null,
   "metadata": {
    "ExecuteTime": {
     "end_time": "2020-11-30T10:59:13.808153Z",
     "start_time": "2020-11-30T10:59:13.793157Z"
    }
   },
   "outputs": [],
   "source": [
    "customer_df.customer_group.value_counts()"
   ]
  },
  {
   "cell_type": "code",
   "execution_count": null,
   "metadata": {
    "ExecuteTime": {
     "end_time": "2020-11-30T10:59:13.824087Z",
     "start_time": "2020-11-30T10:59:13.809114Z"
    }
   },
   "outputs": [],
   "source": [
    "customer_df['customer_group']=np.where(customer_df['customer_group']=='at_risk,at_risk',\n",
    "                                      'at_risk',customer_df['customer_group'])\n",
    "\n",
    "customer_df['customer_group']=np.where(customer_df['customer_group']=='defecting,defecting',\n",
    "                                      'defecting',customer_df['customer_group'])\n",
    "\n",
    "customer_df['customer_group']=np.where(customer_df['customer_group']=='dormant,dormant',\n",
    "                                      'dormant',customer_df['customer_group'])\n",
    "\n",
    "customer_df['customer_group']=np.where(customer_df['customer_group']=='promising,promising',\n",
    "                                      'promising',customer_df['customer_group'])"
   ]
  },
  {
   "cell_type": "code",
   "execution_count": null,
   "metadata": {
    "ExecuteTime": {
     "end_time": "2020-11-30T10:59:13.840065Z",
     "start_time": "2020-11-30T10:59:13.826069Z"
    }
   },
   "outputs": [],
   "source": [
    "customer_df.customer_group.value_counts()"
   ]
  },
  {
   "cell_type": "markdown",
   "metadata": {},
   "source": [
    "## Fill in the na values"
   ]
  },
  {
   "cell_type": "code",
   "execution_count": null,
   "metadata": {
    "ExecuteTime": {
     "end_time": "2020-11-30T10:59:14.264928Z",
     "start_time": "2020-11-30T10:59:14.250936Z"
    }
   },
   "outputs": [],
   "source": [
    "customer_df.isna().sum()"
   ]
  },
  {
   "cell_type": "markdown",
   "metadata": {},
   "source": [
    "### Fillna for customer_group"
   ]
  },
  {
   "cell_type": "code",
   "execution_count": null,
   "metadata": {
    "ExecuteTime": {
     "end_time": "2020-11-30T10:59:14.280886Z",
     "start_time": "2020-11-30T10:59:14.265893Z"
    }
   },
   "outputs": [],
   "source": [
    "cust_group_na=customer_df.loc[customer_df['customer_group'].isna()]\n",
    "print(len(cust_group_na))"
   ]
  },
  {
   "cell_type": "code",
   "execution_count": null,
   "metadata": {
    "ExecuteTime": {
     "end_time": "2020-11-30T10:59:14.296842Z",
     "start_time": "2020-11-30T10:59:14.281851Z"
    }
   },
   "outputs": [],
   "source": [
    "cust_group_na[['customer_name','last_purchase_in_days','order_count']]"
   ]
  },
  {
   "cell_type": "code",
   "execution_count": null,
   "metadata": {
    "ExecuteTime": {
     "end_time": "2020-11-30T10:59:14.328758Z",
     "start_time": "2020-11-30T10:59:14.297807Z"
    }
   },
   "outputs": [],
   "source": [
    "cust_group_na['customer_group']=np.where(cust_group_na['last_purchase_in_days']>365, 'dormant',\n",
    "                                        cust_group_na['customer_group'])\n",
    "\n",
    "cust_group_na['customer_group']=np.where((cust_group_na['last_purchase_in_days']<=30) &\n",
    "                                         (cust_group_na['order_count']>=4), 'best',\n",
    "                                        cust_group_na['customer_group'])\n",
    "\n",
    "cust_group_na['customer_group']=np.where((cust_group_na['last_purchase_in_days']<=30) &\n",
    "                                         (cust_group_na['order_count']==1), 'recent',\n",
    "                                        cust_group_na['customer_group'])\n",
    "\n",
    "cust_group_na['customer_group']=np.where((cust_group_na['last_purchase_in_days']<=180) &\n",
    "                                         (cust_group_na['order_count']>=4), 'loyal',\n",
    "                                        cust_group_na['customer_group'])\n",
    "\n",
    "cust_group_na['customer_group']=np.where((cust_group_na['last_purchase_in_days']<=180) &\n",
    "                                         (cust_group_na['order_count']==1), 'defecting',\n",
    "                                        cust_group_na['customer_group'])\n",
    "\n",
    "cust_group_na['customer_group']=np.where((cust_group_na['last_purchase_in_days']<=180) &\n",
    "                                         (cust_group_na['order_count']<=3), 'promising',\n",
    "                                        cust_group_na['customer_group'])\n",
    "\n",
    "cust_group_na['customer_group']=np.where(cust_group_na['last_purchase_in_days']>=180, 'at_risk',\n",
    "                                        cust_group_na['customer_group'])\n",
    "\n",
    "\n",
    "\n",
    "cust_group_na['customer_group'].value_counts()"
   ]
  },
  {
   "cell_type": "code",
   "execution_count": null,
   "metadata": {
    "ExecuteTime": {
     "end_time": "2020-11-30T10:59:14.344715Z",
     "start_time": "2020-11-30T10:59:14.329722Z"
    }
   },
   "outputs": [],
   "source": [
    "customer_df= customer_df.loc[~customer_df['customer_group'].isnull()]\n",
    "print(len(customer_df))"
   ]
  },
  {
   "cell_type": "markdown",
   "metadata": {},
   "source": [
    "Concatenate the dataframe which initially have null customer groups with the initial sliced dataframe."
   ]
  },
  {
   "cell_type": "code",
   "execution_count": null,
   "metadata": {
    "ExecuteTime": {
     "end_time": "2020-11-30T10:59:14.360671Z",
     "start_time": "2020-11-30T10:59:14.346677Z"
    }
   },
   "outputs": [],
   "source": [
    "customer_df = pd.concat([customer_df,cust_group_na],axis=0)"
   ]
  },
  {
   "cell_type": "code",
   "execution_count": null,
   "metadata": {
    "ExecuteTime": {
     "end_time": "2020-11-30T10:59:14.376636Z",
     "start_time": "2020-11-30T10:59:14.362634Z"
    }
   },
   "outputs": [],
   "source": [
    "print('Number of customers: ',len(customer_df))\n",
    "print('')\n",
    "print(customer_df.customer_group.value_counts())\n",
    "print('')\n",
    "print(customer_df.isna().sum())"
   ]
  },
  {
   "cell_type": "markdown",
   "metadata": {},
   "source": [
    "### Fillna for Churn"
   ]
  },
  {
   "cell_type": "code",
   "execution_count": null,
   "metadata": {
    "ExecuteTime": {
     "end_time": "2020-11-30T10:59:14.392592Z",
     "start_time": "2020-11-30T10:59:14.378623Z"
    }
   },
   "outputs": [],
   "source": [
    "customer_df.loc[customer_df['Churn'].isna()][['customer_name','last_purchase_in_days','order_count',\n",
    "                                             'product_variant']]"
   ]
  },
  {
   "cell_type": "code",
   "execution_count": null,
   "metadata": {
    "ExecuteTime": {
     "end_time": "2020-11-30T10:59:14.408543Z",
     "start_time": "2020-11-30T10:59:14.394549Z"
    }
   },
   "outputs": [],
   "source": [
    "na_churn = customer_df.loc[customer_df['Churn'].isna()]\n",
    "print(len(na_churn))"
   ]
  },
  {
   "cell_type": "code",
   "execution_count": null,
   "metadata": {
    "ExecuteTime": {
     "end_time": "2020-11-30T10:59:14.440459Z",
     "start_time": "2020-11-30T10:59:14.410522Z"
    }
   },
   "outputs": [],
   "source": [
    "#Churn\n",
    "na_churn['Churn']=np.where((na_churn['product_variant'].str.contains('50ml')) &\n",
    "                             (na_churn['last_purchase_in_days']>150), 'Churned',\n",
    "                              na_churn['Churn']\n",
    "                            )\n",
    "\n",
    "na_churn['Churn']=np.where((na_churn['product_variant'].str.contains('30ml')) &\n",
    "                             (na_churn['last_purchase_in_days']>90), 'Churned',\n",
    "                              na_churn['Churn']\n",
    "                            )\n",
    "\n",
    "#Survived\n",
    "na_churn['Churn']=np.where((na_churn['product_variant'].str.contains('50ml')) &\n",
    "                             (na_churn['last_purchase_in_days']<=150) &\n",
    "                             (na_churn['order_count'] >1), 'Survived',\n",
    "                              na_churn['Churn']\n",
    "                            )\n",
    "                             \n",
    "na_churn['Churn']=np.where((na_churn['product_variant'].str.contains('30ml')) &\n",
    "                             (na_churn['last_purchase_in_days']<=90) &\n",
    "                             (na_churn['order_count'] >1), 'Survived',\n",
    "                              na_churn['Churn']\n",
    "                            )\n",
    "\n",
    "# Too Early to Identify\n",
    "na_churn['Churn']=np.where((na_churn['product_variant'].str.contains('30ml')) &\n",
    "                             (na_churn['last_purchase_in_days']<=90) &\n",
    "                             (na_churn['order_count'] ==1), 'Too Early to Identify',\n",
    "                              na_churn['Churn']\n",
    "                            )\n",
    "\n",
    "na_churn['Churn']=np.where((na_churn['product_variant'].str.contains('50ml')) &\n",
    "                             (na_churn['last_purchase_in_days']<=150) &\n",
    "                             (na_churn['order_count'] ==1), 'Too Early to Identify',\n",
    "                              na_churn['Churn']\n",
    "                            )\n",
    "\n",
    "na_churn.Churn.value_counts()"
   ]
  },
  {
   "cell_type": "code",
   "execution_count": null,
   "metadata": {
    "ExecuteTime": {
     "end_time": "2020-11-30T10:59:14.456384Z",
     "start_time": "2020-11-30T10:59:14.441423Z"
    }
   },
   "outputs": [],
   "source": [
    "na_churn.loc[na_churn['Churn'].isna()][['customer_name','last_purchase_in_days',\n",
    "                                        'product_variant','order_count']]"
   ]
  },
  {
   "cell_type": "code",
   "execution_count": null,
   "metadata": {
    "ExecuteTime": {
     "end_time": "2020-11-30T10:59:14.472359Z",
     "start_time": "2020-11-30T10:59:14.458385Z"
    }
   },
   "outputs": [],
   "source": [
    "na_churn['Churn']= np.where((na_churn['product_variant']!='Sample') & \n",
    "                            (na_churn['last_purchase_in_days']>120),'Churn',\n",
    "                            na_churn['Churn'])\n",
    "                            \n",
    "na_churn['Churn']= np.where((na_churn['product_variant']!='Sample') & \n",
    "                            (na_churn['last_purchase_in_days']<=120) &\n",
    "                            (na_churn['order_count']==1),\n",
    "                            'Too Early to Identify',\n",
    "                            na_churn['Churn'])\n",
    "\n",
    "na_churn['Churn']= np.where((na_churn['product_variant']!='Sample') & \n",
    "                            (na_churn['last_purchase_in_days']<=120) &\n",
    "                            (na_churn['order_count']>1),\n",
    "                            'Survived',\n",
    "                            na_churn['Churn'])\n",
    "\n",
    "na_churn['Churn']= np.where(na_churn['product_variant']=='Sample',\n",
    "                            'Sample-Taker',\n",
    "                            na_churn['Churn'])\n",
    "\n",
    "na_churn['Churn'].value_counts()"
   ]
  },
  {
   "cell_type": "markdown",
   "metadata": {},
   "source": [
    "Concatenate the revised churn and the original customer_df."
   ]
  },
  {
   "cell_type": "code",
   "execution_count": null,
   "metadata": {
    "ExecuteTime": {
     "end_time": "2020-11-30T10:59:14.488337Z",
     "start_time": "2020-11-30T10:59:14.474336Z"
    }
   },
   "outputs": [],
   "source": [
    "customer_df = customer_df.loc[~customer_df['Churn'].isnull()]\n",
    "print(len(customer_df))"
   ]
  },
  {
   "cell_type": "code",
   "execution_count": null,
   "metadata": {
    "ExecuteTime": {
     "end_time": "2020-11-30T10:59:14.504297Z",
     "start_time": "2020-11-30T10:59:14.490305Z"
    }
   },
   "outputs": [],
   "source": [
    "customer_df = pd.concat([customer_df, na_churn],axis=0)\n",
    "print(len(customer_df))\n",
    "print('')\n",
    "print(customer_df.Churn.value_counts())"
   ]
  },
  {
   "cell_type": "markdown",
   "metadata": {},
   "source": [
    "# No more na values"
   ]
  },
  {
   "cell_type": "code",
   "execution_count": null,
   "metadata": {
    "ExecuteTime": {
     "end_time": "2020-11-30T10:59:14.519251Z",
     "start_time": "2020-11-30T10:59:14.506250Z"
    }
   },
   "outputs": [],
   "source": [
    "customer_df.isnull().sum()"
   ]
  },
  {
   "cell_type": "markdown",
   "metadata": {},
   "source": [
    "## Fix the city variable again"
   ]
  },
  {
   "cell_type": "code",
   "execution_count": null,
   "metadata": {
    "ExecuteTime": {
     "end_time": "2020-11-30T10:59:14.535205Z",
     "start_time": "2020-11-30T10:59:14.520213Z"
    }
   },
   "outputs": [],
   "source": [
    "customer_df['shipping_city']=customer_df['shipping_city'].astype(str)"
   ]
  },
  {
   "cell_type": "code",
   "execution_count": null,
   "metadata": {
    "ExecuteTime": {
     "end_time": "2020-11-30T10:59:14.550165Z",
     "start_time": "2020-11-30T10:59:14.537170Z"
    }
   },
   "outputs": [],
   "source": [
    "customer_df.dtypes"
   ]
  },
  {
   "cell_type": "code",
   "execution_count": null,
   "metadata": {
    "ExecuteTime": {
     "end_time": "2020-11-30T10:59:14.566125Z",
     "start_time": "2020-11-30T10:59:14.552128Z"
    }
   },
   "outputs": [],
   "source": [
    "customer_df.shipping_city.value_counts()[:50]"
   ]
  },
  {
   "cell_type": "code",
   "execution_count": null,
   "metadata": {
    "ExecuteTime": {
     "end_time": "2020-11-30T10:59:14.581090Z",
     "start_time": "2020-11-30T10:59:14.567087Z"
    },
    "scrolled": true
   },
   "outputs": [],
   "source": [
    "#get a list of unique cities\n",
    "shipping_city = customer_df.shipping_city.tolist()\n",
    "\n",
    "def unique_city(x):\n",
    "  return list(dict.fromkeys(x))\n",
    "\n",
    "unique_city_list =unique_city(shipping_city)\n",
    "\n",
    "print(unique_city_list)"
   ]
  },
  {
   "cell_type": "code",
   "execution_count": null,
   "metadata": {
    "ExecuteTime": {
     "end_time": "2020-11-30T10:59:14.597040Z",
     "start_time": "2020-11-30T10:59:14.582048Z"
    }
   },
   "outputs": [],
   "source": [
    "top_20_shipping_cities = customer_df.shipping_city.value_counts()[:20].index.tolist()\n",
    "top_20_shipping_cities"
   ]
  },
  {
   "cell_type": "code",
   "execution_count": null,
   "metadata": {
    "ExecuteTime": {
     "end_time": "2020-11-30T10:59:14.613000Z",
     "start_time": "2020-11-30T10:59:14.598005Z"
    }
   },
   "outputs": [],
   "source": [
    "customer_df['shipping_city_rev']=customer_df['shipping_city']\n",
    "customer_df.loc[~customer_df['shipping_city_rev'].isin(top_20_shipping_cities), 'shipping_city_rev']='Others'\n",
    "#if the shipping city is not in the top 50 shipping cities, the value is others."
   ]
  },
  {
   "cell_type": "code",
   "execution_count": null,
   "metadata": {
    "ExecuteTime": {
     "end_time": "2020-11-30T10:59:14.628960Z",
     "start_time": "2020-11-30T10:59:14.613962Z"
    }
   },
   "outputs": [],
   "source": [
    "customer_df['shipping_city']=customer_df['shipping_city_rev']\n",
    "customer_df.drop(columns=['shipping_city_rev'],inplace=True)"
   ]
  },
  {
   "cell_type": "code",
   "execution_count": null,
   "metadata": {
    "ExecuteTime": {
     "end_time": "2020-11-30T10:59:14.644919Z",
     "start_time": "2020-11-30T10:59:14.629919Z"
    }
   },
   "outputs": [],
   "source": [
    "customer_df.shipping_city.value_counts()"
   ]
  },
  {
   "cell_type": "markdown",
   "metadata": {},
   "source": [
    "# Fix the customers which listed two countries."
   ]
  },
  {
   "cell_type": "code",
   "execution_count": null,
   "metadata": {
    "ExecuteTime": {
     "end_time": "2020-11-30T10:59:14.660876Z",
     "start_time": "2020-11-30T10:59:14.645877Z"
    }
   },
   "outputs": [],
   "source": [
    "customer_df.shipping_country = customer_df.shipping_country.astype(str)"
   ]
  },
  {
   "cell_type": "code",
   "execution_count": null,
   "metadata": {
    "ExecuteTime": {
     "end_time": "2020-11-30T10:59:14.676794Z",
     "start_time": "2020-11-30T10:59:14.662831Z"
    }
   },
   "outputs": [],
   "source": [
    "customer_df.loc[customer_df['shipping_country'].str.contains('Netherlands')]\\\n",
    "[['customer_name','last_transaction_date','shipping_country','order_name']]"
   ]
  },
  {
   "cell_type": "code",
   "execution_count": null,
   "metadata": {
    "ExecuteTime": {
     "end_time": "2020-11-30T10:59:14.740660Z",
     "start_time": "2020-11-30T10:59:14.725670Z"
    }
   },
   "outputs": [],
   "source": [
    "customer_df.shipping_country.value_counts()"
   ]
  },
  {
   "cell_type": "markdown",
   "metadata": {},
   "source": [
    "## Value Distribution"
   ]
  },
  {
   "cell_type": "code",
   "execution_count": null,
   "metadata": {
    "ExecuteTime": {
     "end_time": "2020-11-30T10:59:14.788527Z",
     "start_time": "2020-11-30T10:59:14.741621Z"
    }
   },
   "outputs": [],
   "source": [
    "for column in customer_df.columns:\n",
    "     print(\"\\n\" + column)\n",
    "     print(customer_df[column].value_counts())"
   ]
  },
  {
   "cell_type": "markdown",
   "metadata": {},
   "source": [
    "# Reorder the columns"
   ]
  },
  {
   "cell_type": "code",
   "execution_count": null,
   "metadata": {
    "ExecuteTime": {
     "end_time": "2020-11-30T10:59:14.804489Z",
     "start_time": "2020-11-30T10:59:14.789493Z"
    }
   },
   "outputs": [],
   "source": [
    "customer_df.columns"
   ]
  },
  {
   "cell_type": "code",
   "execution_count": null,
   "metadata": {
    "ExecuteTime": {
     "end_time": "2020-11-30T10:59:14.819453Z",
     "start_time": "2020-11-30T10:59:14.805450Z"
    }
   },
   "outputs": [],
   "source": [
    "customer_df=customer_df.reindex(columns=['customer_name','Churn','customer_group',\n",
    "                                         'shipping_country', 'shipping_city',\n",
    "                               'shipping_postal_code','order_name',\n",
    "                                'channel','discount_code','product_variant',\n",
    "                                'average_order_value','net_sales',\n",
    "                                'order_count','purchase_quantity',\n",
    "                                'number_of_channels',\n",
    "                                'number_of_discount_codes','number_of_product_variants',\n",
    "                               'earliest_transaction_date','last_transaction_date',\n",
    "                                'last_purchase_in_days'])"
   ]
  },
  {
   "cell_type": "code",
   "execution_count": null,
   "metadata": {
    "ExecuteTime": {
     "end_time": "2020-11-30T10:59:15.872625Z",
     "start_time": "2020-11-30T10:59:14.821408Z"
    }
   },
   "outputs": [],
   "source": [
    "customer_df.to_excel('customer_df.xlsx')"
   ]
  },
  {
   "cell_type": "code",
   "execution_count": null,
   "metadata": {
    "ExecuteTime": {
     "end_time": "2020-11-30T10:59:15.903549Z",
     "start_time": "2020-11-30T10:59:15.874592Z"
    }
   },
   "outputs": [],
   "source": [
    "customer_df"
   ]
  },
  {
   "cell_type": "code",
   "execution_count": null,
   "metadata": {
    "ExecuteTime": {
     "end_time": "2020-11-30T10:59:15.919491Z",
     "start_time": "2020-11-30T10:59:15.904511Z"
    }
   },
   "outputs": [],
   "source": [
    "customer_df.loc[customer_df['customer_group']=='defecting']\\\n",
    "[['customer_name','customer_group','Churn','last_purchase_in_days','order_count',\n",
    "  'product_variant']]"
   ]
  },
  {
   "cell_type": "code",
   "execution_count": null,
   "metadata": {
    "ExecuteTime": {
     "end_time": "2020-11-30T10:59:15.935461Z",
     "start_time": "2020-11-30T10:59:15.921469Z"
    }
   },
   "outputs": [],
   "source": [
    "customer_df.Churn.value_counts()"
   ]
  },
  {
   "cell_type": "code",
   "execution_count": null,
   "metadata": {
    "ExecuteTime": {
     "end_time": "2020-11-30T10:59:16.079085Z",
     "start_time": "2020-11-30T10:59:15.936426Z"
    }
   },
   "outputs": [],
   "source": [
    "def segmentor(row):\n",
    "    if (row[\"last_purchase_in_days\"] <= 30) & (row[\"order_count\"] >= 4):\n",
    "        return \"best\"\n",
    "    elif (row[\"last_purchase_in_days\"] <= 180) & (row[\"order_count\"] >= 4):\n",
    "        return \"loyal\"\n",
    "    elif (row[\"last_purchase_in_days\"] <= 30) & (row[\"order_count\"] == 1):\n",
    "        return \"recent\"\n",
    "    elif (row[\"last_purchase_in_days\"] <= 180) & (row[\"order_count\"] == 1):\n",
    "        return \"defecting\"\n",
    "    elif (row[\"last_purchase_in_days\"] <= 180) & (row[\"order_count\"] <= 3):\n",
    "        return \"promising\"\n",
    "    elif row[\"last_purchase_in_days\"] <= 360:\n",
    "        return \"at_risk\"\n",
    "    elif row[\"last_purchase_in_days\"] >= 360:\n",
    "        return \"dormant\"\n",
    "\n",
    "customer_df[\"segment\"] = customer_df.apply(lambda x: segmentor(x), axis=1)"
   ]
  },
  {
   "cell_type": "code",
   "execution_count": null,
   "metadata": {
    "ExecuteTime": {
     "end_time": "2020-11-30T10:59:16.109997Z",
     "start_time": "2020-11-30T10:59:16.081039Z"
    }
   },
   "outputs": [],
   "source": [
    "customer_df.loc[~(customer_df['segment'] == customer_df['customer_group'])]\\\n",
    "[['customer_name','last_purchase_in_days','order_count','segment','customer_group']][250:300]"
   ]
  },
  {
   "cell_type": "code",
   "execution_count": null,
   "metadata": {
    "ExecuteTime": {
     "end_time": "2020-11-30T10:59:16.125944Z",
     "start_time": "2020-11-30T10:59:16.110959Z"
    }
   },
   "outputs": [],
   "source": [
    "customer_df.drop(columns=['customer_group'],inplace=True)"
   ]
  },
  {
   "cell_type": "code",
   "execution_count": null,
   "metadata": {
    "ExecuteTime": {
     "end_time": "2020-11-30T10:59:16.141878Z",
     "start_time": "2020-11-30T10:59:16.127916Z"
    }
   },
   "outputs": [],
   "source": [
    "customer_df.columns"
   ]
  },
  {
   "cell_type": "code",
   "execution_count": null,
   "metadata": {
    "ExecuteTime": {
     "end_time": "2020-11-30T10:59:17.304961Z",
     "start_time": "2020-11-30T10:59:16.142874Z"
    }
   },
   "outputs": [],
   "source": [
    "customer_df.to_excel('customer_df.xlsx')"
   ]
  }
 ],
 "metadata": {
  "kernelspec": {
   "display_name": "Python 3",
   "language": "python",
   "name": "python3"
  },
  "language_info": {
   "codemirror_mode": {
    "name": "ipython",
    "version": 3
   },
   "file_extension": ".py",
   "mimetype": "text/x-python",
   "name": "python",
   "nbconvert_exporter": "python",
   "pygments_lexer": "ipython3",
   "version": "3.8.3"
  },
  "toc": {
   "base_numbering": 1,
   "nav_menu": {},
   "number_sections": true,
   "sideBar": true,
   "skip_h1_title": false,
   "title_cell": "Table of Contents",
   "title_sidebar": "Contents",
   "toc_cell": false,
   "toc_position": {
    "height": "calc(100% - 180px)",
    "left": "10px",
    "top": "150px",
    "width": "299.2px"
   },
   "toc_section_display": true,
   "toc_window_display": true
  }
 },
 "nbformat": 4,
 "nbformat_minor": 4
}
