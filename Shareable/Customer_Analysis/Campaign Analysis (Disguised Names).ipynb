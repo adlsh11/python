{
 "cells": [
  {
   "cell_type": "markdown",
   "metadata": {
    "ExecuteTime": {
     "end_time": "2020-11-09T14:58:18.308003Z",
     "start_time": "2020-11-09T14:58:18.296068Z"
    }
   },
   "source": [
    "# All Transactions"
   ]
  },
  {
   "cell_type": "markdown",
   "metadata": {},
   "source": [
    "## Import All Transactions Data from GSheet"
   ]
  },
  {
   "cell_type": "code",
   "execution_count": null,
   "metadata": {
    "ExecuteTime": {
     "end_time": "2020-11-09T14:59:03.354256Z",
     "start_time": "2020-11-09T14:58:37.080249Z"
    }
   },
   "outputs": [],
   "source": [
    "import pandas as pd\n",
    "import numpy as np\n",
    "from googleapiclient.discovery import build\n",
    "from google_auth_oauthlib.flow import InstalledAppFlow,Flow\n",
    "from google.auth.transport.requests import Request\n",
    "import os\n",
    "import pickle\n",
    "\n",
    "os.chdir(r'C:\\Users\\luc57.DESKTOP-NB5DC80\\AE\\ipynb')\n",
    "SCOPES = ['https://www.googleapis.com/auth/spreadsheets']\n",
    "\n",
    "# here enter the id of your google sheet\n",
    "SAMPLE_SPREADSHEET_ID_input = ''\n",
    "SAMPLE_RANGE_NAME = 'A1:ZZ25000'\n",
    "\n",
    "def main():\n",
    "    global values_input, service\n",
    "    creds = None\n",
    "    if os.path.exists('token.pickle'):\n",
    "        with open('token.pickle', 'rb') as token:\n",
    "            creds = pickle.load(token)\n",
    "    if not creds or not creds.valid:\n",
    "        if creds and creds.expired and creds.refresh_token:\n",
    "            creds.refresh(Request())\n",
    "        else:\n",
    "            flow = InstalledAppFlow.from_client_secrets_file(\n",
    "                'credentials.json', SCOPES) # here enter the name of your downloaded JSON file\n",
    "            creds = flow.run_local_server(port=0)\n",
    "        with open('token.pickle', 'wb') as token:\n",
    "            pickle.dump(creds, token)\n",
    "\n",
    "    service = build('sheets', 'v4', credentials=creds)\n",
    "\n",
    "    # Call the Sheets API\n",
    "    sheet = service.spreadsheets()\n",
    "    result_input = sheet.values().get(spreadsheetId=SAMPLE_SPREADSHEET_ID_input,\n",
    "                                range=SAMPLE_RANGE_NAME).execute()\n",
    "    values_input = result_input.get('values', [])\n",
    "\n",
    "    if not values_input and not values_expansion:\n",
    "        print('No data found.')\n",
    "\n",
    "main()\n",
    "\n",
    "df_all=pd.DataFrame(values_input[1:], columns=values_input[0])\n",
    "#file must be a google sheets, not a normal xlsx uploaded to gdrive"
   ]
  },
  {
   "cell_type": "code",
   "execution_count": null,
   "metadata": {
    "ExecuteTime": {
     "end_time": "2020-11-09T14:59:03.369955Z",
     "start_time": "2020-11-09T14:59:03.354992Z"
    }
   },
   "outputs": [],
   "source": [
    "len(df_all) #check the total number of rows"
   ]
  },
  {
   "cell_type": "code",
   "execution_count": null,
   "metadata": {
    "ExecuteTime": {
     "end_time": "2020-11-09T14:59:03.417409Z",
     "start_time": "2020-11-09T14:59:03.370965Z"
    }
   },
   "outputs": [],
   "source": [
    "df_all #get a glimpse of the head and tail of the data"
   ]
  },
  {
   "cell_type": "markdown",
   "metadata": {
    "ExecuteTime": {
     "end_time": "2020-11-09T14:59:05.656743Z",
     "start_time": "2020-11-09T14:59:05.639822Z"
    }
   },
   "source": [
    "## Data Transformation"
   ]
  },
  {
   "cell_type": "code",
   "execution_count": null,
   "metadata": {
    "ExecuteTime": {
     "end_time": "2020-11-09T14:59:13.028254Z",
     "start_time": "2020-11-09T14:59:13.010299Z"
    }
   },
   "outputs": [],
   "source": [
    "df_all.shape #there are 10236 rows and 54 columns"
   ]
  },
  {
   "cell_type": "code",
   "execution_count": null,
   "metadata": {
    "ExecuteTime": {
     "end_time": "2020-11-09T14:59:18.458328Z",
     "start_time": "2020-11-09T14:59:18.444341Z"
    }
   },
   "outputs": [],
   "source": [
    "df_all.columns #the column names"
   ]
  },
  {
   "cell_type": "code",
   "execution_count": null,
   "metadata": {
    "ExecuteTime": {
     "end_time": "2020-11-09T14:59:23.202864Z",
     "start_time": "2020-11-09T14:59:23.188902Z"
    }
   },
   "outputs": [],
   "source": [
    "df_all.dtypes #data types of the df_all columns"
   ]
  },
  {
   "cell_type": "markdown",
   "metadata": {
    "ExecuteTime": {
     "end_time": "2020-11-09T14:59:36.477930Z",
     "start_time": "2020-11-09T14:59:36.464965Z"
    }
   },
   "source": [
    "Columns _gross_sales_ to _returned_item_quantity_ are all numeric."
   ]
  },
  {
   "cell_type": "markdown",
   "metadata": {},
   "source": [
    "## Convert column datatypes"
   ]
  },
  {
   "cell_type": "code",
   "execution_count": null,
   "metadata": {
    "ExecuteTime": {
     "end_time": "2020-11-09T14:59:55.717411Z",
     "start_time": "2020-11-09T14:59:52.095907Z"
    }
   },
   "outputs": [],
   "source": [
    "#convert the columns to numeric\n",
    "cols = ['orders','gross_sales','discounts','returns','net_sales','shipping','taxes',\n",
    "        'total_sales','total_tips','average_order_value','total_cost','gross_profit',\n",
    "        'gross_margin','units_per_transaction','net_quantity','ordered_item_quantity','returned_item_quantity']\n",
    "df_all[cols] = df_all[cols].apply(pd.to_numeric, errors='coerce', axis=1)\n",
    "df_all.dtypes"
   ]
  },
  {
   "cell_type": "markdown",
   "metadata": {},
   "source": [
    "## Correct the day variable"
   ]
  },
  {
   "cell_type": "code",
   "execution_count": null,
   "metadata": {
    "ExecuteTime": {
     "end_time": "2020-11-09T15:00:04.271805Z",
     "start_time": "2020-11-09T15:00:04.240889Z"
    }
   },
   "outputs": [],
   "source": [
    "#convert the day variable data type\n",
    "from datetime import datetime\n",
    "df_all['hour'] = pd.to_datetime(df_all['hour'])\n",
    "df_all['day'] = df_all['hour'] "
   ]
  },
  {
   "cell_type": "code",
   "execution_count": null,
   "metadata": {
    "ExecuteTime": {
     "end_time": "2020-11-09T15:00:08.714258Z",
     "start_time": "2020-11-09T15:00:08.572793Z"
    }
   },
   "outputs": [],
   "source": [
    "#remove the date from hour \n",
    "df_all['hour'] = df_all['hour'].apply(lambda x: x.strftime('%H:%M:%S'))\n",
    "df_all['hour']"
   ]
  },
  {
   "cell_type": "code",
   "execution_count": null,
   "metadata": {
    "ExecuteTime": {
     "end_time": "2020-11-09T15:00:14.418880Z",
     "start_time": "2020-11-09T15:00:14.231514Z"
    }
   },
   "outputs": [],
   "source": [
    "for column in df_all.columns:\n",
    "     print(\"\\n\" + column)\n",
    "     print(df_all[column].value_counts())"
   ]
  },
  {
   "cell_type": "markdown",
   "metadata": {
    "ExecuteTime": {
     "end_time": "2020-11-09T15:00:23.130911Z",
     "start_time": "2020-11-09T15:00:23.127914Z"
    }
   },
   "source": [
    "## Filter only real orders"
   ]
  },
  {
   "cell_type": "code",
   "execution_count": null,
   "metadata": {
    "ExecuteTime": {
     "end_time": "2020-11-09T15:00:29.812431Z",
     "start_time": "2020-11-09T15:00:29.763273Z"
    }
   },
   "outputs": [],
   "source": [
    "df_all=df_all.loc[df_all['orders']>=1]"
   ]
  },
  {
   "cell_type": "code",
   "execution_count": null,
   "metadata": {
    "ExecuteTime": {
     "end_time": "2020-11-09T15:00:35.131850Z",
     "start_time": "2020-11-09T15:00:35.107947Z"
    }
   },
   "outputs": [],
   "source": [
    "df_all = df_all.loc[df_all['net_quantity']>=1]\n",
    "len(df_all)"
   ]
  },
  {
   "cell_type": "markdown",
   "metadata": {
    "ExecuteTime": {
     "end_time": "2020-11-09T15:00:44.323704Z",
     "start_time": "2020-11-09T15:00:44.319715Z"
    }
   },
   "source": [
    "## Filter refunded items"
   ]
  },
  {
   "cell_type": "code",
   "execution_count": null,
   "metadata": {
    "ExecuteTime": {
     "end_time": "2020-11-09T15:00:51.026747Z",
     "start_time": "2020-11-09T15:00:51.015783Z"
    }
   },
   "outputs": [],
   "source": [
    "df_all.financial_status.value_counts()"
   ]
  },
  {
   "cell_type": "code",
   "execution_count": null,
   "metadata": {
    "ExecuteTime": {
     "end_time": "2020-11-09T15:00:55.740028Z",
     "start_time": "2020-11-09T15:00:55.717123Z"
    }
   },
   "outputs": [],
   "source": [
    "df_all=df_all.loc[df_all['financial_status']!='refunded']"
   ]
  },
  {
   "cell_type": "markdown",
   "metadata": {
    "ExecuteTime": {
     "end_time": "2020-11-09T15:01:00.457281Z",
     "start_time": "2020-11-09T15:01:00.447341Z"
    }
   },
   "source": [
    "Variables to pay attention to: sale_line_type (product or gift card), cancelled (Yes or No),\n",
    "financial status (paid,refunded, partially refunded, pending),fulfillment status (fulfilled, unfulfilled),\n",
    "referrer source (direct, unknown, search, social, email)."
   ]
  },
  {
   "cell_type": "markdown",
   "metadata": {},
   "source": [
    "## Drop useless columns "
   ]
  },
  {
   "cell_type": "code",
   "execution_count": null,
   "metadata": {
    "ExecuteTime": {
     "end_time": "2020-11-09T15:01:13.391962Z",
     "start_time": "2020-11-09T15:01:13.377036Z"
    }
   },
   "outputs": [],
   "source": [
    "df_all.drop(columns=['adjustment','sale_kind','orders','returns','shipping','total_tips',\n",
    "                       'total_cost','gross_profit','gross_margin',\n",
    "                        'units_per_transaction','net_quantity','ordered_item_quantity',\n",
    "                        'returned_item_quantity'],inplace=True)\n",
    "                        #all columns only have one value"
   ]
  },
  {
   "cell_type": "code",
   "execution_count": null,
   "metadata": {
    "ExecuteTime": {
     "end_time": "2020-11-09T15:01:18.002923Z",
     "start_time": "2020-11-09T15:01:17.982018Z"
    }
   },
   "outputs": [],
   "source": [
    "df_all.loc[df_all['net_sales']==0][['day','order_name','customer_name','product_title','variant_title',\n",
    "                                  'total_sales','net_sales']]"
   ]
  },
  {
   "cell_type": "code",
   "execution_count": null,
   "metadata": {
    "ExecuteTime": {
     "end_time": "2020-11-09T15:01:22.228659Z",
     "start_time": "2020-11-09T15:01:22.204756Z"
    }
   },
   "outputs": [],
   "source": [
    "df_all[df_all['order_name']=='#1645'][['day','order_name','order_id','total_sales','discounts']]"
   ]
  },
  {
   "cell_type": "code",
   "execution_count": null,
   "metadata": {
    "ExecuteTime": {
     "end_time": "2020-11-09T15:01:26.753363Z",
     "start_time": "2020-11-09T15:01:26.730400Z"
    }
   },
   "outputs": [],
   "source": [
    "df_all.loc[df_all['order_name']=='#1645'][['billing_country', 'billing_postal_code',\n",
    "       'customer_email', 'customer_id', 'customer_name', 'customer_type',\n",
    "       'utm_campaign_content', 'utm_campaign_medium', 'utm_campaign_name',\n",
    "       'utm_campaign_source', 'utm_campaign_term', 'product_id',\n",
    "       'product_price', 'product_title', 'product_type']]"
   ]
  },
  {
   "cell_type": "code",
   "execution_count": null,
   "metadata": {
    "ExecuteTime": {
     "end_time": "2020-11-09T15:01:31.026817Z",
     "start_time": "2020-11-09T15:01:31.008899Z"
    }
   },
   "outputs": [],
   "source": [
    "df_all.loc[df_all['order_name']=='#1645'][['variant_sku',\n",
    "       'variant_id', 'variant_title', 'api_client_title', 'shipping_city',\n",
    "       'shipping_country', 'shipping_postal_code', 'referrer_host',\n",
    "       'referrer_name', 'referrer_path', 'referrer_source', 'referrer_url',\n",
    "       'gross_sales', 'discounts', 'net_sales']]"
   ]
  },
  {
   "cell_type": "markdown",
   "metadata": {
    "ExecuteTime": {
     "end_time": "2020-11-09T15:01:37.099696Z",
     "start_time": "2020-11-09T15:01:37.090752Z"
    }
   },
   "source": [
    "Every row is segregated into each product level. So, one order number may have 2 rows if the customer purchased two products. If a customer bought 4 products, the dataframe contains 4 of the same order names."
   ]
  },
  {
   "cell_type": "markdown",
   "metadata": {},
   "source": [
    "## Rename _total_sales_ to _sales_after_tax_"
   ]
  },
  {
   "cell_type": "code",
   "execution_count": null,
   "metadata": {
    "ExecuteTime": {
     "end_time": "2020-11-09T15:01:52.053137Z",
     "start_time": "2020-11-09T15:01:52.036159Z"
    }
   },
   "outputs": [],
   "source": [
    "df_all.rename(columns={\"total_sales\": \"sales_before_tax\"},inplace=True)"
   ]
  },
  {
   "cell_type": "markdown",
   "metadata": {},
   "source": [
    "# Discount Data"
   ]
  },
  {
   "cell_type": "markdown",
   "metadata": {},
   "source": [
    "## Import Discount Data from GSheet"
   ]
  },
  {
   "cell_type": "code",
   "execution_count": null,
   "metadata": {
    "ExecuteTime": {
     "end_time": "2020-11-09T15:02:22.761375Z",
     "start_time": "2020-11-09T15:02:16.921853Z"
    }
   },
   "outputs": [],
   "source": [
    "import pandas as pd\n",
    "from googleapiclient.discovery import build\n",
    "from google_auth_oauthlib.flow import InstalledAppFlow,Flow\n",
    "from google.auth.transport.requests import Request\n",
    "import os\n",
    "import pickle\n",
    "\n",
    "os.chdir(r'C:\\Users\\luc57.DESKTOP-NB5DC80\\AE\\ipynb')\n",
    "SCOPES = ['https://www.googleapis.com/auth/spreadsheets']\n",
    "\n",
    "# here enter the id of your google sheet\n",
    "SAMPLE_SPREADSHEET_ID_input = ''\n",
    "SAMPLE_RANGE_NAME = 'A1:ZZ5000'\n",
    "\n",
    "def main():\n",
    "    global values_input, service\n",
    "    creds = None\n",
    "    if os.path.exists('token.pickle'):\n",
    "        with open('token.pickle', 'rb') as token:\n",
    "            creds = pickle.load(token)\n",
    "    if not creds or not creds.valid:\n",
    "        if creds and creds.expired and creds.refresh_token:\n",
    "            creds.refresh(Request())\n",
    "        else:\n",
    "            flow = InstalledAppFlow.from_client_secrets_file(\n",
    "                'credentials.json', SCOPES) # here enter the name of your downloaded JSON file\n",
    "            creds = flow.run_local_server(port=0)\n",
    "        with open('token.pickle', 'wb') as token:\n",
    "            pickle.dump(creds, token)\n",
    "\n",
    "    service = build('sheets', 'v4', credentials=creds)\n",
    "\n",
    "    # Call the Sheets API\n",
    "    sheet = service.spreadsheets()\n",
    "    result_input = sheet.values().get(spreadsheetId=SAMPLE_SPREADSHEET_ID_input,\n",
    "                                range=SAMPLE_RANGE_NAME).execute()\n",
    "    values_input = result_input.get('values', [])\n",
    "\n",
    "    if not values_input and not values_expansion:\n",
    "        print('No data found.')\n",
    "\n",
    "main()\n",
    "\n",
    "discount_df=pd.DataFrame(values_input[1:], columns=values_input[0])\n",
    "#file must be a google sheets, not a normal xlsx uploaded to gdrive"
   ]
  },
  {
   "cell_type": "code",
   "execution_count": null,
   "metadata": {
    "ExecuteTime": {
     "end_time": "2020-11-09T15:02:26.828200Z",
     "start_time": "2020-11-09T15:02:26.801272Z"
    }
   },
   "outputs": [],
   "source": [
    "discount_df"
   ]
  },
  {
   "cell_type": "code",
   "execution_count": null,
   "metadata": {
    "ExecuteTime": {
     "end_time": "2020-11-09T15:02:32.639575Z",
     "start_time": "2020-11-09T15:02:32.621626Z"
    }
   },
   "outputs": [],
   "source": [
    "#discount_df.set_index(df.columns[0])\n",
    "#discount_df=discount_df.drop([''],axis=1) #drop the duplicate index column"
   ]
  },
  {
   "cell_type": "markdown",
   "metadata": {},
   "source": [
    "## Discount Data Transformation"
   ]
  },
  {
   "cell_type": "code",
   "execution_count": null,
   "metadata": {
    "ExecuteTime": {
     "end_time": "2020-11-09T15:02:43.077897Z",
     "start_time": "2020-11-09T15:02:43.059929Z"
    }
   },
   "outputs": [],
   "source": [
    "discount_df.shape"
   ]
  },
  {
   "cell_type": "code",
   "execution_count": null,
   "metadata": {
    "ExecuteTime": {
     "end_time": "2020-11-09T15:02:47.640602Z",
     "start_time": "2020-11-09T15:02:47.623650Z"
    }
   },
   "outputs": [],
   "source": [
    "discount_df.columns"
   ]
  },
  {
   "cell_type": "code",
   "execution_count": null,
   "metadata": {
    "ExecuteTime": {
     "end_time": "2020-11-09T15:02:52.325577Z",
     "start_time": "2020-11-09T15:02:52.306603Z"
    }
   },
   "outputs": [],
   "source": [
    "discount_df.dtypes"
   ]
  },
  {
   "cell_type": "markdown",
   "metadata": {
    "ExecuteTime": {
     "end_time": "2020-11-09T15:02:59.699307Z",
     "start_time": "2020-11-09T15:02:59.681364Z"
    }
   },
   "source": [
    "Columns _orders_ to _total_quantity_ are all numeric."
   ]
  },
  {
   "cell_type": "markdown",
   "metadata": {},
   "source": [
    "## Convert column datatypes"
   ]
  },
  {
   "cell_type": "code",
   "execution_count": null,
   "metadata": {
    "ExecuteTime": {
     "end_time": "2020-11-09T15:03:12.009689Z",
     "start_time": "2020-11-09T15:03:11.996756Z"
    }
   },
   "outputs": [],
   "source": [
    "discount_df.columns"
   ]
  },
  {
   "cell_type": "code",
   "execution_count": null,
   "metadata": {
    "ExecuteTime": {
     "end_time": "2020-11-09T15:03:17.233933Z",
     "start_time": "2020-11-09T15:03:16.592390Z"
    }
   },
   "outputs": [],
   "source": [
    "#convert the columns to numeric\n",
    "cols_discount_df = ['orders', 'total_gross_sales', 'total_discount_amount',\n",
    "       'total_returns', 'total_net_sales', 'total_shipping_price',\n",
    "       'total_shipping_discount', 'total_tax_amount', 'grand_total_sales',\n",
    "       'total_line_item_script_discount', 'total_shipping_script_discount',\n",
    "       'total_product_price', 'total_quantity_returns', 'total_quantity']\n",
    "discount_df[cols_discount_df] = discount_df[cols_discount_df].apply(pd.to_numeric, errors='coerce', axis=1)\n",
    "discount_df.dtypes"
   ]
  },
  {
   "cell_type": "markdown",
   "metadata": {},
   "source": [
    "## Create new variable _date_ and correct the _hour_ variable"
   ]
  },
  {
   "cell_type": "code",
   "execution_count": null,
   "metadata": {
    "ExecuteTime": {
     "end_time": "2020-11-09T15:03:30.004843Z",
     "start_time": "2020-11-09T15:03:29.992833Z"
    }
   },
   "outputs": [],
   "source": [
    "discount_df[['hour','day','week','month','quarter','year']]"
   ]
  },
  {
   "cell_type": "code",
   "execution_count": null,
   "metadata": {
    "ExecuteTime": {
     "end_time": "2020-11-09T15:03:35.239772Z",
     "start_time": "2020-11-09T15:03:35.186954Z"
    }
   },
   "outputs": [],
   "source": [
    "#create new variable date from the hour variable\n",
    "from datetime import datetime\n",
    "discount_df['hour'] = pd.to_datetime(discount_df['hour'])\n",
    "discount_df['date'] = discount_df['hour']\n",
    "\n",
    "#remove the date from hour \n",
    "discount_df['hour'] = discount_df['hour'].apply(lambda x: x.strftime('%H:%M:%S'))\n",
    "discount_df['hour']"
   ]
  },
  {
   "cell_type": "markdown",
   "metadata": {},
   "source": [
    "## Filter only transactions that have monetary value"
   ]
  },
  {
   "cell_type": "code",
   "execution_count": null,
   "metadata": {
    "ExecuteTime": {
     "end_time": "2020-11-09T15:03:46.763866Z",
     "start_time": "2020-11-09T15:03:46.749921Z"
    }
   },
   "outputs": [],
   "source": [
    "discount_df=discount_df.loc[discount_df['total_gross_sales']>0]\n",
    "len(discount_df)"
   ]
  },
  {
   "cell_type": "markdown",
   "metadata": {},
   "source": [
    "## Value Distribution of the Columns"
   ]
  },
  {
   "cell_type": "code",
   "execution_count": null,
   "metadata": {
    "ExecuteTime": {
     "end_time": "2020-11-09T15:04:00.027953Z",
     "start_time": "2020-11-09T15:03:59.954180Z"
    }
   },
   "outputs": [],
   "source": [
    "for column in discount_df.columns:\n",
    "     print(\"\\n\" + column)\n",
    "     print(discount_df[column].value_counts())"
   ]
  },
  {
   "cell_type": "code",
   "execution_count": null,
   "metadata": {
    "ExecuteTime": {
     "end_time": "2020-11-09T15:04:05.572485Z",
     "start_time": "2020-11-09T15:04:05.551541Z"
    }
   },
   "outputs": [],
   "source": [
    "discount_df = discount_df.drop(columns=['name','discount_applied','automatic_discount_title',\n",
    "                                        'marketing_event_target','product_vendor','shipping_title',\n",
    "                                        'marketing_event_type','marketing_event_target',\n",
    "                                        'total_shipping_price','total_shipping_discount',\n",
    "                                        'total_line_item_script_discount',\n",
    "                                        'total_shipping_script_discount'])"
   ]
  },
  {
   "cell_type": "markdown",
   "metadata": {},
   "source": [
    "## Rename column names"
   ]
  },
  {
   "cell_type": "code",
   "execution_count": null,
   "metadata": {
    "ExecuteTime": {
     "end_time": "2020-11-09T15:04:15.474049Z",
     "start_time": "2020-11-09T15:04:15.459090Z"
    }
   },
   "outputs": [],
   "source": [
    "print(len(discount_df.columns)) #check how many columns are remaining\n",
    "discount_df.columns"
   ]
  },
  {
   "cell_type": "code",
   "execution_count": null,
   "metadata": {
    "ExecuteTime": {
     "end_time": "2020-11-09T15:04:19.388007Z",
     "start_time": "2020-11-09T15:04:19.368031Z"
    }
   },
   "outputs": [],
   "source": [
    "discount_df.rename(columns={\"total_gross_sales\": \"gross_sales\",\n",
    "                            \"total_discount_amount\":\"discounts\",\n",
    "                            \"total_returns\":\"returns (in EUR)\",\n",
    "                            \"total_net_sales\":\"net_sales\",\n",
    "                            \"total_tax_amount\":\"taxes\",\n",
    "                            \"total_product_price\":\"product_price\",\n",
    "                            \"total_quantity_returns\":\"quantity_returns\",\n",
    "                            \"total_quantity\":\"quantity\"},inplace=True)"
   ]
  },
  {
   "cell_type": "code",
   "execution_count": null,
   "metadata": {
    "ExecuteTime": {
     "end_time": "2020-11-09T15:04:26.181063Z",
     "start_time": "2020-11-09T15:04:26.159090Z"
    }
   },
   "outputs": [],
   "source": [
    "discount_df[['gross_sales','discounts','returns (in EUR)','grand_total_sales','taxes','net_sales']]\n",
    "#gross sales = product price x quantity (before taxes, shipping, discounts, and returns)\n",
    "#grand total sales = gross sales - discounts - returns + taxes + shipping charges\n",
    "#net sales = gross sales - discounts - returns + shipping + taxes\n",
    "#shipping = shipping charges - shipping discounts - refunded shipping amounts"
   ]
  },
  {
   "cell_type": "markdown",
   "metadata": {},
   "source": [
    "# Add discount code to the bigger dataframe"
   ]
  },
  {
   "cell_type": "code",
   "execution_count": null,
   "metadata": {
    "ExecuteTime": {
     "end_time": "2020-11-09T15:04:49.393778Z",
     "start_time": "2020-11-09T15:04:49.386766Z"
    }
   },
   "outputs": [],
   "source": [
    "print(len(df_all))\n",
    "print(len(discount_df))"
   ]
  },
  {
   "cell_type": "code",
   "execution_count": null,
   "metadata": {
    "ExecuteTime": {
     "end_time": "2020-11-09T15:04:59.647088Z",
     "start_time": "2020-11-09T15:04:59.574318Z"
    }
   },
   "outputs": [],
   "source": [
    "discount_df_selection=discount_df[['order_name','discount_code']]\n",
    "discount_df_selection = discount_df_selection.drop_duplicates()\n",
    "df_all_in = pd.merge(df_all,discount_df_selection,on='order_name',how='left')\n",
    "df_all_in.sort_values(by='day',ascending=False)"
   ]
  },
  {
   "cell_type": "markdown",
   "metadata": {},
   "source": [
    "### Convert customer name to all caps lock"
   ]
  },
  {
   "cell_type": "code",
   "execution_count": null,
   "metadata": {
    "ExecuteTime": {
     "end_time": "2020-11-09T15:05:15.603172Z",
     "start_time": "2020-11-09T15:05:15.597193Z"
    }
   },
   "outputs": [],
   "source": [
    "df_all_in['customer_name']=df_all_in['customer_name'].apply(lambda x: x.upper())"
   ]
  },
  {
   "cell_type": "markdown",
   "metadata": {},
   "source": [
    "# Campaigns in 2019"
   ]
  },
  {
   "cell_type": "code",
   "execution_count": null,
   "metadata": {},
   "outputs": [],
   "source": [
    "import pandas as pd\n",
    "df_all_in = pd.read_csv('df.csv')"
   ]
  },
  {
   "cell_type": "markdown",
   "metadata": {},
   "source": [
    "## Earlybird"
   ]
  },
  {
   "cell_type": "code",
   "execution_count": null,
   "metadata": {
    "ExecuteTime": {
     "end_time": "2020-11-09T15:09:14.922668Z",
     "start_time": "2020-11-09T15:09:14.882806Z"
    }
   },
   "outputs": [],
   "source": [
    "Earlybird = df_all_in.loc[df_all_in['discount_code']=='Earlybird']\n",
    "Earlybird"
   ]
  },
  {
   "cell_type": "code",
   "execution_count": null,
   "metadata": {
    "ExecuteTime": {
     "end_time": "2020-11-09T15:09:21.995328Z",
     "start_time": "2020-11-09T15:09:21.986035Z"
    }
   },
   "outputs": [],
   "source": [
    "Earlybird.columns"
   ]
  },
  {
   "cell_type": "markdown",
   "metadata": {},
   "source": [
    "###  Number of Unique Orders, Number of Unique Customers, Customer Names"
   ]
  },
  {
   "cell_type": "code",
   "execution_count": null,
   "metadata": {
    "ExecuteTime": {
     "end_time": "2020-11-09T15:09:32.117569Z",
     "start_time": "2020-11-09T15:09:32.103580Z"
    }
   },
   "outputs": [],
   "source": [
    "Earlybird.groupby('order_name')[['gross_sales','discounts','taxes','net_sales']].sum()"
   ]
  },
  {
   "cell_type": "code",
   "execution_count": null,
   "metadata": {
    "ExecuteTime": {
     "end_time": "2020-11-09T15:09:36.875636Z",
     "start_time": "2020-11-09T15:09:36.869616Z"
    }
   },
   "outputs": [],
   "source": [
    "print('Number of Unique Orders: ',len(Earlybird.order_name.unique())) #number of unique orders, excl. returns\n",
    "print('Number of Unique Customers: ',len(Earlybird.customer_name.unique())) #number of unique customers\n",
    "Earlybird_customer_list=Earlybird.customer_name.unique().tolist() #convert the numpy array of cust. names to a list\n",
    "print('Customer List: ', Earlybird_customer_list)"
   ]
  },
  {
   "cell_type": "code",
   "execution_count": null,
   "metadata": {
    "ExecuteTime": {
     "end_time": "2020-11-09T15:09:41.223152Z",
     "start_time": "2020-11-09T15:09:41.204204Z"
    }
   },
   "outputs": [],
   "source": [
    "obtained_customers=ARI20_customer_list + ARI50_customer_list\n",
    "print(obtained_customers)\n",
    "[i for i in obtained_customers if i in Earlybird_customer_list] #check if customers in Earlybird\n",
    "                                                                  #have purchased before"
   ]
  },
  {
   "cell_type": "code",
   "execution_count": null,
   "metadata": {
    "ExecuteTime": {
     "end_time": "2020-11-09T15:09:46.888631Z",
     "start_time": "2020-11-09T15:09:46.874673Z"
    }
   },
   "outputs": [],
   "source": [
    "print('Number of Products Purchased by Each Customer:','\\n', Earlybird.customer_name.value_counts()) "
   ]
  },
  {
   "cell_type": "markdown",
   "metadata": {},
   "source": [
    "### Gross Sales, Discounts, Net Sales"
   ]
  },
  {
   "cell_type": "code",
   "execution_count": null,
   "metadata": {
    "ExecuteTime": {
     "end_time": "2020-11-09T15:09:57.808872Z",
     "start_time": "2020-11-09T15:09:57.801891Z"
    }
   },
   "outputs": [],
   "source": [
    "Earlybird[['gross_sales','discounts','net_sales']].agg('sum')"
   ]
  },
  {
   "cell_type": "markdown",
   "metadata": {},
   "source": [
    "### Net Sales of Each Customer who used ARI50"
   ]
  },
  {
   "cell_type": "code",
   "execution_count": null,
   "metadata": {
    "ExecuteTime": {
     "end_time": "2020-11-09T15:10:21.663578Z",
     "start_time": "2020-11-09T15:10:21.650581Z"
    }
   },
   "outputs": [],
   "source": [
    "Orders_of_Earlybird_customers=df_all_in.loc[df_all_in['customer_name'].isin (Earlybird_customer_list)]\n",
    "#orders by each Earlybird customers\n",
    "Orders_of_Earlybird_customers.groupby('customer_name').sum()['net_sales'].sort_values(ascending=False)"
   ]
  },
  {
   "cell_type": "markdown",
   "metadata": {},
   "source": [
    "### Additional Quantity and Revenue generated"
   ]
  },
  {
   "cell_type": "code",
   "execution_count": null,
   "metadata": {
    "ExecuteTime": {
     "end_time": "2020-11-09T15:10:32.573815Z",
     "start_time": "2020-11-09T15:10:32.556861Z"
    }
   },
   "outputs": [],
   "source": [
    "Earlybird_df_all=Orders_of_Earlybird_customers[['order_name','discount_code','day','customer_name','net_sales']]\n",
    "Earlybird_df_all.sort_values(by='customer_name')[:10]"
   ]
  },
  {
   "cell_type": "code",
   "execution_count": null,
   "metadata": {
    "ExecuteTime": {
     "end_time": "2020-11-09T15:10:37.435367Z",
     "start_time": "2020-11-09T15:10:37.427420Z"
    }
   },
   "outputs": [],
   "source": [
    "Earlybird_df_all.groupby('customer_name')['order_name'].nunique()"
   ]
  },
  {
   "cell_type": "code",
   "execution_count": null,
   "metadata": {
    "ExecuteTime": {
     "end_time": "2020-11-09T15:10:42.643473Z",
     "start_time": "2020-11-09T15:10:42.630512Z"
    }
   },
   "outputs": [],
   "source": [
    "orders_by_customers=Earlybird_df_all.groupby('customer_name')['order_name'].nunique()\n",
    "orders_by_customers.where(orders_by_customers > 1)"
   ]
  },
  {
   "cell_type": "code",
   "execution_count": null,
   "metadata": {
    "ExecuteTime": {
     "end_time": "2020-11-09T15:10:47.431452Z",
     "start_time": "2020-11-09T15:10:47.405542Z"
    }
   },
   "outputs": [],
   "source": [
    "list = ['']\n",
    "Earlybird_df_all[Earlybird_df_all['customer_name']. isin(list)].sort_values(by='day',ascending=False)"
   ]
  },
  {
   "cell_type": "code",
   "execution_count": null,
   "metadata": {},
   "outputs": [],
   "source": [
    "Earlybird_cust = Earlybird_df_all[Earlybird_df_all['customer_name']. isin(list)]\n",
    "Earlybird_return = Earlybird_cust.loc[(Earlybird_cust['day']>'2019-06-04')&\n",
    "                                      (Earlybird_cust['net_sales']>0) &\n",
    "                                      (Earlybird_cust['discount_code']!='Earlybird')]\n",
    "print('Number of additional orders: ',len(Earlybird_return.groupby('order_name')))\n",
    "print('Additional net sales: ',Earlybird_return.net_sales.sum())"
   ]
  },
  {
   "cell_type": "code",
   "execution_count": null,
   "metadata": {},
   "outputs": [],
   "source": [
    "Earlybird_return"
   ]
  },
  {
   "cell_type": "code",
   "execution_count": null,
   "metadata": {
    "ExecuteTime": {
     "end_time": "2020-11-09T15:10:55.812171Z",
     "start_time": "2020-11-09T15:10:53.103166Z"
    }
   },
   "outputs": [],
   "source": [
    "Earlybird_df_all.loc[Earlybird_df_all['customer_name']==input()][['day','order_name','discount_code','net_sales']].sort_values(by=\n",
    "                                                                                                                         'day',ascending=False)"
   ]
  },
  {
   "cell_type": "markdown",
   "metadata": {},
   "source": [
    "# Number of returners"
   ]
  },
  {
   "cell_type": "markdown",
   "metadata": {},
   "source": [
    "## Number of Returning Customers"
   ]
  },
  {
   "cell_type": "code",
   "execution_count": null,
   "metadata": {
    "ExecuteTime": {
     "end_time": "2020-11-09T17:29:09.365094Z",
     "start_time": "2020-11-09T17:29:09.353126Z"
    }
   },
   "outputs": [],
   "source": [
    "returning_customers=df_new.loc[df_new['customer_type']=='Returning']\n",
    "returning_customers.customer_name.value_counts() #there are 434 returning customers"
   ]
  },
  {
   "cell_type": "markdown",
   "metadata": {},
   "source": [
    "## Campaigns with the highest number of returners"
   ]
  },
  {
   "cell_type": "code",
   "execution_count": null,
   "metadata": {
    "ExecuteTime": {
     "end_time": "2020-11-09T17:35:58.274967Z",
     "start_time": "2020-11-09T17:35:58.263987Z"
    }
   },
   "outputs": [],
   "source": [
    "#calculate return rates\n",
    "print('Total Return Rate: ', round(len(returning_customers.customer_name.unique())/\n",
    "     len(df_new.customer_name.unique())*100),'%')"
   ]
  },
  {
   "cell_type": "code",
   "execution_count": null,
   "metadata": {
    "ExecuteTime": {
     "end_time": "2020-11-09T17:59:01.504690Z",
     "start_time": "2020-11-09T17:59:01.464716Z"
    }
   },
   "outputs": [],
   "source": [
    "#return rates for campaigns in 2019\n",
    "print('Number of unique returning customers in Earlybird: ',\n",
    "      \"{0:.0%}\".format(len(returning_customers.loc[returning_customers['discount_code']=='Earlybird'].\n",
    "          customer_name.unique())/len(Earlybird.customer_name.unique())))"
   ]
  },
  {
   "cell_type": "code",
   "execution_count": null,
   "metadata": {
    "ExecuteTime": {
     "end_time": "2020-11-09T17:29:42.954168Z",
     "start_time": "2020-11-09T17:29:42.946186Z"
    }
   },
   "outputs": [],
   "source": [
    "returning_customers.discount_code.value_counts()[:30]"
   ]
  },
  {
   "cell_type": "code",
   "execution_count": null,
   "metadata": {
    "ExecuteTime": {
     "end_time": "2020-11-09T16:06:20.605792Z",
     "start_time": "2020-11-09T16:06:20.590833Z"
    }
   },
   "outputs": [],
   "source": [
    "df_new.columns"
   ]
  },
  {
   "cell_type": "code",
   "execution_count": null,
   "metadata": {
    "ExecuteTime": {
     "end_time": "2020-11-09T16:06:20.620752Z",
     "start_time": "2020-11-09T16:06:20.607787Z"
    }
   },
   "outputs": [],
   "source": [
    "df_new[['referrer_host','referrer_name','referrer_path','referrer_source','referrer_url']].nunique()"
   ]
  },
  {
   "cell_type": "code",
   "execution_count": null,
   "metadata": {
    "ExecuteTime": {
     "end_time": "2020-11-09T16:06:20.636709Z",
     "start_time": "2020-11-09T16:06:20.621750Z"
    }
   },
   "outputs": [],
   "source": [
    "df_new['referrer_name'].value_counts()"
   ]
  },
  {
   "cell_type": "code",
   "execution_count": null,
   "metadata": {
    "ExecuteTime": {
     "end_time": "2020-11-09T16:06:20.652667Z",
     "start_time": "2020-11-09T16:06:20.637706Z"
    }
   },
   "outputs": [],
   "source": [
    "df_new.order_name.nunique()"
   ]
  },
  {
   "cell_type": "markdown",
   "metadata": {},
   "source": [
    "# SQL"
   ]
  },
  {
   "cell_type": "code",
   "execution_count": null,
   "metadata": {
    "ExecuteTime": {
     "end_time": "2020-11-09T16:43:32.942427Z",
     "start_time": "2020-11-09T16:43:32.937448Z"
    }
   },
   "outputs": [],
   "source": [
    "import sqlite3\n",
    "conn = sqlite3.connect('my_database.sqlite')\n",
    "cursor = conn.cursor()\n",
    "print(\"Opened database successfully\")"
   ]
  },
  {
   "cell_type": "code",
   "execution_count": null,
   "metadata": {
    "ExecuteTime": {
     "end_time": "2020-11-09T16:43:33.832101Z",
     "start_time": "2020-11-09T16:43:33.819136Z"
    }
   },
   "outputs": [],
   "source": [
    "fields = \"hour, cancelled, financial_status, fulfillment_status,order_id, order_name, sale_line_type, \\\n",
    "       cost_tracked,billing_company, billing_city, billing_region, billing_country, \\\n",
    "       billing_postal_code, customer_email, customer_id, customer_name, \\\n",
    "       customer_type, marketing_event_target, marketing_event_type, \\\n",
    "       utm_campaign_content, utm_campaign_medium, utm_campaign_name, \\\n",
    "       utm_campaign_source, utm_campaign_term, pos_location_name, \\\n",
    "       product_id, product_price, product_title, product_type, \\\n",
    "       product_vendor, variant_id, variant_sku, variant_title, \\\n",
    "       api_client_title, shipping_city, shipping_region, \\\n",
    "       shipping_country, shipping_postal_code, referrer_host, \\\n",
    "       referrer_name, referrer_path, referrer_source, referrer_url, \\\n",
    "       gross_sales, discounts, net_sales, taxes, sales_before_tax, \\\n",
    "       average_order_value, day, discount_code, disc_is_null\" \n",
    "query = f\"create TABLE CUST_DATA ({fields})\"\n",
    "cursor.execute(query)"
   ]
  },
  {
   "cell_type": "code",
   "execution_count": null,
   "metadata": {
    "ExecuteTime": {
     "end_time": "2020-11-09T16:49:34.147529Z",
     "start_time": "2020-11-09T16:49:34.026877Z"
    }
   },
   "outputs": [],
   "source": [
    "df_new.to_sql('sales', conn, if_exists='append', index=False)"
   ]
  },
  {
   "cell_type": "code",
   "execution_count": null,
   "metadata": {
    "ExecuteTime": {
     "end_time": "2020-11-09T16:57:57.144732Z",
     "start_time": "2020-11-09T16:57:57.078867Z"
    }
   },
   "outputs": [],
   "source": [
    "rows = cursor.execute(\"SELECT * FROM sales \\\n",
    "                      WHERE discount_code = 'BF19'\").fetchall()\n",
    "pd.DataFrame(rows, columns=[i[0] for i in cursor.description])"
   ]
  }
 ],
 "metadata": {
  "kernelspec": {
   "display_name": "Python 3",
   "language": "python",
   "name": "python3"
  },
  "language_info": {
   "codemirror_mode": {
    "name": "ipython",
    "version": 3
   },
   "file_extension": ".py",
   "mimetype": "text/x-python",
   "name": "python",
   "nbconvert_exporter": "python",
   "pygments_lexer": "ipython3",
   "version": "3.8.3"
  },
  "toc": {
   "base_numbering": 1,
   "nav_menu": {},
   "number_sections": true,
   "sideBar": true,
   "skip_h1_title": false,
   "title_cell": "Table of Contents",
   "title_sidebar": "Contents",
   "toc_cell": false,
   "toc_position": {
    "height": "calc(100% - 180px)",
    "left": "10px",
    "top": "150px",
    "width": "239.35px"
   },
   "toc_section_display": true,
   "toc_window_display": true
  }
 },
 "nbformat": 4,
 "nbformat_minor": 4
}
