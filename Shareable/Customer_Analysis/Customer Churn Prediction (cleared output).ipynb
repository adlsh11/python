{
 "cells": [
  {
   "cell_type": "markdown",
   "metadata": {},
   "source": [
    "Output is cleared due to confidentiality of the information."
   ]
  },
  {
   "cell_type": "markdown",
   "metadata": {},
   "source": [
    "## Import Libraries"
   ]
  },
  {
   "cell_type": "code",
   "execution_count": null,
   "metadata": {
    "ExecuteTime": {
     "end_time": "2020-11-24T16:12:58.769901Z",
     "start_time": "2020-11-24T16:12:55.027793Z"
    }
   },
   "outputs": [],
   "source": [
    "# Import Necessary Libraries\n",
    "import numpy as np\n",
    "import pandas as pd \n",
    "import matplotlib.pyplot as plt \n",
    "import seaborn as sns\n",
    "import pandas_profiling\n",
    "import plotly.offline as po\n",
    "import plotly.graph_objs as go\n",
    "%matplotlib inline"
   ]
  },
  {
   "cell_type": "code",
   "execution_count": null,
   "metadata": {
    "ExecuteTime": {
     "end_time": "2020-11-24T16:12:58.785858Z",
     "start_time": "2020-11-24T16:12:58.770900Z"
    }
   },
   "outputs": [],
   "source": [
    "from jupyterthemes import jtplot\n",
    "jtplot.style()"
   ]
  },
  {
   "cell_type": "markdown",
   "metadata": {},
   "source": [
    "## Explore Data"
   ]
  },
  {
   "cell_type": "code",
   "execution_count": null,
   "metadata": {
    "ExecuteTime": {
     "end_time": "2020-11-24T16:13:01.982554Z",
     "start_time": "2020-11-24T16:12:58.787854Z"
    }
   },
   "outputs": [],
   "source": [
    "import pandas as pd\n",
    "import numpy as np\n",
    "from googleapiclient.discovery import build\n",
    "from google_auth_oauthlib.flow import InstalledAppFlow,Flow\n",
    "from google.auth.transport.requests import Request\n",
    "import os\n",
    "import pickle\n",
    "\n",
    "os.chdir(r'C:\\Users\\luc57.DESKTOP-NB5DC80\\AE\\ipynb')\n",
    "SCOPES = ['https://www.googleapis.com/auth/spreadsheets']\n",
    "\n",
    "# here enter the id of your google sheet\n",
    "SAMPLE_SPREADSHEET_ID_input = ''\n",
    "SAMPLE_RANGE_NAME = 'A1:ZZ30000'\n",
    "\n",
    "def main():\n",
    "    global values_input, service\n",
    "    creds = None\n",
    "    if os.path.exists('token.pickle'):\n",
    "        with open('token.pickle', 'rb') as token:\n",
    "            creds = pickle.load(token)\n",
    "    if not creds or not creds.valid:\n",
    "        if creds and creds.expired and creds.refresh_token:\n",
    "            creds.refresh(Request())\n",
    "        else:\n",
    "            flow = InstalledAppFlow.from_client_secrets_file(\n",
    "                'credentials.json', SCOPES) # here enter the name of your downloaded JSON file\n",
    "            creds = flow.run_local_server(port=0)\n",
    "        with open('token.pickle', 'wb') as token:\n",
    "            pickle.dump(creds, token)\n",
    "\n",
    "    service = build('sheets', 'v4', credentials=creds)\n",
    "\n",
    "    # Call the Sheets API\n",
    "    sheet = service.spreadsheets()\n",
    "    result_input = sheet.values().get(spreadsheetId=SAMPLE_SPREADSHEET_ID_input,\n",
    "                                range=SAMPLE_RANGE_NAME).execute()\n",
    "    values_input = result_input.get('values', [])\n",
    "\n",
    "    if not values_input and not values_expansion:\n",
    "        print('No data found.')\n",
    "\n",
    "main()\n",
    "\n",
    "churn_dataset=pd.DataFrame(values_input[1:], columns=values_input[0])\n",
    "#file must be a google sheets, not a normal xlsx uploaded to gdrive\n",
    "#file to be uploaded is customer_df(gender)"
   ]
  },
  {
   "cell_type": "code",
   "execution_count": null,
   "metadata": {
    "ExecuteTime": {
     "end_time": "2020-11-24T16:13:14.074203Z",
     "start_time": "2020-11-24T16:13:01.984548Z"
    }
   },
   "outputs": [],
   "source": [
    "#Perform Exploratory Data Analysis in just one line of code\n",
    "pandas_profiling.ProfileReport(churn_dataset)"
   ]
  },
  {
   "cell_type": "code",
   "execution_count": null,
   "metadata": {
    "ExecuteTime": {
     "end_time": "2020-11-24T16:13:14.089163Z",
     "start_time": "2020-11-24T16:13:14.075200Z"
    }
   },
   "outputs": [],
   "source": [
    "# Number of Columns and Rows in the Dataset\n",
    "churn_dataset.shape"
   ]
  },
  {
   "cell_type": "code",
   "execution_count": null,
   "metadata": {
    "ExecuteTime": {
     "end_time": "2020-11-24T16:13:14.120113Z",
     "start_time": "2020-11-24T16:13:14.090161Z"
    }
   },
   "outputs": [],
   "source": [
    "churn_dataset.head()"
   ]
  },
  {
   "cell_type": "code",
   "execution_count": null,
   "metadata": {
    "ExecuteTime": {
     "end_time": "2020-11-24T16:13:14.136038Z",
     "start_time": "2020-11-24T16:13:14.121077Z"
    }
   },
   "outputs": [],
   "source": [
    "churn_dataset.columns"
   ]
  },
  {
   "cell_type": "code",
   "execution_count": null,
   "metadata": {
    "ExecuteTime": {
     "end_time": "2020-11-24T16:13:14.151995Z",
     "start_time": "2020-11-24T16:13:14.138033Z"
    }
   },
   "outputs": [],
   "source": [
    "churn_dataset.drop(columns=[''],inplace=True)"
   ]
  },
  {
   "cell_type": "code",
   "execution_count": null,
   "metadata": {
    "ExecuteTime": {
     "end_time": "2020-11-24T16:14:22.743686Z",
     "start_time": "2020-11-24T16:14:22.485381Z"
    }
   },
   "outputs": [],
   "source": [
    "cols = ['order_count','purchase_quantity','number_of_channels','number_of_discount_codes','net_sales',\n",
    "        'average_order_value','last_purchase_in_days','number_of_product_variants']\n",
    "churn_dataset[cols] = churn_dataset[cols].apply(pd.to_numeric, errors='coerce', axis=1)\n",
    "\n",
    "churn_dataset.dtypes"
   ]
  },
  {
   "cell_type": "code",
   "execution_count": null,
   "metadata": {
    "ExecuteTime": {
     "end_time": "2020-11-24T16:14:34.506240Z",
     "start_time": "2020-11-24T16:14:34.487254Z"
    }
   },
   "outputs": [],
   "source": [
    "churn_dataset['earliest_transaction_date']=pd.to_datetime(churn_dataset['earliest_transaction_date'])\n",
    "churn_dataset['last_transaction_date']=pd.to_datetime(churn_dataset['last_transaction_date'])"
   ]
  },
  {
   "cell_type": "markdown",
   "metadata": {},
   "source": [
    "## Data Wrangling"
   ]
  },
  {
   "cell_type": "code",
   "execution_count": null,
   "metadata": {
    "ExecuteTime": {
     "end_time": "2020-11-24T16:14:47.153698Z",
     "start_time": "2020-11-24T16:14:47.135746Z"
    }
   },
   "outputs": [],
   "source": [
    "churn_dataset = churn_dataset.loc[churn_dataset['Churn']!='Too Early to Identify']\n",
    "len(churn_dataset)"
   ]
  },
  {
   "cell_type": "code",
   "execution_count": null,
   "metadata": {
    "ExecuteTime": {
     "end_time": "2020-11-24T16:15:16.626699Z",
     "start_time": "2020-11-24T16:15:16.613735Z"
    }
   },
   "outputs": [],
   "source": [
    "churn_dataset = churn_dataset.loc[churn_dataset['Churn']!='Sample-Taker']\n",
    "len(churn_dataset)"
   ]
  },
  {
   "cell_type": "code",
   "execution_count": null,
   "metadata": {
    "ExecuteTime": {
     "end_time": "2020-11-24T16:15:17.340725Z",
     "start_time": "2020-11-24T16:15:17.321802Z"
    }
   },
   "outputs": [],
   "source": [
    "churn_dataset.columns"
   ]
  },
  {
   "cell_type": "code",
   "execution_count": null,
   "metadata": {
    "ExecuteTime": {
     "end_time": "2020-11-24T16:15:20.274875Z",
     "start_time": "2020-11-24T16:15:20.256918Z"
    }
   },
   "outputs": [],
   "source": [
    "# Convert String values (Churned and Survived) of Churn column to 1 and 0\n",
    "churn_dataset.loc[churn_dataset.Churn=='Churned','Churn'] = 1 \n",
    "churn_dataset.loc[churn_dataset.Churn=='Survived','Churn'] = 0 "
   ]
  },
  {
   "cell_type": "code",
   "execution_count": null,
   "metadata": {
    "ExecuteTime": {
     "end_time": "2020-11-24T16:15:21.804962Z",
     "start_time": "2020-11-24T16:15:21.786977Z"
    }
   },
   "outputs": [],
   "source": [
    "# Convert String values (Male and Female) of gender column to 1 and 0\n",
    "churn_dataset.loc[churn_dataset.gender=='Male','gender'] = 1 \n",
    "churn_dataset.loc[churn_dataset.gender=='Female','gender'] = 0 "
   ]
  },
  {
   "cell_type": "code",
   "execution_count": null,
   "metadata": {
    "ExecuteTime": {
     "end_time": "2020-11-24T16:15:36.652161Z",
     "start_time": "2020-11-24T16:15:36.638199Z"
    }
   },
   "outputs": [],
   "source": [
    "#drop columns not useful for churn prediction\n",
    "churn_dataset.drop(columns=['postal_code','earliest_transaction_date',\n",
    "                           'last_transaction_date','customer_group',\n",
    "                           'channel','discount_code',''],inplace=True)"
   ]
  },
  {
   "cell_type": "code",
   "execution_count": null,
   "metadata": {
    "ExecuteTime": {
     "end_time": "2020-11-24T16:16:36.455405Z",
     "start_time": "2020-11-24T16:16:36.436421Z"
    }
   },
   "outputs": [],
   "source": [
    "#drop columns not useful for churn prediction\n",
    "churn_dataset.drop(columns=['channel','discount_code','product_variant',\n",
    "                           ],inplace=True)"
   ]
  },
  {
   "cell_type": "code",
   "execution_count": null,
   "metadata": {
    "ExecuteTime": {
     "end_time": "2020-11-24T16:16:37.739169Z",
     "start_time": "2020-11-24T16:16:37.732190Z"
    },
    "scrolled": true
   },
   "outputs": [],
   "source": [
    "churn_dataset.columns"
   ]
  },
  {
   "cell_type": "code",
   "execution_count": null,
   "metadata": {
    "ExecuteTime": {
     "end_time": "2020-11-24T16:16:39.031916Z",
     "start_time": "2020-11-24T16:16:39.007981Z"
    }
   },
   "outputs": [],
   "source": [
    "churn_dataset.head()"
   ]
  },
  {
   "cell_type": "code",
   "execution_count": null,
   "metadata": {
    "ExecuteTime": {
     "end_time": "2020-11-24T16:16:41.708614Z",
     "start_time": "2020-11-24T16:16:41.689665Z"
    }
   },
   "outputs": [],
   "source": [
    "churn_dataset.isnull().sum()"
   ]
  },
  {
   "cell_type": "code",
   "execution_count": null,
   "metadata": {
    "ExecuteTime": {
     "end_time": "2020-11-24T16:16:43.591471Z",
     "start_time": "2020-11-24T16:16:43.579503Z"
    }
   },
   "outputs": [],
   "source": [
    "churn_dataset.order_count.unique()"
   ]
  },
  {
   "cell_type": "code",
   "execution_count": null,
   "metadata": {
    "ExecuteTime": {
     "end_time": "2020-11-24T16:17:41.062579Z",
     "start_time": "2020-11-24T16:17:40.838200Z"
    }
   },
   "outputs": [],
   "source": [
    "churn_dataset[['order_count','purchase_quantity','number_of_channels']].hist();"
   ]
  },
  {
   "cell_type": "code",
   "execution_count": null,
   "metadata": {
    "ExecuteTime": {
     "end_time": "2020-11-24T16:17:52.889033Z",
     "start_time": "2020-11-24T16:17:52.655661Z"
    }
   },
   "outputs": [],
   "source": [
    "churn_dataset[[\n",
    "    'number_of_discount_codes','number_of_product_variants',\n",
    "              'last_purchase_in_days']].hist();"
   ]
  },
  {
   "cell_type": "code",
   "execution_count": null,
   "metadata": {
    "ExecuteTime": {
     "end_time": "2020-11-24T16:18:57.063365Z",
     "start_time": "2020-11-24T16:18:57.056375Z"
    }
   },
   "outputs": [],
   "source": [
    "top_10_cities = churn_dataset.city.value_counts()[:10].index.tolist()\n",
    "churn_dataset.loc[~churn_dataset['city'].isin(top_10_cities), 'city']='Others'"
   ]
  },
  {
   "cell_type": "code",
   "execution_count": null,
   "metadata": {
    "ExecuteTime": {
     "end_time": "2020-11-24T16:18:57.532030Z",
     "start_time": "2020-11-24T16:18:57.515500Z"
    }
   },
   "outputs": [],
   "source": [
    "churn_dataset.country.value_counts()"
   ]
  },
  {
   "cell_type": "code",
   "execution_count": null,
   "metadata": {
    "ExecuteTime": {
     "end_time": "2020-11-24T16:19:04.986462Z",
     "start_time": "2020-11-24T16:19:04.966915Z"
    }
   },
   "outputs": [],
   "source": [
    "top_9_countries = churn_dataset.country.value_counts()[:9].index.tolist()\n",
    "churn_dataset.loc[~churn_dataset['country'].isin(top_9_countries), 'country']='Others'"
   ]
  },
  {
   "cell_type": "code",
   "execution_count": null,
   "metadata": {
    "ExecuteTime": {
     "end_time": "2020-11-24T16:19:05.579280Z",
     "start_time": "2020-11-24T16:19:05.557306Z"
    }
   },
   "outputs": [],
   "source": [
    "churn_dataset.country.value_counts()"
   ]
  },
  {
   "cell_type": "code",
   "execution_count": null,
   "metadata": {
    "ExecuteTime": {
     "end_time": "2020-11-24T16:19:07.299363Z",
     "start_time": "2020-11-24T16:19:07.281380Z"
    },
    "scrolled": true
   },
   "outputs": [],
   "source": [
    "churn_dataset.dtypes"
   ]
  },
  {
   "cell_type": "code",
   "execution_count": null,
   "metadata": {
    "ExecuteTime": {
     "end_time": "2020-11-24T16:19:13.954793Z",
     "start_time": "2020-11-24T16:19:13.945817Z"
    }
   },
   "outputs": [],
   "source": [
    "churn_dataset['Churn'].value_counts()"
   ]
  },
  {
   "cell_type": "code",
   "execution_count": null,
   "metadata": {
    "ExecuteTime": {
     "end_time": "2020-11-24T16:19:14.660154Z",
     "start_time": "2020-11-24T16:19:14.641205Z"
    }
   },
   "outputs": [],
   "source": [
    "churn_dataset['gender'] = churn_dataset['gender'].astype(int)\n",
    "churn_dataset['Churn'] = churn_dataset['Churn'].astype(int)\n",
    "churn_dataset.dtypes"
   ]
  },
  {
   "cell_type": "code",
   "execution_count": null,
   "metadata": {
    "ExecuteTime": {
     "end_time": "2020-11-24T16:19:49.870675Z",
     "start_time": "2020-11-24T16:19:49.851728Z"
    }
   },
   "outputs": [],
   "source": [
    "churn_dataset.drop(columns='order_name',inplace=True)"
   ]
  },
  {
   "cell_type": "code",
   "execution_count": null,
   "metadata": {
    "ExecuteTime": {
     "end_time": "2020-11-24T16:20:12.171079Z",
     "start_time": "2020-11-24T16:20:12.160134Z"
    }
   },
   "outputs": [],
   "source": [
    "churn_dataset[\"Churn\"].value_counts().values"
   ]
  },
  {
   "cell_type": "code",
   "execution_count": null,
   "metadata": {
    "ExecuteTime": {
     "end_time": "2020-11-24T16:20:16.079975Z",
     "start_time": "2020-11-24T16:20:16.060999Z"
    }
   },
   "outputs": [],
   "source": [
    "# Visualize Total Customer Churn\n",
    "plot_by_churn_labels = churn_dataset[\"Churn\"].value_counts().keys().tolist()\n",
    "plot_by_churn_values = churn_dataset[\"Churn\"].value_counts().values.tolist()"
   ]
  },
  {
   "cell_type": "code",
   "execution_count": null,
   "metadata": {
    "ExecuteTime": {
     "end_time": "2020-11-24T16:20:16.476936Z",
     "start_time": "2020-11-24T16:20:16.471981Z"
    }
   },
   "outputs": [],
   "source": [
    "print(plot_by_churn_labels)\n",
    "print(plot_by_churn_values)"
   ]
  },
  {
   "cell_type": "code",
   "execution_count": null,
   "metadata": {
    "ExecuteTime": {
     "end_time": "2020-11-24T16:20:16.959254Z",
     "start_time": "2020-11-24T16:20:16.946291Z"
    }
   },
   "outputs": [],
   "source": [
    "churn_dataset.Churn.value_counts(normalize=True) #if we leave out the new purchase, 87% churn"
   ]
  },
  {
   "cell_type": "code",
   "execution_count": null,
   "metadata": {
    "ExecuteTime": {
     "end_time": "2020-11-24T16:20:17.384786Z",
     "start_time": "2020-11-24T16:20:17.354868Z"
    }
   },
   "outputs": [],
   "source": [
    "churn_dataset"
   ]
  },
  {
   "cell_type": "markdown",
   "metadata": {},
   "source": [
    "# Exploratory Data Analysis"
   ]
  },
  {
   "cell_type": "code",
   "execution_count": null,
   "metadata": {
    "ExecuteTime": {
     "end_time": "2020-11-24T16:20:20.932532Z",
     "start_time": "2020-11-24T16:20:18.328752Z"
    },
    "scrolled": true
   },
   "outputs": [],
   "source": [
    "plot_data= [\n",
    "    go.Pie(labels = plot_by_churn_labels,\n",
    "           values = plot_by_churn_values,\n",
    "           marker = dict(colors =  [ 'Teal' ,'Grey'],\n",
    "                         line = dict(color = \"white\",\n",
    "                                     width =  1.5)),\n",
    "           rotation = 90,\n",
    "           hoverinfo = \"label+value+text\",\n",
    "           hole = .6)\n",
    "]\n",
    "plot_layout = go.Layout(dict(title = \"Customer Churn\",\n",
    "                   plot_bgcolor  = \"rgb(243,243,243)\",\n",
    "                   paper_bgcolor = \"rgb(243,243,243)\",))\n",
    "\n",
    "\n",
    "fig = go.Figure(data=plot_data, layout=plot_layout)\n",
    "po.iplot(fig)"
   ]
  },
  {
   "cell_type": "code",
   "execution_count": null,
   "metadata": {
    "ExecuteTime": {
     "end_time": "2020-11-24T16:20:20.979378Z",
     "start_time": "2020-11-24T16:20:20.933499Z"
    }
   },
   "outputs": [],
   "source": [
    "# Visualize Churn Rate by Gender\n",
    "plot_by_gender = churn_dataset.groupby('gender').Churn.mean().reset_index()\n",
    "plot_data = [\n",
    "    go.Bar(\n",
    "        x=['Female','Male'],\n",
    "        #x=plot_by_gender['gender'],\n",
    "        y=plot_by_gender['Churn'],\n",
    "        width = [0.3, 0.3],\n",
    "        marker=dict(\n",
    "        color=['orange', 'green'])\n",
    "    )\n",
    "]\n",
    "plot_layout = go.Layout(\n",
    "        xaxis={\"type\": \"category\"},\n",
    "        yaxis={\"title\": \"Churn Rate\"},\n",
    "        title='Churn Rate by Gender',\n",
    "        plot_bgcolor  = 'rgb(243,243,243)',\n",
    "        paper_bgcolor  = 'rgb(243,243,243)',\n",
    "    )\n",
    "fig = go.Figure(data=plot_data, layout=plot_layout)\n",
    "po.iplot(fig)\n"
   ]
  },
  {
   "cell_type": "code",
   "execution_count": null,
   "metadata": {
    "ExecuteTime": {
     "end_time": "2020-11-24T16:21:10.306004Z",
     "start_time": "2020-11-24T16:21:10.267115Z"
    }
   },
   "outputs": [],
   "source": [
    "# Visualize Churn Rate by Referrer Channel\n",
    "plot_by_techsupport = churn_dataset.groupby('number_of_channels').Churn.mean().reset_index()\n",
    "plot_data = [\n",
    "    go.Bar(\n",
    "        x=plot_by_techsupport['number_of_channels'],\n",
    "        y=plot_by_techsupport['Churn'],\n",
    "        width = [0.3, 0.3, 0.3],\n",
    "        marker=dict(\n",
    "        color=['orange', 'green', 'teal','aquamarine','purple','blanchedalmond',\n",
    "               'darkgreen','cornflowerblue','indigo','lightcyan','sandybrown'])\n",
    "    )\n",
    "]\n",
    "plot_layout = go.Layout(\n",
    "        xaxis={\"type\": \"category\"},\n",
    "        yaxis={\"title\": \"Churn Rate\"},\n",
    "        title='Churn Rate by Channel',\n",
    "        plot_bgcolor  = 'rgb(243,243,243)',\n",
    "        paper_bgcolor  = 'rgb(243,243,243)',\n",
    "    )\n",
    "fig = go.Figure(data=plot_data, layout=plot_layout)\n",
    "po.iplot(fig)"
   ]
  },
  {
   "cell_type": "code",
   "execution_count": null,
   "metadata": {
    "ExecuteTime": {
     "end_time": "2020-11-24T16:21:26.920606Z",
     "start_time": "2020-11-24T16:21:26.887719Z"
    }
   },
   "outputs": [],
   "source": [
    "# Visualize Churn Rate by Last Purchase in Days\n",
    "plot_by_internet_service = churn_dataset.groupby('last_purchase_in_days').Churn.mean().reset_index()\n",
    "plot_data = [\n",
    "    go.Bar(\n",
    "        x=plot_by_internet_service['last_purchase_in_days'],\n",
    "        y=plot_by_internet_service['Churn'],\n",
    "        width = [0.3, 0.3, 0.3],\n",
    "        marker=dict(\n",
    "        color=['orange', 'green', 'teal'])\n",
    "    )\n",
    "]\n",
    "plot_layout = go.Layout(\n",
    "        xaxis={\"type\": \"category\"},\n",
    "        yaxis={\"title\": \"Churn Rate\"},\n",
    "        title='Churn Rate by Last Purchase in Days',\n",
    "        plot_bgcolor  = 'rgb(243,243,243)',\n",
    "        paper_bgcolor  = 'rgb(243,243,243)',\n",
    "    )\n",
    "fig = go.Figure(data=plot_data, layout=plot_layout)\n",
    "po.iplot(fig)\n"
   ]
  },
  {
   "cell_type": "code",
   "execution_count": null,
   "metadata": {
    "ExecuteTime": {
     "end_time": "2020-11-24T16:21:39.255269Z",
     "start_time": "2020-11-24T16:21:39.222359Z"
    }
   },
   "outputs": [],
   "source": [
    "# Visualize Churn Rate by Order Count\n",
    "plot_by_order_count = churn_dataset.groupby('order_count').Churn.mean().reset_index()\n",
    "plot_data = [\n",
    "    go.Bar(\n",
    "        x=plot_by_order_count['order_count'],\n",
    "        y=plot_by_order_count['Churn'],\n",
    "        width = [0.3, 0.3,0.3,0.3],\n",
    "        marker=dict(\n",
    "        color=['orange', 'green','teal','magenta'])\n",
    "    )\n",
    "]\n",
    "plot_layout = go.Layout(\n",
    "        xaxis={\"type\": \"category\"},\n",
    "        yaxis={\"title\": \"Churn Rate\"},\n",
    "        title='Churn Rate by Order Count',\n",
    "        plot_bgcolor  = 'rgb(243,243,243)',\n",
    "        paper_bgcolor  = 'rgb(243,243,243)',\n",
    "    )\n",
    "fig = go.Figure(data=plot_data, layout=plot_layout)\n",
    "po.iplot(fig)\n"
   ]
  },
  {
   "cell_type": "code",
   "execution_count": null,
   "metadata": {
    "ExecuteTime": {
     "end_time": "2020-11-24T16:21:45.446065Z",
     "start_time": "2020-11-24T16:21:45.409181Z"
    }
   },
   "outputs": [],
   "source": [
    "# Visualize Churn Rate by purchase_quantity Duration\n",
    "plot_by_purchase_quantity = churn_dataset.groupby('purchase_quantity').Churn.mean().reset_index()\n",
    "plot_data = [\n",
    "    go.Bar(\n",
    "        x=plot_by_purchase_quantity['purchase_quantity'],\n",
    "        y=plot_by_purchase_quantity['Churn'],\n",
    "        width = [0.3, 0.3,0.3],\n",
    "        marker=dict(\n",
    "        color=['orange', 'green','teal'])\n",
    "    )\n",
    "]\n",
    "plot_layout = go.Layout(\n",
    "        xaxis={\"type\": \"category\"},\n",
    "        yaxis={\"title\": \"Churn Rate\"},\n",
    "        title='Churn Rate by purchase_quantity Duration',\n",
    "        plot_bgcolor  = 'rgb(243,243,243)',\n",
    "        paper_bgcolor  = 'rgb(243,243,243)',\n",
    "    )\n",
    "fig = go.Figure(data=plot_data, layout=plot_layout)\n",
    "po.iplot(fig)\n"
   ]
  },
  {
   "cell_type": "code",
   "execution_count": null,
   "metadata": {
    "ExecuteTime": {
     "end_time": "2020-11-24T16:22:04.930083Z",
     "start_time": "2020-11-24T16:22:04.892739Z"
    }
   },
   "outputs": [],
   "source": [
    "# Visualize Relation between Number of Discount Code Used\n",
    "plot_by_discount_code_used = churn_dataset.groupby('number_of_discount_codes').Churn.mean().reset_index()\n",
    "plot_data = [\n",
    "    go.Scatter(\n",
    "        x=plot_by_discount_code_used['number_of_discount_codes'],\n",
    "        y=plot_by_discount_code_used['Churn'],\n",
    "        mode='markers',\n",
    "        name='Low',\n",
    "        marker= dict(size= 5,\n",
    "            line= dict(width=0.8),\n",
    "            color= 'green'\n",
    "           ),\n",
    "    )\n",
    "]\n",
    "plot_layout = go.Layout(\n",
    "        yaxis= {'title': \"Churn Rate\"},\n",
    "        xaxis= {'title': \"discount_code_used\"},\n",
    "        title='Relation between discount_code_used & Churn Rate',\n",
    "        plot_bgcolor  = \"rgb(243,243,243)\",\n",
    "        paper_bgcolor  = \"rgb(243,243,243)\",\n",
    "    )\n",
    "fig = go.Figure(data=plot_data, layout=plot_layout)\n",
    "po.iplot(fig)\n"
   ]
  },
  {
   "cell_type": "code",
   "execution_count": null,
   "metadata": {
    "ExecuteTime": {
     "end_time": "2020-11-24T16:23:40.071362Z",
     "start_time": "2020-11-24T16:23:40.034488Z"
    }
   },
   "outputs": [],
   "source": [
    "# Visualize Relation between Number of Discount Code Used\n",
    "plot_by_discount_code_used = churn_dataset.groupby('number_of_product_variants').Churn.mean().reset_index()\n",
    "plot_data = [\n",
    "    go.Scatter(\n",
    "        x=plot_by_discount_code_used['number_of_product_variants'],\n",
    "        y=plot_by_discount_code_used['Churn'],\n",
    "        mode='markers',\n",
    "        name='Low',\n",
    "        marker= dict(size= 5,\n",
    "            line= dict(width=0.8),\n",
    "            color= 'green'\n",
    "           ),\n",
    "    )\n",
    "]\n",
    "plot_layout = go.Layout(\n",
    "        yaxis= {'title': \"Churn Rate\"},\n",
    "        xaxis= {'title': \"number of product variants\"},\n",
    "        title='Relation between number of product variants & Churn Rate',\n",
    "        plot_bgcolor  = \"rgb(243,243,243)\",\n",
    "        paper_bgcolor  = \"rgb(243,243,243)\",\n",
    "    )\n",
    "fig = go.Figure(data=plot_data, layout=plot_layout)\n",
    "po.iplot(fig)\n"
   ]
  },
  {
   "cell_type": "code",
   "execution_count": null,
   "metadata": {
    "ExecuteTime": {
     "end_time": "2020-11-24T16:22:22.834211Z",
     "start_time": "2020-11-24T16:22:22.800046Z"
    }
   },
   "outputs": [],
   "source": [
    "# Visualize Relation between AOV and Churn\n",
    "plot_by_average_order_value = churn_dataset.groupby('average_order_value').Churn.mean().reset_index()\n",
    "plot_data = [\n",
    "    go.Scatter(\n",
    "        x=plot_by_average_order_value['average_order_value'],\n",
    "        y=plot_by_average_order_value['Churn'],\n",
    "        mode='markers',\n",
    "        name='Low',\n",
    "        marker= dict(size= 5,\n",
    "            line= dict(width=0.8),\n",
    "            color= 'green'\n",
    "           ),\n",
    "    )\n",
    "]\n",
    "plot_layout = go.Layout(\n",
    "        yaxis= {'title': \"Churn Rate\"},\n",
    "        xaxis= {'title': \"average_order_value\"},\n",
    "        title='Relation between average_order_value & Churn Rate',\n",
    "        plot_bgcolor  = \"rgb(243,243,243)\",\n",
    "        paper_bgcolor  = \"rgb(243,243,243)\",\n",
    "    )\n",
    "fig = go.Figure(data=plot_data, layout=plot_layout)\n",
    "po.iplot(fig)\n"
   ]
  },
  {
   "cell_type": "code",
   "execution_count": null,
   "metadata": {
    "ExecuteTime": {
     "end_time": "2020-11-24T16:22:30.720486Z",
     "start_time": "2020-11-24T16:22:30.693563Z"
    }
   },
   "outputs": [],
   "source": [
    "# Visualize Relation between AOV and Churn\n",
    "plot_by_net_sales = churn_dataset.groupby('net_sales').Churn.mean().reset_index()\n",
    "plot_data = [\n",
    "    go.Scatter(\n",
    "        x=plot_by_net_sales['net_sales'],\n",
    "        y=plot_by_net_sales['Churn'],\n",
    "        mode='markers',\n",
    "        name='Low',\n",
    "        marker= dict(size= 5,\n",
    "            line= dict(width=0.8),\n",
    "            color= 'green'\n",
    "           ),\n",
    "    )\n",
    "]\n",
    "plot_layout = go.Layout(\n",
    "        yaxis= {'title': \"Churn Rate\"},\n",
    "        xaxis= {'title': \"net_sales\"},\n",
    "        title='Relation between net_sales & Churn Rate',\n",
    "        plot_bgcolor  = \"rgb(243,243,243)\",\n",
    "        paper_bgcolor  = \"rgb(243,243,243)\",\n",
    "    )\n",
    "fig = go.Figure(data=plot_data, layout=plot_layout)\n",
    "po.iplot(fig)\n"
   ]
  },
  {
   "cell_type": "markdown",
   "metadata": {},
   "source": [
    "The customers who spend over 200€ in net sales are less likely to churn."
   ]
  },
  {
   "cell_type": "markdown",
   "metadata": {},
   "source": [
    "# Machine Learning on Churn Dataset"
   ]
  },
  {
   "cell_type": "markdown",
   "metadata": {},
   "source": [
    "## Import libraries"
   ]
  },
  {
   "cell_type": "code",
   "execution_count": null,
   "metadata": {
    "ExecuteTime": {
     "end_time": "2020-11-24T16:23:58.804623Z",
     "start_time": "2020-11-24T16:23:58.615359Z"
    }
   },
   "outputs": [],
   "source": [
    "# Machine Learning classification model libraries\n",
    "from sklearn.linear_model import LogisticRegression\n",
    "from sklearn.neighbors import KNeighborsClassifier\n",
    "from sklearn.svm import SVC\n",
    "from sklearn.tree import DecisionTreeClassifier\n",
    "from sklearn.ensemble import RandomForestClassifier\n",
    "from sklearn import metrics"
   ]
  },
  {
   "cell_type": "code",
   "execution_count": null,
   "metadata": {
    "ExecuteTime": {
     "end_time": "2020-11-24T16:23:58.991806Z",
     "start_time": "2020-11-24T16:23:58.972819Z"
    }
   },
   "outputs": [],
   "source": [
    "churn_dataset.dtypes"
   ]
  },
  {
   "cell_type": "code",
   "execution_count": null,
   "metadata": {
    "ExecuteTime": {
     "end_time": "2020-11-24T16:23:59.560640Z",
     "start_time": "2020-11-24T16:23:59.550630Z"
    }
   },
   "outputs": [],
   "source": [
    "#Perform One Hot Encoding using get_dummies method\n",
    "churn_dataset = pd.get_dummies(churn_dataset, columns = ['customer_group','country','city'],\n",
    "                              drop_first=True)"
   ]
  },
  {
   "cell_type": "code",
   "execution_count": null,
   "metadata": {
    "ExecuteTime": {
     "end_time": "2020-11-24T16:24:00.350212Z",
     "start_time": "2020-11-24T16:24:00.336262Z"
    }
   },
   "outputs": [],
   "source": [
    "print(len(churn_dataset.columns))"
   ]
  },
  {
   "cell_type": "code",
   "execution_count": null,
   "metadata": {
    "ExecuteTime": {
     "end_time": "2020-11-24T16:24:24.410764Z",
     "start_time": "2020-11-24T16:24:24.403827Z"
    }
   },
   "outputs": [],
   "source": [
    "churn_dataset.columns"
   ]
  },
  {
   "cell_type": "code",
   "execution_count": null,
   "metadata": {
    "ExecuteTime": {
     "end_time": "2020-11-24T16:24:54.301907Z",
     "start_time": "2020-11-24T16:24:54.278940Z"
    }
   },
   "outputs": [],
   "source": [
    "#Perform Feature Scaling and One Hot Encoding\n",
    "from sklearn.preprocessing import StandardScaler\n",
    "\n",
    "#Perform Feature Scaling on numerical columns with large range in order to bring them on same scale\n",
    "standardScaler = StandardScaler()\n",
    "columns_for_ft_scaling = ['last_purchase_in_days','order_count','number_of_discount_codes',\n",
    "                          'number_of_product_variants','purchase_quantity','number_of_channels',\n",
    "                          'average_order_value','net_sales']\n",
    "\n",
    "#Apply the feature scaling operation on dataset using fit_transform() method\n",
    "churn_dataset[columns_for_ft_scaling] = standardScaler.fit_transform(churn_dataset[columns_for_ft_scaling])\n"
   ]
  },
  {
   "cell_type": "code",
   "execution_count": null,
   "metadata": {
    "ExecuteTime": {
     "end_time": "2020-11-24T16:24:56.032573Z",
     "start_time": "2020-11-24T16:24:56.005617Z"
    }
   },
   "outputs": [],
   "source": [
    "# See subset of values\n",
    "churn_dataset.head(5)"
   ]
  },
  {
   "cell_type": "code",
   "execution_count": null,
   "metadata": {
    "ExecuteTime": {
     "end_time": "2020-11-24T16:25:06.728170Z",
     "start_time": "2020-11-24T16:25:06.714234Z"
    }
   },
   "outputs": [],
   "source": [
    "#Number of columns increased and have suffixes attached, as a result of get_dummies method.\n",
    "churn_dataset.columns"
   ]
  },
  {
   "cell_type": "markdown",
   "metadata": {},
   "source": [
    "## Create features"
   ]
  },
  {
   "cell_type": "markdown",
   "metadata": {},
   "source": [
    "As the column churn is made based on last purchase in days, we need to drop it. Otherwise, feature importance will show it as the most predictive feature."
   ]
  },
  {
   "cell_type": "code",
   "execution_count": null,
   "metadata": {
    "ExecuteTime": {
     "end_time": "2020-11-24T16:25:18.048133Z",
     "start_time": "2020-11-24T16:25:18.032136Z"
    }
   },
   "outputs": [],
   "source": [
    "#Create Feature variable X and Target variable y\n",
    "y = churn_dataset['Churn']\n",
    "X = churn_dataset.drop(['Churn','customer_name','last_purchase_in_days'], axis = 1)"
   ]
  },
  {
   "cell_type": "markdown",
   "metadata": {},
   "source": [
    "## Split data into training and test set"
   ]
  },
  {
   "cell_type": "code",
   "execution_count": null,
   "metadata": {
    "ExecuteTime": {
     "end_time": "2020-11-24T16:25:19.427210Z",
     "start_time": "2020-11-24T16:25:19.420247Z"
    }
   },
   "outputs": [],
   "source": [
    "#Split the data into training set (80%) and test set (20%)\n",
    "from sklearn.model_selection import train_test_split\n",
    "X_train, X_test, y_train, y_test = train_test_split(X, y, test_size = 0.20, random_state = 77)"
   ]
  },
  {
   "cell_type": "markdown",
   "metadata": {},
   "source": [
    "# Logistic Regression Model"
   ]
  },
  {
   "cell_type": "code",
   "execution_count": null,
   "metadata": {
    "ExecuteTime": {
     "end_time": "2020-11-24T16:25:21.120669Z",
     "start_time": "2020-11-24T16:25:21.074791Z"
    }
   },
   "outputs": [],
   "source": [
    "#Fit the logistic Regression Model\n",
    "logmodel = LogisticRegression(random_state=77)\n",
    "logmodel.fit(X_train,y_train)\n",
    "\n",
    "#Predict the value for new, unseen data\n",
    "pred = logmodel.predict(X_test)\n",
    "\n",
    "# Find Accuracy using accuracy_score method\n",
    "logmodel_accuracy = round(metrics.roc_auc_score(y_test, pred) * 100, 2)\n",
    "print(logmodel_accuracy)"
   ]
  },
  {
   "cell_type": "code",
   "execution_count": null,
   "metadata": {
    "ExecuteTime": {
     "end_time": "2020-11-24T16:25:24.674993Z",
     "start_time": "2020-11-24T16:25:24.659064Z"
    }
   },
   "outputs": [],
   "source": [
    "#Generate confusion matrix\n",
    "from sklearn.metrics import confusion_matrix\n",
    "conf_mat_logmodel = confusion_matrix(y_test,pred)\n",
    "conf_mat_logmodel"
   ]
  },
  {
   "cell_type": "markdown",
   "metadata": {},
   "source": [
    "# SVM Model"
   ]
  },
  {
   "cell_type": "code",
   "execution_count": null,
   "metadata": {
    "ExecuteTime": {
     "end_time": "2020-11-24T16:25:26.897803Z",
     "start_time": "2020-11-24T16:25:26.784887Z"
    }
   },
   "outputs": [],
   "source": [
    "#Fit the Support Vector Machine Model\n",
    "svcmodel = SVC(kernel='linear', random_state=77, probability=True)\n",
    "svcmodel.fit(X_train,y_train)\n",
    "\n",
    "#Predict the value for new, unseen data\n",
    "svc_pred = svcmodel.predict(X_test)\n",
    "\n",
    "# Find Accuracy using accuracy_score method\n",
    "svc_accuracy = round(metrics.roc_auc_score(y_test, svc_pred) * 100, 2)\n",
    "print(svc_accuracy)"
   ]
  },
  {
   "cell_type": "code",
   "execution_count": null,
   "metadata": {
    "ExecuteTime": {
     "end_time": "2020-11-24T16:25:31.083369Z",
     "start_time": "2020-11-24T16:25:31.071389Z"
    }
   },
   "outputs": [],
   "source": [
    "#Generate confusion matrix\n",
    "from sklearn.metrics import confusion_matrix\n",
    "conf_mat_logmodel = confusion_matrix(y_test,pred)\n",
    "conf_mat_logmodel"
   ]
  },
  {
   "cell_type": "markdown",
   "metadata": {},
   "source": [
    "# KNN Model"
   ]
  },
  {
   "cell_type": "code",
   "execution_count": null,
   "metadata": {
    "ExecuteTime": {
     "end_time": "2020-11-24T16:25:32.647965Z",
     "start_time": "2020-11-24T16:25:32.599064Z"
    }
   },
   "outputs": [],
   "source": [
    "#Fit the K-Nearest Neighbor Model\n",
    "from sklearn.neighbors import KNeighborsClassifier\n",
    "knnmodel = KNeighborsClassifier(n_neighbors=5, metric='minkowski', p=2) #p=2 represents Euclidean distance, p=1 represents Manhattan Distance\n",
    "knnmodel.fit(X_train, y_train) \n",
    "  \n",
    "#Predict the value for new, unseen data\n",
    "knn_pred = knnmodel.predict(X_test)\n",
    "\n",
    "# Find Accuracy using accuracy_score method\n",
    "knn_accuracy = round(metrics.roc_auc_score(y_test, knn_pred) * 100, 2)\n",
    "print(knn_accuracy)"
   ]
  },
  {
   "cell_type": "code",
   "execution_count": null,
   "metadata": {
    "ExecuteTime": {
     "end_time": "2020-11-24T16:25:33.400412Z",
     "start_time": "2020-11-24T16:25:33.385461Z"
    }
   },
   "outputs": [],
   "source": [
    "#Generate confusion matrix\n",
    "from sklearn.metrics import confusion_matrix\n",
    "conf_mat_logmodel = confusion_matrix(y_test,pred)\n",
    "conf_mat_logmodel"
   ]
  },
  {
   "cell_type": "markdown",
   "metadata": {},
   "source": [
    "# Decision Tree"
   ]
  },
  {
   "cell_type": "code",
   "execution_count": null,
   "metadata": {
    "ExecuteTime": {
     "end_time": "2020-11-24T16:25:34.947409Z",
     "start_time": "2020-11-24T16:25:34.927470Z"
    }
   },
   "outputs": [],
   "source": [
    "#Fit the Decision Tree Classification Model\n",
    "from sklearn.tree import DecisionTreeClassifier\n",
    "dtmodel = DecisionTreeClassifier(criterion = \"gini\", random_state = 50)\n",
    "dtmodel.fit(X_train, y_train) \n",
    "  \n",
    "#Predict the value for new, unseen data\n",
    "dt_pred = dtmodel.predict(X_test)\n",
    "\n",
    "# Find Accuracy using accuracy_score method\n",
    "dt_accuracy = round(metrics.roc_auc_score(y_test, dt_pred) * 100, 2)\n",
    "print(dt_accuracy)"
   ]
  },
  {
   "cell_type": "code",
   "execution_count": null,
   "metadata": {
    "ExecuteTime": {
     "end_time": "2020-11-24T16:25:35.751257Z",
     "start_time": "2020-11-24T16:25:35.730832Z"
    }
   },
   "outputs": [],
   "source": [
    "#Generate confusion matrix\n",
    "from sklearn.metrics import confusion_matrix\n",
    "conf_mat_logmodel = confusion_matrix(y_test,pred)\n",
    "conf_mat_logmodel"
   ]
  },
  {
   "cell_type": "markdown",
   "metadata": {},
   "source": [
    "# Random Forest"
   ]
  },
  {
   "cell_type": "code",
   "execution_count": null,
   "metadata": {
    "ExecuteTime": {
     "end_time": "2020-11-24T16:25:37.334592Z",
     "start_time": "2020-11-24T16:25:37.185640Z"
    }
   },
   "outputs": [],
   "source": [
    "#Fit the Random Forest Classification Model\n",
    "from sklearn.ensemble import RandomForestClassifier\n",
    "rfmodel = RandomForestClassifier(n_estimators = 100, criterion = 'entropy', random_state = 0)\n",
    "rfmodel.fit(X_train, y_train) \n",
    "  \n",
    "#Predict the value for new, unseen data\n",
    "rf_pred = rfmodel.predict(X_test)\n",
    "\n",
    "# Find Accuracy using recall_score method\n",
    "rf_accuracy = round(metrics.roc_auc_score(y_test, rf_pred) * 100, 2)\n",
    "print(rf_accuracy)"
   ]
  },
  {
   "cell_type": "code",
   "execution_count": null,
   "metadata": {
    "ExecuteTime": {
     "end_time": "2020-11-24T16:25:38.089583Z",
     "start_time": "2020-11-24T16:25:38.068640Z"
    }
   },
   "outputs": [],
   "source": [
    "#Generate confusion matrix\n",
    "from sklearn.metrics import confusion_matrix\n",
    "conf_mat_logmodel = confusion_matrix(y_test,pred)\n",
    "conf_mat_logmodel"
   ]
  },
  {
   "cell_type": "markdown",
   "metadata": {},
   "source": [
    "# Compare Model Accuracy"
   ]
  },
  {
   "cell_type": "code",
   "execution_count": null,
   "metadata": {
    "ExecuteTime": {
     "end_time": "2020-11-24T16:25:39.786716Z",
     "start_time": "2020-11-24T16:25:39.774775Z"
    }
   },
   "outputs": [],
   "source": [
    "# Compare Several models according to their Accuracies\n",
    "Model_Comparison = pd.DataFrame({\n",
    "    'Model': ['Logistic Regression', 'Support Vector Machine', 'K-Nearest Neighbor', \n",
    "              'Decision Tree', 'Random Forest'],\n",
    "    'Score': [logmodel_accuracy, svc_accuracy, knn_accuracy, \n",
    "              dt_accuracy, rf_accuracy]})\n",
    "Model_Comparison_df = Model_Comparison.sort_values(by='Score', ascending=False)\n",
    "Model_Comparison_df = Model_Comparison_df.set_index('Score')\n",
    "Model_Comparison_df.reset_index()"
   ]
  },
  {
   "cell_type": "markdown",
   "metadata": {},
   "source": [
    "# Predict Probability of Churn"
   ]
  },
  {
   "cell_type": "code",
   "execution_count": null,
   "metadata": {
    "ExecuteTime": {
     "end_time": "2020-11-24T16:25:46.537496Z",
     "start_time": "2020-11-24T16:25:46.497630Z"
    }
   },
   "outputs": [],
   "source": [
    "# Predict the probability of Churn of each customer\n",
    "churn_dataset['Probability_of_Churn'] = rfmodel.predict_proba(churn_dataset[X_test.columns])[:,1]\n",
    "\n",
    "# Create a Dataframe showcasing probability of Churn of each customer\n",
    "churn_dataset[['customer_name','Probability_of_Churn']].head()"
   ]
  },
  {
   "cell_type": "code",
   "execution_count": null,
   "metadata": {
    "ExecuteTime": {
     "end_time": "2020-11-24T16:25:50.033432Z",
     "start_time": "2020-11-24T16:25:49.998559Z"
    },
    "scrolled": true
   },
   "outputs": [],
   "source": [
    "churn_dataset[:50]"
   ]
  },
  {
   "cell_type": "markdown",
   "metadata": {},
   "source": [
    "# RFECV"
   ]
  },
  {
   "cell_type": "markdown",
   "metadata": {},
   "source": [
    "## Logistic Regression"
   ]
  },
  {
   "cell_type": "code",
   "execution_count": null,
   "metadata": {
    "ExecuteTime": {
     "end_time": "2020-11-24T16:26:07.361605Z",
     "start_time": "2020-11-24T16:26:07.337728Z"
    }
   },
   "outputs": [],
   "source": [
    "from sklearn.feature_selection import RFECV"
   ]
  },
  {
   "cell_type": "code",
   "execution_count": null,
   "metadata": {
    "ExecuteTime": {
     "end_time": "2020-11-24T16:26:07.895027Z",
     "start_time": "2020-11-24T16:26:07.883473Z"
    }
   },
   "outputs": [],
   "source": [
    "churn_dataset.columns"
   ]
  },
  {
   "cell_type": "code",
   "execution_count": null,
   "metadata": {
    "ExecuteTime": {
     "end_time": "2020-11-24T16:26:40.882068Z",
     "start_time": "2020-11-24T16:26:40.869103Z"
    }
   },
   "outputs": [],
   "source": [
    "#Create Feature variable X and Target variable y\n",
    "y = churn_dataset['Churn']\n",
    "X = churn_dataset.drop(['Churn','customer_name','last_purchase_in_days','Probability_of_Churn'\n",
    "                       ], axis = 1)"
   ]
  },
  {
   "cell_type": "code",
   "execution_count": null,
   "metadata": {
    "ExecuteTime": {
     "end_time": "2020-11-24T16:26:42.210878Z",
     "start_time": "2020-11-24T16:26:42.200906Z"
    }
   },
   "outputs": [],
   "source": [
    "from sklearn.linear_model import LogisticRegression\n",
    "log_reg = LogisticRegression()"
   ]
  },
  {
   "cell_type": "code",
   "execution_count": null,
   "metadata": {
    "ExecuteTime": {
     "end_time": "2020-11-24T16:26:46.909353Z",
     "start_time": "2020-11-24T16:26:42.589469Z"
    }
   },
   "outputs": [],
   "source": [
    "log_reg_rfecv = RFECV(estimator=log_reg, step=1, cv=10, \n",
    "                      scoring='roc_auc')\n",
    "log_reg_rfecv = log_reg_rfecv.fit(X, y)\n",
    "print('Optimal number of features :', log_reg_rfecv.n_features_)\n",
    "print('Best features :', X.columns[log_reg_rfecv.support_])"
   ]
  },
  {
   "cell_type": "code",
   "execution_count": null,
   "metadata": {
    "ExecuteTime": {
     "end_time": "2020-11-24T16:26:46.925309Z",
     "start_time": "2020-11-24T16:26:46.910350Z"
    }
   },
   "outputs": [],
   "source": [
    "log_reg_rfecv.grid_scores_"
   ]
  },
  {
   "cell_type": "code",
   "execution_count": null,
   "metadata": {
    "ExecuteTime": {
     "end_time": "2020-11-24T16:26:46.940269Z",
     "start_time": "2020-11-24T16:26:46.927304Z"
    }
   },
   "outputs": [],
   "source": [
    "pd.DataFrame(X.columns[log_reg_rfecv.support_])"
   ]
  },
  {
   "cell_type": "code",
   "execution_count": null,
   "metadata": {
    "ExecuteTime": {
     "end_time": "2020-11-24T16:26:47.066931Z",
     "start_time": "2020-11-24T16:26:46.941267Z"
    }
   },
   "outputs": [],
   "source": [
    "plt.figure()\n",
    "plt.xlabel(\"Number of features selected\")\n",
    "plt.ylabel(\"Cross validation score of number of selected features\")\n",
    "plt.plot(range(1, len(log_reg_rfecv.grid_scores_) + 1), log_reg_rfecv.grid_scores_)\n",
    "plt.show()"
   ]
  },
  {
   "cell_type": "code",
   "execution_count": null,
   "metadata": {
    "ExecuteTime": {
     "end_time": "2020-11-24T16:26:47.082889Z",
     "start_time": "2020-11-24T16:26:47.067928Z"
    }
   },
   "outputs": [],
   "source": [
    "print(np.where(log_reg_rfecv.support_ == False)[0])\n",
    "#X.drop(X.columns[np.where(rfecv.support_ == False)[0]], axis=1, inplace=True)\n",
    "X.drop(X.columns[np.where(log_reg_rfecv.support_ == False)[0]], axis=1, inplace=True)"
   ]
  },
  {
   "cell_type": "markdown",
   "metadata": {},
   "source": [
    "### Evaluate Model Performance"
   ]
  },
  {
   "cell_type": "code",
   "execution_count": null,
   "metadata": {
    "ExecuteTime": {
     "end_time": "2020-11-24T16:26:47.098846Z",
     "start_time": "2020-11-24T16:26:47.083886Z"
    }
   },
   "outputs": [],
   "source": [
    "X_train, X_test, y_train, y_test = train_test_split(X, y, \n",
    "                                                    test_size=0.20, \n",
    "                                                    random_state=8)"
   ]
  },
  {
   "cell_type": "code",
   "execution_count": null,
   "metadata": {
    "ExecuteTime": {
     "end_time": "2020-11-24T16:26:47.114803Z",
     "start_time": "2020-11-24T16:26:47.099844Z"
    }
   },
   "outputs": [],
   "source": [
    "X_train.shape"
   ]
  },
  {
   "cell_type": "code",
   "execution_count": null,
   "metadata": {
    "ExecuteTime": {
     "end_time": "2020-11-24T16:26:48.504090Z",
     "start_time": "2020-11-24T16:26:47.115802Z"
    }
   },
   "outputs": [],
   "source": [
    "log_reg_rfecv_model = log_reg_rfecv.fit(X_train, y_train)"
   ]
  },
  {
   "cell_type": "markdown",
   "metadata": {},
   "source": [
    "### Confusion Matrix"
   ]
  },
  {
   "cell_type": "code",
   "execution_count": null,
   "metadata": {
    "ExecuteTime": {
     "end_time": "2020-11-24T16:26:48.519049Z",
     "start_time": "2020-11-24T16:26:48.505086Z"
    }
   },
   "outputs": [],
   "source": [
    "from sklearn import metrics\n",
    "y_pred = log_reg_rfecv_model.predict(X_test)\n",
    "cm = metrics.confusion_matrix(y_test, y_pred)\n",
    "print(cm)"
   ]
  },
  {
   "cell_type": "code",
   "execution_count": null,
   "metadata": {
    "ExecuteTime": {
     "end_time": "2020-11-24T16:26:48.661668Z",
     "start_time": "2020-11-24T16:26:48.521044Z"
    }
   },
   "outputs": [],
   "source": [
    "plt.figure(figsize=(9,9))\n",
    "sns.heatmap(cm, annot=True, fmt=\".3f\", linewidths=.5, square = True, cmap = 'Blues_r');\n",
    "plt.ylabel('Actual label');\n",
    "plt.xlabel('Predicted label');\n",
    "plt.title('Confusion Matrix');"
   ]
  },
  {
   "cell_type": "markdown",
   "metadata": {},
   "source": [
    "### Precision, Recall, F-Score, Support"
   ]
  },
  {
   "cell_type": "code",
   "execution_count": null,
   "metadata": {
    "ExecuteTime": {
     "end_time": "2020-11-24T16:26:50.059620Z",
     "start_time": "2020-11-24T16:26:50.051640Z"
    }
   },
   "outputs": [],
   "source": [
    "from sklearn.metrics import classification_report\n",
    "print(classification_report(y_test, y_pred))"
   ]
  },
  {
   "cell_type": "markdown",
   "metadata": {},
   "source": [
    "### ROC Curve"
   ]
  },
  {
   "cell_type": "code",
   "execution_count": null,
   "metadata": {
    "ExecuteTime": {
     "end_time": "2020-11-24T16:26:51.781246Z",
     "start_time": "2020-11-24T16:26:51.630086Z"
    }
   },
   "outputs": [],
   "source": [
    "from sklearn.metrics import roc_auc_score\n",
    "from sklearn.metrics import roc_curve\n",
    "logit_roc_auc = roc_auc_score(y_test, log_reg_rfecv_model.predict(X_test))\n",
    "fpr, tpr, thresholds = roc_curve(y_test, log_reg_rfecv_model.predict_proba(X_test)[:,1])\n",
    "plt.figure()\n",
    "plt.plot(fpr, tpr, label='Logistic Regression (area = %0.2f)' % logit_roc_auc)\n",
    "plt.plot([0, 1], [0, 1],'r--')\n",
    "plt.xlim([0.0, 1.0])\n",
    "plt.ylim([0.0, 1.05])\n",
    "plt.xlabel('False Positive Rate')\n",
    "plt.ylabel('True Positive Rate')\n",
    "plt.title('Receiver operating characteristic')\n",
    "plt.legend(loc=\"lower right\")\n",
    "plt.savefig('Log_ROC_RFECV')\n",
    "plt.show()"
   ]
  },
  {
   "cell_type": "markdown",
   "metadata": {},
   "source": [
    "## SVC"
   ]
  },
  {
   "cell_type": "code",
   "execution_count": null,
   "metadata": {
    "ExecuteTime": {
     "end_time": "2020-11-24T16:27:32.795011Z",
     "start_time": "2020-11-24T16:27:32.783044Z"
    }
   },
   "outputs": [],
   "source": [
    "churn_dataset.columns"
   ]
  },
  {
   "cell_type": "code",
   "execution_count": null,
   "metadata": {
    "ExecuteTime": {
     "end_time": "2020-11-24T16:27:35.946429Z",
     "start_time": "2020-11-24T16:27:35.929531Z"
    }
   },
   "outputs": [],
   "source": [
    "#Create Feature variable X and Target variable y\n",
    "y = churn_dataset['Churn']\n",
    "X = churn_dataset.drop(['Churn','customer_name','last_purchase_in_days','Probability_of_Churn'\n",
    "                       ], axis = 1)"
   ]
  },
  {
   "cell_type": "code",
   "execution_count": null,
   "metadata": {
    "ExecuteTime": {
     "end_time": "2020-11-24T16:27:36.326462Z",
     "start_time": "2020-11-24T16:27:36.317487Z"
    }
   },
   "outputs": [],
   "source": [
    "from sklearn.svm import SVC\n",
    "svc = SVC(kernel=\"linear\")"
   ]
  },
  {
   "cell_type": "code",
   "execution_count": null,
   "metadata": {
    "ExecuteTime": {
     "end_time": "2020-11-24T16:27:41.386639Z",
     "start_time": "2020-11-24T16:27:36.787234Z"
    }
   },
   "outputs": [],
   "source": [
    "from sklearn.model_selection import StratifiedKFold\n",
    "svc_rfecv = RFECV(estimator=svc, step=1, cv=StratifiedKFold(10), scoring='roc_auc')\n",
    "svc_rfecv.fit(X, y) \n",
    "print('Optimal number of features :', svc_rfecv.n_features_)\n",
    "print('Best features :', X.columns[svc_rfecv.support_])"
   ]
  },
  {
   "cell_type": "code",
   "execution_count": null,
   "metadata": {
    "ExecuteTime": {
     "end_time": "2020-11-24T16:27:41.402596Z",
     "start_time": "2020-11-24T16:27:41.388634Z"
    }
   },
   "outputs": [],
   "source": [
    "svc_rfecv.grid_scores_"
   ]
  },
  {
   "cell_type": "code",
   "execution_count": null,
   "metadata": {
    "ExecuteTime": {
     "end_time": "2020-11-24T16:27:41.584208Z",
     "start_time": "2020-11-24T16:27:41.404599Z"
    }
   },
   "outputs": [],
   "source": [
    "plt.figure(figsize=(16, 9))\n",
    "plt.title('SVC - RFECV', fontsize=18, fontweight='bold', pad=20)\n",
    "plt.xlabel('Number of features selected', fontsize=14, labelpad=20)\n",
    "plt.ylabel('% Correct Classification', fontsize=14, labelpad=20)\n",
    "plt.plot(range(1, len(svc_rfecv.grid_scores_) + 1), svc_rfecv.grid_scores_, color='#303F9F', linewidth=3)\n",
    "plt.show()"
   ]
  },
  {
   "cell_type": "code",
   "execution_count": null,
   "metadata": {
    "ExecuteTime": {
     "end_time": "2020-11-24T16:27:41.599168Z",
     "start_time": "2020-11-24T16:27:41.586204Z"
    }
   },
   "outputs": [],
   "source": [
    "print(np.where(svc_rfecv.support_ == False)[0])\n",
    "#X.drop(X.columns[np.where(rfecv.support_ == False)[0]], axis=1, inplace=True)\n",
    "X.drop(X.columns[np.where(svc_rfecv.support_ == False)[0]], axis=1, inplace=True)\n",
    "#drop the less contributioning variables"
   ]
  },
  {
   "cell_type": "markdown",
   "metadata": {},
   "source": [
    "### Evaluate Model Performance"
   ]
  },
  {
   "cell_type": "code",
   "execution_count": null,
   "metadata": {
    "ExecuteTime": {
     "end_time": "2020-11-24T16:27:41.614448Z",
     "start_time": "2020-11-24T16:27:41.600486Z"
    }
   },
   "outputs": [],
   "source": [
    "X_train, X_test, y_train, y_test = train_test_split(X, y, \n",
    "                                                    test_size=0.20, \n",
    "                                                    random_state=8)"
   ]
  },
  {
   "cell_type": "code",
   "execution_count": null,
   "metadata": {
    "ExecuteTime": {
     "end_time": "2020-11-24T16:27:41.630406Z",
     "start_time": "2020-11-24T16:27:41.615453Z"
    }
   },
   "outputs": [],
   "source": [
    "X_train.shape"
   ]
  },
  {
   "cell_type": "code",
   "execution_count": null,
   "metadata": {
    "ExecuteTime": {
     "end_time": "2020-11-24T16:27:42.291777Z",
     "start_time": "2020-11-24T16:27:41.631403Z"
    }
   },
   "outputs": [],
   "source": [
    "svc_rfecv_model = svc_rfecv.fit(X_train, y_train)"
   ]
  },
  {
   "cell_type": "markdown",
   "metadata": {},
   "source": [
    "### Confusion Matrix"
   ]
  },
  {
   "cell_type": "code",
   "execution_count": null,
   "metadata": {
    "ExecuteTime": {
     "end_time": "2020-11-24T16:27:42.306522Z",
     "start_time": "2020-11-24T16:27:42.292512Z"
    }
   },
   "outputs": [],
   "source": [
    "from sklearn import metrics\n",
    "y_pred = svc_rfecv_model.predict(X_test)\n",
    "cm = metrics.confusion_matrix(y_test, y_pred)\n",
    "print(cm)"
   ]
  },
  {
   "cell_type": "code",
   "execution_count": null,
   "metadata": {
    "ExecuteTime": {
     "end_time": "2020-11-24T16:27:42.431146Z",
     "start_time": "2020-11-24T16:27:42.307474Z"
    }
   },
   "outputs": [],
   "source": [
    "plt.figure(figsize=(9,9))\n",
    "sns.heatmap(cm, annot=True, fmt=\".3f\", linewidths=.5, square = True, cmap = 'Blues_r');\n",
    "plt.ylabel('Actual label');\n",
    "plt.xlabel('Predicted label');\n",
    "plt.title('Confusion Matrix');"
   ]
  },
  {
   "cell_type": "markdown",
   "metadata": {},
   "source": [
    "### Precision, Recall, F-Score, Support"
   ]
  },
  {
   "cell_type": "code",
   "execution_count": null,
   "metadata": {
    "ExecuteTime": {
     "end_time": "2020-11-24T16:27:43.362976Z",
     "start_time": "2020-11-24T16:27:43.342002Z"
    }
   },
   "outputs": [],
   "source": [
    "from sklearn.metrics import classification_report\n",
    "print(classification_report(y_test, y_pred))"
   ]
  },
  {
   "cell_type": "markdown",
   "metadata": {},
   "source": [
    "SVC does not support ROC Curve."
   ]
  },
  {
   "cell_type": "markdown",
   "metadata": {},
   "source": [
    "## Decision Tree"
   ]
  },
  {
   "cell_type": "code",
   "execution_count": null,
   "metadata": {
    "ExecuteTime": {
     "end_time": "2020-11-24T16:27:48.717563Z",
     "start_time": "2020-11-24T16:27:48.698652Z"
    }
   },
   "outputs": [],
   "source": [
    "#Create Feature variable X and Target variable y\n",
    "y = churn_dataset['Churn']\n",
    "X = churn_dataset.drop(['Churn','customer_name','last_purchase_in_days','Probability_of_Churn'\n",
    "                       ], axis = 1)"
   ]
  },
  {
   "cell_type": "code",
   "execution_count": null,
   "metadata": {
    "ExecuteTime": {
     "end_time": "2020-11-24T16:27:49.190726Z",
     "start_time": "2020-11-24T16:27:49.184744Z"
    }
   },
   "outputs": [],
   "source": [
    "from sklearn.model_selection import StratifiedKFold\n",
    "from sklearn.feature_selection import RFECV\n",
    "from sklearn.ensemble import RandomForestClassifier"
   ]
  },
  {
   "cell_type": "code",
   "execution_count": null,
   "metadata": {
    "ExecuteTime": {
     "end_time": "2020-11-24T16:27:50.657842Z",
     "start_time": "2020-11-24T16:27:49.830501Z"
    }
   },
   "outputs": [],
   "source": [
    "from sklearn.tree import DecisionTreeClassifier\n",
    "dt_rfecv = RFECV(DecisionTreeClassifier(), cv=10, scoring='roc_auc')\n",
    "dt_rfecv = dt_rfecv.fit(X, y)\n",
    "print('Optimal number of features :', dt_rfecv.n_features_)\n",
    "print('Best features :', X.columns[dt_rfecv.support_])"
   ]
  },
  {
   "cell_type": "code",
   "execution_count": null,
   "metadata": {
    "ExecuteTime": {
     "end_time": "2020-11-24T16:27:50.673602Z",
     "start_time": "2020-11-24T16:27:50.659640Z"
    }
   },
   "outputs": [],
   "source": [
    "dt_rfecv.grid_scores_"
   ]
  },
  {
   "cell_type": "code",
   "execution_count": null,
   "metadata": {
    "ExecuteTime": {
     "end_time": "2020-11-24T16:27:51.438048Z",
     "start_time": "2020-11-24T16:27:51.327370Z"
    }
   },
   "outputs": [],
   "source": [
    "plt.figure(figsize=(16, 9))\n",
    "plt.title('Decision Tree - RFECV', fontsize=18, fontweight='bold', pad=20)\n",
    "plt.xlabel('Number of features selected', fontsize=14, labelpad=20)\n",
    "plt.ylabel('% Correct Classification', fontsize=14, labelpad=20)\n",
    "plt.plot(range(1, len(dt_rfecv.grid_scores_) + 1), dt_rfecv.grid_scores_, color='#303F9F', linewidth=3)\n",
    "plt.show()"
   ]
  },
  {
   "cell_type": "code",
   "execution_count": null,
   "metadata": {
    "ExecuteTime": {
     "end_time": "2020-11-24T16:27:59.770996Z",
     "start_time": "2020-11-24T16:27:59.765044Z"
    }
   },
   "outputs": [],
   "source": [
    "print(np.where(dt_rfecv.support_ == False)[0])\n",
    "#X.drop(X.columns[np.where(rfecv.support_ == False)[0]], axis=1, inplace=True)\n",
    "X.drop(X.columns[np.where(dt_rfecv.support_ == False)[0]], axis=1, inplace=True)"
   ]
  },
  {
   "cell_type": "code",
   "execution_count": null,
   "metadata": {
    "ExecuteTime": {
     "end_time": "2020-11-24T16:28:00.459724Z",
     "start_time": "2020-11-24T16:28:00.451247Z"
    }
   },
   "outputs": [],
   "source": [
    "dt_rfecv.estimator_.feature_importances_"
   ]
  },
  {
   "cell_type": "code",
   "execution_count": null,
   "metadata": {
    "ExecuteTime": {
     "end_time": "2020-11-24T16:28:16.505960Z",
     "start_time": "2020-11-24T16:28:16.396593Z"
    }
   },
   "outputs": [],
   "source": [
    "dset = pd.DataFrame()\n",
    "dset['attr'] = X.columns\n",
    "dset['importance'] = dt_rfecv.estimator_.feature_importances_\n",
    "dset = dset.sort_values(by='importance', ascending=False)\n",
    "\n",
    "plt.figure(figsize=(16, 10))\n",
    "plt.barh(y=dset['attr'], width=dset['importance'], color='#1976D2')\n",
    "plt.title('Decision Tree - RFECV - Feature importances', fontsize=20, fontweight='bold', pad=20)\n",
    "plt.xlabel('Importance', fontsize=14, labelpad=20)\n",
    "plt.show()"
   ]
  },
  {
   "cell_type": "code",
   "execution_count": null,
   "metadata": {
    "ExecuteTime": {
     "end_time": "2020-11-24T16:28:45.233880Z",
     "start_time": "2020-11-24T16:28:45.220914Z"
    }
   },
   "outputs": [],
   "source": [
    "X_train, X_test, y_train, y_test = train_test_split(X, y, test_size=0.2, random_state=8)"
   ]
  },
  {
   "cell_type": "code",
   "execution_count": null,
   "metadata": {
    "ExecuteTime": {
     "end_time": "2020-11-24T16:28:45.943834Z",
     "start_time": "2020-11-24T16:28:45.928874Z"
    }
   },
   "outputs": [],
   "source": [
    "y_train = y_train.ravel()"
   ]
  },
  {
   "cell_type": "code",
   "execution_count": null,
   "metadata": {
    "ExecuteTime": {
     "end_time": "2020-11-24T16:28:47.243402Z",
     "start_time": "2020-11-24T16:28:47.236421Z"
    }
   },
   "outputs": [],
   "source": [
    "from sklearn.tree import DecisionTreeClassifier\n",
    "dt = DecisionTreeClassifier()\n",
    "dt_model = dt.fit(X_train, y_train)"
   ]
  },
  {
   "cell_type": "code",
   "execution_count": null,
   "metadata": {
    "ExecuteTime": {
     "end_time": "2020-11-24T16:28:48.178522Z",
     "start_time": "2020-11-24T16:28:48.162566Z"
    }
   },
   "outputs": [],
   "source": [
    "dt_model.predict(X_test)"
   ]
  },
  {
   "cell_type": "markdown",
   "metadata": {},
   "source": [
    "### Confusion Matrix"
   ]
  },
  {
   "cell_type": "code",
   "execution_count": null,
   "metadata": {
    "ExecuteTime": {
     "end_time": "2020-11-24T16:28:52.223271Z",
     "start_time": "2020-11-24T16:28:52.212320Z"
    }
   },
   "outputs": [],
   "source": [
    "from sklearn import metrics\n",
    "y_pred = dt_model.predict(X_test)\n",
    "cm = metrics.confusion_matrix(y_test, y_pred)\n",
    "print(cm)"
   ]
  },
  {
   "cell_type": "code",
   "execution_count": null,
   "metadata": {
    "ExecuteTime": {
     "end_time": "2020-11-24T16:28:53.077996Z",
     "start_time": "2020-11-24T16:28:52.961261Z"
    }
   },
   "outputs": [],
   "source": [
    "plt.figure(figsize=(9,9))\n",
    "sns.heatmap(cm, annot=True, fmt=\".3f\", linewidths=.5, square = True, cmap = 'Blues_r');\n",
    "plt.ylabel('Actual label');\n",
    "plt.xlabel('Predicted label');\n",
    "plt.title('Confusion Matrix');"
   ]
  },
  {
   "cell_type": "markdown",
   "metadata": {},
   "source": [
    "### Precision, Recall, F-Score and Support"
   ]
  },
  {
   "cell_type": "code",
   "execution_count": null,
   "metadata": {
    "ExecuteTime": {
     "end_time": "2020-11-24T16:28:54.562221Z",
     "start_time": "2020-11-24T16:28:54.545266Z"
    }
   },
   "outputs": [],
   "source": [
    "from sklearn.metrics import classification_report\n",
    "print(classification_report(y_test, y_pred))"
   ]
  },
  {
   "cell_type": "markdown",
   "metadata": {},
   "source": [
    "### ROC Curve"
   ]
  },
  {
   "cell_type": "code",
   "execution_count": null,
   "metadata": {
    "ExecuteTime": {
     "end_time": "2020-11-24T16:28:57.630515Z",
     "start_time": "2020-11-24T16:28:57.472832Z"
    },
    "scrolled": false
   },
   "outputs": [],
   "source": [
    "from sklearn.metrics import roc_auc_score\n",
    "from sklearn.metrics import roc_curve\n",
    "logit_roc_auc = roc_auc_score(y_test, dt_model.predict(X_test))\n",
    "fpr, tpr, thresholds = roc_curve(y_test, dt_model.predict_proba(X_test)[:,1])\n",
    "plt.figure()\n",
    "plt.plot(fpr, tpr, label='Decision Tree Classifier (area = %0.2f)' % logit_roc_auc)\n",
    "plt.plot([0, 1], [0, 1],'r--')\n",
    "plt.xlim([0.0, 1.0])\n",
    "plt.ylim([0.0, 1.05])\n",
    "plt.xlabel('False Positive Rate')\n",
    "plt.ylabel('True Positive Rate')\n",
    "plt.title('Receiver operating characteristic')\n",
    "plt.legend(loc=\"lower right\")\n",
    "plt.savefig('Log_ROC_Decision_Tree')\n",
    "plt.show()"
   ]
  },
  {
   "cell_type": "markdown",
   "metadata": {},
   "source": [
    "## Gradient Boosting Classifier"
   ]
  },
  {
   "cell_type": "code",
   "execution_count": null,
   "metadata": {
    "ExecuteTime": {
     "end_time": "2020-11-24T16:29:18.415920Z",
     "start_time": "2020-11-24T16:29:18.397985Z"
    }
   },
   "outputs": [],
   "source": [
    "#Create Feature variable X and Target variable y\n",
    "y = churn_dataset['Churn']\n",
    "X = churn_dataset.drop(['Churn','customer_name','last_purchase_in_days','Probability_of_Churn'\n",
    "                       ], axis = 1)"
   ]
  },
  {
   "cell_type": "code",
   "execution_count": null,
   "metadata": {
    "ExecuteTime": {
     "end_time": "2020-11-24T16:29:18.954482Z",
     "start_time": "2020-11-24T16:29:18.944990Z"
    }
   },
   "outputs": [],
   "source": [
    "from sklearn.ensemble import GradientBoostingClassifier\n",
    "gbc = GradientBoostingClassifier(random_state=101)"
   ]
  },
  {
   "cell_type": "code",
   "execution_count": null,
   "metadata": {
    "ExecuteTime": {
     "end_time": "2020-11-24T16:29:58.777912Z",
     "start_time": "2020-11-24T16:29:20.217202Z"
    }
   },
   "outputs": [],
   "source": [
    "gb_rfecv = RFECV(estimator=gbc, step=1, cv=StratifiedKFold(10), scoring='roc_auc')\n",
    "gb_rfecv.fit(X, y) \n",
    "print('Optimal number of features :', gb_rfecv.n_features_)\n",
    "print('Best features :', X.columns[gb_rfecv.support_])"
   ]
  },
  {
   "cell_type": "code",
   "execution_count": null,
   "metadata": {
    "ExecuteTime": {
     "end_time": "2020-11-24T16:29:58.793867Z",
     "start_time": "2020-11-24T16:29:58.778864Z"
    }
   },
   "outputs": [],
   "source": [
    "gb_rfecv.grid_scores_"
   ]
  },
  {
   "cell_type": "code",
   "execution_count": null,
   "metadata": {
    "ExecuteTime": {
     "end_time": "2020-11-24T16:29:58.920080Z",
     "start_time": "2020-11-24T16:29:58.795828Z"
    }
   },
   "outputs": [],
   "source": [
    "plt.figure(figsize=(16, 9))\n",
    "plt.title('Gradient Boost - RFECV', fontsize=18, fontweight='bold', pad=20)\n",
    "plt.xlabel('Number of features selected', fontsize=14, labelpad=20)\n",
    "plt.ylabel('% Correct Classification', fontsize=14, labelpad=20)\n",
    "plt.plot(range(1, len(gb_rfecv.grid_scores_) + 1), gb_rfecv.grid_scores_, color='#303F9F', linewidth=3)\n",
    "plt.show()"
   ]
  },
  {
   "cell_type": "code",
   "execution_count": null,
   "metadata": {
    "ExecuteTime": {
     "end_time": "2020-11-24T16:29:58.936037Z",
     "start_time": "2020-11-24T16:29:58.922091Z"
    }
   },
   "outputs": [],
   "source": [
    "print(np.where(gb_rfecv.support_ == False)[0])\n",
    "#X.drop(X.columns[np.where(rfecv.support_ == False)[0]], axis=1, inplace=True)\n",
    "X.drop(X.columns[np.where(gb_rfecv.support_ == False)[0]], axis=1, inplace=True)"
   ]
  },
  {
   "cell_type": "code",
   "execution_count": null,
   "metadata": {
    "ExecuteTime": {
     "end_time": "2020-11-24T16:29:58.951995Z",
     "start_time": "2020-11-24T16:29:58.938032Z"
    }
   },
   "outputs": [],
   "source": [
    "gb_rfecv.estimator_.feature_importances_"
   ]
  },
  {
   "cell_type": "markdown",
   "metadata": {},
   "source": [
    "### Evaluate Model Performance"
   ]
  },
  {
   "cell_type": "code",
   "execution_count": null,
   "metadata": {
    "ExecuteTime": {
     "end_time": "2020-11-24T16:29:58.967330Z",
     "start_time": "2020-11-24T16:29:58.953366Z"
    }
   },
   "outputs": [],
   "source": [
    "X_train, X_test, y_train, y_test = train_test_split(X, y, \n",
    "                                                    test_size=0.20, \n",
    "                                                    random_state=8)"
   ]
  },
  {
   "cell_type": "code",
   "execution_count": null,
   "metadata": {
    "ExecuteTime": {
     "end_time": "2020-11-24T16:29:58.983287Z",
     "start_time": "2020-11-24T16:29:58.968327Z"
    }
   },
   "outputs": [],
   "source": [
    "X_train.shape"
   ]
  },
  {
   "cell_type": "code",
   "execution_count": null,
   "metadata": {
    "ExecuteTime": {
     "end_time": "2020-11-24T16:30:08.409966Z",
     "start_time": "2020-11-24T16:29:58.985282Z"
    }
   },
   "outputs": [],
   "source": [
    "gb_rfecv_model = gb_rfecv.fit(X_train, y_train)"
   ]
  },
  {
   "cell_type": "markdown",
   "metadata": {},
   "source": [
    "### Confusion Matrix"
   ]
  },
  {
   "cell_type": "code",
   "execution_count": null,
   "metadata": {
    "ExecuteTime": {
     "end_time": "2020-11-24T16:30:08.424810Z",
     "start_time": "2020-11-24T16:30:08.410845Z"
    }
   },
   "outputs": [],
   "source": [
    "from sklearn import metrics\n",
    "y_pred = gb_rfecv_model.predict(X_test)\n",
    "cm = metrics.confusion_matrix(y_test, y_pred)\n",
    "print(cm)"
   ]
  },
  {
   "cell_type": "code",
   "execution_count": null,
   "metadata": {
    "ExecuteTime": {
     "end_time": "2020-11-24T16:30:08.536545Z",
     "start_time": "2020-11-24T16:30:08.425808Z"
    }
   },
   "outputs": [],
   "source": [
    "plt.figure(figsize=(9,9))\n",
    "sns.heatmap(cm, annot=True, fmt=\".3f\", linewidths=.5, square = True, cmap = 'Blues_r');\n",
    "plt.ylabel('Actual label');\n",
    "plt.xlabel('Predicted label');\n",
    "plt.title('Confusion Matrix');"
   ]
  },
  {
   "cell_type": "markdown",
   "metadata": {},
   "source": [
    "### Precision, Recall, F-Score and Support"
   ]
  },
  {
   "cell_type": "code",
   "execution_count": null,
   "metadata": {
    "ExecuteTime": {
     "end_time": "2020-11-24T16:30:08.552469Z",
     "start_time": "2020-11-24T16:30:08.538506Z"
    }
   },
   "outputs": [],
   "source": [
    "from sklearn.metrics import classification_report\n",
    "print(classification_report(y_test, y_pred))"
   ]
  },
  {
   "cell_type": "markdown",
   "metadata": {},
   "source": [
    "### ROC Curve"
   ]
  },
  {
   "cell_type": "code",
   "execution_count": null,
   "metadata": {
    "ExecuteTime": {
     "end_time": "2020-11-24T16:30:19.528781Z",
     "start_time": "2020-11-24T16:30:19.369207Z"
    },
    "scrolled": true
   },
   "outputs": [],
   "source": [
    "from sklearn.metrics import roc_auc_score\n",
    "from sklearn.metrics import roc_curve\n",
    "logit_roc_auc = roc_auc_score(y_test, gb_rfecv_model.predict(X_test))\n",
    "fpr, tpr, thresholds = roc_curve(y_test, gb_rfecv_model.predict_proba(X_test)[:,1])\n",
    "plt.figure()\n",
    "plt.plot(fpr, tpr, label='Gradient Boosting Classifier (area = %0.2f)' % logit_roc_auc)\n",
    "plt.plot([0, 1], [0, 1],'r--')\n",
    "plt.xlim([0.0, 1.0])\n",
    "plt.ylim([0.0, 1.05])\n",
    "plt.xlabel('False Positive Rate')\n",
    "plt.ylabel('True Positive Rate')\n",
    "plt.title('Receiver operating characteristic')\n",
    "plt.legend(loc=\"lower right\")\n",
    "plt.savefig('Log_ROC_GB_RFE')\n",
    "plt.show()"
   ]
  },
  {
   "cell_type": "markdown",
   "metadata": {},
   "source": [
    "## XGBoost"
   ]
  },
  {
   "cell_type": "code",
   "execution_count": null,
   "metadata": {
    "ExecuteTime": {
     "end_time": "2020-11-24T16:31:20.671827Z",
     "start_time": "2020-11-24T16:31:20.656861Z"
    }
   },
   "outputs": [],
   "source": [
    "churn_dataset.columns"
   ]
  },
  {
   "cell_type": "code",
   "execution_count": null,
   "metadata": {
    "ExecuteTime": {
     "end_time": "2020-11-24T16:31:21.082224Z",
     "start_time": "2020-11-24T16:31:21.075276Z"
    }
   },
   "outputs": [],
   "source": [
    "#Create Feature variable X and Target variable y\n",
    "y = churn_dataset['Churn']\n",
    "X = churn_dataset.drop(['Churn','customer_name','last_purchase_in_days','Probability_of_Churn'\n",
    "                       ], axis = 1)"
   ]
  },
  {
   "cell_type": "code",
   "execution_count": null,
   "metadata": {
    "ExecuteTime": {
     "end_time": "2020-11-24T16:31:21.517309Z",
     "start_time": "2020-11-24T16:31:21.500354Z"
    }
   },
   "outputs": [],
   "source": [
    "#Split the data into training set (80%) and test set (20%)\n",
    "from sklearn.model_selection import train_test_split\n",
    "X_train, X_test, y_train, y_test = train_test_split(X, y, test_size = 0.20, random_state = 77)"
   ]
  },
  {
   "cell_type": "code",
   "execution_count": null,
   "metadata": {
    "ExecuteTime": {
     "end_time": "2020-11-24T16:31:25.592155Z",
     "start_time": "2020-11-24T16:31:22.070037Z"
    }
   },
   "outputs": [],
   "source": [
    "from xgboost.sklearn import XGBClassifier\n",
    "xgb = XGBClassifier(verbosity=2,\n",
    "                    learning_rate = 0.01,\n",
    "                      max_depth=5, #increasing the number does not improve anything #start from 3 increase scale_pos_weight=1, #1\n",
    "                      min_child_weight=0, #0 to inf\n",
    "                      gamma=0, #(0,1,5)learning_rate=0.1,  #optimal #0.01 to 0.1\n",
    "                      colsample_bytree = 0.8, #0.3 to 0.8 if many columns, if few 0.8 to 1\n",
    "                      subsample = 0.8, #0.8 to 1\n",
    "                      scale_pos_weight = 1, \n",
    "                      reg_alpha = 1, #0.5 (1e-5, 1e-2, 0.1, 1)\n",
    "                      reg_lambda= 0.1, \n",
    "                      objective='binary:logistic', \n",
    "                      n_estimators=1000 \n",
    "                    ) "
   ]
  },
  {
   "cell_type": "code",
   "execution_count": null,
   "metadata": {
    "ExecuteTime": {
     "end_time": "2020-11-24T16:31:32.161100Z",
     "start_time": "2020-11-24T16:31:25.593152Z"
    }
   },
   "outputs": [],
   "source": [
    "from sklearn.model_selection import GridSearchCV\n",
    "\n",
    "param_test1 = {\n",
    " 'max_depth':range(3,10,2),\n",
    " 'min_child_weight':range(1,6,2)\n",
    "}\n",
    "gsearch1 = GridSearchCV(estimator = XGBClassifier(learning_rate =0.1, n_estimators=140, max_depth=5,\n",
    "                                                  min_child_weight=1, gamma=0, subsample=0.8, \n",
    "                                                  colsample_bytree=0.8,\n",
    "                                                  objective= 'binary:logistic', scale_pos_weight=1, \n",
    "                                                  seed=27), \n",
    "                        param_grid = param_test1, scoring='f1',iid=False, cv=5)\n",
    "gsearch1.fit(X,y)\n",
    "gsearch1.cv_results_, gsearch1.best_params_, gsearch1.best_score_"
   ]
  },
  {
   "cell_type": "code",
   "execution_count": null,
   "metadata": {
    "ExecuteTime": {
     "end_time": "2020-11-24T16:31:36.616792Z",
     "start_time": "2020-11-24T16:31:32.161100Z"
    }
   },
   "outputs": [],
   "source": [
    "param_test2 = {\n",
    " 'max_depth':[8,9,10],\n",
    " 'min_child_weight':[0,1,2]\n",
    "}\n",
    "\n",
    "gsearch2 = GridSearchCV(estimator = XGBClassifier(learning_rate =0.1, n_estimators=140, max_depth=9,\n",
    "                                                  min_child_weight=1, gamma=0, subsample=0.8, \n",
    "                                                  colsample_bytree=0.8,\n",
    "                                                  objective= 'binary:logistic', scale_pos_weight=1, \n",
    "                                                  seed=27), \n",
    "                        param_grid = param_test2, scoring='f1',iid=False, cv=5)\n",
    "gsearch2.fit(X,y)\n",
    "gsearch2.cv_results_, gsearch2.best_params_, gsearch2.best_score_"
   ]
  },
  {
   "cell_type": "code",
   "execution_count": null,
   "metadata": {
    "ExecuteTime": {
     "end_time": "2020-11-24T16:31:55.218676Z",
     "start_time": "2020-11-24T16:31:36.617789Z"
    }
   },
   "outputs": [],
   "source": [
    "param_test2b = {'max_depth':[1,2,4,6,8],\n",
    " 'min_child_weight':[0,1,2,3,4,5,6,7,8,9,10]\n",
    "}\n",
    "\n",
    "gsearch2b = GridSearchCV(estimator = XGBClassifier(learning_rate =0.1, n_estimators=140, max_depth=8,\n",
    "                                                  min_child_weight=0, gamma=0, subsample=0.8, \n",
    "                                                  colsample_bytree=0.8,\n",
    "                                                  objective= 'binary:logistic', scale_pos_weight=1, \n",
    "                                                  seed=27), \n",
    "                        param_grid = param_test2b, scoring='f1',iid=False, cv=5)\n",
    "gsearch2b.fit(X,y)\n",
    "gsearch2b.cv_results_, gsearch2b.best_params_, gsearch2b.best_score_"
   ]
  },
  {
   "cell_type": "code",
   "execution_count": null,
   "metadata": {
    "ExecuteTime": {
     "end_time": "2020-11-24T16:31:58.168191Z",
     "start_time": "2020-11-24T16:31:55.219673Z"
    },
    "scrolled": true
   },
   "outputs": [],
   "source": [
    "param_test3 = {\n",
    " 'gamma':[i/10.0 for i in range(0,5)]\n",
    "}\n",
    "\n",
    "gsearch3 = GridSearchCV(estimator = XGBClassifier(learning_rate =0.1, n_estimators=140, max_depth=8,\n",
    "                                                  min_child_weight=0, gamma=0, subsample=0.8, \n",
    "                                                  colsample_bytree=0.8,\n",
    "                                                  objective= 'binary:logistic', scale_pos_weight=1, \n",
    "                                                  seed=27), \n",
    "                        param_grid = param_test3, scoring='f1',iid=False, cv=5)\n",
    "gsearch3.fit(X,y)\n",
    "gsearch3.cv_results_, gsearch3.best_params_, gsearch3.best_score_"
   ]
  },
  {
   "cell_type": "code",
   "execution_count": null,
   "metadata": {
    "ExecuteTime": {
     "end_time": "2020-11-24T16:32:03.877833Z",
     "start_time": "2020-11-24T16:31:58.169189Z"
    }
   },
   "outputs": [],
   "source": [
    "param_test3b = {\n",
    " 'gamma':[i/10.0 for i in range(0,10)]\n",
    "}\n",
    "\n",
    "gsearch3b = GridSearchCV(estimator = XGBClassifier(learning_rate =0.1, n_estimators=140, max_depth=8,\n",
    "                                                  min_child_weight=0, gamma=0, subsample=0.8, \n",
    "                                                  colsample_bytree=0.8,\n",
    "                                                  objective= 'binary:logistic', scale_pos_weight=1, \n",
    "                                                  seed=27), \n",
    "                        param_grid = param_test3b, scoring='f1',iid=False, cv=5)\n",
    "gsearch3b.fit(X,y)\n",
    "gsearch3b.cv_results_, gsearch3b.best_params_, gsearch3b.best_score_"
   ]
  },
  {
   "cell_type": "code",
   "execution_count": null,
   "metadata": {
    "ExecuteTime": {
     "end_time": "2020-11-24T16:32:09.487601Z",
     "start_time": "2020-11-24T16:32:03.878831Z"
    }
   },
   "outputs": [],
   "source": [
    "param_test3c = {\n",
    " 'gamma':[i for i in range(0,10)]\n",
    "}\n",
    "\n",
    "gsearch3c = GridSearchCV(estimator = XGBClassifier(learning_rate =0.1, n_estimators=140, max_depth=8,\n",
    "                                                  min_child_weight=0, gamma=0, subsample=0.8, \n",
    "                                                  colsample_bytree=0.8,\n",
    "                                                  objective= 'binary:logistic', scale_pos_weight=1, \n",
    "                                                  seed=27), \n",
    "                        param_grid = param_test3c, scoring='f1',iid=False, cv=5)\n",
    "gsearch3c.fit(X,y)\n",
    "gsearch3c.cv_results_, gsearch3c.best_params_, gsearch3c.best_score_"
   ]
  },
  {
   "cell_type": "code",
   "execution_count": null,
   "metadata": {
    "ExecuteTime": {
     "end_time": "2020-11-24T16:32:16.326470Z",
     "start_time": "2020-11-24T16:32:09.489596Z"
    }
   },
   "outputs": [],
   "source": [
    "param_test3d = {\n",
    " 'gamma':[i for i in range(0,100,10)]\n",
    "}\n",
    "\n",
    "gsearch3d = GridSearchCV(estimator = XGBClassifier(learning_rate =0.1, n_estimators=140, max_depth=14,\n",
    "                                                  min_child_weight=0, gamma=0, subsample=0.8, \n",
    "                                                  colsample_bytree=0.8,\n",
    "                                                  objective= 'binary:logistic', scale_pos_weight=1, \n",
    "                                                  seed=27), \n",
    "                        param_grid = param_test3d, scoring='f1',iid=False, cv=5)\n",
    "gsearch3d.fit(X,y)\n",
    "gsearch3d.cv_results_, gsearch3d.best_params_, gsearch3d.best_score_"
   ]
  },
  {
   "cell_type": "code",
   "execution_count": null,
   "metadata": {
    "ExecuteTime": {
     "end_time": "2020-11-24T16:32:26.253826Z",
     "start_time": "2020-11-24T16:32:16.328465Z"
    }
   },
   "outputs": [],
   "source": [
    "param_test4 = {\n",
    " 'subsample':[i/10.0 for i in range(6,10)], #test values of 0.6 to 0.9\n",
    " 'colsample_bytree':[i/10.0 for i in range(6,10)] #test values of 0.6 to 0.9\n",
    "}\n",
    "\n",
    "gsearch4 = GridSearchCV(estimator = XGBClassifier(learning_rate =0.1, n_estimators=140, max_depth=8,\n",
    "                                                  min_child_weight=0, gamma=0, subsample=0.8, \n",
    "                                                  colsample_bytree=0.8,\n",
    "                                                  objective= 'binary:logistic', scale_pos_weight=1, \n",
    "                                                  seed=27), \n",
    "                        param_grid = param_test4, scoring='f1',iid=False, cv=5)\n",
    "gsearch4.fit(X,y)\n",
    "gsearch4.cv_results_, gsearch4.best_params_, gsearch4.best_score_"
   ]
  },
  {
   "cell_type": "code",
   "execution_count": null,
   "metadata": {
    "ExecuteTime": {
     "end_time": "2020-11-24T16:32:40.350929Z",
     "start_time": "2020-11-24T16:32:26.253826Z"
    }
   },
   "outputs": [],
   "source": [
    "param_test4b = {\n",
    " 'subsample':[i/100.0 for i in range(50,75,5)],\n",
    " 'colsample_bytree':[i/100.0 for i in range(50,75,5)]\n",
    "}\n",
    "\n",
    "gsearch4b = GridSearchCV(estimator = XGBClassifier(learning_rate =0.1, n_estimators=140, max_depth=8,\n",
    "                                                  min_child_weight=0, gamma=0, subsample=0.8, \n",
    "                                                  colsample_bytree=0.8,\n",
    "                                                  objective= 'binary:logistic', scale_pos_weight=1, \n",
    "                                                  seed=27), \n",
    "                        param_grid = param_test4b, scoring='f1',iid=False, cv=5)\n",
    "gsearch4b.fit(X,y)\n",
    "gsearch4b.cv_results_, gsearch4b.best_params_, gsearch4b.best_score_"
   ]
  },
  {
   "cell_type": "code",
   "execution_count": null,
   "metadata": {
    "ExecuteTime": {
     "start_time": "2020-11-24T16:31:25.125Z"
    }
   },
   "outputs": [],
   "source": [
    "param_test4c = {'subsample':[i/100.0 for i in range(40,100,5)],\n",
    " 'colsample_bytree':[i/100.0 for i in range(40,80,5)]\n",
    "}\n",
    "\n",
    "gsearch4c = GridSearchCV(estimator = XGBClassifier(learning_rate =0.1, n_estimators=140, max_depth=8,\n",
    "                                                  min_child_weight=0, gamma=0, subsample=0.8, \n",
    "                                                  colsample_bytree=0.5,\n",
    "                                                  objective= 'binary:logistic', scale_pos_weight=1, \n",
    "                                                  seed=27), \n",
    "                        param_grid = param_test4c, scoring='f1',iid=False, cv=5)\n",
    "gsearch4c.fit(X,y)\n",
    "gsearch4c.cv_results_, gsearch4c.best_params_, gsearch4c.best_score_"
   ]
  },
  {
   "cell_type": "code",
   "execution_count": null,
   "metadata": {
    "ExecuteTime": {
     "start_time": "2020-11-24T16:31:25.372Z"
    }
   },
   "outputs": [],
   "source": [
    "param_test4d = {\n",
    " 'colsample_bytree':[i/100.0 for i in range(0,100,5)]\n",
    "}\n",
    "\n",
    "gsearch4d = GridSearchCV(estimator = XGBClassifier(learning_rate =0.1, n_estimators=140, max_depth=8,\n",
    "                                                  min_child_weight=0, gamma=0, subsample=0.65, \n",
    "                                                  colsample_bytree=0.4,\n",
    "                                                  objective= 'binary:logistic', scale_pos_weight=1, \n",
    "                                                  seed=27), \n",
    "                        param_grid = param_test4d, scoring='f1',iid=False, cv=5)\n",
    "gsearch4d.fit(X,y)\n",
    "gsearch4d.cv_results_, gsearch4d.best_params_, gsearch4d.best_score_"
   ]
  },
  {
   "cell_type": "code",
   "execution_count": null,
   "metadata": {
    "ExecuteTime": {
     "start_time": "2020-11-24T16:31:25.588Z"
    }
   },
   "outputs": [],
   "source": [
    "param_test5 = {\n",
    " 'reg_alpha':[1e-5, 1e-2, 0.1, 1, 100]\n",
    "}\n",
    "\n",
    "gsearch5 = GridSearchCV(estimator = XGBClassifier(learning_rate =0.1, n_estimators=140, max_depth=8,\n",
    "                                                  min_child_weight=0, gamma=0, subsample=0.65, \n",
    "                                                  colsample_bytree=0,\n",
    "                                                  objective= 'binary:logistic', scale_pos_weight=1, \n",
    "                                                  seed=27), \n",
    "                        param_grid = param_test5, scoring='f1',iid=False, cv=5)\n",
    "gsearch5.fit(X,y)\n",
    "gsearch5.cv_results_, gsearch5.best_params_, gsearch5.best_score_"
   ]
  },
  {
   "cell_type": "code",
   "execution_count": null,
   "metadata": {
    "ExecuteTime": {
     "start_time": "2020-11-24T16:31:25.808Z"
    }
   },
   "outputs": [],
   "source": [
    "param_test5b = {\n",
    " 'reg_alpha':[1e-5, 1e-4, 1e-3, 1e-2, 10,0.05,5e-3,5e-2]\n",
    "}\n",
    "\n",
    "gsearch5b = GridSearchCV(estimator = XGBClassifier(learning_rate =0.1, n_estimators=140, max_depth=8,\n",
    "                                                  min_child_weight=0, gamma=0, subsample=0.65, \n",
    "                                                  colsample_bytree=0,\n",
    "                                                  objective= 'binary:logistic', scale_pos_weight=1, \n",
    "                                                  seed=27), \n",
    "                        param_grid = param_test5b, scoring='f1',iid=False, cv=5)\n",
    "gsearch5b.fit(X,y)\n",
    "gsearch5b.cv_results_, gsearch5b.best_params_, gsearch5b.best_score_"
   ]
  },
  {
   "cell_type": "code",
   "execution_count": null,
   "metadata": {
    "ExecuteTime": {
     "start_time": "2020-11-24T16:31:26.052Z"
    }
   },
   "outputs": [],
   "source": [
    "param_test5c = {\n",
    " 'reg_alpha':[1e-5, 1e-6,1e-7,1e-8,1e-9,1e-10]\n",
    "}\n",
    "\n",
    "gsearch5c = GridSearchCV(estimator = XGBClassifier(learning_rate =0.1, n_estimators=140, max_depth=8,\n",
    "                                                  min_child_weight=0, gamma=0, subsample=0.65, \n",
    "                                                  colsample_bytree=0,\n",
    "                                                  objective= 'binary:logistic', scale_pos_weight=1, \n",
    "                                                  seed=27), \n",
    "                        param_grid = param_test5c, scoring='f1',iid=False, cv=5)\n",
    "gsearch5c.fit(X,y)\n",
    "gsearch5c.cv_results_, gsearch5c.best_params_, gsearch5c.best_score_"
   ]
  },
  {
   "cell_type": "code",
   "execution_count": null,
   "metadata": {
    "ExecuteTime": {
     "start_time": "2020-11-24T16:31:26.258Z"
    },
    "scrolled": true
   },
   "outputs": [],
   "source": [
    "param_test6 = {\n",
    " 'reg_lambda':[1e-5,0.001, 0.1, 0, 0.3,0.8]\n",
    "}\n",
    "\n",
    "gsearch6 = GridSearchCV(estimator = XGBClassifier(learning_rate =0.1, n_estimators=140, max_depth=8,\n",
    "                                                  min_child_weight=0, gamma=0, subsample=0.65, \n",
    "                                                  colsample_bytree=0, reg_alpha=1e-5,\n",
    "                                                  objective= 'binary:logistic', scale_pos_weight=1, \n",
    "                                                  seed=27), \n",
    "                        param_grid = param_test6, scoring='f1',iid=False, cv=5)\n",
    "gsearch6.fit(X,y)\n",
    "gsearch6.cv_results_, gsearch6.best_params_, gsearch6.best_score_"
   ]
  },
  {
   "cell_type": "markdown",
   "metadata": {},
   "source": [
    "Reg lambda performs worse."
   ]
  },
  {
   "cell_type": "code",
   "execution_count": null,
   "metadata": {
    "ExecuteTime": {
     "start_time": "2020-11-24T16:31:27.041Z"
    },
    "scrolled": true
   },
   "outputs": [],
   "source": [
    "param_test7 = {\n",
    " 'learning_rate':[0,1e-2,1e-3,1e-4,1e-5,1e-6,1e-7]\n",
    "}\n",
    "\n",
    "gsearch7 = GridSearchCV(estimator = XGBClassifier(learning_rate =0.1, n_estimators=140, max_depth=8,\n",
    "                                                  min_child_weight=0, gamma=0, subsample=0.65, \n",
    "                                                  colsample_bytree=0, reg_alpha=1e-5,\n",
    "                                                  objective= 'binary:logistic', scale_pos_weight=1, \n",
    "                                                  seed=27), \n",
    "                        param_grid = param_test7, scoring='f1',iid=False, cv=5)\n",
    "gsearch7.fit(X,y)\n",
    "gsearch7.cv_results_, gsearch7.best_params_, gsearch7.best_score_"
   ]
  },
  {
   "cell_type": "markdown",
   "metadata": {},
   "source": [
    "### Final XGB Model"
   ]
  },
  {
   "cell_type": "code",
   "execution_count": null,
   "metadata": {
    "ExecuteTime": {
     "start_time": "2020-11-24T16:31:28.315Z"
    }
   },
   "outputs": [],
   "source": [
    "xgb = XGBClassifier(learning_rate =0.1, n_estimators=140, max_depth=8,\n",
    "                                                  min_child_weight=0, gamma=0, subsample=0.65, \n",
    "                                                  colsample_bytree=0, reg_alpha=1e-5,\n",
    "                                                  objective= 'binary:logistic', scale_pos_weight=1, \n",
    "                                                  booster = 'dart',\n",
    "                                                  seed=27)"
   ]
  },
  {
   "cell_type": "markdown",
   "metadata": {},
   "source": [
    "### Feature Importance"
   ]
  },
  {
   "cell_type": "code",
   "execution_count": null,
   "metadata": {
    "ExecuteTime": {
     "start_time": "2020-11-24T16:31:30.745Z"
    }
   },
   "outputs": [],
   "source": [
    "from sklearn.model_selection import StratifiedKFold\n",
    "from sklearn.feature_selection import RFECV\n",
    "\n",
    "xgb_rfecv = RFECV(estimator=xgb,\n",
    "                  step=1, cv=StratifiedKFold(10), scoring='roc_auc',n_jobs=-1) \n",
    "# step means how many features are removed at each iteration\n",
    "xgb_rfecv.fit(X, y) \n",
    "print('Optimal number of features :', xgb_rfecv.n_features_)\n",
    "print('Best features :', X.columns[xgb_rfecv.support_])"
   ]
  },
  {
   "cell_type": "code",
   "execution_count": null,
   "metadata": {
    "ExecuteTime": {
     "start_time": "2020-11-24T16:31:31.378Z"
    }
   },
   "outputs": [],
   "source": [
    "class XGBClassifierWithCoef(XGBClassifier):\n",
    "    def fit(self, *args, **kwargs):\n",
    "        super(XGBClassifierWithCoef, self).fit(*args, **kwargs)\n",
    "        self.coef_ = self.feature_importances_"
   ]
  },
  {
   "cell_type": "code",
   "execution_count": null,
   "metadata": {
    "ExecuteTime": {
     "start_time": "2020-11-24T16:31:31.829Z"
    }
   },
   "outputs": [],
   "source": [
    "XGBClassifierWithCoef(xgb_rfecv).coef_"
   ]
  },
  {
   "cell_type": "code",
   "execution_count": null,
   "metadata": {
    "ExecuteTime": {
     "end_time": "2020-11-24T16:13:14.789291Z",
     "start_time": "2020-11-24T16:12:59.514Z"
    }
   },
   "outputs": [],
   "source": [
    "xgb_rfecv.grid_scores_"
   ]
  },
  {
   "cell_type": "code",
   "execution_count": null,
   "metadata": {
    "ExecuteTime": {
     "end_time": "2020-11-24T16:13:14.790288Z",
     "start_time": "2020-11-24T16:12:59.516Z"
    }
   },
   "outputs": [],
   "source": [
    "plt.figure(figsize=(16, 9))\n",
    "plt.title('XG Boost - RFECV', fontsize=18, fontweight='bold', pad=20)\n",
    "plt.xlabel('Number of features selected', fontsize=14, labelpad=20)\n",
    "plt.ylabel('% Correct Classification', fontsize=14, labelpad=20)\n",
    "plt.plot(range(1, len(xgb_rfecv.grid_scores_) + 1), xgb_rfecv.grid_scores_, color='#303F9F', linewidth=3)\n",
    "plt.show()"
   ]
  },
  {
   "cell_type": "code",
   "execution_count": null,
   "metadata": {
    "ExecuteTime": {
     "end_time": "2020-11-24T16:13:14.790288Z",
     "start_time": "2020-11-24T16:12:59.519Z"
    }
   },
   "outputs": [],
   "source": [
    "print(np.where(xgb_rfecv.support_ == False)[0])\n",
    "X.drop(X.columns[np.where(xgb_rfecv.support_ == False)[0]], axis=1, inplace=True)"
   ]
  },
  {
   "cell_type": "code",
   "execution_count": null,
   "metadata": {
    "ExecuteTime": {
     "end_time": "2020-11-24T16:13:14.791286Z",
     "start_time": "2020-11-24T16:12:59.521Z"
    }
   },
   "outputs": [],
   "source": [
    "dset = pd.DataFrame()\n",
    "dset['attr'] = X.columns\n",
    "dset['importance'] = xgb_rfecv.estimator_.feature_importances_\n",
    "dset = dset.sort_values(by='importance', ascending=False)\n",
    "\n",
    "plt.figure(figsize=(16, 10))\n",
    "plt.barh(y=dset['attr'], width=dset['importance'], color='#1976D2')\n",
    "plt.title('XG Boost - RFECV - Feature importances', fontsize=20, fontweight='bold', pad=20)\n",
    "plt.xlabel('Importance', fontsize=14, labelpad=20)\n",
    "plt.show()"
   ]
  },
  {
   "cell_type": "markdown",
   "metadata": {},
   "source": [
    "### Evaluate Model Performance"
   ]
  },
  {
   "cell_type": "code",
   "execution_count": null,
   "metadata": {
    "ExecuteTime": {
     "end_time": "2020-11-24T16:13:14.792283Z",
     "start_time": "2020-11-24T16:12:59.640Z"
    }
   },
   "outputs": [],
   "source": [
    "X_train, X_test, y_train, y_test = train_test_split(X, y, \n",
    "                                                    test_size=0.20, \n",
    "                                                    random_state=8)"
   ]
  },
  {
   "cell_type": "code",
   "execution_count": null,
   "metadata": {
    "ExecuteTime": {
     "end_time": "2020-11-24T16:13:14.792283Z",
     "start_time": "2020-11-24T16:12:59.643Z"
    }
   },
   "outputs": [],
   "source": [
    "X_train.shape"
   ]
  },
  {
   "cell_type": "code",
   "execution_count": null,
   "metadata": {
    "ExecuteTime": {
     "end_time": "2020-11-24T16:13:14.793281Z",
     "start_time": "2020-11-24T16:12:59.645Z"
    }
   },
   "outputs": [],
   "source": [
    "X_test.shape"
   ]
  },
  {
   "cell_type": "code",
   "execution_count": null,
   "metadata": {
    "ExecuteTime": {
     "end_time": "2020-11-24T16:13:14.794278Z",
     "start_time": "2020-11-24T16:12:59.648Z"
    }
   },
   "outputs": [],
   "source": [
    "xgb_rfecv_model = xgb_rfecv.fit(X_train, y_train)"
   ]
  },
  {
   "cell_type": "markdown",
   "metadata": {},
   "source": [
    "### Confusion Matrix"
   ]
  },
  {
   "cell_type": "code",
   "execution_count": null,
   "metadata": {
    "ExecuteTime": {
     "end_time": "2020-11-24T16:13:14.795275Z",
     "start_time": "2020-11-24T16:12:59.783Z"
    }
   },
   "outputs": [],
   "source": [
    "from sklearn import metrics\n",
    "y_pred = xgb_rfecv_model.predict(X_test)\n",
    "cm = metrics.confusion_matrix(y_test, y_pred)\n",
    "print(cm)"
   ]
  },
  {
   "cell_type": "code",
   "execution_count": null,
   "metadata": {
    "ExecuteTime": {
     "end_time": "2020-11-24T16:13:14.795275Z",
     "start_time": "2020-11-24T16:12:59.790Z"
    }
   },
   "outputs": [],
   "source": [
    "plt.figure(figsize=(9,9))\n",
    "sns.heatmap(cm, annot=True, fmt=\".3f\", linewidths=.5, square = True, cmap = 'Blues_r');\n",
    "plt.ylabel('Actual label');\n",
    "plt.xlabel('Predicted label');\n",
    "plt.title('Confusion Matrix');"
   ]
  },
  {
   "cell_type": "markdown",
   "metadata": {},
   "source": [
    "### Precision, Recall, F-Score, Support"
   ]
  },
  {
   "cell_type": "code",
   "execution_count": null,
   "metadata": {
    "ExecuteTime": {
     "end_time": "2020-11-24T16:13:14.796273Z",
     "start_time": "2020-11-24T16:12:59.917Z"
    }
   },
   "outputs": [],
   "source": [
    "from sklearn.metrics import classification_report\n",
    "classification_report=classification_report(y_test, y_pred)\n",
    "print(classification_report)\n",
    "#pd.DataFrame(classification_report)"
   ]
  },
  {
   "cell_type": "markdown",
   "metadata": {},
   "source": [
    "### ROC Curve"
   ]
  },
  {
   "cell_type": "code",
   "execution_count": null,
   "metadata": {
    "ExecuteTime": {
     "end_time": "2020-11-24T16:13:14.797270Z",
     "start_time": "2020-11-24T16:13:00.039Z"
    }
   },
   "outputs": [],
   "source": [
    "from sklearn.metrics import roc_auc_score\n",
    "from sklearn.metrics import roc_curve\n",
    "logit_roc_auc = roc_auc_score(y_test, xgb_rfecv_model.predict(X_test))\n",
    "fpr, tpr, thresholds = roc_curve(y_test, xgb_rfecv.predict_proba(X_test)[:,1])\n",
    "plt.figure()\n",
    "plt.plot(fpr, tpr, label='XGBoost (area = %0.2f)' % logit_roc_auc)\n",
    "plt.plot([0, 1], [0, 1],'r--')\n",
    "plt.xlim([0.0, 1.0])\n",
    "plt.ylim([0.0, 1.05])\n",
    "plt.xlabel('False Positive Rate')\n",
    "plt.ylabel('True Positive Rate')\n",
    "plt.title('Receiver operating characteristic')\n",
    "plt.legend(loc=\"lower right\")\n",
    "plt.savefig('Log_ROC_XGB_RFE')\n",
    "plt.show()"
   ]
  },
  {
   "cell_type": "markdown",
   "metadata": {},
   "source": [
    "## Random Forest Classifier"
   ]
  },
  {
   "cell_type": "code",
   "execution_count": null,
   "metadata": {
    "ExecuteTime": {
     "end_time": "2020-11-24T16:13:14.797270Z",
     "start_time": "2020-11-24T16:13:00.164Z"
    }
   },
   "outputs": [],
   "source": [
    "#Create Feature variable X and Target variable y\n",
    "y = churn_dataset['Churn']\n",
    "X = churn_dataset.drop(['Churn','customer_name','last_purchase_in_days','Probability_of_Churn',\n",
    "                       'channel_Unknown','channel_Giveaway and Other Disc. Codes',\n",
    "                       ], axis = 1)"
   ]
  },
  {
   "cell_type": "code",
   "execution_count": null,
   "metadata": {
    "ExecuteTime": {
     "end_time": "2020-11-24T16:13:14.798267Z",
     "start_time": "2020-11-24T16:13:00.166Z"
    }
   },
   "outputs": [],
   "source": [
    "rf_rfecv = RFECV(RandomForestClassifier(), cv=10, scoring='roc_auc')\n",
    "rf_rfecv = rf_rfecv.fit(X, y)\n",
    "print('Optimal number of features :', rf_rfecv.n_features_)\n",
    "print('Best features :', X.columns[rf_rfecv.support_])"
   ]
  },
  {
   "cell_type": "code",
   "execution_count": null,
   "metadata": {
    "ExecuteTime": {
     "end_time": "2020-11-24T16:13:14.799264Z",
     "start_time": "2020-11-24T16:13:00.169Z"
    }
   },
   "outputs": [],
   "source": [
    "rf_rfecv.grid_scores_"
   ]
  },
  {
   "cell_type": "code",
   "execution_count": null,
   "metadata": {
    "ExecuteTime": {
     "end_time": "2020-11-24T16:13:14.800262Z",
     "start_time": "2020-11-24T16:13:00.172Z"
    }
   },
   "outputs": [],
   "source": [
    "plt.figure(figsize=(16, 9))\n",
    "plt.title('Random Forest - RFECV', fontsize=18, fontweight='bold', pad=20)\n",
    "plt.xlabel('Number of features selected', fontsize=14, labelpad=20)\n",
    "plt.ylabel('% Correct Classification', fontsize=14, labelpad=20)\n",
    "plt.plot(range(1, len(rf_rfecv.grid_scores_) + 1), rf_rfecv.grid_scores_, color='#303F9F', linewidth=3)\n",
    "plt.show()"
   ]
  },
  {
   "cell_type": "code",
   "execution_count": null,
   "metadata": {
    "ExecuteTime": {
     "end_time": "2020-11-24T16:13:14.800262Z",
     "start_time": "2020-11-24T16:13:00.174Z"
    }
   },
   "outputs": [],
   "source": [
    "print(np.where(rf_rfecv.support_ == False)[0])\n",
    "X.drop(X.columns[np.where(rf_rfecv.support_ == False)[0]], axis=1, inplace=True)"
   ]
  },
  {
   "cell_type": "code",
   "execution_count": null,
   "metadata": {
    "ExecuteTime": {
     "end_time": "2020-11-24T16:13:14.801259Z",
     "start_time": "2020-11-24T16:13:00.178Z"
    }
   },
   "outputs": [],
   "source": [
    "rf_rfecv.estimator_.feature_importances_"
   ]
  },
  {
   "cell_type": "markdown",
   "metadata": {},
   "source": [
    "### Random Forest X and Y Re-allocation"
   ]
  },
  {
   "cell_type": "code",
   "execution_count": null,
   "metadata": {
    "ExecuteTime": {
     "end_time": "2020-11-24T16:13:14.801259Z",
     "start_time": "2020-11-24T16:13:00.304Z"
    }
   },
   "outputs": [],
   "source": [
    "X = np.c_[churn_dataset['net_sales']]\n",
    "y = np.c_[churn_dataset['Churn']]"
   ]
  },
  {
   "cell_type": "code",
   "execution_count": null,
   "metadata": {
    "ExecuteTime": {
     "end_time": "2020-11-24T16:13:14.802284Z",
     "start_time": "2020-11-24T16:13:00.307Z"
    }
   },
   "outputs": [],
   "source": [
    "X_train, X_test, y_train, y_test = train_test_split(X, y, test_size=0.2, random_state=8)"
   ]
  },
  {
   "cell_type": "code",
   "execution_count": null,
   "metadata": {
    "ExecuteTime": {
     "end_time": "2020-11-24T16:13:14.803254Z",
     "start_time": "2020-11-24T16:13:00.310Z"
    }
   },
   "outputs": [],
   "source": [
    "y_train = y_train.ravel()"
   ]
  },
  {
   "cell_type": "code",
   "execution_count": null,
   "metadata": {
    "ExecuteTime": {
     "end_time": "2020-11-24T16:13:14.804252Z",
     "start_time": "2020-11-24T16:13:00.313Z"
    }
   },
   "outputs": [],
   "source": [
    "from sklearn.ensemble import RandomForestClassifier\n",
    "rf_model=RandomForestClassifier().fit(X_train,y_train)"
   ]
  },
  {
   "cell_type": "code",
   "execution_count": null,
   "metadata": {
    "ExecuteTime": {
     "end_time": "2020-11-24T16:13:14.805248Z",
     "start_time": "2020-11-24T16:13:00.315Z"
    }
   },
   "outputs": [],
   "source": [
    "rf_model.predict(X)"
   ]
  },
  {
   "cell_type": "markdown",
   "metadata": {},
   "source": [
    "### Confusion Matrix"
   ]
  },
  {
   "cell_type": "code",
   "execution_count": null,
   "metadata": {
    "ExecuteTime": {
     "end_time": "2020-11-24T16:13:14.805248Z",
     "start_time": "2020-11-24T16:13:00.449Z"
    }
   },
   "outputs": [],
   "source": [
    "from sklearn import metrics\n",
    "y_pred = rf_model.predict(X_test)\n",
    "# testing score\n",
    "score = metrics.roc_auc_score(y_test, y_pred)\n",
    "score =\"Random Forest ROC_AUC: {:.2%}\".format(score)\n",
    "score"
   ]
  },
  {
   "cell_type": "code",
   "execution_count": null,
   "metadata": {
    "ExecuteTime": {
     "end_time": "2020-11-24T16:13:14.806250Z",
     "start_time": "2020-11-24T16:13:00.452Z"
    }
   },
   "outputs": [],
   "source": [
    "cm = metrics.confusion_matrix(y_test, y_pred)\n",
    "print(cm)"
   ]
  },
  {
   "cell_type": "code",
   "execution_count": null,
   "metadata": {
    "ExecuteTime": {
     "end_time": "2020-11-24T16:13:14.807244Z",
     "start_time": "2020-11-24T16:13:00.455Z"
    }
   },
   "outputs": [],
   "source": [
    "plt.figure(figsize=(9,9))\n",
    "sns.heatmap(cm, annot=True, fmt=\".3f\", linewidths=.5, square = True, cmap = 'Blues_r');\n",
    "plt.ylabel('Actual label');\n",
    "plt.xlabel('Predicted label');\n",
    "plt.title('Confusion Matrix');"
   ]
  },
  {
   "cell_type": "markdown",
   "metadata": {},
   "source": [
    "### Precision, Recall, F-Score and Support"
   ]
  },
  {
   "cell_type": "code",
   "execution_count": null,
   "metadata": {
    "ExecuteTime": {
     "end_time": "2020-11-24T16:13:14.808242Z",
     "start_time": "2020-11-24T16:13:00.636Z"
    }
   },
   "outputs": [],
   "source": [
    "from sklearn.metrics import classification_report\n",
    "print(classification_report(y_test, y_pred))"
   ]
  },
  {
   "cell_type": "markdown",
   "metadata": {},
   "source": [
    "### ROC Curve"
   ]
  },
  {
   "cell_type": "code",
   "execution_count": null,
   "metadata": {
    "ExecuteTime": {
     "end_time": "2020-11-24T16:13:14.808242Z",
     "start_time": "2020-11-24T16:13:00.777Z"
    },
    "scrolled": true
   },
   "outputs": [],
   "source": [
    "from sklearn.metrics import roc_auc_score\n",
    "from sklearn.metrics import roc_curve\n",
    "logit_roc_auc = roc_auc_score(y_test, rf_model.predict(X_test))\n",
    "fpr, tpr, thresholds = roc_curve(y_test, rf_model.predict_proba(X_test)[:,1])\n",
    "plt.figure()\n",
    "plt.plot(fpr, tpr, label='Random Forest Classifier (area = %0.2f)' % logit_roc_auc)\n",
    "plt.plot([0, 1], [0, 1],'r--')\n",
    "plt.xlim([0.0, 1.0])\n",
    "plt.ylim([0.0, 1.05])\n",
    "plt.xlabel('False Positive Rate')\n",
    "plt.ylabel('True Positive Rate')\n",
    "plt.title('Receiver operating characteristic')\n",
    "plt.legend(loc=\"lower right\")\n",
    "plt.savefig('Log_ROC_RF')\n",
    "plt.show()"
   ]
  },
  {
   "cell_type": "markdown",
   "metadata": {},
   "source": [
    "XGB performs the best."
   ]
  },
  {
   "cell_type": "markdown",
   "metadata": {},
   "source": [
    "# Churn Dataset post-prediction"
   ]
  },
  {
   "cell_type": "code",
   "execution_count": null,
   "metadata": {
    "ExecuteTime": {
     "end_time": "2020-11-24T16:13:14.809239Z",
     "start_time": "2020-11-24T16:13:01.064Z"
    }
   },
   "outputs": [],
   "source": [
    "churn_dataset.columns"
   ]
  },
  {
   "cell_type": "code",
   "execution_count": null,
   "metadata": {
    "ExecuteTime": {
     "end_time": "2020-11-24T16:13:14.810236Z",
     "start_time": "2020-11-24T16:13:01.067Z"
    }
   },
   "outputs": [],
   "source": [
    "churn_prediction = xgb_rfecv_model.predict(X)"
   ]
  },
  {
   "cell_type": "code",
   "execution_count": null,
   "metadata": {
    "ExecuteTime": {
     "end_time": "2020-11-24T16:13:14.810236Z",
     "start_time": "2020-11-24T16:13:01.070Z"
    }
   },
   "outputs": [],
   "source": [
    "pd.DataFrame(churn_prediction)"
   ]
  },
  {
   "cell_type": "code",
   "execution_count": null,
   "metadata": {
    "ExecuteTime": {
     "end_time": "2020-11-24T16:13:14.811232Z",
     "start_time": "2020-11-24T16:13:01.072Z"
    }
   },
   "outputs": [],
   "source": [
    "churn_dataset['churn_prediction']=churn_prediction"
   ]
  },
  {
   "cell_type": "code",
   "execution_count": null,
   "metadata": {
    "ExecuteTime": {
     "end_time": "2020-11-24T16:13:14.812230Z",
     "start_time": "2020-11-24T16:13:01.075Z"
    },
    "scrolled": true
   },
   "outputs": [],
   "source": [
    "churn_dataset[['customer_name','churn_prediction']]"
   ]
  },
  {
   "cell_type": "markdown",
   "metadata": {
    "ExecuteTime": {
     "end_time": "2020-11-19T14:56:10.671405Z",
     "start_time": "2020-11-19T14:56:10.663399Z"
    }
   },
   "source": [
    "As we now have the churn prediction, we do not need the churn probability any more.\n",
    "We can drop these columns."
   ]
  },
  {
   "cell_type": "code",
   "execution_count": null,
   "metadata": {
    "ExecuteTime": {
     "end_time": "2020-11-24T16:13:14.813227Z",
     "start_time": "2020-11-24T16:13:01.211Z"
    }
   },
   "outputs": [],
   "source": [
    "churn_dataset.columns"
   ]
  },
  {
   "cell_type": "markdown",
   "metadata": {},
   "source": [
    "# Predict churn on the New Purchase"
   ]
  },
  {
   "cell_type": "code",
   "execution_count": null,
   "metadata": {
    "ExecuteTime": {
     "end_time": "2020-11-24T16:13:14.813227Z",
     "start_time": "2020-11-24T16:13:01.351Z"
    }
   },
   "outputs": [],
   "source": [
    "import pandas as pd\n",
    "import numpy as np\n",
    "from googleapiclient.discovery import build\n",
    "from google_auth_oauthlib.flow import InstalledAppFlow,Flow\n",
    "from google.auth.transport.requests import Request\n",
    "import os\n",
    "import pickle\n",
    "\n",
    "os.chdir(r'C:\\Users\\luc57.DESKTOP-NB5DC80\\AE\\ipynb')\n",
    "SCOPES = ['https://www.googleapis.com/auth/spreadsheets']\n",
    "\n",
    "# here enter the id of your google sheet\n",
    "SAMPLE_SPREADSHEET_ID_input = ''\n",
    "SAMPLE_RANGE_NAME = 'A1:ZZ30000'\n",
    "\n",
    "def main():\n",
    "    global values_input, service\n",
    "    creds = None\n",
    "    if os.path.exists('token.pickle'):\n",
    "        with open('token.pickle', 'rb') as token:\n",
    "            creds = pickle.load(token)\n",
    "    if not creds or not creds.valid:\n",
    "        if creds and creds.expired and creds.refresh_token:\n",
    "            creds.refresh(Request())\n",
    "        else:\n",
    "            flow = InstalledAppFlow.from_client_secrets_file(\n",
    "                'credentials.json', SCOPES) # here enter the name of your downloaded JSON file\n",
    "            creds = flow.run_local_server(port=0)\n",
    "        with open('token.pickle', 'wb') as token:\n",
    "            pickle.dump(creds, token)\n",
    "\n",
    "    service = build('sheets', 'v4', credentials=creds)\n",
    "\n",
    "    # Call the Sheets API\n",
    "    sheet = service.spreadsheets()\n",
    "    result_input = sheet.values().get(spreadsheetId=SAMPLE_SPREADSHEET_ID_input,\n",
    "                                range=SAMPLE_RANGE_NAME).execute()\n",
    "    values_input = result_input.get('values', [])\n",
    "\n",
    "    if not values_input and not values_expansion:\n",
    "        print('No data found.')\n",
    "\n",
    "main()\n",
    "\n",
    "churn_dataset2=pd.DataFrame(values_input[1:], columns=values_input[0])\n",
    "#file must be a google sheets, not a normal xlsx uploaded to gdrive\n",
    "#file to be uploaded is customer_df(gender)"
   ]
  },
  {
   "cell_type": "code",
   "execution_count": null,
   "metadata": {
    "ExecuteTime": {
     "end_time": "2020-11-24T16:13:14.814224Z",
     "start_time": "2020-11-24T16:13:01.354Z"
    }
   },
   "outputs": [],
   "source": [
    "new_purchase = churn_dataset2.loc[churn_dataset2['Churn']=='New Purchase']\n",
    "print(len(new_purchase.customer_name.unique()))"
   ]
  },
  {
   "cell_type": "code",
   "execution_count": null,
   "metadata": {
    "ExecuteTime": {
     "end_time": "2020-11-24T16:13:14.815222Z",
     "start_time": "2020-11-24T16:13:01.357Z"
    }
   },
   "outputs": [],
   "source": [
    "new_purchase.drop(columns=[''],inplace=True)"
   ]
  },
  {
   "cell_type": "markdown",
   "metadata": {},
   "source": [
    "Let us predict whether these 721 customers will churn or not."
   ]
  },
  {
   "cell_type": "code",
   "execution_count": null,
   "metadata": {
    "ExecuteTime": {
     "end_time": "2020-11-24T16:13:14.815222Z",
     "start_time": "2020-11-24T16:13:01.497Z"
    }
   },
   "outputs": [],
   "source": [
    "new_purchase.columns"
   ]
  },
  {
   "cell_type": "code",
   "execution_count": null,
   "metadata": {
    "ExecuteTime": {
     "end_time": "2020-11-24T16:13:14.816219Z",
     "start_time": "2020-11-24T16:13:01.500Z"
    }
   },
   "outputs": [],
   "source": [
    "# Convert String values (Churned and Survived) of Churn column to 1 and 0\n",
    "new_purchase.loc[new_purchase.Churn=='Churned','Churn'] = 1 \n",
    "new_purchase.loc[new_purchase.Churn=='Survived','Churn'] = 0 "
   ]
  },
  {
   "cell_type": "code",
   "execution_count": null,
   "metadata": {
    "ExecuteTime": {
     "end_time": "2020-11-24T16:13:14.817217Z",
     "start_time": "2020-11-24T16:13:01.503Z"
    }
   },
   "outputs": [],
   "source": [
    "# Convert String values (Male and Female) of gender column to 1 and 0\n",
    "new_purchase.loc[new_purchase.gender=='Male','gender'] = 1 \n",
    "new_purchase.loc[new_purchase.gender=='Female','gender'] = 0 "
   ]
  },
  {
   "cell_type": "code",
   "execution_count": null,
   "metadata": {
    "ExecuteTime": {
     "end_time": "2020-11-24T16:13:14.817217Z",
     "start_time": "2020-11-24T16:13:01.505Z"
    }
   },
   "outputs": [],
   "source": [
    "new_purchase['gender'] = new_purchase['gender'].astype(int)\n",
    "new_purchase.dtypes"
   ]
  },
  {
   "cell_type": "code",
   "execution_count": null,
   "metadata": {
    "ExecuteTime": {
     "end_time": "2020-11-24T16:13:14.818214Z",
     "start_time": "2020-11-24T16:13:01.508Z"
    }
   },
   "outputs": [],
   "source": [
    "#Perform One Hot Encoding using get_dummies method\n",
    "new_purchase = pd.get_dummies(new_purchase, columns = ['channel','country','city'],\n",
    "                              drop_first=True)"
   ]
  },
  {
   "cell_type": "code",
   "execution_count": null,
   "metadata": {
    "ExecuteTime": {
     "end_time": "2020-11-24T16:13:14.819211Z",
     "start_time": "2020-11-24T16:13:01.510Z"
    }
   },
   "outputs": [],
   "source": [
    "#Perform Feature Scaling and One Hot Encoding\n",
    "from sklearn.preprocessing import StandardScaler\n",
    "\n",
    "#Perform Feature Scaling on numerical columns with large range in order to bring them on same scale\n",
    "standardScaler = StandardScaler()\n",
    "columns_for_ft_scaling = ['last_purchase_in_days','order_count','discount_code_used',\n",
    "                          'average_order_value','net_sales']\n",
    "\n",
    "#Apply the feature scaling operation on dataset using fit_transform() method\n",
    "new_purchase[columns_for_ft_scaling] = standardScaler.fit_transform(new_purchase[columns_for_ft_scaling])\n"
   ]
  },
  {
   "cell_type": "code",
   "execution_count": null,
   "metadata": {
    "ExecuteTime": {
     "end_time": "2020-11-24T16:13:14.819211Z",
     "start_time": "2020-11-24T16:13:01.513Z"
    }
   },
   "outputs": [],
   "source": [
    "new_purchase.columns"
   ]
  },
  {
   "cell_type": "code",
   "execution_count": null,
   "metadata": {
    "ExecuteTime": {
     "end_time": "2020-11-24T16:13:14.820208Z",
     "start_time": "2020-11-24T16:13:01.516Z"
    }
   },
   "outputs": [],
   "source": [
    "new_purchase.drop(columns=['postal_code','earliest_transaction_date','last_transaction_date',\n",
    "                            'last_purchase_in_days','expected_purchase_date'],inplace=True)"
   ]
  },
  {
   "cell_type": "code",
   "execution_count": null,
   "metadata": {
    "ExecuteTime": {
     "end_time": "2020-11-24T16:13:14.821206Z",
     "start_time": "2020-11-24T16:13:01.518Z"
    }
   },
   "outputs": [],
   "source": [
    "X_new_purchase=new_purchase.drop(columns=['customer_name','Churn'])\n",
    "y_new_purchase=new_purchase['Churn']"
   ]
  },
  {
   "cell_type": "code",
   "execution_count": null,
   "metadata": {
    "ExecuteTime": {
     "end_time": "2020-11-24T16:13:14.821206Z",
     "start_time": "2020-11-24T16:13:01.521Z"
    }
   },
   "outputs": [],
   "source": [
    "dt_rfecv_model.fit(X_new_purchase,y_new_purchase)"
   ]
  },
  {
   "cell_type": "code",
   "execution_count": null,
   "metadata": {
    "ExecuteTime": {
     "end_time": "2020-11-24T16:13:14.822203Z",
     "start_time": "2020-11-24T16:13:01.524Z"
    }
   },
   "outputs": [],
   "source": [
    "new_purchase"
   ]
  }
 ],
 "metadata": {
  "kernelspec": {
   "display_name": "Python 3",
   "language": "python",
   "name": "python3"
  },
  "language_info": {
   "codemirror_mode": {
    "name": "ipython",
    "version": 3
   },
   "file_extension": ".py",
   "mimetype": "text/x-python",
   "name": "python",
   "nbconvert_exporter": "python",
   "pygments_lexer": "ipython3",
   "version": "3.8.3"
  },
  "toc": {
   "base_numbering": 1,
   "nav_menu": {},
   "number_sections": true,
   "sideBar": true,
   "skip_h1_title": false,
   "title_cell": "Table of Contents",
   "title_sidebar": "Contents",
   "toc_cell": false,
   "toc_position": {
    "height": "calc(100% - 180px)",
    "left": "10px",
    "top": "150px",
    "width": "299.2px"
   },
   "toc_section_display": true,
   "toc_window_display": true
  }
 },
 "nbformat": 4,
 "nbformat_minor": 4
}
