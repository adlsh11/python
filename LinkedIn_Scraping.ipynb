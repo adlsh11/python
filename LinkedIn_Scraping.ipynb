{
 "cells": [
  {
   "cell_type": "code",
   "execution_count": 6,
   "metadata": {
    "ExecuteTime": {
     "end_time": "2021-05-10T06:52:39.160595Z",
     "start_time": "2021-05-10T06:52:39.155585Z"
    }
   },
   "outputs": [],
   "source": [
    "url='https://www.linkedin.com/jobs/search/?f_E=1%2C2%2C3&f_F=bd%2Canls%2Ccnsl%2Cit%2Cprdm&f_JT=F&f_PP=106967730&geoId=101282230&keywords=business%20analytics&location=Germany#'"
   ]
  },
  {
   "cell_type": "code",
   "execution_count": 7,
   "metadata": {
    "ExecuteTime": {
     "end_time": "2021-05-10T06:52:40.186309Z",
     "start_time": "2021-05-10T06:52:40.176336Z"
    }
   },
   "outputs": [],
   "source": [
    "import requests\n",
    "\n",
    "from bs4 import BeautifulSoup"
   ]
  },
  {
   "cell_type": "markdown",
   "metadata": {},
   "source": [
    "# HTTP request"
   ]
  },
  {
   "cell_type": "code",
   "execution_count": 8,
   "metadata": {
    "ExecuteTime": {
     "end_time": "2021-05-10T06:52:41.749803Z",
     "start_time": "2021-05-10T06:52:40.858919Z"
    }
   },
   "outputs": [],
   "source": [
    "webpage = requests.get(url, 'html.parser')"
   ]
  },
  {
   "cell_type": "markdown",
   "metadata": {},
   "source": [
    "## Turn website into a soup object"
   ]
  },
  {
   "cell_type": "code",
   "execution_count": 9,
   "metadata": {
    "ExecuteTime": {
     "end_time": "2021-05-10T06:52:44.622451Z",
     "start_time": "2021-05-10T06:52:44.581722Z"
    }
   },
   "outputs": [],
   "source": [
    "soup = BeautifulSoup(webpage.content);"
   ]
  },
  {
   "cell_type": "code",
   "execution_count": 10,
   "metadata": {
    "ExecuteTime": {
     "end_time": "2021-05-10T06:52:49.570236Z",
     "start_time": "2021-05-10T06:52:49.486336Z"
    }
   },
   "outputs": [
    {
     "data": {
      "text/plain": [
       "<!DOCTYPE html>\n",
       "<html lang=\"en\"><head><meta content=\"d_jobs_guest_search\" name=\"pageKey\"/><meta content=\"urlType=jserp_custom;emptyResult=false\" name=\"linkedin:pageTag\"/><meta content=\"en_US\" name=\"locale\"/><meta data-app-id=\"com.linkedin.jobs-guest-frontend.d_web\" data-app-version=\"\" data-custom-tracking-code=\"\" data-jet-tags=\"\" data-multiproduct-name=\"\" data-service-name=\"jobs-guest-frontend\" data-tracking-page-type=\"\" id=\"config\"/><meta data-use-location-for-dp=\"\" data-use-page-title=\"\" id=\"google-analytics-config\"/><link href=\"https://de.linkedin.com/jobs/business-analytics-stellen\" rel=\"canonical\"/><link href=\"https://static-exp1.licdn.com/sc/h/al2o9zrvru7aqj8e1x2rzsrca\" rel=\"icon\"/><script>function getDfd() {let yFn,nFn;const p=new Promise((y, n)=>{yFn=y;nFn=n;});p.resolve=yFn;p.reject=nFn;return p;}window.lazyloader = getDfd();window.tracking = getDfd();window.impressionTracking = getDfd();window.pemTracking = getDfd();window.ingraphTracking = getDfd();window.appDetection = getDfd();</script><script async=\"\" src=\"https://static-exp1.licdn.com/sc/h/zrzhhhhzo3j2o02nyb1wo78s\"></script><meta content=\"Today’s top 401 Business Analytics jobs in Germany. Leverage your professional network, and get hired. New Business Analytics jobs added daily.\" name=\"description\"/><meta content=\"noarchive\" name=\"robots\"/><meta content=\"width=device-width, initial-scale=1\" name=\"viewport\"/><meta content=\"jobs-guest-frontend\" name=\"litmsProfileName\"/><meta charset=\"utf-8\"/><meta content=\"https://www.linkedin.com/jobs/search/?f_E=1%2C2%2C3&amp;f_F=bd%2Canls%2Ccnsl%2Cit%2Cprdm&amp;f_JT=F&amp;f_PP=106967730&amp;geoId=101282230&amp;keywords=business%20analytics&amp;location=Germany&amp;html.parser\" property=\"lnkd:url\"/><meta content=\"summary_large_image\" name=\"twitter:card\"/><meta content=\"@LinkedIn\" name=\"twitter:site\"/><meta content=\"Today’s top 401 Business Analytics jobs in Germany. Leverage your professional network, and get hired. New Business Analytics jobs added daily.\" name=\"twitter:description\"/><meta content=\"website\" property=\"og:type\"/><meta content=\"https://de.linkedin.com/jobs/business-analytics-stellen\" property=\"og:url\"/><meta content=\"Today’s top 401 Business Analytics jobs in Germany. Leverage your professional network, and get hired. New Business Analytics jobs added daily.\" property=\"og:description\"/><link href=\"https://static-exp1.licdn.com/sc/h/cp2sm5g2tkkgg9tugf2zsr43a\" rel=\"stylesheet\"/>\n",
       "<title>401 Business Analytics jobs in Germany (7 new)</title><meta content=\"401 Business Analytics jobs in Germany (7 new)\" property=\"og:title\"/><meta content=\"401 Business Analytics jobs in Germany (7 new)\" name=\"twitter:title\"/><meta content=\"1\" data-counter-metric-endpoint=\"/jobs-guest/api/ingraphs/counter\" data-gauge-metric-endpoint=\"/jobs-guest/api/ingraphs/gauge\" name=\"clientSideIngraphs\"/></head><body><div aria-live=\"assertive\" class=\"global-alert-banner\" id=\"artdeco-global-alert-container\" role=\"alert\"><div alert-id=\"urn:li:alert:10\" aria-hidden=\"true\" class=\"artdeco-global-alert artdeco-global-alert--NOTICE artdeco-global-alert--COOKIE_CONSENT\" severity=\"NOTICE\" type=\"COOKIE_CONSENT\"><section class=\"artdeco-global-alert__body\"><li-icon class=\"artdeco-global-alert__icon\"><span><svg height=\"24\" version=\"1.1\" width=\"24\" xmlns=\"http://www.w3.org/2000/svg\" xmlns:xlink=\"http://www.w3.org/1999/xlink\"><path d=\"M12,2C6.5,2,2,6.5,2,12c0,5.5,4.5,10,10,10c5.5,0,10-4.5,10-10C22,6.5,17.5,2,12,2zM12,20.2c-4.5,0-8.2-3.7-8.2-8.2S7.5,3.8,12,3.8s8.2,3.7,8.2,8.2S16.5,20.2,12,20.2zM11,10h2v8h-2V10zM11,6h2v2h-2V6z\" fill=\"#fff\"></path></svg></span></li-icon><div class=\"artdeco-global-alert__responsive-container\"><div class=\"artdeco-global-alert__content\"><p>We and third parties such as our customers, partners, and service providers use cookies and similar technologies (\"cookies\") to provide and secure our Services, to understand and improve their performance, and to serve relevant ads (including job ads) on and off LinkedIn. For more information, see our <a href=\"https://www.linkedin.com/legal/cookie-policy\">Cookie Policy</a>.</p><p>Select <b>Accept cookies</b> to consent to this use or <b>Manage preferences</b> to make your cookie choices. You can change your cookie choices and withdraw your consent in your settings at any time.</p></div><div class=\"artdeco-global-alert-action__wrapper\"><button action-type=\"LINK\" class=\"artdeco-global-alert-action artdeco-button artdeco-button--inverse artdeco-button--2 artdeco-button--primary\" data-control-name=\"urn:li:control:ga-cookie.consent.manage.cookie.v3\" data-tracking-control-name=\"urn:li:control:ga-cookie.consent.manage.cookie.v3\">Manage preferences</button><button action-type=\"ACCEPT\" class=\"artdeco-global-alert-action artdeco-button artdeco-button--inverse artdeco-button--2 artdeco-button--primary\" data-control-name=\"urn:li:control:ga-cookie.consent.accept.v3\" data-tracking-control-name=\"urn:li:control:ga-cookie.consent.accept.v3\">Accept cookies</button></div></div></section></div><div alert-id=\"urn:li:alert:3\" aria-hidden=\"true\" class=\"artdeco-global-alert artdeco-global-alert--NOTICE artdeco-global-alert--COOKIE_USAGE\" severity=\"NOTICE\" type=\"COOKIE_USAGE\"><section class=\"artdeco-global-alert__body\"><li-icon class=\"artdeco-global-alert__icon\"><span><svg height=\"24\" version=\"1.1\" width=\"24\" xmlns=\"http://www.w3.org/2000/svg\" xmlns:xlink=\"http://www.w3.org/1999/xlink\"><path d=\"M12,2C6.5,2,2,6.5,2,12c0,5.5,4.5,10,10,10c5.5,0,10-4.5,10-10C22,6.5,17.5,2,12,2zM12,20.2c-4.5,0-8.2-3.7-8.2-8.2S7.5,3.8,12,3.8s8.2,3.7,8.2,8.2S16.5,20.2,12,20.2zM11,10h2v8h-2V10zM11,6h2v2h-2V6z\" fill=\"#fff\"></path></svg></span></li-icon><div class=\"artdeco-global-alert__responsive-container\"><div class=\"artdeco-global-alert__content\">This website uses cookies to improve service and provide tailored ads. By using this site, you agree to this use. See our <a href=\"https://www.linkedin.com/legal/cookie-policy\">Cookie Policy</a></div></div><button class=\"artdeco-global-alert__dismiss\"><li-icon class=\"artdeco-global-alert__icon artdeco-global-alert__icon--dismissed\"><span><svg height=\"16\" version=\"1.1\" width=\"16\" xmlns=\"http://www.w3.org/2000/svg\" xmlns:xlink=\"http://www.w3.org/1999/xlink\"><path d=\"M13,4.32L9.31,8,13,11.69,11.69,13,8,9.31,4.31,13,3,11.69,6.69,8,3,4.31,4.31,3,8,6.69,11.68,3Z\" fill=\"#fff\"></path></svg></span><span class=\"a11y-text\">dismiss</span></li-icon></button></section></div></div><script async=\"\" defer=\"\" src=\"https://static-exp1.licdn.com/sc/h/bgc0xoxehcyjah3ufkdu20gij\"></script><a class=\"skip-link\" href=\"#main-content\">Skip to main content</a><header class=\"header\"><nav aria-label=\"Primary\" class=\"nav\"><a class=\"nav__logo-link\" data-tracking-control-name=\"public_jobs_nav-header-logo\" data-tracking-will-navigate=\"\" href=\"/?trk=public_jobs_nav-header-logo\"><span class=\"sr-only\">LinkedIn</span><icon class=\"nav-logo\" data-delayed-url=\"https://static-exp1.licdn.com/sc/h/8fkga714vy9b2wk5auqo5reeb\"></icon></a><section class=\"search-bar\" data-current-search-type=\"JOBS\"><button aria-label=\"Expand search\" class=\"search-bar__placeholder show-on-mobile hide-on-desktop\" data-tracking-control-name=\"public_jobs_search-switcher-opener\"><div class=\"search-bar__full-placeholder\">Business Analytics in Germany</div></button><div class=\"switcher-tabs__trigger-and-tabs\"><button aria-expanded=\"false\" class=\"switcher-tabs__placeholder hide-on-mobile\" data-tracking-control-name=\"public_jobs_switcher-tabs-placeholder\"><span class=\"switcher-tabs__placeholder-text\"></span><icon class=\"switcher-tabs__caret-down-filled onload\" data-delayed-url=\"https://static-exp1.licdn.com/sc/h/7asbl4deqijhoy3z2ivveispv\"></icon></button><div class=\"switcher-tabs hide-on-desktop hide-on-mobile\"><ul class=\"switcher-tabs__list\"><li class=\"switcher-tabs__tab switcher-tabs__tab--active\"><button aria-selected=\"true\" class=\"switcher-tabs__button\" data-switcher-type=\"JOBS\" data-tracking-control-name=\"public_jobs_switcher-tabs-jobs-search-switcher\" role=\"tab\" type=\"button\">Jobs</button></li><li class=\"switcher-tabs__tab\"><button aria-selected=\"false\" class=\"switcher-tabs__button\" data-switcher-type=\"PEOPLE\" data-tracking-control-name=\"public_jobs_switcher-tabs-people-search-switcher\" role=\"tab\" type=\"button\">People</button></li><li class=\"switcher-tabs__tab\"><button aria-selected=\"false\" class=\"switcher-tabs__button\" data-switcher-type=\"LEARNING\" data-tracking-control-name=\"public_jobs_switcher-tabs-learning-search-switcher\" role=\"tab\" type=\"button\">Learning</button></li></ul><button aria-label=\"Close\" class=\"switcher-tabs__cancel-btn hide-on-desktop\" data-tracking-control-name=\"public_jobs_switcher-tabs-cancel-search-switcher\" type=\"button\"><icon class=\"switcher-tabs__cancel-icon onload\" data-delayed-url=\"https://static-exp1.licdn.com/sc/h/cs55jggk4p3uqh9ozxdmpvjg7\"></icon></button></div></div><section class=\"base-search-bar\" data-searchbar-type=\"PEOPLE\"><form action=\"/pub/dir\" class=\"base-search-bar__form\" data-tracking-control-name=\"public_jobs_people-search-bar_base-search-bar-form\" role=\"search\"><section class=\"dismissable-input search-input\"><input aria-label=\"First Name\" autocomplete=\"on\" class=\"dismissable-input__input\" data-tracking-control-name=\"public_jobs_people-search-bar_first-name_dismissable-input\" maxlength=\"500\" name=\"firstName\" placeholder=\"First Name\" type=\"search\" value=\"\"/><button class=\"dismissable-input__button\" data-tracking-control-name=\"public_jobs_people-search-bar_first-name_dismissable-input-clear\" type=\"button\"><label class=\"screen-reader-text\">Dismiss</label><icon class=\"dismissable-input__button-icon\" data-delayed-url=\"https://static-exp1.licdn.com/sc/h/cs55jggk4p3uqh9ozxdmpvjg7\"></icon></button></section><section class=\"dismissable-input search-input\"><input aria-label=\"Last Name\" autocomplete=\"on\" class=\"dismissable-input__input\" data-tracking-control-name=\"public_jobs_people-search-bar_last-name_dismissable-input\" maxlength=\"500\" name=\"lastName\" placeholder=\"Last Name\" type=\"search\" value=\"\"/><button class=\"dismissable-input__button\" data-tracking-control-name=\"public_jobs_people-search-bar_last-name_dismissable-input-clear\" type=\"button\"><label class=\"screen-reader-text\">Dismiss</label><icon class=\"dismissable-input__button-icon\" data-delayed-url=\"https://static-exp1.licdn.com/sc/h/cs55jggk4p3uqh9ozxdmpvjg7\"></icon></button></section><input name=\"trk\" type=\"hidden\" value=\"public_jobs_people-search-bar_search-submit\"/><button aria-label=\"Search\" class=\"base-search-bar__submit-btn\" data-tracking-control-name=\"public_jobs_people-search-bar_base-search-bar-search-submit\" type=\"submit\"><icon class=\"base-search-bar__search-icon onload\" data-delayed-url=\"https://static-exp1.licdn.com/sc/h/a6wnw1b2dk8748w5uni4o96fa\"></icon></button></form></section><section class=\"base-search-bar\" data-searchbar-type=\"JOBS\"><form action=\"/jobs/search\" class=\"base-search-bar__form\" data-tracking-control-name=\"public_jobs_jobs-search-bar_base-search-bar-form\" role=\"search\"><code id=\"i18n_aria_live_text_no-suggestions\" style=\"display: none;\"><!--\"No suggestions found\"--></code><code id=\"i18n_aria_live_text_one-suggestion\" style=\"display: none;\"><!--\"One Suggestion. Use up and down keys to navigate\"--></code><code id=\"i18n_aria_live_text_multiple-suggestions\" style=\"display: none;\"><!--\"Multiple Suggestions. Use up and down keys to navigate\"--></code><section aria-haspopup=\"listbox\" aria-owns=\"job-search-bar-keywords-typeahead-list\" class=\"dismissable-input typeahead-input keywords-typeahead-input\" role=\"combobox\"><input aria-autocomplete=\"list\" aria-controls=\"job-search-bar-keywords-typeahead-list\" aria-label=\"Search job titles or companies\" autocomplete=\"off\" class=\"dismissable-input__input\" data-tracking-control-name=\"public_jobs_jobs-search-bar_dismissable-input\" maxlength=\"500\" name=\"keywords\" placeholder=\"Search job titles or companies\" type=\"search\" value=\"Business Analytics\"/><button class=\"dismissable-input__button\" data-tracking-control-name=\"public_jobs_jobs-search-bar_dismissable-input-clear\" type=\"button\"><label class=\"screen-reader-text\">Dismiss</label><icon class=\"dismissable-input__button-icon\" data-delayed-url=\"https://static-exp1.licdn.com/sc/h/cs55jggk4p3uqh9ozxdmpvjg7\"></icon></button><div class=\"typeahead-input__dropdown\"><template class=\"typeahead-item-template\"><li class=\"typeahead-input__dropdown-item\" role=\"option\"><span class=\"typeahead-input__dropdown-text\"></span></li></template><ul class=\"typeahead-input__dropdown-list\" id=\"job-search-bar-keywords-typeahead-list\" role=\"listbox\"></ul></div></section><code id=\"i18n_aria_live_text_no-suggestions\" style=\"display: none;\"><!--\"No suggestions found\"--></code><code id=\"i18n_aria_live_text_one-suggestion\" style=\"display: none;\"><!--\"One Suggestion. Use up and down keys to navigate\"--></code><code id=\"i18n_aria_live_text_multiple-suggestions\" style=\"display: none;\"><!--\"Multiple Suggestions. Use up and down keys to navigate\"--></code><section aria-haspopup=\"listbox\" aria-owns=\"job-search-bar-location-typeahead-list\" class=\"dismissable-input typeahead-input location-typeahead-input\" role=\"combobox\"><input aria-autocomplete=\"list\" aria-controls=\"job-search-bar-location-typeahead-list\" aria-label=\"Location\" autocomplete=\"off\" class=\"dismissable-input__input\" data-tracking-control-name=\"public_jobs_jobs-search-bar_dismissable-input\" maxlength=\"500\" name=\"location\" placeholder=\"Location\" type=\"search\" value=\"Germany\"/><button class=\"dismissable-input__button\" data-tracking-control-name=\"public_jobs_jobs-search-bar_dismissable-input-clear\" type=\"button\"><label class=\"screen-reader-text\">Dismiss</label><icon class=\"dismissable-input__button-icon\" data-delayed-url=\"https://static-exp1.licdn.com/sc/h/cs55jggk4p3uqh9ozxdmpvjg7\"></icon></button><div class=\"typeahead-input__dropdown\"><template class=\"typeahead-item-template\"><li class=\"typeahead-input__dropdown-item\" role=\"option\"><span class=\"typeahead-input__dropdown-text\"></span></li></template><ul class=\"typeahead-input__dropdown-list\" id=\"job-search-bar-location-typeahead-list\" role=\"listbox\"></ul></div></section><input name=\"geoId\" type=\"hidden\" value=\"101282230\"/><input name=\"trk\" type=\"hidden\" value=\"public_jobs_jobs-search-bar_search-submit\"/><button aria-label=\"Search\" class=\"base-search-bar__submit-btn\" data-tracking-control-name=\"public_jobs_jobs-search-bar_base-search-bar-search-submit\" type=\"submit\"><icon class=\"base-search-bar__search-icon onload\" data-delayed-url=\"https://static-exp1.licdn.com/sc/h/a6wnw1b2dk8748w5uni4o96fa\"></icon></button></form></section><section class=\"base-search-bar\" data-searchbar-type=\"LEARNING\"><form action=\"/learning/search\" class=\"base-search-bar__form\" data-tracking-control-name=\"public_jobs_learning-search-bar_base-search-bar-form\" role=\"search\"><section class=\"dismissable-input search-input\"><input aria-label=\"Search skills, subjects, or software\" autocomplete=\"on\" class=\"dismissable-input__input\" data-tracking-control-name=\"public_jobs_learning-search-bar_keywords_dismissable-input\" maxlength=\"500\" name=\"keywords\" placeholder=\"Search skills, subjects, or software\" type=\"search\" value=\"Business Analytics\"/><button class=\"dismissable-input__button\" data-tracking-control-name=\"public_jobs_learning-search-bar_keywords_dismissable-input-clear\" type=\"button\"><label class=\"screen-reader-text\">Dismiss</label><icon class=\"dismissable-input__button-icon\" data-delayed-url=\"https://static-exp1.licdn.com/sc/h/cs55jggk4p3uqh9ozxdmpvjg7\"></icon></button></section><!--  this input class name can not be changed, this is what tracking.js on LGFE is expecting--><input class=\"nav__search-uoo\" name=\"upsellOrderOrigin\" type=\"hidden\"/><input name=\"trk\" type=\"hidden\" value=\"public_jobs_learning-search-bar_search-submit\"/><button aria-label=\"Search\" class=\"base-search-bar__submit-btn\" data-tracking-control-name=\"public_jobs_learning-search-bar_base-search-bar-search-submit\" type=\"submit\"><icon class=\"base-search-bar__search-icon onload\" data-delayed-url=\"https://static-exp1.licdn.com/sc/h/a6wnw1b2dk8748w5uni4o96fa\"></icon></button></form></section><div aria-live=\"polite\" class=\"search-bar__live-text sr-only\" role=\"status\"></div></section><div class=\"nav__cta-container\"><a class=\"nav__button-tertiary\" data-tracking-control-name=\"public_jobs_nav-header-join\" data-tracking-will-navigate=\"\" href=\"https://www.linkedin.com/signup/cold-join?source=jobs_registration&amp;session_redirect=https%3A%2F%2Fwww.linkedin.com%2Fjobs%2Fsearch%2F%3Ff_E%3D1%252C2%252C3%26f_F%3Dbd%252Canls%252Ccnsl%252Cit%252Cprdm%26f_JT%3DF%26f_PP%3D106967730%26geoId%3D101282230%26keywords%3Dbusiness%2520analytics%26location%3DGermany%26html.parser&amp;trk=public_jobs_nav-header-join\">Join now</a><a class=\"nav__button-secondary\" data-tracking-control-name=\"public_jobs_nav-header-signin\" data-tracking-will-navigate=\"\" href=\"https://www.linkedin.com/login?emailAddress=&amp;fromSignIn=true&amp;session_redirect=https%3A%2F%2Fwww.linkedin.com%2Fjobs%2Fsearch%2F%3Ff_E%3D1%252C2%252C3%26f_F%3Dbd%252Canls%252Ccnsl%252Cit%252Cprdm%26f_JT%3DF%26f_PP%3D106967730%26geoId%3D101282230%26keywords%3Dbusiness%2520analytics%26location%3DGermany%26html.parser&amp;trk=public_jobs_nav-header-signin\">Sign in</a></div></nav><section class=\"control-bar\"><code id=\"num-selected-filters\" style=\"display: none;\"><!--\"+5 filters\"--></code><form class=\"top-filters\"><ul class=\"top-filters__list\"><li class=\"top-filters__item\"><div class=\"filter-dropdown filter-dropdown--single filter-dropdown--has-selected filter-dropdown--guest-house filter-button-dropdown\"><button aria-controls=\"-dropdown\" aria-expanded=\"false\" class=\"filter-dropdown__button filter-button filter-button--single filter-button--has-selected filter-button--guest-house\" data-tracking-control-name=\"public_jobs_-dropdown\" type=\"button\">Most relevant<icon class=\"filter-button__icon\" data-delayed-url=\"https://static-exp1.licdn.com/sc/h/7asbl4deqijhoy3z2ivveispv\"></icon></button><div class=\"filter-dropdown__dropdown\" id=\"-dropdown\"><fieldset><legend class=\"sr-only\">Sort by</legend><div class=\"filter-list\" data-is-single-select=\"true\" data-short-name=\"sortBy\"><ul class=\"filter-list__list\"><li class=\"filter-list__list-item filter-button-dropdown__list-item\"><input checked=\"\" id=\"-0\" name=\"sortBy\" type=\"radio\" value=\"R\"/><label class=\"filter-list__list-item-label\" for=\"-0\">Most relevant</label></li><li class=\"filter-list__list-item filter-button-dropdown__list-item\"><input id=\"-1\" name=\"sortBy\" type=\"radio\" value=\"DD\"/><label class=\"filter-list__list-item-label\" for=\"-1\">Most recent</label></li></ul></div><div class=\"filter-button-dropdown__dropdown-actions\"><button class=\"filter-button-dropdown__action filter-button-dropdown__action--apply\" data-tracking-control-name=\"sortBy-done-btn\" data-tracking-will-navigate=\"\" type=\"submit\">Done</button></div></fieldset></div></div></li><li class=\"top-filters__item\"><div class=\"filter-dropdown filter-dropdown--single filter-dropdown--has-selected filter-dropdown--guest-house filter-button-dropdown\"><button aria-controls=\"TIME_POSTED_RANGE-dropdown\" aria-expanded=\"false\" class=\"filter-dropdown__button filter-button filter-button--single filter-button--has-selected filter-button--guest-house\" data-tracking-control-name=\"public_jobs_TIME_POSTED_RANGE-dropdown\" type=\"button\">Any Time<icon class=\"filter-button__icon\" data-delayed-url=\"https://static-exp1.licdn.com/sc/h/7asbl4deqijhoy3z2ivveispv\"></icon></button><div class=\"filter-dropdown__dropdown\" id=\"TIME_POSTED_RANGE-dropdown\"><fieldset><legend class=\"sr-only\">Date Posted</legend><div class=\"filter-list\" data-is-single-select=\"true\" data-short-name=\"f_TPR\"><ul class=\"filter-list__list\"><li class=\"filter-list__list-item filter-button-dropdown__list-item\"><input id=\"TIME_POSTED_RANGE-0\" name=\"f_TPR\" type=\"radio\" value=\"r86400\"/><label class=\"filter-list__list-item-label\" for=\"TIME_POSTED_RANGE-0\">Past 24 hours <span class=\"filter-list__label-count\">(7)</span></label></li><li class=\"filter-list__list-item filter-button-dropdown__list-item\"><input id=\"TIME_POSTED_RANGE-1\" name=\"f_TPR\" type=\"radio\" value=\"r604800\"/><label class=\"filter-list__list-item-label\" for=\"TIME_POSTED_RANGE-1\">Past Week <span class=\"filter-list__label-count\">(84)</span></label></li><li class=\"filter-list__list-item filter-button-dropdown__list-item\"><input id=\"TIME_POSTED_RANGE-2\" name=\"f_TPR\" type=\"radio\" value=\"r2592000\"/><label class=\"filter-list__list-item-label\" for=\"TIME_POSTED_RANGE-2\">Past Month <span class=\"filter-list__label-count\">(297)</span></label></li><li class=\"filter-list__list-item filter-button-dropdown__list-item\"><input checked=\"\" id=\"TIME_POSTED_RANGE-3\" name=\"f_TPR\" type=\"radio\" value=\"\"/><label class=\"filter-list__list-item-label\" for=\"TIME_POSTED_RANGE-3\">Any Time <span class=\"filter-list__label-count\">(401)</span></label></li></ul></div><div class=\"filter-button-dropdown__dropdown-actions\"><button class=\"filter-button-dropdown__action filter-button-dropdown__action--apply\" data-tracking-control-name=\"f_TPR-done-btn\" data-tracking-will-navigate=\"\" type=\"submit\">Done</button></div></fieldset></div></div></li><li class=\"top-filters__item\"><div class=\"filter-dropdown filter-dropdown--single filter-dropdown--has-selected filter-dropdown--guest-house filter-button-dropdown\"><button aria-controls=\"POPULATED_PLACE-dropdown\" aria-expanded=\"false\" class=\"filter-dropdown__button filter-button filter-button--single filter-button--has-selected filter-button--guest-house\" data-tracking-control-name=\"public_jobs_POPULATED_PLACE-dropdown\" type=\"button\">Berlin<icon class=\"filter-button__icon\" data-delayed-url=\"https://static-exp1.licdn.com/sc/h/7asbl4deqijhoy3z2ivveispv\"></icon></button><div class=\"filter-dropdown__dropdown\" id=\"POPULATED_PLACE-dropdown\"><fieldset><legend class=\"sr-only\">Location</legend><div class=\"filter-list\" data-is-single-select=\"\" data-short-name=\"f_PP\"><code id=\"i18n_live_region_no-suggestions\" style=\"display: none;\"><!--\"No suggestions found\"--></code><code id=\"i18n_live_region_one-suggestion\" style=\"display: none;\"><!--\"One Suggestion. Use up and down keys to navigate\"--></code><code id=\"i18n_live_region_multiple-suggestions\" style=\"display: none;\"><!--\"Multiple Suggestions. Use up and down keys to navigate\"--></code><div class=\"typeahead filter-button-dropdown__typeahead\" id=\"filter-button-facet-typeahead-f_PP\"><div aria-live=\"polite\" class=\"sr-only\" id=\"live-region\" role=\"status\"></div><input aria-activedescendant=\"\" aria-autocomplete=\"list\" aria-expanded=\"false\" aria-label=\"Add a filter for Location\" aria-owns=\"filter-button-facet-typeahead-f_PP-suggestions-list\" class=\"typeahead__input\" id=\"filter-button-facet-typeahead-f_PP-input\" name=\"value\" placeholder=\"Add a filter\" role=\"combobox\" type=\"text\" value=\"\"/><button class=\"typeahead__button\" type=\"button\"><span class=\"sr-only\">Dismiss</span><icon data-delayed-url=\"https://static-exp1.licdn.com/sc/h/c62wbyjzgy67o1dm9umuzlx8z\"></icon></button><div class=\"typeahead-dropdown\"><ul class=\"typeahead-dropdown__list\" id=\"filter-button-facet-typeahead-f_PP-suggestions-list\" role=\"listbox\"></ul></div></div><ul class=\"filter-list__list\"><li class=\"filter-list__list-item filter-button-dropdown__list-item\"><input checked=\"\" id=\"POPULATED_PLACE-0\" name=\"f_PP\" type=\"checkbox\" value=\"106967730\"/><label class=\"filter-list__list-item-label\" for=\"POPULATED_PLACE-0\">Berlin <span class=\"filter-list__label-count\">(401)</span></label></li><li class=\"filter-list__list-item filter-button-dropdown__list-item\"><input id=\"POPULATED_PLACE-1\" name=\"f_PP\" type=\"checkbox\" value=\"100495942\"/><label class=\"filter-list__list-item-label\" for=\"POPULATED_PLACE-1\">Munich <span class=\"filter-list__label-count\">(264)</span></label></li><li class=\"filter-list__list-item filter-button-dropdown__list-item\"><input id=\"POPULATED_PLACE-2\" name=\"f_PP\" type=\"checkbox\" value=\"100477049\"/><label class=\"filter-list__list-item-label\" for=\"POPULATED_PLACE-2\">Munich <span class=\"filter-list__label-count\">(263)</span></label></li><li class=\"filter-list__list-item filter-button-dropdown__list-item\"><input id=\"POPULATED_PLACE-3\" name=\"f_PP\" type=\"checkbox\" value=\"106430557\"/><label class=\"filter-list__list-item-label\" for=\"POPULATED_PLACE-3\">Hamburg <span class=\"filter-list__label-count\">(194)</span></label></li><li class=\"filter-list__list-item filter-button-dropdown__list-item\"><input id=\"POPULATED_PLACE-4\" name=\"f_PP\" type=\"checkbox\" value=\"106491352\"/><label class=\"filter-list__list-item-label\" for=\"POPULATED_PLACE-4\">Düsseldorf <span class=\"filter-list__label-count\">(131)</span></label></li></ul></div><div class=\"filter-button-dropdown__dropdown-actions\"><button class=\"filter-button-dropdown__action filter-button-dropdown__action--apply\" data-tracking-control-name=\"f_PP-done-btn\" data-tracking-will-navigate=\"\" type=\"submit\">Done</button></div></fieldset></div></div></li><li class=\"top-filters__item\"><div class=\"filter-dropdown filter-dropdown--single filter-dropdown--has-selected filter-dropdown--guest-house filter-button-dropdown\"><button aria-controls=\"JOB_TYPE-dropdown\" aria-expanded=\"false\" class=\"filter-dropdown__button filter-button filter-button--single filter-button--has-selected filter-button--guest-house\" data-tracking-control-name=\"public_jobs_JOB_TYPE-dropdown\" type=\"button\">Full-time<icon class=\"filter-button__icon\" data-delayed-url=\"https://static-exp1.licdn.com/sc/h/7asbl4deqijhoy3z2ivveispv\"></icon></button><div class=\"filter-dropdown__dropdown\" id=\"JOB_TYPE-dropdown\"><fieldset><legend class=\"sr-only\">Job Type</legend><div class=\"filter-list\" data-is-single-select=\"\" data-short-name=\"f_JT\"><ul class=\"filter-list__list\"><li class=\"filter-list__list-item filter-button-dropdown__list-item\"><input checked=\"\" id=\"JOB_TYPE-0\" name=\"f_JT\" type=\"checkbox\" value=\"F\"/><label class=\"filter-list__list-item-label\" for=\"JOB_TYPE-0\">Full-time <span class=\"filter-list__label-count\">(401)</span></label></li><li class=\"filter-list__list-item filter-button-dropdown__list-item\"><input id=\"JOB_TYPE-1\" name=\"f_JT\" type=\"checkbox\" value=\"P\"/><label class=\"filter-list__list-item-label\" for=\"JOB_TYPE-1\">Part-time <span class=\"filter-list__label-count\">(2)</span></label></li><li class=\"filter-list__list-item filter-button-dropdown__list-item\"><input id=\"JOB_TYPE-2\" name=\"f_JT\" type=\"checkbox\" value=\"C\"/><label class=\"filter-list__list-item-label\" for=\"JOB_TYPE-2\">Contract <span class=\"filter-list__label-count\">(15)</span></label></li><li class=\"filter-list__list-item filter-button-dropdown__list-item\"><input id=\"JOB_TYPE-3\" name=\"f_JT\" type=\"checkbox\" value=\"I\"/><label class=\"filter-list__list-item-label\" for=\"JOB_TYPE-3\">Internship <span class=\"filter-list__label-count\">(11)</span></label></li></ul></div><div class=\"filter-button-dropdown__dropdown-actions\"><button class=\"filter-button-dropdown__action filter-button-dropdown__action--apply\" data-tracking-control-name=\"f_JT-done-btn\" data-tracking-will-navigate=\"\" type=\"submit\">Done</button></div></fieldset></div></div></li><li class=\"top-filters__item\"><div class=\"filter-dropdown filter-dropdown--single filter-dropdown--has-selected filter-dropdown--guest-house filter-button-dropdown\"><button aria-controls=\"EXPERIENCE-dropdown\" aria-expanded=\"false\" class=\"filter-dropdown__button filter-button filter-button--single filter-button--has-selected filter-button--guest-house\" data-tracking-control-name=\"public_jobs_EXPERIENCE-dropdown\" type=\"button\">Experience Level<span class=\"filter-button__count\">(3)</span><icon class=\"filter-button__icon\" data-delayed-url=\"https://static-exp1.licdn.com/sc/h/7asbl4deqijhoy3z2ivveispv\"></icon></button><div class=\"filter-dropdown__dropdown\" id=\"EXPERIENCE-dropdown\"><fieldset><legend class=\"sr-only\">Experience Level</legend><div class=\"filter-list\" data-is-single-select=\"\" data-short-name=\"f_E\"><ul class=\"filter-list__list\"><li class=\"filter-list__list-item filter-button-dropdown__list-item\"><input checked=\"\" id=\"EXPERIENCE-0\" name=\"f_E\" type=\"checkbox\" value=\"1\"/><label class=\"filter-list__list-item-label\" for=\"EXPERIENCE-0\">Internship <span class=\"filter-list__label-count\">(8)</span></label></li><li class=\"filter-list__list-item filter-button-dropdown__list-item\"><input checked=\"\" id=\"EXPERIENCE-1\" name=\"f_E\" type=\"checkbox\" value=\"2\"/><label class=\"filter-list__list-item-label\" for=\"EXPERIENCE-1\">Entry level <span class=\"filter-list__label-count\">(123)</span></label></li><li class=\"filter-list__list-item filter-button-dropdown__list-item\"><input checked=\"\" id=\"EXPERIENCE-2\" name=\"f_E\" type=\"checkbox\" value=\"3\"/><label class=\"filter-list__list-item-label\" for=\"EXPERIENCE-2\">Associate <span class=\"filter-list__label-count\">(270)</span></label></li><li class=\"filter-list__list-item filter-button-dropdown__list-item\"><input id=\"EXPERIENCE-3\" name=\"f_E\" type=\"checkbox\" value=\"4\"/><label class=\"filter-list__list-item-label\" for=\"EXPERIENCE-3\">Mid-Senior level <span class=\"filter-list__label-count\">(144)</span></label></li><li class=\"filter-list__list-item filter-button-dropdown__list-item\"><input id=\"EXPERIENCE-4\" name=\"f_E\" type=\"checkbox\" value=\"5\"/><label class=\"filter-list__list-item-label\" for=\"EXPERIENCE-4\">Director <span class=\"filter-list__label-count\">(29)</span></label></li></ul></div><div class=\"filter-button-dropdown__dropdown-actions\"><button class=\"filter-button-dropdown__action filter-button-dropdown__action--apply\" data-tracking-control-name=\"f_E-done-btn\" data-tracking-will-navigate=\"\" type=\"submit\">Done</button></div></fieldset></div></div></li><li class=\"top-filters__item top-filters__item--more-filters\"><div class=\"filter-dropdown filter-dropdown--guest-house filter-dropdown--more-filters\"><button aria-controls=\"more-filters-dropdown\" aria-expanded=\"false\" class=\"filter-dropdown__button filter-button filter-button--guest-house filter-button--more-filters\" data-tracking-control-name=\"public_jobs_more-filters-dropdown\" type=\"button\">More Filters<icon class=\"filter-button__icon\" data-delayed-url=\"https://static-exp1.licdn.com/sc/h/7asbl4deqijhoy3z2ivveispv\"></icon></button><div class=\"filter-dropdown__dropdown\" id=\"more-filters-dropdown\"><ul class=\"top-filters__item--more-filters-list\"><li class=\"top-filters__item--more-filters-item\" data-short-name=\"f_C\"><div class=\"filter-collapse\"><button aria-controls=\"facet-collapse-f_C\" aria-expanded=\"false\" class=\"filter-collapse__option-button\" data-tracking-control-name=\"public_jobs_filter-collapse-btn\"><span>Company</span><icon class=\"lazy-load filter-collapse__option-icon\" data-delayed-url=\"https://static-exp1.licdn.com/sc/h/cyolgscd0imw2ldqppkrb84vo\"></icon></button><div class=\"filter-collapse__option-filter\" id=\"facet-collapse-f_C\"><div class=\"filter-list\" data-is-single-select=\"\" data-short-name=\"f_C\"><code id=\"i18n_live_region_no-suggestions\" style=\"display: none;\"><!--\"No suggestions found\"--></code><code id=\"i18n_live_region_one-suggestion\" style=\"display: none;\"><!--\"One Suggestion. Use up and down keys to navigate\"--></code><code id=\"i18n_live_region_multiple-suggestions\" style=\"display: none;\"><!--\"Multiple Suggestions. Use up and down keys to navigate\"--></code><div class=\"typeahead\" id=\"facet-typeahead\"><div aria-live=\"polite\" class=\"sr-only\" id=\"live-region\" role=\"status\"></div><input aria-activedescendant=\"\" aria-autocomplete=\"list\" aria-expanded=\"false\" aria-label=\"Add a filter for Company\" aria-owns=\"facet-typeahead-suggestions-list\" class=\"typeahead__input\" id=\"facet-typeahead-input\" name=\"value\" placeholder=\"Add a filter\" role=\"combobox\" type=\"text\" value=\"\"/><button class=\"typeahead__button\" type=\"button\"><span class=\"sr-only\">Dismiss</span><icon data-delayed-url=\"https://static-exp1.licdn.com/sc/h/c62wbyjzgy67o1dm9umuzlx8z\"></icon></button><div class=\"typeahead-dropdown\"><ul class=\"typeahead-dropdown__list\" id=\"facet-typeahead-suggestions-list\" role=\"listbox\"></ul></div></div><ul class=\"filter-list__list\"><li class=\"filter-list__list-item\"><input id=\"COMPANY-0\" name=\"f_C\" type=\"checkbox\" value=\"1893\"/><label class=\"filter-list__list-item-label\" for=\"COMPANY-0\">Bayer <span class=\"filter-list__label-count\">(5)</span></label></li><li class=\"filter-list__list-item\"><input id=\"COMPANY-1\" name=\"f_C\" type=\"checkbox\" value=\"14815756\"/><label class=\"filter-list__list-item-label\" for=\"COMPANY-1\">FREE NOW <span class=\"filter-list__label-count\">(4)</span></label></li><li class=\"filter-list__list-item\"><input id=\"COMPANY-2\" name=\"f_C\" type=\"checkbox\" value=\"585873\"/><label class=\"filter-list__list-item-label\" for=\"COMPANY-2\">GetYourGuide <span class=\"filter-list__label-count\">(4)</span></label></li><li class=\"filter-list__list-item\"><input id=\"COMPANY-3\" name=\"f_C\" type=\"checkbox\" value=\"1586\"/><label class=\"filter-list__list-item-label\" for=\"COMPANY-3\">Amazon <span class=\"filter-list__label-count\">(2)</span></label></li><li class=\"filter-list__list-item\"><input id=\"COMPANY-4\" name=\"f_C\" type=\"checkbox\" value=\"65460470\"/><label class=\"filter-list__list-item-label\" for=\"COMPANY-4\">Gorillas <span class=\"filter-list__label-count\">(2)</span></label></li></ul></div><button class=\"more-filters__done button-primary\" data-tracking-control-name=\"f_C-done-btn\" data-tracking-will-navigate=\"\" type=\"submit\">Done</button></div></div></li></ul></div></div></li><li class=\"top-filters__item top-filters__item--clear\"><button class=\"top-filters__clear-button\" data-tracking-control-name=\"public_jobs_top-filters-clear-btn\" data-tracking-will-navigate=\"\">Reset</button></li></ul></form></section></header><main class=\"results results--two-pane\" id=\"main-content\" role=\"main\"><div class=\"results__container results__container--two-pane\"><section class=\"search-header\"><div class=\"create-alert-modal-outlet__container create-alert-modal-outlet__container--toggle create-alert-modal-outlet__container--toggle-secondary\"><div class=\"create-alert-modal-outlet__toggle-text\" id=\"create-alert-modal-outlet-toggle-text\"><div class=\"create-alert-modal-outlet__toggle-text-container\"><span>Turn on job alerts</span></div></div><div class=\"create-alert-modal-outlet__toggle\" data-modal=\"create-alert-modal-outlet\"><div class=\"toggle\"><span class=\"hidden\" id=\"toggle-public_jobs_create-alert-modal-outlet__toggle-description\">Turn on job alerts</span><input aria-describedby=\"toggle-public_jobs_create-alert-modal-outlet__toggle-description\" class=\"toggle__checkbox\" data-tracking-control-name=\"public_jobs_create-alert-modal-outlet__toggle\" id=\"toggle-public_jobs_create-alert-modal-outlet__toggle\" name=\"toggle-public_jobs_create-alert-modal-outlet__toggle\" role=\"switch\" type=\"checkbox\"/><label class=\"toggle__label\" for=\"toggle-public_jobs_create-alert-modal-outlet__toggle\"><span class=\"toggle__label-text toggle__label-text--checked\">On</span><span class=\"toggle__label-text toggle__label-text--unchecked\">Off</span></label></div></div></div></section><section class=\"results__list\"><div class=\"results-context-header\"><h1 class=\"results-context-header__context\"> <span class=\"results-context-header__job-count\">401</span> <span class=\"results-context-header__query-search\">Business Analytics Jobs in Germany</span> <span class=\"results-context-header__new-jobs\">(7 new)</span></h1></div><ul class=\"jobs-search__results-list\"><li class=\"result-card job-result-card result-card--with-hover-state\" data-column=\"1\" data-entity-urn=\"urn:li:jobPosting:2506038051\" data-id=\"2506038051\" data-row=\"1\" data-search-id=\"p2BiFnlyyAQl7Au9/0ld0Q==\" data-tracking-id=\"ZazGxgQ7Y9M0ubBVMw7+cQ==\"><a class=\"result-card__full-card-link\" data-tracking-client-ingraph=\"\" data-tracking-control-name=\"public_jobs_job-result-card_result-card_full-click\" data-tracking-will-navigate=\"\" href=\"https://de.linkedin.com/jobs/view/business-analytics-lead-enablement-m-f-d-at-free-now-2506038051?refId=p2BiFnlyyAQl7Au9%2F0ld0Q%3D%3D&amp;trackingId=ZazGxgQ7Y9M0ubBVMw7%2BcQ%3D%3D&amp;position=1&amp;pageNum=0&amp;trk=public_jobs_job-result-card_result-card_full-click\"><span class=\"screen-reader-text\">Business Analytics Lead (Enablement) (m/f/d)</span></a><img alt=\"FREE NOW Graphic\" aria-hidden=\"true\" class=\"artdeco-entity-image job-result-card artdeco-entity-image--square-4 job-result-card--square-4 result-card__image\" data-delayed-url=\"https://media-exp1.licdn.com/dms/image/C4D0BAQE0_x2z_vkuog/company-logo_100_100/0/1598261274200?e=1628726400&amp;v=beta&amp;t=EsiGifLKk-meyWNy9ZpGViIPP-nRSmkdnHpgz36leU4\" data-ghost-classes=\"artdeco-entity-image--ghost job-result-card--ghost\" data-ghost-url=\"https://static-exp1.licdn.com/sc/h/9rxpcj33wtsq3w7nxb3u3ku6e\"/><div class=\"result-card__contents job-result-card__contents\"><h3 class=\"result-card__title job-result-card__title\">Business Analytics Lead (Enablement) (m/f/d)</h3><h4 class=\"result-card__subtitle job-result-card__subtitle\"><a class=\"result-card__subtitle-link job-result-card__subtitle-link\" data-tracking-client-ingraph=\"\" data-tracking-control-name=\"public_jobs_job-result-card_result-card_subtitle-click\" data-tracking-will-navigate=\"\" href=\"https://de.linkedin.com/company/free-now?trk=public_jobs_job-result-card_result-card_subtitle-click\">FREE NOW</a></h4><div class=\"result-card__meta job-result-card__meta\"><span class=\"job-result-card__location\">Berlin, Berlin, Germany</span><p class=\"job-result-card__snippet\">At least 3+ years of professional experience in business analytics or a related field. As the lead of the Analytics Enablement team at ...</p><time class=\"job-result-card__listdate\" datetime=\"2021-04-16\">3 weeks ago</time></div></div></li><li class=\"result-card job-result-card result-card--with-hover-state\" data-column=\"1\" data-entity-urn=\"urn:li:jobPosting:2418475085\" data-id=\"2418475085\" data-row=\"2\" data-search-id=\"p2BiFnlyyAQl7Au9/0ld0Q==\" data-tracking-id=\"6Nqa7KH+p4GMxBrlw57Alg==\"><a class=\"result-card__full-card-link\" data-tracking-client-ingraph=\"\" data-tracking-control-name=\"public_jobs_job-result-card_result-card_full-click\" data-tracking-will-navigate=\"\" href=\"https://de.linkedin.com/jobs/view/analytics-engineer-at-nubank-2418475085?refId=p2BiFnlyyAQl7Au9%2F0ld0Q%3D%3D&amp;trackingId=6Nqa7KH%2Bp4GMxBrlw57Alg%3D%3D&amp;position=2&amp;pageNum=0&amp;trk=public_jobs_job-result-card_result-card_full-click\"><span class=\"screen-reader-text\">Analytics Engineer</span></a><img alt=\"Nubank Graphic\" aria-hidden=\"true\" class=\"artdeco-entity-image job-result-card artdeco-entity-image--square-4 job-result-card--square-4 result-card__image\" data-delayed-url=\"https://media-exp1.licdn.com/dms/image/C4D0BAQHSRoBK10CrMw/company-logo_100_100/0/1561994086966?e=1628726400&amp;v=beta&amp;t=1UecSFRzhz0zrldK9U-zyVi3cFUDrXGXytXODbE3bBg\" data-ghost-classes=\"artdeco-entity-image--ghost job-result-card--ghost\" data-ghost-url=\"https://static-exp1.licdn.com/sc/h/9rxpcj33wtsq3w7nxb3u3ku6e\"/><div class=\"result-card__contents job-result-card__contents\"><h3 class=\"result-card__title job-result-card__title\">Analytics Engineer</h3><h4 class=\"result-card__subtitle job-result-card__subtitle\"><a class=\"result-card__subtitle-link job-result-card__subtitle-link\" data-tracking-client-ingraph=\"\" data-tracking-control-name=\"public_jobs_job-result-card_result-card_subtitle-click\" data-tracking-will-navigate=\"\" href=\"https://br.linkedin.com/company/nubank?trk=public_jobs_job-result-card_result-card_subtitle-click\">Nubank</a></h4><div class=\"result-card__meta job-result-card__meta\"><span class=\"job-result-card__location\">Berlin, Berlin, Germany</span><p class=\"job-result-card__snippet\">Solid professional and/or academic experience as a Data Analyst, Business Analyst, or other quantitative disciplines. Familiarity with ...</p><time class=\"job-result-card__listdate\" datetime=\"2021-04-22\">3 weeks ago</time></div></div></li><li class=\"result-card job-result-card result-card--with-hover-state\" data-column=\"1\" data-entity-urn=\"urn:li:jobPosting:2454056167\" data-id=\"2454056167\" data-row=\"3\" data-search-id=\"p2BiFnlyyAQl7Au9/0ld0Q==\" data-tracking-id=\"7CCTqxK3ZRV0AGZ3QHGC0A==\"><a class=\"result-card__full-card-link\" data-tracking-client-ingraph=\"\" data-tracking-control-name=\"public_jobs_job-result-card_result-card_full-click\" data-tracking-will-navigate=\"\" href=\"https://de.linkedin.com/jobs/view/graduate-analyst-at-amazon-2454056167?refId=p2BiFnlyyAQl7Au9%2F0ld0Q%3D%3D&amp;trackingId=7CCTqxK3ZRV0AGZ3QHGC0A%3D%3D&amp;position=3&amp;pageNum=0&amp;trk=public_jobs_job-result-card_result-card_full-click\"><span class=\"screen-reader-text\">Graduate Analyst</span></a><img alt=\"Amazon Graphic\" aria-hidden=\"true\" class=\"artdeco-entity-image job-result-card artdeco-entity-image--square-4 job-result-card--square-4 result-card__image\" data-delayed-url=\"https://media-exp1.licdn.com/dms/image/C560BAQHTvZwCx4p2Qg/company-logo_100_100/0/1612205615891?e=1628726400&amp;v=beta&amp;t=eaoBkECBTqv1l3Xz5QNwF5CHRYFL8jYB9v0DO6D7q9I\" data-ghost-classes=\"artdeco-entity-image--ghost job-result-card--ghost\" data-ghost-url=\"https://static-exp1.licdn.com/sc/h/9rxpcj33wtsq3w7nxb3u3ku6e\"/><div class=\"result-card__contents job-result-card__contents\"><h3 class=\"result-card__title job-result-card__title\">Graduate Analyst</h3><h4 class=\"result-card__subtitle job-result-card__subtitle\"><a class=\"result-card__subtitle-link job-result-card__subtitle-link\" data-tracking-client-ingraph=\"\" data-tracking-control-name=\"public_jobs_job-result-card_result-card_subtitle-click\" data-tracking-will-navigate=\"\" href=\"https://www.linkedin.com/company/amazon?trk=public_jobs_job-result-card_result-card_subtitle-click\">Amazon</a></h4><div class=\"result-card__meta job-result-card__meta\"><span class=\"job-result-card__location\">Berlin, Berlin, Germany</span><p class=\"job-result-card__snippet\">Highly analytical, detail-oriented and professional business sense; proven ability to develop new ideas, creative solutions and ...</p><time class=\"job-result-card__listdate\" datetime=\"2021-04-17\">3 weeks ago</time></div></div></li><li class=\"result-card job-result-card result-card--with-hover-state\" data-column=\"1\" data-entity-urn=\"urn:li:jobPosting:2530431901\" data-id=\"2530431901\" data-row=\"4\" data-search-id=\"p2BiFnlyyAQl7Au9/0ld0Q==\" data-tracking-id=\"dQYDUJKmcpZC4l8swJy34A==\"><a class=\"result-card__full-card-link\" data-tracking-client-ingraph=\"\" data-tracking-control-name=\"public_jobs_job-result-card_result-card_full-click\" data-tracking-will-navigate=\"\" href=\"https://de.linkedin.com/jobs/view/business-analytics-lead-enablement-m-f-d-at-freenow-2530431901?refId=p2BiFnlyyAQl7Au9%2F0ld0Q%3D%3D&amp;trackingId=dQYDUJKmcpZC4l8swJy34A%3D%3D&amp;position=4&amp;pageNum=0&amp;trk=public_jobs_job-result-card_result-card_full-click\"><span class=\"screen-reader-text\">Business Analytics Lead (Enablement) (m/f/d)</span></a><img alt=\"FreeNow Graphic\" aria-hidden=\"true\" class=\"artdeco-entity-image job-result-card artdeco-entity-image--square-4 job-result-card--square-4 artdeco-entity-image--ghost job-result-card--ghost result-card__image\" data-delayed-url=\"https://static-exp1.licdn.com/sc/h/9rxpcj33wtsq3w7nxb3u3ku6e\" data-ghost-classes=\"artdeco-entity-image--ghost job-result-card--ghost\" data-ghost-url=\"https://static-exp1.licdn.com/sc/h/9rxpcj33wtsq3w7nxb3u3ku6e\"/><div class=\"result-card__contents job-result-card__contents\"><h3 class=\"result-card__title job-result-card__title\">Business Analytics Lead (Enablement) (m/f/d)</h3><h4 class=\"result-card__subtitle job-result-card__subtitle\">FreeNow</h4><div class=\"result-card__meta job-result-card__meta\"><span class=\"job-result-card__location\">Berlin, Berlin, Germany</span><p class=\"job-result-card__snippet\">At least 3+ years of professional experience in business analytics or a related field. As the lead of the Analytics Enablement team at ...</p><time class=\"job-result-card__listdate\" datetime=\"2021-04-26\">2 weeks ago</time></div></div></li><li class=\"result-card job-result-card result-card--with-hover-state\" data-column=\"1\" data-entity-urn=\"urn:li:jobPosting:2474665484\" data-id=\"2474665484\" data-row=\"5\" data-search-id=\"p2BiFnlyyAQl7Au9/0ld0Q==\" data-tracking-id=\"jEes7r0ga5BXKdN1J/tVyQ==\"><a class=\"result-card__full-card-link\" data-tracking-client-ingraph=\"\" data-tracking-control-name=\"public_jobs_job-result-card_result-card_full-click\" data-tracking-will-navigate=\"\" href=\"https://de.linkedin.com/jobs/view/associate-data-analyst-business-analytics-at-getyourguide-2474665484?refId=p2BiFnlyyAQl7Au9%2F0ld0Q%3D%3D&amp;trackingId=jEes7r0ga5BXKdN1J%2FtVyQ%3D%3D&amp;position=5&amp;pageNum=0&amp;trk=public_jobs_job-result-card_result-card_full-click\"><span class=\"screen-reader-text\">Associate Data Analyst, Business Analytics</span></a><img alt=\"GetYourGuide Graphic\" aria-hidden=\"true\" class=\"artdeco-entity-image job-result-card artdeco-entity-image--square-4 job-result-card--square-4 result-card__image\" data-delayed-url=\"https://media-exp1.licdn.com/dms/image/C4D0BAQGNdpUScOOpyQ/company-logo_100_100/0/1550157630434?e=1628726400&amp;v=beta&amp;t=RBsQLKFxVQRmCMMgepfx__AA5-Nzt2x1s71f_L5bwUE\" data-ghost-classes=\"artdeco-entity-image--ghost job-result-card--ghost\" data-ghost-url=\"https://static-exp1.licdn.com/sc/h/9rxpcj33wtsq3w7nxb3u3ku6e\"/><div class=\"result-card__contents job-result-card__contents\"><h3 class=\"result-card__title job-result-card__title\">Associate Data Analyst, Business Analytics</h3><h4 class=\"result-card__subtitle job-result-card__subtitle\"><a class=\"result-card__subtitle-link job-result-card__subtitle-link\" data-tracking-client-ingraph=\"\" data-tracking-control-name=\"public_jobs_job-result-card_result-card_subtitle-click\" data-tracking-will-navigate=\"\" href=\"https://de.linkedin.com/company/getyourguide-ag?trk=public_jobs_job-result-card_result-card_subtitle-click\">GetYourGuide</a></h4><div class=\"result-card__meta job-result-card__meta\"><span class=\"job-result-card__location\">Berlin, Berlin, Germany</span><p class=\"job-result-card__snippet\">0-2 years of relevant experience interpreting data in an analytics, data science, business intelligence or other quantitative business role.</p><time class=\"job-result-card__listdate\" datetime=\"2021-04-10\">1 month ago</time></div></div></li><li class=\"result-card job-result-card result-card--with-hover-state\" data-column=\"1\" data-entity-urn=\"urn:li:jobPosting:2497738719\" data-id=\"2497738719\" data-row=\"6\" data-search-id=\"p2BiFnlyyAQl7Au9/0ld0Q==\" data-tracking-id=\"+CJA5K1WiKNR5vFQs8zV3w==\"><a class=\"result-card__full-card-link\" data-tracking-client-ingraph=\"\" data-tracking-control-name=\"public_jobs_job-result-card_result-card_full-click\" data-tracking-will-navigate=\"\" href=\"https://de.linkedin.com/jobs/view/analytics-team-lead-core-product-at-miro-2497738719?refId=p2BiFnlyyAQl7Au9%2F0ld0Q%3D%3D&amp;trackingId=%2BCJA5K1WiKNR5vFQs8zV3w%3D%3D&amp;position=6&amp;pageNum=0&amp;trk=public_jobs_job-result-card_result-card_full-click\"><span class=\"screen-reader-text\">Analytics Team Lead (Core Product)</span></a><img alt=\"Miro Graphic\" aria-hidden=\"true\" class=\"artdeco-entity-image job-result-card artdeco-entity-image--square-4 job-result-card--square-4 result-card__image\" data-delayed-url=\"https://media-exp1.licdn.com/dms/image/C4E0BAQFs9-Tb3byeRw/company-logo_100_100/0/1551991896295?e=1628726400&amp;v=beta&amp;t=8eeSd2K2PZIOPaJroXP6BdKkv5s8qFOIPuV38SwnSq0\" data-ghost-classes=\"artdeco-entity-image--ghost job-result-card--ghost\" data-ghost-url=\"https://static-exp1.licdn.com/sc/h/9rxpcj33wtsq3w7nxb3u3ku6e\"/><div class=\"result-card__contents job-result-card__contents\"><h3 class=\"result-card__title job-result-card__title\">Analytics Team Lead (Core Product)</h3><h4 class=\"result-card__subtitle job-result-card__subtitle\"><a class=\"result-card__subtitle-link job-result-card__subtitle-link\" data-tracking-client-ingraph=\"\" data-tracking-control-name=\"public_jobs_job-result-card_result-card_subtitle-click\" data-tracking-will-navigate=\"\" href=\"https://www.linkedin.com/company/mirohq?trk=public_jobs_job-result-card_result-card_subtitle-click\">Miro</a></h4><div class=\"result-card__meta job-result-card__meta\"><span class=\"job-result-card__location\">Berlin, Berlin, Germany</span><p class=\"job-result-card__snippet\">5+ years of experience in product analytics within product customer-centric organizations, 3+ years analytics management experience ...</p><time class=\"job-result-card__listdate\" datetime=\"2021-04-22\">3 weeks ago</time><span class=\"job-result-card__easy-apply-label\">Apply Now</span></div></div></li><li class=\"result-card job-result-card result-card--with-hover-state\" data-column=\"1\" data-entity-urn=\"urn:li:jobPosting:2507791455\" data-id=\"2507791455\" data-row=\"7\" data-search-id=\"p2BiFnlyyAQl7Au9/0ld0Q==\" data-tracking-id=\"PIcztSDN3rTbvwqgEoWUWw==\"><a class=\"result-card__full-card-link\" data-tracking-client-ingraph=\"\" data-tracking-control-name=\"public_jobs_job-result-card_result-card_full-click\" data-tracking-will-navigate=\"\" href=\"https://de.linkedin.com/jobs/view/business-intelligence-analyst-at-sumup-2507791455?refId=p2BiFnlyyAQl7Au9%2F0ld0Q%3D%3D&amp;trackingId=PIcztSDN3rTbvwqgEoWUWw%3D%3D&amp;position=7&amp;pageNum=0&amp;trk=public_jobs_job-result-card_result-card_full-click\"><span class=\"screen-reader-text\">Business Intelligence Analyst</span></a><img alt=\"SumUp Graphic\" aria-hidden=\"true\" class=\"artdeco-entity-image job-result-card artdeco-entity-image--square-4 job-result-card--square-4 result-card__image\" data-delayed-url=\"https://media-exp1.licdn.com/dms/image/C4D0BAQFKTfHAXegsGQ/company-logo_100_100/0/1609758363237?e=1628726400&amp;v=beta&amp;t=ndIq4xlUpsvmratbGipysIptN2lYkpKCR3DmL0bHjVQ\" data-ghost-classes=\"artdeco-entity-image--ghost job-result-card--ghost\" data-ghost-url=\"https://static-exp1.licdn.com/sc/h/9rxpcj33wtsq3w7nxb3u3ku6e\"/><div class=\"result-card__contents job-result-card__contents\"><h3 class=\"result-card__title job-result-card__title\">Business Intelligence Analyst</h3><h4 class=\"result-card__subtitle job-result-card__subtitle\"><a class=\"result-card__subtitle-link job-result-card__subtitle-link\" data-tracking-client-ingraph=\"\" data-tracking-control-name=\"public_jobs_job-result-card_result-card_subtitle-click\" data-tracking-will-navigate=\"\" href=\"https://uk.linkedin.com/company/sumup?trk=public_jobs_job-result-card_result-card_subtitle-click\">SumUp</a></h4><div class=\"result-card__meta job-result-card__meta\"><span class=\"job-result-card__location\">Berlin, Berlin, Germany</span><p class=\"job-result-card__snippet\">Deliver accurate and reliable data reporting and analytics support to steer overall business performance. Demonstrable experience in ...</p><time class=\"job-result-card__listdate\" datetime=\"2021-04-10\">4 weeks ago</time></div></div></li><li class=\"result-card job-result-card result-card--with-hover-state\" data-column=\"1\" data-entity-urn=\"urn:li:jobPosting:2516529987\" data-id=\"2516529987\" data-row=\"8\" data-search-id=\"p2BiFnlyyAQl7Au9/0ld0Q==\" data-tracking-id=\"kpFhmx5+j1SsU+PZykTV6Q==\"><a class=\"result-card__full-card-link\" data-tracking-client-ingraph=\"\" data-tracking-control-name=\"public_jobs_job-result-card_result-card_full-click\" data-tracking-will-navigate=\"\" href=\"https://de.linkedin.com/jobs/view/regional-business-intelligence-and-visualization-lead-m-f-d-emea-at-bayer-2516529987?refId=p2BiFnlyyAQl7Au9%2F0ld0Q%3D%3D&amp;trackingId=kpFhmx5%2Bj1SsU%2BPZykTV6Q%3D%3D&amp;position=8&amp;pageNum=0&amp;trk=public_jobs_job-result-card_result-card_full-click\"><span class=\"screen-reader-text\">Regional Business Intelligence and Visualization Lead (m/f/d) - EMEA</span></a><img alt=\"Bayer Graphic\" aria-hidden=\"true\" class=\"artdeco-entity-image job-result-card artdeco-entity-image--square-4 job-result-card--square-4 result-card__image\" data-delayed-url=\"https://media-exp1.licdn.com/dms/image/C4E0BAQGm86cDFq34Jg/company-logo_100_100/0/1610472111844?e=1628726400&amp;v=beta&amp;t=bul50Gb4HK_i0R4ZhAZ9bIsjz8dGYqopZropGEbPyC8\" data-ghost-classes=\"artdeco-entity-image--ghost job-result-card--ghost\" data-ghost-url=\"https://static-exp1.licdn.com/sc/h/9rxpcj33wtsq3w7nxb3u3ku6e\"/><div class=\"result-card__contents job-result-card__contents\"><h3 class=\"result-card__title job-result-card__title\">Regional Business Intelligence and Visualization Lead (m/f/d) - EMEA</h3><h4 class=\"result-card__subtitle job-result-card__subtitle\"><a class=\"result-card__subtitle-link job-result-card__subtitle-link\" data-tracking-client-ingraph=\"\" data-tracking-control-name=\"public_jobs_job-result-card_result-card_subtitle-click\" data-tracking-will-navigate=\"\" href=\"https://de.linkedin.com/company/bayer?trk=public_jobs_job-result-card_result-card_subtitle-click\">Bayer</a></h4><div class=\"result-card__meta job-result-card__meta\"><span class=\"job-result-card__location\">Berlin, Berlin, Germany</span><p class=\"job-result-card__snippet\">Develop and maintain productive relationships with key stakeholders across Marketing, Commercial Operations, IT, and within Data Science ...</p><time class=\"job-result-card__listdate\" datetime=\"2021-04-14\">4 weeks ago</time></div></div></li><li class=\"result-card job-result-card result-card--with-hover-state\" data-column=\"1\" data-entity-urn=\"urn:li:jobPosting:2517136035\" data-id=\"2517136035\" data-row=\"9\" data-search-id=\"p2BiFnlyyAQl7Au9/0ld0Q==\" data-tracking-id=\"C26WDiAXu2/g/T2mifXVRQ==\"><a class=\"result-card__full-card-link\" data-tracking-client-ingraph=\"\" data-tracking-control-name=\"public_jobs_job-result-card_result-card_full-click\" data-tracking-will-navigate=\"\" href=\"https://de.linkedin.com/jobs/view/growth-analyst-emea-f-m-x-at-gorillas-2517136035?refId=p2BiFnlyyAQl7Au9%2F0ld0Q%3D%3D&amp;trackingId=C26WDiAXu2%2Fg%2FT2mifXVRQ%3D%3D&amp;position=9&amp;pageNum=0&amp;trk=public_jobs_job-result-card_result-card_full-click\"><span class=\"screen-reader-text\">Growth Analyst, EMEA (f/m/x)</span></a><img alt=\"Gorillas Graphic\" aria-hidden=\"true\" class=\"artdeco-entity-image job-result-card artdeco-entity-image--square-4 job-result-card--square-4 result-card__image\" data-delayed-url=\"https://media-exp1.licdn.com/dms/image/C4E0BAQFwjsq-BQLzYA/company-logo_100_100/0/1588339738389?e=1628726400&amp;v=beta&amp;t=ChCmQz0dbgh-VM3zKpmpmiDhvbKuYVWfXARJtTjtIOs\" data-ghost-classes=\"artdeco-entity-image--ghost job-result-card--ghost\" data-ghost-url=\"https://static-exp1.licdn.com/sc/h/9rxpcj33wtsq3w7nxb3u3ku6e\"/><div class=\"result-card__contents job-result-card__contents\"><h3 class=\"result-card__title job-result-card__title\">Growth Analyst, EMEA (f/m/x)</h3><h4 class=\"result-card__subtitle job-result-card__subtitle\"><a class=\"result-card__subtitle-link job-result-card__subtitle-link\" data-tracking-client-ingraph=\"\" data-tracking-control-name=\"public_jobs_job-result-card_result-card_subtitle-click\" data-tracking-will-navigate=\"\" href=\"https://de.linkedin.com/company/gorillasapp?trk=public_jobs_job-result-card_result-card_subtitle-click\">Gorillas</a></h4><div class=\"result-card__meta job-result-card__meta\"><span class=\"job-result-card__location\">Berlin, Berlin, Germany</span><p class=\"job-result-card__snippet\">Minimum 1-2 years of experience in analytics, business intelligence or similar roles. Our mission is to fuel Gorillas business and all of...</p><time class=\"job-result-card__listdate\" datetime=\"2021-04-23\">2 weeks ago</time><span class=\"job-result-card__easy-apply-label\">Apply Now</span></div></div></li><li class=\"result-card job-result-card result-card--with-hover-state\" data-column=\"1\" data-entity-urn=\"urn:li:jobPosting:2539425912\" data-id=\"2539425912\" data-row=\"10\" data-search-id=\"p2BiFnlyyAQl7Au9/0ld0Q==\" data-tracking-id=\"mnHdjYLgZmBko31ioPx7Zw==\"><a class=\"result-card__full-card-link\" data-tracking-client-ingraph=\"\" data-tracking-control-name=\"public_jobs_job-result-card_result-card_full-click\" data-tracking-will-navigate=\"\" href=\"https://de.linkedin.com/jobs/view/data-analyst-m-f-x-berlin-at-ava-may-2539425912?refId=p2BiFnlyyAQl7Au9%2F0ld0Q%3D%3D&amp;trackingId=mnHdjYLgZmBko31ioPx7Zw%3D%3D&amp;position=10&amp;pageNum=0&amp;trk=public_jobs_job-result-card_result-card_full-click\"><span class=\"screen-reader-text\">Data Analyst (m/f/x) - Berlin</span></a><img alt=\"AVA &amp;amp;amp;amp; MAY Graphic\" aria-hidden=\"true\" class=\"artdeco-entity-image job-result-card artdeco-entity-image--square-4 job-result-card--square-4 result-card__image\" data-delayed-url=\"https://media-exp1.licdn.com/dms/image/C4D0BAQFHBQfymScyeA/company-logo_100_100/0/1564123503487?e=1628726400&amp;v=beta&amp;t=4bwdvLEgx6rwDKdewKhX0cdM-mrZ-B7eYg6L2AshNEs\" data-ghost-classes=\"artdeco-entity-image--ghost job-result-card--ghost\" data-ghost-url=\"https://static-exp1.licdn.com/sc/h/9rxpcj33wtsq3w7nxb3u3ku6e\"/><div class=\"result-card__contents job-result-card__contents\"><h3 class=\"result-card__title job-result-card__title\">Data Analyst (m/f/x) - Berlin</h3><h4 class=\"result-card__subtitle job-result-card__subtitle\"><a class=\"result-card__subtitle-link job-result-card__subtitle-link\" data-tracking-client-ingraph=\"\" data-tracking-control-name=\"public_jobs_job-result-card_result-card_subtitle-click\" data-tracking-will-navigate=\"\" href=\"https://de.linkedin.com/company/ava-may?trk=public_jobs_job-result-card_result-card_subtitle-click\">AVA &amp; MAY</a></h4><div class=\"result-card__meta job-result-card__meta\"><span class=\"job-result-card__location\">Berlin, Berlin, Germany</span><p class=\"job-result-card__snippet\">Prior experience as a data, marketing or business analyst or in a similar role. Ability to see the bigger picture and prepare your ...</p><time class=\"job-result-card__listdate\" datetime=\"2021-05-08\">2 days ago</time></div></div></li><li class=\"result-card job-result-card result-card--with-hover-state\" data-column=\"1\" data-entity-urn=\"urn:li:jobPosting:2477950058\" data-id=\"2477950058\" data-row=\"11\" data-search-id=\"p2BiFnlyyAQl7Au9/0ld0Q==\" data-tracking-id=\"Ly0wq4OO3hgirEr3rBe6AA==\"><a class=\"result-card__full-card-link\" data-tracking-client-ingraph=\"\" data-tracking-control-name=\"public_jobs_job-result-card_result-card_full-click\" data-tracking-will-navigate=\"\" href=\"https://de.linkedin.com/jobs/view/teamlead-business-analytics-m-w-d-at-iu-internationale-hochschule-2477950058?refId=p2BiFnlyyAQl7Au9%2F0ld0Q%3D%3D&amp;trackingId=Ly0wq4OO3hgirEr3rBe6AA%3D%3D&amp;position=11&amp;pageNum=0&amp;trk=public_jobs_job-result-card_result-card_full-click\"><span class=\"screen-reader-text\">Teamlead Business Analytics (m/w/d)</span></a><img alt=\"IU International University of Applied Sciences Graphic\" aria-hidden=\"true\" class=\"artdeco-entity-image job-result-card artdeco-entity-image--square-4 job-result-card--square-4 result-card__image\" data-delayed-url=\"https://media-exp1.licdn.com/dms/image/C4D0BAQEOkxc2qk7wPA/company-logo_100_100/0/1616593786576?e=1628726400&amp;v=beta&amp;t=TS5DViJTbe2Pygi5U7Kv4Y1-hPVN6pXEyOrx_rSixJo\" data-ghost-classes=\"artdeco-entity-image--ghost job-result-card--ghost\" data-ghost-url=\"https://static-exp1.licdn.com/sc/h/9rxpcj33wtsq3w7nxb3u3ku6e\"/><div class=\"result-card__contents job-result-card__contents\"><h3 class=\"result-card__title job-result-card__title\">Teamlead Business Analytics (m/w/d)</h3><h4 class=\"result-card__subtitle job-result-card__subtitle\"><a class=\"result-card__subtitle-link job-result-card__subtitle-link\" data-tracking-client-ingraph=\"\" data-tracking-control-name=\"public_jobs_job-result-card_result-card_subtitle-click\" data-tracking-will-navigate=\"\" href=\"https://de.linkedin.com/company/iu-hochschule?trk=public_jobs_job-result-card_result-card_subtitle-click\">IU International University of Applied Sciences</a></h4><div class=\"result-card__meta job-result-card__meta\"><span class=\"job-result-card__location\">Berlin, Berlin, Germany</span><p class=\"job-result-card__snippet\">Als Teamlead Business Analytics trägst du die Verantwortung für das Reporting im Bereich Sales &amp; Operations. Dein ausgeprägter ...</p><time class=\"job-result-card__listdate\" datetime=\"2021-04-13\">4 weeks ago</time></div></div></li><li class=\"result-card job-result-card result-card--with-hover-state\" data-column=\"1\" data-entity-urn=\"urn:li:jobPosting:2487737282\" data-id=\"2487737282\" data-row=\"12\" data-search-id=\"p2BiFnlyyAQl7Au9/0ld0Q==\" data-tracking-id=\"KluiAbgLWAx5JuU/2Vyf9A==\"><a class=\"result-card__full-card-link\" data-tracking-client-ingraph=\"\" data-tracking-control-name=\"public_jobs_job-result-card_result-card_full-click\" data-tracking-will-navigate=\"\" href=\"https://de.linkedin.com/jobs/view/app-reporting-tracking-analytics-specialist-m-f-x-at-hellofresh-2487737282?refId=p2BiFnlyyAQl7Au9%2F0ld0Q%3D%3D&amp;trackingId=KluiAbgLWAx5JuU%2F2Vyf9A%3D%3D&amp;position=12&amp;pageNum=0&amp;trk=public_jobs_job-result-card_result-card_full-click\"><span class=\"screen-reader-text\">App Reporting, Tracking &amp; Analytics Specialist (m/f/x)</span></a><img alt=\"HelloFresh Graphic\" aria-hidden=\"true\" class=\"artdeco-entity-image job-result-card artdeco-entity-image--square-4 job-result-card--square-4 result-card__image\" data-delayed-url=\"https://media-exp1.licdn.com/dms/image/C4D0BAQEQjz8CEyTZCg/company-logo_100_100/0/1601987470537?e=1628726400&amp;v=beta&amp;t=4YjuprU3EbTCGO7IMCEPUtwb-3S9KisUI-Do00oErSA\" data-ghost-classes=\"artdeco-entity-image--ghost job-result-card--ghost\" data-ghost-url=\"https://static-exp1.licdn.com/sc/h/9rxpcj33wtsq3w7nxb3u3ku6e\"/><div class=\"result-card__contents job-result-card__contents\"><h3 class=\"result-card__title job-result-card__title\">App Reporting, Tracking &amp; Analytics Specialist (m/f/x)</h3><h4 class=\"result-card__subtitle job-result-card__subtitle\"><a class=\"result-card__subtitle-link job-result-card__subtitle-link\" data-tracking-client-ingraph=\"\" data-tracking-control-name=\"public_jobs_job-result-card_result-card_subtitle-click\" data-tracking-will-navigate=\"\" href=\"https://de.linkedin.com/company/hellofresh?trk=public_jobs_job-result-card_result-card_subtitle-click\">HelloFresh</a></h4><div class=\"result-card__meta job-result-card__meta\"><span class=\"job-result-card__location\">Berlin, Berlin, Germany</span><p class=\"job-result-card__snippet\">As an App Reporting, Tracking &amp; Analytics Specialist in the Reporting and Profitability team, you will join a cross-functional team which...</p><time class=\"job-result-card__listdate\" datetime=\"2021-04-19\">3 weeks ago</time></div></div></li><li class=\"result-card job-result-card result-card--with-hover-state\" data-column=\"1\" data-entity-urn=\"urn:li:jobPosting:2472274343\" data-id=\"2472274343\" data-row=\"13\" data-search-id=\"p2BiFnlyyAQl7Au9/0ld0Q==\" data-tracking-id=\"FzXrubdjSD7OAWR7XJzgSA==\"><a class=\"result-card__full-card-link\" data-tracking-client-ingraph=\"\" data-tracking-control-name=\"public_jobs_job-result-card_result-card_full-click\" data-tracking-will-navigate=\"\" href=\"https://de.linkedin.com/jobs/view/analyst-analytics-operations-%E2%80%93-supply-strategy-and-optimisation-bangkok-based-relocation-provided-at-agoda-2472274343?refId=p2BiFnlyyAQl7Au9%2F0ld0Q%3D%3D&amp;trackingId=FzXrubdjSD7OAWR7XJzgSA%3D%3D&amp;position=13&amp;pageNum=0&amp;trk=public_jobs_job-result-card_result-card_full-click\"><span class=\"screen-reader-text\">Analyst (Analytics Operations) – Supply Strategy and Optimisation (Bangkok based, relocation provided)</span></a><img alt=\"Agoda Graphic\" aria-hidden=\"true\" class=\"artdeco-entity-image job-result-card artdeco-entity-image--square-4 job-result-card--square-4 result-card__image\" data-delayed-url=\"https://media-exp1.licdn.com/dms/image/C510BAQFlzwnDh-1n8g/company-logo_100_100/0/1564993524217?e=1628726400&amp;v=beta&amp;t=7a41KE6wunVovlctpQy7a-st9muU0e7qF-at0fPGUbw\" data-ghost-classes=\"artdeco-entity-image--ghost job-result-card--ghost\" data-ghost-url=\"https://static-exp1.licdn.com/sc/h/9rxpcj33wtsq3w7nxb3u3ku6e\"/><div class=\"result-card__contents job-result-card__contents\"><h3 class=\"result-card__title job-result-card__title\">Analyst (Analytics Operations) – Supply Strategy and Optimisation (Bangkok based, relocation provided)</h3><h4 class=\"result-card__subtitle job-result-card__subtitle\"><a class=\"result-card__subtitle-link job-result-card__subtitle-link\" data-tracking-client-ingraph=\"\" data-tracking-control-name=\"public_jobs_job-result-card_result-card_subtitle-click\" data-tracking-will-navigate=\"\" href=\"https://sg.linkedin.com/company/agoda?trk=public_jobs_job-result-card_result-card_subtitle-click\">Agoda</a></h4><div class=\"result-card__meta job-result-card__meta\"><span class=\"job-result-card__location\">Berlin, Berlin, Germany</span><p class=\"job-result-card__snippet\">Experience building automated analytical processes and functionality #STRA #ANLS #MRKT #3 #hongkong #kualalumpur #mumbai #newdelhi #delhi...</p><time class=\"job-result-card__listdate\" datetime=\"2021-05-01\">1 week ago</time></div></div></li><li class=\"result-card job-result-card result-card--with-hover-state\" data-column=\"1\" data-entity-urn=\"urn:li:jobPosting:2535568597\" data-id=\"2535568597\" data-row=\"14\" data-search-id=\"p2BiFnlyyAQl7Au9/0ld0Q==\" data-tracking-id=\"1AFGf9pCd/DQeedopffXOQ==\"><a class=\"result-card__full-card-link\" data-tracking-client-ingraph=\"\" data-tracking-control-name=\"public_jobs_job-result-card_result-card_full-click\" data-tracking-will-navigate=\"\" href=\"https://de.linkedin.com/jobs/view/data-scientist-f-m-d-finance-at-siemens-energy-2535568597?refId=p2BiFnlyyAQl7Au9%2F0ld0Q%3D%3D&amp;trackingId=1AFGf9pCd%2FDQeedopffXOQ%3D%3D&amp;position=14&amp;pageNum=0&amp;trk=public_jobs_job-result-card_result-card_full-click\"><span class=\"screen-reader-text\">Data Scientist (f/m/d) Finance</span></a><img alt=\"Siemens Energy Graphic\" aria-hidden=\"true\" class=\"artdeco-entity-image job-result-card artdeco-entity-image--square-4 job-result-card--square-4 result-card__image\" data-delayed-url=\"https://media-exp1.licdn.com/dms/image/C4E0BAQFFei8-uFJ04g/company-logo_100_100/0/1593586335535?e=1628726400&amp;v=beta&amp;t=gJ7SUcbeOYzyKHdyLRjpRb0DXDzix6Ulic1m9AkuIKA\" data-ghost-classes=\"artdeco-entity-image--ghost job-result-card--ghost\" data-ghost-url=\"https://static-exp1.licdn.com/sc/h/9rxpcj33wtsq3w7nxb3u3ku6e\"/><div class=\"result-card__contents job-result-card__contents\"><h3 class=\"result-card__title job-result-card__title\">Data Scientist (f/m/d) Finance</h3><h4 class=\"result-card__subtitle job-result-card__subtitle\"><a class=\"result-card__subtitle-link job-result-card__subtitle-link\" data-tracking-client-ingraph=\"\" data-tracking-control-name=\"public_jobs_job-result-card_result-card_subtitle-click\" data-tracking-will-navigate=\"\" href=\"https://www.linkedin.com/company/siemens-energy?trk=public_jobs_job-result-card_result-card_subtitle-click\">Siemens Energy</a></h4><div class=\"result-card__meta job-result-card__meta\"><span class=\"job-result-card__location\">Berlin, Berlin, Germany</span><p class=\"job-result-card__snippet\">Act as a key enabler for various individuals across Siemens Energy New Energy Business departments and functions for the creation of data...</p><time class=\"job-result-card__listdate\" datetime=\"2021-05-06\">4 days ago</time></div></div></li><li class=\"result-card job-result-card result-card--with-hover-state\" data-column=\"1\" data-entity-urn=\"urn:li:jobPosting:2537263470\" data-id=\"2537263470\" data-row=\"15\" data-search-id=\"p2BiFnlyyAQl7Au9/0ld0Q==\" data-tracking-id=\"tkNBLOkafHCXqD3l0U9mkQ==\"><a class=\"result-card__full-card-link\" data-tracking-client-ingraph=\"\" data-tracking-control-name=\"public_jobs_job-result-card_result-card_full-click\" data-tracking-will-navigate=\"\" href=\"https://de.linkedin.com/jobs/view/data-analyst-w-m-d-at-signa-sports-united-2537263470?refId=p2BiFnlyyAQl7Au9%2F0ld0Q%3D%3D&amp;trackingId=tkNBLOkafHCXqD3l0U9mkQ%3D%3D&amp;position=15&amp;pageNum=0&amp;trk=public_jobs_job-result-card_result-card_full-click\"><span class=\"screen-reader-text\">Data Analyst (w/m/d)</span></a><img alt=\"SIGNA Sports United Graphic\" aria-hidden=\"true\" class=\"artdeco-entity-image job-result-card artdeco-entity-image--square-4 job-result-card--square-4 result-card__image\" data-delayed-url=\"https://media-exp1.licdn.com/dms/image/C4D0BAQEsOnVVsiKbyQ/company-logo_100_100/0/1559924054852?e=1628726400&amp;v=beta&amp;t=WkiqVut1BDBGJu46YrHDhroaWKaYguYB7ACsI_rmcvU\" data-ghost-classes=\"artdeco-entity-image--ghost job-result-card--ghost\" data-ghost-url=\"https://static-exp1.licdn.com/sc/h/9rxpcj33wtsq3w7nxb3u3ku6e\"/><div class=\"result-card__contents job-result-card__contents\"><h3 class=\"result-card__title job-result-card__title\">Data Analyst (w/m/d)</h3><h4 class=\"result-card__subtitle job-result-card__subtitle\"><a class=\"result-card__subtitle-link job-result-card__subtitle-link\" data-tracking-client-ingraph=\"\" data-tracking-control-name=\"public_jobs_job-result-card_result-card_subtitle-click\" data-tracking-will-navigate=\"\" href=\"https://de.linkedin.com/company/signa-sports-united?trk=public_jobs_job-result-card_result-card_subtitle-click\">SIGNA Sports United</a></h4><div class=\"result-card__meta job-result-card__meta\"><span class=\"job-result-card__location\">Berlin, Berlin, Germany</span><p class=\"job-result-card__snippet\">Minimum 3 years of working experience in Business Intelligence or Analytics ideally in e-commerce. Know-how of app and web tracking ...</p><time class=\"job-result-card__listdate\" datetime=\"2021-05-07\">3 days ago</time></div></div></li><li class=\"result-card job-result-card result-card--with-hover-state\" data-column=\"1\" data-entity-urn=\"urn:li:jobPosting:2519956561\" data-id=\"2519956561\" data-row=\"16\" data-search-id=\"p2BiFnlyyAQl7Au9/0ld0Q==\" data-tracking-id=\"IAP/J/bCPS5IDJo/iMAarA==\"><a class=\"result-card__full-card-link\" data-tracking-client-ingraph=\"\" data-tracking-control-name=\"public_jobs_job-result-card_result-card_full-click\" data-tracking-will-navigate=\"\" href=\"https://de.linkedin.com/jobs/view/business-analyst-france-m-f-d-at-trade-republic-2519956561?refId=p2BiFnlyyAQl7Au9%2F0ld0Q%3D%3D&amp;trackingId=IAP%2FJ%2FbCPS5IDJo%2FiMAarA%3D%3D&amp;position=16&amp;pageNum=0&amp;trk=public_jobs_job-result-card_result-card_full-click\"><span class=\"screen-reader-text\">Business Analyst France (m/f/d)</span></a><img alt=\"Trade Republic Graphic\" aria-hidden=\"true\" class=\"artdeco-entity-image job-result-card artdeco-entity-image--square-4 job-result-card--square-4 result-card__image\" data-delayed-url=\"https://media-exp1.licdn.com/dms/image/C4D0BAQHpERLGdOH86g/company-logo_100_100/0/1547014644280?e=1628726400&amp;v=beta&amp;t=XwrzZnbPSoB7-vuy4FXv0yf-jLFNBJU9Qma8WhPmRWw\" data-ghost-classes=\"artdeco-entity-image--ghost job-result-card--ghost\" data-ghost-url=\"https://static-exp1.licdn.com/sc/h/9rxpcj33wtsq3w7nxb3u3ku6e\"/><div class=\"result-card__contents job-result-card__contents\"><h3 class=\"result-card__title job-result-card__title\">Business Analyst France (m/f/d)</h3><h4 class=\"result-card__subtitle job-result-card__subtitle\"><a class=\"result-card__subtitle-link job-result-card__subtitle-link\" data-tracking-client-ingraph=\"\" data-tracking-control-name=\"public_jobs_job-result-card_result-card_subtitle-click\" data-tracking-will-navigate=\"\" href=\"https://de.linkedin.com/company/trade-republic?trk=public_jobs_job-result-card_result-card_subtitle-click\">Trade Republic</a></h4><div class=\"result-card__meta job-result-card__meta\"><span class=\"job-result-card__location\">Berlin, Berlin, Germany</span><p class=\"job-result-card__snippet\">Be part of our Business Team for France and shape our European-wide mission of democratizing investing. Support both reporting &amp; ...</p><time class=\"job-result-card__listdate--new\" datetime=\"2021-05-10\">5 hours ago</time></div></div></li><li class=\"result-card job-result-card result-card--with-hover-state\" data-column=\"1\" data-entity-urn=\"urn:li:jobPosting:2533644230\" data-id=\"2533644230\" data-row=\"17\" data-search-id=\"p2BiFnlyyAQl7Au9/0ld0Q==\" data-tracking-id=\"5CBu6D1Jb++zSS/cbKvkCw==\"><a class=\"result-card__full-card-link\" data-tracking-client-ingraph=\"\" data-tracking-control-name=\"public_jobs_job-result-card_result-card_full-click\" data-tracking-will-navigate=\"\" href=\"https://de.linkedin.com/jobs/view/business-analyst-at-atheneum-2533644230?refId=p2BiFnlyyAQl7Au9%2F0ld0Q%3D%3D&amp;trackingId=5CBu6D1Jb%2B%2BzSS%2FcbKvkCw%3D%3D&amp;position=17&amp;pageNum=0&amp;trk=public_jobs_job-result-card_result-card_full-click\"><span class=\"screen-reader-text\">Business Analyst</span></a><img alt=\"Atheneum Graphic\" aria-hidden=\"true\" class=\"artdeco-entity-image job-result-card artdeco-entity-image--square-4 job-result-card--square-4 result-card__image\" data-delayed-url=\"https://media-exp1.licdn.com/dms/image/C4E0BAQECWvbtd85BMA/company-logo_100_100/0/1539244761944?e=1628726400&amp;v=beta&amp;t=Xm5OAhIY31yLprzoZzctGExSTshyMmei1vnkidvRhpQ\" data-ghost-classes=\"artdeco-entity-image--ghost job-result-card--ghost\" data-ghost-url=\"https://static-exp1.licdn.com/sc/h/9rxpcj33wtsq3w7nxb3u3ku6e\"/><div class=\"result-card__contents job-result-card__contents\"><h3 class=\"result-card__title job-result-card__title\">Business Analyst</h3><h4 class=\"result-card__subtitle job-result-card__subtitle\"><a class=\"result-card__subtitle-link job-result-card__subtitle-link\" data-tracking-client-ingraph=\"\" data-tracking-control-name=\"public_jobs_job-result-card_result-card_subtitle-click\" data-tracking-will-navigate=\"\" href=\"https://de.linkedin.com/company/atheneum-partners?trk=public_jobs_job-result-card_result-card_subtitle-click\">Atheneum</a></h4><div class=\"result-card__meta job-result-card__meta\"><span class=\"job-result-card__location\">Berlin, Berlin, Germany</span><p class=\"job-result-card__snippet\">As a member of the Analytics Wing of the Atheneum Digitalization Team, you will have the opportunity to challenge your skills working ...</p><time class=\"job-result-card__listdate\" datetime=\"2021-05-05\">5 days ago</time></div></div></li><li class=\"result-card job-result-card result-card--with-hover-state\" data-column=\"1\" data-entity-urn=\"urn:li:jobPosting:2444476619\" data-id=\"2444476619\" data-row=\"18\" data-search-id=\"p2BiFnlyyAQl7Au9/0ld0Q==\" data-tracking-id=\"pVNmh38oiCmyId6E5TWIGA==\"><a class=\"result-card__full-card-link\" data-tracking-client-ingraph=\"\" data-tracking-control-name=\"public_jobs_job-result-card_result-card_full-click\" data-tracking-will-navigate=\"\" href=\"https://de.linkedin.com/jobs/view/senior-specialist-operations-research-at-bain-company-2444476619?refId=p2BiFnlyyAQl7Au9%2F0ld0Q%3D%3D&amp;trackingId=pVNmh38oiCmyId6E5TWIGA%3D%3D&amp;position=18&amp;pageNum=0&amp;trk=public_jobs_job-result-card_result-card_full-click\"><span class=\"screen-reader-text\">Senior Specialist, Operations Research</span></a><img alt=\"Bain &amp;amp;amp;amp; Company Graphic\" aria-hidden=\"true\" class=\"artdeco-entity-image job-result-card artdeco-entity-image--square-4 job-result-card--square-4 result-card__image\" data-delayed-url=\"https://media-exp1.licdn.com/dms/image/C4D0BAQE9vGvXO7zEvQ/company-logo_100_100/0/1615294857825?e=1628726400&amp;v=beta&amp;t=4iM6lqEfnYhuGaktR5X9qTq1AwFrjLa_hvaDhblaeyw\" data-ghost-classes=\"artdeco-entity-image--ghost job-result-card--ghost\" data-ghost-url=\"https://static-exp1.licdn.com/sc/h/9rxpcj33wtsq3w7nxb3u3ku6e\"/><div class=\"result-card__contents job-result-card__contents\"><h3 class=\"result-card__title job-result-card__title\">Senior Specialist, Operations Research</h3><h4 class=\"result-card__subtitle job-result-card__subtitle\"><a class=\"result-card__subtitle-link job-result-card__subtitle-link\" data-tracking-client-ingraph=\"\" data-tracking-control-name=\"public_jobs_job-result-card_result-card_subtitle-click\" data-tracking-will-navigate=\"\" href=\"https://www.linkedin.com/company/bain-and-company?trk=public_jobs_job-result-card_result-card_subtitle-click\">Bain &amp; Company</a></h4><div class=\"result-card__meta job-result-card__meta\"><span class=\"job-result-card__location\">Berlin, Berlin, Germany</span><p class=\"job-result-card__snippet\">The role will involve advising on the application of forecasting, planning, simulation, and optimization to solve clients’ challenges; ...</p><time class=\"job-result-card__listdate\" datetime=\"2021-04-18\">3 weeks ago</time></div></div></li><li class=\"result-card job-result-card result-card--with-hover-state\" data-column=\"1\" data-entity-urn=\"urn:li:jobPosting:2503713874\" data-id=\"2503713874\" data-row=\"19\" data-search-id=\"p2BiFnlyyAQl7Au9/0ld0Q==\" data-tracking-id=\"ZUyoFLdDBZ8z4UaMNPYPEg==\"><a class=\"result-card__full-card-link\" data-tracking-client-ingraph=\"\" data-tracking-control-name=\"public_jobs_job-result-card_result-card_full-click\" data-tracking-will-navigate=\"\" href=\"https://de.linkedin.com/jobs/view/strategic-account-analyst-amazon-and-omnichannel-at-puma-group-2503713874?refId=p2BiFnlyyAQl7Au9%2F0ld0Q%3D%3D&amp;trackingId=ZUyoFLdDBZ8z4UaMNPYPEg%3D%3D&amp;position=19&amp;pageNum=0&amp;trk=public_jobs_job-result-card_result-card_full-click\"><span class=\"screen-reader-text\">Strategic Account Analyst Amazon and Omnichannel</span></a><img alt=\"PUMA Group Graphic\" aria-hidden=\"true\" class=\"artdeco-entity-image job-result-card artdeco-entity-image--square-4 job-result-card--square-4 result-card__image\" data-delayed-url=\"https://media-exp1.licdn.com/dms/image/C4D0BAQEvK9FOIlzcXw/company-logo_100_100/0/1562075624065?e=1628726400&amp;v=beta&amp;t=FiER6ioTcOVOVQVGyfPqDtSur8v1yBwBz7VmrTBIWi0\" data-ghost-classes=\"artdeco-entity-image--ghost job-result-card--ghost\" data-ghost-url=\"https://static-exp1.licdn.com/sc/h/9rxpcj33wtsq3w7nxb3u3ku6e\"/><div class=\"result-card__contents job-result-card__contents\"><h3 class=\"result-card__title job-result-card__title\">Strategic Account Analyst Amazon and Omnichannel</h3><h4 class=\"result-card__subtitle job-result-card__subtitle\"><a class=\"result-card__subtitle-link job-result-card__subtitle-link\" data-tracking-client-ingraph=\"\" data-tracking-control-name=\"public_jobs_job-result-card_result-card_subtitle-click\" data-tracking-will-navigate=\"\" href=\"https://de.linkedin.com/company/puma?trk=public_jobs_job-result-card_result-card_subtitle-click\">PUMA Group</a></h4><div class=\"result-card__meta job-result-card__meta\"><span class=\"job-result-card__location\">Berlin, Berlin, Germany</span><p class=\"job-result-card__snippet\">Relevant working experience in Sales, Controlling, E-Commerce, Business Analytics. Conduct benchmark analysis highlighting threats to ...</p><time class=\"job-result-card__listdate\" datetime=\"2021-04-14\">4 weeks ago</time></div></div></li><li class=\"result-card job-result-card result-card--with-hover-state\" data-column=\"1\" data-entity-urn=\"urn:li:jobPosting:2533090646\" data-id=\"2533090646\" data-row=\"20\" data-search-id=\"p2BiFnlyyAQl7Au9/0ld0Q==\" data-tracking-id=\"ypYspw1ugfJTmT6YChe0Kg==\"><a class=\"result-card__full-card-link\" data-tracking-client-ingraph=\"\" data-tracking-control-name=\"public_jobs_job-result-card_result-card_full-click\" data-tracking-will-navigate=\"\" href=\"https://de.linkedin.com/jobs/view/data-analyst-m-f-div-at-solarisbank-ag-at-solarisbank-ag-2533090646?refId=p2BiFnlyyAQl7Au9%2F0ld0Q%3D%3D&amp;trackingId=ypYspw1ugfJTmT6YChe0Kg%3D%3D&amp;position=20&amp;pageNum=0&amp;trk=public_jobs_job-result-card_result-card_full-click\"><span class=\"screen-reader-text\">Data Analyst (m/f/div) at Solarisbank AG</span></a><img alt=\"Solarisbank AG Graphic\" aria-hidden=\"true\" class=\"artdeco-entity-image job-result-card artdeco-entity-image--square-4 job-result-card--square-4 result-card__image\" data-delayed-url=\"https://media-exp1.licdn.com/dms/image/C4D0BAQHmIJx_HbdeJA/company-logo_100_100/0/1594072269975?e=1628726400&amp;v=beta&amp;t=XgPcmy-Au-0ai-f-f6M7y9IsxKQ1sBT35_UjQ91R5WM\" data-ghost-classes=\"artdeco-entity-image--ghost job-result-card--ghost\" data-ghost-url=\"https://static-exp1.licdn.com/sc/h/9rxpcj33wtsq3w7nxb3u3ku6e\"/><div class=\"result-card__contents job-result-card__contents\"><h3 class=\"result-card__title job-result-card__title\">Data Analyst (m/f/div) at Solarisbank AG</h3><h4 class=\"result-card__subtitle job-result-card__subtitle\"><a class=\"result-card__subtitle-link job-result-card__subtitle-link\" data-tracking-client-ingraph=\"\" data-tracking-control-name=\"public_jobs_job-result-card_result-card_subtitle-click\" data-tracking-will-navigate=\"\" href=\"https://de.linkedin.com/company/solarisbank?trk=public_jobs_job-result-card_result-card_subtitle-click\">Solarisbank AG</a></h4><div class=\"result-card__meta job-result-card__meta\"><span class=\"job-result-card__location\">Berlin, Berlin, Germany</span><p class=\"job-result-card__snippet\">In Data team, experts from Data Engineering, Business Intelligence and Data Analytics are working closely together. Minimum 3 years of ...</p><time class=\"job-result-card__listdate\" datetime=\"2021-04-09\">1 month ago</time></div></div></li><li class=\"result-card job-result-card result-card--with-hover-state\" data-column=\"1\" data-entity-urn=\"urn:li:jobPosting:2409407507\" data-id=\"2409407507\" data-row=\"21\" data-search-id=\"p2BiFnlyyAQl7Au9/0ld0Q==\" data-tracking-id=\"01bUkW23F5hDMEKe3ZMvTA==\"><a class=\"result-card__full-card-link\" data-tracking-client-ingraph=\"\" data-tracking-control-name=\"public_jobs_job-result-card_result-card_full-click\" data-tracking-will-navigate=\"\" href=\"https://de.linkedin.com/jobs/view/senior-data-analyst-m-f-d-at-axel-springer-se-2409407507?refId=p2BiFnlyyAQl7Au9%2F0ld0Q%3D%3D&amp;trackingId=01bUkW23F5hDMEKe3ZMvTA%3D%3D&amp;position=21&amp;pageNum=0&amp;trk=public_jobs_job-result-card_result-card_full-click\"><span class=\"screen-reader-text\">(Senior) Data Analyst (m/f/d)</span></a><img alt=\"Axel Springer SE Graphic\" aria-hidden=\"true\" class=\"artdeco-entity-image job-result-card artdeco-entity-image--square-4 job-result-card--square-4 result-card__image\" data-delayed-url=\"https://media-exp1.licdn.com/dms/image/C4D0BAQE385HvAKkr9Q/company-logo_100_100/0/1556782947013?e=1628726400&amp;v=beta&amp;t=DS18Y73YQ9NpaGxqSaTq2m8uIZHUEHe1tDZkckCShsc\" data-ghost-classes=\"artdeco-entity-image--ghost job-result-card--ghost\" data-ghost-url=\"https://static-exp1.licdn.com/sc/h/9rxpcj33wtsq3w7nxb3u3ku6e\"/><div class=\"result-card__contents job-result-card__contents\"><h3 class=\"result-card__title job-result-card__title\">(Senior) Data Analyst (m/f/d)</h3><h4 class=\"result-card__subtitle job-result-card__subtitle\"><a class=\"result-card__subtitle-link job-result-card__subtitle-link\" data-tracking-client-ingraph=\"\" data-tracking-control-name=\"public_jobs_job-result-card_result-card_subtitle-click\" data-tracking-will-navigate=\"\" href=\"https://de.linkedin.com/company/axelspringer?trk=public_jobs_job-result-card_result-card_subtitle-click\">Axel Springer SE</a></h4><div class=\"result-card__meta job-result-card__meta\"><span class=\"job-result-card__location\">Berlin, Berlin, Germany</span><p class=\"job-result-card__snippet\">Benchmarking against different markets, your mission is to ensure the full transparency across the business and share the learnings ...</p><time class=\"job-result-card__listdate\" datetime=\"2021-04-18\">3 weeks ago</time></div></div></li><li class=\"result-card job-result-card result-card--with-hover-state\" data-column=\"1\" data-entity-urn=\"urn:li:jobPosting:2472776622\" data-id=\"2472776622\" data-row=\"22\" data-search-id=\"p2BiFnlyyAQl7Au9/0ld0Q==\" data-tracking-id=\"fl7EVOkqJEq/qbPkwps4Gw==\"><a class=\"result-card__full-card-link\" data-tracking-client-ingraph=\"\" data-tracking-control-name=\"public_jobs_job-result-card_result-card_full-click\" data-tracking-will-navigate=\"\" href=\"https://de.linkedin.com/jobs/view/lead-analyst-care-analytics-germany-remote-at-vistaprint-2472776622?refId=p2BiFnlyyAQl7Au9%2F0ld0Q%3D%3D&amp;trackingId=fl7EVOkqJEq%2FqbPkwps4Gw%3D%3D&amp;position=22&amp;pageNum=0&amp;trk=public_jobs_job-result-card_result-card_full-click\"><span class=\"screen-reader-text\">Lead Analyst, Care Analytics- Germany Remote</span></a><img alt=\"Vistaprint Graphic\" aria-hidden=\"true\" class=\"artdeco-entity-image job-result-card artdeco-entity-image--square-4 job-result-card--square-4 result-card__image\" data-delayed-url=\"https://media-exp1.licdn.com/dms/image/C4E0BAQFFeiLa7iQXTw/company-logo_100_100/0/1582907797075?e=1628726400&amp;v=beta&amp;t=pP2I43xpyVT5Z3fSCLOEoviwQRYCZ07GJ1tBalW1200\" data-ghost-classes=\"artdeco-entity-image--ghost job-result-card--ghost\" data-ghost-url=\"https://static-exp1.licdn.com/sc/h/9rxpcj33wtsq3w7nxb3u3ku6e\"/><div class=\"result-card__contents job-result-card__contents\"><h3 class=\"result-card__title job-result-card__title\">Lead Analyst, Care Analytics- Germany Remote</h3><h4 class=\"result-card__subtitle job-result-card__subtitle\"><a class=\"result-card__subtitle-link job-result-card__subtitle-link\" data-tracking-client-ingraph=\"\" data-tracking-control-name=\"public_jobs_job-result-card_result-card_subtitle-click\" data-tracking-will-navigate=\"\" href=\"https://www.linkedin.com/company/vistaprint?trk=public_jobs_job-result-card_result-card_subtitle-click\">Vistaprint</a></h4><div class=\"result-card__meta job-result-card__meta\"><span class=\"job-result-card__location\">Berlin, Berlin, Germany</span><p class=\"job-result-card__snippet\">Be a central part of our mission to help small business owners create expertly designed, up-to-date custom marketing by supporting our ...</p><time class=\"job-result-card__listdate\" datetime=\"2021-04-22\">3 weeks ago</time></div></div></li><li class=\"result-card job-result-card result-card--with-hover-state\" data-column=\"1\" data-entity-urn=\"urn:li:jobPosting:2536305946\" data-id=\"2536305946\" data-row=\"23\" data-search-id=\"p2BiFnlyyAQl7Au9/0ld0Q==\" data-tracking-id=\"bQjWYHT/gYeaHNia8ncZCA==\"><a class=\"result-card__full-card-link\" data-tracking-client-ingraph=\"\" data-tracking-control-name=\"public_jobs_job-result-card_result-card_full-click\" data-tracking-will-navigate=\"\" href=\"https://de.linkedin.com/jobs/view/data-analyst-at-orange-quarter-2536305946?refId=p2BiFnlyyAQl7Au9%2F0ld0Q%3D%3D&amp;trackingId=bQjWYHT%2FgYeaHNia8ncZCA%3D%3D&amp;position=23&amp;pageNum=0&amp;trk=public_jobs_job-result-card_result-card_full-click\"><span class=\"screen-reader-text\">Data Analyst</span></a><img alt=\"Orange Quarter Graphic\" aria-hidden=\"true\" class=\"artdeco-entity-image job-result-card artdeco-entity-image--square-4 job-result-card--square-4 result-card__image\" data-delayed-url=\"https://media-exp1.licdn.com/dms/image/C560BAQEhiMdHNPjFww/company-logo_100_100/0/1597051295715?e=1628726400&amp;v=beta&amp;t=OfDlx8QzkTdGwVDtqP_wY0kowqhfG2cM7Lg9xD1iWSo\" data-ghost-classes=\"artdeco-entity-image--ghost job-result-card--ghost\" data-ghost-url=\"https://static-exp1.licdn.com/sc/h/9rxpcj33wtsq3w7nxb3u3ku6e\"/><div class=\"result-card__contents job-result-card__contents\"><h3 class=\"result-card__title job-result-card__title\">Data Analyst</h3><h4 class=\"result-card__subtitle job-result-card__subtitle\"><a class=\"result-card__subtitle-link job-result-card__subtitle-link\" data-tracking-client-ingraph=\"\" data-tracking-control-name=\"public_jobs_job-result-card_result-card_subtitle-click\" data-tracking-will-navigate=\"\" href=\"https://nl.linkedin.com/company/orange-quarter?trk=public_jobs_job-result-card_result-card_subtitle-click\">Orange Quarter</a></h4><div class=\"result-card__meta job-result-card__meta\"><span class=\"job-result-card__location\">Berlin, Berlin, Germany</span><p class=\"job-result-card__snippet\">This also means that you'll have to be proactive about improving processes, data practices, * Enhance data-collection within the business...</p><time class=\"job-result-card__listdate\" datetime=\"2021-05-03\">1 week ago</time></div></div></li><li class=\"result-card job-result-card result-card--with-hover-state\" data-column=\"1\" data-entity-urn=\"urn:li:jobPosting:2506192921\" data-id=\"2506192921\" data-row=\"24\" data-search-id=\"p2BiFnlyyAQl7Au9/0ld0Q==\" data-tracking-id=\"eDmZCwbjPG6bmHIr4wJ28w==\"><a class=\"result-card__full-card-link\" data-tracking-client-ingraph=\"\" data-tracking-control-name=\"public_jobs_job-result-card_result-card_full-click\" data-tracking-will-navigate=\"\" href=\"https://de.linkedin.com/jobs/view/data-analyst-m-f-x-at-aroundhome-2506192921?refId=p2BiFnlyyAQl7Au9%2F0ld0Q%3D%3D&amp;trackingId=eDmZCwbjPG6bmHIr4wJ28w%3D%3D&amp;position=24&amp;pageNum=0&amp;trk=public_jobs_job-result-card_result-card_full-click\"><span class=\"screen-reader-text\">Data Analyst (m/f/x)</span></a><img alt=\"Aroundhome Graphic\" aria-hidden=\"true\" class=\"artdeco-entity-image job-result-card artdeco-entity-image--square-4 job-result-card--square-4 result-card__image\" data-delayed-url=\"https://media-exp1.licdn.com/dms/image/C4D0BAQGA9_o9gHgQwQ/company-logo_100_100/0/1545037238869?e=1628726400&amp;v=beta&amp;t=NhlRe_yRjd88JL_toR1ypNByPfWi65wWuW4lZry0bYQ\" data-ghost-classes=\"artdeco-entity-image--ghost job-result-card--ghost\" data-ghost-url=\"https://static-exp1.licdn.com/sc/h/9rxpcj33wtsq3w7nxb3u3ku6e\"/><div class=\"result-card__contents job-result-card__contents\"><h3 class=\"result-card__title job-result-card__title\">Data Analyst (m/f/x)</h3><h4 class=\"result-card__subtitle job-result-card__subtitle\"><a class=\"result-card__subtitle-link job-result-card__subtitle-link\" data-tracking-client-ingraph=\"\" data-tracking-control-name=\"public_jobs_job-result-card_result-card_subtitle-click\" data-tracking-will-navigate=\"\" href=\"https://de.linkedin.com/company/aroundhome?trk=public_jobs_job-result-card_result-card_subtitle-click\">Aroundhome</a></h4><div class=\"result-card__meta job-result-card__meta\"><span class=\"job-result-card__location\">Berlin, Berlin, Germany</span><p class=\"job-result-card__snippet\">You are proficient in data visualization and ideally possess experience in Python, data warehousing as well as advanced analytics. You ...</p><time class=\"job-result-card__listdate\" datetime=\"2021-05-04\">6 days ago</time></div></div></li><li class=\"result-card job-result-card result-card--with-hover-state\" data-column=\"1\" data-entity-urn=\"urn:li:jobPosting:2448462877\" data-id=\"2448462877\" data-row=\"25\" data-search-id=\"p2BiFnlyyAQl7Au9/0ld0Q==\" data-tracking-id=\"TeZW6lwnelLXmNH8aF1mfA==\"><a class=\"result-card__full-card-link\" data-tracking-client-ingraph=\"\" data-tracking-control-name=\"public_jobs_job-result-card_result-card_full-click\" data-tracking-will-navigate=\"\" href=\"https://de.linkedin.com/jobs/view/senior-data-analyst-people-analytics-f-m-d-at-delivery-hero-se-2448462877?refId=p2BiFnlyyAQl7Au9%2F0ld0Q%3D%3D&amp;trackingId=TeZW6lwnelLXmNH8aF1mfA%3D%3D&amp;position=25&amp;pageNum=0&amp;trk=public_jobs_job-result-card_result-card_full-click\"><span class=\"screen-reader-text\">Senior Data Analyst, People Analytics (f/m/d)</span></a><img alt=\"Delivery Hero Graphic\" aria-hidden=\"true\" class=\"artdeco-entity-image job-result-card artdeco-entity-image--square-4 job-result-card--square-4 result-card__image\" data-delayed-url=\"https://media-exp1.licdn.com/dms/image/C4D0BAQGChDAKN4dIZg/company-logo_100_100/0/1593780934029?e=1628726400&amp;v=beta&amp;t=_Uumdh72Vkqt0snRarmmxlevayH3_wLIxYUXrP9tv6Y\" data-ghost-classes=\"artdeco-entity-image--ghost job-result-card--ghost\" data-ghost-url=\"https://static-exp1.licdn.com/sc/h/9rxpcj33wtsq3w7nxb3u3ku6e\"/><div class=\"result-card__contents job-result-card__contents\"><h3 class=\"result-card__title job-result-card__title\">Senior Data Analyst, People Analytics (f/m/d)</h3><h4 class=\"result-card__subtitle job-result-card__subtitle\"><a class=\"result-card__subtitle-link job-result-card__subtitle-link\" data-tracking-client-ingraph=\"\" data-tracking-control-name=\"public_jobs_job-result-card_result-card_subtitle-click\" data-tracking-will-navigate=\"\" href=\"https://de.linkedin.com/company/delivery-hero-se?trk=public_jobs_job-result-card_result-card_subtitle-click\">Delivery Hero</a></h4><div class=\"result-card__meta job-result-card__meta\"><span class=\"job-result-card__location\">Berlin, Berlin, Germany</span><p class=\"job-result-card__snippet\">We are looking for a Senior Data Analyst, People Analytics (f/m/d) to join the People Systems and Operations team at our incredible Hero ...</p><time class=\"job-result-card__listdate\" datetime=\"2021-04-22\">3 weeks ago</time></div></div></li></ul><div class=\"loader\"><div class=\"loader__container\"><icon class=\"loader__icon loader__icon--default\" data-delayed-url=\"https://static-exp1.licdn.com/sc/h/ddi43qwelxeqjxdd45pe3fvs1\" data-svg-class-name=\"loader__icon-svg--small\"></icon></div></div><button aria-label=\"Load more results\" class=\"infinite-scroller__show-more-button\" data-tracking-control-name=\"infinite-scroller_show-more\">See more jobs</button><div class=\"inline-notification see-more-jobs__viewed-all hidden\" role=\"alert\" type=\"success\"><icon class=\"inline-notification__icon\" data-delayed-url=\"https://static-exp1.licdn.com/sc/h/9oc5lgfcwxycgod8yjbt6dcgn\"></icon><p class=\"inline-notification__text\">You've viewed all jobs for this search</p></div></section></div><section class=\"results__detail-view\"><div class=\"details-pane__loader details-pane__loader--hide\"><div class=\"large-loader\"><img alt=\"large loading spinner\" aria-hidden=\"true\" class=\"large-loader__icon lazy-load\" data-delayed-url=\"https://static-exp1.licdn.com/sc/h/8u73kvqtfd00l1wdhykn4p0fp\"/></div></div><div class=\"details-pane__content\"></div></section></main><form action=\"https://www.linkedin.com/uas/login-submit\" class=\"google-one-tap\" method=\"post\"><input name=\"loginCsrfParam\" type=\"hidden\" value=\"5d746c2a-ead5-4174-80e9-6b92cd8e5974\"/><input name=\"session_redirect\" type=\"hidden\" value=\"https://www.linkedin.com/jobs/search/?f_E=1%2C2%2C3&amp;f_F=bd%2Canls%2Ccnsl%2Cit%2Cprdm&amp;f_JT=F&amp;f_PP=106967730&amp;geoId=101282230&amp;keywords=business%20analytics&amp;location=Germany&amp;html.parser\"/><input name=\"trk\" type=\"hidden\" value=\"public_jobs_google-one-tap-submit\"/><div class=\"google-one-tap__container\" data-tracking-control-name=\"public_jobs_google-one-tap\" id=\"google-one-tap__container\"></div><div class=\"loader loader--full-screen\"><div class=\"loader__container\"><icon class=\"loader__icon loader__icon--default\" data-delayed-url=\"https://static-exp1.licdn.com/sc/h/ddi43qwelxeqjxdd45pe3fvs1\" data-svg-class-name=\"loader__icon-svg--large\"></icon></div></div></form><div class=\"toasts toasts--bottom\" data-close-toast-string=\"Close\" id=\"toasts\" type=\"bottom\"></div><code id=\"i18n_redirected_from_deleted_alert\" style=\"display: none;\"><!--\"This job alert has been deactivated.\"--></code><div><div class=\"modal create-alert-modal guest-job-alert-modal\" data-outlet=\"create-alert-modal-outlet\" id=\"create-alert-modal\"><div class=\"modal__overlay create-alert-modal__overlay guest-job-alert-modal__overlay\"><section aria-labelledby=\"create-alert-modal-modal-header\" aria-modal=\"true\" class=\"modal__wrapper create-alert-modal__wrapper guest-job-alert-modal__wrapper\" role=\"dialog\" tabindex=\"-1\"><header class=\"modal__header create-alert-modal__header guest-job-alert-modal__header\"><h2 class=\"modal__title create-alert-modal__title guest-job-alert-modal__title\" id=\"create-alert-modal-modal-header\">Create job alert</h2><button aria-label=\"Dismiss\" class=\"modal__dismiss create-alert-modal__dismiss guest-job-alert-modal__dismiss modal__dismiss--with-icon create-alert-modal__dismiss--with-icon guest-job-alert-modal__dismiss--with-icon\" data-tracking-control-name=\"public_jobs_create-alert-modal_modal_dismiss\"><icon class=\"modal__dismiss-icon\" data-delayed-url=\"https://static-exp1.licdn.com/sc/h/gs508lg3t2o81tq7pmcgn6m2\"></icon></button></header><main class=\"modal__main create-alert-modal__main guest-job-alert-modal__main\"><form class=\"create-alert-form\"><div class=\"create-alert-form__body\"><p class=\"create-alert-form__header\">Get email updates for new <strong class=\"break-word\">Business Analytics</strong> jobs in <strong>Germany</strong></p><p class=\"create-alert-form__subline\"></p><section class=\"dismissable-input create-alert-form-input\"><input aria-label=\"Email address*\" autocomplete=\"off\" class=\"dismissable-input__input\" data-tracking-control-name=\"public_jobs_create-alert-modal_email-address_dismissable-input\" maxlength=\"500\" name=\"emailAddress\" placeholder=\"Email address*\" required=\"\" type=\"text\" value=\"\"/><button class=\"dismissable-input__button\" data-tracking-control-name=\"public_jobs_create-alert-modal_email-address_dismissable-input-clear\" type=\"button\"><label class=\"screen-reader-text\">Dismiss</label><icon class=\"dismissable-input__button-icon\" data-delayed-url=\"https://static-exp1.licdn.com/sc/h/cs55jggk4p3uqh9ozxdmpvjg7\"></icon></button></section><input name=\"jserpUrl\" type=\"hidden\" value=\"https://www.linkedin.com/jobs/search/?f_E=1%2C2%2C3&amp;f_F=bd%2Canls%2Ccnsl%2Cit%2Cprdm&amp;f_JT=F&amp;f_PP=106967730&amp;geoId=101282230&amp;keywords=business%20analytics&amp;location=Germany&amp;html.parser\"/><input name=\"pageType\" type=\"hidden\" value=\"JSERP\"/><input name=\"keywords\" type=\"hidden\" value=\"Business Analytics\"/><code id=\"i18n_create_alert_invalid_email\" style=\"display: none;\"><!--\"Please enter a valid email address\"--></code><code id=\"i18n_generic_error_message\" style=\"display: none;\"><!--\"Your job alert couldn't be created, please try again later.\"--></code><p class=\"create-alert-error-message create-alert-error-message--email\" role=\"alert\"><icon class=\"create-alert-error-message__icon lazy-load\"></icon><span class=\"create-alert-error-message__container\"><span class=\"create-alert-error-message__text\"></span></span></p><p class=\"create-alert-form__agreement-links\">By creating this job alert, you agree to the LinkedIn <a class=\"create-alert-form__agreement-item-link\" data-tracking-control-name=\"public_jobs_create-alert-modal_create-alert-form_user-agreement\" data-tracking-will-navigate=\"\" href=\"https://www.linkedin.com/legal/user-agreement?trk=public_jobs_create-alert-modal_create-alert-form_user-agreement\" rel=\"noopener\" target=\"_blank\">User Agreement</a> and <a class=\"create-alert-form__agreement-item-link\" data-tracking-control-name=\"public_jobs_create-alert-modal_create-alert-form_privacy-policy\" data-tracking-will-navigate=\"\" href=\"https://www.linkedin.com/legal/privacy-policy?trk=public_jobs_create-alert-modal_create-alert-form_privacy-policy\" rel=\"noopener\" target=\"_blank\">Privacy Policy</a>. You can unsubscribe from these emails at any time.</p><code id=\"i18n_create_alert_invalid_email\" style=\"display: none;\"><!--\"Please enter a valid email address\"--></code><code id=\"i18n_generic_error_message\" style=\"display: none;\"><!--\"Your job alert couldn't be created, please try again later.\"--></code><p class=\"create-alert-error-message create-alert-error-message--generic\" role=\"alert\"><icon class=\"create-alert-error-message__icon lazy-load\"></icon><span class=\"create-alert-error-message__container\"><span class=\"create-alert-error-message__text\"></span><a class=\"create-alert-error-message__sign-in-link hidden\" data-tracking-control-name=\"public_jobs_create-alert-modal_create-alert-form_over-limit-sign-in-link\" data-tracking-will-navigate=\"\" href=\"https://www.linkedin.com/login?emailAddress=&amp;fromSignIn=true&amp;session_redirect=https%3A%2F%2Fwww.linkedin.com%2Fjobs%2Fsearch%2F%3Ff_E%3D1%252C2%252C3%26f_F%3Dbd%252Canls%252Ccnsl%252Cit%252Cprdm%26f_JT%3DF%26f_PP%3D106967730%26geoId%3D101282230%26keywords%3Dbusiness%2520analytics%26location%3DGermany%26html.parser&amp;trk=public_jobs_create-alert-modal_create-alert-form_over-limit-sign-in-link\">Sign in to create more</a></span></p></div><footer class=\"create-alert-form__footer\"><button class=\"create-alert-form__footer-button\" data-tracking-control-name=\"public_jobs_create-alert-modal_create-alert-form_submit\" type=\"submit\">Create job alert</button></footer></form><div class=\"alert-activation-status alert-activation-status--hidden\"><div class=\"alert-activation-status__body\"><icon class=\"alert-activation-status__icon\" data-delayed-url=\"https://static-exp1.licdn.com/sc/h/arff5hp08cd5tpj3viooy1sup\"></icon><p class=\"alert-activation-status__headline\">Your job alert is set</p><p class=\"alert-activation-status__subline\">Click the link in the email we sent to <span class=\"break-word\" id=\"guest-email\"></span> to verify your email address and activate your job alert.</p></div><footer class=\"alert-activation-status__footer\"><button class=\"alert-activation-status__footer-button\" data-tracking-control-name=\"public_jobs_create-alert-modal_alert-activation-status-close\">Done</button></footer></div><div class=\"welcome-back-sign-in-form__container welcome-back-sign-in-form__container--hidden\"><h3 class=\"welcome-back-sign-in-form__header\">Welcome back</h3><p class=\"welcome-back-sign-in-form__subline\">Sign in to create your job alert for <span class=\"create-alert-sign-in-form__query-info\">Business Analytics</span> jobs in <span class=\"create-alert-sign-in-form__query-info\">Germany</span>.</p><code id=\"i18n_sign_in_form_show_text\" style=\"display: none;\"><!--\"Show\"--></code><code id=\"i18n_sign_in_form_show_label\" style=\"display: none;\"><!--\"Show your LinkedIn password\"--></code><code id=\"i18n_sign_in_form_hide_text\" style=\"display: none;\"><!--\"Hide\"--></code><code id=\"i18n_sign_in_form_hide_label\" style=\"display: none;\"><!--\"Hide your LinkedIn password\"--></code><code id=\"i18n_username_error_empty\" style=\"display: none;\"><!--\"Please enter an email address or phone number\"--></code><code id=\"i18n_username_error_too_long\" style=\"display: none;\"><!--\"Email or phone number must be between 3 to 128 characters\"--></code><code id=\"i18n_username_error_too_short\" style=\"display: none;\"><!--\"Email or phone number must be between 3 to 128 characters\"--></code><code id=\"i18n_password_error_empty\" style=\"display: none;\"><!--\"Please enter a password\"--></code><code id=\"i18n_password_error_too_short\" style=\"display: none;\"><!--\"The password you provided must have at least 6 characters\"--></code><code id=\"i18n_password_error_too_long\" style=\"display: none;\"><!--\"The password you provided must have at most 400 characters\"--></code><form action=\"https://www.linkedin.com/uas/login-submit\" class=\"sign-in-form create-alert-sign-in-form\" method=\"post\" novalidate=\"\"><input name=\"loginCsrfParam\" type=\"hidden\" value=\"5d746c2a-ead5-4174-80e9-6b92cd8e5974\"/><div class=\"sign-in-form__inputs create-alert-sign-in-form__inputs\"><div class=\"guest-input create-alert-sign-in-form\"><div class=\"guest-input__input-container create-alert-sign-in-form__input-container\"><input autocomplete=\"username\" class=\"guest-input__field create-alert-sign-in-form__field\" id=\"session_key\" name=\"session_key\" placeholder=\" \" required=\"\" type=\"text\"/><label class=\"guest-input__label create-alert-sign-in-form__label\" for=\"session_key\">Email or phone</label></div><p class=\"guest-input__message create-alert-sign-in-form__message hidden\" for=\"session_key\" role=\"alert\"></p></div><div class=\"guest-input create-alert-sign-in-form\"><div class=\"guest-input__input-container create-alert-sign-in-form__input-container\"><input autocomplete=\"current-password\" class=\"guest-input__field create-alert-sign-in-form__field\" id=\"session_password\" name=\"session_password\" placeholder=\" \" required=\"\" type=\"password\"/><label class=\"guest-input__label create-alert-sign-in-form__label\" for=\"session_password\">Password</label><button aria-label=\"Show your LinkedIn password\" class=\"sign-in-form__password-visibility-toggle create-alert-sign-in-form__password-visibility-toggle\" data-tracking-control-name=\"public_jobs_create-alert-modal_sign-in-password-visibility-toggle-btn\" type=\"button\">Show</button></div><p class=\"guest-input__message create-alert-sign-in-form__message hidden\" for=\"session_password\" role=\"alert\"></p></div><input name=\"session_redirect\" type=\"hidden\" value=\"https://www.linkedin.com/jobs/search/?f_E=1%2C2%2C3&amp;f_F=bd%2Canls%2Ccnsl%2Cit%2Cprdm&amp;f_JT=F&amp;f_PP=106967730&amp;geoId=101282230&amp;keywords=business%20analytics&amp;location=Germany&amp;html.parser\"/></div><div class=\"sign-in-form__footer create-alert-sign-in-form__footer\"><a class=\"sign-in-form__forgot-password create-alert-sign-in-form__forgot-password\" data-tracking-control-name=\"public_jobs_create-alert-modal_forgot_password\" data-tracking-will-navigate=\"\" href=\"https://www.linkedin.com/uas/request-password-reset?trk=public_jobs_create-alert-modal_forgot_password\">Forgot password?</a><input name=\"trk\" type=\"hidden\" value=\"public_jobs_create-alert-modal_sign-in-submit\"/><button class=\"sign-in-form__submit-btn create-alert-sign-in-form__submit-btn\" data-tracking-control-name=\"public_jobs_create-alert-modal_sign-in-submit-btn\" data-tracking-litms=\"\" type=\"submit\">Sign in</button></div></form></div></main></section></div></div></div><div aria-describedby=\"cta-modal-subheader\" aria-labelledby=\"cta-modal-header\" class=\"cta-modal\" data-impression-id=\"public_jobs_cta-modal\" role=\"dialog\"><h2 class=\"cta-modal__header\" id=\"cta-modal-header\">You're signed out</h2><h3 class=\"cta-modal__subheader\" id=\"cta-modal-subheader\">Sign in for the full experience</h3><a class=\"cta-modal__primary-btn\" data-tracking-control-name=\"conversion-modal-signin\" data-tracking-will-navigate=\"\" href=\"https://www.linkedin.com/login?emailAddress=&amp;fromSignIn=true&amp;session_redirect=https%3A%2F%2Fwww.linkedin.com%2Fjobs%2Fsearch%2F%3Ff_E%3D1%252C2%252C3%26f_F%3Dbd%252Canls%252Ccnsl%252Cit%252Cprdm%26f_JT%3DF%26f_PP%3D106967730%26geoId%3D101282230%26keywords%3Dbusiness%2520analytics%26location%3DGermany%26html.parser&amp;trk=public_jobs_conversion-modal-signin\">Sign in</a><a class=\"cta-modal__secondary-btn\" data-tracking-control-name=\"conversion-modal-join\" data-tracking-will-navigate=\"\" href=\"https://www.linkedin.com/signup/cold-join?source=jobs_registration&amp;session_redirect=https%3A%2F%2Fwww.linkedin.com%2Fjobs%2Fsearch%2F%3Ff_E%3D1%252C2%252C3%26f_F%3Dbd%252Canls%252Ccnsl%252Cit%252Cprdm%26f_JT%3DF%26f_PP%3D106967730%26geoId%3D101282230%26keywords%3Dbusiness%2520analytics%26location%3DGermany%26html.parser&amp;trk=public_jobs_conversion-modal-join\">Join now</a><button aria-label=\"Dismiss\" class=\"cta-modal__dismiss-btn\" data-tracking-control-name=\"public_jobs_dismiss\"><icon class=\"cta-modal__dismiss-icon onload\" data-delayed-url=\"https://static-exp1.licdn.com/sc/h/gs508lg3t2o81tq7pmcgn6m2\"></icon></button></div><footer class=\"li-footer\"><ul class=\"li-footer__list\"><li class=\"li-footer__item\"><span class=\"sr-only\">LinkedIn</span><icon class=\"li-footer__copy-logo\" data-delayed-url=\"https://static-exp1.licdn.com/sc/h/b11vnqql8f4abtysggvq9v836\"></icon><span class=\"li-footer__copy-text\">© 2020</span></li><li class=\"li-footer__item\"><a class=\"li-footer__item-link\" data-tracking-control-name=\"public_jobs_footer-about\" data-tracking-will-navigate=\"\" href=\"https://about.linkedin.com?trk=public_jobs_footer-about\">About</a></li><li class=\"li-footer__item\"><a class=\"li-footer__item-link\" data-tracking-control-name=\"public_jobs_footer-accessibility\" data-tracking-will-navigate=\"\" href=\"https://www.linkedin.com/accessibility?trk=public_jobs_footer-accessibility\">Accessibility</a></li><li class=\"li-footer__item\"><a class=\"li-footer__item-link\" data-tracking-control-name=\"public_jobs_footer-user-agreement\" data-tracking-will-navigate=\"\" href=\"https://www.linkedin.com/legal/user-agreement?trk=public_jobs_footer-user-agreement\">User Agreement</a></li><li class=\"li-footer__item\"><a class=\"li-footer__item-link\" data-tracking-control-name=\"public_jobs_footer-privacy-policy\" data-tracking-will-navigate=\"\" href=\"https://www.linkedin.com/legal/privacy-policy?trk=public_jobs_footer-privacy-policy\">Privacy Policy</a></li><li class=\"li-footer__item\"><a class=\"li-footer__item-link\" data-tracking-control-name=\"public_jobs_footer-cookie-policy\" data-tracking-will-navigate=\"\" href=\"https://www.linkedin.com/legal/cookie-policy?trk=public_jobs_footer-cookie-policy\">Cookie Policy</a></li><li class=\"li-footer__item\"><a class=\"li-footer__item-link\" data-tracking-control-name=\"public_jobs_footer-copyright-policy\" data-tracking-will-navigate=\"\" href=\"https://www.linkedin.com/legal/copyright-policy?trk=public_jobs_footer-copyright-policy\">Copyright Policy</a></li><li class=\"li-footer__item\"><a class=\"li-footer__item-link\" data-tracking-control-name=\"public_jobs_footer-brand-policy\" data-tracking-will-navigate=\"\" href=\"https://brand.linkedin.com/policies?trk=public_jobs_footer-brand-policy\">Brand Policy</a></li><li class=\"li-footer__item\"><a class=\"li-footer__item-link\" data-tracking-control-name=\"public_jobs_footer-guest-controls\" data-tracking-will-navigate=\"\" href=\"https://www.linkedin.com/psettings/guest-controls?trk=public_jobs_footer-guest-controls\">Guest Controls</a></li><li class=\"li-footer__item\"><a class=\"li-footer__item-link\" data-tracking-control-name=\"public_jobs_footer-community-guide\" data-tracking-will-navigate=\"\" href=\"https://www.linkedin.com/legal/professional-community-policies?trk=public_jobs_footer-community-guide\">Community Guidelines</a></li><li class=\"li-footer__item\"><div class=\"collapsible-dropdown language-selector collapsible-dropdown--footer language-selector--footer collapsible-dropdown--up language-selector--up\"><ul class=\"collapsible-dropdown__list language-selector__list hidden\" role=\"menu\" tabindex=\"-1\"><li aria-label=\"العربية (Arabic)\" class=\"language-selector__item\" role=\"menuitem\"><button aria-label=\"العربية (Arabic)\" class=\"language-selector__link\" data-locale=\"ar_AE\" data-tracking-control-name=\"language-selector-ar_AE\" lang=\"ar_AE\">العربية (Arabic)</button></li><li aria-label=\"Čeština (Czech)\" class=\"language-selector__item\" role=\"menuitem\"><button aria-label=\"Čeština (Czech)\" class=\"language-selector__link\" data-locale=\"cs_CZ\" data-tracking-control-name=\"language-selector-cs_CZ\" lang=\"cs_CZ\">Čeština (Czech)</button></li><li aria-label=\"Dansk (Danish)\" class=\"language-selector__item\" role=\"menuitem\"><button aria-label=\"Dansk (Danish)\" class=\"language-selector__link\" data-locale=\"da_DK\" data-tracking-control-name=\"language-selector-da_DK\" lang=\"da_DK\">Dansk (Danish)</button></li><li aria-label=\"Deutsch (German)\" class=\"language-selector__item\" role=\"menuitem\"><button aria-label=\"Deutsch (German)\" class=\"language-selector__link\" data-locale=\"de_DE\" data-tracking-control-name=\"language-selector-de_DE\" lang=\"de_DE\">Deutsch (German)</button></li><li aria-label=\"English (English) selected\" class=\"language-selector__item\" role=\"menuitem\"><button aria-label=\"English (English) selected\" class=\"language-selector__link language-selector__link--selected\" data-locale=\"en_US\" data-tracking-control-name=\"language-selector-en_US\" lang=\"en_US\"><strong>English (English)</strong></button></li><li aria-label=\"Español (Spanish)\" class=\"language-selector__item\" role=\"menuitem\"><button aria-label=\"Español (Spanish)\" class=\"language-selector__link\" data-locale=\"es_ES\" data-tracking-control-name=\"language-selector-es_ES\" lang=\"es_ES\">Español (Spanish)</button></li><li aria-label=\"Français (French)\" class=\"language-selector__item\" role=\"menuitem\"><button aria-label=\"Français (French)\" class=\"language-selector__link\" data-locale=\"fr_FR\" data-tracking-control-name=\"language-selector-fr_FR\" lang=\"fr_FR\">Français (French)</button></li><li aria-label=\"Bahasa Indonesia (Bahasa Indonesia)\" class=\"language-selector__item\" role=\"menuitem\"><button aria-label=\"Bahasa Indonesia (Bahasa Indonesia)\" class=\"language-selector__link\" data-locale=\"in_ID\" data-tracking-control-name=\"language-selector-in_ID\" lang=\"in_ID\">Bahasa Indonesia (Bahasa Indonesia)</button></li><li aria-label=\"Italiano (Italian)\" class=\"language-selector__item\" role=\"menuitem\"><button aria-label=\"Italiano (Italian)\" class=\"language-selector__link\" data-locale=\"it_IT\" data-tracking-control-name=\"language-selector-it_IT\" lang=\"it_IT\">Italiano (Italian)</button></li><li aria-label=\"日本語 (Japanese)\" class=\"language-selector__item\" role=\"menuitem\"><button aria-label=\"日本語 (Japanese)\" class=\"language-selector__link\" data-locale=\"ja_JP\" data-tracking-control-name=\"language-selector-ja_JP\" lang=\"ja_JP\">日本語 (Japanese)</button></li><li aria-label=\"한국어 (Korean)\" class=\"language-selector__item\" role=\"menuitem\"><button aria-label=\"한국어 (Korean)\" class=\"language-selector__link\" data-locale=\"ko_KR\" data-tracking-control-name=\"language-selector-ko_KR\" lang=\"ko_KR\">한국어 (Korean)</button></li><li aria-label=\"Bahasa Malaysia (Malay)\" class=\"language-selector__item\" role=\"menuitem\"><button aria-label=\"Bahasa Malaysia (Malay)\" class=\"language-selector__link\" data-locale=\"ms_MY\" data-tracking-control-name=\"language-selector-ms_MY\" lang=\"ms_MY\">Bahasa Malaysia (Malay)</button></li><li aria-label=\"Nederlands (Dutch)\" class=\"language-selector__item\" role=\"menuitem\"><button aria-label=\"Nederlands (Dutch)\" class=\"language-selector__link\" data-locale=\"nl_NL\" data-tracking-control-name=\"language-selector-nl_NL\" lang=\"nl_NL\">Nederlands (Dutch)</button></li><li aria-label=\"Norsk (Norwegian)\" class=\"language-selector__item\" role=\"menuitem\"><button aria-label=\"Norsk (Norwegian)\" class=\"language-selector__link\" data-locale=\"no_NO\" data-tracking-control-name=\"language-selector-no_NO\" lang=\"no_NO\">Norsk (Norwegian)</button></li><li aria-label=\"Polski (Polish)\" class=\"language-selector__item\" role=\"menuitem\"><button aria-label=\"Polski (Polish)\" class=\"language-selector__link\" data-locale=\"pl_PL\" data-tracking-control-name=\"language-selector-pl_PL\" lang=\"pl_PL\">Polski (Polish)</button></li><li aria-label=\"Português (Portuguese)\" class=\"language-selector__item\" role=\"menuitem\"><button aria-label=\"Português (Portuguese)\" class=\"language-selector__link\" data-locale=\"pt_BR\" data-tracking-control-name=\"language-selector-pt_BR\" lang=\"pt_BR\">Português (Portuguese)</button></li><li aria-label=\"Română (Romanian)\" class=\"language-selector__item\" role=\"menuitem\"><button aria-label=\"Română (Romanian)\" class=\"language-selector__link\" data-locale=\"ro_RO\" data-tracking-control-name=\"language-selector-ro_RO\" lang=\"ro_RO\">Română (Romanian)</button></li><li aria-label=\"Русский (Russian)\" class=\"language-selector__item\" role=\"menuitem\"><button aria-label=\"Русский (Russian)\" class=\"language-selector__link\" data-locale=\"ru_RU\" data-tracking-control-name=\"language-selector-ru_RU\" lang=\"ru_RU\">Русский (Russian)</button></li><li aria-label=\"Svenska (Swedish)\" class=\"language-selector__item\" role=\"menuitem\"><button aria-label=\"Svenska (Swedish)\" class=\"language-selector__link\" data-locale=\"sv_SE\" data-tracking-control-name=\"language-selector-sv_SE\" lang=\"sv_SE\">Svenska (Swedish)</button></li><li aria-label=\"ภาษาไทย (Thai)\" class=\"language-selector__item\" role=\"menuitem\"><button aria-label=\"ภาษาไทย (Thai)\" class=\"language-selector__link\" data-locale=\"th_TH\" data-tracking-control-name=\"language-selector-th_TH\" lang=\"th_TH\">ภาษาไทย (Thai)</button></li><li aria-label=\"Tagalog (Tagalog)\" class=\"language-selector__item\" role=\"menuitem\"><button aria-label=\"Tagalog (Tagalog)\" class=\"language-selector__link\" data-locale=\"tl_PH\" data-tracking-control-name=\"language-selector-tl_PH\" lang=\"tl_PH\">Tagalog (Tagalog)</button></li><li aria-label=\"Türkçe (Turkish)\" class=\"language-selector__item\" role=\"menuitem\"><button aria-label=\"Türkçe (Turkish)\" class=\"language-selector__link\" data-locale=\"tr_TR\" data-tracking-control-name=\"language-selector-tr_TR\" lang=\"tr_TR\">Türkçe (Turkish)</button></li><li aria-label=\"简体中文 (Chinese (Simplified))\" class=\"language-selector__item\" role=\"menuitem\"><button aria-label=\"简体中文 (Chinese (Simplified))\" class=\"language-selector__link\" data-locale=\"zh_CN\" data-tracking-control-name=\"language-selector-zh_CN\" lang=\"zh_CN\">简体中文 (Chinese (Simplified))</button></li><li aria-label=\"正體中文 (Chinese (Traditional))\" class=\"language-selector__item\" role=\"menuitem\"><button aria-label=\"正體中文 (Chinese (Traditional))\" class=\"language-selector__link\" data-locale=\"zh_TW\" data-tracking-control-name=\"language-selector-zh_TW\" lang=\"zh_TW\">正體中文 (Chinese (Traditional))</button></li></ul><button aria-expanded=\"false\" class=\"language-selector__button\" data-tracking-control-name=\"footer-lang-dropdown_trigger\"><span class=\"language-selector__label-text\">Language</span><icon class=\"language-selector__label-chevron\" data-delayed-url=\"https://static-exp1.licdn.com/sc/h/cyolgscd0imw2ldqppkrb84vo\"></icon></button></div></li></ul></footer><section id=\"json-refs\"><code id=\"requestSubdomain\" style=\"display: none;\"><!--\"www\"--></code><code id=\"dust-var-pageKey\" style=\"display: none;\"><!--\"d_jobs_guest_search\"--></code><code id=\"dust-var-savedSearchList\" style=\"display: none;\"><!--false--></code><code id=\"dust-var-savedSearchUrl\" style=\"display: none;\"><!--false--></code><code id=\"dust-var-isRedirectedFromDeletedAlert\" style=\"display: none;\"><!--false--></code><code id=\"dust-var-currentJobId\" style=\"display: none;\"><!--\"2506038051\"--></code><code id=\"dust-var-currentSearchId\" style=\"display: none;\"><!--\"p2BiFnlyyAQl7Au9/0ld0Q==\"--></code><code id=\"dust-var-totalResults\" style=\"display: none;\"><!--\"401\"--></code><code id=\"dust-var-resultsPerPage\" style=\"display: none;\"><!--\"25\"--></code><code id=\"isSkipUnifyApplySubmitEnabled\" style=\"display: none;\"><!--false--></code></section><script data-delayed-url=\"https://static-exp1.licdn.com/sc/h/5g6kvbdyxoays49e1fd9slioa\" data-module-id=\"google-one-tap-lib\"></script></body></html>"
      ]
     },
     "execution_count": 10,
     "metadata": {},
     "output_type": "execute_result"
    }
   ],
   "source": [
    "soup"
   ]
  },
  {
   "cell_type": "code",
   "execution_count": 11,
   "metadata": {
    "ExecuteTime": {
     "end_time": "2021-05-10T06:53:18.930433Z",
     "start_time": "2021-05-10T06:53:18.917463Z"
    }
   },
   "outputs": [
    {
     "name": "stdout",
     "output_type": "stream",
     "text": [
      "<div aria-live=\"assertive\" class=\"global-alert-banner\" id=\"artdeco-global-alert-container\" role=\"alert\"><div alert-id=\"urn:li:alert:10\" aria-hidden=\"true\" class=\"artdeco-global-alert artdeco-global-alert--NOTICE artdeco-global-alert--COOKIE_CONSENT\" severity=\"NOTICE\" type=\"COOKIE_CONSENT\"><section class=\"artdeco-global-alert__body\"><li-icon class=\"artdeco-global-alert__icon\"><span><svg height=\"24\" version=\"1.1\" width=\"24\" xmlns=\"http://www.w3.org/2000/svg\" xmlns:xlink=\"http://www.w3.org/1999/xlink\"><path d=\"M12,2C6.5,2,2,6.5,2,12c0,5.5,4.5,10,10,10c5.5,0,10-4.5,10-10C22,6.5,17.5,2,12,2zM12,20.2c-4.5,0-8.2-3.7-8.2-8.2S7.5,3.8,12,3.8s8.2,3.7,8.2,8.2S16.5,20.2,12,20.2zM11,10h2v8h-2V10zM11,6h2v2h-2V6z\" fill=\"#fff\"></path></svg></span></li-icon><div class=\"artdeco-global-alert__responsive-container\"><div class=\"artdeco-global-alert__content\"><p>We and third parties such as our customers, partners, and service providers use cookies and similar technologies (\"cookies\") to provide and secure our Services, to understand and improve their performance, and to serve relevant ads (including job ads) on and off LinkedIn. For more information, see our <a href=\"https://www.linkedin.com/legal/cookie-policy\">Cookie Policy</a>.</p><p>Select <b>Accept cookies</b> to consent to this use or <b>Manage preferences</b> to make your cookie choices. You can change your cookie choices and withdraw your consent in your settings at any time.</p></div><div class=\"artdeco-global-alert-action__wrapper\"><button action-type=\"LINK\" class=\"artdeco-global-alert-action artdeco-button artdeco-button--inverse artdeco-button--2 artdeco-button--primary\" data-control-name=\"urn:li:control:ga-cookie.consent.manage.cookie.v3\" data-tracking-control-name=\"urn:li:control:ga-cookie.consent.manage.cookie.v3\">Manage preferences</button><button action-type=\"ACCEPT\" class=\"artdeco-global-alert-action artdeco-button artdeco-button--inverse artdeco-button--2 artdeco-button--primary\" data-control-name=\"urn:li:control:ga-cookie.consent.accept.v3\" data-tracking-control-name=\"urn:li:control:ga-cookie.consent.accept.v3\">Accept cookies</button></div></div></section></div><div alert-id=\"urn:li:alert:3\" aria-hidden=\"true\" class=\"artdeco-global-alert artdeco-global-alert--NOTICE artdeco-global-alert--COOKIE_USAGE\" severity=\"NOTICE\" type=\"COOKIE_USAGE\"><section class=\"artdeco-global-alert__body\"><li-icon class=\"artdeco-global-alert__icon\"><span><svg height=\"24\" version=\"1.1\" width=\"24\" xmlns=\"http://www.w3.org/2000/svg\" xmlns:xlink=\"http://www.w3.org/1999/xlink\"><path d=\"M12,2C6.5,2,2,6.5,2,12c0,5.5,4.5,10,10,10c5.5,0,10-4.5,10-10C22,6.5,17.5,2,12,2zM12,20.2c-4.5,0-8.2-3.7-8.2-8.2S7.5,3.8,12,3.8s8.2,3.7,8.2,8.2S16.5,20.2,12,20.2zM11,10h2v8h-2V10zM11,6h2v2h-2V6z\" fill=\"#fff\"></path></svg></span></li-icon><div class=\"artdeco-global-alert__responsive-container\"><div class=\"artdeco-global-alert__content\">This website uses cookies to improve service and provide tailored ads. By using this site, you agree to this use. See our <a href=\"https://www.linkedin.com/legal/cookie-policy\">Cookie Policy</a></div></div><button class=\"artdeco-global-alert__dismiss\"><li-icon class=\"artdeco-global-alert__icon artdeco-global-alert__icon--dismissed\"><span><svg height=\"16\" version=\"1.1\" width=\"16\" xmlns=\"http://www.w3.org/2000/svg\" xmlns:xlink=\"http://www.w3.org/1999/xlink\"><path d=\"M13,4.32L9.31,8,13,11.69,11.69,13,8,9.31,4.31,13,3,11.69,6.69,8,3,4.31,4.31,3,8,6.69,11.68,3Z\" fill=\"#fff\"></path></svg></span><span class=\"a11y-text\">dismiss</span></li-icon></button></section></div></div>\n"
     ]
    }
   ],
   "source": [
    "print(soup.div)"
   ]
  },
  {
   "cell_type": "markdown",
   "metadata": {},
   "source": [
    "## Find all"
   ]
  },
  {
   "cell_type": "code",
   "execution_count": 21,
   "metadata": {
    "ExecuteTime": {
     "end_time": "2021-05-10T06:58:39.358384Z",
     "start_time": "2021-05-10T06:58:39.343472Z"
    }
   },
   "outputs": [
    {
     "name": "stdout",
     "output_type": "stream",
     "text": [
      "[<a href=\"https://www.linkedin.com/legal/cookie-policy\">Cookie Policy</a>, <a href=\"https://www.linkedin.com/legal/cookie-policy\">Cookie Policy</a>, <a class=\"skip-link\" href=\"#main-content\">Skip to main content</a>, <a class=\"nav__logo-link\" data-tracking-control-name=\"public_jobs_nav-header-logo\" data-tracking-will-navigate=\"\" href=\"/?trk=public_jobs_nav-header-logo\"><span class=\"sr-only\">LinkedIn</span><icon class=\"nav-logo\" data-delayed-url=\"https://static-exp1.licdn.com/sc/h/8fkga714vy9b2wk5auqo5reeb\"></icon></a>, <a class=\"nav__button-tertiary\" data-tracking-control-name=\"public_jobs_nav-header-join\" data-tracking-will-navigate=\"\" href=\"https://www.linkedin.com/signup/cold-join?source=jobs_registration&amp;session_redirect=https%3A%2F%2Fwww.linkedin.com%2Fjobs%2Fsearch%2F%3Ff_E%3D1%252C2%252C3%26f_F%3Dbd%252Canls%252Ccnsl%252Cit%252Cprdm%26f_JT%3DF%26f_PP%3D106967730%26geoId%3D101282230%26keywords%3Dbusiness%2520analytics%26location%3DGermany%26html.parser&amp;trk=public_jobs_nav-header-join\">Join now</a>, <a class=\"nav__button-secondary\" data-tracking-control-name=\"public_jobs_nav-header-signin\" data-tracking-will-navigate=\"\" href=\"https://www.linkedin.com/login?emailAddress=&amp;fromSignIn=true&amp;session_redirect=https%3A%2F%2Fwww.linkedin.com%2Fjobs%2Fsearch%2F%3Ff_E%3D1%252C2%252C3%26f_F%3Dbd%252Canls%252Ccnsl%252Cit%252Cprdm%26f_JT%3DF%26f_PP%3D106967730%26geoId%3D101282230%26keywords%3Dbusiness%2520analytics%26location%3DGermany%26html.parser&amp;trk=public_jobs_nav-header-signin\">Sign in</a>, <a class=\"result-card__full-card-link\" data-tracking-client-ingraph=\"\" data-tracking-control-name=\"public_jobs_job-result-card_result-card_full-click\" data-tracking-will-navigate=\"\" href=\"https://de.linkedin.com/jobs/view/business-analytics-lead-enablement-m-f-d-at-free-now-2506038051?refId=p2BiFnlyyAQl7Au9%2F0ld0Q%3D%3D&amp;trackingId=ZazGxgQ7Y9M0ubBVMw7%2BcQ%3D%3D&amp;position=1&amp;pageNum=0&amp;trk=public_jobs_job-result-card_result-card_full-click\"><span class=\"screen-reader-text\">Business Analytics Lead (Enablement) (m/f/d)</span></a>, <a class=\"result-card__subtitle-link job-result-card__subtitle-link\" data-tracking-client-ingraph=\"\" data-tracking-control-name=\"public_jobs_job-result-card_result-card_subtitle-click\" data-tracking-will-navigate=\"\" href=\"https://de.linkedin.com/company/free-now?trk=public_jobs_job-result-card_result-card_subtitle-click\">FREE NOW</a>, <a class=\"result-card__full-card-link\" data-tracking-client-ingraph=\"\" data-tracking-control-name=\"public_jobs_job-result-card_result-card_full-click\" data-tracking-will-navigate=\"\" href=\"https://de.linkedin.com/jobs/view/analytics-engineer-at-nubank-2418475085?refId=p2BiFnlyyAQl7Au9%2F0ld0Q%3D%3D&amp;trackingId=6Nqa7KH%2Bp4GMxBrlw57Alg%3D%3D&amp;position=2&amp;pageNum=0&amp;trk=public_jobs_job-result-card_result-card_full-click\"><span class=\"screen-reader-text\">Analytics Engineer</span></a>, <a class=\"result-card__subtitle-link job-result-card__subtitle-link\" data-tracking-client-ingraph=\"\" data-tracking-control-name=\"public_jobs_job-result-card_result-card_subtitle-click\" data-tracking-will-navigate=\"\" href=\"https://br.linkedin.com/company/nubank?trk=public_jobs_job-result-card_result-card_subtitle-click\">Nubank</a>, <a class=\"result-card__full-card-link\" data-tracking-client-ingraph=\"\" data-tracking-control-name=\"public_jobs_job-result-card_result-card_full-click\" data-tracking-will-navigate=\"\" href=\"https://de.linkedin.com/jobs/view/graduate-analyst-at-amazon-2454056167?refId=p2BiFnlyyAQl7Au9%2F0ld0Q%3D%3D&amp;trackingId=7CCTqxK3ZRV0AGZ3QHGC0A%3D%3D&amp;position=3&amp;pageNum=0&amp;trk=public_jobs_job-result-card_result-card_full-click\"><span class=\"screen-reader-text\">Graduate Analyst</span></a>, <a class=\"result-card__subtitle-link job-result-card__subtitle-link\" data-tracking-client-ingraph=\"\" data-tracking-control-name=\"public_jobs_job-result-card_result-card_subtitle-click\" data-tracking-will-navigate=\"\" href=\"https://www.linkedin.com/company/amazon?trk=public_jobs_job-result-card_result-card_subtitle-click\">Amazon</a>, <a class=\"result-card__full-card-link\" data-tracking-client-ingraph=\"\" data-tracking-control-name=\"public_jobs_job-result-card_result-card_full-click\" data-tracking-will-navigate=\"\" href=\"https://de.linkedin.com/jobs/view/business-analytics-lead-enablement-m-f-d-at-freenow-2530431901?refId=p2BiFnlyyAQl7Au9%2F0ld0Q%3D%3D&amp;trackingId=dQYDUJKmcpZC4l8swJy34A%3D%3D&amp;position=4&amp;pageNum=0&amp;trk=public_jobs_job-result-card_result-card_full-click\"><span class=\"screen-reader-text\">Business Analytics Lead (Enablement) (m/f/d)</span></a>, <a class=\"result-card__full-card-link\" data-tracking-client-ingraph=\"\" data-tracking-control-name=\"public_jobs_job-result-card_result-card_full-click\" data-tracking-will-navigate=\"\" href=\"https://de.linkedin.com/jobs/view/associate-data-analyst-business-analytics-at-getyourguide-2474665484?refId=p2BiFnlyyAQl7Au9%2F0ld0Q%3D%3D&amp;trackingId=jEes7r0ga5BXKdN1J%2FtVyQ%3D%3D&amp;position=5&amp;pageNum=0&amp;trk=public_jobs_job-result-card_result-card_full-click\"><span class=\"screen-reader-text\">Associate Data Analyst, Business Analytics</span></a>, <a class=\"result-card__subtitle-link job-result-card__subtitle-link\" data-tracking-client-ingraph=\"\" data-tracking-control-name=\"public_jobs_job-result-card_result-card_subtitle-click\" data-tracking-will-navigate=\"\" href=\"https://de.linkedin.com/company/getyourguide-ag?trk=public_jobs_job-result-card_result-card_subtitle-click\">GetYourGuide</a>, <a class=\"result-card__full-card-link\" data-tracking-client-ingraph=\"\" data-tracking-control-name=\"public_jobs_job-result-card_result-card_full-click\" data-tracking-will-navigate=\"\" href=\"https://de.linkedin.com/jobs/view/analytics-team-lead-core-product-at-miro-2497738719?refId=p2BiFnlyyAQl7Au9%2F0ld0Q%3D%3D&amp;trackingId=%2BCJA5K1WiKNR5vFQs8zV3w%3D%3D&amp;position=6&amp;pageNum=0&amp;trk=public_jobs_job-result-card_result-card_full-click\"><span class=\"screen-reader-text\">Analytics Team Lead (Core Product)</span></a>, <a class=\"result-card__subtitle-link job-result-card__subtitle-link\" data-tracking-client-ingraph=\"\" data-tracking-control-name=\"public_jobs_job-result-card_result-card_subtitle-click\" data-tracking-will-navigate=\"\" href=\"https://www.linkedin.com/company/mirohq?trk=public_jobs_job-result-card_result-card_subtitle-click\">Miro</a>, <a class=\"result-card__full-card-link\" data-tracking-client-ingraph=\"\" data-tracking-control-name=\"public_jobs_job-result-card_result-card_full-click\" data-tracking-will-navigate=\"\" href=\"https://de.linkedin.com/jobs/view/business-intelligence-analyst-at-sumup-2507791455?refId=p2BiFnlyyAQl7Au9%2F0ld0Q%3D%3D&amp;trackingId=PIcztSDN3rTbvwqgEoWUWw%3D%3D&amp;position=7&amp;pageNum=0&amp;trk=public_jobs_job-result-card_result-card_full-click\"><span class=\"screen-reader-text\">Business Intelligence Analyst</span></a>, <a class=\"result-card__subtitle-link job-result-card__subtitle-link\" data-tracking-client-ingraph=\"\" data-tracking-control-name=\"public_jobs_job-result-card_result-card_subtitle-click\" data-tracking-will-navigate=\"\" href=\"https://uk.linkedin.com/company/sumup?trk=public_jobs_job-result-card_result-card_subtitle-click\">SumUp</a>, <a class=\"result-card__full-card-link\" data-tracking-client-ingraph=\"\" data-tracking-control-name=\"public_jobs_job-result-card_result-card_full-click\" data-tracking-will-navigate=\"\" href=\"https://de.linkedin.com/jobs/view/regional-business-intelligence-and-visualization-lead-m-f-d-emea-at-bayer-2516529987?refId=p2BiFnlyyAQl7Au9%2F0ld0Q%3D%3D&amp;trackingId=kpFhmx5%2Bj1SsU%2BPZykTV6Q%3D%3D&amp;position=8&amp;pageNum=0&amp;trk=public_jobs_job-result-card_result-card_full-click\"><span class=\"screen-reader-text\">Regional Business Intelligence and Visualization Lead (m/f/d) - EMEA</span></a>, <a class=\"result-card__subtitle-link job-result-card__subtitle-link\" data-tracking-client-ingraph=\"\" data-tracking-control-name=\"public_jobs_job-result-card_result-card_subtitle-click\" data-tracking-will-navigate=\"\" href=\"https://de.linkedin.com/company/bayer?trk=public_jobs_job-result-card_result-card_subtitle-click\">Bayer</a>, <a class=\"result-card__full-card-link\" data-tracking-client-ingraph=\"\" data-tracking-control-name=\"public_jobs_job-result-card_result-card_full-click\" data-tracking-will-navigate=\"\" href=\"https://de.linkedin.com/jobs/view/growth-analyst-emea-f-m-x-at-gorillas-2517136035?refId=p2BiFnlyyAQl7Au9%2F0ld0Q%3D%3D&amp;trackingId=C26WDiAXu2%2Fg%2FT2mifXVRQ%3D%3D&amp;position=9&amp;pageNum=0&amp;trk=public_jobs_job-result-card_result-card_full-click\"><span class=\"screen-reader-text\">Growth Analyst, EMEA (f/m/x)</span></a>, <a class=\"result-card__subtitle-link job-result-card__subtitle-link\" data-tracking-client-ingraph=\"\" data-tracking-control-name=\"public_jobs_job-result-card_result-card_subtitle-click\" data-tracking-will-navigate=\"\" href=\"https://de.linkedin.com/company/gorillasapp?trk=public_jobs_job-result-card_result-card_subtitle-click\">Gorillas</a>, <a class=\"result-card__full-card-link\" data-tracking-client-ingraph=\"\" data-tracking-control-name=\"public_jobs_job-result-card_result-card_full-click\" data-tracking-will-navigate=\"\" href=\"https://de.linkedin.com/jobs/view/data-analyst-m-f-x-berlin-at-ava-may-2539425912?refId=p2BiFnlyyAQl7Au9%2F0ld0Q%3D%3D&amp;trackingId=mnHdjYLgZmBko31ioPx7Zw%3D%3D&amp;position=10&amp;pageNum=0&amp;trk=public_jobs_job-result-card_result-card_full-click\"><span class=\"screen-reader-text\">Data Analyst (m/f/x) - Berlin</span></a>, <a class=\"result-card__subtitle-link job-result-card__subtitle-link\" data-tracking-client-ingraph=\"\" data-tracking-control-name=\"public_jobs_job-result-card_result-card_subtitle-click\" data-tracking-will-navigate=\"\" href=\"https://de.linkedin.com/company/ava-may?trk=public_jobs_job-result-card_result-card_subtitle-click\">AVA &amp; MAY</a>, <a class=\"result-card__full-card-link\" data-tracking-client-ingraph=\"\" data-tracking-control-name=\"public_jobs_job-result-card_result-card_full-click\" data-tracking-will-navigate=\"\" href=\"https://de.linkedin.com/jobs/view/teamlead-business-analytics-m-w-d-at-iu-internationale-hochschule-2477950058?refId=p2BiFnlyyAQl7Au9%2F0ld0Q%3D%3D&amp;trackingId=Ly0wq4OO3hgirEr3rBe6AA%3D%3D&amp;position=11&amp;pageNum=0&amp;trk=public_jobs_job-result-card_result-card_full-click\"><span class=\"screen-reader-text\">Teamlead Business Analytics (m/w/d)</span></a>, <a class=\"result-card__subtitle-link job-result-card__subtitle-link\" data-tracking-client-ingraph=\"\" data-tracking-control-name=\"public_jobs_job-result-card_result-card_subtitle-click\" data-tracking-will-navigate=\"\" href=\"https://de.linkedin.com/company/iu-hochschule?trk=public_jobs_job-result-card_result-card_subtitle-click\">IU International University of Applied Sciences</a>, <a class=\"result-card__full-card-link\" data-tracking-client-ingraph=\"\" data-tracking-control-name=\"public_jobs_job-result-card_result-card_full-click\" data-tracking-will-navigate=\"\" href=\"https://de.linkedin.com/jobs/view/app-reporting-tracking-analytics-specialist-m-f-x-at-hellofresh-2487737282?refId=p2BiFnlyyAQl7Au9%2F0ld0Q%3D%3D&amp;trackingId=KluiAbgLWAx5JuU%2F2Vyf9A%3D%3D&amp;position=12&amp;pageNum=0&amp;trk=public_jobs_job-result-card_result-card_full-click\"><span class=\"screen-reader-text\">App Reporting, Tracking &amp; Analytics Specialist (m/f/x)</span></a>, <a class=\"result-card__subtitle-link job-result-card__subtitle-link\" data-tracking-client-ingraph=\"\" data-tracking-control-name=\"public_jobs_job-result-card_result-card_subtitle-click\" data-tracking-will-navigate=\"\" href=\"https://de.linkedin.com/company/hellofresh?trk=public_jobs_job-result-card_result-card_subtitle-click\">HelloFresh</a>, <a class=\"result-card__full-card-link\" data-tracking-client-ingraph=\"\" data-tracking-control-name=\"public_jobs_job-result-card_result-card_full-click\" data-tracking-will-navigate=\"\" href=\"https://de.linkedin.com/jobs/view/analyst-analytics-operations-%E2%80%93-supply-strategy-and-optimisation-bangkok-based-relocation-provided-at-agoda-2472274343?refId=p2BiFnlyyAQl7Au9%2F0ld0Q%3D%3D&amp;trackingId=FzXrubdjSD7OAWR7XJzgSA%3D%3D&amp;position=13&amp;pageNum=0&amp;trk=public_jobs_job-result-card_result-card_full-click\"><span class=\"screen-reader-text\">Analyst (Analytics Operations) – Supply Strategy and Optimisation (Bangkok based, relocation provided)</span></a>, <a class=\"result-card__subtitle-link job-result-card__subtitle-link\" data-tracking-client-ingraph=\"\" data-tracking-control-name=\"public_jobs_job-result-card_result-card_subtitle-click\" data-tracking-will-navigate=\"\" href=\"https://sg.linkedin.com/company/agoda?trk=public_jobs_job-result-card_result-card_subtitle-click\">Agoda</a>, <a class=\"result-card__full-card-link\" data-tracking-client-ingraph=\"\" data-tracking-control-name=\"public_jobs_job-result-card_result-card_full-click\" data-tracking-will-navigate=\"\" href=\"https://de.linkedin.com/jobs/view/data-scientist-f-m-d-finance-at-siemens-energy-2535568597?refId=p2BiFnlyyAQl7Au9%2F0ld0Q%3D%3D&amp;trackingId=1AFGf9pCd%2FDQeedopffXOQ%3D%3D&amp;position=14&amp;pageNum=0&amp;trk=public_jobs_job-result-card_result-card_full-click\"><span class=\"screen-reader-text\">Data Scientist (f/m/d) Finance</span></a>, <a class=\"result-card__subtitle-link job-result-card__subtitle-link\" data-tracking-client-ingraph=\"\" data-tracking-control-name=\"public_jobs_job-result-card_result-card_subtitle-click\" data-tracking-will-navigate=\"\" href=\"https://www.linkedin.com/company/siemens-energy?trk=public_jobs_job-result-card_result-card_subtitle-click\">Siemens Energy</a>, <a class=\"result-card__full-card-link\" data-tracking-client-ingraph=\"\" data-tracking-control-name=\"public_jobs_job-result-card_result-card_full-click\" data-tracking-will-navigate=\"\" href=\"https://de.linkedin.com/jobs/view/data-analyst-w-m-d-at-signa-sports-united-2537263470?refId=p2BiFnlyyAQl7Au9%2F0ld0Q%3D%3D&amp;trackingId=tkNBLOkafHCXqD3l0U9mkQ%3D%3D&amp;position=15&amp;pageNum=0&amp;trk=public_jobs_job-result-card_result-card_full-click\"><span class=\"screen-reader-text\">Data Analyst (w/m/d)</span></a>, <a class=\"result-card__subtitle-link job-result-card__subtitle-link\" data-tracking-client-ingraph=\"\" data-tracking-control-name=\"public_jobs_job-result-card_result-card_subtitle-click\" data-tracking-will-navigate=\"\" href=\"https://de.linkedin.com/company/signa-sports-united?trk=public_jobs_job-result-card_result-card_subtitle-click\">SIGNA Sports United</a>, <a class=\"result-card__full-card-link\" data-tracking-client-ingraph=\"\" data-tracking-control-name=\"public_jobs_job-result-card_result-card_full-click\" data-tracking-will-navigate=\"\" href=\"https://de.linkedin.com/jobs/view/business-analyst-france-m-f-d-at-trade-republic-2519956561?refId=p2BiFnlyyAQl7Au9%2F0ld0Q%3D%3D&amp;trackingId=IAP%2FJ%2FbCPS5IDJo%2FiMAarA%3D%3D&amp;position=16&amp;pageNum=0&amp;trk=public_jobs_job-result-card_result-card_full-click\"><span class=\"screen-reader-text\">Business Analyst France (m/f/d)</span></a>, <a class=\"result-card__subtitle-link job-result-card__subtitle-link\" data-tracking-client-ingraph=\"\" data-tracking-control-name=\"public_jobs_job-result-card_result-card_subtitle-click\" data-tracking-will-navigate=\"\" href=\"https://de.linkedin.com/company/trade-republic?trk=public_jobs_job-result-card_result-card_subtitle-click\">Trade Republic</a>, <a class=\"result-card__full-card-link\" data-tracking-client-ingraph=\"\" data-tracking-control-name=\"public_jobs_job-result-card_result-card_full-click\" data-tracking-will-navigate=\"\" href=\"https://de.linkedin.com/jobs/view/business-analyst-at-atheneum-2533644230?refId=p2BiFnlyyAQl7Au9%2F0ld0Q%3D%3D&amp;trackingId=5CBu6D1Jb%2B%2BzSS%2FcbKvkCw%3D%3D&amp;position=17&amp;pageNum=0&amp;trk=public_jobs_job-result-card_result-card_full-click\"><span class=\"screen-reader-text\">Business Analyst</span></a>, <a class=\"result-card__subtitle-link job-result-card__subtitle-link\" data-tracking-client-ingraph=\"\" data-tracking-control-name=\"public_jobs_job-result-card_result-card_subtitle-click\" data-tracking-will-navigate=\"\" href=\"https://de.linkedin.com/company/atheneum-partners?trk=public_jobs_job-result-card_result-card_subtitle-click\">Atheneum</a>, <a class=\"result-card__full-card-link\" data-tracking-client-ingraph=\"\" data-tracking-control-name=\"public_jobs_job-result-card_result-card_full-click\" data-tracking-will-navigate=\"\" href=\"https://de.linkedin.com/jobs/view/senior-specialist-operations-research-at-bain-company-2444476619?refId=p2BiFnlyyAQl7Au9%2F0ld0Q%3D%3D&amp;trackingId=pVNmh38oiCmyId6E5TWIGA%3D%3D&amp;position=18&amp;pageNum=0&amp;trk=public_jobs_job-result-card_result-card_full-click\"><span class=\"screen-reader-text\">Senior Specialist, Operations Research</span></a>, <a class=\"result-card__subtitle-link job-result-card__subtitle-link\" data-tracking-client-ingraph=\"\" data-tracking-control-name=\"public_jobs_job-result-card_result-card_subtitle-click\" data-tracking-will-navigate=\"\" href=\"https://www.linkedin.com/company/bain-and-company?trk=public_jobs_job-result-card_result-card_subtitle-click\">Bain &amp; Company</a>, <a class=\"result-card__full-card-link\" data-tracking-client-ingraph=\"\" data-tracking-control-name=\"public_jobs_job-result-card_result-card_full-click\" data-tracking-will-navigate=\"\" href=\"https://de.linkedin.com/jobs/view/strategic-account-analyst-amazon-and-omnichannel-at-puma-group-2503713874?refId=p2BiFnlyyAQl7Au9%2F0ld0Q%3D%3D&amp;trackingId=ZUyoFLdDBZ8z4UaMNPYPEg%3D%3D&amp;position=19&amp;pageNum=0&amp;trk=public_jobs_job-result-card_result-card_full-click\"><span class=\"screen-reader-text\">Strategic Account Analyst Amazon and Omnichannel</span></a>, <a class=\"result-card__subtitle-link job-result-card__subtitle-link\" data-tracking-client-ingraph=\"\" data-tracking-control-name=\"public_jobs_job-result-card_result-card_subtitle-click\" data-tracking-will-navigate=\"\" href=\"https://de.linkedin.com/company/puma?trk=public_jobs_job-result-card_result-card_subtitle-click\">PUMA Group</a>, <a class=\"result-card__full-card-link\" data-tracking-client-ingraph=\"\" data-tracking-control-name=\"public_jobs_job-result-card_result-card_full-click\" data-tracking-will-navigate=\"\" href=\"https://de.linkedin.com/jobs/view/data-analyst-m-f-div-at-solarisbank-ag-at-solarisbank-ag-2533090646?refId=p2BiFnlyyAQl7Au9%2F0ld0Q%3D%3D&amp;trackingId=ypYspw1ugfJTmT6YChe0Kg%3D%3D&amp;position=20&amp;pageNum=0&amp;trk=public_jobs_job-result-card_result-card_full-click\"><span class=\"screen-reader-text\">Data Analyst (m/f/div) at Solarisbank AG</span></a>, <a class=\"result-card__subtitle-link job-result-card__subtitle-link\" data-tracking-client-ingraph=\"\" data-tracking-control-name=\"public_jobs_job-result-card_result-card_subtitle-click\" data-tracking-will-navigate=\"\" href=\"https://de.linkedin.com/company/solarisbank?trk=public_jobs_job-result-card_result-card_subtitle-click\">Solarisbank AG</a>, <a class=\"result-card__full-card-link\" data-tracking-client-ingraph=\"\" data-tracking-control-name=\"public_jobs_job-result-card_result-card_full-click\" data-tracking-will-navigate=\"\" href=\"https://de.linkedin.com/jobs/view/senior-data-analyst-m-f-d-at-axel-springer-se-2409407507?refId=p2BiFnlyyAQl7Au9%2F0ld0Q%3D%3D&amp;trackingId=01bUkW23F5hDMEKe3ZMvTA%3D%3D&amp;position=21&amp;pageNum=0&amp;trk=public_jobs_job-result-card_result-card_full-click\"><span class=\"screen-reader-text\">(Senior) Data Analyst (m/f/d)</span></a>, <a class=\"result-card__subtitle-link job-result-card__subtitle-link\" data-tracking-client-ingraph=\"\" data-tracking-control-name=\"public_jobs_job-result-card_result-card_subtitle-click\" data-tracking-will-navigate=\"\" href=\"https://de.linkedin.com/company/axelspringer?trk=public_jobs_job-result-card_result-card_subtitle-click\">Axel Springer SE</a>, <a class=\"result-card__full-card-link\" data-tracking-client-ingraph=\"\" data-tracking-control-name=\"public_jobs_job-result-card_result-card_full-click\" data-tracking-will-navigate=\"\" href=\"https://de.linkedin.com/jobs/view/lead-analyst-care-analytics-germany-remote-at-vistaprint-2472776622?refId=p2BiFnlyyAQl7Au9%2F0ld0Q%3D%3D&amp;trackingId=fl7EVOkqJEq%2FqbPkwps4Gw%3D%3D&amp;position=22&amp;pageNum=0&amp;trk=public_jobs_job-result-card_result-card_full-click\"><span class=\"screen-reader-text\">Lead Analyst, Care Analytics- Germany Remote</span></a>, <a class=\"result-card__subtitle-link job-result-card__subtitle-link\" data-tracking-client-ingraph=\"\" data-tracking-control-name=\"public_jobs_job-result-card_result-card_subtitle-click\" data-tracking-will-navigate=\"\" href=\"https://www.linkedin.com/company/vistaprint?trk=public_jobs_job-result-card_result-card_subtitle-click\">Vistaprint</a>, <a class=\"result-card__full-card-link\" data-tracking-client-ingraph=\"\" data-tracking-control-name=\"public_jobs_job-result-card_result-card_full-click\" data-tracking-will-navigate=\"\" href=\"https://de.linkedin.com/jobs/view/data-analyst-at-orange-quarter-2536305946?refId=p2BiFnlyyAQl7Au9%2F0ld0Q%3D%3D&amp;trackingId=bQjWYHT%2FgYeaHNia8ncZCA%3D%3D&amp;position=23&amp;pageNum=0&amp;trk=public_jobs_job-result-card_result-card_full-click\"><span class=\"screen-reader-text\">Data Analyst</span></a>, <a class=\"result-card__subtitle-link job-result-card__subtitle-link\" data-tracking-client-ingraph=\"\" data-tracking-control-name=\"public_jobs_job-result-card_result-card_subtitle-click\" data-tracking-will-navigate=\"\" href=\"https://nl.linkedin.com/company/orange-quarter?trk=public_jobs_job-result-card_result-card_subtitle-click\">Orange Quarter</a>, <a class=\"result-card__full-card-link\" data-tracking-client-ingraph=\"\" data-tracking-control-name=\"public_jobs_job-result-card_result-card_full-click\" data-tracking-will-navigate=\"\" href=\"https://de.linkedin.com/jobs/view/data-analyst-m-f-x-at-aroundhome-2506192921?refId=p2BiFnlyyAQl7Au9%2F0ld0Q%3D%3D&amp;trackingId=eDmZCwbjPG6bmHIr4wJ28w%3D%3D&amp;position=24&amp;pageNum=0&amp;trk=public_jobs_job-result-card_result-card_full-click\"><span class=\"screen-reader-text\">Data Analyst (m/f/x)</span></a>, <a class=\"result-card__subtitle-link job-result-card__subtitle-link\" data-tracking-client-ingraph=\"\" data-tracking-control-name=\"public_jobs_job-result-card_result-card_subtitle-click\" data-tracking-will-navigate=\"\" href=\"https://de.linkedin.com/company/aroundhome?trk=public_jobs_job-result-card_result-card_subtitle-click\">Aroundhome</a>, <a class=\"result-card__full-card-link\" data-tracking-client-ingraph=\"\" data-tracking-control-name=\"public_jobs_job-result-card_result-card_full-click\" data-tracking-will-navigate=\"\" href=\"https://de.linkedin.com/jobs/view/senior-data-analyst-people-analytics-f-m-d-at-delivery-hero-se-2448462877?refId=p2BiFnlyyAQl7Au9%2F0ld0Q%3D%3D&amp;trackingId=TeZW6lwnelLXmNH8aF1mfA%3D%3D&amp;position=25&amp;pageNum=0&amp;trk=public_jobs_job-result-card_result-card_full-click\"><span class=\"screen-reader-text\">Senior Data Analyst, People Analytics (f/m/d)</span></a>, <a class=\"result-card__subtitle-link job-result-card__subtitle-link\" data-tracking-client-ingraph=\"\" data-tracking-control-name=\"public_jobs_job-result-card_result-card_subtitle-click\" data-tracking-will-navigate=\"\" href=\"https://de.linkedin.com/company/delivery-hero-se?trk=public_jobs_job-result-card_result-card_subtitle-click\">Delivery Hero</a>, <a class=\"create-alert-form__agreement-item-link\" data-tracking-control-name=\"public_jobs_create-alert-modal_create-alert-form_user-agreement\" data-tracking-will-navigate=\"\" href=\"https://www.linkedin.com/legal/user-agreement?trk=public_jobs_create-alert-modal_create-alert-form_user-agreement\" rel=\"noopener\" target=\"_blank\">User Agreement</a>, <a class=\"create-alert-form__agreement-item-link\" data-tracking-control-name=\"public_jobs_create-alert-modal_create-alert-form_privacy-policy\" data-tracking-will-navigate=\"\" href=\"https://www.linkedin.com/legal/privacy-policy?trk=public_jobs_create-alert-modal_create-alert-form_privacy-policy\" rel=\"noopener\" target=\"_blank\">Privacy Policy</a>, <a class=\"create-alert-error-message__sign-in-link hidden\" data-tracking-control-name=\"public_jobs_create-alert-modal_create-alert-form_over-limit-sign-in-link\" data-tracking-will-navigate=\"\" href=\"https://www.linkedin.com/login?emailAddress=&amp;fromSignIn=true&amp;session_redirect=https%3A%2F%2Fwww.linkedin.com%2Fjobs%2Fsearch%2F%3Ff_E%3D1%252C2%252C3%26f_F%3Dbd%252Canls%252Ccnsl%252Cit%252Cprdm%26f_JT%3DF%26f_PP%3D106967730%26geoId%3D101282230%26keywords%3Dbusiness%2520analytics%26location%3DGermany%26html.parser&amp;trk=public_jobs_create-alert-modal_create-alert-form_over-limit-sign-in-link\">Sign in to create more</a>, <a class=\"sign-in-form__forgot-password create-alert-sign-in-form__forgot-password\" data-tracking-control-name=\"public_jobs_create-alert-modal_forgot_password\" data-tracking-will-navigate=\"\" href=\"https://www.linkedin.com/uas/request-password-reset?trk=public_jobs_create-alert-modal_forgot_password\">Forgot password?</a>, <a class=\"cta-modal__primary-btn\" data-tracking-control-name=\"conversion-modal-signin\" data-tracking-will-navigate=\"\" href=\"https://www.linkedin.com/login?emailAddress=&amp;fromSignIn=true&amp;session_redirect=https%3A%2F%2Fwww.linkedin.com%2Fjobs%2Fsearch%2F%3Ff_E%3D1%252C2%252C3%26f_F%3Dbd%252Canls%252Ccnsl%252Cit%252Cprdm%26f_JT%3DF%26f_PP%3D106967730%26geoId%3D101282230%26keywords%3Dbusiness%2520analytics%26location%3DGermany%26html.parser&amp;trk=public_jobs_conversion-modal-signin\">Sign in</a>, <a class=\"cta-modal__secondary-btn\" data-tracking-control-name=\"conversion-modal-join\" data-tracking-will-navigate=\"\" href=\"https://www.linkedin.com/signup/cold-join?source=jobs_registration&amp;session_redirect=https%3A%2F%2Fwww.linkedin.com%2Fjobs%2Fsearch%2F%3Ff_E%3D1%252C2%252C3%26f_F%3Dbd%252Canls%252Ccnsl%252Cit%252Cprdm%26f_JT%3DF%26f_PP%3D106967730%26geoId%3D101282230%26keywords%3Dbusiness%2520analytics%26location%3DGermany%26html.parser&amp;trk=public_jobs_conversion-modal-join\">Join now</a>, <a class=\"li-footer__item-link\" data-tracking-control-name=\"public_jobs_footer-about\" data-tracking-will-navigate=\"\" href=\"https://about.linkedin.com?trk=public_jobs_footer-about\">About</a>, <a class=\"li-footer__item-link\" data-tracking-control-name=\"public_jobs_footer-accessibility\" data-tracking-will-navigate=\"\" href=\"https://www.linkedin.com/accessibility?trk=public_jobs_footer-accessibility\">Accessibility</a>, <a class=\"li-footer__item-link\" data-tracking-control-name=\"public_jobs_footer-user-agreement\" data-tracking-will-navigate=\"\" href=\"https://www.linkedin.com/legal/user-agreement?trk=public_jobs_footer-user-agreement\">User Agreement</a>, <a class=\"li-footer__item-link\" data-tracking-control-name=\"public_jobs_footer-privacy-policy\" data-tracking-will-navigate=\"\" href=\"https://www.linkedin.com/legal/privacy-policy?trk=public_jobs_footer-privacy-policy\">Privacy Policy</a>, <a class=\"li-footer__item-link\" data-tracking-control-name=\"public_jobs_footer-cookie-policy\" data-tracking-will-navigate=\"\" href=\"https://www.linkedin.com/legal/cookie-policy?trk=public_jobs_footer-cookie-policy\">Cookie Policy</a>, <a class=\"li-footer__item-link\" data-tracking-control-name=\"public_jobs_footer-copyright-policy\" data-tracking-will-navigate=\"\" href=\"https://www.linkedin.com/legal/copyright-policy?trk=public_jobs_footer-copyright-policy\">Copyright Policy</a>, <a class=\"li-footer__item-link\" data-tracking-control-name=\"public_jobs_footer-brand-policy\" data-tracking-will-navigate=\"\" href=\"https://brand.linkedin.com/policies?trk=public_jobs_footer-brand-policy\">Brand Policy</a>, <a class=\"li-footer__item-link\" data-tracking-control-name=\"public_jobs_footer-guest-controls\" data-tracking-will-navigate=\"\" href=\"https://www.linkedin.com/psettings/guest-controls?trk=public_jobs_footer-guest-controls\">Guest Controls</a>, <a class=\"li-footer__item-link\" data-tracking-control-name=\"public_jobs_footer-community-guide\" data-tracking-will-navigate=\"\" href=\"https://www.linkedin.com/legal/professional-community-policies?trk=public_jobs_footer-community-guide\">Community Guidelines</a>]\n"
     ]
    }
   ],
   "source": [
    "print(soup.find_all(\"a\"))\n",
    "#Outputs all <h1>...</h1> on the website"
   ]
  },
  {
   "cell_type": "markdown",
   "metadata": {},
   "source": [
    "### find_all()  with regex"
   ]
  },
  {
   "cell_type": "code",
   "execution_count": null,
   "metadata": {},
   "outputs": [],
   "source": [
    "import re\n",
    "soup.find_all(re.compile(\"[ou]l\"))\n",
    "# Outputs all <ul>...</ul> and <ol>...</ol>\n",
    "soup.find_all(re.compile(\"h[1-9]\"))\n",
    "# Outputs all headings"
   ]
  },
  {
   "cell_type": "markdown",
   "metadata": {},
   "source": [
    "### find_all() with lists"
   ]
  },
  {
   "cell_type": "code",
   "execution_count": null,
   "metadata": {},
   "outputs": [],
   "source": [
    "find_all() with lists\n",
    "soup.find_all(['h1', 'a', 'p'])"
   ]
  },
  {
   "cell_type": "markdown",
   "metadata": {},
   "source": [
    "###  find_all() with attributes"
   ]
  },
  {
   "cell_type": "code",
   "execution_count": 29,
   "metadata": {
    "ExecuteTime": {
     "end_time": "2021-05-10T07:03:46.586697Z",
     "start_time": "2021-05-10T07:03:46.571767Z"
    }
   },
   "outputs": [
    {
     "data": {
      "text/plain": [
       "[]"
      ]
     },
     "execution_count": 29,
     "metadata": {},
     "output_type": "execute_result"
    }
   ],
   "source": [
    "soup.find_all(attrs={'class':'div', 'h3':'result-card__title job-result-card__title'})"
   ]
  },
  {
   "cell_type": "code",
   "execution_count": 28,
   "metadata": {
    "ExecuteTime": {
     "end_time": "2021-05-10T07:03:11.111616Z",
     "start_time": "2021-05-10T07:03:11.102614Z"
    },
    "scrolled": true
   },
   "outputs": [
    {
     "data": {
      "text/plain": [
       "[<h3 class=\"result-card__title job-result-card__title\">Business Analytics Lead (Enablement) (m/f/d)</h3>,\n",
       " <h3 class=\"result-card__title job-result-card__title\">Analytics Engineer</h3>,\n",
       " <h3 class=\"result-card__title job-result-card__title\">Graduate Analyst</h3>,\n",
       " <h3 class=\"result-card__title job-result-card__title\">Business Analytics Lead (Enablement) (m/f/d)</h3>,\n",
       " <h3 class=\"result-card__title job-result-card__title\">Associate Data Analyst, Business Analytics</h3>,\n",
       " <h3 class=\"result-card__title job-result-card__title\">Analytics Team Lead (Core Product)</h3>,\n",
       " <h3 class=\"result-card__title job-result-card__title\">Business Intelligence Analyst</h3>,\n",
       " <h3 class=\"result-card__title job-result-card__title\">Regional Business Intelligence and Visualization Lead (m/f/d) - EMEA</h3>,\n",
       " <h3 class=\"result-card__title job-result-card__title\">Growth Analyst, EMEA (f/m/x)</h3>,\n",
       " <h3 class=\"result-card__title job-result-card__title\">Data Analyst (m/f/x) - Berlin</h3>,\n",
       " <h3 class=\"result-card__title job-result-card__title\">Teamlead Business Analytics (m/w/d)</h3>,\n",
       " <h3 class=\"result-card__title job-result-card__title\">App Reporting, Tracking &amp; Analytics Specialist (m/f/x)</h3>,\n",
       " <h3 class=\"result-card__title job-result-card__title\">Analyst (Analytics Operations) – Supply Strategy and Optimisation (Bangkok based, relocation provided)</h3>,\n",
       " <h3 class=\"result-card__title job-result-card__title\">Data Scientist (f/m/d) Finance</h3>,\n",
       " <h3 class=\"result-card__title job-result-card__title\">Data Analyst (w/m/d)</h3>,\n",
       " <h3 class=\"result-card__title job-result-card__title\">Business Analyst France (m/f/d)</h3>,\n",
       " <h3 class=\"result-card__title job-result-card__title\">Business Analyst</h3>,\n",
       " <h3 class=\"result-card__title job-result-card__title\">Senior Specialist, Operations Research</h3>,\n",
       " <h3 class=\"result-card__title job-result-card__title\">Strategic Account Analyst Amazon and Omnichannel</h3>,\n",
       " <h3 class=\"result-card__title job-result-card__title\">Data Analyst (m/f/div) at Solarisbank AG</h3>,\n",
       " <h3 class=\"result-card__title job-result-card__title\">(Senior) Data Analyst (m/f/d)</h3>,\n",
       " <h3 class=\"result-card__title job-result-card__title\">Lead Analyst, Care Analytics- Germany Remote</h3>,\n",
       " <h3 class=\"result-card__title job-result-card__title\">Data Analyst</h3>,\n",
       " <h3 class=\"result-card__title job-result-card__title\">Data Analyst (m/f/x)</h3>,\n",
       " <h3 class=\"result-card__title job-result-card__title\">Senior Data Analyst, People Analytics (f/m/d)</h3>,\n",
       " <h3 class=\"welcome-back-sign-in-form__header\">Welcome back</h3>,\n",
       " <h3 class=\"cta-modal__subheader\" id=\"cta-modal-subheader\">Sign in for the full experience</h3>]"
      ]
     },
     "execution_count": 28,
     "metadata": {},
     "output_type": "execute_result"
    }
   ],
   "source": [
    "#get the job title\n",
    "soup.find_all('h3')"
   ]
  },
  {
   "cell_type": "code",
   "execution_count": null,
   "metadata": {},
   "outputs": [],
   "source": [
    "soup.find_all(attrs={'class':'h3', 'id':'jumbotron'})"
   ]
  },
  {
   "cell_type": "code",
   "execution_count": null,
   "metadata": {},
   "outputs": [],
   "source": [
    "<div class=\"result-card__contents job-result-card__contents\"><h3 class=\"result-card__title job-result-card__title\">Business Analytics Lead (Enablement) (m/f/d)</h3><h4 class=\"result-card__subtitle job-result-card__subtitle\"><a class=\"result-card__subtitle-link job-result-card__subtitle-link\" href=\"https://de.linkedin.com/company/free-now?trk=public_jobs_job-result-card_result-card_subtitle-click\" data-tracking-control-name=\"public_jobs_job-result-card_result-card_subtitle-click\" data-tracking-client-ingraph=\"\" data-tracking-will-navigate=\"\">FREE NOW</a></h4><div class=\"result-card__meta job-result-card__meta\"><span class=\"job-result-card__location\">Berlin, Berlin, Germany</span><div class=\"job-result-card__benefits\"><div class=\"result-benefits\"><icon class=\"result-benefits__icon lazy-loaded\" aria-hidden=\"true\"><svg xmlns=\"http://www.w3.org/2000/svg\" width=\"24\" height=\"24\" viewBox=\"0 0 24 24\" fill=\"none\" focusable=\"false\" class=\"lazy-loaded\">\n",
    "<path d=\"M14.7 10H17L11.5 18L8 14.5L9.3 13.2L11.2 15.1L14.7 10ZM20 3V19C20 20.7 18.7 22 17 22H7C5.3 22 4 20.7 4 19V3H9.7L10.2 2C10.6 1.4 11.2 1 12 1C12.7 1 13.4 1.4 13.8 2L14.3 3H20ZM18 5H15.4L16 6.1V7H8V6.1L8.6 5H6V19C6 19.6 6.4 20 7 20H17C17.6 20 18 19.6 18 19V5Z\" fill=\"currentColor\"></path>\n",
    "</svg></icon><span class=\"result-benefits__text\">Be an early applicant</span></div></div><time class=\"job-result-card__listdate\" datetime=\"2021-04-16\">3 weeks ago</time></div></div>"
   ]
  },
  {
   "cell_type": "markdown",
   "metadata": {},
   "source": [
    "### find_all() with functions"
   ]
  },
  {
   "cell_type": "code",
   "execution_count": null,
   "metadata": {},
   "outputs": [],
   "source": [
    "def has_banner_class_and_hello_world(tag):\n",
    "    return tag.attr('class') == \"banner\" and tag.string == \"Hello world\"\n",
    "\n",
    "soup.find_all(has_banner_class_and_hello_world)"
   ]
  },
  {
   "cell_type": "markdown",
   "metadata": {},
   "source": [
    "### Miscellaneous"
   ]
  },
  {
   "cell_type": "code",
   "execution_count": 12,
   "metadata": {
    "ExecuteTime": {
     "end_time": "2021-05-10T06:56:36.387638Z",
     "start_time": "2021-05-10T06:56:36.369688Z"
    }
   },
   "outputs": [
    {
     "name": "stdout",
     "output_type": "stream",
     "text": [
      "<div aria-live=\"assertive\" class=\"global-alert-banner\" id=\"artdeco-global-alert-container\" role=\"alert\"><div alert-id=\"urn:li:alert:10\" aria-hidden=\"true\" class=\"artdeco-global-alert artdeco-global-alert--NOTICE artdeco-global-alert--COOKIE_CONSENT\" severity=\"NOTICE\" type=\"COOKIE_CONSENT\"><section class=\"artdeco-global-alert__body\"><li-icon class=\"artdeco-global-alert__icon\"><span><svg height=\"24\" version=\"1.1\" width=\"24\" xmlns=\"http://www.w3.org/2000/svg\" xmlns:xlink=\"http://www.w3.org/1999/xlink\"><path d=\"M12,2C6.5,2,2,6.5,2,12c0,5.5,4.5,10,10,10c5.5,0,10-4.5,10-10C22,6.5,17.5,2,12,2zM12,20.2c-4.5,0-8.2-3.7-8.2-8.2S7.5,3.8,12,3.8s8.2,3.7,8.2,8.2S16.5,20.2,12,20.2zM11,10h2v8h-2V10zM11,6h2v2h-2V6z\" fill=\"#fff\"></path></svg></span></li-icon><div class=\"artdeco-global-alert__responsive-container\"><div class=\"artdeco-global-alert__content\"><p>We and third parties such as our customers, partners, and service providers use cookies and similar technologies (\"cookies\") to provide and secure our Services, to understand and improve their performance, and to serve relevant ads (including job ads) on and off LinkedIn. For more information, see our <a href=\"https://www.linkedin.com/legal/cookie-policy\">Cookie Policy</a>.</p><p>Select <b>Accept cookies</b> to consent to this use or <b>Manage preferences</b> to make your cookie choices. You can change your cookie choices and withdraw your consent in your settings at any time.</p></div><div class=\"artdeco-global-alert-action__wrapper\"><button action-type=\"LINK\" class=\"artdeco-global-alert-action artdeco-button artdeco-button--inverse artdeco-button--2 artdeco-button--primary\" data-control-name=\"urn:li:control:ga-cookie.consent.manage.cookie.v3\" data-tracking-control-name=\"urn:li:control:ga-cookie.consent.manage.cookie.v3\">Manage preferences</button><button action-type=\"ACCEPT\" class=\"artdeco-global-alert-action artdeco-button artdeco-button--inverse artdeco-button--2 artdeco-button--primary\" data-control-name=\"urn:li:control:ga-cookie.consent.accept.v3\" data-tracking-control-name=\"urn:li:control:ga-cookie.consent.accept.v3\">Accept cookies</button></div></div></section></div><div alert-id=\"urn:li:alert:3\" aria-hidden=\"true\" class=\"artdeco-global-alert artdeco-global-alert--NOTICE artdeco-global-alert--COOKIE_USAGE\" severity=\"NOTICE\" type=\"COOKIE_USAGE\"><section class=\"artdeco-global-alert__body\"><li-icon class=\"artdeco-global-alert__icon\"><span><svg height=\"24\" version=\"1.1\" width=\"24\" xmlns=\"http://www.w3.org/2000/svg\" xmlns:xlink=\"http://www.w3.org/1999/xlink\"><path d=\"M12,2C6.5,2,2,6.5,2,12c0,5.5,4.5,10,10,10c5.5,0,10-4.5,10-10C22,6.5,17.5,2,12,2zM12,20.2c-4.5,0-8.2-3.7-8.2-8.2S7.5,3.8,12,3.8s8.2,3.7,8.2,8.2S16.5,20.2,12,20.2zM11,10h2v8h-2V10zM11,6h2v2h-2V6z\" fill=\"#fff\"></path></svg></span></li-icon><div class=\"artdeco-global-alert__responsive-container\"><div class=\"artdeco-global-alert__content\">This website uses cookies to improve service and provide tailored ads. By using this site, you agree to this use. See our <a href=\"https://www.linkedin.com/legal/cookie-policy\">Cookie Policy</a></div></div><button class=\"artdeco-global-alert__dismiss\"><li-icon class=\"artdeco-global-alert__icon artdeco-global-alert__icon--dismissed\"><span><svg height=\"16\" version=\"1.1\" width=\"16\" xmlns=\"http://www.w3.org/2000/svg\" xmlns:xlink=\"http://www.w3.org/1999/xlink\"><path d=\"M13,4.32L9.31,8,13,11.69,11.69,13,8,9.31,4.31,13,3,11.69,6.69,8,3,4.31,4.31,3,8,6.69,11.68,3Z\" fill=\"#fff\"></path></svg></span><span class=\"a11y-text\">dismiss</span></li-icon></button></section></div></div>\n"
     ]
    }
   ],
   "source": [
    "print(soup.div);\n",
    "# <div id=\"example\">An example div</div>\n",
    "# gets the first tag of that type on the page"
   ]
  },
  {
   "cell_type": "code",
   "execution_count": 13,
   "metadata": {
    "ExecuteTime": {
     "end_time": "2021-05-10T06:57:04.400440Z",
     "start_time": "2021-05-10T06:57:04.392439Z"
    }
   },
   "outputs": [
    {
     "name": "stdout",
     "output_type": "stream",
     "text": [
      "div\n"
     ]
    }
   ],
   "source": [
    "print(soup.div.name)"
   ]
  },
  {
   "cell_type": "code",
   "execution_count": 14,
   "metadata": {
    "ExecuteTime": {
     "end_time": "2021-05-10T06:57:12.157024Z",
     "start_time": "2021-05-10T06:57:12.142064Z"
    }
   },
   "outputs": [
    {
     "name": "stdout",
     "output_type": "stream",
     "text": [
      "{'id': 'artdeco-global-alert-container', 'class': ['global-alert-banner'], 'aria-live': 'assertive', 'role': 'alert'}\n"
     ]
    }
   ],
   "source": [
    "print(soup.div.attrs)\n",
    "# div\n",
    "# {'id': 'example'}"
   ]
  },
  {
   "cell_type": "code",
   "execution_count": 15,
   "metadata": {
    "ExecuteTime": {
     "end_time": "2021-05-10T06:57:24.644469Z",
     "start_time": "2021-05-10T06:57:24.633499Z"
    }
   },
   "outputs": [
    {
     "name": "stdout",
     "output_type": "stream",
     "text": [
      "None\n"
     ]
    }
   ],
   "source": [
    "#Navigable Strings: Piece of text inside of HTML Tags\n",
    "print(soup.div.string)"
   ]
  },
  {
   "cell_type": "markdown",
   "metadata": {},
   "source": [
    "# LinkedIn_Jobs_Scraper"
   ]
  },
  {
   "cell_type": "code",
   "execution_count": 36,
   "metadata": {
    "ExecuteTime": {
     "end_time": "2021-05-10T07:13:03.987330Z",
     "start_time": "2021-05-10T07:12:30.347289Z"
    }
   },
   "outputs": [
    {
     "name": "stderr",
     "output_type": "stream",
     "text": [
      "INFO:li:scraper:('Using strategy AnonymousStrategy',)\n",
      "INFO:li:scraper:('Starting new query', \"Query(query= options=QueryOptions(limit=27 locations=['Worldwide'] optimize=True))\")\n",
      "INFO:li:scraper:('[][Worldwide]', 'Opening https://www.linkedin.com/jobs/search?location=Worldwide')\n",
      "INFO:li:scraper:('[][Worldwide]', 'Waiting selector', '.results__container.results__container--two-pane')\n",
      "INFO:li:scraper:('[][Worldwide]', 'No jobs found, skip')\n",
      "INFO:li:scraper:('Starting new query', \"Query(query=Business Analytics options=QueryOptions(limit=5 locations=['Germany'] filters=QueryFilters(relevance=RelevanceFilters.RECENT time=TimeFilters.MONTH type=[<TypeFilters.FULL_TIME: 'F'>]) optimize=False))\")\n"
     ]
    },
    {
     "name": "stdout",
     "output_type": "stream",
     "text": [
      "[ON_END]\n"
     ]
    },
    {
     "name": "stderr",
     "output_type": "stream",
     "text": [
      "INFO:li:scraper:('[Business Analytics][Germany]', 'Opening https://www.linkedin.com/jobs/search?keywords=Business+Analytics&location=Germany&sortBy=DD&f_TP=1%2C2%2C3%2C4&f_JT=F')\n",
      "INFO:li:scraper:('[Business Analytics][Germany]', 'Waiting selector', '.results__container.results__container--two-pane')\n",
      "INFO:li:scraper:('[Business Analytics][Germany]', 'Starting pagination loop')\n",
      "INFO:li:scraper:('[Business Analytics][Germany]', 'Found 25 jobs')\n",
      "INFO:li:scraper:('[Business Analytics][Germany][1]', 'Processed')\n"
     ]
    },
    {
     "name": "stdout",
     "output_type": "stream",
     "text": [
      "[ON_DATA] SAP Programm-Manager (all genders) Tata Consultancy Services 2021-05-10 https://de.linkedin.com/jobs/view/sap-programm-manager-all-genders-at-tata-consultancy-services-2277130430?refId=hs3n9Hj5sIg7pCyLTu%2BddA%3D%3D&trackingId=oReySRmDveasMCAsbUlMxQ%3D%3D&position=1&pageNum=0&trk=public_jobs_job-result-card_result-card_full-click 3095\n"
     ]
    },
    {
     "name": "stderr",
     "output_type": "stream",
     "text": [
      "INFO:li:scraper:('[Business Analytics][Germany][2]', 'Processed')\n"
     ]
    },
    {
     "name": "stdout",
     "output_type": "stream",
     "text": [
      "[ON_DATA] Business Development Manager (all genders) - Leader für Google Business Unit, Europa Tata Consultancy Services 2021-05-10 https://de.linkedin.com/jobs/view/business-development-manager-all-genders-leader-f%C3%BCr-google-business-unit-europa-at-tata-consultancy-services-2404886322?refId=hs3n9Hj5sIg7pCyLTu%2BddA%3D%3D&trackingId=z3yCTMHlSONVwxgNXiZsaQ%3D%3D&position=2&pageNum=0&trk=public_jobs_job-result-card_result-card_full-click 4140\n"
     ]
    },
    {
     "name": "stderr",
     "output_type": "stream",
     "text": [
      "INFO:li:scraper:('[Business Analytics][Germany][3]', 'Processed')\n"
     ]
    },
    {
     "name": "stdout",
     "output_type": "stream",
     "text": [
      "[ON_DATA] Leiter Competence Center Microsoft BI – Führungsaufgabe in nachhaltig wachsender mittelständischer IT-Managementberatung (m/w/d) IT-Personalberatung Dr. Dienst & Wenzel GmbH & Co. KG 2021-05-10 https://de.linkedin.com/jobs/view/leiter-competence-center-microsoft-bi-%E2%80%93-f%C3%BChrungsaufgabe-in-nachhaltig-wachsender-mittelst%C3%A4ndischer-it-managementberatung-m-w-d-at-it-personalberatung-dr-dienst-wenzel-gmbh-co-kg-2439318150?refId=hs3n9Hj5sIg7pCyLTu%2BddA%3D%3D&trackingId=U6hDaSrGYt7%2Fqc228v7eqw%3D%3D&position=3&pageNum=0&trk=public_jobs_job-result-card_result-card_full-click 8564\n"
     ]
    },
    {
     "name": "stderr",
     "output_type": "stream",
     "text": [
      "INFO:li:scraper:('[Business Analytics][Germany][4]', 'Processed')\n"
     ]
    },
    {
     "name": "stdout",
     "output_type": "stream",
     "text": [
      "[ON_DATA] Sustainable Finance Analyst Moody's Corporation 2021-05-10 https://de.linkedin.com/jobs/view/sustainable-finance-analyst-at-moody-s-corporation-2541603987?refId=hs3n9Hj5sIg7pCyLTu%2BddA%3D%3D&trackingId=fuVGARO%2BlcRb6S7ACaSYgQ%3D%3D&position=4&pageNum=0&trk=public_jobs_job-result-card_result-card_full-click 5034\n"
     ]
    },
    {
     "name": "stderr",
     "output_type": "stream",
     "text": [
      "INFO:li:scraper:('[Business Analytics][Germany][5]', 'Processed')\n"
     ]
    },
    {
     "name": "stdout",
     "output_type": "stream",
     "text": [
      "[ON_DATA] Digital Marketing Manager, Trilogy (Remote) - $60,000/year USD Crossover for Work 2021-05-10 https://de.linkedin.com/jobs/view/digital-marketing-manager-trilogy-remote-%2460-000-year-usd-at-crossover-for-work-2535298275?refId=hs3n9Hj5sIg7pCyLTu%2BddA%3D%3D&trackingId=DLzStd4NjX%2Bwg8AT5PXKUQ%3D%3D&position=5&pageNum=0&trk=public_jobs_job-result-card_result-card_full-click 5483\n",
      "[ON_END]\n"
     ]
    }
   ],
   "source": [
    "import logging\n",
    "from linkedin_jobs_scraper import LinkedinScraper\n",
    "from linkedin_jobs_scraper.events import Events, EventData\n",
    "from linkedin_jobs_scraper.query import Query, QueryOptions, QueryFilters\n",
    "from linkedin_jobs_scraper.filters import RelevanceFilters, TimeFilters, TypeFilters, ExperienceLevelFilters, RemoteFilters\n",
    "\n",
    "# Change root logger level (default is WARN)\n",
    "logging.basicConfig(level = logging.INFO)\n",
    "\n",
    "\n",
    "def on_data(data: EventData):\n",
    "    print('[ON_DATA]', data.title, data.company, data.date, data.link, len(data.description))\n",
    "\n",
    "\n",
    "def on_error(error):\n",
    "    print('[ON_ERROR]', error)\n",
    "\n",
    "\n",
    "def on_end():\n",
    "    print('[ON_END]')\n",
    "\n",
    "\n",
    "scraper = LinkedinScraper(\n",
    "    chrome_executable_path=r'C:\\Users\\luc57.DESKTOP-NB5DC80\\Downloads\\chromedriver_win32\\chromedriver.exe', # Custom Chrome executable path (e.g. /foo/bar/bin/chromedriver) \n",
    "    chrome_options=None,  # Custom Chrome options here\n",
    "    headless=True,  # Overrides headless mode only if chrome_options is None\n",
    "    max_workers=1,  # How many threads will be spawned to run queries concurrently (one Chrome driver for each thread)\n",
    "    slow_mo=1.3,  # Slow down the scraper to avoid 'Too many requests (429)' errors\n",
    ")\n",
    "\n",
    "# Add event listeners\n",
    "scraper.on(Events.DATA, on_data)\n",
    "scraper.on(Events.ERROR, on_error)\n",
    "scraper.on(Events.END, on_end)\n",
    "\n",
    "queries = [\n",
    "    Query(\n",
    "        options=QueryOptions(\n",
    "            optimize=True,  # Blocks requests for resources like images and stylesheet\n",
    "            limit=27  # Limit the number of jobs to scrape\n",
    "        )\n",
    "    ),\n",
    "    Query(\n",
    "        query='Business Analytics',\n",
    "        options=QueryOptions(\n",
    "            locations=['Germany'],\n",
    "            optimize=False,\n",
    "            limit=5,\n",
    "            filters=QueryFilters(\n",
    "                relevance=RelevanceFilters.RECENT,\n",
    "                time=TimeFilters.MONTH,\n",
    "                type=[TypeFilters.FULL_TIME],\n",
    "                experience=None,                \n",
    "            )\n",
    "        )\n",
    "    ),\n",
    "]\n",
    "\n",
    "scraper.run(queries)"
   ]
  },
  {
   "cell_type": "code",
   "execution_count": 38,
   "metadata": {
    "ExecuteTime": {
     "end_time": "2021-05-10T07:13:49.403889Z",
     "start_time": "2021-05-10T07:13:49.397905Z"
    }
   },
   "outputs": [
    {
     "data": {
      "text/plain": [
       "[<linkedin_jobs_scraper.query.query.Query at 0x1fe5c18e760>,\n",
       " <linkedin_jobs_scraper.query.query.Query at 0x1fe5c18e790>]"
      ]
     },
     "execution_count": 38,
     "metadata": {},
     "output_type": "execute_result"
    }
   ],
   "source": [
    "queries"
   ]
  },
  {
   "cell_type": "code",
   "execution_count": 42,
   "metadata": {
    "ExecuteTime": {
     "end_time": "2021-05-10T07:16:03.698624Z",
     "start_time": "2021-05-10T07:16:03.691622Z"
    }
   },
   "outputs": [
    {
     "data": {
      "text/plain": [
       "<linkedin_jobs_scraper.query.query.Query at 0x1fe5c18e760>"
      ]
     },
     "execution_count": 42,
     "metadata": {},
     "output_type": "execute_result"
    }
   ],
   "source": [
    "queries[q]"
   ]
  },
  {
   "cell_type": "markdown",
   "metadata": {},
   "source": [
    "# LinkedIn Jobs Pyscraper"
   ]
  },
  {
   "cell_type": "code",
   "execution_count": 45,
   "metadata": {
    "ExecuteTime": {
     "end_time": "2021-05-10T07:19:43.117204Z",
     "start_time": "2021-05-10T07:19:40.104526Z"
    }
   },
   "outputs": [
    {
     "name": "stdout",
     "output_type": "stream",
     "text": [
      "Collecting linkedin-jobs-pyscraper\n",
      "  Using cached linkedin_jobs_pyscraper-1.0.0-py3-none-any.whl\n",
      "Collecting pydantic\n",
      "  Using cached pydantic-1.8.1-cp38-cp38-win_amd64.whl (2.0 MB)\n",
      "Requirement already satisfied: urllib3 in c:\\users\\luc57.desktop-nb5dc80\\appdata\\roaming\\python\\python38\\site-packages (from linkedin-jobs-pyscraper) (1.26.4)\n",
      "Requirement already satisfied: certifi in c:\\users\\luc57.desktop-nb5dc80\\appdata\\roaming\\python\\python38\\site-packages (from linkedin-jobs-pyscraper) (2020.12.5)\n",
      "Requirement already satisfied: requests in c:\\users\\luc57.desktop-nb5dc80\\appdata\\roaming\\python\\python38\\site-packages (from linkedin-jobs-pyscraper) (2.25.1)\n",
      "Requirement already satisfied: beautifulsoup4 in c:\\programdata\\anaconda3\\lib\\site-packages (from linkedin-jobs-pyscraper) (4.9.1)\n",
      "Collecting bs4\n",
      "  Using cached bs4-0.0.1-py3-none-any.whl\n",
      "Requirement already satisfied: python-dateutil in c:\\users\\luc57.desktop-nb5dc80\\appdata\\roaming\\python\\python38\\site-packages (from linkedin-jobs-pyscraper) (2.8.1)\n",
      "Requirement already satisfied: pandas in c:\\users\\luc57.desktop-nb5dc80\\appdata\\roaming\\python\\python38\\site-packages (from linkedin-jobs-pyscraper) (1.1.4)\n",
      "Requirement already satisfied: soupsieve>1.2 in c:\\programdata\\anaconda3\\lib\\site-packages (from beautifulsoup4->linkedin-jobs-pyscraper) (2.0.1)\n",
      "Requirement already satisfied: pytz>=2017.2 in c:\\users\\luc57.desktop-nb5dc80\\appdata\\roaming\\python\\python38\\site-packages (from pandas->linkedin-jobs-pyscraper) (2021.1)\n",
      "Requirement already satisfied: numpy>=1.15.4 in c:\\users\\luc57.desktop-nb5dc80\\appdata\\roaming\\python\\python38\\site-packages (from pandas->linkedin-jobs-pyscraper) (1.20.2)\n",
      "Requirement already satisfied: six>=1.5 in c:\\users\\luc57.desktop-nb5dc80\\appdata\\roaming\\python\\python38\\site-packages (from python-dateutil->linkedin-jobs-pyscraper) (1.16.0)\n",
      "Collecting typing-extensions>=3.7.4.3\n",
      "  Using cached typing_extensions-3.10.0.0-py3-none-any.whl (26 kB)\n",
      "Requirement already satisfied: idna<3,>=2.5 in c:\\users\\luc57.desktop-nb5dc80\\appdata\\roaming\\python\\python38\\site-packages (from requests->linkedin-jobs-pyscraper) (2.10)\n",
      "Requirement already satisfied: chardet<5,>=3.0.2 in c:\\users\\luc57.desktop-nb5dc80\\appdata\\roaming\\python\\python38\\site-packages (from requests->linkedin-jobs-pyscraper) (4.0.0)\n",
      "Installing collected packages: typing-extensions, pydantic, bs4, linkedin-jobs-pyscraper\n",
      "Successfully installed bs4-0.0.1 linkedin-jobs-pyscraper-1.0.0 pydantic-1.8.1 typing-extensions-3.10.0.0\n",
      "Note: you may need to restart the kernel to use updated packages.\n"
     ]
    },
    {
     "name": "stderr",
     "output_type": "stream",
     "text": [
      "WARNING: Ignoring invalid distribution -andas (c:\\programdata\\anaconda3\\lib\\site-packages)\n",
      "WARNING: Ignoring invalid distribution -andas (c:\\programdata\\anaconda3\\lib\\site-packages)\n",
      "WARNING: Ignoring invalid distribution -andas (c:\\programdata\\anaconda3\\lib\\site-packages)\n",
      "WARNING: Ignoring invalid distribution -andas (c:\\programdata\\anaconda3\\lib\\site-packages)\n"
     ]
    }
   ],
   "source": [
    "pip install linkedin-jobs-pyscraper --user"
   ]
  },
  {
   "cell_type": "code",
   "execution_count": 56,
   "metadata": {
    "ExecuteTime": {
     "end_time": "2021-05-10T07:25:46.332749Z",
     "start_time": "2021-05-10T07:25:46.327727Z"
    }
   },
   "outputs": [],
   "source": [
    "import pandas as pd\n",
    "from datetime import date"
   ]
  },
  {
   "cell_type": "code",
   "execution_count": 57,
   "metadata": {
    "ExecuteTime": {
     "end_time": "2021-05-10T07:25:46.691581Z",
     "start_time": "2021-05-10T07:25:46.676622Z"
    }
   },
   "outputs": [
    {
     "data": {
      "text/plain": [
       "datetime.date(2021, 5, 10)"
      ]
     },
     "execution_count": 57,
     "metadata": {},
     "output_type": "execute_result"
    }
   ],
   "source": [
    "current_date = date.today()\n",
    "current_date"
   ]
  },
  {
   "cell_type": "code",
   "execution_count": 58,
   "metadata": {
    "ExecuteTime": {
     "end_time": "2021-05-10T07:26:33.341772Z",
     "start_time": "2021-05-10T07:26:33.318837Z"
    }
   },
   "outputs": [
    {
     "name": "stdout",
     "output_type": "stream",
     "text": [
      "Help on Searcher in module linkedin_jobs_pyscraper.models.search.searcher object:\n",
      "\n",
      "class Searcher(pydantic.main.BaseModel)\n",
      " |  Searcher(*, search_url: str = 'https://www.linkedin.com/jobs/search?keywords={}&location={}&trk=public_jobs_jobs-search-bar_search-submit&f_TP=1&redirect=false&position=1&pageNum={}', search_pages_per_search_term: int, search_terms: list, location: str = '', batch_size: int, output_filepath: str = 'out.csv', batch_num: int = 0, li_jobs_api: str = 'https://www.linkedin.com/jobs-guest/jobs/api/jobPosting/{}', job_ids: list = [], scraped_job_ids: list = [], scraped_jobs: list = []) -> None\n",
      " |  \n",
      " |  Search model for storing search configuration.\n",
      " |  Keyword arguments:\n",
      " |  search_pages_per_search_term -- Number of paginations to be processed per search term.\n",
      " |  search_terms -- list of search keywords to be searched.\n",
      " |  batch_size -- number of data points after which to checkpoint data to file\n",
      " |  output_filepath -- path to csv file on disk\n",
      " |  \n",
      " |  Method resolution order:\n",
      " |      Searcher\n",
      " |      pydantic.main.BaseModel\n",
      " |      pydantic.utils.Representation\n",
      " |      builtins.object\n",
      " |  \n",
      " |  Static methods defined here:\n",
      " |  \n",
      " |  __json_encoder__ = pydantic_encoder(obj: Any) -> Any\n",
      " |  \n",
      " |  ----------------------------------------------------------------------\n",
      " |  Data and other attributes defined here:\n",
      " |  \n",
      " |  __abstractmethods__ = frozenset()\n",
      " |  \n",
      " |  __annotations__ = {'batch_num': <class 'int'>, 'batch_size': <class 'i...\n",
      " |  \n",
      " |  __class_vars__ = set()\n",
      " |  \n",
      " |  __config__ = <class 'linkedin_jobs_pyscraper.models.search.searcher.Co...\n",
      " |  \n",
      " |  \n",
      " |  __custom_root_type__ = False\n",
      " |  \n",
      " |  __fields__ = {'batch_num': ModelField(name='batch_num', type=int, requ...\n",
      " |  \n",
      " |  __hash__ = None\n",
      " |  \n",
      " |  __post_root_validators__ = []\n",
      " |  \n",
      " |  __pre_root_validators__ = []\n",
      " |  \n",
      " |  __private_attributes__ = {}\n",
      " |  \n",
      " |  __schema_cache__ = {}\n",
      " |  \n",
      " |  __signature__ = <Signature (*, search_url: str = 'https://www.li...ids...\n",
      " |  \n",
      " |  __validators__ = {}\n",
      " |  \n",
      " |  ----------------------------------------------------------------------\n",
      " |  Methods inherited from pydantic.main.BaseModel:\n",
      " |  \n",
      " |  __eq__(self, other: Any) -> bool\n",
      " |  \n",
      " |  __getstate__(self) -> 'DictAny'\n",
      " |  \n",
      " |  __init__(__pydantic_self__, **data: Any) -> None\n",
      " |      Create a new model by parsing and validating input data from keyword arguments.\n",
      " |      \n",
      " |      Raises ValidationError if the input data cannot be parsed to form a valid model.\n",
      " |  \n",
      " |  __iter__(self) -> 'TupleGenerator'\n",
      " |      so `dict(model)` works\n",
      " |  \n",
      " |  __repr_args__(self) -> 'ReprArgs'\n",
      " |  \n",
      " |  __setattr__(self, name, value)\n",
      " |  \n",
      " |  __setstate__(self, state: 'DictAny') -> None\n",
      " |  \n",
      " |  copy(self: 'Model', *, include: Union[ForwardRef('AbstractSetIntStr'), ForwardRef('MappingIntStrAny')] = None, exclude: Union[ForwardRef('AbstractSetIntStr'), ForwardRef('MappingIntStrAny')] = None, update: 'DictStrAny' = None, deep: bool = False) -> 'Model'\n",
      " |      Duplicate a model, optionally choose which fields to include, exclude and change.\n",
      " |      \n",
      " |      :param include: fields to include in new model\n",
      " |      :param exclude: fields to exclude from new model, as with values this takes precedence over include\n",
      " |      :param update: values to change/add in the new model. Note: the data is not validated before creating\n",
      " |          the new model: you should trust this data\n",
      " |      :param deep: set to `True` to make a deep copy of the model\n",
      " |      :return: new model instance\n",
      " |  \n",
      " |  dict(self, *, include: Union[ForwardRef('AbstractSetIntStr'), ForwardRef('MappingIntStrAny')] = None, exclude: Union[ForwardRef('AbstractSetIntStr'), ForwardRef('MappingIntStrAny')] = None, by_alias: bool = False, skip_defaults: bool = None, exclude_unset: bool = False, exclude_defaults: bool = False, exclude_none: bool = False) -> 'DictStrAny'\n",
      " |      Generate a dictionary representation of the model, optionally specifying which fields to include or exclude.\n",
      " |  \n",
      " |  json(self, *, include: Union[ForwardRef('AbstractSetIntStr'), ForwardRef('MappingIntStrAny')] = None, exclude: Union[ForwardRef('AbstractSetIntStr'), ForwardRef('MappingIntStrAny')] = None, by_alias: bool = False, skip_defaults: bool = None, exclude_unset: bool = False, exclude_defaults: bool = False, exclude_none: bool = False, encoder: Union[Callable[[Any], Any], NoneType] = None, **dumps_kwargs: Any) -> 'unicode'\n",
      " |      Generate a JSON representation of the model, `include` and `exclude` arguments as per `dict()`.\n",
      " |      \n",
      " |      `encoder` is an optional function to supply as `default` to json.dumps(), other arguments as per `json.dumps()`.\n",
      " |  \n",
      " |  ----------------------------------------------------------------------\n",
      " |  Class methods inherited from pydantic.main.BaseModel:\n",
      " |  \n",
      " |  __get_validators__() -> 'CallableGenerator' from pydantic.main.ModelMetaclass\n",
      " |  \n",
      " |  construct(_fields_set: Union[ForwardRef('SetStr'), NoneType] = None, **values: Any) -> 'Model' from pydantic.main.ModelMetaclass\n",
      " |      Creates a new model setting __dict__ and __fields_set__ from trusted or pre-validated data.\n",
      " |      Default values are respected, but no other validation is performed.\n",
      " |      Behaves as if `Config.extra = 'allow'` was set since it adds all passed values\n",
      " |  \n",
      " |  from_orm(obj: Any) -> 'Model' from pydantic.main.ModelMetaclass\n",
      " |  \n",
      " |  parse_file(path: Union[str, pathlib.Path], *, content_type: 'unicode' = None, encoding: 'unicode' = 'utf8', proto: pydantic.parse.Protocol = None, allow_pickle: bool = False) -> 'Model' from pydantic.main.ModelMetaclass\n",
      " |  \n",
      " |  parse_obj(obj: Any) -> 'Model' from pydantic.main.ModelMetaclass\n",
      " |  \n",
      " |  parse_raw(b: Union[str, bytes], *, content_type: 'unicode' = None, encoding: 'unicode' = 'utf8', proto: pydantic.parse.Protocol = None, allow_pickle: bool = False) -> 'Model' from pydantic.main.ModelMetaclass\n",
      " |  \n",
      " |  schema(by_alias: bool = True, ref_template: 'unicode' = '#/definitions/{model}') -> 'DictStrAny' from pydantic.main.ModelMetaclass\n",
      " |  \n",
      " |  schema_json(*, by_alias: bool = True, ref_template: 'unicode' = '#/definitions/{model}', **dumps_kwargs: Any) -> 'unicode' from pydantic.main.ModelMetaclass\n",
      " |  \n",
      " |  update_forward_refs(**localns: Any) -> None from pydantic.main.ModelMetaclass\n",
      " |      Try to update ForwardRefs on fields based on this Model, globalns and localns.\n",
      " |  \n",
      " |  validate(value: Any) -> 'Model' from pydantic.main.ModelMetaclass\n",
      " |  \n",
      " |  ----------------------------------------------------------------------\n",
      " |  Data descriptors inherited from pydantic.main.BaseModel:\n",
      " |  \n",
      " |  __dict__\n",
      " |      dictionary for instance variables (if defined)\n",
      " |  \n",
      " |  __fields_set__\n",
      " |  \n",
      " |  ----------------------------------------------------------------------\n",
      " |  Data and other attributes inherited from pydantic.main.BaseModel:\n",
      " |  \n",
      " |  Config = <class 'pydantic.main.BaseConfig'>\n",
      " |  \n",
      " |  \n",
      " |  ----------------------------------------------------------------------\n",
      " |  Methods inherited from pydantic.utils.Representation:\n",
      " |  \n",
      " |  __pretty__(self, fmt: Callable[[Any], Any], **kwargs: Any) -> Generator[Any, NoneType, NoneType]\n",
      " |      Used by devtools (https://python-devtools.helpmanual.io/) to provide a human readable representations of objects\n",
      " |  \n",
      " |  __repr__(self) -> 'unicode'\n",
      " |  \n",
      " |  __repr_name__(self) -> 'unicode'\n",
      " |      Name of the instance's class, used in __repr__.\n",
      " |  \n",
      " |  __repr_str__(self, join_str: 'unicode') -> 'unicode'\n",
      " |  \n",
      " |  __str__(self) -> 'unicode'\n",
      "\n"
     ]
    }
   ],
   "source": [
    "help(searcher)"
   ]
  },
  {
   "cell_type": "code",
   "execution_count": 62,
   "metadata": {
    "ExecuteTime": {
     "end_time": "2021-05-10T07:34:06.479001Z",
     "start_time": "2021-05-10T07:28:34.998769Z"
    }
   },
   "outputs": [
    {
     "name": "stderr",
     "output_type": "stream",
     "text": [
      "INFO:linkedin_jobs_pyscraper.search.search_jobs:Running for search term: [0/4]\n",
      "INFO:linkedin_jobs_pyscraper.search.search_jobs:Searching jobs in page 1/10\n",
      "INFO:linkedin_jobs_pyscraper.search.search_jobs:Extracting Job Ids from the page\n",
      "INFO:linkedin_jobs_pyscraper.extract.extract_job_info:Extracting Job IDs...\n",
      "INFO:linkedin_jobs_pyscraper.search.search_jobs:Searching jobs in page 2/10\n",
      "INFO:linkedin_jobs_pyscraper.search.search_jobs:Extracting Job Ids from the page\n",
      "INFO:linkedin_jobs_pyscraper.extract.extract_job_info:Extracting Job IDs...\n",
      "INFO:linkedin_jobs_pyscraper.search.search_jobs:Searching jobs in page 3/10\n",
      "INFO:linkedin_jobs_pyscraper.search.search_jobs:Extracting Job Ids from the page\n",
      "INFO:linkedin_jobs_pyscraper.extract.extract_job_info:Extracting Job IDs...\n",
      "INFO:linkedin_jobs_pyscraper.search.search_jobs:Searching jobs in page 4/10\n",
      "INFO:linkedin_jobs_pyscraper.search.search_jobs:Extracting Job Ids from the page\n",
      "INFO:linkedin_jobs_pyscraper.extract.extract_job_info:Extracting Job IDs...\n",
      "INFO:linkedin_jobs_pyscraper.search.search_jobs:Searching jobs in page 5/10\n",
      "INFO:linkedin_jobs_pyscraper.search.search_jobs:Extracting Job Ids from the page\n",
      "INFO:linkedin_jobs_pyscraper.extract.extract_job_info:Extracting Job IDs...\n",
      "INFO:linkedin_jobs_pyscraper.search.search_jobs:Searching jobs in page 6/10\n",
      "INFO:linkedin_jobs_pyscraper.search.search_jobs:Extracting Job Ids from the page\n",
      "INFO:linkedin_jobs_pyscraper.extract.extract_job_info:Extracting Job IDs...\n",
      "INFO:linkedin_jobs_pyscraper.search.search_jobs:Searching jobs in page 7/10\n",
      "INFO:linkedin_jobs_pyscraper.search.search_jobs:Extracting Job Ids from the page\n",
      "INFO:linkedin_jobs_pyscraper.extract.extract_job_info:Extracting Job IDs...\n",
      "INFO:linkedin_jobs_pyscraper.search.search_jobs:Searching jobs in page 8/10\n",
      "INFO:linkedin_jobs_pyscraper.search.search_jobs:Extracting Job Ids from the page\n",
      "INFO:linkedin_jobs_pyscraper.extract.extract_job_info:Extracting Job IDs...\n",
      "INFO:linkedin_jobs_pyscraper.search.search_jobs:Searching jobs in page 9/10\n",
      "INFO:linkedin_jobs_pyscraper.search.search_jobs:Extracting Job Ids from the page\n",
      "INFO:linkedin_jobs_pyscraper.extract.extract_job_info:Extracting Job IDs...\n",
      "INFO:linkedin_jobs_pyscraper.search.search_jobs:Searching jobs in page 10/10\n",
      "INFO:linkedin_jobs_pyscraper.search.search_jobs:Extracting Job Ids from the page\n",
      "INFO:linkedin_jobs_pyscraper.extract.extract_job_info:Extracting Job IDs...\n",
      "INFO:linkedin_jobs_pyscraper.search.search_jobs:Fetching data for JOB[0/59]\n",
      "INFO:linkedin_jobs_pyscraper.search.search_jobs:Fetching data for JOB[1/59]\n",
      "INFO:linkedin_jobs_pyscraper.search.search_jobs:Fetching data for JOB[2/59]\n",
      "INFO:linkedin_jobs_pyscraper.search.search_jobs:Fetching data for JOB[3/59]\n",
      "INFO:linkedin_jobs_pyscraper.search.search_jobs:Fetching data for JOB[4/59]\n",
      "INFO:linkedin_jobs_pyscraper.search.search_jobs:Data dumped to file...\n",
      "INFO:linkedin_jobs_pyscraper.search.search_jobs:Fetching data for JOB[5/59]\n",
      "INFO:linkedin_jobs_pyscraper.search.search_jobs:Fetching data for JOB[6/59]\n",
      "INFO:linkedin_jobs_pyscraper.search.search_jobs:Fetching data for JOB[7/59]\n",
      "INFO:linkedin_jobs_pyscraper.search.search_jobs:Fetching data for JOB[8/59]\n",
      "INFO:linkedin_jobs_pyscraper.search.search_jobs:Fetching data for JOB[9/59]\n",
      "INFO:linkedin_jobs_pyscraper.search.search_jobs:Data dumped to file...\n",
      "INFO:linkedin_jobs_pyscraper.search.search_jobs:Fetching data for JOB[10/59]\n",
      "INFO:linkedin_jobs_pyscraper.search.search_jobs:Fetching data for JOB[11/59]\n",
      "INFO:linkedin_jobs_pyscraper.search.search_jobs:Fetching data for JOB[12/59]\n",
      "INFO:linkedin_jobs_pyscraper.search.search_jobs:Fetching data for JOB[13/59]\n",
      "INFO:linkedin_jobs_pyscraper.search.search_jobs:Fetching data for JOB[14/59]\n",
      "INFO:linkedin_jobs_pyscraper.search.search_jobs:Data dumped to file...\n",
      "INFO:linkedin_jobs_pyscraper.search.search_jobs:Fetching data for JOB[15/59]\n",
      "INFO:linkedin_jobs_pyscraper.search.search_jobs:Fetching data for JOB[16/59]\n",
      "INFO:linkedin_jobs_pyscraper.search.search_jobs:Fetching data for JOB[17/59]\n",
      "INFO:linkedin_jobs_pyscraper.search.search_jobs:Fetching data for JOB[18/59]\n",
      "INFO:linkedin_jobs_pyscraper.search.search_jobs:Fetching data for JOB[19/59]\n",
      "INFO:linkedin_jobs_pyscraper.search.search_jobs:Data dumped to file...\n",
      "INFO:linkedin_jobs_pyscraper.search.search_jobs:Fetching data for JOB[20/59]\n",
      "INFO:linkedin_jobs_pyscraper.search.search_jobs:Fetching data for JOB[21/59]\n",
      "INFO:linkedin_jobs_pyscraper.search.search_jobs:Fetching data for JOB[22/59]\n",
      "INFO:linkedin_jobs_pyscraper.search.search_jobs:Fetching data for JOB[23/59]\n",
      "INFO:linkedin_jobs_pyscraper.search.search_jobs:Fetching data for JOB[24/59]\n",
      "INFO:linkedin_jobs_pyscraper.search.search_jobs:Data dumped to file...\n",
      "INFO:linkedin_jobs_pyscraper.search.search_jobs:Fetching data for JOB[25/59]\n",
      "INFO:linkedin_jobs_pyscraper.search.search_jobs:Fetching data for JOB[26/59]\n",
      "INFO:linkedin_jobs_pyscraper.search.search_jobs:Fetching data for JOB[27/59]\n",
      "INFO:linkedin_jobs_pyscraper.search.search_jobs:Fetching data for JOB[28/59]\n",
      "INFO:linkedin_jobs_pyscraper.search.search_jobs:Fetching data for JOB[29/59]\n",
      "INFO:linkedin_jobs_pyscraper.search.search_jobs:Data dumped to file...\n",
      "INFO:linkedin_jobs_pyscraper.search.search_jobs:Fetching data for JOB[30/59]\n",
      "INFO:linkedin_jobs_pyscraper.search.search_jobs:Fetching data for JOB[31/59]\n",
      "INFO:linkedin_jobs_pyscraper.search.search_jobs:Fetching data for JOB[32/59]\n",
      "INFO:linkedin_jobs_pyscraper.search.search_jobs:Fetching data for JOB[33/59]\n",
      "INFO:linkedin_jobs_pyscraper.search.search_jobs:Fetching data for JOB[34/59]\n",
      "INFO:linkedin_jobs_pyscraper.search.search_jobs:Data dumped to file...\n",
      "INFO:linkedin_jobs_pyscraper.search.search_jobs:Fetching data for JOB[35/59]\n",
      "INFO:linkedin_jobs_pyscraper.search.search_jobs:Fetching data for JOB[36/59]\n",
      "INFO:linkedin_jobs_pyscraper.search.search_jobs:Fetching data for JOB[37/59]\n",
      "INFO:linkedin_jobs_pyscraper.search.search_jobs:Fetching data for JOB[38/59]\n",
      "INFO:linkedin_jobs_pyscraper.search.search_jobs:Fetching data for JOB[39/59]\n",
      "INFO:linkedin_jobs_pyscraper.search.search_jobs:Data dumped to file...\n",
      "INFO:linkedin_jobs_pyscraper.search.search_jobs:Fetching data for JOB[40/59]\n",
      "INFO:linkedin_jobs_pyscraper.search.search_jobs:Fetching data for JOB[41/59]\n",
      "INFO:linkedin_jobs_pyscraper.search.search_jobs:Fetching data for JOB[42/59]\n",
      "INFO:linkedin_jobs_pyscraper.search.search_jobs:Fetching data for JOB[43/59]\n",
      "INFO:linkedin_jobs_pyscraper.search.search_jobs:Fetching data for JOB[44/59]\n",
      "INFO:linkedin_jobs_pyscraper.search.search_jobs:Data dumped to file...\n",
      "INFO:linkedin_jobs_pyscraper.search.search_jobs:Fetching data for JOB[45/59]\n",
      "INFO:linkedin_jobs_pyscraper.search.search_jobs:Fetching data for JOB[46/59]\n",
      "INFO:linkedin_jobs_pyscraper.search.search_jobs:Fetching data for JOB[47/59]\n",
      "INFO:linkedin_jobs_pyscraper.search.search_jobs:Fetching data for JOB[48/59]\n",
      "INFO:linkedin_jobs_pyscraper.search.search_jobs:Fetching data for JOB[49/59]\n",
      "INFO:linkedin_jobs_pyscraper.search.search_jobs:Data dumped to file...\n",
      "INFO:linkedin_jobs_pyscraper.search.search_jobs:Fetching data for JOB[50/59]\n",
      "INFO:linkedin_jobs_pyscraper.search.search_jobs:Fetching data for JOB[51/59]\n",
      "INFO:linkedin_jobs_pyscraper.search.search_jobs:Fetching data for JOB[52/59]\n",
      "INFO:linkedin_jobs_pyscraper.search.search_jobs:Fetching data for JOB[53/59]\n",
      "INFO:linkedin_jobs_pyscraper.search.search_jobs:Fetching data for JOB[54/59]\n",
      "INFO:linkedin_jobs_pyscraper.search.search_jobs:Data dumped to file...\n",
      "INFO:linkedin_jobs_pyscraper.search.search_jobs:Fetching data for JOB[55/59]\n",
      "INFO:linkedin_jobs_pyscraper.search.search_jobs:Fetching data for JOB[56/59]\n",
      "INFO:linkedin_jobs_pyscraper.search.search_jobs:Fetching data for JOB[57/59]\n",
      "INFO:linkedin_jobs_pyscraper.search.search_jobs:Fetching data for JOB[58/59]\n",
      "INFO:linkedin_jobs_pyscraper.search.search_jobs:Running for search term: [1/4]\n",
      "INFO:linkedin_jobs_pyscraper.search.search_jobs:Searching jobs in page 1/10\n",
      "INFO:linkedin_jobs_pyscraper.search.search_jobs:Extracting Job Ids from the page\n",
      "INFO:linkedin_jobs_pyscraper.extract.extract_job_info:Extracting Job IDs...\n",
      "INFO:linkedin_jobs_pyscraper.search.search_jobs:Searching jobs in page 2/10\n",
      "INFO:linkedin_jobs_pyscraper.search.search_jobs:Extracting Job Ids from the page\n"
     ]
    },
    {
     "name": "stderr",
     "output_type": "stream",
     "text": [
      "INFO:linkedin_jobs_pyscraper.extract.extract_job_info:Extracting Job IDs...\n",
      "INFO:linkedin_jobs_pyscraper.search.search_jobs:Searching jobs in page 3/10\n",
      "INFO:linkedin_jobs_pyscraper.search.search_jobs:Extracting Job Ids from the page\n",
      "INFO:linkedin_jobs_pyscraper.extract.extract_job_info:Extracting Job IDs...\n",
      "INFO:linkedin_jobs_pyscraper.search.search_jobs:Searching jobs in page 4/10\n",
      "INFO:linkedin_jobs_pyscraper.search.search_jobs:Extracting Job Ids from the page\n",
      "INFO:linkedin_jobs_pyscraper.extract.extract_job_info:Extracting Job IDs...\n",
      "INFO:linkedin_jobs_pyscraper.search.search_jobs:Searching jobs in page 5/10\n",
      "INFO:linkedin_jobs_pyscraper.search.search_jobs:Extracting Job Ids from the page\n",
      "INFO:linkedin_jobs_pyscraper.extract.extract_job_info:Extracting Job IDs...\n",
      "INFO:linkedin_jobs_pyscraper.search.search_jobs:Searching jobs in page 6/10\n",
      "INFO:linkedin_jobs_pyscraper.search.search_jobs:Extracting Job Ids from the page\n",
      "INFO:linkedin_jobs_pyscraper.extract.extract_job_info:Extracting Job IDs...\n",
      "INFO:linkedin_jobs_pyscraper.search.search_jobs:Searching jobs in page 7/10\n",
      "INFO:linkedin_jobs_pyscraper.search.search_jobs:Extracting Job Ids from the page\n",
      "INFO:linkedin_jobs_pyscraper.extract.extract_job_info:Extracting Job IDs...\n",
      "INFO:linkedin_jobs_pyscraper.search.search_jobs:Searching jobs in page 8/10\n",
      "INFO:linkedin_jobs_pyscraper.search.search_jobs:Extracting Job Ids from the page\n",
      "INFO:linkedin_jobs_pyscraper.extract.extract_job_info:Extracting Job IDs...\n",
      "INFO:linkedin_jobs_pyscraper.search.search_jobs:Searching jobs in page 9/10\n",
      "INFO:linkedin_jobs_pyscraper.search.search_jobs:Extracting Job Ids from the page\n",
      "INFO:linkedin_jobs_pyscraper.extract.extract_job_info:Extracting Job IDs...\n",
      "INFO:linkedin_jobs_pyscraper.search.search_jobs:Searching jobs in page 10/10\n",
      "INFO:linkedin_jobs_pyscraper.search.search_jobs:Extracting Job Ids from the page\n",
      "INFO:linkedin_jobs_pyscraper.extract.extract_job_info:Extracting Job IDs...\n",
      "INFO:linkedin_jobs_pyscraper.search.search_jobs:Fetching data for JOB[0/18]\n",
      "INFO:linkedin_jobs_pyscraper.search.search_jobs:Data dumped to file...\n",
      "INFO:linkedin_jobs_pyscraper.search.search_jobs:Fetching data for JOB[1/18]\n",
      "INFO:linkedin_jobs_pyscraper.search.search_jobs:Fetching data for JOB[2/18]\n",
      "INFO:linkedin_jobs_pyscraper.search.search_jobs:Fetching data for JOB[3/18]\n",
      "INFO:linkedin_jobs_pyscraper.search.search_jobs:Fetching data for JOB[4/18]\n",
      "INFO:linkedin_jobs_pyscraper.search.search_jobs:Fetching data for JOB[5/18]\n",
      "INFO:linkedin_jobs_pyscraper.search.search_jobs:Data dumped to file...\n",
      "INFO:linkedin_jobs_pyscraper.search.search_jobs:Fetching data for JOB[6/18]\n",
      "INFO:linkedin_jobs_pyscraper.search.search_jobs:Fetching data for JOB[7/18]\n",
      "INFO:linkedin_jobs_pyscraper.search.search_jobs:Fetching data for JOB[8/18]\n",
      "INFO:linkedin_jobs_pyscraper.search.search_jobs:Fetching data for JOB[9/18]\n",
      "INFO:linkedin_jobs_pyscraper.search.search_jobs:Fetching data for JOB[10/18]\n",
      "INFO:linkedin_jobs_pyscraper.search.search_jobs:Data dumped to file...\n",
      "INFO:linkedin_jobs_pyscraper.search.search_jobs:Fetching data for JOB[11/18]\n",
      "INFO:linkedin_jobs_pyscraper.search.search_jobs:Fetching data for JOB[12/18]\n",
      "INFO:linkedin_jobs_pyscraper.search.search_jobs:Fetching data for JOB[13/18]\n",
      "INFO:linkedin_jobs_pyscraper.search.search_jobs:Fetching data for JOB[14/18]\n",
      "INFO:linkedin_jobs_pyscraper.search.search_jobs:Skipping JobId 2506225023 already scraped...\n",
      "INFO:linkedin_jobs_pyscraper.search.search_jobs:Fetching data for JOB[15/18]\n",
      "INFO:linkedin_jobs_pyscraper.search.search_jobs:Fetching data for JOB[16/18]\n",
      "INFO:linkedin_jobs_pyscraper.search.search_jobs:Skipping JobId 2538177012 already scraped...\n",
      "INFO:linkedin_jobs_pyscraper.search.search_jobs:Fetching data for JOB[17/18]\n",
      "INFO:linkedin_jobs_pyscraper.search.search_jobs:Data dumped to file...\n",
      "INFO:linkedin_jobs_pyscraper.search.search_jobs:Running for search term: [2/4]\n",
      "INFO:linkedin_jobs_pyscraper.search.search_jobs:Searching jobs in page 1/10\n",
      "INFO:linkedin_jobs_pyscraper.search.search_jobs:Extracting Job Ids from the page\n",
      "INFO:linkedin_jobs_pyscraper.extract.extract_job_info:Extracting Job IDs...\n",
      "INFO:linkedin_jobs_pyscraper.search.search_jobs:Searching jobs in page 2/10\n",
      "INFO:linkedin_jobs_pyscraper.search.search_jobs:Extracting Job Ids from the page\n",
      "INFO:linkedin_jobs_pyscraper.extract.extract_job_info:Extracting Job IDs...\n",
      "INFO:linkedin_jobs_pyscraper.search.search_jobs:Searching jobs in page 3/10\n",
      "INFO:linkedin_jobs_pyscraper.search.search_jobs:Extracting Job Ids from the page\n",
      "INFO:linkedin_jobs_pyscraper.extract.extract_job_info:Extracting Job IDs...\n",
      "INFO:linkedin_jobs_pyscraper.search.search_jobs:Searching jobs in page 4/10\n",
      "INFO:linkedin_jobs_pyscraper.search.search_jobs:Extracting Job Ids from the page\n",
      "INFO:linkedin_jobs_pyscraper.extract.extract_job_info:Extracting Job IDs...\n",
      "INFO:linkedin_jobs_pyscraper.search.search_jobs:Searching jobs in page 5/10\n",
      "INFO:linkedin_jobs_pyscraper.search.search_jobs:Extracting Job Ids from the page\n",
      "INFO:linkedin_jobs_pyscraper.extract.extract_job_info:Extracting Job IDs...\n",
      "INFO:linkedin_jobs_pyscraper.search.search_jobs:Searching jobs in page 6/10\n",
      "INFO:linkedin_jobs_pyscraper.search.search_jobs:Extracting Job Ids from the page\n",
      "INFO:linkedin_jobs_pyscraper.extract.extract_job_info:Extracting Job IDs...\n",
      "INFO:linkedin_jobs_pyscraper.search.search_jobs:Searching jobs in page 7/10\n",
      "INFO:linkedin_jobs_pyscraper.search.search_jobs:Extracting Job Ids from the page\n",
      "INFO:linkedin_jobs_pyscraper.extract.extract_job_info:Extracting Job IDs...\n",
      "INFO:linkedin_jobs_pyscraper.search.search_jobs:Searching jobs in page 8/10\n",
      "INFO:linkedin_jobs_pyscraper.search.search_jobs:Extracting Job Ids from the page\n",
      "INFO:linkedin_jobs_pyscraper.extract.extract_job_info:Extracting Job IDs...\n",
      "INFO:linkedin_jobs_pyscraper.search.search_jobs:Searching jobs in page 9/10\n",
      "INFO:linkedin_jobs_pyscraper.search.search_jobs:Extracting Job Ids from the page\n",
      "INFO:linkedin_jobs_pyscraper.extract.extract_job_info:Extracting Job IDs...\n",
      "INFO:linkedin_jobs_pyscraper.search.search_jobs:Searching jobs in page 10/10\n",
      "INFO:linkedin_jobs_pyscraper.search.search_jobs:Extracting Job Ids from the page\n",
      "INFO:linkedin_jobs_pyscraper.extract.extract_job_info:Extracting Job IDs...\n",
      "INFO:linkedin_jobs_pyscraper.search.search_jobs:Fetching data for JOB[0/26]\n",
      "INFO:linkedin_jobs_pyscraper.search.search_jobs:Fetching data for JOB[1/26]\n",
      "INFO:linkedin_jobs_pyscraper.search.search_jobs:Fetching data for JOB[2/26]\n",
      "INFO:linkedin_jobs_pyscraper.search.search_jobs:Fetching data for JOB[3/26]\n",
      "INFO:linkedin_jobs_pyscraper.search.search_jobs:Fetching data for JOB[4/26]\n",
      "INFO:linkedin_jobs_pyscraper.search.search_jobs:Data dumped to file...\n",
      "INFO:linkedin_jobs_pyscraper.search.search_jobs:Fetching data for JOB[5/26]\n",
      "INFO:linkedin_jobs_pyscraper.search.search_jobs:Fetching data for JOB[6/26]\n",
      "INFO:linkedin_jobs_pyscraper.search.search_jobs:Skipping JobId 2541111834 already scraped...\n",
      "INFO:linkedin_jobs_pyscraper.search.search_jobs:Fetching data for JOB[7/26]\n",
      "INFO:linkedin_jobs_pyscraper.search.search_jobs:Skipping JobId 2536305946 already scraped...\n",
      "INFO:linkedin_jobs_pyscraper.search.search_jobs:Fetching data for JOB[8/26]\n",
      "INFO:linkedin_jobs_pyscraper.search.search_jobs:Skipping JobId 2537137077 already scraped...\n",
      "INFO:linkedin_jobs_pyscraper.search.search_jobs:Fetching data for JOB[9/26]\n",
      "INFO:linkedin_jobs_pyscraper.search.search_jobs:Skipping JobId 2506192921 already scraped...\n",
      "INFO:linkedin_jobs_pyscraper.search.search_jobs:Fetching data for JOB[10/26]\n",
      "INFO:linkedin_jobs_pyscraper.search.search_jobs:Fetching data for JOB[11/26]\n",
      "INFO:linkedin_jobs_pyscraper.search.search_jobs:Skipping JobId 2533090646 already scraped...\n",
      "INFO:linkedin_jobs_pyscraper.search.search_jobs:Fetching data for JOB[12/26]\n",
      "INFO:linkedin_jobs_pyscraper.search.search_jobs:Fetching data for JOB[13/26]\n",
      "INFO:linkedin_jobs_pyscraper.search.search_jobs:Skipping JobId 2537263470 already scraped...\n",
      "INFO:linkedin_jobs_pyscraper.search.search_jobs:Fetching data for JOB[14/26]\n",
      "INFO:linkedin_jobs_pyscraper.search.search_jobs:Fetching data for JOB[15/26]\n",
      "INFO:linkedin_jobs_pyscraper.search.search_jobs:Data dumped to file...\n",
      "INFO:linkedin_jobs_pyscraper.search.search_jobs:Fetching data for JOB[16/26]\n"
     ]
    },
    {
     "name": "stderr",
     "output_type": "stream",
     "text": [
      "INFO:linkedin_jobs_pyscraper.search.search_jobs:Fetching data for JOB[17/26]\n",
      "INFO:linkedin_jobs_pyscraper.search.search_jobs:Fetching data for JOB[18/26]\n",
      "INFO:linkedin_jobs_pyscraper.search.search_jobs:Fetching data for JOB[19/26]\n",
      "INFO:linkedin_jobs_pyscraper.search.search_jobs:Fetching data for JOB[20/26]\n",
      "INFO:linkedin_jobs_pyscraper.search.search_jobs:Data dumped to file...\n",
      "INFO:linkedin_jobs_pyscraper.search.search_jobs:Fetching data for JOB[21/26]\n",
      "INFO:linkedin_jobs_pyscraper.search.search_jobs:Fetching data for JOB[22/26]\n",
      "INFO:linkedin_jobs_pyscraper.search.search_jobs:Fetching data for JOB[23/26]\n",
      "INFO:linkedin_jobs_pyscraper.search.search_jobs:Fetching data for JOB[24/26]\n",
      "INFO:linkedin_jobs_pyscraper.search.search_jobs:Skipping JobId 2454056167 already scraped...\n",
      "INFO:linkedin_jobs_pyscraper.search.search_jobs:Fetching data for JOB[25/26]\n",
      "INFO:linkedin_jobs_pyscraper.search.search_jobs:Running for search term: [3/4]\n",
      "INFO:linkedin_jobs_pyscraper.search.search_jobs:Searching jobs in page 1/10\n",
      "INFO:linkedin_jobs_pyscraper.search.search_jobs:Extracting Job Ids from the page\n",
      "INFO:linkedin_jobs_pyscraper.extract.extract_job_info:Extracting Job IDs...\n",
      "INFO:linkedin_jobs_pyscraper.search.search_jobs:Searching jobs in page 2/10\n",
      "INFO:linkedin_jobs_pyscraper.search.search_jobs:Extracting Job Ids from the page\n",
      "INFO:linkedin_jobs_pyscraper.extract.extract_job_info:Extracting Job IDs...\n",
      "INFO:linkedin_jobs_pyscraper.search.search_jobs:Searching jobs in page 3/10\n",
      "INFO:linkedin_jobs_pyscraper.search.search_jobs:Extracting Job Ids from the page\n",
      "INFO:linkedin_jobs_pyscraper.extract.extract_job_info:Extracting Job IDs...\n",
      "INFO:linkedin_jobs_pyscraper.search.search_jobs:Searching jobs in page 4/10\n",
      "INFO:linkedin_jobs_pyscraper.search.search_jobs:Extracting Job Ids from the page\n",
      "INFO:linkedin_jobs_pyscraper.extract.extract_job_info:Extracting Job IDs...\n",
      "INFO:linkedin_jobs_pyscraper.search.search_jobs:Searching jobs in page 5/10\n",
      "INFO:linkedin_jobs_pyscraper.search.search_jobs:Extracting Job Ids from the page\n",
      "INFO:linkedin_jobs_pyscraper.extract.extract_job_info:Extracting Job IDs...\n",
      "INFO:linkedin_jobs_pyscraper.search.search_jobs:Searching jobs in page 6/10\n",
      "INFO:linkedin_jobs_pyscraper.search.search_jobs:Extracting Job Ids from the page\n",
      "INFO:linkedin_jobs_pyscraper.extract.extract_job_info:Extracting Job IDs...\n",
      "INFO:linkedin_jobs_pyscraper.search.search_jobs:Searching jobs in page 7/10\n",
      "INFO:linkedin_jobs_pyscraper.search.search_jobs:Extracting Job Ids from the page\n",
      "INFO:linkedin_jobs_pyscraper.extract.extract_job_info:Extracting Job IDs...\n",
      "INFO:linkedin_jobs_pyscraper.search.search_jobs:Searching jobs in page 8/10\n",
      "INFO:linkedin_jobs_pyscraper.search.search_jobs:Extracting Job Ids from the page\n",
      "INFO:linkedin_jobs_pyscraper.extract.extract_job_info:Extracting Job IDs...\n",
      "INFO:linkedin_jobs_pyscraper.search.search_jobs:Searching jobs in page 9/10\n",
      "INFO:linkedin_jobs_pyscraper.search.search_jobs:Extracting Job Ids from the page\n",
      "INFO:linkedin_jobs_pyscraper.extract.extract_job_info:Extracting Job IDs...\n",
      "INFO:linkedin_jobs_pyscraper.search.search_jobs:Searching jobs in page 10/10\n",
      "INFO:linkedin_jobs_pyscraper.search.search_jobs:Extracting Job Ids from the page\n",
      "INFO:linkedin_jobs_pyscraper.extract.extract_job_info:Extracting Job IDs...\n",
      "INFO:linkedin_jobs_pyscraper.search.search_jobs:Fetching data for JOB[0/58]\n",
      "INFO:linkedin_jobs_pyscraper.search.search_jobs:Data dumped to file...\n",
      "INFO:linkedin_jobs_pyscraper.search.search_jobs:Fetching data for JOB[1/58]\n",
      "INFO:linkedin_jobs_pyscraper.search.search_jobs:Fetching data for JOB[2/58]\n",
      "INFO:linkedin_jobs_pyscraper.search.search_jobs:Fetching data for JOB[3/58]\n",
      "INFO:linkedin_jobs_pyscraper.search.search_jobs:Fetching data for JOB[4/58]\n",
      "INFO:linkedin_jobs_pyscraper.search.search_jobs:Fetching data for JOB[5/58]\n",
      "INFO:linkedin_jobs_pyscraper.search.search_jobs:Skipping JobId 2349021066 already scraped...\n",
      "INFO:linkedin_jobs_pyscraper.search.search_jobs:Fetching data for JOB[6/58]\n",
      "INFO:linkedin_jobs_pyscraper.search.search_jobs:Data dumped to file...\n",
      "INFO:linkedin_jobs_pyscraper.search.search_jobs:Fetching data for JOB[7/58]\n",
      "INFO:linkedin_jobs_pyscraper.search.search_jobs:Fetching data for JOB[8/58]\n",
      "INFO:linkedin_jobs_pyscraper.search.search_jobs:Fetching data for JOB[9/58]\n",
      "INFO:linkedin_jobs_pyscraper.search.search_jobs:Fetching data for JOB[10/58]\n",
      "INFO:linkedin_jobs_pyscraper.search.search_jobs:Fetching data for JOB[11/58]\n",
      "INFO:linkedin_jobs_pyscraper.search.search_jobs:Data dumped to file...\n",
      "INFO:linkedin_jobs_pyscraper.search.search_jobs:Fetching data for JOB[12/58]\n",
      "INFO:linkedin_jobs_pyscraper.search.search_jobs:Skipping JobId 2541111834 already scraped...\n",
      "INFO:linkedin_jobs_pyscraper.search.search_jobs:Fetching data for JOB[13/58]\n",
      "INFO:linkedin_jobs_pyscraper.search.search_jobs:Skipping JobId 2536305946 already scraped...\n",
      "INFO:linkedin_jobs_pyscraper.search.search_jobs:Fetching data for JOB[14/58]\n",
      "INFO:linkedin_jobs_pyscraper.search.search_jobs:Fetching data for JOB[15/58]\n",
      "INFO:linkedin_jobs_pyscraper.search.search_jobs:Fetching data for JOB[16/58]\n",
      "INFO:linkedin_jobs_pyscraper.search.search_jobs:Fetching data for JOB[17/58]\n",
      "INFO:linkedin_jobs_pyscraper.search.search_jobs:Fetching data for JOB[18/58]\n",
      "INFO:linkedin_jobs_pyscraper.search.search_jobs:Data dumped to file...\n",
      "INFO:linkedin_jobs_pyscraper.search.search_jobs:Fetching data for JOB[19/58]\n",
      "INFO:linkedin_jobs_pyscraper.search.search_jobs:Fetching data for JOB[20/58]\n",
      "INFO:linkedin_jobs_pyscraper.search.search_jobs:Fetching data for JOB[21/58]\n",
      "INFO:linkedin_jobs_pyscraper.search.search_jobs:Fetching data for JOB[22/58]\n",
      "INFO:linkedin_jobs_pyscraper.search.search_jobs:Fetching data for JOB[23/58]\n",
      "INFO:linkedin_jobs_pyscraper.search.search_jobs:Data dumped to file...\n",
      "INFO:linkedin_jobs_pyscraper.search.search_jobs:Fetching data for JOB[24/58]\n",
      "INFO:linkedin_jobs_pyscraper.search.search_jobs:Fetching data for JOB[25/58]\n",
      "INFO:linkedin_jobs_pyscraper.search.search_jobs:Fetching data for JOB[26/58]\n",
      "INFO:linkedin_jobs_pyscraper.search.search_jobs:Fetching data for JOB[27/58]\n",
      "INFO:linkedin_jobs_pyscraper.search.search_jobs:Fetching data for JOB[28/58]\n",
      "INFO:linkedin_jobs_pyscraper.search.search_jobs:Data dumped to file...\n",
      "INFO:linkedin_jobs_pyscraper.search.search_jobs:Fetching data for JOB[29/58]\n",
      "INFO:linkedin_jobs_pyscraper.search.search_jobs:Fetching data for JOB[30/58]\n",
      "INFO:linkedin_jobs_pyscraper.search.search_jobs:Fetching data for JOB[31/58]\n",
      "INFO:linkedin_jobs_pyscraper.search.search_jobs:Fetching data for JOB[32/58]\n",
      "INFO:linkedin_jobs_pyscraper.search.search_jobs:Fetching data for JOB[33/58]\n",
      "INFO:linkedin_jobs_pyscraper.search.search_jobs:Data dumped to file...\n",
      "INFO:linkedin_jobs_pyscraper.search.search_jobs:Fetching data for JOB[34/58]\n",
      "INFO:linkedin_jobs_pyscraper.search.search_jobs:Fetching data for JOB[35/58]\n"
     ]
    },
    {
     "ename": "ConnectionError",
     "evalue": "('Connection aborted.', ConnectionResetError(10054, 'An existing connection was forcibly closed by the remote host', None, 10054, None))",
     "output_type": "error",
     "traceback": [
      "\u001b[1;31m---------------------------------------------------------------------------\u001b[0m",
      "\u001b[1;31mConnectionResetError\u001b[0m                      Traceback (most recent call last)",
      "\u001b[1;32m~\\AppData\\Roaming\\Python\\Python38\\site-packages\\urllib3\\connectionpool.py\u001b[0m in \u001b[0;36murlopen\u001b[1;34m(self, method, url, body, headers, retries, redirect, assert_same_host, timeout, pool_timeout, release_conn, chunked, body_pos, **response_kw)\u001b[0m\n\u001b[0;32m    698\u001b[0m             \u001b[1;31m# Make the request on the httplib connection object.\u001b[0m\u001b[1;33m\u001b[0m\u001b[1;33m\u001b[0m\u001b[1;33m\u001b[0m\u001b[0m\n\u001b[1;32m--> 699\u001b[1;33m             httplib_response = self._make_request(\n\u001b[0m\u001b[0;32m    700\u001b[0m                 \u001b[0mconn\u001b[0m\u001b[1;33m,\u001b[0m\u001b[1;33m\u001b[0m\u001b[1;33m\u001b[0m\u001b[0m\n",
      "\u001b[1;32m~\\AppData\\Roaming\\Python\\Python38\\site-packages\\urllib3\\connectionpool.py\u001b[0m in \u001b[0;36m_make_request\u001b[1;34m(self, conn, method, url, timeout, chunked, **httplib_request_kw)\u001b[0m\n\u001b[0;32m    381\u001b[0m         \u001b[1;32mtry\u001b[0m\u001b[1;33m:\u001b[0m\u001b[1;33m\u001b[0m\u001b[1;33m\u001b[0m\u001b[0m\n\u001b[1;32m--> 382\u001b[1;33m             \u001b[0mself\u001b[0m\u001b[1;33m.\u001b[0m\u001b[0m_validate_conn\u001b[0m\u001b[1;33m(\u001b[0m\u001b[0mconn\u001b[0m\u001b[1;33m)\u001b[0m\u001b[1;33m\u001b[0m\u001b[1;33m\u001b[0m\u001b[0m\n\u001b[0m\u001b[0;32m    383\u001b[0m         \u001b[1;32mexcept\u001b[0m \u001b[1;33m(\u001b[0m\u001b[0mSocketTimeout\u001b[0m\u001b[1;33m,\u001b[0m \u001b[0mBaseSSLError\u001b[0m\u001b[1;33m)\u001b[0m \u001b[1;32mas\u001b[0m \u001b[0me\u001b[0m\u001b[1;33m:\u001b[0m\u001b[1;33m\u001b[0m\u001b[1;33m\u001b[0m\u001b[0m\n",
      "\u001b[1;32m~\\AppData\\Roaming\\Python\\Python38\\site-packages\\urllib3\\connectionpool.py\u001b[0m in \u001b[0;36m_validate_conn\u001b[1;34m(self, conn)\u001b[0m\n\u001b[0;32m   1009\u001b[0m         \u001b[1;32mif\u001b[0m \u001b[1;32mnot\u001b[0m \u001b[0mgetattr\u001b[0m\u001b[1;33m(\u001b[0m\u001b[0mconn\u001b[0m\u001b[1;33m,\u001b[0m \u001b[1;34m\"sock\"\u001b[0m\u001b[1;33m,\u001b[0m \u001b[1;32mNone\u001b[0m\u001b[1;33m)\u001b[0m\u001b[1;33m:\u001b[0m  \u001b[1;31m# AppEngine might not have  `.sock`\u001b[0m\u001b[1;33m\u001b[0m\u001b[1;33m\u001b[0m\u001b[0m\n\u001b[1;32m-> 1010\u001b[1;33m             \u001b[0mconn\u001b[0m\u001b[1;33m.\u001b[0m\u001b[0mconnect\u001b[0m\u001b[1;33m(\u001b[0m\u001b[1;33m)\u001b[0m\u001b[1;33m\u001b[0m\u001b[1;33m\u001b[0m\u001b[0m\n\u001b[0m\u001b[0;32m   1011\u001b[0m \u001b[1;33m\u001b[0m\u001b[0m\n",
      "\u001b[1;32m~\\AppData\\Roaming\\Python\\Python38\\site-packages\\urllib3\\connection.py\u001b[0m in \u001b[0;36mconnect\u001b[1;34m(self)\u001b[0m\n\u001b[0;32m    410\u001b[0m \u001b[1;33m\u001b[0m\u001b[0m\n\u001b[1;32m--> 411\u001b[1;33m         self.sock = ssl_wrap_socket(\n\u001b[0m\u001b[0;32m    412\u001b[0m             \u001b[0msock\u001b[0m\u001b[1;33m=\u001b[0m\u001b[0mconn\u001b[0m\u001b[1;33m,\u001b[0m\u001b[1;33m\u001b[0m\u001b[1;33m\u001b[0m\u001b[0m\n",
      "\u001b[1;32m~\\AppData\\Roaming\\Python\\Python38\\site-packages\\urllib3\\util\\ssl_.py\u001b[0m in \u001b[0;36mssl_wrap_socket\u001b[1;34m(sock, keyfile, certfile, cert_reqs, ca_certs, server_hostname, ssl_version, ciphers, ssl_context, ca_cert_dir, key_password, ca_cert_data, tls_in_tls)\u001b[0m\n\u001b[0;32m    427\u001b[0m     \u001b[1;32mif\u001b[0m \u001b[0msend_sni\u001b[0m\u001b[1;33m:\u001b[0m\u001b[1;33m\u001b[0m\u001b[1;33m\u001b[0m\u001b[0m\n\u001b[1;32m--> 428\u001b[1;33m         ssl_sock = _ssl_wrap_socket_impl(\n\u001b[0m\u001b[0;32m    429\u001b[0m             \u001b[0msock\u001b[0m\u001b[1;33m,\u001b[0m \u001b[0mcontext\u001b[0m\u001b[1;33m,\u001b[0m \u001b[0mtls_in_tls\u001b[0m\u001b[1;33m,\u001b[0m \u001b[0mserver_hostname\u001b[0m\u001b[1;33m=\u001b[0m\u001b[0mserver_hostname\u001b[0m\u001b[1;33m\u001b[0m\u001b[1;33m\u001b[0m\u001b[0m\n",
      "\u001b[1;32m~\\AppData\\Roaming\\Python\\Python38\\site-packages\\urllib3\\util\\ssl_.py\u001b[0m in \u001b[0;36m_ssl_wrap_socket_impl\u001b[1;34m(sock, ssl_context, tls_in_tls, server_hostname)\u001b[0m\n\u001b[0;32m    471\u001b[0m     \u001b[1;32mif\u001b[0m \u001b[0mserver_hostname\u001b[0m\u001b[1;33m:\u001b[0m\u001b[1;33m\u001b[0m\u001b[1;33m\u001b[0m\u001b[0m\n\u001b[1;32m--> 472\u001b[1;33m         \u001b[1;32mreturn\u001b[0m \u001b[0mssl_context\u001b[0m\u001b[1;33m.\u001b[0m\u001b[0mwrap_socket\u001b[0m\u001b[1;33m(\u001b[0m\u001b[0msock\u001b[0m\u001b[1;33m,\u001b[0m \u001b[0mserver_hostname\u001b[0m\u001b[1;33m=\u001b[0m\u001b[0mserver_hostname\u001b[0m\u001b[1;33m)\u001b[0m\u001b[1;33m\u001b[0m\u001b[1;33m\u001b[0m\u001b[0m\n\u001b[0m\u001b[0;32m    473\u001b[0m     \u001b[1;32melse\u001b[0m\u001b[1;33m:\u001b[0m\u001b[1;33m\u001b[0m\u001b[1;33m\u001b[0m\u001b[0m\n",
      "\u001b[1;32mC:\\ProgramData\\Anaconda3\\lib\\ssl.py\u001b[0m in \u001b[0;36mwrap_socket\u001b[1;34m(self, sock, server_side, do_handshake_on_connect, suppress_ragged_eofs, server_hostname, session)\u001b[0m\n\u001b[0;32m    499\u001b[0m         \u001b[1;31m# ctx._wrap_socket()\u001b[0m\u001b[1;33m\u001b[0m\u001b[1;33m\u001b[0m\u001b[1;33m\u001b[0m\u001b[0m\n\u001b[1;32m--> 500\u001b[1;33m         return self.sslsocket_class._create(\n\u001b[0m\u001b[0;32m    501\u001b[0m             \u001b[0msock\u001b[0m\u001b[1;33m=\u001b[0m\u001b[0msock\u001b[0m\u001b[1;33m,\u001b[0m\u001b[1;33m\u001b[0m\u001b[1;33m\u001b[0m\u001b[0m\n",
      "\u001b[1;32mC:\\ProgramData\\Anaconda3\\lib\\ssl.py\u001b[0m in \u001b[0;36m_create\u001b[1;34m(cls, sock, server_side, do_handshake_on_connect, suppress_ragged_eofs, server_hostname, context, session)\u001b[0m\n\u001b[0;32m   1039\u001b[0m                         \u001b[1;32mraise\u001b[0m \u001b[0mValueError\u001b[0m\u001b[1;33m(\u001b[0m\u001b[1;34m\"do_handshake_on_connect should not be specified for non-blocking sockets\"\u001b[0m\u001b[1;33m)\u001b[0m\u001b[1;33m\u001b[0m\u001b[1;33m\u001b[0m\u001b[0m\n\u001b[1;32m-> 1040\u001b[1;33m                     \u001b[0mself\u001b[0m\u001b[1;33m.\u001b[0m\u001b[0mdo_handshake\u001b[0m\u001b[1;33m(\u001b[0m\u001b[1;33m)\u001b[0m\u001b[1;33m\u001b[0m\u001b[1;33m\u001b[0m\u001b[0m\n\u001b[0m\u001b[0;32m   1041\u001b[0m             \u001b[1;32mexcept\u001b[0m \u001b[1;33m(\u001b[0m\u001b[0mOSError\u001b[0m\u001b[1;33m,\u001b[0m \u001b[0mValueError\u001b[0m\u001b[1;33m)\u001b[0m\u001b[1;33m:\u001b[0m\u001b[1;33m\u001b[0m\u001b[1;33m\u001b[0m\u001b[0m\n",
      "\u001b[1;32mC:\\ProgramData\\Anaconda3\\lib\\ssl.py\u001b[0m in \u001b[0;36mdo_handshake\u001b[1;34m(self, block)\u001b[0m\n\u001b[0;32m   1308\u001b[0m                 \u001b[0mself\u001b[0m\u001b[1;33m.\u001b[0m\u001b[0msettimeout\u001b[0m\u001b[1;33m(\u001b[0m\u001b[1;32mNone\u001b[0m\u001b[1;33m)\u001b[0m\u001b[1;33m\u001b[0m\u001b[1;33m\u001b[0m\u001b[0m\n\u001b[1;32m-> 1309\u001b[1;33m             \u001b[0mself\u001b[0m\u001b[1;33m.\u001b[0m\u001b[0m_sslobj\u001b[0m\u001b[1;33m.\u001b[0m\u001b[0mdo_handshake\u001b[0m\u001b[1;33m(\u001b[0m\u001b[1;33m)\u001b[0m\u001b[1;33m\u001b[0m\u001b[1;33m\u001b[0m\u001b[0m\n\u001b[0m\u001b[0;32m   1310\u001b[0m         \u001b[1;32mfinally\u001b[0m\u001b[1;33m:\u001b[0m\u001b[1;33m\u001b[0m\u001b[1;33m\u001b[0m\u001b[0m\n",
      "\u001b[1;31mConnectionResetError\u001b[0m: [WinError 10054] An existing connection was forcibly closed by the remote host",
      "\nDuring handling of the above exception, another exception occurred:\n",
      "\u001b[1;31mProtocolError\u001b[0m                             Traceback (most recent call last)",
      "\u001b[1;32m~\\AppData\\Roaming\\Python\\Python38\\site-packages\\requests\\adapters.py\u001b[0m in \u001b[0;36msend\u001b[1;34m(self, request, stream, timeout, verify, cert, proxies)\u001b[0m\n\u001b[0;32m    438\u001b[0m             \u001b[1;32mif\u001b[0m \u001b[1;32mnot\u001b[0m \u001b[0mchunked\u001b[0m\u001b[1;33m:\u001b[0m\u001b[1;33m\u001b[0m\u001b[1;33m\u001b[0m\u001b[0m\n\u001b[1;32m--> 439\u001b[1;33m                 resp = conn.urlopen(\n\u001b[0m\u001b[0;32m    440\u001b[0m                     \u001b[0mmethod\u001b[0m\u001b[1;33m=\u001b[0m\u001b[0mrequest\u001b[0m\u001b[1;33m.\u001b[0m\u001b[0mmethod\u001b[0m\u001b[1;33m,\u001b[0m\u001b[1;33m\u001b[0m\u001b[1;33m\u001b[0m\u001b[0m\n",
      "\u001b[1;32m~\\AppData\\Roaming\\Python\\Python38\\site-packages\\urllib3\\connectionpool.py\u001b[0m in \u001b[0;36murlopen\u001b[1;34m(self, method, url, body, headers, retries, redirect, assert_same_host, timeout, pool_timeout, release_conn, chunked, body_pos, **response_kw)\u001b[0m\n\u001b[0;32m    754\u001b[0m \u001b[1;33m\u001b[0m\u001b[0m\n\u001b[1;32m--> 755\u001b[1;33m             retries = retries.increment(\n\u001b[0m\u001b[0;32m    756\u001b[0m                 \u001b[0mmethod\u001b[0m\u001b[1;33m,\u001b[0m \u001b[0murl\u001b[0m\u001b[1;33m,\u001b[0m \u001b[0merror\u001b[0m\u001b[1;33m=\u001b[0m\u001b[0me\u001b[0m\u001b[1;33m,\u001b[0m \u001b[0m_pool\u001b[0m\u001b[1;33m=\u001b[0m\u001b[0mself\u001b[0m\u001b[1;33m,\u001b[0m \u001b[0m_stacktrace\u001b[0m\u001b[1;33m=\u001b[0m\u001b[0msys\u001b[0m\u001b[1;33m.\u001b[0m\u001b[0mexc_info\u001b[0m\u001b[1;33m(\u001b[0m\u001b[1;33m)\u001b[0m\u001b[1;33m[\u001b[0m\u001b[1;36m2\u001b[0m\u001b[1;33m]\u001b[0m\u001b[1;33m\u001b[0m\u001b[1;33m\u001b[0m\u001b[0m\n",
      "\u001b[1;32m~\\AppData\\Roaming\\Python\\Python38\\site-packages\\urllib3\\util\\retry.py\u001b[0m in \u001b[0;36mincrement\u001b[1;34m(self, method, url, response, error, _pool, _stacktrace)\u001b[0m\n\u001b[0;32m    531\u001b[0m             \u001b[1;32mif\u001b[0m \u001b[0mread\u001b[0m \u001b[1;32mis\u001b[0m \u001b[1;32mFalse\u001b[0m \u001b[1;32mor\u001b[0m \u001b[1;32mnot\u001b[0m \u001b[0mself\u001b[0m\u001b[1;33m.\u001b[0m\u001b[0m_is_method_retryable\u001b[0m\u001b[1;33m(\u001b[0m\u001b[0mmethod\u001b[0m\u001b[1;33m)\u001b[0m\u001b[1;33m:\u001b[0m\u001b[1;33m\u001b[0m\u001b[1;33m\u001b[0m\u001b[0m\n\u001b[1;32m--> 532\u001b[1;33m                 \u001b[1;32mraise\u001b[0m \u001b[0msix\u001b[0m\u001b[1;33m.\u001b[0m\u001b[0mreraise\u001b[0m\u001b[1;33m(\u001b[0m\u001b[0mtype\u001b[0m\u001b[1;33m(\u001b[0m\u001b[0merror\u001b[0m\u001b[1;33m)\u001b[0m\u001b[1;33m,\u001b[0m \u001b[0merror\u001b[0m\u001b[1;33m,\u001b[0m \u001b[0m_stacktrace\u001b[0m\u001b[1;33m)\u001b[0m\u001b[1;33m\u001b[0m\u001b[1;33m\u001b[0m\u001b[0m\n\u001b[0m\u001b[0;32m    533\u001b[0m             \u001b[1;32melif\u001b[0m \u001b[0mread\u001b[0m \u001b[1;32mis\u001b[0m \u001b[1;32mnot\u001b[0m \u001b[1;32mNone\u001b[0m\u001b[1;33m:\u001b[0m\u001b[1;33m\u001b[0m\u001b[1;33m\u001b[0m\u001b[0m\n",
      "\u001b[1;32m~\\AppData\\Roaming\\Python\\Python38\\site-packages\\urllib3\\packages\\six.py\u001b[0m in \u001b[0;36mreraise\u001b[1;34m(tp, value, tb)\u001b[0m\n\u001b[0;32m    733\u001b[0m             \u001b[1;32mif\u001b[0m \u001b[0mvalue\u001b[0m\u001b[1;33m.\u001b[0m\u001b[0m__traceback__\u001b[0m \u001b[1;32mis\u001b[0m \u001b[1;32mnot\u001b[0m \u001b[0mtb\u001b[0m\u001b[1;33m:\u001b[0m\u001b[1;33m\u001b[0m\u001b[1;33m\u001b[0m\u001b[0m\n\u001b[1;32m--> 734\u001b[1;33m                 \u001b[1;32mraise\u001b[0m \u001b[0mvalue\u001b[0m\u001b[1;33m.\u001b[0m\u001b[0mwith_traceback\u001b[0m\u001b[1;33m(\u001b[0m\u001b[0mtb\u001b[0m\u001b[1;33m)\u001b[0m\u001b[1;33m\u001b[0m\u001b[1;33m\u001b[0m\u001b[0m\n\u001b[0m\u001b[0;32m    735\u001b[0m             \u001b[1;32mraise\u001b[0m \u001b[0mvalue\u001b[0m\u001b[1;33m\u001b[0m\u001b[1;33m\u001b[0m\u001b[0m\n",
      "\u001b[1;32m~\\AppData\\Roaming\\Python\\Python38\\site-packages\\urllib3\\connectionpool.py\u001b[0m in \u001b[0;36murlopen\u001b[1;34m(self, method, url, body, headers, retries, redirect, assert_same_host, timeout, pool_timeout, release_conn, chunked, body_pos, **response_kw)\u001b[0m\n\u001b[0;32m    698\u001b[0m             \u001b[1;31m# Make the request on the httplib connection object.\u001b[0m\u001b[1;33m\u001b[0m\u001b[1;33m\u001b[0m\u001b[1;33m\u001b[0m\u001b[0m\n\u001b[1;32m--> 699\u001b[1;33m             httplib_response = self._make_request(\n\u001b[0m\u001b[0;32m    700\u001b[0m                 \u001b[0mconn\u001b[0m\u001b[1;33m,\u001b[0m\u001b[1;33m\u001b[0m\u001b[1;33m\u001b[0m\u001b[0m\n",
      "\u001b[1;32m~\\AppData\\Roaming\\Python\\Python38\\site-packages\\urllib3\\connectionpool.py\u001b[0m in \u001b[0;36m_make_request\u001b[1;34m(self, conn, method, url, timeout, chunked, **httplib_request_kw)\u001b[0m\n\u001b[0;32m    381\u001b[0m         \u001b[1;32mtry\u001b[0m\u001b[1;33m:\u001b[0m\u001b[1;33m\u001b[0m\u001b[1;33m\u001b[0m\u001b[0m\n\u001b[1;32m--> 382\u001b[1;33m             \u001b[0mself\u001b[0m\u001b[1;33m.\u001b[0m\u001b[0m_validate_conn\u001b[0m\u001b[1;33m(\u001b[0m\u001b[0mconn\u001b[0m\u001b[1;33m)\u001b[0m\u001b[1;33m\u001b[0m\u001b[1;33m\u001b[0m\u001b[0m\n\u001b[0m\u001b[0;32m    383\u001b[0m         \u001b[1;32mexcept\u001b[0m \u001b[1;33m(\u001b[0m\u001b[0mSocketTimeout\u001b[0m\u001b[1;33m,\u001b[0m \u001b[0mBaseSSLError\u001b[0m\u001b[1;33m)\u001b[0m \u001b[1;32mas\u001b[0m \u001b[0me\u001b[0m\u001b[1;33m:\u001b[0m\u001b[1;33m\u001b[0m\u001b[1;33m\u001b[0m\u001b[0m\n",
      "\u001b[1;32m~\\AppData\\Roaming\\Python\\Python38\\site-packages\\urllib3\\connectionpool.py\u001b[0m in \u001b[0;36m_validate_conn\u001b[1;34m(self, conn)\u001b[0m\n\u001b[0;32m   1009\u001b[0m         \u001b[1;32mif\u001b[0m \u001b[1;32mnot\u001b[0m \u001b[0mgetattr\u001b[0m\u001b[1;33m(\u001b[0m\u001b[0mconn\u001b[0m\u001b[1;33m,\u001b[0m \u001b[1;34m\"sock\"\u001b[0m\u001b[1;33m,\u001b[0m \u001b[1;32mNone\u001b[0m\u001b[1;33m)\u001b[0m\u001b[1;33m:\u001b[0m  \u001b[1;31m# AppEngine might not have  `.sock`\u001b[0m\u001b[1;33m\u001b[0m\u001b[1;33m\u001b[0m\u001b[0m\n\u001b[1;32m-> 1010\u001b[1;33m             \u001b[0mconn\u001b[0m\u001b[1;33m.\u001b[0m\u001b[0mconnect\u001b[0m\u001b[1;33m(\u001b[0m\u001b[1;33m)\u001b[0m\u001b[1;33m\u001b[0m\u001b[1;33m\u001b[0m\u001b[0m\n\u001b[0m\u001b[0;32m   1011\u001b[0m \u001b[1;33m\u001b[0m\u001b[0m\n",
      "\u001b[1;32m~\\AppData\\Roaming\\Python\\Python38\\site-packages\\urllib3\\connection.py\u001b[0m in \u001b[0;36mconnect\u001b[1;34m(self)\u001b[0m\n\u001b[0;32m    410\u001b[0m \u001b[1;33m\u001b[0m\u001b[0m\n\u001b[1;32m--> 411\u001b[1;33m         self.sock = ssl_wrap_socket(\n\u001b[0m\u001b[0;32m    412\u001b[0m             \u001b[0msock\u001b[0m\u001b[1;33m=\u001b[0m\u001b[0mconn\u001b[0m\u001b[1;33m,\u001b[0m\u001b[1;33m\u001b[0m\u001b[1;33m\u001b[0m\u001b[0m\n",
      "\u001b[1;32m~\\AppData\\Roaming\\Python\\Python38\\site-packages\\urllib3\\util\\ssl_.py\u001b[0m in \u001b[0;36mssl_wrap_socket\u001b[1;34m(sock, keyfile, certfile, cert_reqs, ca_certs, server_hostname, ssl_version, ciphers, ssl_context, ca_cert_dir, key_password, ca_cert_data, tls_in_tls)\u001b[0m\n\u001b[0;32m    427\u001b[0m     \u001b[1;32mif\u001b[0m \u001b[0msend_sni\u001b[0m\u001b[1;33m:\u001b[0m\u001b[1;33m\u001b[0m\u001b[1;33m\u001b[0m\u001b[0m\n\u001b[1;32m--> 428\u001b[1;33m         ssl_sock = _ssl_wrap_socket_impl(\n\u001b[0m\u001b[0;32m    429\u001b[0m             \u001b[0msock\u001b[0m\u001b[1;33m,\u001b[0m \u001b[0mcontext\u001b[0m\u001b[1;33m,\u001b[0m \u001b[0mtls_in_tls\u001b[0m\u001b[1;33m,\u001b[0m \u001b[0mserver_hostname\u001b[0m\u001b[1;33m=\u001b[0m\u001b[0mserver_hostname\u001b[0m\u001b[1;33m\u001b[0m\u001b[1;33m\u001b[0m\u001b[0m\n",
      "\u001b[1;32m~\\AppData\\Roaming\\Python\\Python38\\site-packages\\urllib3\\util\\ssl_.py\u001b[0m in \u001b[0;36m_ssl_wrap_socket_impl\u001b[1;34m(sock, ssl_context, tls_in_tls, server_hostname)\u001b[0m\n\u001b[0;32m    471\u001b[0m     \u001b[1;32mif\u001b[0m \u001b[0mserver_hostname\u001b[0m\u001b[1;33m:\u001b[0m\u001b[1;33m\u001b[0m\u001b[1;33m\u001b[0m\u001b[0m\n\u001b[1;32m--> 472\u001b[1;33m         \u001b[1;32mreturn\u001b[0m \u001b[0mssl_context\u001b[0m\u001b[1;33m.\u001b[0m\u001b[0mwrap_socket\u001b[0m\u001b[1;33m(\u001b[0m\u001b[0msock\u001b[0m\u001b[1;33m,\u001b[0m \u001b[0mserver_hostname\u001b[0m\u001b[1;33m=\u001b[0m\u001b[0mserver_hostname\u001b[0m\u001b[1;33m)\u001b[0m\u001b[1;33m\u001b[0m\u001b[1;33m\u001b[0m\u001b[0m\n\u001b[0m\u001b[0;32m    473\u001b[0m     \u001b[1;32melse\u001b[0m\u001b[1;33m:\u001b[0m\u001b[1;33m\u001b[0m\u001b[1;33m\u001b[0m\u001b[0m\n",
      "\u001b[1;32mC:\\ProgramData\\Anaconda3\\lib\\ssl.py\u001b[0m in \u001b[0;36mwrap_socket\u001b[1;34m(self, sock, server_side, do_handshake_on_connect, suppress_ragged_eofs, server_hostname, session)\u001b[0m\n\u001b[0;32m    499\u001b[0m         \u001b[1;31m# ctx._wrap_socket()\u001b[0m\u001b[1;33m\u001b[0m\u001b[1;33m\u001b[0m\u001b[1;33m\u001b[0m\u001b[0m\n\u001b[1;32m--> 500\u001b[1;33m         return self.sslsocket_class._create(\n\u001b[0m\u001b[0;32m    501\u001b[0m             \u001b[0msock\u001b[0m\u001b[1;33m=\u001b[0m\u001b[0msock\u001b[0m\u001b[1;33m,\u001b[0m\u001b[1;33m\u001b[0m\u001b[1;33m\u001b[0m\u001b[0m\n",
      "\u001b[1;32mC:\\ProgramData\\Anaconda3\\lib\\ssl.py\u001b[0m in \u001b[0;36m_create\u001b[1;34m(cls, sock, server_side, do_handshake_on_connect, suppress_ragged_eofs, server_hostname, context, session)\u001b[0m\n\u001b[0;32m   1039\u001b[0m                         \u001b[1;32mraise\u001b[0m \u001b[0mValueError\u001b[0m\u001b[1;33m(\u001b[0m\u001b[1;34m\"do_handshake_on_connect should not be specified for non-blocking sockets\"\u001b[0m\u001b[1;33m)\u001b[0m\u001b[1;33m\u001b[0m\u001b[1;33m\u001b[0m\u001b[0m\n\u001b[1;32m-> 1040\u001b[1;33m                     \u001b[0mself\u001b[0m\u001b[1;33m.\u001b[0m\u001b[0mdo_handshake\u001b[0m\u001b[1;33m(\u001b[0m\u001b[1;33m)\u001b[0m\u001b[1;33m\u001b[0m\u001b[1;33m\u001b[0m\u001b[0m\n\u001b[0m\u001b[0;32m   1041\u001b[0m             \u001b[1;32mexcept\u001b[0m \u001b[1;33m(\u001b[0m\u001b[0mOSError\u001b[0m\u001b[1;33m,\u001b[0m \u001b[0mValueError\u001b[0m\u001b[1;33m)\u001b[0m\u001b[1;33m:\u001b[0m\u001b[1;33m\u001b[0m\u001b[1;33m\u001b[0m\u001b[0m\n",
      "\u001b[1;32mC:\\ProgramData\\Anaconda3\\lib\\ssl.py\u001b[0m in \u001b[0;36mdo_handshake\u001b[1;34m(self, block)\u001b[0m\n\u001b[0;32m   1308\u001b[0m                 \u001b[0mself\u001b[0m\u001b[1;33m.\u001b[0m\u001b[0msettimeout\u001b[0m\u001b[1;33m(\u001b[0m\u001b[1;32mNone\u001b[0m\u001b[1;33m)\u001b[0m\u001b[1;33m\u001b[0m\u001b[1;33m\u001b[0m\u001b[0m\n\u001b[1;32m-> 1309\u001b[1;33m             \u001b[0mself\u001b[0m\u001b[1;33m.\u001b[0m\u001b[0m_sslobj\u001b[0m\u001b[1;33m.\u001b[0m\u001b[0mdo_handshake\u001b[0m\u001b[1;33m(\u001b[0m\u001b[1;33m)\u001b[0m\u001b[1;33m\u001b[0m\u001b[1;33m\u001b[0m\u001b[0m\n\u001b[0m\u001b[0;32m   1310\u001b[0m         \u001b[1;32mfinally\u001b[0m\u001b[1;33m:\u001b[0m\u001b[1;33m\u001b[0m\u001b[1;33m\u001b[0m\u001b[0m\n",
      "\u001b[1;31mProtocolError\u001b[0m: ('Connection aborted.', ConnectionResetError(10054, 'An existing connection was forcibly closed by the remote host', None, 10054, None))",
      "\nDuring handling of the above exception, another exception occurred:\n",
      "\u001b[1;31mConnectionError\u001b[0m                           Traceback (most recent call last)",
      "\u001b[1;32m<ipython-input-62-5094bf87273e>\u001b[0m in \u001b[0;36m<module>\u001b[1;34m\u001b[0m\n\u001b[0;32m     19\u001b[0m     )\n\u001b[0;32m     20\u001b[0m \u001b[0mscraper\u001b[0m \u001b[1;33m=\u001b[0m \u001b[0mLinkedInJobsPyScraper\u001b[0m\u001b[1;33m(\u001b[0m\u001b[0msearcher\u001b[0m\u001b[1;33m=\u001b[0m \u001b[0msearcher\u001b[0m\u001b[1;33m,\u001b[0m \u001b[0mfilters\u001b[0m\u001b[1;33m=\u001b[0m\u001b[0msearch_filter\u001b[0m\u001b[1;33m)\u001b[0m\u001b[1;33m\u001b[0m\u001b[1;33m\u001b[0m\u001b[0m\n\u001b[1;32m---> 21\u001b[1;33m \u001b[0mscraper\u001b[0m\u001b[1;33m.\u001b[0m\u001b[0mstart\u001b[0m\u001b[1;33m(\u001b[0m\u001b[1;33m)\u001b[0m\u001b[1;33m\u001b[0m\u001b[1;33m\u001b[0m\u001b[0m\n\u001b[0m",
      "\u001b[1;32m~\\AppData\\Roaming\\Python\\Python38\\site-packages\\linkedin_jobs_pyscraper\\linkedin_jobs_scraper.py\u001b[0m in \u001b[0;36mstart\u001b[1;34m(self)\u001b[0m\n\u001b[0;32m     24\u001b[0m         \"\"\"\n\u001b[0;32m     25\u001b[0m         \u001b[0msearch\u001b[0m \u001b[1;33m=\u001b[0m \u001b[0mhelpers\u001b[0m\u001b[1;33m.\u001b[0m\u001b[0mget_search_instance\u001b[0m\u001b[1;33m(\u001b[0m\u001b[0mself\u001b[0m\u001b[1;33m.\u001b[0m\u001b[0msearcher\u001b[0m\u001b[1;33m,\u001b[0m \u001b[0mself\u001b[0m\u001b[1;33m.\u001b[0m\u001b[0mfilters\u001b[0m\u001b[1;33m)\u001b[0m  \u001b[1;31m## create search instance\u001b[0m\u001b[1;33m\u001b[0m\u001b[1;33m\u001b[0m\u001b[0m\n\u001b[1;32m---> 26\u001b[1;33m         \u001b[0msearch\u001b[0m\u001b[1;33m.\u001b[0m\u001b[0msearch_jobs\u001b[0m\u001b[1;33m(\u001b[0m\u001b[1;33m)\u001b[0m \u001b[1;31m## search jobs\u001b[0m\u001b[1;33m\u001b[0m\u001b[1;33m\u001b[0m\u001b[0m\n\u001b[0m",
      "\u001b[1;32m~\\AppData\\Roaming\\Python\\Python38\\site-packages\\linkedin_jobs_pyscraper\\search\\search_jobs.py\u001b[0m in \u001b[0;36msearch_jobs\u001b[1;34m(self)\u001b[0m\n\u001b[0;32m     30\u001b[0m                     \u001b[0msearch_term\u001b[0m \u001b[1;33m=\u001b[0m \u001b[1;34m\"%20\"\u001b[0m\u001b[1;33m.\u001b[0m\u001b[0mjoin\u001b[0m\u001b[1;33m(\u001b[0m\u001b[0msearch_term\u001b[0m\u001b[1;33m.\u001b[0m\u001b[0msplit\u001b[0m\u001b[1;33m(\u001b[0m\u001b[1;33m)\u001b[0m\u001b[1;33m)\u001b[0m\u001b[1;33m\u001b[0m\u001b[1;33m\u001b[0m\u001b[0m\n\u001b[0;32m     31\u001b[0m                     \u001b[0mself\u001b[0m\u001b[1;33m.\u001b[0m\u001b[0msearch_jobs_ids\u001b[0m\u001b[1;33m(\u001b[0m\u001b[0msearch_term\u001b[0m\u001b[1;33m)\u001b[0m \u001b[1;31m## search jobs for a term\u001b[0m\u001b[1;33m\u001b[0m\u001b[1;33m\u001b[0m\u001b[0m\n\u001b[1;32m---> 32\u001b[1;33m                     \u001b[0mself\u001b[0m\u001b[1;33m.\u001b[0m\u001b[0mfetch_job_info\u001b[0m\u001b[1;33m(\u001b[0m\u001b[1;33m)\u001b[0m \u001b[1;31m## fetch job detail data for that term\u001b[0m\u001b[1;33m\u001b[0m\u001b[1;33m\u001b[0m\u001b[0m\n\u001b[0m\u001b[0;32m     33\u001b[0m \u001b[1;33m\u001b[0m\u001b[0m\n\u001b[0;32m     34\u001b[0m             \u001b[0mhelpers\u001b[0m\u001b[1;33m.\u001b[0m\u001b[0mwrite_to_file\u001b[0m\u001b[1;33m(\u001b[0m\u001b[0mself\u001b[0m\u001b[1;33m.\u001b[0m\u001b[0msearcher\u001b[0m\u001b[1;33m.\u001b[0m\u001b[0mscraped_jobs\u001b[0m\u001b[1;33m,\u001b[0m \u001b[0mself\u001b[0m\u001b[1;33m.\u001b[0m\u001b[0msearcher\u001b[0m\u001b[1;33m.\u001b[0m\u001b[0mbatch_num\u001b[0m\u001b[1;33m,\u001b[0m \u001b[0mself\u001b[0m\u001b[1;33m.\u001b[0m\u001b[0msearcher\u001b[0m\u001b[1;33m.\u001b[0m\u001b[0moutput_filepath\u001b[0m\u001b[1;33m)\u001b[0m\u001b[1;33m\u001b[0m\u001b[1;33m\u001b[0m\u001b[0m\n",
      "\u001b[1;32m~\\AppData\\Roaming\\Python\\Python38\\site-packages\\linkedin_jobs_pyscraper\\search\\search_jobs.py\u001b[0m in \u001b[0;36mfetch_job_info\u001b[1;34m(self)\u001b[0m\n\u001b[0;32m     75\u001b[0m                     \u001b[1;32mcontinue\u001b[0m\u001b[1;33m\u001b[0m\u001b[1;33m\u001b[0m\u001b[0m\n\u001b[0;32m     76\u001b[0m \u001b[1;33m\u001b[0m\u001b[0m\n\u001b[1;32m---> 77\u001b[1;33m                 \u001b[0mjob_info\u001b[0m \u001b[1;33m=\u001b[0m \u001b[0mself\u001b[0m\u001b[1;33m.\u001b[0m\u001b[0msearch_job_data\u001b[0m\u001b[1;33m(\u001b[0m\u001b[0mjob_id\u001b[0m\u001b[1;33m)\u001b[0m\u001b[1;33m\u001b[0m\u001b[1;33m\u001b[0m\u001b[0m\n\u001b[0m\u001b[0;32m     78\u001b[0m                 \u001b[1;32mif\u001b[0m \u001b[0mjob_info\u001b[0m\u001b[1;33m:\u001b[0m\u001b[1;33m\u001b[0m\u001b[1;33m\u001b[0m\u001b[0m\n\u001b[0;32m     79\u001b[0m                     \u001b[0mself\u001b[0m\u001b[1;33m.\u001b[0m\u001b[0msearcher\u001b[0m\u001b[1;33m.\u001b[0m\u001b[0mscraped_job_ids\u001b[0m\u001b[1;33m.\u001b[0m\u001b[0mappend\u001b[0m\u001b[1;33m(\u001b[0m\u001b[0mjob_id\u001b[0m\u001b[1;33m)\u001b[0m\u001b[1;33m\u001b[0m\u001b[1;33m\u001b[0m\u001b[0m\n",
      "\u001b[1;32m~\\AppData\\Roaming\\Python\\Python38\\site-packages\\linkedin_jobs_pyscraper\\search\\search_jobs.py\u001b[0m in \u001b[0;36msearch_job_data\u001b[1;34m(self, job_id)\u001b[0m\n\u001b[0;32m     58\u001b[0m             \"\"\"\n\u001b[0;32m     59\u001b[0m             \u001b[0murl\u001b[0m \u001b[1;33m=\u001b[0m \u001b[0mself\u001b[0m\u001b[1;33m.\u001b[0m\u001b[0msearcher\u001b[0m\u001b[1;33m.\u001b[0m\u001b[0mli_jobs_api\u001b[0m\u001b[1;33m.\u001b[0m\u001b[0mformat\u001b[0m\u001b[1;33m(\u001b[0m\u001b[0mjob_id\u001b[0m\u001b[1;33m)\u001b[0m\u001b[1;33m\u001b[0m\u001b[1;33m\u001b[0m\u001b[0m\n\u001b[1;32m---> 60\u001b[1;33m             \u001b[0mresponse\u001b[0m \u001b[1;33m=\u001b[0m \u001b[0mrequests\u001b[0m\u001b[1;33m.\u001b[0m\u001b[0mget\u001b[0m\u001b[1;33m(\u001b[0m\u001b[0murl\u001b[0m\u001b[1;33m)\u001b[0m  \u001b[1;31m# Connect to the URL\u001b[0m\u001b[1;33m\u001b[0m\u001b[1;33m\u001b[0m\u001b[0m\n\u001b[0m\u001b[0;32m     61\u001b[0m             \u001b[0msoup\u001b[0m \u001b[1;33m=\u001b[0m \u001b[0mBeautifulSoup\u001b[0m\u001b[1;33m(\u001b[0m\u001b[0mresponse\u001b[0m\u001b[1;33m.\u001b[0m\u001b[0mtext\u001b[0m\u001b[1;33m,\u001b[0m \u001b[1;34m\"html.parser\"\u001b[0m\u001b[1;33m)\u001b[0m  \u001b[1;31m# Parse HTML and save to BeautifulSoup object\u001b[0m\u001b[1;33m\u001b[0m\u001b[1;33m\u001b[0m\u001b[0m\n\u001b[0;32m     62\u001b[0m             \u001b[1;32mreturn\u001b[0m \u001b[0mself\u001b[0m\u001b[1;33m.\u001b[0m\u001b[0mjobinfo_extractor\u001b[0m\u001b[1;33m.\u001b[0m\u001b[0mextract_job_data\u001b[0m\u001b[1;33m(\u001b[0m\u001b[0msoup\u001b[0m\u001b[1;33m,\u001b[0m \u001b[0mjob_id\u001b[0m\u001b[1;33m)\u001b[0m\u001b[1;33m\u001b[0m\u001b[1;33m\u001b[0m\u001b[0m\n",
      "\u001b[1;32m~\\AppData\\Roaming\\Python\\Python38\\site-packages\\requests\\api.py\u001b[0m in \u001b[0;36mget\u001b[1;34m(url, params, **kwargs)\u001b[0m\n\u001b[0;32m     74\u001b[0m \u001b[1;33m\u001b[0m\u001b[0m\n\u001b[0;32m     75\u001b[0m     \u001b[0mkwargs\u001b[0m\u001b[1;33m.\u001b[0m\u001b[0msetdefault\u001b[0m\u001b[1;33m(\u001b[0m\u001b[1;34m'allow_redirects'\u001b[0m\u001b[1;33m,\u001b[0m \u001b[1;32mTrue\u001b[0m\u001b[1;33m)\u001b[0m\u001b[1;33m\u001b[0m\u001b[1;33m\u001b[0m\u001b[0m\n\u001b[1;32m---> 76\u001b[1;33m     \u001b[1;32mreturn\u001b[0m \u001b[0mrequest\u001b[0m\u001b[1;33m(\u001b[0m\u001b[1;34m'get'\u001b[0m\u001b[1;33m,\u001b[0m \u001b[0murl\u001b[0m\u001b[1;33m,\u001b[0m \u001b[0mparams\u001b[0m\u001b[1;33m=\u001b[0m\u001b[0mparams\u001b[0m\u001b[1;33m,\u001b[0m \u001b[1;33m**\u001b[0m\u001b[0mkwargs\u001b[0m\u001b[1;33m)\u001b[0m\u001b[1;33m\u001b[0m\u001b[1;33m\u001b[0m\u001b[0m\n\u001b[0m\u001b[0;32m     77\u001b[0m \u001b[1;33m\u001b[0m\u001b[0m\n\u001b[0;32m     78\u001b[0m \u001b[1;33m\u001b[0m\u001b[0m\n",
      "\u001b[1;32m~\\AppData\\Roaming\\Python\\Python38\\site-packages\\requests\\api.py\u001b[0m in \u001b[0;36mrequest\u001b[1;34m(method, url, **kwargs)\u001b[0m\n\u001b[0;32m     59\u001b[0m     \u001b[1;31m# cases, and look like a memory leak in others.\u001b[0m\u001b[1;33m\u001b[0m\u001b[1;33m\u001b[0m\u001b[1;33m\u001b[0m\u001b[0m\n\u001b[0;32m     60\u001b[0m     \u001b[1;32mwith\u001b[0m \u001b[0msessions\u001b[0m\u001b[1;33m.\u001b[0m\u001b[0mSession\u001b[0m\u001b[1;33m(\u001b[0m\u001b[1;33m)\u001b[0m \u001b[1;32mas\u001b[0m \u001b[0msession\u001b[0m\u001b[1;33m:\u001b[0m\u001b[1;33m\u001b[0m\u001b[1;33m\u001b[0m\u001b[0m\n\u001b[1;32m---> 61\u001b[1;33m         \u001b[1;32mreturn\u001b[0m \u001b[0msession\u001b[0m\u001b[1;33m.\u001b[0m\u001b[0mrequest\u001b[0m\u001b[1;33m(\u001b[0m\u001b[0mmethod\u001b[0m\u001b[1;33m=\u001b[0m\u001b[0mmethod\u001b[0m\u001b[1;33m,\u001b[0m \u001b[0murl\u001b[0m\u001b[1;33m=\u001b[0m\u001b[0murl\u001b[0m\u001b[1;33m,\u001b[0m \u001b[1;33m**\u001b[0m\u001b[0mkwargs\u001b[0m\u001b[1;33m)\u001b[0m\u001b[1;33m\u001b[0m\u001b[1;33m\u001b[0m\u001b[0m\n\u001b[0m\u001b[0;32m     62\u001b[0m \u001b[1;33m\u001b[0m\u001b[0m\n\u001b[0;32m     63\u001b[0m \u001b[1;33m\u001b[0m\u001b[0m\n",
      "\u001b[1;32m~\\AppData\\Roaming\\Python\\Python38\\site-packages\\requests\\sessions.py\u001b[0m in \u001b[0;36mrequest\u001b[1;34m(self, method, url, params, data, headers, cookies, files, auth, timeout, allow_redirects, proxies, hooks, stream, verify, cert, json)\u001b[0m\n\u001b[0;32m    540\u001b[0m         }\n\u001b[0;32m    541\u001b[0m         \u001b[0msend_kwargs\u001b[0m\u001b[1;33m.\u001b[0m\u001b[0mupdate\u001b[0m\u001b[1;33m(\u001b[0m\u001b[0msettings\u001b[0m\u001b[1;33m)\u001b[0m\u001b[1;33m\u001b[0m\u001b[1;33m\u001b[0m\u001b[0m\n\u001b[1;32m--> 542\u001b[1;33m         \u001b[0mresp\u001b[0m \u001b[1;33m=\u001b[0m \u001b[0mself\u001b[0m\u001b[1;33m.\u001b[0m\u001b[0msend\u001b[0m\u001b[1;33m(\u001b[0m\u001b[0mprep\u001b[0m\u001b[1;33m,\u001b[0m \u001b[1;33m**\u001b[0m\u001b[0msend_kwargs\u001b[0m\u001b[1;33m)\u001b[0m\u001b[1;33m\u001b[0m\u001b[1;33m\u001b[0m\u001b[0m\n\u001b[0m\u001b[0;32m    543\u001b[0m \u001b[1;33m\u001b[0m\u001b[0m\n\u001b[0;32m    544\u001b[0m         \u001b[1;32mreturn\u001b[0m \u001b[0mresp\u001b[0m\u001b[1;33m\u001b[0m\u001b[1;33m\u001b[0m\u001b[0m\n",
      "\u001b[1;32m~\\AppData\\Roaming\\Python\\Python38\\site-packages\\requests\\sessions.py\u001b[0m in \u001b[0;36msend\u001b[1;34m(self, request, **kwargs)\u001b[0m\n\u001b[0;32m    653\u001b[0m \u001b[1;33m\u001b[0m\u001b[0m\n\u001b[0;32m    654\u001b[0m         \u001b[1;31m# Send the request\u001b[0m\u001b[1;33m\u001b[0m\u001b[1;33m\u001b[0m\u001b[1;33m\u001b[0m\u001b[0m\n\u001b[1;32m--> 655\u001b[1;33m         \u001b[0mr\u001b[0m \u001b[1;33m=\u001b[0m \u001b[0madapter\u001b[0m\u001b[1;33m.\u001b[0m\u001b[0msend\u001b[0m\u001b[1;33m(\u001b[0m\u001b[0mrequest\u001b[0m\u001b[1;33m,\u001b[0m \u001b[1;33m**\u001b[0m\u001b[0mkwargs\u001b[0m\u001b[1;33m)\u001b[0m\u001b[1;33m\u001b[0m\u001b[1;33m\u001b[0m\u001b[0m\n\u001b[0m\u001b[0;32m    656\u001b[0m \u001b[1;33m\u001b[0m\u001b[0m\n\u001b[0;32m    657\u001b[0m         \u001b[1;31m# Total elapsed time of the request (approximately)\u001b[0m\u001b[1;33m\u001b[0m\u001b[1;33m\u001b[0m\u001b[1;33m\u001b[0m\u001b[0m\n",
      "\u001b[1;32m~\\AppData\\Roaming\\Python\\Python38\\site-packages\\requests\\adapters.py\u001b[0m in \u001b[0;36msend\u001b[1;34m(self, request, stream, timeout, verify, cert, proxies)\u001b[0m\n\u001b[0;32m    496\u001b[0m \u001b[1;33m\u001b[0m\u001b[0m\n\u001b[0;32m    497\u001b[0m         \u001b[1;32mexcept\u001b[0m \u001b[1;33m(\u001b[0m\u001b[0mProtocolError\u001b[0m\u001b[1;33m,\u001b[0m \u001b[0msocket\u001b[0m\u001b[1;33m.\u001b[0m\u001b[0merror\u001b[0m\u001b[1;33m)\u001b[0m \u001b[1;32mas\u001b[0m \u001b[0merr\u001b[0m\u001b[1;33m:\u001b[0m\u001b[1;33m\u001b[0m\u001b[1;33m\u001b[0m\u001b[0m\n\u001b[1;32m--> 498\u001b[1;33m             \u001b[1;32mraise\u001b[0m \u001b[0mConnectionError\u001b[0m\u001b[1;33m(\u001b[0m\u001b[0merr\u001b[0m\u001b[1;33m,\u001b[0m \u001b[0mrequest\u001b[0m\u001b[1;33m=\u001b[0m\u001b[0mrequest\u001b[0m\u001b[1;33m)\u001b[0m\u001b[1;33m\u001b[0m\u001b[1;33m\u001b[0m\u001b[0m\n\u001b[0m\u001b[0;32m    499\u001b[0m \u001b[1;33m\u001b[0m\u001b[0m\n\u001b[0;32m    500\u001b[0m         \u001b[1;32mexcept\u001b[0m \u001b[0mMaxRetryError\u001b[0m \u001b[1;32mas\u001b[0m \u001b[0me\u001b[0m\u001b[1;33m:\u001b[0m\u001b[1;33m\u001b[0m\u001b[1;33m\u001b[0m\u001b[0m\n",
      "\u001b[1;31mConnectionError\u001b[0m: ('Connection aborted.', ConnectionResetError(10054, 'An existing connection was forcibly closed by the remote host', None, 10054, None))"
     ]
    }
   ],
   "source": [
    "from linkedin_jobs_pyscraper.models.search.searcher import Searcher\n",
    "from linkedin_jobs_pyscraper.models.filters import filters\n",
    "from linkedin_jobs_pyscraper.linkedin_jobs_scraper import LinkedInJobsPyScraper\n",
    "\n",
    "## create searach query with configurations\n",
    "searcher = Searcher(\n",
    "    search_pages_per_search_term =8,\n",
    "    search_terms = ['data analyst', 'data scientist','business analytics', 'data analytics'],\n",
    "    batch_size = 5,\n",
    "    output_filepath = f'job_search{current_date}.csv',\n",
    "    location = 'Germany'\n",
    "    )\n",
    "\n",
    "search_filter = filters.Filters(\n",
    "    experience= filters.ExperienceLevelFilters.ENTRY_LEVEL,\n",
    "    job_type= filters.TypeFilters.FULL_TIME,\n",
    "    relevance= filters.RelevanceFilters.RECENT,\n",
    "    time= filters.TimeFilters.MONTH\n",
    "    )\n",
    "scraper = LinkedInJobsPyScraper(searcher= searcher, filters=search_filter) \n",
    "scraper.start()"
   ]
  }
 ],
 "metadata": {
  "kernelspec": {
   "display_name": "Python 3",
   "language": "python",
   "name": "python3"
  },
  "language_info": {
   "codemirror_mode": {
    "name": "ipython",
    "version": 3
   },
   "file_extension": ".py",
   "mimetype": "text/x-python",
   "name": "python",
   "nbconvert_exporter": "python",
   "pygments_lexer": "ipython3",
   "version": "3.8.3"
  },
  "toc": {
   "base_numbering": 1,
   "nav_menu": {},
   "number_sections": true,
   "sideBar": true,
   "skip_h1_title": false,
   "title_cell": "Table of Contents",
   "title_sidebar": "Contents",
   "toc_cell": false,
   "toc_position": {},
   "toc_section_display": true,
   "toc_window_display": true
  }
 },
 "nbformat": 4,
 "nbformat_minor": 4
}
